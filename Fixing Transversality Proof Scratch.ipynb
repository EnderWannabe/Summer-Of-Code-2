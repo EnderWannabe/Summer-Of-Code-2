{
 "cells": [
  {
   "cell_type": "code",
   "execution_count": 15,
   "metadata": {},
   "outputs": [
    {
     "data": {
      "text/plain": [
       "3/2*z^4 - 8*z^3 + 3*z^2"
      ]
     },
     "execution_count": 15,
     "metadata": {},
     "output_type": "execute_result"
    }
   ],
   "source": [
    "A.<z>=AffineSpace(QQ,1)\n",
    "d=4\n",
    "k=2\n",
    "B=0\n",
    "for i in range(0,k+1):\n",
    "     b = ((-1)**(k-i))\n",
    "     J=1\n",
    "     for j in range(0,k+1):\n",
    "         if j!=i:\n",
    "             J *= (d-j)*(1/(factorial(k-i)*factorial(i)))\n",
    "     B += b*J*z**(d-i)\n",
    "B"
   ]
  },
  {
   "cell_type": "code",
   "execution_count": 21,
   "metadata": {},
   "outputs": [
    {
     "name": "stdout",
     "output_type": "stream",
     "text": [
      "False\n",
      "False\n",
      "False\n",
      "False\n"
     ]
    }
   ],
   "source": [
    "f = DynamicalSystem_affine(B+1/6)\n",
    "A = f.field_of_definition_periodic(1)\n",
    "F = f.homogenize(1)\n",
    "for prime in A.primes_above(3):\n",
    "    print(F.potential_good_reduction(prime))"
   ]
  },
  {
   "cell_type": "code",
   "execution_count": 78,
   "metadata": {
    "scrolled": false
   },
   "outputs": [
    {
     "ename": "SyntaxError",
     "evalue": "invalid syntax (<ipython-input-78-f1df8d79585d>, line 23)",
     "output_type": "error",
     "traceback": [
      "\u001b[0;36m  File \u001b[0;32m\"<ipython-input-78-f1df8d79585d>\"\u001b[0;36m, line \u001b[0;32m23\u001b[0m\n\u001b[0;31m    print(X.count_points?)\u001b[0m\n\u001b[0m                        ^\u001b[0m\n\u001b[0;31mSyntaxError\u001b[0m\u001b[0;31m:\u001b[0m invalid syntax\n"
     ]
    }
   ],
   "source": [
    "R.<a,c> = QQ[]\n",
    "A.<z> = AffineSpace(R,1)\n",
    "d=4\n",
    "k=2\n",
    "B=0\n",
    "for i in range(0,k+1):\n",
    "     b = ((-1)**(k-i))\n",
    "     J=1\n",
    "     for j in range(0,k+1):\n",
    "         if j!=i:\n",
    "             J *= (d-j)*(1/(factorial(k-i)*factorial(i)))\n",
    "     B += b*J*z**(d-i)\n",
    "f = DynamicalSystem_affine(a*B+c)\n",
    "for i in range(5):\n",
    "    g = f.nth_iterate_map(i)\n",
    "    zero_iterate = g(0)[0]\n",
    "    one_iterate = g(1)[0]\n",
    "    A.<x,y> = AffineSpace(QQ,2)\n",
    "    zero = zero_iterate.subs(a=x,c=y)\n",
    "    one = one_iterate.subs({a:x,c:y})\n",
    "    X = A.subscheme([zero,one])\n",
    "    print('i = ', i)\n",
    "    print(X.count_points?"
   ]
  },
  {
   "cell_type": "code",
   "execution_count": 9,
   "metadata": {},
   "outputs": [
    {
     "name": "stdout",
     "output_type": "stream",
     "text": [
      "False\n",
      "False\n",
      "False\n",
      "False\n"
     ]
    }
   ],
   "source": [
    "P.<x,y> = ProjectiveSpace(QQ,1)\n",
    "f = DynamicalSystem([-x^4 + 4/3*x^3*y + y^4/6, y^4])\n",
    "A = f.field_of_definition_periodic(1)\n",
    "for prime in A.primes_above(3):\n",
    "    print(f.potential_good_reduction(prime))"
   ]
  },
  {
   "cell_type": "code",
   "execution_count": 8,
   "metadata": {},
   "outputs": [
    {
     "name": "stdout",
     "output_type": "stream",
     "text": [
      "3\n"
     ]
    }
   ],
   "source": [
    "print(len(A.primes_above(2)))"
   ]
  },
  {
   "cell_type": "code",
   "execution_count": 18,
   "metadata": {},
   "outputs": [
    {
     "data": {
      "text/plain": [
       "4"
      ]
     },
     "execution_count": 18,
     "metadata": {},
     "output_type": "execute_result"
    }
   ],
   "source": [
    "len(A.primes_above(3))"
   ]
  },
  {
   "cell_type": "code",
   "execution_count": 19,
   "metadata": {},
   "outputs": [
    {
     "data": {
      "text/plain": [
       "3"
      ]
     },
     "execution_count": 19,
     "metadata": {},
     "output_type": "execute_result"
    }
   ],
   "source": [
    "len(A.primes_above(2))"
   ]
  },
  {
   "cell_type": "code",
   "execution_count": 20,
   "metadata": {},
   "outputs": [],
   "source": [
    "f.potential_good_reduction?"
   ]
  },
  {
   "cell_type": "code",
   "execution_count": 49,
   "metadata": {},
   "outputs": [
    {
     "ename": "NotImplementedError",
     "evalue": "",
     "output_type": "error",
     "traceback": [
      "\u001b[0;31m---------------------------------------------------------------------------\u001b[0m",
      "\u001b[0;31mNotImplementedError\u001b[0m                       Traceback (most recent call last)",
      "\u001b[0;32m<ipython-input-49-a8181cf2bf34>\u001b[0m in \u001b[0;36m<module>\u001b[0;34m\u001b[0m\n\u001b[1;32m      1\u001b[0m \u001b[0mQ\u001b[0m\u001b[0;34m=\u001b[0m\u001b[0mP\u001b[0m\u001b[0;34m.\u001b[0m\u001b[0msubscheme\u001b[0m\u001b[0;34m(\u001b[0m\u001b[0mx\u001b[0m\u001b[0;34m+\u001b[0m\u001b[0my\u001b[0m\u001b[0;34m)\u001b[0m\u001b[0;34m\u001b[0m\u001b[0;34m\u001b[0m\u001b[0m\n\u001b[0;32m----> 2\u001b[0;31m \u001b[0mQ\u001b[0m\u001b[0;34m.\u001b[0m\u001b[0mdimension_relative\u001b[0m\u001b[0;34m(\u001b[0m\u001b[0;34m)\u001b[0m\u001b[0;34m\u001b[0m\u001b[0;34m\u001b[0m\u001b[0m\n\u001b[0m",
      "\u001b[0;32m~/Documents/SageDevelopment/local/lib/python3.9/site-packages/sage/schemes/generic/scheme.py\u001b[0m in \u001b[0;36mdimension_relative\u001b[0;34m(self)\u001b[0m\n\u001b[1;32m    557\u001b[0m             \u001b[0mNotImplementedError\u001b[0m\u001b[0;34m\u001b[0m\u001b[0;34m\u001b[0m\u001b[0m\n\u001b[1;32m    558\u001b[0m         \"\"\"\n\u001b[0;32m--> 559\u001b[0;31m         \u001b[0;32mraise\u001b[0m \u001b[0mNotImplementedError\u001b[0m \u001b[0;31m# override in derived class\u001b[0m\u001b[0;34m\u001b[0m\u001b[0;34m\u001b[0m\u001b[0m\n\u001b[0m\u001b[1;32m    560\u001b[0m \u001b[0;34m\u001b[0m\u001b[0m\n\u001b[1;32m    561\u001b[0m     \u001b[0;32mdef\u001b[0m \u001b[0midentity_morphism\u001b[0m\u001b[0;34m(\u001b[0m\u001b[0mself\u001b[0m\u001b[0;34m)\u001b[0m\u001b[0;34m:\u001b[0m\u001b[0;34m\u001b[0m\u001b[0;34m\u001b[0m\u001b[0m\n",
      "\u001b[0;31mNotImplementedError\u001b[0m: "
     ]
    }
   ],
   "source": [
    "Q=P.subscheme(x+y)\n",
    "Q.dimension_relative()"
   ]
  },
  {
   "cell_type": "code",
   "execution_count": 57,
   "metadata": {},
   "outputs": [],
   "source": [
    "def fast_point_matrix(self, source, target):\n",
    "    N = self.dimension_relative()\n",
    "    def get_matrix(S):    \n",
    "        a = matrix(N+1, N+1, [S[j][i] for i in range(N+1) for j in range(N+1)])\n",
    "        b = matrix(N+1, 1, list(S[N+1]))\n",
    "        X = a.solve_right(b)\n",
    "        m = matrix(N+1, N+1, [X[i,0]*S[i][j] for i in range(N+1) for j in range(N+1)])\n",
    "        m = m.transpose()\n",
    "        return m\n",
    "    \n",
    "    zero = [0 for i in range(N)]\n",
    "    T = []\n",
    "    for j in range(N):\n",
    "        z = copy(zero)\n",
    "        z.insert(j, 1)\n",
    "        T.append(self(z))\n",
    "    T.append(self([1 for i in range(N+1)]))\n",
    "    print(T)\n",
    "    m_source = get_matrix(source)\n",
    "    m_target = get_matrix(target)\n",
    "    return m_target*m_source.inverse()"
   ]
  },
  {
   "cell_type": "code",
   "execution_count": 62,
   "metadata": {},
   "outputs": [
    {
     "name": "stdout",
     "output_type": "stream",
     "text": [
      "[(1.00000000000000 : 0.000000000000000 : 0.000000000000000), (0.000000000000000 : 1.00000000000000 : 0.000000000000000), (1.00000000000000 : 1.00000000000000 : 1.00000000000000)]\n"
     ]
    },
    {
     "data": {
      "text/plain": [
       "[False, False, False, False]"
      ]
     },
     "execution_count": 62,
     "metadata": {},
     "output_type": "execute_result"
    }
   ],
   "source": [
    "P1.<a,b,c>=ProjectiveSpace(RR, 2)\n",
    "points_source=[P1([1,4,1]),P1([1,2,2]),P1([3,5,1]),P1([1,-1,1])]\n",
    "points_target=[P1([5,-2,7]),P1([3,-2,3]),P1([6,-5,9]), P1([3,6,7])]\n",
    "m = fast_point_matrix(P1, points_source, points_target)\n",
    "[P1(list(m*vector(list(points_source[i])))) == points_target[i] for i in range(4)]"
   ]
  },
  {
   "cell_type": "code",
   "execution_count": 75,
   "metadata": {},
   "outputs": [
    {
     "data": {
      "text/plain": [
       "7.00000000000000"
      ]
     },
     "execution_count": 75,
     "metadata": {},
     "output_type": "execute_result"
    }
   ],
   "source": [
    "potential_target = ([P1(list(m*vector(list(points_source[i])))) for i in range(4)])\n",
    "potential_target[0][2]*7"
   ]
  },
  {
   "cell_type": "code",
   "execution_count": 14,
   "metadata": {},
   "outputs": [],
   "source": [
    "a = F.as_scheme_morphism()\n",
    "a.dehomogenize??"
   ]
  },
  {
   "cell_type": "code",
   "execution_count": null,
   "metadata": {},
   "outputs": [],
   "source": [
    "F.as_scheme_morphism().dehomogenize"
   ]
  },
  {
   "cell_type": "code",
   "execution_count": null,
   "metadata": {},
   "outputs": [],
   "source": []
  }
 ],
 "metadata": {
  "kernelspec": {
   "display_name": "SageMath 9.3.rc2",
   "language": "sage",
   "name": "sagemath"
  },
  "language_info": {
   "codemirror_mode": {
    "name": "ipython",
    "version": 3
   },
   "file_extension": ".py",
   "mimetype": "text/x-python",
   "name": "python",
   "nbconvert_exporter": "python",
   "pygments_lexer": "ipython3",
   "version": "3.9.2"
  }
 },
 "nbformat": 4,
 "nbformat_minor": 4
}
