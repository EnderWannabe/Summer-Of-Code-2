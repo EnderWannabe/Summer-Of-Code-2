{
 "cells": [
  {
   "cell_type": "code",
   "execution_count": null,
   "metadata": {},
   "outputs": [],
   "source": [
    "A.<x,z>=AffineSpace(QQ,2)\n",
    "t=3\n",
    "#(x^2- t*z^2)^2,4*x*z*(x-z)*(x-t*z)\n",
    "f=DynamicalSystem_affine([(x^2- t*z^2)^2/(4*x*z*(x-z)*(x-t*z)), (x^2+z^2)^2/(4*x*z*(x-z)*(x-t*z))])\n",
    "F=f.homogenize(1)\n",
    "F.is_morphism()"
   ]
  },
  {
   "cell_type": "code",
   "execution_count": 3,
   "metadata": {},
   "outputs": [],
   "source": [
    "def sigma(self,n, chow=False):\n",
    "    #print(self, n)\n",
    "    d = self.degree()\n",
    "    N = self.domain().dimension_relative()\n",
    "    F2 = self.nth_iterate_map(n)\n",
    "    P2 = F2.domain()\n",
    "    T = 1\n",
    "    f = F2\n",
    "    for j in range(N,-1,-1):\n",
    "        #print(\"j:\",j)\n",
    "        X = f.periodic_points(1,return_scheme=True, minimal=False)\n",
    "        Xa = X.affine_patch(j)\n",
    "        fa = f.dehomogenize(j)\n",
    "        Pa = fa.domain()\n",
    "        #print('Pa coordinate ring:', Pa.coordinate_ring())\n",
    "        if chow:\n",
    "            R = PolynomialRing(self.base_ring(),'v', N+N+3, order='lex')\n",
    "            #print('R:', R)\n",
    "            im = [R.gen(i) for i in range(j)] + (N-j)*[0]\n",
    "            R_zero = {R.gen(N):1}\n",
    "            for j in range(N+1,N+N+1):\n",
    "                R_zero.update({R.gen(j):0})\n",
    "            #print('R_zero:', R_zero)\n",
    "            vars = list(R.gens())\n",
    "            t = vars.pop()\n",
    "            w = vars.pop()\n",
    "            vars = vars[:N]\n",
    "        else:\n",
    "            R = PolynomialRing(self.base_ring(),'v', N+2, order='lex')\n",
    "            im = list(R.gens())[:j] + (N-j)*[0]\n",
    "            vars = list(R.gens())\n",
    "            t = vars.pop()\n",
    "            w = vars.pop()\n",
    "        #print(\"im:\",im)\n",
    "        #print t,w\n",
    "\n",
    "        phi = Pa.coordinate_ring().hom(im,R)\n",
    "        #print('phi:', phi)\n",
    "        MS = MatrixSpace(R,N,N)\n",
    "        M = t*MS.one()\n",
    "        #print(list(fa))\n",
    "        try:\n",
    "            g = (M-jacobian([phi(F.numerator())/phi(F.denominator()) for F in fa], vars)).det()\n",
    "            #print \"g:\",g\n",
    "            if chow:\n",
    "                I = R.ideal([phi(h) for h in Xa.defining_polynomials()] + [w*g.denominator()-R.gen(N)*g.numerator() + sum(R.gen(j-1)*R.gen(N+j)*g.denominator() for j in range(1,N+1))])\n",
    "            else:\n",
    "                I = R.ideal([phi(h) for h in Xa.defining_polynomials()] + [w*g.denominator()-g.numerator()])\n",
    "            #print I\n",
    "            G = I.groebner_basis()\n",
    "            #print \"G:\",G[-1]\n",
    "            T = T*G[-1]\n",
    "            #print \"T:\",T\n",
    "            #print T.coefficient(R.gen(2*N+1)**8)\n",
    "            #print T.specialization(R_zero)\n",
    "        except ZeroDivisionError:\n",
    "            #what to do about multiplicities!?\n",
    "            print('Zero Division Error')\n",
    "            print(j, j==0)\n",
    "            infin = self.domain()([1] + N*[0])\n",
    "            if self(infin) == infin:\n",
    "                T *= w-self.multiplier(infin,1).characteristic_polynomial(t)\n",
    "\n",
    "        #print('T:', T)\n",
    "        if chow:\n",
    "            T2 = T.specialization(R_zero)\n",
    "            newR = PolynomialRing(self.base_ring(), 'w,t',2, order='lex')\n",
    "            psi = T2.parent().hom(N*[0]+list(newR.gens()), newR)\n",
    "            #print('newR gens:', newR.gens())\n",
    "            #print(psi(T2).degrees())\n",
    "            #print('T2:', T2)\n",
    "            #print('psi(T2):',psi(T2))\n",
    "            #print('psi:', psi)\n",
    "        else:\n",
    "            T2 = T\n",
    "            newR = PolynomialRing(self.base_ring(), 'w,t',2, order='lex')\n",
    "            psi = T2.parent().hom(N*[0]+list(newR.gens()), newR)\n",
    "            print(psi(T2).degrees())\n",
    "            #print psi(T2)\n",
    "    if chow:\n",
    "        #print('R_zero:', R_zero)\n",
    "        T = T.specialization(R_zero)\n",
    "    return psi(T)\n",
    "\n",
    "def num_sigma(self, n):\n",
    "    fc = self.change_ring(CC)\n",
    "    per= self.periodic_points(n,minimal=False,return_scheme=True).rational_points(F=CC)\n",
    "    mul = []\n",
    "    t=1\n",
    "    for Q in per:\n",
    "        t=t*fc.multiplier(Q,n,check=False).characteristic_polynomial()\n",
    "        c=fc.multiplier(Q,n, check=False).characteristic_polynomial().coefficients(sparse=False)\n",
    "        c.pop(-1) #always monic\n",
    "        mul.append(c)\n",
    "    sig=[]\n",
    "    e = SymmetricFunctions(CC).e()\n",
    "\n",
    "    N = len(mul)\n",
    "    R = CC\n",
    "    for i in range(0,N):\n",
    "        T=[]\n",
    "        for k in range(len(mul[0])):\n",
    "            T.append((R(e([i+1]).expand(N)([m[k] for m in mul]))))\n",
    "        sig.append(T)\n",
    "    return sig,t"
   ]
  },
  {
   "cell_type": "code",
   "execution_count": 17,
   "metadata": {
    "scrolled": false
   },
   "outputs": [
    {
     "ename": "ZeroDivisionError",
     "evalue": "",
     "output_type": "error",
     "traceback": [
      "\u001b[0;31m---------------------------------------------------------------------------\u001b[0m",
      "\u001b[0;31mZeroDivisionError\u001b[0m                         Traceback (most recent call last)",
      "\u001b[0;32m<ipython-input-17-ef2e03bef186>\u001b[0m in \u001b[0;36m<module>\u001b[0;34m\u001b[0m\n\u001b[1;32m      4\u001b[0m \u001b[0;31m#for Q in f.periodic_points(1):\u001b[0m\u001b[0;34m\u001b[0m\u001b[0;34m\u001b[0m\u001b[0;34m\u001b[0m\u001b[0m\n\u001b[1;32m      5\u001b[0m \u001b[0;31m#    print Q,f.multiplier(Q,1).charpoly().factor()\u001b[0m\u001b[0;34m\u001b[0m\u001b[0;34m\u001b[0m\u001b[0;34m\u001b[0m\u001b[0m\n\u001b[0;32m----> 6\u001b[0;31m \u001b[0msigma_polynomial\u001b[0m \u001b[0;34m=\u001b[0m \u001b[0mf\u001b[0m\u001b[0;34m.\u001b[0m\u001b[0msigma_invariants\u001b[0m\u001b[0;34m(\u001b[0m\u001b[0mInteger\u001b[0m\u001b[0;34m(\u001b[0m\u001b[0;36m1\u001b[0m\u001b[0;34m)\u001b[0m\u001b[0;34m,\u001b[0m \u001b[0mreturn_polynomial\u001b[0m\u001b[0;34m=\u001b[0m\u001b[0;32mTrue\u001b[0m\u001b[0;34m)\u001b[0m\u001b[0;34m\u001b[0m\u001b[0;34m\u001b[0m\u001b[0m\n\u001b[0m\u001b[1;32m      7\u001b[0m \u001b[0msigma_polynomial\u001b[0m\u001b[0;34m\u001b[0m\u001b[0;34m\u001b[0m\u001b[0m\n",
      "\u001b[0;32m~/Documents/SageDevelopment/local/lib/python3.9/site-packages/sage/dynamics/arithmetic_dynamics/projective_ds.py\u001b[0m in \u001b[0;36msigma_invariants\u001b[0;34m(self, n, formal, embedding, type, return_polynomial)\u001b[0m\n\u001b[1;32m   4554\u001b[0m                 \u001b[0mphi\u001b[0m \u001b[0;34m=\u001b[0m \u001b[0mPa\u001b[0m\u001b[0;34m.\u001b[0m\u001b[0mcoordinate_ring\u001b[0m\u001b[0;34m(\u001b[0m\u001b[0;34m)\u001b[0m\u001b[0;34m.\u001b[0m\u001b[0mhom\u001b[0m\u001b[0;34m(\u001b[0m\u001b[0mim\u001b[0m\u001b[0;34m,\u001b[0m \u001b[0mR\u001b[0m\u001b[0;34m)\u001b[0m\u001b[0;34m\u001b[0m\u001b[0;34m\u001b[0m\u001b[0m\n\u001b[1;32m   4555\u001b[0m                 \u001b[0mM\u001b[0m \u001b[0;34m=\u001b[0m \u001b[0mt\u001b[0m\u001b[0;34m*\u001b[0m\u001b[0mmatrix\u001b[0m\u001b[0;34m.\u001b[0m\u001b[0midentity\u001b[0m\u001b[0;34m(\u001b[0m\u001b[0mR\u001b[0m\u001b[0;34m,\u001b[0m \u001b[0mN\u001b[0m\u001b[0;34m)\u001b[0m\u001b[0;34m\u001b[0m\u001b[0;34m\u001b[0m\u001b[0m\n\u001b[0;32m-> 4556\u001b[0;31m                 \u001b[0mg\u001b[0m \u001b[0;34m=\u001b[0m \u001b[0;34m(\u001b[0m\u001b[0mM\u001b[0m\u001b[0;34m-\u001b[0m\u001b[0mjacobian\u001b[0m\u001b[0;34m(\u001b[0m\u001b[0;34m[\u001b[0m\u001b[0mphi\u001b[0m\u001b[0;34m(\u001b[0m\u001b[0mF\u001b[0m\u001b[0;34m.\u001b[0m\u001b[0mnumerator\u001b[0m\u001b[0;34m(\u001b[0m\u001b[0;34m)\u001b[0m\u001b[0;34m)\u001b[0m\u001b[0;34m/\u001b[0m\u001b[0mphi\u001b[0m\u001b[0;34m(\u001b[0m\u001b[0mF\u001b[0m\u001b[0;34m.\u001b[0m\u001b[0mdenominator\u001b[0m\u001b[0;34m(\u001b[0m\u001b[0;34m)\u001b[0m\u001b[0;34m)\u001b[0m \u001b[0;32mfor\u001b[0m \u001b[0mF\u001b[0m \u001b[0;32min\u001b[0m \u001b[0mfa\u001b[0m\u001b[0;34m]\u001b[0m\u001b[0;34m,\u001b[0m \u001b[0mvar\u001b[0m\u001b[0;34m)\u001b[0m\u001b[0;34m)\u001b[0m\u001b[0;34m.\u001b[0m\u001b[0mdet\u001b[0m\u001b[0;34m(\u001b[0m\u001b[0;34m)\u001b[0m\u001b[0;34m\u001b[0m\u001b[0;34m\u001b[0m\u001b[0m\n\u001b[0m\u001b[1;32m   4557\u001b[0m                 \u001b[0mL\u001b[0m \u001b[0;34m=\u001b[0m \u001b[0;34m[\u001b[0m\u001b[0mphi\u001b[0m\u001b[0;34m(\u001b[0m\u001b[0mh\u001b[0m\u001b[0;34m)\u001b[0m \u001b[0;32mfor\u001b[0m \u001b[0mh\u001b[0m \u001b[0;32min\u001b[0m \u001b[0mXa\u001b[0m\u001b[0;34m.\u001b[0m\u001b[0mdefining_polynomials\u001b[0m\u001b[0;34m(\u001b[0m\u001b[0;34m)\u001b[0m\u001b[0;34m]\u001b[0m\u001b[0;34m\u001b[0m\u001b[0;34m\u001b[0m\u001b[0m\n\u001b[1;32m   4558\u001b[0m                 \u001b[0mL\u001b[0m \u001b[0;34m+=\u001b[0m \u001b[0;34m[\u001b[0m\u001b[0mw\u001b[0m\u001b[0;34m*\u001b[0m\u001b[0mg\u001b[0m\u001b[0;34m.\u001b[0m\u001b[0mdenominator\u001b[0m\u001b[0;34m(\u001b[0m\u001b[0;34m)\u001b[0m\u001b[0;34m-\u001b[0m\u001b[0mR\u001b[0m\u001b[0;34m.\u001b[0m\u001b[0mgen\u001b[0m\u001b[0;34m(\u001b[0m\u001b[0mN\u001b[0m\u001b[0;34m)\u001b[0m\u001b[0;34m*\u001b[0m\u001b[0mg\u001b[0m\u001b[0;34m.\u001b[0m\u001b[0mnumerator\u001b[0m\u001b[0;34m(\u001b[0m\u001b[0;34m)\u001b[0m \u001b[0;34m+\u001b[0m \u001b[0msum\u001b[0m\u001b[0;34m(\u001b[0m\u001b[0mR\u001b[0m\u001b[0;34m.\u001b[0m\u001b[0mgen\u001b[0m\u001b[0;34m(\u001b[0m\u001b[0mj\u001b[0m\u001b[0;34m-\u001b[0m\u001b[0;36m1\u001b[0m\u001b[0;34m)\u001b[0m\u001b[0;34m*\u001b[0m\u001b[0mR\u001b[0m\u001b[0;34m.\u001b[0m\u001b[0mgen\u001b[0m\u001b[0;34m(\u001b[0m\u001b[0mN\u001b[0m\u001b[0;34m+\u001b[0m\u001b[0mj\u001b[0m\u001b[0;34m)\u001b[0m\u001b[0;34m*\u001b[0m\u001b[0mg\u001b[0m\u001b[0;34m.\u001b[0m\u001b[0mdenominator\u001b[0m\u001b[0;34m(\u001b[0m\u001b[0;34m)\u001b[0m \u001b[0;32mfor\u001b[0m \u001b[0mj\u001b[0m \u001b[0;32min\u001b[0m \u001b[0mrange\u001b[0m\u001b[0;34m(\u001b[0m\u001b[0;36m1\u001b[0m\u001b[0;34m,\u001b[0m\u001b[0mN\u001b[0m\u001b[0;34m+\u001b[0m\u001b[0;36m1\u001b[0m\u001b[0;34m)\u001b[0m\u001b[0;34m)\u001b[0m\u001b[0;34m]\u001b[0m\u001b[0;34m\u001b[0m\u001b[0;34m\u001b[0m\u001b[0m\n",
      "\u001b[0;32m~/Documents/SageDevelopment/local/lib/python3.9/site-packages/sage/dynamics/arithmetic_dynamics/projective_ds.py\u001b[0m in \u001b[0;36m<listcomp>\u001b[0;34m(.0)\u001b[0m\n\u001b[1;32m   4554\u001b[0m                 \u001b[0mphi\u001b[0m \u001b[0;34m=\u001b[0m \u001b[0mPa\u001b[0m\u001b[0;34m.\u001b[0m\u001b[0mcoordinate_ring\u001b[0m\u001b[0;34m(\u001b[0m\u001b[0;34m)\u001b[0m\u001b[0;34m.\u001b[0m\u001b[0mhom\u001b[0m\u001b[0;34m(\u001b[0m\u001b[0mim\u001b[0m\u001b[0;34m,\u001b[0m \u001b[0mR\u001b[0m\u001b[0;34m)\u001b[0m\u001b[0;34m\u001b[0m\u001b[0;34m\u001b[0m\u001b[0m\n\u001b[1;32m   4555\u001b[0m                 \u001b[0mM\u001b[0m \u001b[0;34m=\u001b[0m \u001b[0mt\u001b[0m\u001b[0;34m*\u001b[0m\u001b[0mmatrix\u001b[0m\u001b[0;34m.\u001b[0m\u001b[0midentity\u001b[0m\u001b[0;34m(\u001b[0m\u001b[0mR\u001b[0m\u001b[0;34m,\u001b[0m \u001b[0mN\u001b[0m\u001b[0;34m)\u001b[0m\u001b[0;34m\u001b[0m\u001b[0;34m\u001b[0m\u001b[0m\n\u001b[0;32m-> 4556\u001b[0;31m                 \u001b[0mg\u001b[0m \u001b[0;34m=\u001b[0m \u001b[0;34m(\u001b[0m\u001b[0mM\u001b[0m\u001b[0;34m-\u001b[0m\u001b[0mjacobian\u001b[0m\u001b[0;34m(\u001b[0m\u001b[0;34m[\u001b[0m\u001b[0mphi\u001b[0m\u001b[0;34m(\u001b[0m\u001b[0mF\u001b[0m\u001b[0;34m.\u001b[0m\u001b[0mnumerator\u001b[0m\u001b[0;34m(\u001b[0m\u001b[0;34m)\u001b[0m\u001b[0;34m)\u001b[0m\u001b[0;34m/\u001b[0m\u001b[0mphi\u001b[0m\u001b[0;34m(\u001b[0m\u001b[0mF\u001b[0m\u001b[0;34m.\u001b[0m\u001b[0mdenominator\u001b[0m\u001b[0;34m(\u001b[0m\u001b[0;34m)\u001b[0m\u001b[0;34m)\u001b[0m \u001b[0;32mfor\u001b[0m \u001b[0mF\u001b[0m \u001b[0;32min\u001b[0m \u001b[0mfa\u001b[0m\u001b[0;34m]\u001b[0m\u001b[0;34m,\u001b[0m \u001b[0mvar\u001b[0m\u001b[0;34m)\u001b[0m\u001b[0;34m)\u001b[0m\u001b[0;34m.\u001b[0m\u001b[0mdet\u001b[0m\u001b[0;34m(\u001b[0m\u001b[0;34m)\u001b[0m\u001b[0;34m\u001b[0m\u001b[0;34m\u001b[0m\u001b[0m\n\u001b[0m\u001b[1;32m   4557\u001b[0m                 \u001b[0mL\u001b[0m \u001b[0;34m=\u001b[0m \u001b[0;34m[\u001b[0m\u001b[0mphi\u001b[0m\u001b[0;34m(\u001b[0m\u001b[0mh\u001b[0m\u001b[0;34m)\u001b[0m \u001b[0;32mfor\u001b[0m \u001b[0mh\u001b[0m \u001b[0;32min\u001b[0m \u001b[0mXa\u001b[0m\u001b[0;34m.\u001b[0m\u001b[0mdefining_polynomials\u001b[0m\u001b[0;34m(\u001b[0m\u001b[0;34m)\u001b[0m\u001b[0;34m]\u001b[0m\u001b[0;34m\u001b[0m\u001b[0;34m\u001b[0m\u001b[0m\n\u001b[1;32m   4558\u001b[0m                 \u001b[0mL\u001b[0m \u001b[0;34m+=\u001b[0m \u001b[0;34m[\u001b[0m\u001b[0mw\u001b[0m\u001b[0;34m*\u001b[0m\u001b[0mg\u001b[0m\u001b[0;34m.\u001b[0m\u001b[0mdenominator\u001b[0m\u001b[0;34m(\u001b[0m\u001b[0;34m)\u001b[0m\u001b[0;34m-\u001b[0m\u001b[0mR\u001b[0m\u001b[0;34m.\u001b[0m\u001b[0mgen\u001b[0m\u001b[0;34m(\u001b[0m\u001b[0mN\u001b[0m\u001b[0;34m)\u001b[0m\u001b[0;34m*\u001b[0m\u001b[0mg\u001b[0m\u001b[0;34m.\u001b[0m\u001b[0mnumerator\u001b[0m\u001b[0;34m(\u001b[0m\u001b[0;34m)\u001b[0m \u001b[0;34m+\u001b[0m \u001b[0msum\u001b[0m\u001b[0;34m(\u001b[0m\u001b[0mR\u001b[0m\u001b[0;34m.\u001b[0m\u001b[0mgen\u001b[0m\u001b[0;34m(\u001b[0m\u001b[0mj\u001b[0m\u001b[0;34m-\u001b[0m\u001b[0;36m1\u001b[0m\u001b[0;34m)\u001b[0m\u001b[0;34m*\u001b[0m\u001b[0mR\u001b[0m\u001b[0;34m.\u001b[0m\u001b[0mgen\u001b[0m\u001b[0;34m(\u001b[0m\u001b[0mN\u001b[0m\u001b[0;34m+\u001b[0m\u001b[0mj\u001b[0m\u001b[0;34m)\u001b[0m\u001b[0;34m*\u001b[0m\u001b[0mg\u001b[0m\u001b[0;34m.\u001b[0m\u001b[0mdenominator\u001b[0m\u001b[0;34m(\u001b[0m\u001b[0;34m)\u001b[0m \u001b[0;32mfor\u001b[0m \u001b[0mj\u001b[0m \u001b[0;32min\u001b[0m \u001b[0mrange\u001b[0m\u001b[0;34m(\u001b[0m\u001b[0;36m1\u001b[0m\u001b[0;34m,\u001b[0m\u001b[0mN\u001b[0m\u001b[0;34m+\u001b[0m\u001b[0;36m1\u001b[0m\u001b[0;34m)\u001b[0m\u001b[0;34m)\u001b[0m\u001b[0;34m]\u001b[0m\u001b[0;34m\u001b[0m\u001b[0;34m\u001b[0m\u001b[0m\n",
      "\u001b[0;32m~/Documents/SageDevelopment/local/lib/python3.9/site-packages/sage/structure/element.pyx\u001b[0m in \u001b[0;36msage.structure.element.Element.__truediv__ (build/cythonized/sage/structure/element.c:13152)\u001b[0;34m()\u001b[0m\n\u001b[1;32m   1733\u001b[0m         \u001b[0mcdef\u001b[0m \u001b[0mint\u001b[0m \u001b[0mcl\u001b[0m \u001b[0;34m=\u001b[0m \u001b[0mclassify_elements\u001b[0m\u001b[0;34m(\u001b[0m\u001b[0mleft\u001b[0m\u001b[0;34m,\u001b[0m \u001b[0mright\u001b[0m\u001b[0;34m)\u001b[0m\u001b[0;34m\u001b[0m\u001b[0;34m\u001b[0m\u001b[0m\n\u001b[1;32m   1734\u001b[0m         \u001b[0;32mif\u001b[0m \u001b[0mHAVE_SAME_PARENT\u001b[0m\u001b[0;34m(\u001b[0m\u001b[0mcl\u001b[0m\u001b[0;34m)\u001b[0m\u001b[0;34m:\u001b[0m\u001b[0;34m\u001b[0m\u001b[0;34m\u001b[0m\u001b[0m\n\u001b[0;32m-> 1735\u001b[0;31m             \u001b[0;32mreturn\u001b[0m \u001b[0;34m(\u001b[0m\u001b[0;34m<\u001b[0m\u001b[0mElement\u001b[0m\u001b[0;34m>\u001b[0m\u001b[0mleft\u001b[0m\u001b[0;34m)\u001b[0m\u001b[0;34m.\u001b[0m\u001b[0m_div_\u001b[0m\u001b[0;34m(\u001b[0m\u001b[0mright\u001b[0m\u001b[0;34m)\u001b[0m\u001b[0;34m\u001b[0m\u001b[0;34m\u001b[0m\u001b[0m\n\u001b[0m\u001b[1;32m   1736\u001b[0m         \u001b[0;32mif\u001b[0m \u001b[0mBOTH_ARE_ELEMENT\u001b[0m\u001b[0;34m(\u001b[0m\u001b[0mcl\u001b[0m\u001b[0;34m)\u001b[0m\u001b[0;34m:\u001b[0m\u001b[0;34m\u001b[0m\u001b[0;34m\u001b[0m\u001b[0m\n\u001b[1;32m   1737\u001b[0m             \u001b[0;32mreturn\u001b[0m \u001b[0mcoercion_model\u001b[0m\u001b[0;34m.\u001b[0m\u001b[0mbin_op\u001b[0m\u001b[0;34m(\u001b[0m\u001b[0mleft\u001b[0m\u001b[0;34m,\u001b[0m \u001b[0mright\u001b[0m\u001b[0;34m,\u001b[0m \u001b[0mtruediv\u001b[0m\u001b[0;34m)\u001b[0m\u001b[0;34m\u001b[0m\u001b[0;34m\u001b[0m\u001b[0m\n",
      "\u001b[0;32m~/Documents/SageDevelopment/local/lib/python3.9/site-packages/sage/rings/polynomial/multi_polynomial_libsingular.pyx\u001b[0m in \u001b[0;36msage.rings.polynomial.multi_polynomial_libsingular.MPolynomial_libsingular._div_ (build/cythonized/sage/rings/polynomial/multi_polynomial_libsingular.cpp:22155)\u001b[0;34m()\u001b[0m\n\u001b[1;32m   2360\u001b[0m         \u001b[0;32mif\u001b[0m \u001b[0mp_IsConstant\u001b[0m\u001b[0;34m(\u001b[0m\u001b[0mright\u001b[0m\u001b[0;34m.\u001b[0m\u001b[0m_poly\u001b[0m\u001b[0;34m,\u001b[0m \u001b[0mright\u001b[0m\u001b[0;34m.\u001b[0m\u001b[0m_parent_ring\u001b[0m\u001b[0;34m)\u001b[0m\u001b[0;34m:\u001b[0m\u001b[0;34m\u001b[0m\u001b[0;34m\u001b[0m\u001b[0m\n\u001b[1;32m   2361\u001b[0m             \u001b[0;32mif\u001b[0m \u001b[0mis_field\u001b[0m\u001b[0;34m:\u001b[0m\u001b[0;34m\u001b[0m\u001b[0;34m\u001b[0m\u001b[0m\n\u001b[0;32m-> 2362\u001b[0;31m                 \u001b[0msingular_polynomial_div_coeff\u001b[0m\u001b[0;34m(\u001b[0m\u001b[0;34m&\u001b[0m\u001b[0mp\u001b[0m\u001b[0;34m,\u001b[0m \u001b[0mleft\u001b[0m\u001b[0;34m.\u001b[0m\u001b[0m_poly\u001b[0m\u001b[0;34m,\u001b[0m \u001b[0mright\u001b[0m\u001b[0;34m.\u001b[0m\u001b[0m_poly\u001b[0m\u001b[0;34m,\u001b[0m \u001b[0mright\u001b[0m\u001b[0;34m.\u001b[0m\u001b[0m_parent_ring\u001b[0m\u001b[0;34m)\u001b[0m\u001b[0;34m\u001b[0m\u001b[0;34m\u001b[0m\u001b[0m\n\u001b[0m\u001b[1;32m   2363\u001b[0m                 \u001b[0;32mreturn\u001b[0m \u001b[0mnew_MP\u001b[0m\u001b[0;34m(\u001b[0m\u001b[0mleft\u001b[0m\u001b[0;34m.\u001b[0m\u001b[0m_parent\u001b[0m\u001b[0;34m,\u001b[0m \u001b[0mp\u001b[0m\u001b[0;34m)\u001b[0m\u001b[0;34m\u001b[0m\u001b[0;34m\u001b[0m\u001b[0m\n\u001b[1;32m   2364\u001b[0m             \u001b[0;32melse\u001b[0m\u001b[0;34m:\u001b[0m\u001b[0;34m\u001b[0m\u001b[0;34m\u001b[0m\u001b[0m\n",
      "\u001b[0;32m~/Documents/SageDevelopment/local/lib/python3.9/site-packages/sage/libs/singular/polynomial.pyx\u001b[0m in \u001b[0;36msage.libs.singular.polynomial.singular_polynomial_div_coeff (build/cythonized/sage/libs/singular/polynomial.cpp:4962)\u001b[0;34m()\u001b[0m\n\u001b[1;32m    342\u001b[0m     \"\"\"\n\u001b[1;32m    343\u001b[0m     \u001b[0;32mif\u001b[0m \u001b[0mq\u001b[0m \u001b[0;34m==\u001b[0m \u001b[0mNULL\u001b[0m\u001b[0;34m:\u001b[0m\u001b[0;34m\u001b[0m\u001b[0;34m\u001b[0m\u001b[0m\n\u001b[0;32m--> 344\u001b[0;31m         \u001b[0;32mraise\u001b[0m \u001b[0mZeroDivisionError\u001b[0m\u001b[0;34m\u001b[0m\u001b[0;34m\u001b[0m\u001b[0m\n\u001b[0m\u001b[1;32m    345\u001b[0m     \u001b[0msig_on\u001b[0m\u001b[0;34m(\u001b[0m\u001b[0;34m)\u001b[0m\u001b[0;34m\u001b[0m\u001b[0;34m\u001b[0m\u001b[0m\n\u001b[1;32m    346\u001b[0m     \u001b[0mcdef\u001b[0m \u001b[0mnumber\u001b[0m \u001b[0;34m*\u001b[0m\u001b[0mn\u001b[0m \u001b[0;34m=\u001b[0m \u001b[0mp_GetCoeff\u001b[0m\u001b[0;34m(\u001b[0m\u001b[0mq\u001b[0m\u001b[0;34m,\u001b[0m \u001b[0mr\u001b[0m\u001b[0;34m)\u001b[0m\u001b[0;34m\u001b[0m\u001b[0;34m\u001b[0m\u001b[0m\n",
      "\u001b[0;31mZeroDivisionError\u001b[0m: "
     ]
    }
   ],
   "source": [
    "P.<x,y,z>=ProjectiveSpace(QQ,2)\n",
    "f=DynamicalSystem([x^2,z^2,y^2])\n",
    "#f=DynamicalSystem([x^4-2*x^3*y-x^2*y^2+3*x*y^3,y^4])\n",
    "#for Q in f.periodic_points(1):\n",
    "#    print Q,f.multiplier(Q,1).charpoly().factor()\n",
    "sigma_polynomial = f.sigma_invariants(1, return_polynomial=True)\n",
    "sigma_polynomial"
   ]
  },
  {
   "cell_type": "code",
   "execution_count": 9,
   "metadata": {
    "scrolled": false
   },
   "outputs": [
    {
     "name": "stdout",
     "output_type": "stream",
     "text": [
      "w^7 - 7*w^6*t^2 + 10*w^6*t - 4*w^6 + 21*w^5*t^4 - 60*w^5*t^3 + 44*w^5*t^2 + 8*w^5*t - 32*w^5 - 35*w^4*t^6 + 150*w^4*t^5 - 160*w^4*t^4 - 80*w^4*t^3 + 272*w^4*t^2 - 128*w^4*t + 35*w^3*t^8 - 200*w^3*t^7 + 280*w^3*t^6 + 240*w^3*t^5 - 864*w^3*t^4 + 480*w^3*t^3 + 128*w^3*t^2 - 21*w^2*t^10 + 150*w^2*t^9 - 260*w^2*t^8 - 320*w^2*t^7 + 1280*w^2*t^6 - 672*w^2*t^5 - 768*w^2*t^4 + 512*w^2*t^3 + 7*w*t^12 - 60*w*t^11 + 124*w*t^10 + 200*w*t^9 - 896*w*t^8 + 416*w*t^7 + 1152*w*t^6 - 1024*w*t^5 - t^14 + 10*t^13 - 24*t^12 - 48*t^11 + 240*t^10 - 96*t^9 - 512*t^8 + 512*t^7\n",
      "14 0\n",
      "13 1\n",
      "13 0\n",
      "12 2\n",
      "12 1\n",
      "12 0\n",
      "11 3\n",
      "11 2\n",
      "11 1\n",
      "11 0\n",
      "10 4\n",
      "10 3\n",
      "10 2\n",
      "10 1\n",
      "10 0\n",
      "9 5\n",
      "9 4\n",
      "9 3\n",
      "9 2\n",
      "9 1\n",
      "9 0\n",
      "8 6\n",
      "8 5\n",
      "8 4\n",
      "8 3\n",
      "8 2\n",
      "8 1\n",
      "8 0\n",
      "7 7\n",
      "7 6\n",
      "7 5\n",
      "7 4\n",
      "7 3\n",
      "7 2\n",
      "7 1\n",
      "7 0\n",
      "6 8\n",
      "6 7\n",
      "6 6\n",
      "6 5\n",
      "6 4\n",
      "6 3\n",
      "6 2\n",
      "6 1\n",
      "6 0\n",
      "5 9\n",
      "5 8\n",
      "5 7\n",
      "5 6\n",
      "5 5\n",
      "5 4\n",
      "5 3\n",
      "5 2\n",
      "5 1\n",
      "5 0\n",
      "4 10\n",
      "4 9\n",
      "4 8\n",
      "4 7\n",
      "4 6\n",
      "4 5\n",
      "4 4\n",
      "4 3\n",
      "4 2\n",
      "4 1\n",
      "4 0\n",
      "3 11\n",
      "3 10\n",
      "3 9\n",
      "3 8\n",
      "3 7\n",
      "3 6\n",
      "3 5\n",
      "3 4\n",
      "3 3\n",
      "3 2\n",
      "3 1\n",
      "3 0\n",
      "2 12\n",
      "2 11\n",
      "2 10\n",
      "2 9\n",
      "2 8\n",
      "2 7\n",
      "2 6\n",
      "2 5\n",
      "2 4\n",
      "2 3\n",
      "2 2\n",
      "2 1\n",
      "2 0\n",
      "1 13\n",
      "1 12\n",
      "1 11\n",
      "1 10\n",
      "1 9\n",
      "1 8\n",
      "1 7\n",
      "1 6\n",
      "1 5\n",
      "1 4\n",
      "1 3\n",
      "1 2\n",
      "1 1\n",
      "1 0\n",
      "0 14\n",
      "0 13\n",
      "0 12\n",
      "0 11\n",
      "0 10\n",
      "0 9\n",
      "0 8\n",
      "0 7\n",
      "0 6\n",
      "0 5\n",
      "0 4\n",
      "0 3\n",
      "0 2\n",
      "0 1\n",
      "0 0\n"
     ]
    },
    {
     "data": {
      "text/plain": [
       "[0,\n",
       " 0,\n",
       " 0,\n",
       " 0,\n",
       " 0,\n",
       " 0,\n",
       " 0,\n",
       " 0,\n",
       " 0,\n",
       " 0,\n",
       " 0,\n",
       " 0,\n",
       " 0,\n",
       " 0,\n",
       " 0,\n",
       " 0,\n",
       " 0,\n",
       " 0,\n",
       " 0,\n",
       " 0,\n",
       " 0,\n",
       " 0,\n",
       " 0,\n",
       " 0,\n",
       " 0,\n",
       " 0,\n",
       " 0,\n",
       " 0,\n",
       " 0,\n",
       " 0,\n",
       " 0,\n",
       " 0,\n",
       " 0,\n",
       " 0,\n",
       " 0,\n",
       " 1,\n",
       " 0,\n",
       " 0,\n",
       " 0,\n",
       " 0,\n",
       " 0,\n",
       " 0,\n",
       " -7,\n",
       " 10,\n",
       " -4,\n",
       " 0,\n",
       " 0,\n",
       " 0,\n",
       " 0,\n",
       " 0,\n",
       " 21,\n",
       " -60,\n",
       " 44,\n",
       " 8,\n",
       " -32,\n",
       " 0,\n",
       " 0,\n",
       " 0,\n",
       " 0,\n",
       " -35,\n",
       " 150,\n",
       " -160,\n",
       " -80,\n",
       " 272,\n",
       " -128,\n",
       " 0,\n",
       " 0,\n",
       " 0,\n",
       " 0,\n",
       " 35,\n",
       " -200,\n",
       " 280,\n",
       " 240,\n",
       " -864,\n",
       " 480,\n",
       " 128,\n",
       " 0,\n",
       " 0,\n",
       " 0,\n",
       " 0,\n",
       " -21,\n",
       " 150,\n",
       " -260,\n",
       " -320,\n",
       " 1280,\n",
       " -672,\n",
       " -768,\n",
       " 512,\n",
       " 0,\n",
       " 0,\n",
       " 0,\n",
       " 0,\n",
       " 7,\n",
       " -60,\n",
       " 124,\n",
       " 200,\n",
       " -896,\n",
       " 416,\n",
       " 1152,\n",
       " -1024,\n",
       " 0,\n",
       " 0,\n",
       " 0,\n",
       " 0,\n",
       " 0,\n",
       " -1,\n",
       " 10,\n",
       " -24,\n",
       " -48,\n",
       " 240,\n",
       " -96,\n",
       " -512,\n",
       " 512,\n",
       " 0,\n",
       " 0,\n",
       " 0,\n",
       " 0,\n",
       " 0,\n",
       " 0,\n",
       " 0]"
      ]
     },
     "execution_count": 9,
     "metadata": {},
     "output_type": "execute_result"
    }
   ],
   "source": [
    "P.<x,y,z>=ProjectiveSpace(QQ,2)\n",
    "f=DynamicalSystem([x^2-2*x*y,y^2,z^2])\n",
    "#f=DynamicalSystem([x^4-2*x^3*y-x^2*y^2+3*x*y^3,y^4])\n",
    "#for Q in f.periodic_points(1):\n",
    "#    print Q,f.multiplier(Q,1).charpoly().factor()\n",
    "sigma_polynomial = (f.sigma_invariants(1, return_polynomial=True))\n",
    "sigmas = []\n",
    "sigma_dictionary = dict([list(reversed(i)) for i in list(sigma_polynomial)])\n",
    "degree = sigma_polynomial.degree()\n",
    "print(sigma_polynomial)\n",
    "for i in range(degree, -1, -1):\n",
    "    for j in range(degree-i, -1, -1):\n",
    "        print(i, j)\n",
    "        sigmas.append(sigma_dictionary.pop(w**i*t**j, 0))\n",
    "sigmas"
   ]
  },
  {
   "cell_type": "code",
   "execution_count": 1,
   "metadata": {},
   "outputs": [
    {
     "data": {
      "text/plain": [
       "w^3 - 3*w^2*t + 2*w^2 + 3*w*t^2 - 4*w*t - 8*w - t^3 + 2*t^2 + 8*t"
      ]
     },
     "execution_count": 1,
     "metadata": {},
     "output_type": "execute_result"
    }
   ],
   "source": [
    "P.<w,t> = ProjectiveSpace(QQ,1)\n",
    "f=DynamicalSystem([w^2-2*w*t,t^2])\n",
    "sigmas = f.sigma_invariants(1, return_polynomial=True)\n",
    "#sigma(f,1,chow=True)\n",
    "sigmas"
   ]
  },
  {
   "cell_type": "code",
   "execution_count": 11,
   "metadata": {},
   "outputs": [
    {
     "data": {
      "text/plain": [
       "-t^3 + 6*t^2 - 11*t + 6"
      ]
     },
     "execution_count": 11,
     "metadata": {},
     "output_type": "execute_result"
    }
   ],
   "source": [
    "R.<w,t>=QQ[]\n",
    "\n",
    "((w-(t-1))*(w-(t-2))*(w-(t-3))).specialization({w:0})"
   ]
  },
  {
   "cell_type": "code",
   "execution_count": 4,
   "metadata": {},
   "outputs": [
    {
     "data": {
      "text/plain": [
       "[2, -8, 0]"
      ]
     },
     "execution_count": 4,
     "metadata": {},
     "output_type": "execute_result"
    }
   ],
   "source": [
    "f.sigma_invariants(1)"
   ]
  },
  {
   "cell_type": "code",
   "execution_count": 3,
   "metadata": {},
   "outputs": [
    {
     "name": "stdout",
     "output_type": "stream",
     "text": [
      "Dynamical System of Projective Space of dimension 1 over Rational Field\n",
      "  Defn: Defined on coordinates by sending (x : y) to\n",
      "        (x^2 - 2*x*y : y^2) 1\n",
      "j: 1\n",
      "im: [v0]\n",
      "[x^2 - 2*x]\n",
      "(2, 2)\n",
      "j: 0\n",
      "im: [0]\n",
      "[y^2/(-2*y + 1)]\n",
      "(3, 3)\n"
     ]
    },
    {
     "data": {
      "text/plain": [
       "w^3 - 3*w^2*t + 2*w^2 + 3*w*t^2 - 4*w*t - 8*w - t^3 + 2*t^2 + 8*t"
      ]
     },
     "execution_count": 3,
     "metadata": {},
     "output_type": "execute_result"
    }
   ],
   "source": [
    "sigma(f,1)"
   ]
  },
  {
   "cell_type": "code",
   "execution_count": null,
   "metadata": {},
   "outputs": [],
   "source": []
  },
  {
   "cell_type": "code",
   "execution_count": 11,
   "metadata": {},
   "outputs": [],
   "source": [
    "f.sigma_invariants?"
   ]
  },
  {
   "cell_type": "code",
   "execution_count": 34,
   "metadata": {},
   "outputs": [
    {
     "name": "stdout",
     "output_type": "stream",
     "text": [
      "(-1 : 1) x - 3\n",
      "(0 : 1) x\n",
      "(1 : 0) x\n",
      "(1 : 1) x - 3\n"
     ]
    }
   ],
   "source": [
    "P.<x,y>=ProjectiveSpace(QQ,1)\n",
    "f=DynamicalSystem([x^3,y^3])\n",
    "for Q in f.periodic_points(1):\n",
    "    print Q,f.multiplier(Q,1).charpoly().factor()"
   ]
  },
  {
   "cell_type": "code",
   "execution_count": 14,
   "metadata": {},
   "outputs": [
    {
     "data": {
      "text/plain": [
       "x^4 - 2*x^3 - x^2 + 3*x"
      ]
     },
     "execution_count": 14,
     "metadata": {},
     "output_type": "execute_result"
    }
   ],
   "source": [
    "(x-1)*x*(x+1)*(x-2) + x"
   ]
  },
  {
   "cell_type": "code",
   "execution_count": 38,
   "metadata": {},
   "outputs": [
    {
     "name": "stdout",
     "output_type": "stream",
     "text": [
      "(-2 : -1 : -1 : 1) (x - 9) * (x - 3)^2\n",
      "(-2 : -1 : 0 : 1) (x - 9) * (x - 3) * x\n",
      "(-2 : -1 : 1 : 0) (x - 9) * (x - 3) * x\n",
      "(-2 : -1 : 1 : 1) (x - 9) * (x - 3)^2\n",
      "(-2 : 1 : -1 : 1) (x - 9) * (x - 3)^2\n",
      "(-2 : 1 : 0 : 0) (x - 9) * x^2\n",
      "(-2 : 1 : 0 : 1) (x - 9) * (x - 3) * x\n",
      "(-2 : 1 : 1 : 0) (x - 9) * (x - 3) * x\n",
      "(-2 : 1 : 1 : 1) (x - 9) * (x - 3)^2\n",
      "(-1 : 0 : -1 : 1) x * (x - 3)^2\n",
      "(-1 : 0 : 0 : 1) (x - 3) * x^2\n",
      "(-1 : 0 : 1 : 0) (x - 3) * x^2\n",
      "(-1 : 0 : 1 : 1) x * (x - 3)^2\n",
      "(0 : -1 : -1 : 1) (x + 3) * (x - 3)^2\n",
      "(0 : -1 : 0 : 1) (x - 3) * x * (x + 3)\n",
      "(0 : -1 : 1 : 0) (x - 3) * x * (x + 3)\n",
      "(0 : -1 : 1 : 1) (x + 3) * (x - 3)^2\n",
      "(0 : 0 : -1 : 1) (x - 3) * x^2\n",
      "(0 : 0 : 0 : 1) x^3\n",
      "(0 : 0 : 1 : 0) x^3\n",
      "(0 : 0 : 1 : 1) (x - 3) * x^2\n",
      "(0 : 1 : -1 : 1) (x + 3) * (x - 3)^2\n",
      "(0 : 1 : 0 : 0) (x + 3) * x^2\n",
      "(0 : 1 : 0 : 1) (x - 3) * x * (x + 3)\n",
      "(0 : 1 : 1 : 0) (x - 3) * x * (x + 3)\n",
      "(0 : 1 : 1 : 1) (x + 3) * (x - 3)^2\n",
      "(1 : 0 : -1 : 1) x * (x - 3)^2\n",
      "(1 : 0 : 0 : 0) x^3\n",
      "(1 : 0 : 0 : 1) (x - 3) * x^2\n",
      "(1 : 0 : 1 : 0) (x - 3) * x^2\n",
      "(1 : 0 : 1 : 1) x * (x - 3)^2\n",
      "(2 : -1 : -1 : 1) (x - 9) * (x - 3)^2\n",
      "(2 : -1 : 0 : 1) (x - 9) * (x - 3) * x\n",
      "(2 : -1 : 1 : 0) (x - 9) * (x - 3) * x\n",
      "(2 : -1 : 1 : 1) (x - 9) * (x - 3)^2\n",
      "(2 : 1 : -1 : 1) (x - 9) * (x - 3)^2\n",
      "(2 : 1 : 0 : 0) (x - 9) * x^2\n",
      "(2 : 1 : 0 : 1) (x - 9) * (x - 3) * x\n",
      "(2 : 1 : 1 : 0) (x - 9) * (x - 3) * x\n",
      "(2 : 1 : 1 : 1) (x - 9) * (x - 3)^2\n"
     ]
    }
   ],
   "source": [
    "P.<x,y,z,w>=ProjectiveSpace(QQ,3)\n",
    "f=DynamicalSystem([x^3-3*x*y^2,y^3,z^3,w^3])\n",
    "for Q in f.periodic_points(1):\n",
    "    print Q,f.multiplier(Q,1).charpoly().factor()"
   ]
  },
  {
   "cell_type": "code",
   "execution_count": 10,
   "metadata": {},
   "outputs": [
    {
     "data": {
      "text/plain": [
       "[(-2 : -1 : -1 : 1),\n",
       " (-2 : -1 : 0 : 1),\n",
       " (-2 : -1 : 1 : 0),\n",
       " (-2 : -1 : 1 : 1),\n",
       " (-2 : 1 : -1 : 1),\n",
       " (-2 : 1 : 0 : 0),\n",
       " (-2 : 1 : 0 : 1),\n",
       " (-2 : 1 : 1 : 0),\n",
       " (-2 : 1 : 1 : 1),\n",
       " (-1 : 0 : -1 : 1),\n",
       " (-1 : 0 : 0 : 1),\n",
       " (-1 : 0 : 1 : 0),\n",
       " (-1 : 0 : 1 : 1),\n",
       " (0 : -1 : -1 : 1),\n",
       " (0 : -1 : 0 : 1),\n",
       " (0 : -1 : 1 : 0),\n",
       " (0 : -1 : 1 : 1),\n",
       " (0 : 0 : -1 : 1),\n",
       " (0 : 0 : 0 : 1),\n",
       " (0 : 0 : 1 : 0),\n",
       " (0 : 0 : 1 : 1),\n",
       " (0 : 1 : -1 : 1),\n",
       " (0 : 1 : 0 : 0),\n",
       " (0 : 1 : 0 : 1),\n",
       " (0 : 1 : 1 : 0),\n",
       " (0 : 1 : 1 : 1),\n",
       " (1 : 0 : -1 : 1),\n",
       " (1 : 0 : 0 : 0),\n",
       " (1 : 0 : 0 : 1),\n",
       " (1 : 0 : 1 : 0),\n",
       " (1 : 0 : 1 : 1),\n",
       " (2 : -1 : -1 : 1),\n",
       " (2 : -1 : 0 : 1),\n",
       " (2 : -1 : 1 : 0),\n",
       " (2 : -1 : 1 : 1),\n",
       " (2 : 1 : -1 : 1),\n",
       " (2 : 1 : 0 : 0),\n",
       " (2 : 1 : 0 : 1),\n",
       " (2 : 1 : 1 : 0),\n",
       " (2 : 1 : 1 : 1)]"
      ]
     },
     "execution_count": 10,
     "metadata": {},
     "output_type": "execute_result"
    }
   ],
   "source": [
    "P.<x,y,z,w>=ProjectiveSpace(QQ,3)\n",
    "f=DynamicalSystem([x^3-3*x*y^2,y^3,z^3,w^3])\n",
    "f.periodic_points(1)"
   ]
  },
  {
   "cell_type": "code",
   "execution_count": 9,
   "metadata": {},
   "outputs": [
    {
     "data": {
      "text/plain": [
       "40"
      ]
     },
     "execution_count": 9,
     "metadata": {},
     "output_type": "execute_result"
    }
   ],
   "source": [
    "3^3+3^2+3+1"
   ]
  },
  {
   "cell_type": "code",
   "execution_count": 20,
   "metadata": {},
   "outputs": [
    {
     "data": {
      "text/plain": [
       "z^4 + (-2*b)*z^2*w^2 + (-8)*z*w^3 + b^2*w^4"
      ]
     },
     "execution_count": 20,
     "metadata": {},
     "output_type": "execute_result"
    }
   ],
   "source": [
    "S.<a,b>=QQ[]\n",
    "P1.<u,v>=ProjectiveSpace(S,1)\n",
    "F = P1.Lattes_map(EllipticCurve(S,[0,a]),2)\n",
    "G = P1.Lattes_map(EllipticCurve(S,[b,1]),2)\n",
    "F,G\n",
    "P3.<x,y,z,w>=ProjectiveSpace(S,3)\n",
    "phi=P1.coordinate_ring().hom([z,w],P3.coordinate_ring())\n",
    "phi(G[0])"
   ]
  },
  {
   "cell_type": "code",
   "execution_count": 68,
   "metadata": {},
   "outputs": [
    {
     "name": "stdout",
     "output_type": "stream",
     "text": [
      "True\n",
      "[u0 - x0*x2, u1 - x0*x3, u2 - x1*x2, u3 - x1*x3, x0^4*x2^4 + (-8*a)*x0^4*x2*x3^3]\n",
      "[u0 - x0*x2, u1 - x0*x3, u2 - x1*x2, u3 - x1*x3, x0^4*x2^3*x3 + a*x0^4*x3^4]\n",
      "[u0 - x0*x2, u1 - x0*x3, u2 - x1*x2, u3 - x1*x3, x1^4*x2^4 + (-2*b)*x1^4*x2^2*x3^2 + (-8)*x1^4*x2*x3^3 + b^2*x1^4*x3^4]\n"
     ]
    },
    {
     "data": {
      "text/plain": [
       "[u0 - x0*x2, u1 - x0*x3, u2 - x1*x2, u3 - x1*x3, x1^4*x2^3*x3 + b*x1^4*x2*x3^3 + x1^4*x3^4]"
      ]
     },
     "execution_count": 68,
     "metadata": {},
     "output_type": "execute_result"
    }
   ],
   "source": [
    "S1.<a,b>=QQ[]\n",
    "S=FractionField(S1)\n",
    "P1.<x,y>=ProjectiveSpace(S,1)\n",
    "F = P1.Lattes_map(EllipticCurve(S,[0,a]),2)\n",
    "G = P1.Lattes_map(EllipticCurve(S,[b,1]),2)\n",
    "F,G\n",
    "P3.<x,y,z,w>=ProjectiveSpace(S,3)\n",
    "phi=P1.coordinate_ring().hom([z,w],P3.coordinate_ring())\n",
    "R=P3.coordinate_ring()\n",
    "f=DynamicalSystem([R(F[0]),R(F[1]),phi(G[0]),phi(G[1])])\n",
    "print f.is_morphism()\n",
    "(P1*P1).segre_embedding()\n",
    "\n",
    "R.<u0,u1,u2,u3,x0,x1,x2,x3>=PolynomialRing(S,order='lex')\n",
    "x=x0*x2\n",
    "y=x0*x3\n",
    "z=x1*x2\n",
    "w=x1*x3\n",
    "I=R.ideal([u0-x0*x2, u1-x0*x3, u2-x1*x2,u3-x1*x3, 1/4*x^4 + (-2*a)*x*y^3])#, x^3*y + y^4, 1/4*z^4 - 2*z*w^3, z^3*w + w^4])\n",
    "print I.groebner_basis()\n",
    "I=R.ideal([u0-x0*x2, u1-x0*x3, u2-x1*x2,u3-x1*x3, x^3*y + a*y^4])\n",
    "print I.groebner_basis()\n",
    "I=R.ideal([u0-x0*x2, u1-x0*x3, u2-x1*x2,u3-x1*x3, 1/4*z^4 + (-1/2*b)*z^2*w^2 + (-2)*z*w^3 + 1/4*b^2*w^4])\n",
    "print I.groebner_basis()\n",
    "I=R.ideal([u0-x0*x2, u1-x0*x3, u2-x1*x2,u3-x1*x3, z^3*w + b*z*w^3 + w^4])\n",
    "I.groebner_basis()"
   ]
  },
  {
   "cell_type": "code",
   "execution_count": null,
   "metadata": {},
   "outputs": [
    {
     "name": "stdout",
     "output_type": "stream",
     "text": [
      "Dynamical System of Projective Space of dimension 3 over Fraction Field of Multivariate Polynomial Ring in a, b over Finite Field of size 7\n",
      "  Defn: Defined on coordinates by sending (x : y : z : w) to\n",
      "        (x^4 + (-a)*x*y^3 : x^3*y + a*y^4 : z^4 + (-2*b)*z^2*w^2 - z*w^3 + b^2*w^4 : z^3*w + b*z*w^3 + w^4) 1\n",
      "j: 3\n",
      "im: [v0, v1, v2]\n",
      "[(x0^4 + (-a)*x0*x1^3)/(x2^3 + b*x2 + 1), (x0^3*x1 + a*x1^4)/(x2^3 + b*x2 + 1), (x2^4 + (-2*b)*x2^2 - x2 + b^2)/(x2^3 + b*x2 + 1)]\n"
     ]
    }
   ],
   "source": [
    "R.<a,b>=GF(7)[]\n",
    "P.<x,y,z,w>=ProjectiveSpace(FractionField(R),3)\n",
    "F=DynamicalSystem([x^4 + (-8*a)*x*y^3, x^3*y + a*y^4, z^4+ (-2*b)*z^2*w^2 - 8*z*w^3 + b^2*w^4, z^3*w + b*z*w^3 + w^4])\n",
    "s=sigma(F,1)"
   ]
  },
  {
   "cell_type": "code",
   "execution_count": 74,
   "metadata": {},
   "outputs": [
    {
     "data": {
      "text/plain": [
       "w^4 - w^3*t^3 - w^3*t - w^2*t^4 - w^2*t^3 - w*t^9 - w*t^7 - w*t^6 + t^12 - t^9"
      ]
     },
     "execution_count": 74,
     "metadata": {},
     "output_type": "execute_result"
    }
   ],
   "source": [
    "s"
   ]
  },
  {
   "cell_type": "code",
   "execution_count": 33,
   "metadata": {},
   "outputs": [
    {
     "data": {
      "text/plain": [
       "[x0*x2 - u0, x0*x3 - u1, x0*u2 - x1*u0, x0*u3 - x1*u1, x1*x2 - u2, x1*x3 - u3, x2*u1 - x3*u0, x2*u3 - x3*u2, u0^4 + (-8*a)*u0*u1^3, u0^3*u1*u2 + (-8*a)*u1^4*u2, u0^2*u1^2*u2^2 + (-8*a)*u1^4*u2*u3, u0*u1^3*u2^3 + (-8*a)*u1^4*u2*u3^2, u0*u3 - u1*u2, u1^4*u2^4 + (-8*a)*u1^4*u2*u3^3]"
      ]
     },
     "execution_count": 33,
     "metadata": {},
     "output_type": "execute_result"
    }
   ],
   "source": [
    "_.groebner_basis()"
   ]
  },
  {
   "cell_type": "code",
   "execution_count": 64,
   "metadata": {},
   "outputs": [
    {
     "data": {
      "text/plain": [
       "[u0 - x0*x2, u1 - x0*x3, u2 - x1*x2, u3 - x1*x3, x0^4*x2^4 - 8*x0^4*x2*x3^3]"
      ]
     },
     "execution_count": 64,
     "metadata": {},
     "output_type": "execute_result"
    }
   ],
   "source": [
    "P1.<a,b>=ProjectiveSpace(QQ,1)\n",
    "F = P1.Lattes_map(EllipticCurve(QQ,[0,1]),2)\n",
    "G = P1.Lattes_map(EllipticCurve(QQ,[0,2]),2)\n",
    "P3.<x,y,z,w>=ProjectiveSpace(QQ,3)\n",
    "phi=P1.coordinate_ring().hom([z,w],P3.coordinate_ring())\n",
    "R=P3.coordinate_ring()\n",
    "f=DynamicalSystem([R(F[0]),R(F[1]),phi(G[0]),phi(G[1])])\n",
    "f.is_morphism()\n",
    "psi=(P1*P1).segre_embedding()\n",
    "\n",
    "R.<u0,u1,u2,u3,x0,x1,x2,x3>=PolynomialRing(QQ, order='lex')\n",
    "x=x0*x2\n",
    "y=x0*x3\n",
    "z=x1*x2\n",
    "w=x1*x3\n",
    "I=R.ideal([u0-x0*x2, u1-x0*x3, u2-x1*x2,u3-x1*x3, 1/4*x^4 - 2*x*y^3])#, x^3*y + y^4, 1/4*z^4 - 2*z*w^3, z^3*w + w^4])\n",
    "I.groebner_basis()"
   ]
  },
  {
   "cell_type": "code",
   "execution_count": 62,
   "metadata": {},
   "outputs": [
    {
     "data": {
      "text/plain": [
       "Ideal (u1*u2 - u0*u3, u0^4 - 8*u0*u1^3) of Multivariate Polynomial Ring in u0, u1, u2, u3, x0, x1, x2, x3 over Rational Field"
      ]
     },
     "execution_count": 62,
     "metadata": {},
     "output_type": "execute_result"
    }
   ],
   "source": [
    "I.elimination_ideal([x0,x1,x2,x3])"
   ]
  },
  {
   "cell_type": "code",
   "execution_count": null,
   "metadata": {},
   "outputs": [],
   "source": [
    "u0^4 - 8*u0*u1^3"
   ]
  },
  {
   "cell_type": "code",
   "execution_count": 4,
   "metadata": {},
   "outputs": [
    {
     "data": {
      "text/plain": [
       "Dynamical System of Projective Space of dimension 3 over Fraction Field of Univariate Polynomial Ring in a over Rational Field\n",
       "  Defn: Defined on coordinates by sending (u : v : z : w) to\n",
       "        (u^4 + (-2*a)*u^2*v^2 + a^2*v^4 : 4*u^3*v + (-4*a - 4)*u^2*v^2 + 4*a*u*v^3 : z^4 : w^4)"
      ]
     },
     "execution_count": 4,
     "metadata": {},
     "output_type": "execute_result"
    }
   ],
   "source": [
    "R.<a>=QQ[]\n",
    "P.<u,v,z,w>=ProjectiveSpace(FractionField(R),3)\n",
    "f=DynamicalSystem([(u^2 - a*v^2)^2 , 4*u*v*(u-v)*(u - a*v), z^4,w^4])\n",
    "f"
   ]
  },
  {
   "cell_type": "code",
   "execution_count": 5,
   "metadata": {},
   "outputs": [
    {
     "name": "stdout",
     "output_type": "stream",
     "text": [
      "Dynamical System of Projective Space of dimension 3 over Fraction Field of Univariate Polynomial Ring in a over Rational Field\n",
      "  Defn: Defined on coordinates by sending (u : v : z : w) to\n",
      "        (u^4 + (-2*a)*u^2*v^2 + a^2*v^4 : 4*u^3*v + (-4*a - 4)*u^2*v^2 + 4*a*u*v^3 : z^4 : w^4) 1\n",
      "j: 3\n",
      "im: [v0, v1, v2]\n",
      "[x0^4 + (-2*a)*x0^2*x1^2 + a^2*x1^4, 4*x0^3*x1 + (-4*a - 4)*x0^2*x1^2 + 4*a*x0*x1^3, x2^4]\n",
      "(6, 18)\n",
      "j: 2\n",
      "im: [v0, v1, 0]\n",
      "[x0^4 + (-2*a)*x0^2*x1^2 + a^2*x1^4, 4*x0^3*x1 + (-4*a - 4)*x0^2*x1^2 + 4*a*x0*x1^3, x2^4]\n",
      "(9, 27)\n",
      "j: 1\n",
      "im: [v0, 0, 0]\n",
      "[(x0^4 + (-2*a)*x0^2 + a^2)/(4*x0^3 + (-4*a - 4)*x0^2 + 4*a*x0), x1^4/(4*x0^3 + (-4*a - 4)*x0^2 + 4*a*x0), x2^4/(4*x0^3 + (-4*a - 4)*x0^2 + 4*a*x0)]\n",
      "(10, 30)\n",
      "j: 0\n",
      "im: [0, 0, 0]\n",
      "[(4*a*x0^3 + (-4*a - 4)*x0^2 + 4*x0)/(a^2*x0^4 + (-2*a)*x0^2 + 1), x1^4/(a^2*x0^4 + (-2*a)*x0^2 + 1), x2^4/(a^2*x0^4 + (-2*a)*x0^2 + 1)]\n",
      "(11, 33)\n"
     ]
    },
    {
     "data": {
      "text/plain": [
       "w^11 + (-11)*w^10*t^3 + 40*w^10*t^2 + (-64)*w^10*t + 32*w^10 + 55*w^9*t^6 + (-400)*w^9*t^5 + 1272*w^9*t^4 + (-2080)*w^9*t^3 + 1280*w^9*t^2 + 1024*w^9*t + (-2048)*w^9 + (-165)*w^8*t^9 + 1800*w^8*t^8 + (-8568)*w^8*t^7 + 22240*w^8*t^6 + (-28864)*w^8*t^5 + (-128)*w^8*t^4 + 59392*w^8*t^3 + (-75776)*w^8*t^2 + 32768*w^8*t + 330*w^7*t^12 + (-4800)*w^7*t^11 + 30432*w^7*t^10 + (-106880)*w^7*t^9 + 204112*w^7*t^8 + (-104320)*w^7*t^7 + (-450048)*w^7*t^6 + 1122304*w^7*t^5 + (-987136)*w^7*t^4 + 32768*w^7*t^3 + 393216*w^7*t^2 + (-462)*w^6*t^15 + 8400*w^6*t^14 + (-66528)*w^6*t^13 + 293440*w^6*t^12 + (-728112)*w^6*t^11 + 673408*w^6*t^10 + 1613056*w^6*t^9 + (-6323200)*w^6*t^8 + 8130560*w^6*t^7 + (-917504)*w^6*t^6 + (-9633792)*w^6*t^5 + 10747904*w^6*t^4 + (-4194304)*w^6*t^3 + 462*w^5*t^18 + (-10080)*w^5*t^17 + 95760*w^5*t^16 + (-507584)*w^5*t^15 + 1537424*w^5*t^14 + (-1971584)*w^5*t^13 + (-3345664)*w^5*t^12 + 18916352*w^5*t^11 + (-30838784)*w^5*t^10 + 5046272*w^5*t^9 + 58785792*w^5*t^8 + (-88866816)*w^5*t^7 + 35651584*w^5*t^6 + 33554432*w^5*t^5 + (-33554432)*w^5*t^4 + (-330)*w^4*t^21 + 8400*w^4*t^20 + (-93072)*w^4*t^19 + 575680*w^4*t^18 + (-2050160)*w^4*t^17 + 3287936*w^4*t^16 + 4384768*w^4*t^15 + (-33894400)*w^4*t^14 + 64958464*w^4*t^13 + (-10223616)*w^4*t^12 + (-174260224)*w^4*t^11 + 292814848*w^4*t^10 + (-85983232)*w^4*t^9 + (-260046848)*w^4*t^8 + 285212672*w^4*t^7 + (-67108864)*w^4*t^6 + 165*w^3*t^24 + (-4800)*w^3*t^23 + 60768*w^3*t^22 + (-429440)*w^3*t^21 + 1753584*w^3*t^20 + (-3331712)*w^3*t^19 + (-3745792)*w^3*t^18 + 37840896*w^3*t^17 + (-81489920)*w^3*t^16 + 7634944*w^3*t^15 + 292225024*w^3*t^14 + (-503054336)*w^3*t^13 + 34603008*w^3*t^12 + 796917760*w^3*t^11 + (-754974720)*w^3*t^10 + (-67108864)*w^3*t^9 + 268435456*w^3*t^8 + (-55)*w^2*t^27 + 1800*w^2*t^26 + (-25632)*w^2*t^25 + 203680*w^2*t^24 + (-936592)*w^2*t^23 + 2039680*w^2*t^22 + 2051328*w^2*t^21 + (-25918464)*w^2*t^20 + 60960768*w^2*t^19 + 1048576*w^2*t^18 + (-282722304)*w^2*t^17 + 479723520*w^2*t^16 + 118489088*w^2*t^15 + (-1166016512)*w^2*t^14 + 889192448*w^2*t^13 + 603979776*w^2*t^12 + (-805306368)*w^2*t^11 + 11*w*t^30 + (-400)*w*t^29 + 6328*w*t^28 + (-55840)*w*t^27 + 285232*w*t^26 + (-696448)*w*t^25 + (-660736)*w*t^24 + 9999360*w*t^23 + (-25227264)*w*t^22 + (-4063232)*w*t^21 + 146931712*w*t^20 + (-241696768)*w*t^19 + (-149946368)*w*t^18 + 813694976*w*t^17 + (-486539264)*w*t^16 + (-738197504)*w*t^15 + 805306368*w*t^14 - t^33 + 40*t^32 + (-696)*t^31 + 6752*t^30 + (-37904)*t^29 + 102144*t^28 + 95744*t^27 + (-1667072)*t^26 + 4460544*t^25 + 1441792*t^24 + (-31719424)*t^23 + 50331648*t^22 + 51380224*t^21 + (-218103808)*t^20 + 100663296*t^19 + 268435456*t^18 + (-268435456)*t^17"
      ]
     },
     "execution_count": 5,
     "metadata": {},
     "output_type": "execute_result"
    }
   ],
   "source": [
    "sigma(f,1)"
   ]
  },
  {
   "cell_type": "code",
   "execution_count": 21,
   "metadata": {},
   "outputs": [
    {
     "name": "stdout",
     "output_type": "stream",
     "text": [
      "Dynamical System of Projective Space of dimension 2 over Rational Field\n",
      "  Defn: Defined on coordinates by sending (x : y : z) to\n",
      "        (x^2 + y^2 : y^2 + z^2 : z^2) 1\n",
      "j: 2\n",
      "im: [v0, v1]\n",
      "[x0^2 + x1^2, x1^2 + 1]\n",
      "(4, 8)\n",
      "j: 1\n",
      "im: [v0, 0]\n",
      "[(x0^2 + 1)/(x1^2 + 1), x1^2/(x1^2 + 1)]\n",
      "(6, 12)\n",
      "j: 0\n",
      "im: [0, 0]\n",
      "[(x0^2 + x1^2)/(x0^2 + 1), x1^2/(x0^2 + 1)]\n",
      "(7, 14)\n",
      "[0.000000000000000]\n",
      "[0.000000000000000]\n",
      "[1.00000000000000 - 1.73205080756888*I, 1.00000000000000 + 1.73205080756888*I]\n",
      "[1.00000000000000 - 1.73205080756888*I, 1.00000000000000 + 1.73205080756888*I]\n",
      "[-0.947122966707013 - 0.889543617524132*I, -0.947122966707013 + 0.889543617524132*I, 2.94712296670701 - 0.889543617524132*I, 2.94712296670701 + 0.889543617524132*I]\n"
     ]
    }
   ],
   "source": [
    "P.<x,y,z>=ProjectiveSpace(QQ,2)\n",
    "f=DynamicalSystem([x^2+y^2,y^2+z^2,z^2])\n",
    "s=sigma(f,1)\n",
    "for p,e in s.factor():\n",
    "    for q, r in p.subs({s.parent().gen(0):0}).univariate_polynomial().factor():\n",
    "        print q.roots(ring=CC, multiplicities=False)"
   ]
  },
  {
   "cell_type": "code",
   "execution_count": 42,
   "metadata": {},
   "outputs": [
    {
     "name": "stdout",
     "output_type": "stream",
     "text": [
      "Dynamical System of Projective Space of dimension 2 over Rational Field\n",
      "  Defn: Defined on coordinates by sending (x : y : z) to\n",
      "        (x^2 - x*z + 2*z^2 : x^2 + x*y + y^2 : z^2) 1\n",
      "j: 2\n",
      "im: [v0, v1]\n",
      "[x0^2 - x0 + 2, x0^2 + x0*x1 + x1^2]\n",
      "(4, 8)\n",
      "j: 1\n",
      "im: [v0, 0]\n",
      "[(x0^2 - x0*x1 + 2*x1^2)/(x0^2 + x0 + 1), x1^2/(x0^2 + x0 + 1)]\n",
      "(7, 14)\n",
      "j: 0\n",
      "im: [0, 0]\n",
      "[(x0^2 + x0 + 1)/(2*x1^2 - x1 + 1), x1^2/(2*x1^2 - x1 + 1)]\n",
      "(7, 14)\n",
      "-w + t^2\n",
      "[(0.000000000000000, 1)]\n",
      "w^2 - 2*w*t^2 + 2*w*t + t^4 - 2*t^3 + 5*t^2\n",
      "[(0.000000000000000, 1)]\n",
      "[(1.00000000000000 - 2.00000000000000*I, 1), (1.00000000000000 + 2.00000000000000*I, 1)]\n",
      "w^4 - 4*w^3*t^2 + 8*w^3*t - 4*w^3 + 6*w^2*t^4 - 24*w^2*t^3 + 46*w^2*t^2 + 20*w^2*t - 56*w^2 - 4*w*t^6 + 24*w*t^5 - 80*w*t^4 + 96*w*t^3 - 4*w*t^2 - 312*w*t + 280*w + t^8 - 8*t^7 + 38*t^6 - 116*t^5 + 317*t^4 - 644*t^3 + 1312*t^2 - 1560*t + 1700\n",
      "[(1.00000000000000 - 2.00000000000000*I, 1), (1.00000000000000 + 2.00000000000000*I, 1)]\n",
      "[(-0.879129818333282 - 2.12864484453120*I, 1), (-0.879129818333282 + 2.12864484453120*I, 1), (2.87912981833328 - 2.12864484453120*I, 1), (2.87912981833328 + 2.12864484453120*I, 1)]\n"
     ]
    }
   ],
   "source": [
    "P.<x,y,z>=ProjectiveSpace(QQ,2)\n",
    "f=DynamicalSystem([x^2-x*z+2*z^2,x^2+x*y+y^2,z^2])\n",
    "s=sigma(f,1)\n",
    "for p,e in s.factor():\n",
    "    print p\n",
    "    for q, r in p.subs({s.parent().gen(0):0}).univariate_polynomial().factor():\n",
    "        print q.roots(ring=CC)"
   ]
  },
  {
   "cell_type": "code",
   "execution_count": 59,
   "metadata": {},
   "outputs": [
    {
     "name": "stdout",
     "output_type": "stream",
     "text": [
      "[1.570759536769330? + 1.427686444349533?*I, -4.772793948534994? - 7.888238201338854?*I]\n",
      "[1.570759536769330? - 1.427686444349533?*I, -4.772793948534994? + 7.888238201338854?*I]\n",
      "[0, -6.831177207208337? + 0.8496965970360521?*I]\n",
      "[0, -6.831177207208337? - 0.8496965970360521?*I]\n",
      "[1.713414949255797?, -0.3093461257244682?]\n",
      "[0.50000000000000000? + 0.866025403784439?*I, 0.50000000000000000? - 0.866025403784439?*I]\n",
      "[0, -0.3376455855833262?]\n"
     ]
    }
   ],
   "source": [
    "set_verbose(None)\n",
    "P.<x,y,z>=ProjectiveSpace(QQ,2)\n",
    "f1=DynamicalSystem([x^2-y*z+2*y^2,x^2+z*y+y^2+x*z,z^2])\n",
    "f1bar=f1.change_ring(QQbar)\n",
    "for Q in f1bar.periodic_points(1):\n",
    "    print f1bar.multiplier(Q,1).eigenvalues()"
   ]
  },
  {
   "cell_type": "code",
   "execution_count": 67,
   "metadata": {},
   "outputs": [
    {
     "ename": "TypeError",
     "evalue": "use return_scheme=True",
     "output_type": "error",
     "traceback": [
      "\u001b[0;31m---------------------------------------------------------------------------\u001b[0m",
      "\u001b[0;31mTypeError\u001b[0m                                 Traceback (most recent call last)",
      "\u001b[0;32m<ipython-input-67-343c34439e05>\u001b[0m in \u001b[0;36m<module>\u001b[0;34m()\u001b[0m\n\u001b[1;32m      4\u001b[0m \u001b[0mf2\u001b[0m\u001b[0;34m=\u001b[0m\u001b[0mDynamicalSystem\u001b[0m\u001b[0;34m(\u001b[0m\u001b[0;34m[\u001b[0m\u001b[0mx\u001b[0m\u001b[0;34m*\u001b[0m\u001b[0;34m(\u001b[0m\u001b[0mz\u001b[0m\u001b[0;34m-\u001b[0m\u001b[0;34m(\u001b[0m\u001b[0mx\u001b[0m\u001b[0;34m-\u001b[0m\u001b[0my\u001b[0m\u001b[0;34m)\u001b[0m\u001b[0;34m)\u001b[0m\u001b[0;34m,\u001b[0m\u001b[0my\u001b[0m\u001b[0;34m*\u001b[0m\u001b[0;34m(\u001b[0m\u001b[0mz\u001b[0m\u001b[0;34m+\u001b[0m\u001b[0;34m(\u001b[0m\u001b[0mx\u001b[0m\u001b[0;34m-\u001b[0m\u001b[0my\u001b[0m\u001b[0;34m)\u001b[0m\u001b[0;34m)\u001b[0m\u001b[0;34m,\u001b[0m\u001b[0mz\u001b[0m\u001b[0;34m**\u001b[0m\u001b[0mInteger\u001b[0m\u001b[0;34m(\u001b[0m\u001b[0;36m2\u001b[0m\u001b[0;34m)\u001b[0m\u001b[0;34m]\u001b[0m\u001b[0;34m)\u001b[0m\u001b[0;34m\u001b[0m\u001b[0m\n\u001b[1;32m      5\u001b[0m \u001b[0mf2bar\u001b[0m\u001b[0;34m=\u001b[0m\u001b[0mf2\u001b[0m\u001b[0;34m.\u001b[0m\u001b[0mchange_ring\u001b[0m\u001b[0;34m(\u001b[0m\u001b[0mQQbar\u001b[0m\u001b[0;34m)\u001b[0m\u001b[0;34m\u001b[0m\u001b[0m\n\u001b[0;32m----> 6\u001b[0;31m \u001b[0;32mfor\u001b[0m \u001b[0mQ\u001b[0m \u001b[0;32min\u001b[0m \u001b[0mf2bar\u001b[0m\u001b[0;34m.\u001b[0m\u001b[0mperiodic_points\u001b[0m\u001b[0;34m(\u001b[0m\u001b[0mInteger\u001b[0m\u001b[0;34m(\u001b[0m\u001b[0;36m1\u001b[0m\u001b[0;34m)\u001b[0m\u001b[0;34m)\u001b[0m\u001b[0;34m:\u001b[0m\u001b[0;34m\u001b[0m\u001b[0m\n\u001b[0m\u001b[1;32m      7\u001b[0m     \u001b[0;31m#print Q,\u001b[0m\u001b[0;34m\u001b[0m\u001b[0;34m\u001b[0m\u001b[0m\n\u001b[1;32m      8\u001b[0m     \u001b[0;32mprint\u001b[0m \u001b[0mf2bar\u001b[0m\u001b[0;34m.\u001b[0m\u001b[0mmultiplier\u001b[0m\u001b[0;34m(\u001b[0m\u001b[0mQ\u001b[0m\u001b[0;34m,\u001b[0m\u001b[0mInteger\u001b[0m\u001b[0;34m(\u001b[0m\u001b[0;36m1\u001b[0m\u001b[0;34m)\u001b[0m\u001b[0;34m)\u001b[0m\u001b[0;34m.\u001b[0m\u001b[0meigenvalues\u001b[0m\u001b[0;34m(\u001b[0m\u001b[0;34m)\u001b[0m\u001b[0;34m\u001b[0m\u001b[0m\n",
      "\u001b[0;32m/home/ben/sage/sage-release/local/lib/python2.7/site-packages/sage/dynamics/arithmetic_dynamics/projective_ds.pyc\u001b[0m in \u001b[0;36mperiodic_points\u001b[0;34m(self, n, minimal, R, algorithm, return_scheme)\u001b[0m\n\u001b[1;32m   3421\u001b[0m                     \u001b[0;32mraise\u001b[0m \u001b[0mNotImplementedError\u001b[0m\u001b[0;34m(\u001b[0m\u001b[0;34m\"ring must a number field or finite field\"\u001b[0m\u001b[0;34m)\u001b[0m\u001b[0;34m\u001b[0m\u001b[0m\n\u001b[1;32m   3422\u001b[0m             \u001b[0;32melse\u001b[0m\u001b[0;34m:\u001b[0m \u001b[0;31m#a higher dimensional scheme\u001b[0m\u001b[0;34m\u001b[0m\u001b[0m\n\u001b[0;32m-> 3423\u001b[0;31m                 \u001b[0;32mraise\u001b[0m \u001b[0mTypeError\u001b[0m\u001b[0;34m(\u001b[0m\u001b[0;34m\"use return_scheme=True\"\u001b[0m\u001b[0;34m)\u001b[0m\u001b[0;34m\u001b[0m\u001b[0m\n\u001b[0m\u001b[1;32m   3424\u001b[0m         \u001b[0;32melse\u001b[0m\u001b[0;34m:\u001b[0m\u001b[0;34m\u001b[0m\u001b[0m\n\u001b[1;32m   3425\u001b[0m             \u001b[0;32mraise\u001b[0m \u001b[0mValueError\u001b[0m\u001b[0;34m(\u001b[0m\u001b[0;34m\"algorithm must be either 'variety' or 'cyclegraph'\"\u001b[0m\u001b[0;34m)\u001b[0m\u001b[0;34m\u001b[0m\u001b[0m\n",
      "\u001b[0;31mTypeError\u001b[0m: use return_scheme=True"
     ]
    }
   ],
   "source": [
    "set_verbose(None)\n",
    "P.<x,y,z>=ProjectiveSpace(QQ,2)\n",
    "f2=DynamicalSystem([x^2-2*x*z+z^2,x^2+x*y+y^2+x*z,z^2])\n",
    "f2=DynamicalSystem([x*(z-(x-y)),y*(z+(x-y)),z^2])\n",
    "f2bar=f2.change_ring(QQbar)\n",
    "for Q in f2bar.periodic_points(1):\n",
    "    #print Q,\n",
    "    print f2bar.multiplier(Q,1).eigenvalues()"
   ]
  },
  {
   "cell_type": "code",
   "execution_count": 92,
   "metadata": {},
   "outputs": [
    {
     "data": {
      "text/plain": [
       "(a1*a2*b1*c1 - a2*b1^2*c1 + a1^2*b2*c1 - a1*b1*b2*c1 - 2*a1^2*b1*c2 + 2*a1*b1^2*c2)*x^2 + (a2^2*b1*c1 + 3*a1*a2*b2*c1 - 3*a2*b1*b2*c1 - a1*b2^2*c1 - 3*a1*a2*b1*c2 + a2*b1^2*c2 - a1^2*b2*c2 + 3*a1*b1*b2*c2)*x*y + (2*a2^2*b2*c1 - 2*a2*b2^2*c1 - a2^2*b1*c2 - a1*a2*b2*c2 + a2*b1*b2*c2 + a1*b2^2*c2)*y^2 + (a2*a3*b1*c1 + 2*a1*a3*b2*c1 - a3*b1*b2*c1 + a1*a2*b3*c1 - 2*a2*b1*b3*c1 - a1*b2*b3*c1 - a3*b2*c1^2 + a2*b3*c1^2 - 3*a1*a3*b1*c2 + a3*b1^2*c2 - a1^2*b3*c2 + 3*a1*b1*b3*c2 + a3*b1*c1*c2 - a1*b3*c1*c2 - a2*b1*c1*c3 + a1*b2*c1*c3)*x*z + (3*a2*a3*b2*c1 - a3*b2^2*c1 + a2^2*b3*c1 - 3*a2*b2*b3*c1 - 2*a2*a3*b1*c2 - a1*a3*b2*c2 + a3*b1*b2*c2 - a1*a2*b3*c2 + a2*b1*b3*c2 + 2*a1*b2*b3*c2 - a3*b2*c1*c2 + a2*b3*c1*c2 + a3*b1*c2^2 - a1*b3*c2^2 - a2*b1*c2*c3 + a1*b2*c2*c3)*y*z + (a3^2*b2*c1 + a2*a3*b3*c1 - a3*b2*b3*c1 - a2*b3^2*c1 - a3^2*b1*c2 - a1*a3*b3*c2 + a3*b1*b3*c2 + a1*b3^2*c2 - a3*b2*c1*c3 + a2*b3*c1*c3 + a3*b1*c2*c3 - a1*b3*c2*c3 - a2*b1*c3^2 + a1*b2*c3^2)*z^2"
      ]
     },
     "execution_count": 92,
     "metadata": {},
     "output_type": "execute_result"
    }
   ],
   "source": [
    "r.<a1,a2,a3,b1,b2,b3,c1,c2,c3>=QQ[]\n",
    "m=matrix(r,3,3,list(r.gens()))\n",
    "P.<x,y,z>=ProjectiveSpace(FractionField(r),2)\n",
    "f2=DynamicalSystem([x*(z-(x-y)),y*(z+(x-y)),z^2])\n",
    "g=f2.conjugate(m)\n",
    "g.scale_by(-a3*b2*c1 + a2*b3*c1 + a3*b1*c2 - a1*b3*c2 - a2*b1*c3 + a1*b2*c3)\n",
    "g[2]"
   ]
  },
  {
   "cell_type": "code",
   "execution_count": 77,
   "metadata": {},
   "outputs": [
    {
     "data": {
      "text/plain": [
       "[x^2, x*y, y^2, x*z, y*z, z^2]"
      ]
     },
     "execution_count": 77,
     "metadata": {},
     "output_type": "execute_result"
    }
   ],
   "source": [
    "g[0].monomials()"
   ]
  },
  {
   "cell_type": "code",
   "execution_count": 88,
   "metadata": {},
   "outputs": [
    {
     "data": {
      "text/plain": [
       "[a2*a3*b1*c2 + a1*a3*b2*c2 - 2*a3*b1*b2*c2 + 2*a1*a2*b3*c2 - a2*b1*b3*c2 - a1*b2*b3*c2 - a3*b2*c1*c2 + a2*b3*c1*c2 + a3*b1*c2^2 - a1*b3*c2^2 - a2^2*b1*c3 - 3*a1*a2*b2*c3 + 3*a2*b1*b2*c3 + a1*b2^2*c3 - a2*b1*c2*c3 + a1*b2*c2*c3,\n",
       " a3^2*b2*c2 + 3*a2*a3*b3*c2 - 3*a3*b2*b3*c2 - a2*b3^2*c2 - 3*a2*a3*b2*c3 + a3*b2^2*c3 - a2^2*b3*c3 + 3*a2*b2*b3*c3,\n",
       " a2*a3*b2*c2 - a3*b2^2*c2 + a2^2*b3*c2 - a2*b2*b3*c2 - 2*a2^2*b2*c3 + 2*a2*b2^2*c3]"
      ]
     },
     "execution_count": 88,
     "metadata": {},
     "output_type": "execute_result"
    }
   ],
   "source": [
    "([g[0].coefficient(x*y), (g[0].coefficient(y*z)), (g[0].coefficient(y^2))])"
   ]
  },
  {
   "cell_type": "code",
   "execution_count": 93,
   "metadata": {},
   "outputs": [
    {
     "data": {
      "text/plain": [
       "[a1*a2*b1*c1 - a2*b1^2*c1 + a1^2*b2*c1 - a1*b1*b2*c1 - 2*a1^2*b1*c2 + 2*a1*b1^2*c2,\n",
       " a2^2*b1*c1 + 3*a1*a2*b2*c1 - 3*a2*b1*b2*c1 - a1*b2^2*c1 - 3*a1*a2*b1*c2 + a2*b1^2*c2 - a1^2*b2*c2 + 3*a1*b1*b2*c2,\n",
       " 2*a2^2*b2*c1 - 2*a2*b2^2*c1 - a2^2*b1*c2 - a1*a2*b2*c2 + a2*b1*b2*c2 + a1*b2^2*c2,\n",
       " a2*a3*b1*c1 + 2*a1*a3*b2*c1 - a3*b1*b2*c1 + a1*a2*b3*c1 - 2*a2*b1*b3*c1 - a1*b2*b3*c1 - a3*b2*c1^2 + a2*b3*c1^2 - 3*a1*a3*b1*c2 + a3*b1^2*c2 - a1^2*b3*c2 + 3*a1*b1*b3*c2 + a3*b1*c1*c2 - a1*b3*c1*c2 - a2*b1*c1*c3 + a1*b2*c1*c3,\n",
       " 3*a2*a3*b2*c1 - a3*b2^2*c1 + a2^2*b3*c1 - 3*a2*b2*b3*c1 - 2*a2*a3*b1*c2 - a1*a3*b2*c2 + a3*b1*b2*c2 - a1*a2*b3*c2 + a2*b1*b3*c2 + 2*a1*b2*b3*c2 - a3*b2*c1*c2 + a2*b3*c1*c2 + a3*b1*c2^2 - a1*b3*c2^2 - a2*b1*c2*c3 + a1*b2*c2*c3,\n",
       " a3^2*b2*c1 + a2*a3*b3*c1 - a3*b2*b3*c1 - a2*b3^2*c1 - a3^2*b1*c2 - a1*a3*b3*c2 + a3*b1*b3*c2 + a1*b3^2*c2 - a3*b2*c1*c3 + a2*b3*c1*c3 + a3*b1*c2*c3 - a1*b3*c2*c3 - a2*b1*c3^2 + a1*b2*c3^2]"
      ]
     },
     "execution_count": 93,
     "metadata": {},
     "output_type": "execute_result"
    }
   ],
   "source": [
    "g[2].coefficients()"
   ]
  },
  {
   "cell_type": "code",
   "execution_count": 98,
   "metadata": {},
   "outputs": [],
   "source": [
    "r.<a1,a2,a3,b1,b2,b3,c1,c2,c3>=QQ[]\n",
    "I=r.ideal([a2*a3*b1*c2 + a1*a3*b2*c2 - 2*a3*b1*b2*c2 + 2*a1*a2*b3*c2 - a2*b1*b3*c2 - a1*b2*b3*c2 - a3*b2*c1*c2 + a2*b3*c1*c2 + a3*b1*c2^2 - a1*b3*c2^2 - a2^2*b1*c3 - 3*a1*a2*b2*c3 + 3*a2*b1*b2*c3 + a1*b2^2*c3 - a2*b1*c2*c3 + a1*b2*c2*c3, a3^2*b2*c2 + 3*a2*a3*b3*c2 - 3*a3*b2*b3*c2 - a2*b3^2*c2 - 3*a2*a3*b2*c3 + a3*b2^2*c3 - a2^2*b3*c3 + 3*a2*b2*b3*c3,  a2*a3*b2*c2 - a3*b2^2*c2 + a2^2*b3*c2 - a2*b2*b3*c2 - 2*a2^2*b2*c3 + 2*a2*b2^2*c3, a1*a2*b1*c1 - a2*b1^2*c1 + a1^2*b2*c1 - a1*b1*b2*c1 - 2*a1^2*b1*c2 + 2*a1*b1^2*c2,  a2^2*b1*c1 + 3*a1*a2*b2*c1 - 3*a2*b1*b2*c1 - a1*b2^2*c1 - 3*a1*a2*b1*c2 + a2*b1^2*c2 - a1^2*b2*c2 + 3*a1*b1*b2*c2,2*a2^2*b2*c1 - 2*a2*b2^2*c1 - a2^2*b1*c2 - a1*a2*b2*c2 + a2*b1*b2*c2 + a1*b2^2*c2,  a2*a3*b1*c1 + 2*a1*a3*b2*c1 - a3*b1*b2*c1 + a1*a2*b3*c1 - 2*a2*b1*b3*c1 - a1*b2*b3*c1 - a3*b2*c1^2 + a2*b3*c1^2 - 3*a1*a3*b1*c2 + a3*b1^2*c2 - a1^2*b3*c2 + 3*a1*b1*b3*c2 + a3*b1*c1*c2 - a1*b3*c1*c2 - a2*b1*c1*c3 + a1*b2*c1*c3,  3*a2*a3*b2*c1 - a3*b2^2*c1 + a2^2*b3*c1 - 3*a2*b2*b3*c1 - 2*a2*a3*b1*c2 - a1*a3*b2*c2 + a3*b1*b2*c2 - a1*a2*b3*c2 + a2*b1*b3*c2 + 2*a1*b2*b3*c2 - a3*b2*c1*c2 + a2*b3*c1*c2 + a3*b1*c2^2 - a1*b3*c2^2 - a2*b1*c2*c3 + a1*b2*c2*c3,  a3^2*b2*c1 + a2*a3*b3*c1 - a3*b2*b3*c1 - a2*b3^2*c1 - a3^2*b1*c2 - a1*a3*b3*c2 + a3*b1*b3*c2 + a1*b3^2*c2 - a3*b2*c1*c3 + a2*b3*c1*c3 + a3*b1*c2*c3 - a1*b3*c2*c3 - a2*b1*c3^2 + a1*b2*c3^2-1])"
   ]
  },
  {
   "cell_type": "code",
   "execution_count": 99,
   "metadata": {},
   "outputs": [
    {
     "data": {
      "text/plain": [
       "-1"
      ]
     },
     "execution_count": 99,
     "metadata": {},
     "output_type": "execute_result"
    }
   ],
   "source": [
    "I.dimension()"
   ]
  },
  {
   "cell_type": "code",
   "execution_count": 34,
   "metadata": {},
   "outputs": [
    {
     "data": {
      "text/plain": [
       "False"
      ]
     },
     "execution_count": 34,
     "metadata": {},
     "output_type": "execute_result"
    }
   ],
   "source": [
    "P1.<z,w>=ProjectiveSpace(QQ,1)\n",
    "F = P1.Lattes_map(EllipticCurve(QQ,[0,2]),2)\n",
    "P2.<x,y,z>=ProjectiveSpace(QQ,2)\n",
    "R=P2.coordinate_ring()\n",
    "f=DynamicalSystem([R(F[0]),x^4+y^4,R(F[1])])\n",
    "f.is_morphism()"
   ]
  },
  {
   "cell_type": "code",
   "execution_count": 37,
   "metadata": {},
   "outputs": [
    {
     "data": {
      "text/plain": [
       "False"
      ]
     },
     "execution_count": 37,
     "metadata": {},
     "output_type": "execute_result"
    }
   ],
   "source": [
    "P1.<z,w>=ProjectiveSpace(QQ,1)\n",
    "F = P1.Lattes_map(EllipticCurve(QQ,[0,1]),2)\n",
    "G = P1.Lattes_map(EllipticCurve(QQ,[0,2]),2)\n",
    "P2.<x,y,z>=ProjectiveSpace(QQ,2)\n",
    "R=P2.coordinate_ring()\n",
    "f=DynamicalSystem([R(F[0])*R(G[0]),R(F[0])*R(G[1]) + R(F[1])*R(G[0]),R(F[1])*R(G[1])])\n",
    "f.is_morphism()"
   ]
  },
  {
   "cell_type": "code",
   "execution_count": 18,
   "metadata": {},
   "outputs": [
    {
     "data": {
      "text/plain": [
       "True"
      ]
     },
     "execution_count": 18,
     "metadata": {},
     "output_type": "execute_result"
    }
   ],
   "source": [
    "P1.<a,b>=ProjectiveSpace(QQ,1)\n",
    "F = P1.Lattes_map(EllipticCurve(QQ,[0,1]),2)\n",
    "G = P1.Lattes_map(EllipticCurve(QQ,[0,2]),2)\n",
    "P3.<x,y,z,w>=ProjectiveSpace(QQ,3)\n",
    "phi=P1.coordinate_ring().hom([z,w],P3.coordinate_ring())\n",
    "R=P3.coordinate_ring()\n",
    "f=DynamicalSystem([R(F[0]),R(F[1]),phi(G[0]),phi(G[1])])\n",
    "f.is_morphism()"
   ]
  },
  {
   "cell_type": "code",
   "execution_count": 26,
   "metadata": {},
   "outputs": [
    {
     "name": "stdout",
     "output_type": "stream",
     "text": [
      "Dynamical System of Projective Space of dimension 3 over Rational Field\n",
      "  Defn: Defined on coordinates by sending (x : y : z : w) to\n",
      "        (1/4*x^4 - 2*x*y^3 : x^3*y + y^4 : z^4 : w^4) 1\n",
      "j: 3\n",
      "im: [v0, v1, v2]\n",
      "[1/4*x0^4 - 2*x0*x1^3, x0^3*x1 + x1^4, x2^4]\n",
      "(6, 18)\n",
      "j: 2\n",
      "im: [v0, v1, 0]\n",
      "[1/4*x0^4 - 2*x0*x1^3, x0^3*x1 + x1^4, x2^4]\n",
      "(9, 27)\n",
      "j: 1\n",
      "im: [v0, 0, 0]\n",
      "[(1/4*x0^4 - 2*x0)/(x0^3 + 1), x1^4/(x0^3 + 1), x2^4/(x0^3 + 1)]\n",
      "(10, 30)\n",
      "j: 0\n",
      "im: [0, 0, 0]\n",
      "[(x0^4 + x0)/(-2*x0^3 + 1/4), x1^4/(-2*x0^3 + 1/4), x2^4/(-2*x0^3 + 1/4)]\n",
      "(11, 33)\n",
      "Dynamical System of Projective Space of dimension 3 over Rational Field\n",
      "  Defn: Defined on coordinates by sending (x : y : z : w) to\n",
      "        (1/4*x^4 - 4*x*y^3 : x^3*y + 2*y^4 : z^4 : w^4) 1\n",
      "j: 3\n",
      "im: [v0, v1, v2]\n",
      "[1/4*x0^4 - 4*x0*x1^3, x0^3*x1 + 2*x1^4, x2^4]\n",
      "(6, 18)\n",
      "j: 2\n",
      "im: [v0, v1, 0]\n",
      "[1/4*x0^4 - 4*x0*x1^3, x0^3*x1 + 2*x1^4, x2^4]\n",
      "(9, 27)\n",
      "j: 1\n",
      "im: [v0, 0, 0]\n",
      "[(1/4*x0^4 - 4*x0)/(x0^3 + 2), x1^4/(x0^3 + 2), x2^4/(x0^3 + 2)]\n",
      "(10, 30)\n",
      "j: 0\n",
      "im: [0, 0, 0]\n",
      "[(2*x0^4 + x0)/(-4*x0^3 + 1/4), x1^4/(-4*x0^3 + 1/4), x2^4/(-4*x0^3 + 1/4)]\n",
      "(11, 33)\n"
     ]
    },
    {
     "data": {
      "text/plain": [
       "True"
      ]
     },
     "execution_count": 26,
     "metadata": {},
     "output_type": "execute_result"
    }
   ],
   "source": [
    "P1.<a,b>=ProjectiveSpace(QQ,1)\n",
    "F = P1.Lattes_map(EllipticCurve(QQ,[0,1]),2)\n",
    "P3.<x,y,z,w>=ProjectiveSpace(QQ,3)\n",
    "phi=P1.coordinate_ring().hom([z,w],P3.coordinate_ring())\n",
    "R=P3.coordinate_ring()\n",
    "f=DynamicalSystem([R(F[0]),R(F[1]),z^4,w^4])\n",
    "f.is_morphism()\n",
    "s1=sigma(f,1)\n",
    "\n",
    "P1.<a,b>=ProjectiveSpace(QQ,1)\n",
    "F = P1.Lattes_map(EllipticCurve(QQ,[0,2]),2)\n",
    "P3.<x,y,z,w>=ProjectiveSpace(QQ,3)\n",
    "phi=P1.coordinate_ring().hom([z,w],P3.coordinate_ring())\n",
    "R=P3.coordinate_ring()\n",
    "g=DynamicalSystem([R(F[0]),R(F[1]),z^4,w^4])\n",
    "g.is_morphism()\n",
    "s2=sigma(g,1)\n",
    "\n",
    "s1==s2"
   ]
  },
  {
   "cell_type": "code",
   "execution_count": 25,
   "metadata": {},
   "outputs": [
    {
     "name": "stdout",
     "output_type": "stream",
     "text": [
      "Dynamical System of Projective Space of dimension 3 over Rational Field\n",
      "  Defn: Defined on coordinates by sending (x : y : z : w) to\n",
      "        (1/4*x^4 - 2*x*y^3 : x^3*y + y^4 : 1/4*z^4 - 4*z*w^3 : z^3*w + 2*w^4) 1\n",
      "j: 3\n",
      "im: [v0, v1, v2]\n",
      "[(1/4*x0^4 - 2*x0*x1^3)/(x2^3 + 2), (x0^3*x1 + x1^4)/(x2^3 + 2), (1/4*x2^4 - 4*x2)/(x2^3 + 2)]\n",
      "(3, 9)\n",
      "j: 2\n",
      "im: [v0, v1, 0]\n",
      "[(1/4*x0^4 - 2*x0*x1^3)/(-4*x2^3 + 1/4), (x0^3*x1 + x1^4)/(-4*x2^3 + 1/4), (2*x2^4 + x2)/(-4*x2^3 + 1/4)]\n",
      "(6, 18)\n",
      "j: 1\n",
      "im: [v0, 0, 0]\n",
      "[(1/4*x0^4 - 2*x0)/(x0^3 + 1), (1/4*x1^4 - 4*x1*x2^3)/(x0^3 + 1), (x1^3*x2 + 2*x2^4)/(x0^3 + 1)]\n",
      "(7, 21)\n",
      "j: 0\n",
      "im: [0, 0, 0]\n",
      "[(x0^4 + x0)/(-2*x0^3 + 1/4), (1/4*x1^4 - 4*x1*x2^3)/(-2*x0^3 + 1/4), (x1^3*x2 + 2*x2^4)/(-2*x0^3 + 1/4)]\n",
      "(8, 24)\n",
      "Dynamical System of Projective Space of dimension 3 over Rational Field\n",
      "  Defn: Defined on coordinates by sending (x : y : z : w) to\n",
      "        (1/4*x^4 - 4*x*y^3 : x^3*y + 2*y^4 : 1/4*z^4 - 6*z*w^3 : z^3*w + 3*w^4) 1\n",
      "j: 3\n",
      "im: [v0, v1, v2]\n",
      "[(1/4*x0^4 - 4*x0*x1^3)/(x2^3 + 3), (x0^3*x1 + 2*x1^4)/(x2^3 + 3), (1/4*x2^4 - 6*x2)/(x2^3 + 3)]\n",
      "(3, 9)\n",
      "j: 2\n",
      "im: [v0, v1, 0]\n",
      "[(1/4*x0^4 - 4*x0*x1^3)/(-6*x2^3 + 1/4), (x0^3*x1 + 2*x1^4)/(-6*x2^3 + 1/4), (3*x2^4 + x2)/(-6*x2^3 + 1/4)]\n",
      "(6, 18)\n",
      "j: 1\n",
      "im: [v0, 0, 0]\n",
      "[(1/4*x0^4 - 4*x0)/(x0^3 + 2), (1/4*x1^4 - 6*x1*x2^3)/(x0^3 + 2), (x1^3*x2 + 3*x2^4)/(x0^3 + 2)]\n",
      "(7, 21)\n",
      "j: 0\n",
      "im: [0, 0, 0]\n",
      "[(2*x0^4 + x0)/(-4*x0^3 + 1/4), (1/4*x1^4 - 6*x1*x2^3)/(-4*x0^3 + 1/4), (x1^3*x2 + 3*x2^4)/(-4*x0^3 + 1/4)]\n",
      "(8, 24)\n"
     ]
    },
    {
     "data": {
      "text/plain": [
       "True"
      ]
     },
     "execution_count": 25,
     "metadata": {},
     "output_type": "execute_result"
    }
   ],
   "source": [
    "P1.<a,b>=ProjectiveSpace(QQ,1)\n",
    "F = P1.Lattes_map(EllipticCurve(QQ,[0,1]),2)\n",
    "G = P1.Lattes_map(EllipticCurve(QQ,[0,2]),2)\n",
    "P3.<x,y,z,w>=ProjectiveSpace(QQ,3)\n",
    "phi=P1.coordinate_ring().hom([z,w],P3.coordinate_ring())\n",
    "R=P3.coordinate_ring()\n",
    "f=DynamicalSystem([R(F[0]),R(F[1]),phi(G[0]),phi(G[1])])\n",
    "f.is_morphism()\n",
    "s1=sigma(f,1)\n",
    "\n",
    "P1.<a,b>=ProjectiveSpace(QQ,1)\n",
    "F = P1.Lattes_map(EllipticCurve(QQ,[0,2]),2)\n",
    "G = P1.Lattes_map(EllipticCurve(QQ,[0,3]),2)\n",
    "P3.<x,y,z,w>=ProjectiveSpace(QQ,3)\n",
    "phi=P1.coordinate_ring().hom([z,w],P3.coordinate_ring())\n",
    "R=P3.coordinate_ring()\n",
    "g=DynamicalSystem([R(F[0]),R(F[1]),phi(G[0]),phi(G[1])])\n",
    "g.is_morphism()\n",
    "s2=sigma(g,1)\n",
    "\n",
    "s1==s2"
   ]
  },
  {
   "cell_type": "code",
   "execution_count": 19,
   "metadata": {},
   "outputs": [
    {
     "data": {
      "text/plain": [
       "Dynamical System of Projective Space of dimension 3 over Rational Field\n",
       "  Defn: Defined on coordinates by sending (x : y : z : w) to\n",
       "        (1/4*x^4 - 2*x*y^3 : x^3*y + y^4 : 1/4*z^4 - 4*z*w^3 : z^3*w + 2*w^4)"
      ]
     },
     "execution_count": 19,
     "metadata": {},
     "output_type": "execute_result"
    }
   ],
   "source": [
    "f"
   ]
  },
  {
   "cell_type": "code",
   "execution_count": 89,
   "metadata": {},
   "outputs": [
    {
     "data": {
      "text/plain": [
       "Scheme morphism:\n",
       "  From: Product of projective spaces P^1 x P^1 over Rational Field\n",
       "  To:   Closed subscheme of Projective Space of dimension 3 over Rational Field defined by:\n",
       "  -u1*u2 + u0*u3\n",
       "  Defn: Defined by sending (x0 : x1 , x2 : x3) to \n",
       "        (x0*x2 : x0*x3 : x1*x2 : x1*x3)."
      ]
     },
     "execution_count": 89,
     "metadata": {},
     "output_type": "execute_result"
    }
   ],
   "source": [
    "(P1*P1).segre_embedding()"
   ]
  },
  {
   "cell_type": "code",
   "execution_count": 20,
   "metadata": {},
   "outputs": [
    {
     "name": "stdout",
     "output_type": "stream",
     "text": [
      "u0^4 - 8*u0*u1^3\n",
      "u0^3*u1 + u1^4\n",
      "u2^4 - 16*u2*u3^3\n"
     ]
    },
    {
     "data": {
      "text/plain": [
       "u2^3*u3 + 2*u3^4"
      ]
     },
     "execution_count": 20,
     "metadata": {},
     "output_type": "execute_result"
    }
   ],
   "source": [
    "R.<x0,x1,x2,x3,u0,u1,u2,u3>=QQ[]\n",
    "x=x0*x2\n",
    "y=x0*x3\n",
    "z=x1*x2\n",
    "w=x1*x3\n",
    "I=R.ideal([u0-x0*x2, u1-x0*x3, u2-x1*x2,u3-x1*x3, 1/4*x^4 - 2*x*y^3])#, x^3*y + y^4, 1/4*z^4 - 2*z*w^3, z^3*w + w^4])\n",
    "print I.elimination_ideal([x0,x1,x2,x3]).gen(1)\n",
    "I=R.ideal([u0-x0*x2, u1-x0*x3, u2-x1*x2,u3-x1*x3, x^3*y + y^4])\n",
    "print I.elimination_ideal([x0,x1,x2,x3]).gen(1)\n",
    "I=R.ideal([u0-x0*x2, u1-x0*x3, u2-x1*x2,u3-x1*x3, 1/4*z^4 - 4*z*w^3])\n",
    "print I.elimination_ideal([x0,x1,x2,x3]).gen(1)\n",
    "I=R.ideal([u0-x0*x2, u1-x0*x3, u2-x1*x2,u3-x1*x3, z^3*w + 2*w^4])\n",
    "I.elimination_ideal([x0,x1,x2,x3]).gen(1)"
   ]
  },
  {
   "cell_type": "code",
   "execution_count": 21,
   "metadata": {},
   "outputs": [
    {
     "data": {
      "text/plain": [
       "True"
      ]
     },
     "execution_count": 21,
     "metadata": {},
     "output_type": "execute_result"
    }
   ],
   "source": [
    "P.<u0,u1,u2,u3>=ProjectiveSpace(QQ,3)\n",
    "f=DynamicalSystem([u0^4 - 8*u0*u1^3,u0^3*u1 + u1^4,u2^4 - 8*u2*u3^3,u2^3*u3 + u3^4])\n",
    "f.is_morphism()"
   ]
  },
  {
   "cell_type": "code",
   "execution_count": 14,
   "metadata": {},
   "outputs": [
    {
     "name": "stdout",
     "output_type": "stream",
     "text": [
      "Dynamical System of Projective Space of dimension 3 over Rational Field\n",
      "  Defn: Defined on coordinates by sending (u0 : u1 : u2 : u3) to\n",
      "        (u0^4 - 8*u0*u1^3 : u0^3*u1 + u1^4 : u2^4 - 8*u2*u3^3 : u2^3*u3 + u3^4) 1\n",
      "j: 3\n",
      "im: [v0, v1, v2]\n",
      "[(x0^4 - 8*x0*x1^3)/(x2^3 + 1), (x0^3*x1 + x1^4)/(x2^3 + 1), (x2^4 - 8*x2)/(x2^3 + 1)]\n",
      "(4, 12)\n",
      "j: 2\n",
      "im: [v0, v1, 0]\n",
      "[(x0^4 - 8*x0*x1^3)/(-8*x2^3 + 1), (x0^3*x1 + x1^4)/(-8*x2^3 + 1), (x2^4 + x2)/(-8*x2^3 + 1)]\n",
      "(8, 24)\n",
      "j: 1\n",
      "im: [v0, 0, 0]\n",
      "[(x0^4 - 8*x0)/(x0^3 + 1), (x1^4 - 8*x1*x2^3)/(x0^3 + 1), (x1^3*x2 + x2^4)/(x0^3 + 1)]\n",
      "(9, 27)\n",
      "j: 0\n",
      "im: [0, 0, 0]\n",
      "[(x0^4 + x0)/(-8*x0^3 + 1), (x1^4 - 8*x1*x2^3)/(-8*x0^3 + 1), (x1^3*x2 + x2^4)/(-8*x0^3 + 1)]\n",
      "(10, 30)\n"
     ]
    }
   ],
   "source": [
    "s2=sigma(f,1)"
   ]
  },
  {
   "cell_type": "code",
   "execution_count": 22,
   "metadata": {},
   "outputs": [
    {
     "name": "stdout",
     "output_type": "stream",
     "text": [
      "Dynamical System of Projective Space of dimension 3 over Rational Field\n",
      "  Defn: Defined on coordinates by sending (u0 : u1 : u2 : u3) to\n",
      "        (u0^4 - 8*u0*u1^3 : u0^3*u1 + u1^4 : u2^4 - 16*u2*u3^3 : u2^3*u3 + 2*u3^4) 1\n",
      "j: 3\n",
      "im: [v0, v1, v2]\n",
      "[(x0^4 - 8*x0*x1^3)/(x2^3 + 2), (x0^3*x1 + x1^4)/(x2^3 + 2), (x2^4 - 16*x2)/(x2^3 + 2)]\n",
      "(4, 12)\n",
      "j: 2\n",
      "im: [v0, v1, 0]\n",
      "[(x0^4 - 8*x0*x1^3)/(-16*x2^3 + 1), (x0^3*x1 + x1^4)/(-16*x2^3 + 1), (2*x2^4 + x2)/(-16*x2^3 + 1)]\n",
      "(8, 24)\n",
      "j: 1\n",
      "im: [v0, 0, 0]\n",
      "[(x0^4 - 8*x0)/(x0^3 + 1), (x1^4 - 16*x1*x2^3)/(x0^3 + 1), (x1^3*x2 + 2*x2^4)/(x0^3 + 1)]\n",
      "(9, 27)\n",
      "j: 0\n",
      "im: [0, 0, 0]\n",
      "[(x0^4 + x0)/(-8*x0^3 + 1), (x1^4 - 16*x1*x2^3)/(-8*x0^3 + 1), (x1^3*x2 + 2*x2^4)/(-8*x0^3 + 1)]\n",
      "(10, 30)\n",
      "CPU times: user 64 ms, sys: 0 ns, total: 64 ms\n",
      "Wall time: 80 ms\n"
     ]
    }
   ],
   "source": [
    "%%time\n",
    "s1=sigma(f,1)"
   ]
  },
  {
   "cell_type": "code",
   "execution_count": 23,
   "metadata": {},
   "outputs": [
    {
     "data": {
      "text/plain": [
       "True"
      ]
     },
     "execution_count": 23,
     "metadata": {},
     "output_type": "execute_result"
    }
   ],
   "source": [
    "s1==s2"
   ]
  },
  {
   "cell_type": "code",
   "execution_count": 24,
   "metadata": {},
   "outputs": [
    {
     "name": "stdout",
     "output_type": "stream",
     "text": [
      "Dynamical System of Projective Space of dimension 3 over Rational Field\n",
      "  Defn: Defined on coordinates by sending (u0 : u1 : u2 : u3) to\n",
      "        (u0^4 - 8*u0*u1^3 : u0^3*u1 + u1^4 : u2^4 - 8*u2*u3^3 : u2^3*u3 + u3^4) 1\n",
      "j: 3\n",
      "im: [v0, v1, v2]\n",
      "[(x0^4 - 8*x0*x1^3)/(x2^3 + 1), (x0^3*x1 + x1^4)/(x2^3 + 1), (x2^4 - 8*x2)/(x2^3 + 1)]\n",
      "(4, 12)\n",
      "j: 2\n",
      "im: [v0, v1, 0]\n",
      "[(x0^4 - 8*x0*x1^3)/(-8*x2^3 + 1), (x0^3*x1 + x1^4)/(-8*x2^3 + 1), (x2^4 + x2)/(-8*x2^3 + 1)]\n",
      "(8, 24)\n",
      "j: 1\n",
      "im: [v0, 0, 0]\n",
      "[(x0^4 - 8*x0)/(x0^3 + 1), (x1^4 - 8*x1*x2^3)/(x0^3 + 1), (x1^3*x2 + x2^4)/(x0^3 + 1)]\n",
      "(9, 27)\n",
      "j: 0\n",
      "im: [0, 0, 0]\n",
      "[(x0^4 + x0)/(-8*x0^3 + 1), (x1^4 - 8*x1*x2^3)/(-8*x0^3 + 1), (x1^3*x2 + x2^4)/(-8*x0^3 + 1)]\n",
      "(10, 30)\n",
      "Dynamical System of Projective Space of dimension 3 over Rational Field\n",
      "  Defn: Defined on coordinates by sending (u0 : u1 : u2 : u3) to\n",
      "        (u0^4 - 8*u0*u1^3 : u0^3*u1 + u1^4 : u2^4 - 16*u2*u3^3 : u2^3*u3 + 2*u3^4) 1\n",
      "j: 3\n",
      "im: [v0, v1, v2]\n",
      "[(x0^4 - 8*x0*x1^3)/(x2^3 + 2), (x0^3*x1 + x1^4)/(x2^3 + 2), (x2^4 - 16*x2)/(x2^3 + 2)]\n",
      "(4, 12)\n",
      "j: 2\n",
      "im: [v0, v1, 0]\n",
      "[(x0^4 - 8*x0*x1^3)/(-16*x2^3 + 1), (x0^3*x1 + x1^4)/(-16*x2^3 + 1), (2*x2^4 + x2)/(-16*x2^3 + 1)]\n",
      "(8, 24)\n",
      "j: 1\n",
      "im: [v0, 0, 0]\n",
      "[(x0^4 - 8*x0)/(x0^3 + 1), (x1^4 - 16*x1*x2^3)/(x0^3 + 1), (x1^3*x2 + 2*x2^4)/(x0^3 + 1)]\n",
      "(9, 27)\n",
      "j: 0\n",
      "im: [0, 0, 0]\n",
      "[(x0^4 + x0)/(-8*x0^3 + 1), (x1^4 - 16*x1*x2^3)/(-8*x0^3 + 1), (x1^3*x2 + 2*x2^4)/(-8*x0^3 + 1)]\n",
      "(10, 30)\n"
     ]
    },
    {
     "data": {
      "text/plain": [
       "True"
      ]
     },
     "execution_count": 24,
     "metadata": {},
     "output_type": "execute_result"
    }
   ],
   "source": [
    "P.<u0,u1,u2,u3>=ProjectiveSpace(QQ,3)\n",
    "f=DynamicalSystem([u0^4 - 8*u0*u1^3,u0^3*u1 + u1^4,u2^4 - 8*u2*u3^3,u2^3*u3 + u3^4])\n",
    "f.is_morphism()\n",
    "\n",
    "P.<u0,u1,u2,u3>=ProjectiveSpace(QQ,3)\n",
    "g=DynamicalSystem([u0^4 - 8*u0*u1^3,u0^3*u1 + u1^4,u2^4 - 16*u2*u3^3,u2^3*u3 + 2*u3^4])\n",
    "g.is_morphism()\n",
    "\n",
    "s1=sigma(f,1)\n",
    "s2=sigma(g,1)\n",
    "\n",
    "s1==s2"
   ]
  },
  {
   "cell_type": "code",
   "execution_count": 20,
   "metadata": {},
   "outputs": [
    {
     "data": {
      "text/plain": [
       "w^12 - 12*w^11*t^2 - 92/3*w^11*t - 16*w^11 + 66*w^10*t^4 + 1012/3*w^10*t^3 + 592*w^10*t^2 + 4064/9*w^10*t + 128*w^10 - 220*w^9*t^6 - 5060/3*w^9*t^5 - 5040*w^9*t^4 - 210368/27*w^9*t^3 - 183680/27*w^9*t^2 - 83968/27*w^9*t - 2048/9*w^9 + 495*w^8*t^8 + 5060*w^8*t^7 + 21360*w^8*t^6 + 149408/3*w^8*t^5 + 5829376/81*w^8*t^4 + 5353472/81*w^8*t^3 + 2704384/81*w^8*t^2 + 237568/81*w^8*t - 1064960/729*w^8 - 792*w^7*t^10 - 10120*w^7*t^9 - 55200*w^7*t^8 - 516352/3*w^7*t^7 - 28041728/81*w^7*t^6 - 4247488/9*w^7*t^5 - 34071296/81*w^7*t^4 - 15681536/81*w^7*t^3 - 3350528/729*w^7*t^2 + 2375680/729*w^7*t - 14876672/729*w^7 + 924*w^6*t^12 + 14168*w^6*t^11 + 94752*w^6*t^10 + 3329984/9*w^6*t^9 + 77179648/81*w^6*t^8 + 138854464/81*w^6*t^7 + 174246272/81*w^6*t^6 + 137810944/81*w^6*t^5 + 429561856/729*w^6*t^4 - 409600/729*w^6*t^3 + 90800128/243*w^6*t^2 + 552337408/729*w^6*t + 524288*w^6 - 792*w^5*t^14 - 14168*w^5*t^13 - 112224*w^5*t^12 - 1579648/3*w^5*t^11 - 133828352/81*w^5*t^10 - 298406080/81*w^5*t^9 - 479103488/81*w^5*t^8 - 174992384/27*w^5*t^7 - 2934428672/729*w^5*t^6 - 189538304/243*w^5*t^5 - 335233024/243*w^5*t^4 - 4598530048/729*w^5*t^3 - 7709917184/729*w^5*t^2 - 85983232/9*w^5*t - 4194304*w^5 + 495*w^4*t^16 + 10120*w^4*t^15 + 92640*w^4*t^14 + 507584*w^4*t^13 + 152104960/81*w^4*t^12 + 134723008/27*w^4*t^11 + 787334272/81*w^4*t^10 + 363315200/27*w^4*t^9 + 8525556736/729*w^4*t^8 + 3116646400/729*w^4*t^7 + 1209696256/729*w^4*t^6 + 12154830848/729*w^4*t^5 + 1253048320/27*w^4*t^4 + 49836720128/729*w^4*t^3 + 1593835520/27*w^4*t^2 + 738197504/27*w^4*t + 67108864/9*w^4 - 220*w^3*t^18 - 5060*w^3*t^17 - 52560*w^3*t^16 - 2964224/9*w^3*t^15 - 113670656/81*w^3*t^14 - 350380352/81*w^3*t^13 - 800629504/81*w^3*t^12 - 147853312/9*w^3*t^11 - 13172271104/729*w^3*t^10 - 6893215744/729*w^3*t^9 + 113967104/243*w^3*t^8 - 3958341632/243*w^3*t^7 - 58287849472/729*w^3*t^6 - 117455716352/729*w^3*t^5 - 127718653952/729*w^3*t^4 - 50189041664/729*w^3*t^3 + 51707379712/729*w^3*t^2 + 82275467264/729*w^3*t + 34896609280/729*w^3 + 66*w^2*t^20 + 5060/3*w^2*t^19 + 19600*w^2*t^18 + 414752/3*w^2*t^17 + 53995648/81*w^2*t^16 + 189317312/81*w^2*t^15 + 495661696/81*w^2*t^14 + 957633536/81*w^2*t^13 + 11364511744/729*w^2*t^12 + 2540724224/243*w^2*t^11 - 667132928/243*w^2*t^10 + 221814784/729*w^2*t^9 + 41500688384/729*w^2*t^8 + 38267256832/243*w^2*t^7 + 42949148672/243*w^2*t^6 - 18199085056/243*w^2*t^5 - 440997511168/729*w^2*t^4 - 813493649408/729*w^2*t^3 - 934088278016/729*w^2*t^2 - 727460085760/729*w^2*t - 295279001600/729*w^2 - 12*w*t^22 - 1012/3*w*t^21 - 4336*w*t^20 - 305984/9*w*t^19 - 14822528/81*w*t^18 - 19411648/27*w*t^17 - 171702272/81*w*t^16 - 377119744/81*w*t^15 - 5187691520/729*w*t^14 - 4202381312/729*w*t^13 + 1636538368/729*w*t^12 + 6240747520/729*w*t^11 - 2403565568/243*w*t^10 - 41760063488/729*w*t^9 - 10461642752/243*w*t^8 + 60012101632/243*w*t^7 + 705129611264/729*w*t^6 + 1380160897024/729*w*t^5 + 1763486728192/729*w*t^4 + 1454920171520/729*w*t^3 + 590558003200/729*w*t^2 + t^24 + 92/3*t^23 + 432*t^22 + 100640/27*t^21 + 1794304/81*t^20 + 7806400/81*t^19 + 25578368/81*t^18 + 62830592/81*t^17 + 979176448/729*t^16 + 923426816/729*t^15 - 48729088/81*t^14 - 2696175616/729*t^13 - 2506735616/729*t^12 + 1541931008/729*t^11 - 9719775232/729*t^10 - 95181340672/729*t^9 - 321275297792/729*t^8 - 648942714880/729*t^7 - 3556769792/3*t^6 - 727460085760/729*t^5 - 295279001600/729*t^4"
      ]
     },
     "execution_count": 20,
     "metadata": {},
     "output_type": "execute_result"
    }
   ],
   "source": [
    "s1"
   ]
  },
  {
   "cell_type": "code",
   "execution_count": 16,
   "metadata": {},
   "outputs": [
    {
     "name": "stdout",
     "output_type": "stream",
     "text": [
      "Dynamical System of Projective Space of dimension 2 over Fraction Field of Multivariate Polynomial Ring in a1, a2, a3, a4, a5, a6 over Rational Field\n",
      "  Defn: Defined on coordinates by sending (x : y : z) to\n",
      "        (x^2 + a2*x*z + a1*y*z + a3*z^2 : y^2 + a4*x*z + a5*y*z + a6*z^2 : z^2) 1\n",
      "j: 2\n",
      "im: [v0, v1]\n",
      "[x0^2 + a2*x0 + a1*x1 + a3, x1^2 + a4*x0 + a5*x1 + a6]\n",
      "(4, 8)\n",
      "j: 1\n",
      "im: [v0, 0]\n",
      "[(x0^2 + a2*x0*x1 + a3*x1^2 + a1*x1)/(a4*x0*x1 + a6*x1^2 + a5*x1 + 1), x1^2/(a4*x0*x1 + a6*x1^2 + a5*x1 + 1)]\n",
      "(6, 12)\n",
      "j: 0\n",
      "im: [0, 0]\n",
      "[(x0^2 + a5*x0*x1 + a6*x1^2 + a4*x1)/(a1*x0*x1 + a3*x1^2 + a2*x1 + 1), x1^2/(a1*x0*x1 + a3*x1^2 + a2*x1 + 1)]\n",
      "(7, 14)\n"
     ]
    }
   ],
   "source": [
    "R.<a1,a2,a3,a4,a5,a6>=QQ[]\n",
    "P.<x,y,z>=ProjectiveSpace(FractionField(R),2)\n",
    "f=DynamicalSystem([x^2 + a1*y*z + a2*x*z +a3*z^2, a4*x*z + y^2 + a5*y*z + a6*z^2 , z^2])\n",
    "s=sigma(f,1, chow=False)"
   ]
  },
  {
   "cell_type": "code",
   "execution_count": 17,
   "metadata": {},
   "outputs": [
    {
     "name": "stdout",
     "output_type": "stream",
     "text": [
      "1 2\n",
      "2 4\n",
      "2 3\n",
      "2 2\n",
      "3 5\n",
      "3 4\n",
      "3 3\n",
      "4 6\n",
      "4 2\n",
      "5 10\n",
      "5 8\n",
      "5 7\n",
      "5 5\n",
      "5 4\n",
      "5 3\n",
      "6 12\n",
      "6 11\n",
      "6 10\n",
      "6 9\n",
      "6 6\n",
      "6 2\n",
      "7 14\n",
      "7 13\n",
      "7 12\n",
      "7 11\n",
      "7 10\n",
      "7 8\n",
      "7 7\n",
      "7 4\n",
      "7 3\n"
     ]
    }
   ],
   "source": [
    "w,t = s.parent().gens()\n",
    "N=2\n",
    "D=7\n",
    "L=[[0 for _ in range(N*D+1)] for _ in range(D+1)]\n",
    "for i in range(D-1,-1,-1):\n",
    "    for j in range(N*(D-i)+1):\n",
    "        if i == 0:\n",
    "            if j == 0:\n",
    "                c = R(s.constant_coefficient())\n",
    "            else:\n",
    "                c = R(s.subs({w:0}).coefficient({t:j}).subs({w:0,t:0}))\n",
    "        else:\n",
    "            c = R(s.coefficient({w:i,t:j}).subs({w:0,t:0}))\n",
    "        if c.degree()!=0:\n",
    "            if c.lc() <= 0:\n",
    "                print D-i,N*(D-i)-j\n",
    "                c = (-1)*c\n",
    "            L[D-i][N*(D-i)-j]=c"
   ]
  },
  {
   "cell_type": "code",
   "execution_count": 18,
   "metadata": {},
   "outputs": [
    {
     "name": "stdout",
     "output_type": "stream",
     "text": [
      "good:  (1, 2)\n",
      "8*a1*a4 + 4\n",
      "good:  (2, 2)\n",
      "2*a2^2 - 36*a1*a4 + 4*a2*a4 + 4*a1*a5 + 2*a5^2 - 4*a1 - 4*a2 - 8*a3 - 4*a4 - 4*a5 - 8*a6 - 60\n",
      "good:  (2, 3)\n",
      "16*a1*a2*a4 + 8*a2^2*a4 + 16*a1*a4*a5 + 8*a1*a5^2 - 4*a2^2 + 8*a1*a4 - 24*a2*a4 - 32*a3*a4 - 24*a1*a5 - 4*a5^2 - 32*a1*a6 + 16*a1 + 8*a2 + 16*a3 + 16*a4 + 8*a5 + 16*a6 + 24\n",
      "good:  (2, 4)\n",
      "4*a2^3*a4 - 18*a1^2*a4^2 + 8*a1*a2*a4*a5 + 2*a2^2*a5^2 + 4*a1*a5^3 - 24*a1*a2*a4 - 20*a2^2*a4 - 16*a2*a3*a4 - 4*a2^2*a5 - 24*a1*a4*a5 - 20*a1*a5^2 - 4*a2*a5^2 - 8*a3*a5^2 - 8*a2^2*a6 - 16*a1*a5*a6 + 4*a2^2 + 28*a1*a4 + 32*a2*a4 + 48*a3*a4 + 32*a1*a5 + 8*a2*a5 + 16*a3*a5 + 4*a5^2 + 48*a1*a6 + 16*a2*a6 + 32*a3*a6 - 16*a1 - 8*a2 - 16*a3 - 16*a4 - 8*a5 - 16*a6\n",
      "redundant:  (3, 2)\n",
      "good:  (3, 3)\n",
      "8*a1^2*a4 - 64*a1*a2*a4 - 32*a2^2*a4 + 8*a1*a4^2 - 64*a1*a4*a5 - 32*a1*a5^2 + 32*a2^2 + 128*a2*a4 + 128*a3*a4 + 128*a1*a5 + 32*a5^2 + 128*a1*a6 - 96*a1 - 64*a2 - 128*a3 - 96*a4 - 64*a5 - 128*a6 - 176\n",
      "redundant:  (3, 4)\n",
      "redundant:  (3, 5)\n",
      "redundant:  (3, 6)\n",
      "redundant:  (4, 2)\n",
      "redundant:  (4, 3)\n",
      "redundant:  (4, 4)\n",
      "redundant:  (4, 5)\n",
      "redundant:  (4, 6)\n",
      "redundant:  (4, 7)\n",
      "redundant:  (4, 8)\n",
      "redundant:  (5, 2)\n",
      "redundant:  (5, 3)\n",
      "redundant:  (5, 4)\n",
      "redundant:  (5, 5)\n",
      "redundant:  (5, 6)\n",
      "redundant:  (5, 7)\n",
      "redundant:  (5, 8)\n",
      "redundant:  (5, 9)\n",
      "redundant:  (6, 2)\n",
      "redundant:  (6, 3)\n",
      "redundant:  (6, 4)\n",
      "redundant:  (6, 5)\n",
      "redundant:  (6, 6)\n",
      "redundant:  (6, 7)\n",
      "redundant:  (6, 8)\n",
      "redundant:  (6, 9)\n",
      "redundant:  (7, 2)\n",
      "redundant:  (7, 3)\n",
      "redundant:  (7, 4)\n",
      "redundant:  (7, 5)\n",
      "redundant:  (7, 6)\n",
      "redundant:  (7, 7)\n",
      "redundant:  (7, 8)\n",
      "redundant:  (7, 9)\n"
     ]
    },
    {
     "data": {
      "text/plain": [
       "5"
      ]
     },
     "execution_count": 18,
     "metadata": {},
     "output_type": "execute_result"
    }
   ],
   "source": [
    "B=[]\n",
    "for i in range(len(L)):\n",
    "    ll = L[i]\n",
    "    for j in range(len(ll)):\n",
    "        l = ll[j]\n",
    "        I = R.ideal(B)\n",
    "        if l != 0:\n",
    "            if l not in I:\n",
    "                print \"good: \",(i,j)\n",
    "                B.append(l)\n",
    "                print l\n",
    "            else:\n",
    "                print \"redundant: \",(i,j)\n",
    "             # print l.lift(I)\n",
    "len(B)"
   ]
  },
  {
   "cell_type": "code",
   "execution_count": null,
   "metadata": {},
   "outputs": [],
   "source": [
    "J=R.ideal([B[0]+116, B[1]-40])\n",
    "J.dimension()"
   ]
  },
  {
   "cell_type": "code",
   "execution_count": 33,
   "metadata": {},
   "outputs": [
    {
     "data": {
      "text/plain": [
       "2"
      ]
     },
     "execution_count": 33,
     "metadata": {},
     "output_type": "execute_result"
    }
   ],
   "source": [
    "J=R.ideal([B[0]-12, B[1]+116, B[2]-40, B[3]-12, B[4]+352])\n",
    "J.dimension()"
   ]
  },
  {
   "cell_type": "code",
   "execution_count": 79,
   "metadata": {},
   "outputs": [
    {
     "name": "stdout",
     "output_type": "stream",
     "text": [
      "Dynamical System of Projective Space of dimension 2 over Rational Field\n",
      "  Defn: Defined on coordinates by sending (x : y : z) to\n",
      "        (x^2 + x*z + y*z + z^2 : y^2 + x*z - y*z + z^2 : z^2) 1\n",
      "j: 2\n",
      "im: [v0, v1]\n",
      "[x0^2 + x0 + x1 + 1, x1^2 + x0 - x1 + 1]\n",
      "(4, 8)\n",
      "j: 1\n",
      "im: [v0, 0]\n",
      "[(x0^2 + x0*x1 + x1^2 + x1)/(x0*x1 + x1^2 - x1 + 1), x1^2/(x0*x1 + x1^2 - x1 + 1)]\n",
      "(6, 12)\n",
      "j: 0\n",
      "im: [0, 0]\n",
      "[(x0^2 - x0*x1 + x1^2 + x1)/(x0*x1 + x1^2 + x1 + 1), x1^2/(x0*x1 + x1^2 + x1 + 1)]\n",
      "(7, 14)\n"
     ]
    }
   ],
   "source": [
    "g=f.change_ring(R).specialization({a1:1,a2:1,a3:1,a4:1,a5:-1,a6:1})\n",
    "s=sigma(g,1)"
   ]
  },
  {
   "cell_type": "code",
   "execution_count": 89,
   "metadata": {},
   "outputs": [
    {
     "name": "stdout",
     "output_type": "stream",
     "text": [
      "Dynamical System of Projective Space of dimension 2 over Rational Field\n",
      "  Defn: Defined on coordinates by sending (x : y : z) to\n",
      "        (x^2 + x*z + y*z + 2*z^2 : y^2 + x*z + 5*y*z + 6*z^2 : z^2) 1\n",
      "j: 2\n",
      "im: [v0, v1]\n",
      "[x0^2 + x0 + x1 + 2, x1^2 + x0 + 5*x1 + 6]\n",
      "(4, 8)\n",
      "j: 1\n",
      "im: [v0, 0]\n",
      "[(x0^2 + x0*x1 + 2*x1^2 + x1)/(x0*x1 + 6*x1^2 + 5*x1 + 1), x1^2/(x0*x1 + 6*x1^2 + 5*x1 + 1)]\n",
      "(6, 12)\n",
      "j: 0\n",
      "im: [0, 0]\n",
      "[(x0^2 + 5*x0*x1 + 6*x1^2 + x1)/(x0*x1 + 2*x1^2 + x1 + 1), x1^2/(x0*x1 + 2*x1^2 + x1 + 1)]\n",
      "(7, 14)\n",
      "True\n",
      "w^7 - 7*w^6*t^2 + 10*w^6*t - 12*w^6 + 21*w^5*t^4 - 60*w^5*t^3 + 116*w^5*t^2 - 40*w^5*t - 12*w^5 - 35*w^4*t^6 + 150*w^4*t^5 - 400*w^4*t^4 + 352*w^4*t^3 + 44*w^4*t^2 - 920*w^4*t + 800*w^4 + 35*w^3*t^8 - 200*w^3*t^7 + 680*w^3*t^6 - 1008*w^3*t^5 + 392*w^3*t^4 + 2496*w^3*t^3 - 3344*w^3*t^2 + 320*w^3*t + 2624*w^3 - 21*w^2*t^10 + 150*w^2*t^9 - 620*w^2*t^8 + 1312*w^2*t^7 - 1320*w^2*t^6 - 1456*w^2*t^5 + 2800*w^2*t^4 + 2336*w^2*t^3 - 10432*w^2*t^2 + 5248*w^2*t + 7*w*t^12 - 60*w*t^11 + 292*w*t^10 - 808*w*t^9 + 1348*w*t^8 - 896*w*t^7 + 1232*w*t^6 - 5632*w*t^5 + 12992*w*t^4 - 10496*w*t^3 - t^14 + 10*t^13 - 56*t^12 + 192*t^11 - 452*t^10 + 776*t^9 - 1488*t^8 + 2976*t^7 - 5184*t^6 + 5248*t^5\n"
     ]
    }
   ],
   "source": [
    "g=f.change_ring(R).specialization({a1:1,a2:1,a3:2,a4:1,a5:5,a6:6})\n",
    "s2=sigma(g,1)\n",
    "print s==s2"
   ]
  },
  {
   "cell_type": "code",
   "execution_count": 122,
   "metadata": {},
   "outputs": [
    {
     "name": "stdout",
     "output_type": "stream",
     "text": [
      "-5 {b6: 481/16, b5: -19/2}\n",
      "True\n",
      "Dynamical System of Projective Space of dimension 2 over Rational Field\n",
      "  Defn: Defined on coordinates by sending (x : y : z) to\n",
      "        (x^2 + x*z + y*z - 5*z^2 : y^2 + x*z - 19/2*y*z + 481/16*z^2 : z^2) 1\n",
      "j: 2\n",
      "im: [v0, v1]\n",
      "[x0^2 + x0 + x1 - 5, x1^2 + x0 - 19/2*x1 + 481/16]\n",
      "(4, 8)\n",
      "j: 1\n",
      "im: [v0, 0]\n",
      "[(x0^2 + x0*x1 - 5*x1^2 + x1)/(x0*x1 + 481/16*x1^2 - 19/2*x1 + 1), x1^2/(x0*x1 + 481/16*x1^2 - 19/2*x1 + 1)]\n",
      "(6, 12)\n",
      "j: 0\n",
      "im: [0, 0]\n",
      "[(x0^2 - 19/2*x0*x1 + 481/16*x1^2 + x1)/(x0*x1 - 5*x1^2 + x1 + 1), x1^2/(x0*x1 - 5*x1^2 + x1 + 1)]\n",
      "(7, 14)\n",
      "False\n",
      "{b6: 849/16, b5: -27/2}\n",
      "True\n",
      "Dynamical System of Projective Space of dimension 2 over Rational Field\n",
      "  Defn: Defined on coordinates by sending (x : y : z) to\n",
      "        (x^2 + x*z + y*z - 5*z^2 : y^2 + x*z - 27/2*y*z + 849/16*z^2 : z^2) 1\n",
      "j: 2\n",
      "im: [v0, v1]\n",
      "[x0^2 + x0 + x1 - 5, x1^2 + x0 - 27/2*x1 + 849/16]\n",
      "(4, 8)\n",
      "j: 1\n",
      "im: [v0, 0]\n",
      "[(x0^2 + x0*x1 - 5*x1^2 + x1)/(x0*x1 + 849/16*x1^2 - 27/2*x1 + 1), x1^2/(x0*x1 + 849/16*x1^2 - 27/2*x1 + 1)]\n",
      "(6, 12)\n",
      "j: 0\n",
      "im: [0, 0]\n",
      "[(x0^2 - 27/2*x0*x1 + 849/16*x1^2 + x1)/(x0*x1 - 5*x1^2 + x1 + 1), x1^2/(x0*x1 - 5*x1^2 + x1 + 1)]\n",
      "(7, 14)\n",
      "False\n",
      "-4 {b6: 329/16, b5: -15/2}\n",
      "True\n",
      "Dynamical System of Projective Space of dimension 2 over Rational Field\n",
      "  Defn: Defined on coordinates by sending (x : y : z) to\n",
      "        (x^2 + x*z + y*z - 4*z^2 : y^2 + x*z - 15/2*y*z + 329/16*z^2 : z^2) 1\n",
      "j: 2\n",
      "im: [v0, v1]\n",
      "[x0^2 + x0 + x1 - 4, x1^2 + x0 - 15/2*x1 + 329/16]\n",
      "(4, 8)\n",
      "j: 1\n",
      "im: [v0, 0]\n",
      "[(x0^2 + x0*x1 - 4*x1^2 + x1)/(x0*x1 + 329/16*x1^2 - 15/2*x1 + 1), x1^2/(x0*x1 + 329/16*x1^2 - 15/2*x1 + 1)]\n",
      "(6, 12)\n",
      "j: 0\n",
      "im: [0, 0]\n",
      "[(x0^2 - 15/2*x0*x1 + 329/16*x1^2 + x1)/(x0*x1 - 4*x1^2 + x1 + 1), x1^2/(x0*x1 - 4*x1^2 + x1 + 1)]\n",
      "(7, 14)\n",
      "False\n",
      "{b6: 633/16, b5: -23/2}\n",
      "True\n",
      "Dynamical System of Projective Space of dimension 2 over Rational Field\n",
      "  Defn: Defined on coordinates by sending (x : y : z) to\n",
      "        (x^2 + x*z + y*z - 4*z^2 : y^2 + x*z - 23/2*y*z + 633/16*z^2 : z^2) 1\n",
      "j: 2\n",
      "im: [v0, v1]\n",
      "[x0^2 + x0 + x1 - 4, x1^2 + x0 - 23/2*x1 + 633/16]\n",
      "(4, 8)\n",
      "j: 1\n",
      "im: [v0, 0]\n",
      "[(x0^2 + x0*x1 - 4*x1^2 + x1)/(x0*x1 + 633/16*x1^2 - 23/2*x1 + 1), x1^2/(x0*x1 + 633/16*x1^2 - 23/2*x1 + 1)]\n",
      "(6, 12)\n",
      "j: 0\n",
      "im: [0, 0]\n",
      "[(x0^2 - 23/2*x0*x1 + 633/16*x1^2 + x1)/(x0*x1 - 4*x1^2 + x1 + 1), x1^2/(x0*x1 - 4*x1^2 + x1 + 1)]\n",
      "(7, 14)\n",
      "False\n",
      "-3 {b6: 209/16, b5: -11/2}\n",
      "True\n",
      "Dynamical System of Projective Space of dimension 2 over Rational Field\n",
      "  Defn: Defined on coordinates by sending (x : y : z) to\n",
      "        (x^2 + x*z + y*z - 3*z^2 : y^2 + x*z - 11/2*y*z + 209/16*z^2 : z^2) 1\n",
      "j: 2\n",
      "im: [v0, v1]\n",
      "[x0^2 + x0 + x1 - 3, x1^2 + x0 - 11/2*x1 + 209/16]\n",
      "(4, 8)\n",
      "j: 1\n",
      "im: [v0, 0]\n",
      "[(x0^2 + x0*x1 - 3*x1^2 + x1)/(x0*x1 + 209/16*x1^2 - 11/2*x1 + 1), x1^2/(x0*x1 + 209/16*x1^2 - 11/2*x1 + 1)]\n",
      "(6, 12)\n",
      "j: 0\n",
      "im: [0, 0]\n",
      "[(x0^2 - 11/2*x0*x1 + 209/16*x1^2 + x1)/(x0*x1 - 3*x1^2 + x1 + 1), x1^2/(x0*x1 - 3*x1^2 + x1 + 1)]\n",
      "(7, 14)\n",
      "False\n",
      "{b6: 449/16, b5: -19/2}\n",
      "True\n",
      "Dynamical System of Projective Space of dimension 2 over Rational Field\n",
      "  Defn: Defined on coordinates by sending (x : y : z) to\n",
      "        (x^2 + x*z + y*z - 3*z^2 : y^2 + x*z - 19/2*y*z + 449/16*z^2 : z^2) 1\n",
      "j: 2\n",
      "im: [v0, v1]\n",
      "[x0^2 + x0 + x1 - 3, x1^2 + x0 - 19/2*x1 + 449/16]\n",
      "(4, 8)\n",
      "j: 1\n",
      "im: [v0, 0]\n",
      "[(x0^2 + x0*x1 - 3*x1^2 + x1)/(x0*x1 + 449/16*x1^2 - 19/2*x1 + 1), x1^2/(x0*x1 + 449/16*x1^2 - 19/2*x1 + 1)]\n",
      "(6, 12)\n",
      "j: 0\n",
      "im: [0, 0]\n",
      "[(x0^2 - 19/2*x0*x1 + 449/16*x1^2 + x1)/(x0*x1 - 3*x1^2 + x1 + 1), x1^2/(x0*x1 - 3*x1^2 + x1 + 1)]\n",
      "(7, 14)\n",
      "False\n",
      "-2 {b6: 121/16, b5: -7/2}\n",
      "True\n",
      "Dynamical System of Projective Space of dimension 2 over Rational Field\n",
      "  Defn: Defined on coordinates by sending (x : y : z) to\n",
      "        (x^2 + x*z + y*z - 2*z^2 : y^2 + x*z - 7/2*y*z + 121/16*z^2 : z^2) 1\n",
      "j: 2\n",
      "im: [v0, v1]\n",
      "[x0^2 + x0 + x1 - 2, x1^2 + x0 - 7/2*x1 + 121/16]\n",
      "(4, 8)\n",
      "j: 1\n",
      "im: [v0, 0]\n",
      "[(x0^2 + x0*x1 - 2*x1^2 + x1)/(x0*x1 + 121/16*x1^2 - 7/2*x1 + 1), x1^2/(x0*x1 + 121/16*x1^2 - 7/2*x1 + 1)]\n",
      "(6, 12)\n",
      "j: 0\n",
      "im: [0, 0]\n",
      "[(x0^2 - 7/2*x0*x1 + 121/16*x1^2 + x1)/(x0*x1 - 2*x1^2 + x1 + 1), x1^2/(x0*x1 - 2*x1^2 + x1 + 1)]\n",
      "(7, 14)\n",
      "False\n",
      "{b6: 297/16, b5: -15/2}\n",
      "True\n",
      "Dynamical System of Projective Space of dimension 2 over Rational Field\n",
      "  Defn: Defined on coordinates by sending (x : y : z) to\n",
      "        (x^2 + x*z + y*z - 2*z^2 : y^2 + x*z - 15/2*y*z + 297/16*z^2 : z^2) 1\n",
      "j: 2\n",
      "im: [v0, v1]\n",
      "[x0^2 + x0 + x1 - 2, x1^2 + x0 - 15/2*x1 + 297/16]\n",
      "(4, 8)\n",
      "j: 1\n",
      "im: [v0, 0]\n",
      "[(x0^2 + x0*x1 - 2*x1^2 + x1)/(x0*x1 + 297/16*x1^2 - 15/2*x1 + 1), x1^2/(x0*x1 + 297/16*x1^2 - 15/2*x1 + 1)]\n",
      "(6, 12)\n",
      "j: 0\n",
      "im: [0, 0]\n",
      "[(x0^2 - 15/2*x0*x1 + 297/16*x1^2 + x1)/(x0*x1 - 2*x1^2 + x1 + 1), x1^2/(x0*x1 - 2*x1^2 + x1 + 1)]\n",
      "(7, 14)\n",
      "False\n",
      "-1 {b6: 65/16, b5: -3/2}\n",
      "True\n",
      "Dynamical System of Projective Space of dimension 2 over Rational Field\n",
      "  Defn: Defined on coordinates by sending (x : y : z) to\n",
      "        (x^2 + x*z + y*z - z^2 : y^2 + x*z - 3/2*y*z + 65/16*z^2 : z^2) 1\n",
      "j: 2\n",
      "im: [v0, v1]\n",
      "[x0^2 + x0 + x1 - 1, x1^2 + x0 - 3/2*x1 + 65/16]\n",
      "(4, 8)\n",
      "j: 1\n",
      "im: [v0, 0]\n",
      "[(x0^2 + x0*x1 - x1^2 + x1)/(x0*x1 + 65/16*x1^2 - 3/2*x1 + 1), x1^2/(x0*x1 + 65/16*x1^2 - 3/2*x1 + 1)]\n",
      "(6, 12)\n",
      "j: 0\n",
      "im: [0, 0]\n",
      "[(x0^2 - 3/2*x0*x1 + 65/16*x1^2 + x1)/(x0*x1 - x1^2 + x1 + 1), x1^2/(x0*x1 - x1^2 + x1 + 1)]\n",
      "(7, 14)\n",
      "False\n",
      "{b6: 177/16, b5: -11/2}\n",
      "True\n",
      "Dynamical System of Projective Space of dimension 2 over Rational Field\n",
      "  Defn: Defined on coordinates by sending (x : y : z) to\n",
      "        (x^2 + x*z + y*z - z^2 : y^2 + x*z - 11/2*y*z + 177/16*z^2 : z^2) 1\n",
      "j: 2\n",
      "im: [v0, v1]\n",
      "[x0^2 + x0 + x1 - 1, x1^2 + x0 - 11/2*x1 + 177/16]\n",
      "(4, 8)\n",
      "j: 1\n",
      "im: [v0, 0]\n",
      "[(x0^2 + x0*x1 - x1^2 + x1)/(x0*x1 + 177/16*x1^2 - 11/2*x1 + 1), x1^2/(x0*x1 + 177/16*x1^2 - 11/2*x1 + 1)]\n",
      "(6, 12)\n",
      "j: 0\n",
      "im: [0, 0]\n",
      "[(x0^2 - 11/2*x0*x1 + 177/16*x1^2 + x1)/(x0*x1 - x1^2 + x1 + 1), x1^2/(x0*x1 - x1^2 + x1 + 1)]\n",
      "(7, 14)\n",
      "False\n",
      "0 {b6: 41/16, b5: 1/2}\n",
      "True\n",
      "Dynamical System of Projective Space of dimension 2 over Rational Field\n",
      "  Defn: Defined on coordinates by sending (x : y : z) to\n",
      "        (x^2 + x*z + y*z : y^2 + x*z + 1/2*y*z + 41/16*z^2 : z^2) 1\n",
      "j: 2\n",
      "im: [v0, v1]\n",
      "[x0^2 + x0 + x1, x1^2 + x0 + 1/2*x1 + 41/16]\n",
      "(4, 8)\n",
      "j: 1\n",
      "im: [v0, 0]\n",
      "[(x0^2 + x0*x1 + x1)/(x0*x1 + 41/16*x1^2 + 1/2*x1 + 1), x1^2/(x0*x1 + 41/16*x1^2 + 1/2*x1 + 1)]\n",
      "(6, 12)\n",
      "j: 0\n",
      "im: [0, 0]\n",
      "[(x0^2 + 1/2*x0*x1 + 41/16*x1^2 + x1)/(x0*x1 + x1 + 1), x1^2/(x0*x1 + x1 + 1)]\n",
      "(7, 14)\n",
      "False\n",
      "{b6: 89/16, b5: -7/2}\n",
      "True\n",
      "Dynamical System of Projective Space of dimension 2 over Rational Field\n",
      "  Defn: Defined on coordinates by sending (x : y : z) to\n",
      "        (x^2 + x*z + y*z : y^2 + x*z - 7/2*y*z + 89/16*z^2 : z^2) 1\n",
      "j: 2\n",
      "im: [v0, v1]\n",
      "[x0^2 + x0 + x1, x1^2 + x0 - 7/2*x1 + 89/16]\n",
      "(4, 8)\n",
      "j: 1\n",
      "im: [v0, 0]\n",
      "[(x0^2 + x0*x1 + x1)/(x0*x1 + 89/16*x1^2 - 7/2*x1 + 1), x1^2/(x0*x1 + 89/16*x1^2 - 7/2*x1 + 1)]\n",
      "(6, 12)\n",
      "j: 0\n",
      "im: [0, 0]\n",
      "[(x0^2 - 7/2*x0*x1 + 89/16*x1^2 + x1)/(x0*x1 + x1 + 1), x1^2/(x0*x1 + x1 + 1)]\n",
      "(7, 14)\n",
      "False\n",
      "1 {b6: 33/16, b5: -3/2}\n",
      "True\n",
      "Dynamical System of Projective Space of dimension 2 over Rational Field\n",
      "  Defn: Defined on coordinates by sending (x : y : z) to\n",
      "        (x^2 + x*z + y*z + z^2 : y^2 + x*z - 3/2*y*z + 33/16*z^2 : z^2) 1\n",
      "j: 2\n",
      "im: [v0, v1]\n",
      "[x0^2 + x0 + x1 + 1, x1^2 + x0 - 3/2*x1 + 33/16]\n",
      "(4, 8)\n",
      "j: 1\n",
      "im: [v0, 0]\n",
      "[(x0^2 + x0*x1 + x1^2 + x1)/(x0*x1 + 33/16*x1^2 - 3/2*x1 + 1), x1^2/(x0*x1 + 33/16*x1^2 - 3/2*x1 + 1)]\n",
      "(6, 12)\n",
      "j: 0\n",
      "im: [0, 0]\n",
      "[(x0^2 - 3/2*x0*x1 + 33/16*x1^2 + x1)/(x0*x1 + x1^2 + x1 + 1), x1^2/(x0*x1 + x1^2 + x1 + 1)]\n",
      "(7, 14)\n",
      "False\n",
      "{b6: 49/16, b5: 5/2}\n",
      "True\n",
      "Dynamical System of Projective Space of dimension 2 over Rational Field\n",
      "  Defn: Defined on coordinates by sending (x : y : z) to\n",
      "        (x^2 + x*z + y*z + z^2 : y^2 + x*z + 5/2*y*z + 49/16*z^2 : z^2) 1\n",
      "j: 2\n",
      "im: [v0, v1]\n",
      "[x0^2 + x0 + x1 + 1, x1^2 + x0 + 5/2*x1 + 49/16]\n",
      "(4, 8)\n",
      "j: 1\n",
      "im: [v0, 0]\n",
      "[(x0^2 + x0*x1 + x1^2 + x1)/(x0*x1 + 49/16*x1^2 + 5/2*x1 + 1), x1^2/(x0*x1 + 49/16*x1^2 + 5/2*x1 + 1)]\n",
      "(6, 12)\n",
      "j: 0\n",
      "im: [0, 0]\n",
      "[(x0^2 + 5/2*x0*x1 + 49/16*x1^2 + x1)/(x0*x1 + x1^2 + x1 + 1), x1^2/(x0*x1 + x1^2 + x1 + 1)]\n",
      "(7, 14)\n",
      "False\n",
      "2 {b6: 9/16, b5: 1/2}\n",
      "True\n",
      "Dynamical System of Projective Space of dimension 2 over Rational Field\n",
      "  Defn: Defined on coordinates by sending (x : y : z) to\n",
      "        (x^2 + x*z + y*z + 2*z^2 : y^2 + x*z + 1/2*y*z + 9/16*z^2 : z^2) 1\n",
      "j: 2\n",
      "im: [v0, v1]\n",
      "[x0^2 + x0 + x1 + 2, x1^2 + x0 + 1/2*x1 + 9/16]\n",
      "(4, 8)\n",
      "j: 1\n",
      "im: [v0, 0]\n",
      "[(x0^2 + x0*x1 + 2*x1^2 + x1)/(x0*x1 + 9/16*x1^2 + 1/2*x1 + 1), x1^2/(x0*x1 + 9/16*x1^2 + 1/2*x1 + 1)]\n",
      "(6, 12)\n",
      "j: 0\n",
      "im: [0, 0]\n",
      "[(x0^2 + 1/2*x0*x1 + 9/16*x1^2 + x1)/(x0*x1 + 2*x1^2 + x1 + 1), x1^2/(x0*x1 + 2*x1^2 + x1 + 1)]\n",
      "(7, 14)\n",
      "False\n",
      "{b6: 89/16, b5: 9/2}\n",
      "True\n",
      "Dynamical System of Projective Space of dimension 2 over Rational Field\n",
      "  Defn: Defined on coordinates by sending (x : y : z) to\n",
      "        (x^2 + x*z + y*z + 2*z^2 : y^2 + x*z + 9/2*y*z + 89/16*z^2 : z^2) 1\n",
      "j: 2\n",
      "im: [v0, v1]\n",
      "[x0^2 + x0 + x1 + 2, x1^2 + x0 + 9/2*x1 + 89/16]\n",
      "(4, 8)\n",
      "j: 1\n"
     ]
    },
    {
     "name": "stdout",
     "output_type": "stream",
     "text": [
      "im: [v0, 0]\n",
      "[(x0^2 + x0*x1 + 2*x1^2 + x1)/(x0*x1 + 89/16*x1^2 + 9/2*x1 + 1), x1^2/(x0*x1 + 89/16*x1^2 + 9/2*x1 + 1)]\n",
      "(6, 12)\n",
      "j: 0\n",
      "im: [0, 0]\n",
      "[(x0^2 + 9/2*x0*x1 + 89/16*x1^2 + x1)/(x0*x1 + 2*x1^2 + x1 + 1), x1^2/(x0*x1 + 2*x1^2 + x1 + 1)]\n",
      "(7, 14)\n",
      "False\n",
      "3 {b6: 17/16, b5: 5/2}\n",
      "True\n",
      "Dynamical System of Projective Space of dimension 2 over Rational Field\n",
      "  Defn: Defined on coordinates by sending (x : y : z) to\n",
      "        (x^2 + x*z + y*z + 3*z^2 : y^2 + x*z + 5/2*y*z + 17/16*z^2 : z^2) 1\n",
      "j: 2\n",
      "im: [v0, v1]\n",
      "[x0^2 + x0 + x1 + 3, x1^2 + x0 + 5/2*x1 + 17/16]\n",
      "(4, 8)\n",
      "j: 1\n",
      "im: [v0, 0]\n",
      "[(x0^2 + x0*x1 + 3*x1^2 + x1)/(x0*x1 + 17/16*x1^2 + 5/2*x1 + 1), x1^2/(x0*x1 + 17/16*x1^2 + 5/2*x1 + 1)]\n",
      "(6, 12)\n",
      "j: 0\n",
      "im: [0, 0]\n",
      "[(x0^2 + 5/2*x0*x1 + 17/16*x1^2 + x1)/(x0*x1 + 3*x1^2 + x1 + 1), x1^2/(x0*x1 + 3*x1^2 + x1 + 1)]\n",
      "(7, 14)\n",
      "False\n",
      "{b6: 161/16, b5: 13/2}\n",
      "True\n",
      "Dynamical System of Projective Space of dimension 2 over Rational Field\n",
      "  Defn: Defined on coordinates by sending (x : y : z) to\n",
      "        (x^2 + x*z + y*z + 3*z^2 : y^2 + x*z + 13/2*y*z + 161/16*z^2 : z^2) 1\n",
      "j: 2\n",
      "im: [v0, v1]\n",
      "[x0^2 + x0 + x1 + 3, x1^2 + x0 + 13/2*x1 + 161/16]\n",
      "(4, 8)\n",
      "j: 1\n",
      "im: [v0, 0]\n",
      "[(x0^2 + x0*x1 + 3*x1^2 + x1)/(x0*x1 + 161/16*x1^2 + 13/2*x1 + 1), x1^2/(x0*x1 + 161/16*x1^2 + 13/2*x1 + 1)]\n",
      "(6, 12)\n",
      "j: 0\n",
      "im: [0, 0]\n",
      "[(x0^2 + 13/2*x0*x1 + 161/16*x1^2 + x1)/(x0*x1 + 3*x1^2 + x1 + 1), x1^2/(x0*x1 + 3*x1^2 + x1 + 1)]\n",
      "(7, 14)\n",
      "False\n",
      "4 {b6: 57/16, b5: 9/2}\n",
      "True\n",
      "Dynamical System of Projective Space of dimension 2 over Rational Field\n",
      "  Defn: Defined on coordinates by sending (x : y : z) to\n",
      "        (x^2 + x*z + y*z + 4*z^2 : y^2 + x*z + 9/2*y*z + 57/16*z^2 : z^2) 1\n",
      "j: 2\n",
      "im: [v0, v1]\n",
      "[x0^2 + x0 + x1 + 4, x1^2 + x0 + 9/2*x1 + 57/16]\n",
      "(4, 8)\n",
      "j: 1\n",
      "im: [v0, 0]\n",
      "[(x0^2 + x0*x1 + 4*x1^2 + x1)/(x0*x1 + 57/16*x1^2 + 9/2*x1 + 1), x1^2/(x0*x1 + 57/16*x1^2 + 9/2*x1 + 1)]\n",
      "(6, 12)\n",
      "j: 0\n",
      "im: [0, 0]\n",
      "[(x0^2 + 9/2*x0*x1 + 57/16*x1^2 + x1)/(x0*x1 + 4*x1^2 + x1 + 1), x1^2/(x0*x1 + 4*x1^2 + x1 + 1)]\n",
      "(7, 14)\n",
      "False\n",
      "{b6: 265/16, b5: 17/2}\n",
      "True\n",
      "Dynamical System of Projective Space of dimension 2 over Rational Field\n",
      "  Defn: Defined on coordinates by sending (x : y : z) to\n",
      "        (x^2 + x*z + y*z + 4*z^2 : y^2 + x*z + 17/2*y*z + 265/16*z^2 : z^2) 1\n",
      "j: 2\n",
      "im: [v0, v1]\n",
      "[x0^2 + x0 + x1 + 4, x1^2 + x0 + 17/2*x1 + 265/16]\n",
      "(4, 8)\n",
      "j: 1\n",
      "im: [v0, 0]\n",
      "[(x0^2 + x0*x1 + 4*x1^2 + x1)/(x0*x1 + 265/16*x1^2 + 17/2*x1 + 1), x1^2/(x0*x1 + 265/16*x1^2 + 17/2*x1 + 1)]\n",
      "(6, 12)\n",
      "j: 0\n",
      "im: [0, 0]\n",
      "[(x0^2 + 17/2*x0*x1 + 265/16*x1^2 + x1)/(x0*x1 + 4*x1^2 + x1 + 1), x1^2/(x0*x1 + 4*x1^2 + x1 + 1)]\n",
      "(7, 14)\n",
      "False\n"
     ]
    }
   ],
   "source": [
    "S.<b5,b6>=QQ[]\n",
    "for c in range(-5,5):\n",
    "    phi=R.hom([1,2,c,1,b5,b6],S)\n",
    "    J3=S.ideal([phi(b) for b in J.gens()])\n",
    "    print c,\n",
    "    for D in J3.variety():\n",
    "        print D\n",
    "        g=f.change_ring(R).specialization({a1:1,a2:1,a3:c,a4:1,a5:D[b5],a6:D[b6]})\n",
    "        print g.is_morphism()\n",
    "        s2=sigma(g,1)\n",
    "        print s==s2"
   ]
  },
  {
   "cell_type": "code",
   "execution_count": 113,
   "metadata": {},
   "outputs": [],
   "source": [
    "S.<b6,b5,b3,b2>=PolynomialRing(QQ,order='lex')\n",
    "phi=R.hom([1,b2,b3,1,b5,b6],S)\n",
    "J3=S.ideal([phi(b) for b in J.gens()])\n",
    "G=J3.groebner_basis()"
   ]
  },
  {
   "cell_type": "code",
   "execution_count": 121,
   "metadata": {},
   "outputs": [
    {
     "name": "stdout",
     "output_type": "stream",
     "text": [
      "(1/16) * (16*b6 - 16*b5*b3 + 4*b5*b2^2 - 8*b5*b2 + 12*b5 + 16*b3^2 - 8*b3*b2^2 + 16*b3*b2 - 8*b3 + b2^4 - 4*b2^3 + 6*b2^2 - 12*b2 - 31)\n",
      "(1/4) * (2*b5 - 4*b3 + b2^2 - 2*b2 - 1) * (2*b5 - 4*b3 + b2^2 - 2*b2 + 7)\n"
     ]
    }
   ],
   "source": [
    "for g in G:\n",
    "    print g.factor()"
   ]
  },
  {
   "cell_type": "code",
   "execution_count": null,
   "metadata": {},
   "outputs": [],
   "source": [
    "S.<b1,b2,b3,b4,b5,b6>=PolynomialRing(QQ,order='lex')\n",
    "phi=R.hom([b1,b2,b3,b4,b5,b6],S)\n",
    "JJ=S.ideal([phi(b) for b in J.gens()])\n",
    "JJ"
   ]
  },
  {
   "cell_type": "code",
   "execution_count": 87,
   "metadata": {},
   "outputs": [
    {
     "data": {
      "text/plain": [
       "Ideal (0, 0, 0, 0, 0) of Multivariate Polynomial Ring in a1, a2, a3, a4, a5, a6 over Rational Field"
      ]
     },
     "execution_count": 87,
     "metadata": {},
     "output_type": "execute_result"
    }
   ],
   "source": [
    "J.subs({a1:1,a2:1,a3:2,a4:1,a5:5,a6:6})"
   ]
  },
  {
   "cell_type": "code",
   "execution_count": null,
   "metadata": {},
   "outputs": [],
   "source": []
  },
  {
   "cell_type": "code",
   "execution_count": 48,
   "metadata": {
    "scrolled": true
   },
   "outputs": [
    {
     "data": {
      "text/plain": [
       "[b2^2 - 4*b3 + b5^2 - 4*b6 + 6, b2*b3 - 1/2*b2*b5 - 7/4*b2 + 3/4*b3*b5^2 - 3/2*b3*b5 - 3*b3*b6 + 13/4*b3 - 1/64*b5^6 + 3/32*b5^5 + 3/16*b5^4*b6 - 29/64*b5^4 - 3/4*b5^3*b6 + 13/16*b5^3 - 3/4*b5^2*b6^2 + 23/8*b5^2*b6 - 131/64*b5^2 + 3/2*b5*b6^2 - 11/4*b5*b6 + 59/32*b5 + b6^3 - 17/4*b6^2 + 111/16*b6 - 319/64, b2*b5^2 - 2*b2*b5 - 4*b2*b6 + 3*b2 + 4*b3 + 1/4*b5^4 - b5^3 - 2*b5^2*b6 + 3/2*b5^2 + 4*b5*b6 - 3*b5 + 4*b6^2 - 2*b6 - 31/4, b3^2 - 1/8*b3*b5^4 + 1/2*b3*b5^3 + b3*b5^2*b6 - 7/4*b3*b5^2 - 2*b3*b5*b6 + 3/2*b3*b5 - 2*b3*b6^2 + 5*b3*b6 - 49/8*b3 + 1/256*b5^8 - 1/32*b5^7 - 1/16*b5^6*b6 + 11/64*b5^6 + 3/8*b5^5*b6 - 17/32*b5^5 + 3/8*b5^4*b6^2 - 27/16*b5^4*b6 + 163/128*b5^4 - 3/2*b5^3*b6^2 + 15/4*b5^3*b6 - 59/32*b5^3 - b5^2*b6^3 + 21/4*b5^2*b6^2 - 111/16*b5^2*b6 + 219/64*b5^2 + 2*b5*b6^3 - 13/2*b5*b6^2 + 47/8*b5*b6 - 51/32*b5 + b6^4 - 5*b6^3 + 67/8*b6^2 - 149/16*b6 + 1825/256]"
      ]
     },
     "execution_count": 48,
     "metadata": {},
     "output_type": "execute_result"
    }
   ],
   "source": [
    "JJ2=JJ.subs({b1:1,b4:1})\n",
    "JJ2.groebner_basis()"
   ]
  },
  {
   "cell_type": "code",
   "execution_count": 34,
   "metadata": {},
   "outputs": [
    {
     "data": {
      "text/plain": [
       "Ideal (8*a1*a4 - 8, 2*a2^2 - 36*a1*a4 + 4*a2*a4 + 4*a1*a5 + 2*a5^2 - 4*a1 - 4*a2 - 8*a3 - 4*a4 - 4*a5 - 8*a6 + 56, 16*a1*a2*a4 + 8*a2^2*a4 + 16*a1*a4*a5 + 8*a1*a5^2 - 4*a2^2 + 8*a1*a4 - 24*a2*a4 - 32*a3*a4 - 24*a1*a5 - 4*a5^2 - 32*a1*a6 + 16*a1 + 8*a2 + 16*a3 + 16*a4 + 8*a5 + 16*a6 - 16, 4*a2^3*a4 - 18*a1^2*a4^2 + 8*a1*a2*a4*a5 + 2*a2^2*a5^2 + 4*a1*a5^3 - 24*a1*a2*a4 - 20*a2^2*a4 - 16*a2*a3*a4 - 4*a2^2*a5 - 24*a1*a4*a5 - 20*a1*a5^2 - 4*a2*a5^2 - 8*a3*a5^2 - 8*a2^2*a6 - 16*a1*a5*a6 + 4*a2^2 + 28*a1*a4 + 32*a2*a4 + 48*a3*a4 + 32*a1*a5 + 8*a2*a5 + 16*a3*a5 + 4*a5^2 + 48*a1*a6 + 16*a2*a6 + 32*a3*a6 - 16*a1 - 8*a2 - 16*a3 - 16*a4 - 8*a5 - 16*a6 - 12, 8*a1^2*a4 - 64*a1*a2*a4 - 32*a2^2*a4 + 8*a1*a4^2 - 64*a1*a4*a5 - 32*a1*a5^2 + 32*a2^2 + 128*a2*a4 + 128*a3*a4 + 128*a1*a5 + 32*a5^2 + 128*a1*a6 - 96*a1 - 64*a2 - 128*a3 - 96*a4 - 64*a5 - 128*a6 + 176) of Multivariate Polynomial Ring in a1, a2, a3, a4, a5, a6 over Rational Field"
      ]
     },
     "execution_count": 34,
     "metadata": {},
     "output_type": "execute_result"
    }
   ],
   "source": [
    "J"
   ]
  },
  {
   "cell_type": "code",
   "execution_count": 3,
   "metadata": {},
   "outputs": [],
   "source": [
    "#symmetric lattes family from Gauthoer-Hutz-Kaschner\n",
    "#should have sigmas independent of t\n",
    "R.<u> = GF(3)[]\n",
    "P.<x,y,z>=ProjectiveSpace(FractionField(R),2)\n",
    "u=5\n",
    "P.<x,y,z>=ProjectiveSpace(GF(11),2)\n",
    "f=DynamicalSystem([((x+u*z)^2 - u*y^2)^2, 4*((x + u*z)^3*y + 2*(u + 1)*(x + u*z)^2*x*z + u*(x + u*z)*y^3 - 8*u*x*y*z*(x + u*z) - (u + 1)*(x^2*y^2 + u^2*y^2*z^2)), 4*4*x*z*(x-y+z)*(x-u*y+u^2*z)])"
   ]
  },
  {
   "cell_type": "code",
   "execution_count": 4,
   "metadata": {},
   "outputs": [
    {
     "name": "stdout",
     "output_type": "stream",
     "text": [
      "Dynamical System of Projective Space of dimension 2 over Finite Field of size 11\n",
      "  Defn: Defined on coordinates by sending (x : y : z) to\n",
      "        (x^4 + x^2*y^2 + 3*y^4 - 2*x^3*z - x*y^2*z - 4*x^2*z^2 + 3*y^2*z^2 + 5*x*z^3 - 2*z^4 : 4*x^3*y - 2*x^2*y^2 - 2*x*y^3 + 4*x^3*z - x^2*y*z + y^3*z - 4*x^2*z^2 - 5*x*y*z^2 + 5*y^2*z^2 + x*z^3 + 5*y*z^3 : 5*x^3*z + 3*x^2*y*z + 3*x*y^2*z - 2*x^2*z^2 + 4*x*y*z^2 + 4*x*z^3) 1\n",
      "j: 2\n",
      "im: [v0, v1]\n",
      "[(x^4 + x^2*y^2 + 3*y^4 - 2*x^3 - x*y^2 - 4*x^2 + 3*y^2 + 5*x - 2)/(5*x^3 + 3*x^2*y + 3*x*y^2 - 2*x^2 + 4*x*y + 4*x), (4*x^3*y - 2*x^2*y^2 - 2*x*y^3 + 4*x^3 - x^2*y + y^3 - 4*x^2 - 5*x*y + 5*y^2 + x + 5*y)/(5*x^3 + 3*x^2*y + 3*x*y^2 - 2*x^2 + 4*x*y + 4*x)]\n"
     ]
    },
    {
     "name": "stderr",
     "output_type": "stream",
     "text": [
      "ERROR:root:Internal Python error in the inspect module.\n",
      "Below is the traceback from this internal error.\n",
      "\n"
     ]
    },
    {
     "name": "stdout",
     "output_type": "stream",
     "text": [
      "Traceback (most recent call last):\n",
      "  File \"sage/misc/cachefunc.pyx\", line 1943, in sage.misc.cachefunc.CachedMethodCaller.__call__ (build/cythonized/sage/misc/cachefunc.c:10303)\n",
      "    return cache[k]\n",
      "KeyError: (('', None, None, False), ())\n",
      "\n",
      "During handling of the above exception, another exception occurred:\n",
      "\n",
      "Traceback (most recent call last):\n",
      "  File \"/home/alex/Documents/Sage/sage/local/lib/python3.7/site-packages/sage/libs/singular/standard_options.py\", line 141, in wrapper\n",
      "    return func(*args, **kwds)\n",
      "  File \"/home/alex/Documents/Sage/sage/local/lib/python3.7/site-packages/sage/rings/polynomial/multi_polynomial_ideal.py\", line 538, in _groebner_basis_libsingular\n",
      "    S = groebner(self)\n",
      "  File \"sage/libs/singular/function.pyx\", line 1334, in sage.libs.singular.function.SingularFunction.__call__ (build/cythonized/sage/libs/singular/function.cpp:15209)\n",
      "    return call_function(self, args, ring, interruptible, attributes)\n",
      "  File \"sage/libs/singular/function.pyx\", line 1516, in sage.libs.singular.function.call_function (build/cythonized/sage/libs/singular/function.cpp:17059)\n",
      "    with opt_ctx: # we are preserving the global options state here\n",
      "  File \"sage/libs/singular/function.pyx\", line 1518, in sage.libs.singular.function.call_function (build/cythonized/sage/libs/singular/function.cpp:16971)\n",
      "    sig_on()\n",
      "KeyboardInterrupt\n",
      "\n",
      "During handling of the above exception, another exception occurred:\n",
      "\n",
      "Traceback (most recent call last):\n",
      "  File \"/home/alex/Documents/Sage/sage/local/lib/python3.7/site-packages/IPython/core/interactiveshell.py\", line 3331, in run_code\n",
      "    exec(code_obj, self.user_global_ns, self.user_ns)\n",
      "  File \"<ipython-input-4-4aaf842545f4>\", line 1, in <module>\n",
      "    sigma(f,Integer(1),chow=True)\n",
      "  File \"<ipython-input-1-1d597af13cb3>\", line 48, in sigma\n",
      "    G = I.groebner_basis()\n",
      "  File \"sage/misc/cachefunc.pyx\", line 1948, in sage.misc.cachefunc.CachedMethodCaller.__call__ (build/cythonized/sage/misc/cachefunc.c:10437)\n",
      "    w = self._instance_call(*args, **kwds)\n",
      "  File \"sage/misc/cachefunc.pyx\", line 1824, in sage.misc.cachefunc.CachedMethodCaller._instance_call (build/cythonized/sage/misc/cachefunc.c:9916)\n",
      "    return self.f(self._instance, *args, **kwds)\n",
      "  File \"/home/alex/Documents/Sage/sage/local/lib/python3.7/site-packages/sage/rings/qqbar_decorators.py\", line 96, in wrapper\n",
      "    return func(*args, **kwds)\n",
      "  File \"/home/alex/Documents/Sage/sage/local/lib/python3.7/site-packages/sage/rings/polynomial/multi_polynomial_ideal.py\", line 4296, in groebner_basis\n",
      "    gb = self._groebner_basis_libsingular(\"groebner\", deg_bound=deg_bound, mult_bound=mult_bound, *args, **kwds)\n",
      "  File \"/home/alex/Documents/Sage/sage/local/lib/python3.7/site-packages/sage/libs/singular/standard_options.py\", line 141, in wrapper\n",
      "    return func(*args, **kwds)\n",
      "  File \"src/cysignals/signals.pyx\", line 320, in cysignals.signals.python_check_interrupt\n",
      "KeyboardInterrupt\n",
      "\n",
      "During handling of the above exception, another exception occurred:\n",
      "\n",
      "Traceback (most recent call last):\n",
      "  File \"/home/alex/Documents/Sage/sage/local/lib/python3.7/site-packages/IPython/core/interactiveshell.py\", line 2044, in showtraceback\n",
      "    stb = value._render_traceback_()\n",
      "AttributeError: 'KeyboardInterrupt' object has no attribute '_render_traceback_'\n",
      "\n",
      "During handling of the above exception, another exception occurred:\n",
      "\n",
      "Traceback (most recent call last):\n",
      "  File \"/home/alex/Documents/Sage/sage/local/lib/python3.7/site-packages/IPython/core/ultratb.py\", line 1148, in get_records\n",
      "    return _fixed_getinnerframes(etb, number_of_lines_of_context, tb_offset)\n",
      "  File \"/home/alex/Documents/Sage/sage/local/lib/python3.7/site-packages/IPython/core/ultratb.py\", line 316, in wrapped\n",
      "    return f(*args, **kwargs)\n",
      "  File \"/home/alex/Documents/Sage/sage/local/lib/python3.7/site-packages/IPython/core/ultratb.py\", line 350, in _fixed_getinnerframes\n",
      "    records = fix_frame_records_filenames(inspect.getinnerframes(etb, context))\n",
      "  File \"/home/alex/Documents/Sage/sage/local/lib/python3.7/inspect.py\", line 1502, in getinnerframes\n",
      "    frameinfo = (tb.tb_frame,) + getframeinfo(tb, context)\n",
      "  File \"/home/alex/Documents/Sage/sage/local/lib/python3.7/inspect.py\", line 1464, in getframeinfo\n",
      "    lines, lnum = findsource(frame)\n",
      "  File \"/home/alex/Documents/Sage/sage/local/lib/python3.7/site-packages/IPython/core/ultratb.py\", line 182, in findsource\n",
      "    lines = linecache.getlines(file, globals_dict)\n",
      "  File \"/home/alex/Documents/Sage/sage/local/lib/python3.7/linecache.py\", line 47, in getlines\n",
      "    return updatecache(filename, module_globals)\n",
      "  File \"/home/alex/Documents/Sage/sage/local/lib/python3.7/linecache.py\", line 136, in updatecache\n",
      "    with tokenize.open(fullname) as fp:\n",
      "  File \"/home/alex/Documents/Sage/sage/local/lib/python3.7/tokenize.py\", line 449, in open\n",
      "    encoding, lines = detect_encoding(buffer.readline)\n",
      "  File \"/home/alex/Documents/Sage/sage/local/lib/python3.7/tokenize.py\", line 418, in detect_encoding\n",
      "    first = read_or_stop()\n",
      "  File \"/home/alex/Documents/Sage/sage/local/lib/python3.7/tokenize.py\", line 376, in read_or_stop\n",
      "    return readline()\n",
      "  File \"src/cysignals/signals.pyx\", line 320, in cysignals.signals.python_check_interrupt\n",
      "KeyboardInterrupt\n"
     ]
    },
    {
     "ename": "TypeError",
     "evalue": "can only concatenate str (not \"list\") to str",
     "output_type": "error",
     "traceback": [
      "\u001b[0;31m---------------------------------------------------------------------------\u001b[0m",
      "\u001b[0;31mKeyError\u001b[0m                                  Traceback (most recent call last)",
      "\u001b[0;32m~/Documents/Sage/sage/local/lib/python3.7/site-packages/sage/misc/cachefunc.pyx\u001b[0m in \u001b[0;36msage.misc.cachefunc.CachedMethodCaller.__call__ (build/cythonized/sage/misc/cachefunc.c:10303)\u001b[0;34m()\u001b[0m\n\u001b[1;32m   1942\u001b[0m             \u001b[0;32mtry\u001b[0m\u001b[0;34m:\u001b[0m\u001b[0;34m\u001b[0m\u001b[0;34m\u001b[0m\u001b[0m\n\u001b[0;32m-> 1943\u001b[0;31m                 \u001b[0;32mreturn\u001b[0m \u001b[0mcache\u001b[0m\u001b[0;34m[\u001b[0m\u001b[0mk\u001b[0m\u001b[0;34m]\u001b[0m\u001b[0;34m\u001b[0m\u001b[0;34m\u001b[0m\u001b[0m\n\u001b[0m\u001b[1;32m   1944\u001b[0m             \u001b[0;32mexcept\u001b[0m \u001b[0mTypeError\u001b[0m\u001b[0;34m:\u001b[0m  \u001b[0;31m# k is not hashable\u001b[0m\u001b[0;34m\u001b[0m\u001b[0;34m\u001b[0m\u001b[0m\n",
      "\u001b[0;31mKeyError\u001b[0m: (('', None, None, False), ())",
      "\nDuring handling of the above exception, another exception occurred:\n",
      "\u001b[0;31mKeyboardInterrupt\u001b[0m                         Traceback (most recent call last)",
      "\u001b[0;32m~/Documents/Sage/sage/local/lib/python3.7/site-packages/sage/libs/singular/standard_options.py\u001b[0m in \u001b[0;36mwrapper\u001b[0;34m(*args, **kwds)\u001b[0m\n\u001b[1;32m    140\u001b[0m         \u001b[0;32mwith\u001b[0m \u001b[0mLibSingularGBDefaultContext\u001b[0m\u001b[0;34m(\u001b[0m\u001b[0;34m)\u001b[0m\u001b[0;34m:\u001b[0m\u001b[0;34m\u001b[0m\u001b[0;34m\u001b[0m\u001b[0m\n\u001b[0;32m--> 141\u001b[0;31m             \u001b[0;32mreturn\u001b[0m \u001b[0mfunc\u001b[0m\u001b[0;34m(\u001b[0m\u001b[0;34m*\u001b[0m\u001b[0margs\u001b[0m\u001b[0;34m,\u001b[0m \u001b[0;34m**\u001b[0m\u001b[0mkwds\u001b[0m\u001b[0;34m)\u001b[0m\u001b[0;34m\u001b[0m\u001b[0;34m\u001b[0m\u001b[0m\n\u001b[0m\u001b[1;32m    142\u001b[0m     \u001b[0;32mreturn\u001b[0m \u001b[0mwrapper\u001b[0m\u001b[0;34m\u001b[0m\u001b[0;34m\u001b[0m\u001b[0m\n",
      "\u001b[0;32m~/Documents/Sage/sage/local/lib/python3.7/site-packages/sage/rings/polynomial/multi_polynomial_ideal.py\u001b[0m in \u001b[0;36m_groebner_basis_libsingular\u001b[0;34m(self, algorithm, *args, **kwds)\u001b[0m\n\u001b[1;32m    537\u001b[0m         \u001b[0;32melif\u001b[0m \u001b[0malgorithm\u001b[0m \u001b[0;34m==\u001b[0m \u001b[0;34m\"groebner\"\u001b[0m\u001b[0;34m:\u001b[0m\u001b[0;34m\u001b[0m\u001b[0;34m\u001b[0m\u001b[0m\n\u001b[0;32m--> 538\u001b[0;31m             \u001b[0mS\u001b[0m \u001b[0;34m=\u001b[0m \u001b[0mgroebner\u001b[0m\u001b[0;34m(\u001b[0m\u001b[0mself\u001b[0m\u001b[0;34m)\u001b[0m\u001b[0;34m\u001b[0m\u001b[0;34m\u001b[0m\u001b[0m\n\u001b[0m\u001b[1;32m    539\u001b[0m         \u001b[0;32melse\u001b[0m\u001b[0;34m:\u001b[0m\u001b[0;34m\u001b[0m\u001b[0;34m\u001b[0m\u001b[0m\n",
      "\u001b[0;32m~/Documents/Sage/sage/local/lib/python3.7/site-packages/sage/libs/singular/function.pyx\u001b[0m in \u001b[0;36msage.libs.singular.function.SingularFunction.__call__ (build/cythonized/sage/libs/singular/function.cpp:15209)\u001b[0;34m()\u001b[0m\n\u001b[1;32m   1333\u001b[0m             \u001b[0;32mraise\u001b[0m \u001b[0mTypeError\u001b[0m\u001b[0;34m(\u001b[0m\u001b[0;34m\"Cannot call Singular function '%s' with ring parameter of type '%s'\"\u001b[0m\u001b[0;34m%\u001b[0m\u001b[0;34m(\u001b[0m\u001b[0mself\u001b[0m\u001b[0;34m.\u001b[0m\u001b[0m_name\u001b[0m\u001b[0;34m,\u001b[0m\u001b[0mtype\u001b[0m\u001b[0;34m(\u001b[0m\u001b[0mring\u001b[0m\u001b[0;34m)\u001b[0m\u001b[0;34m)\u001b[0m\u001b[0;34m)\u001b[0m\u001b[0;34m\u001b[0m\u001b[0;34m\u001b[0m\u001b[0m\n\u001b[0;32m-> 1334\u001b[0;31m         \u001b[0;32mreturn\u001b[0m \u001b[0mcall_function\u001b[0m\u001b[0;34m(\u001b[0m\u001b[0mself\u001b[0m\u001b[0;34m,\u001b[0m \u001b[0margs\u001b[0m\u001b[0;34m,\u001b[0m \u001b[0mring\u001b[0m\u001b[0;34m,\u001b[0m \u001b[0minterruptible\u001b[0m\u001b[0;34m,\u001b[0m \u001b[0mattributes\u001b[0m\u001b[0;34m)\u001b[0m\u001b[0;34m\u001b[0m\u001b[0;34m\u001b[0m\u001b[0m\n\u001b[0m\u001b[1;32m   1335\u001b[0m \u001b[0;34m\u001b[0m\u001b[0m\n",
      "\u001b[0;32m~/Documents/Sage/sage/local/lib/python3.7/site-packages/sage/libs/singular/function.pyx\u001b[0m in \u001b[0;36msage.libs.singular.function.call_function (build/cythonized/sage/libs/singular/function.cpp:17059)\u001b[0;34m()\u001b[0m\n\u001b[1;32m   1515\u001b[0m \u001b[0;34m\u001b[0m\u001b[0m\n\u001b[0;32m-> 1516\u001b[0;31m     \u001b[0;32mwith\u001b[0m \u001b[0mopt_ctx\u001b[0m\u001b[0;34m:\u001b[0m \u001b[0;31m# we are preserving the global options state here\u001b[0m\u001b[0;34m\u001b[0m\u001b[0;34m\u001b[0m\u001b[0m\n\u001b[0m\u001b[1;32m   1517\u001b[0m         \u001b[0;32mif\u001b[0m \u001b[0msignal_handler\u001b[0m\u001b[0;34m:\u001b[0m\u001b[0;34m\u001b[0m\u001b[0;34m\u001b[0m\u001b[0m\n",
      "\u001b[0;32m~/Documents/Sage/sage/local/lib/python3.7/site-packages/sage/libs/singular/function.pyx\u001b[0m in \u001b[0;36msage.libs.singular.function.call_function (build/cythonized/sage/libs/singular/function.cpp:16971)\u001b[0;34m()\u001b[0m\n\u001b[1;32m   1517\u001b[0m         \u001b[0;32mif\u001b[0m \u001b[0msignal_handler\u001b[0m\u001b[0;34m:\u001b[0m\u001b[0;34m\u001b[0m\u001b[0;34m\u001b[0m\u001b[0m\n\u001b[0;32m-> 1518\u001b[0;31m             \u001b[0msig_on\u001b[0m\u001b[0;34m(\u001b[0m\u001b[0;34m)\u001b[0m\u001b[0;34m\u001b[0m\u001b[0;34m\u001b[0m\u001b[0m\n\u001b[0m\u001b[1;32m   1519\u001b[0m             \u001b[0m_res\u001b[0m \u001b[0;34m=\u001b[0m \u001b[0mself\u001b[0m\u001b[0;34m.\u001b[0m\u001b[0mcall_handler\u001b[0m\u001b[0;34m.\u001b[0m\u001b[0mhandle_call\u001b[0m\u001b[0;34m(\u001b[0m\u001b[0margument_list\u001b[0m\u001b[0;34m,\u001b[0m \u001b[0msi_ring\u001b[0m\u001b[0;34m)\u001b[0m\u001b[0;34m\u001b[0m\u001b[0;34m\u001b[0m\u001b[0m\n",
      "\u001b[0;31mKeyboardInterrupt\u001b[0m: ",
      "\nDuring handling of the above exception, another exception occurred:\n",
      "\u001b[0;31mKeyboardInterrupt\u001b[0m                         Traceback (most recent call last)",
      "\u001b[0;32m~/Documents/Sage/sage/local/lib/python3.7/site-packages/IPython/core/interactiveshell.py\u001b[0m in \u001b[0;36mrun_code\u001b[0;34m(self, code_obj, result, async_)\u001b[0m\n\u001b[1;32m   3330\u001b[0m                 \u001b[0;32melse\u001b[0m\u001b[0;34m:\u001b[0m\u001b[0;34m\u001b[0m\u001b[0;34m\u001b[0m\u001b[0m\n\u001b[0;32m-> 3331\u001b[0;31m                     \u001b[0mexec\u001b[0m\u001b[0;34m(\u001b[0m\u001b[0mcode_obj\u001b[0m\u001b[0;34m,\u001b[0m \u001b[0mself\u001b[0m\u001b[0;34m.\u001b[0m\u001b[0muser_global_ns\u001b[0m\u001b[0;34m,\u001b[0m \u001b[0mself\u001b[0m\u001b[0;34m.\u001b[0m\u001b[0muser_ns\u001b[0m\u001b[0;34m)\u001b[0m\u001b[0;34m\u001b[0m\u001b[0;34m\u001b[0m\u001b[0m\n\u001b[0m\u001b[1;32m   3332\u001b[0m             \u001b[0;32mfinally\u001b[0m\u001b[0;34m:\u001b[0m\u001b[0;34m\u001b[0m\u001b[0;34m\u001b[0m\u001b[0m\n",
      "\u001b[0;32m<ipython-input-4-4aaf842545f4>\u001b[0m in \u001b[0;36m<module>\u001b[0;34m\u001b[0m\n\u001b[0;32m----> 1\u001b[0;31m \u001b[0msigma\u001b[0m\u001b[0;34m(\u001b[0m\u001b[0mf\u001b[0m\u001b[0;34m,\u001b[0m\u001b[0mInteger\u001b[0m\u001b[0;34m(\u001b[0m\u001b[0;36m1\u001b[0m\u001b[0;34m)\u001b[0m\u001b[0;34m,\u001b[0m\u001b[0mchow\u001b[0m\u001b[0;34m=\u001b[0m\u001b[0;32mTrue\u001b[0m\u001b[0;34m)\u001b[0m\u001b[0;34m\u001b[0m\u001b[0;34m\u001b[0m\u001b[0m\n\u001b[0m",
      "\u001b[0;32m<ipython-input-1-1d597af13cb3>\u001b[0m in \u001b[0;36msigma\u001b[0;34m(self, n, chow)\u001b[0m\n\u001b[1;32m     47\u001b[0m             \u001b[0;31m#print I\u001b[0m\u001b[0;34m\u001b[0m\u001b[0;34m\u001b[0m\u001b[0;34m\u001b[0m\u001b[0m\n\u001b[0;32m---> 48\u001b[0;31m             \u001b[0mG\u001b[0m \u001b[0;34m=\u001b[0m \u001b[0mI\u001b[0m\u001b[0;34m.\u001b[0m\u001b[0mgroebner_basis\u001b[0m\u001b[0;34m(\u001b[0m\u001b[0;34m)\u001b[0m\u001b[0;34m\u001b[0m\u001b[0;34m\u001b[0m\u001b[0m\n\u001b[0m\u001b[1;32m     49\u001b[0m             \u001b[0;31m#print \"G:\",G[-1]\u001b[0m\u001b[0;34m\u001b[0m\u001b[0;34m\u001b[0m\u001b[0;34m\u001b[0m\u001b[0m\n",
      "\u001b[0;32m~/Documents/Sage/sage/local/lib/python3.7/site-packages/sage/misc/cachefunc.pyx\u001b[0m in \u001b[0;36msage.misc.cachefunc.CachedMethodCaller.__call__ (build/cythonized/sage/misc/cachefunc.c:10437)\u001b[0;34m()\u001b[0m\n\u001b[1;32m   1947\u001b[0m         \u001b[0;32mexcept\u001b[0m \u001b[0mKeyError\u001b[0m\u001b[0;34m:\u001b[0m\u001b[0;34m\u001b[0m\u001b[0;34m\u001b[0m\u001b[0m\n\u001b[0;32m-> 1948\u001b[0;31m             \u001b[0mw\u001b[0m \u001b[0;34m=\u001b[0m \u001b[0mself\u001b[0m\u001b[0;34m.\u001b[0m\u001b[0m_instance_call\u001b[0m\u001b[0;34m(\u001b[0m\u001b[0;34m*\u001b[0m\u001b[0margs\u001b[0m\u001b[0;34m,\u001b[0m \u001b[0;34m**\u001b[0m\u001b[0mkwds\u001b[0m\u001b[0;34m)\u001b[0m\u001b[0;34m\u001b[0m\u001b[0;34m\u001b[0m\u001b[0m\n\u001b[0m\u001b[1;32m   1949\u001b[0m             \u001b[0mcache\u001b[0m\u001b[0;34m[\u001b[0m\u001b[0mk\u001b[0m\u001b[0;34m]\u001b[0m \u001b[0;34m=\u001b[0m \u001b[0mw\u001b[0m\u001b[0;34m\u001b[0m\u001b[0;34m\u001b[0m\u001b[0m\n",
      "\u001b[0;32m~/Documents/Sage/sage/local/lib/python3.7/site-packages/sage/misc/cachefunc.pyx\u001b[0m in \u001b[0;36msage.misc.cachefunc.CachedMethodCaller._instance_call (build/cythonized/sage/misc/cachefunc.c:9916)\u001b[0;34m()\u001b[0m\n\u001b[1;32m   1823\u001b[0m         \"\"\"\n\u001b[0;32m-> 1824\u001b[0;31m         \u001b[0;32mreturn\u001b[0m \u001b[0mself\u001b[0m\u001b[0;34m.\u001b[0m\u001b[0mf\u001b[0m\u001b[0;34m(\u001b[0m\u001b[0mself\u001b[0m\u001b[0;34m.\u001b[0m\u001b[0m_instance\u001b[0m\u001b[0;34m,\u001b[0m \u001b[0;34m*\u001b[0m\u001b[0margs\u001b[0m\u001b[0;34m,\u001b[0m \u001b[0;34m**\u001b[0m\u001b[0mkwds\u001b[0m\u001b[0;34m)\u001b[0m\u001b[0;34m\u001b[0m\u001b[0;34m\u001b[0m\u001b[0m\n\u001b[0m\u001b[1;32m   1825\u001b[0m \u001b[0;34m\u001b[0m\u001b[0m\n",
      "\u001b[0;32m~/Documents/Sage/sage/local/lib/python3.7/site-packages/sage/rings/qqbar_decorators.py\u001b[0m in \u001b[0;36mwrapper\u001b[0;34m(*args, **kwds)\u001b[0m\n\u001b[1;32m     95\u001b[0m                    and is_AlgebraicField_common(a.ring().base_ring()) for a in args):\n\u001b[0;32m---> 96\u001b[0;31m             \u001b[0;32mreturn\u001b[0m \u001b[0mfunc\u001b[0m\u001b[0;34m(\u001b[0m\u001b[0;34m*\u001b[0m\u001b[0margs\u001b[0m\u001b[0;34m,\u001b[0m \u001b[0;34m**\u001b[0m\u001b[0mkwds\u001b[0m\u001b[0;34m)\u001b[0m\u001b[0;34m\u001b[0m\u001b[0;34m\u001b[0m\u001b[0m\n\u001b[0m\u001b[1;32m     97\u001b[0m \u001b[0;34m\u001b[0m\u001b[0m\n",
      "\u001b[0;32m~/Documents/Sage/sage/local/lib/python3.7/site-packages/sage/rings/polynomial/multi_polynomial_ideal.py\u001b[0m in \u001b[0;36mgroebner_basis\u001b[0;34m(self, algorithm, deg_bound, mult_bound, prot, *args, **kwds)\u001b[0m\n\u001b[1;32m   4295\u001b[0m             \u001b[0;32mtry\u001b[0m\u001b[0;34m:\u001b[0m\u001b[0;34m\u001b[0m\u001b[0;34m\u001b[0m\u001b[0m\n\u001b[0;32m-> 4296\u001b[0;31m                 \u001b[0mgb\u001b[0m \u001b[0;34m=\u001b[0m \u001b[0mself\u001b[0m\u001b[0;34m.\u001b[0m\u001b[0m_groebner_basis_libsingular\u001b[0m\u001b[0;34m(\u001b[0m\u001b[0;34m\"groebner\"\u001b[0m\u001b[0;34m,\u001b[0m \u001b[0mdeg_bound\u001b[0m\u001b[0;34m=\u001b[0m\u001b[0mdeg_bound\u001b[0m\u001b[0;34m,\u001b[0m \u001b[0mmult_bound\u001b[0m\u001b[0;34m=\u001b[0m\u001b[0mmult_bound\u001b[0m\u001b[0;34m,\u001b[0m \u001b[0;34m*\u001b[0m\u001b[0margs\u001b[0m\u001b[0;34m,\u001b[0m \u001b[0;34m**\u001b[0m\u001b[0mkwds\u001b[0m\u001b[0;34m)\u001b[0m\u001b[0;34m\u001b[0m\u001b[0;34m\u001b[0m\u001b[0m\n\u001b[0m\u001b[1;32m   4297\u001b[0m             \u001b[0;32mexcept\u001b[0m \u001b[0;34m(\u001b[0m\u001b[0mTypeError\u001b[0m\u001b[0;34m,\u001b[0m \u001b[0mNameError\u001b[0m\u001b[0;34m)\u001b[0m\u001b[0;34m:\u001b[0m \u001b[0;31m# conversion to Singular not supported\u001b[0m\u001b[0;34m\u001b[0m\u001b[0;34m\u001b[0m\u001b[0m\n",
      "\u001b[0;32m~/Documents/Sage/sage/local/lib/python3.7/site-packages/sage/libs/singular/standard_options.py\u001b[0m in \u001b[0;36mwrapper\u001b[0;34m(*args, **kwds)\u001b[0m\n\u001b[1;32m    140\u001b[0m         \u001b[0;32mwith\u001b[0m \u001b[0mLibSingularGBDefaultContext\u001b[0m\u001b[0;34m(\u001b[0m\u001b[0;34m)\u001b[0m\u001b[0;34m:\u001b[0m\u001b[0;34m\u001b[0m\u001b[0;34m\u001b[0m\u001b[0m\n\u001b[0;32m--> 141\u001b[0;31m             \u001b[0;32mreturn\u001b[0m \u001b[0mfunc\u001b[0m\u001b[0;34m(\u001b[0m\u001b[0;34m*\u001b[0m\u001b[0margs\u001b[0m\u001b[0;34m,\u001b[0m \u001b[0;34m**\u001b[0m\u001b[0mkwds\u001b[0m\u001b[0;34m)\u001b[0m\u001b[0;34m\u001b[0m\u001b[0;34m\u001b[0m\u001b[0m\n\u001b[0m\u001b[1;32m    142\u001b[0m     \u001b[0;32mreturn\u001b[0m \u001b[0mwrapper\u001b[0m\u001b[0;34m\u001b[0m\u001b[0;34m\u001b[0m\u001b[0m\n",
      "\u001b[0;32msrc/cysignals/signals.pyx\u001b[0m in \u001b[0;36mcysignals.signals.python_check_interrupt\u001b[0;34m()\u001b[0m\n",
      "\u001b[0;31mKeyboardInterrupt\u001b[0m: ",
      "\nDuring handling of the above exception, another exception occurred:\n",
      "\u001b[0;31mAttributeError\u001b[0m                            Traceback (most recent call last)",
      "\u001b[0;32m~/Documents/Sage/sage/local/lib/python3.7/site-packages/IPython/core/interactiveshell.py\u001b[0m in \u001b[0;36mshowtraceback\u001b[0;34m(self, exc_tuple, filename, tb_offset, exception_only, running_compiled_code)\u001b[0m\n\u001b[1;32m   2043\u001b[0m                         \u001b[0;31m# in the engines. This should return a list of strings.\u001b[0m\u001b[0;34m\u001b[0m\u001b[0;34m\u001b[0m\u001b[0;34m\u001b[0m\u001b[0m\n\u001b[0;32m-> 2044\u001b[0;31m                         \u001b[0mstb\u001b[0m \u001b[0;34m=\u001b[0m \u001b[0mvalue\u001b[0m\u001b[0;34m.\u001b[0m\u001b[0m_render_traceback_\u001b[0m\u001b[0;34m(\u001b[0m\u001b[0;34m)\u001b[0m\u001b[0;34m\u001b[0m\u001b[0;34m\u001b[0m\u001b[0m\n\u001b[0m\u001b[1;32m   2045\u001b[0m                     \u001b[0;32mexcept\u001b[0m \u001b[0mException\u001b[0m\u001b[0;34m:\u001b[0m\u001b[0;34m\u001b[0m\u001b[0;34m\u001b[0m\u001b[0m\n",
      "\u001b[0;31mAttributeError\u001b[0m: 'KeyboardInterrupt' object has no attribute '_render_traceback_'",
      "\nDuring handling of the above exception, another exception occurred:\n",
      "\u001b[0;31mTypeError\u001b[0m                                 Traceback (most recent call last)",
      "\u001b[0;32m~/Documents/Sage/sage/local/lib/python3.7/site-packages/IPython/core/interactiveshell.py\u001b[0m in \u001b[0;36mrun_code\u001b[0;34m(self, code_obj, result, async_)\u001b[0m\n\u001b[1;32m   3346\u001b[0m             \u001b[0;32mif\u001b[0m \u001b[0mresult\u001b[0m \u001b[0;32mis\u001b[0m \u001b[0;32mnot\u001b[0m \u001b[0;32mNone\u001b[0m\u001b[0;34m:\u001b[0m\u001b[0;34m\u001b[0m\u001b[0;34m\u001b[0m\u001b[0m\n\u001b[1;32m   3347\u001b[0m                 \u001b[0mresult\u001b[0m\u001b[0;34m.\u001b[0m\u001b[0merror_in_exec\u001b[0m \u001b[0;34m=\u001b[0m \u001b[0msys\u001b[0m\u001b[0;34m.\u001b[0m\u001b[0mexc_info\u001b[0m\u001b[0;34m(\u001b[0m\u001b[0;34m)\u001b[0m\u001b[0;34m[\u001b[0m\u001b[0;36m1\u001b[0m\u001b[0;34m]\u001b[0m\u001b[0;34m\u001b[0m\u001b[0;34m\u001b[0m\u001b[0m\n\u001b[0;32m-> 3348\u001b[0;31m             \u001b[0mself\u001b[0m\u001b[0;34m.\u001b[0m\u001b[0mshowtraceback\u001b[0m\u001b[0;34m(\u001b[0m\u001b[0mrunning_compiled_code\u001b[0m\u001b[0;34m=\u001b[0m\u001b[0;32mTrue\u001b[0m\u001b[0;34m)\u001b[0m\u001b[0;34m\u001b[0m\u001b[0;34m\u001b[0m\u001b[0m\n\u001b[0m\u001b[1;32m   3349\u001b[0m         \u001b[0;32melse\u001b[0m\u001b[0;34m:\u001b[0m\u001b[0;34m\u001b[0m\u001b[0;34m\u001b[0m\u001b[0m\n\u001b[1;32m   3350\u001b[0m             \u001b[0moutflag\u001b[0m \u001b[0;34m=\u001b[0m \u001b[0;32mFalse\u001b[0m\u001b[0;34m\u001b[0m\u001b[0;34m\u001b[0m\u001b[0m\n",
      "\u001b[0;32m~/Documents/Sage/sage/local/lib/python3.7/site-packages/IPython/core/interactiveshell.py\u001b[0m in \u001b[0;36mshowtraceback\u001b[0;34m(self, exc_tuple, filename, tb_offset, exception_only, running_compiled_code)\u001b[0m\n\u001b[1;32m   2045\u001b[0m                     \u001b[0;32mexcept\u001b[0m \u001b[0mException\u001b[0m\u001b[0;34m:\u001b[0m\u001b[0;34m\u001b[0m\u001b[0;34m\u001b[0m\u001b[0m\n\u001b[1;32m   2046\u001b[0m                         stb = self.InteractiveTB.structured_traceback(etype,\n\u001b[0;32m-> 2047\u001b[0;31m                                             value, tb, tb_offset=tb_offset)\n\u001b[0m\u001b[1;32m   2048\u001b[0m \u001b[0;34m\u001b[0m\u001b[0m\n\u001b[1;32m   2049\u001b[0m                     \u001b[0mself\u001b[0m\u001b[0;34m.\u001b[0m\u001b[0m_showtraceback\u001b[0m\u001b[0;34m(\u001b[0m\u001b[0metype\u001b[0m\u001b[0;34m,\u001b[0m \u001b[0mvalue\u001b[0m\u001b[0;34m,\u001b[0m \u001b[0mstb\u001b[0m\u001b[0;34m)\u001b[0m\u001b[0;34m\u001b[0m\u001b[0;34m\u001b[0m\u001b[0m\n",
      "\u001b[0;32m~/Documents/Sage/sage/local/lib/python3.7/site-packages/IPython/core/ultratb.py\u001b[0m in \u001b[0;36mstructured_traceback\u001b[0;34m(self, etype, value, tb, tb_offset, number_of_lines_of_context)\u001b[0m\n\u001b[1;32m   1413\u001b[0m             \u001b[0mself\u001b[0m\u001b[0;34m.\u001b[0m\u001b[0mtb\u001b[0m \u001b[0;34m=\u001b[0m \u001b[0mtb\u001b[0m\u001b[0;34m\u001b[0m\u001b[0;34m\u001b[0m\u001b[0m\n\u001b[1;32m   1414\u001b[0m         return FormattedTB.structured_traceback(\n\u001b[0;32m-> 1415\u001b[0;31m             self, etype, value, tb, tb_offset, number_of_lines_of_context)\n\u001b[0m\u001b[1;32m   1416\u001b[0m \u001b[0;34m\u001b[0m\u001b[0m\n\u001b[1;32m   1417\u001b[0m \u001b[0;34m\u001b[0m\u001b[0m\n",
      "\u001b[0;32m~/Documents/Sage/sage/local/lib/python3.7/site-packages/IPython/core/ultratb.py\u001b[0m in \u001b[0;36mstructured_traceback\u001b[0;34m(self, etype, value, tb, tb_offset, number_of_lines_of_context)\u001b[0m\n\u001b[1;32m   1313\u001b[0m             \u001b[0;31m# Verbose modes need a full traceback\u001b[0m\u001b[0;34m\u001b[0m\u001b[0;34m\u001b[0m\u001b[0;34m\u001b[0m\u001b[0m\n\u001b[1;32m   1314\u001b[0m             return VerboseTB.structured_traceback(\n\u001b[0;32m-> 1315\u001b[0;31m                 \u001b[0mself\u001b[0m\u001b[0;34m,\u001b[0m \u001b[0metype\u001b[0m\u001b[0;34m,\u001b[0m \u001b[0mvalue\u001b[0m\u001b[0;34m,\u001b[0m \u001b[0mtb\u001b[0m\u001b[0;34m,\u001b[0m \u001b[0mtb_offset\u001b[0m\u001b[0;34m,\u001b[0m \u001b[0mnumber_of_lines_of_context\u001b[0m\u001b[0;34m\u001b[0m\u001b[0;34m\u001b[0m\u001b[0m\n\u001b[0m\u001b[1;32m   1316\u001b[0m             )\n\u001b[1;32m   1317\u001b[0m         \u001b[0;32melif\u001b[0m \u001b[0mmode\u001b[0m \u001b[0;34m==\u001b[0m \u001b[0;34m'Minimal'\u001b[0m\u001b[0;34m:\u001b[0m\u001b[0;34m\u001b[0m\u001b[0;34m\u001b[0m\u001b[0m\n",
      "\u001b[0;32m~/Documents/Sage/sage/local/lib/python3.7/site-packages/IPython/core/ultratb.py\u001b[0m in \u001b[0;36mstructured_traceback\u001b[0;34m(self, etype, evalue, etb, tb_offset, number_of_lines_of_context)\u001b[0m\n\u001b[1;32m   1181\u001b[0m         \u001b[0mexception\u001b[0m \u001b[0;34m=\u001b[0m \u001b[0mself\u001b[0m\u001b[0;34m.\u001b[0m\u001b[0mget_parts_of_chained_exception\u001b[0m\u001b[0;34m(\u001b[0m\u001b[0mevalue\u001b[0m\u001b[0;34m)\u001b[0m\u001b[0;34m\u001b[0m\u001b[0;34m\u001b[0m\u001b[0m\n\u001b[1;32m   1182\u001b[0m         \u001b[0;32mif\u001b[0m \u001b[0mexception\u001b[0m\u001b[0;34m:\u001b[0m\u001b[0;34m\u001b[0m\u001b[0;34m\u001b[0m\u001b[0m\n\u001b[0;32m-> 1183\u001b[0;31m             \u001b[0mformatted_exceptions\u001b[0m \u001b[0;34m+=\u001b[0m \u001b[0mself\u001b[0m\u001b[0;34m.\u001b[0m\u001b[0mprepare_chained_exception_message\u001b[0m\u001b[0;34m(\u001b[0m\u001b[0mevalue\u001b[0m\u001b[0;34m.\u001b[0m\u001b[0m__cause__\u001b[0m\u001b[0;34m)\u001b[0m\u001b[0;34m\u001b[0m\u001b[0;34m\u001b[0m\u001b[0m\n\u001b[0m\u001b[1;32m   1184\u001b[0m             \u001b[0metype\u001b[0m\u001b[0;34m,\u001b[0m \u001b[0mevalue\u001b[0m\u001b[0;34m,\u001b[0m \u001b[0metb\u001b[0m \u001b[0;34m=\u001b[0m \u001b[0mexception\u001b[0m\u001b[0;34m\u001b[0m\u001b[0;34m\u001b[0m\u001b[0m\n\u001b[1;32m   1185\u001b[0m         \u001b[0;32melse\u001b[0m\u001b[0;34m:\u001b[0m\u001b[0;34m\u001b[0m\u001b[0;34m\u001b[0m\u001b[0m\n",
      "\u001b[0;31mTypeError\u001b[0m: can only concatenate str (not \"list\") to str"
     ]
    }
   ],
   "source": [
    "sigma(f,1,chow=True)"
   ]
  },
  {
   "cell_type": "code",
   "execution_count": null,
   "metadata": {},
   "outputs": [],
   "source": [
    "a=0;b=1;c=-2\n",
    "P.<x,y,z>=ProjectiveSpace(QQ,2)\n",
    "f=DynamicalSystem([x^2 + a*z^2, b*x^2 + c*y^2, z^2])\n",
    "d=1\n",
    "f=DynamicalSystem([d*(x^2 + a*z^2), b*y^2 + c*d*x*z, z^2])\n",
    "d=2\n",
    "g=DynamicalSystem([d*(x^2 + a*z^2), b*y^2 + c*d*x*z, z^2])\n",
    "f.conjugating_set(g)"
   ]
  },
  {
   "cell_type": "code",
   "execution_count": null,
   "metadata": {},
   "outputs": [],
   "source": [
    "R.<y>=QQ[]\n",
    "for c in range(1,20):\n",
    "    for a in range(-c,c):\n",
    "        if not (y^2+a*y-c).is_irreducible() and not (y^2+a*y+2*c).is_irreducible():\n",
    "            print a,c"
   ]
  },
  {
   "cell_type": "code",
   "execution_count": null,
   "metadata": {},
   "outputs": [],
   "source": [
    "a=-2;b=1;e=9+1;c=10\n",
    "#a=0;b=2;c=-4\n",
    "P.<x,y,z>=ProjectiveSpace(QQ,2)\n",
    "f=DynamicalSystem([x^2 + a*z^2, b*x^2 + c*y^2, z^2])\n",
    "for d in range(1,4):\n",
    "    f=DynamicalSystem([d*(x^2 + a*z^2), d*(b*y^2 + e*y*z + c*x*z), z^2])\n",
    "    print d,f.is_morphism(),\n",
    "    s=sigma(f,1, chow=False)\n",
    "    if d == 1:\n",
    "        s1=s\n",
    "    print s==s1"
   ]
  },
  {
   "cell_type": "code",
   "execution_count": null,
   "metadata": {},
   "outputs": [],
   "source": [
    "R.<s1,s2,t1,t2,S1,S2,T1,T2>=QQ[]\n",
    "S.<w,t>=PolynomialRing(R, order='lex')\n",
    "u=(w-(t-s1)*(t-t1))*(w-(t-s1)*(t-t2))*(w-(t-s2)*(t-t1))*(w-(t-s2)*(t-t2))*(w-(t-0)*(t-0))*(w-(t-0)*(t-0))*(w-(t-2)*(t-0))"
   ]
  },
  {
   "cell_type": "code",
   "execution_count": null,
   "metadata": {},
   "outputs": [],
   "source": [
    "u"
   ]
  },
  {
   "cell_type": "code",
   "execution_count": null,
   "metadata": {},
   "outputs": [],
   "source": [
    "N=2\n",
    "D=7\n",
    "L=[[0 for _ in range(N*D+1)] for _ in range(D+1)]\n",
    "for i in range(D-1,-1,-1):\n",
    "    for j in range(N*(D-i)+1):\n",
    "        if i == 0:\n",
    "            if j == 0:\n",
    "                c = u.constant_coefficient()\n",
    "            else:\n",
    "                c = u.subs({w:0}).coefficient({t:j})\n",
    "        else:\n",
    "            c = u.coefficient({w:i,t:j})\n",
    "        if R(c).degree()!=0:\n",
    "            if R(c).lc() <= 0:\n",
    "                c = (-1)*c\n",
    "            L[D-i][N*(D-i)-j]=c\n",
    "#        print D-i,N*(D-i)-j,c\n",
    "#        print\"--\"\n",
    "#    print \"-----\""
   ]
  },
  {
   "cell_type": "code",
   "execution_count": 14,
   "metadata": {},
   "outputs": [
    {
     "data": {
      "text/plain": [
       "(l1*l2*l3 + l1*l2*l4 + l1*l3*l4 + l2*l3*l4 + l1*l2*l5 + l3*l4*l5 + l1*l2*l6 + l3*l4*l6 + l1*l5*l6 + l2*l5*l6 + l3*l5*l6 + l4*l5*l6,\n",
       " l1*l2 + l1*l3 + l2*l3 + l1*l4 + l2*l4 + l3*l4 + l1*l5 + l2*l5 + l3*l5 + l4*l5 + l1*l6 + l2*l6 + l3*l6 + l4*l6 + l5*l6)"
      ]
     },
     "execution_count": 14,
     "metadata": {},
     "output_type": "execute_result"
    }
   ],
   "source": [
    "L[1][2], L[2][2]"
   ]
  },
  {
   "cell_type": "code",
   "execution_count": null,
   "metadata": {},
   "outputs": [],
   "source": [
    "J=R.ideal([L[6][1]])\n",
    "for i in range(D-1,-1,-1):\n",
    "    for j in range(N*(D-i)+1):\n",
    "        if L[i][j] != 0 and L[i][j] not in J:\n",
    "            print i,j\n",
    "            J = R.ideal(list(J.gens()) + [L[i][j]])"
   ]
  },
  {
   "cell_type": "code",
   "execution_count": null,
   "metadata": {},
   "outputs": [],
   "source": [
    "G = [S1 - (s1+s2), S2 - (s1*s2), T1 - (t1+t2), T2-(t1*t2)]\n",
    "for i in range(D-1,-1,-1):\n",
    "    for j in range(N*(D-i)+1):\n",
    "        if L[i][j] != 0:\n",
    "            I=R.ideal(G+[L[i][j]])\n",
    "            J=I.elimination_ideal([s1,s2,t1,t2])\n",
    "            print i,j,J.gen(0).degrees()\n",
    "            print J.gen(0)"
   ]
  },
  {
   "cell_type": "code",
   "execution_count": null,
   "metadata": {},
   "outputs": [],
   "source": [
    "I"
   ]
  },
  {
   "cell_type": "code",
   "execution_count": null,
   "metadata": {},
   "outputs": [],
   "source": [
    "R.<a1,a2,a3,a4,a5,a6,b1,b2,b3,b4,b5,b6,c1,c2,c3,c4,c5,c6>=QQ[]\n",
    "P.<x,y,z>=ProjectiveSpace(R,2)\n",
    "f=DynamicalSystem([1*x^2+a2*x*y+a3*x*z+0*y^2+a5*y*z + 0*z^2, 0*x^2+b2*x*y+b3*x*z+1*y^2+b5*y*z+0*z^2,z^2])\n",
    "f(P(0,0,1)), f(P(0,1,0)), f(P(1,0,0))"
   ]
  },
  {
   "cell_type": "code",
   "execution_count": null,
   "metadata": {},
   "outputs": [],
   "source": [
    "f"
   ]
  },
  {
   "cell_type": "code",
   "execution_count": null,
   "metadata": {},
   "outputs": [],
   "source": [
    "R.<l1,l2,l3,l4,l5,l6,l7,l8,l9,l10,l11,l12,l13,l14>=QQ[]\n",
    "S.<w,t>=PolynomialRing(R, order='lex')\n",
    "u=(w-(t-l1)*(t-l2))*(w-(t-l3)*(t-l4))*(w-(t-l5)*(t-l6))*(w-(t-l7)*(t-l8))*(w-(t-l9)*(t-l10))*(w-(t-l11)*(t-l12))*(w-(t-l13)*(t-l14))"
   ]
  },
  {
   "cell_type": "code",
   "execution_count": null,
   "metadata": {},
   "outputs": [],
   "source": [
    "R.ngens()"
   ]
  },
  {
   "cell_type": "code",
   "execution_count": null,
   "metadata": {},
   "outputs": [],
   "source": [
    "R.<s10,s11,s12,s20,s21,s22,s23,s24,s30,s31,s32,s33,s34,s35,s36,s40,s41,s42,s43,s44,s45,s46,s47,s48,s50,s51,s52,s53,s54,s55,s56,s57,s58,s59,s510,s60,s61,s62,s63,s64,s65,s66,s67,s68,s69,s610,s611,s612,s70,s71,s72,s73,s74,s75,s76,s77,s78,s79,s710,s711,s712,s713,s714>=QQ[]\n",
    "S.<w,t>=PolynomialRing(R, order='lex')\n",
    "u=0\n",
    "k=0\n",
    "for i in range(7,-1,-1):\n",
    "    if i == 7:\n",
    "        u = w**7\n",
    "    else:\n",
    "        for j in range(14-2*i,-1,-1):\n",
    "            print i,j,k, R.gen(k)\n",
    "            u += w**i*t**j*R.gen(k)\n",
    "            k += 1"
   ]
  },
  {
   "cell_type": "code",
   "execution_count": null,
   "metadata": {},
   "outputs": [],
   "source": [
    "u.discriminant(w)"
   ]
  },
  {
   "cell_type": "code",
   "execution_count": null,
   "metadata": {},
   "outputs": [],
   "source": [
    "u.discriminant(w)"
   ]
  },
  {
   "cell_type": "code",
   "execution_count": null,
   "metadata": {},
   "outputs": [],
   "source": []
  },
  {
   "cell_type": "code",
   "execution_count": null,
   "metadata": {},
   "outputs": [],
   "source": [
    "S.<z>=QQ[]\n",
    "F=123*z^6+123*z-1123*z^3\n",
    "f=DynamicalSystem_affine([z - F/F.derivative()]).homogenize(1)\n",
    "f.sigma_invariants(1)"
   ]
  },
  {
   "cell_type": "code",
   "execution_count": null,
   "metadata": {},
   "outputs": [],
   "source": [
    "#newton\n",
    "R.<x,y>=QQ[]\n",
    "F=x^3-y-2\n",
    "G=y^3+2*x+11\n",
    "v=vector([F,G])\n",
    "f=DynamicalSystem_affine(list(vector([x,y])-jacobian(v,[x,y]).inverse()*v))\n",
    "fp=f.homogenize(2)\n",
    "fp"
   ]
  },
  {
   "cell_type": "code",
   "execution_count": null,
   "metadata": {},
   "outputs": [],
   "source": [
    "Fix=fp.periodic_points(1, return_scheme=True)"
   ]
  },
  {
   "cell_type": "code",
   "execution_count": null,
   "metadata": {},
   "outputs": [],
   "source": [
    "s=sigma(fp,1)"
   ]
  },
  {
   "cell_type": "code",
   "execution_count": null,
   "metadata": {},
   "outputs": [],
   "source": [
    "s"
   ]
  },
  {
   "cell_type": "code",
   "execution_count": null,
   "metadata": {},
   "outputs": [],
   "source": [
    "s"
   ]
  },
  {
   "cell_type": "code",
   "execution_count": null,
   "metadata": {},
   "outputs": [],
   "source": [
    "#symmetric lattes family from Gauthoer-Hutz-Kaschner\n",
    "#should have sigmas independent of t\n",
    "R.<t> = GF(3)[]\n",
    "P.<x,y,z>=ProjectiveSpace(FractionField(R),2)\n",
    "t=3\n",
    "P.<x,y,z>=ProjectiveSpace(GF(7),2)\n",
    "f=DynamicalSystem([((x+t*z)^2 - t*y^2)^2, 4*((x + t*z)^3*y + 2*(t + 1)*(x + t*z)^2*x*z + t*(x + t*z)*y^3 - 8*t*x*y*z*(x + t*z) - (t + 1)*(x^2*y^2 + t^2*y^2*z^2)), 16*x*z*(x-y+z)*(x-t*y+t^2*z)])"
   ]
  },
  {
   "cell_type": "code",
   "execution_count": null,
   "metadata": {},
   "outputs": [],
   "source": [
    "sigma(f,1, chow=True)"
   ]
  },
  {
   "cell_type": "code",
   "execution_count": null,
   "metadata": {},
   "outputs": [],
   "source": [
    "set_gap_memory_pool_size(32212254720) #30 Gb"
   ]
  },
  {
   "cell_type": "code",
   "execution_count": null,
   "metadata": {},
   "outputs": [],
   "source": [
    "SD.gens()"
   ]
  },
  {
   "cell_type": "code",
   "execution_count": null,
   "metadata": {},
   "outputs": [],
   "source": [
    "#create matrix group\n",
    "\n",
    "N=2\n",
    "D=4\n",
    "SN = SymmetricGroup(N)\n",
    "SD = SymmetricGroup(D)\n",
    "SND = SymmetricGroup(N*D)\n",
    "R = PolynomialRing(QQ,N*D, 'l')\n",
    "R.inject_variables()\n",
    "G=[]\n",
    "vars = [[R.gen(i+N*j) for i in range(N)] for j in range(D)]\n",
    "d = [1..D]\n",
    "n = [1..N]\n",
    "num = 0\n",
    "for sd in SD:\n",
    "    new_vars = [vars[i-1] for i in sd(d)]\n",
    "    for sn1 in SN:\n",
    "        for sn2 in SN:\n",
    "            for sn3 in SN:\n",
    "                for sn4 in SN:\n",
    "                                sn = [sn1(n),sn2(n),sn3(n),sn4(n)]\n",
    "                                new_vars = [[new_vars[j][i-1] for i in sn[j]] for j in range(D)]\n",
    "                                #print h,g, new_vars\n",
    "                                phi = R.hom(new_vars,R)\n",
    "                                #print phi\n",
    "                                L=[R.gens().index(t)+1 for t in phi.im_gens()]\n",
    "                                G.append(SND(L))\n",
    "\n",
    "M=MatrixGroup([g.matrix() for g in G])"
   ]
  },
  {
   "cell_type": "code",
   "execution_count": null,
   "metadata": {},
   "outputs": [],
   "source": [
    "M.cardinality()"
   ]
  },
  {
   "cell_type": "code",
   "execution_count": null,
   "metadata": {},
   "outputs": [],
   "source": []
  },
  {
   "cell_type": "code",
   "execution_count": null,
   "metadata": {},
   "outputs": [],
   "source": [
    "#create matrix group\n",
    "\n",
    "N=2\n",
    "D=4\n",
    "SN = SymmetricGroup(N)\n",
    "SD = SymmetricGroup(D)\n",
    "SND = SymmetricGroup(N*D)\n",
    "R = PolynomialRing(QQ,N*D, 'l')\n",
    "R.inject_variables()\n",
    "G=[]\n",
    "vars = [[R.gen(i+N*j) for i in range(N)] for j in range(D)]\n",
    "d = [1..D]\n",
    "n = [1..N]\n",
    "num = 0\n",
    "for sd in SD.gens():\n",
    "    new_vars = [vars[i-1] for i in sd(d)]\n",
    "    for sn1 in SN.gens():\n",
    "        for sn2 in SN.gens():\n",
    "            for sn3 in SN.gens():\n",
    "                for sn4 in SN.gens():\n",
    "                                sn = [sn1(n),sn2(n),sn3(n),sn4(n)]\n",
    "                                new_vars = [[new_vars[j][i-1] for i in sn[j]] for j in range(D)]\n",
    "                                #print h,g, new_vars\n",
    "                                phi = R.hom(new_vars,R)\n",
    "                                #print phi\n",
    "                                L=[R.gens().index(t)+1 for t in phi.im_gens()]\n",
    "                                G.append(SND(L))\n",
    "                                print sn, sd, SND(L)\n",
    "                                print SND(L).matrix()\n",
    "\n",
    "M=MatrixGroup([g.matrix() for g in G])"
   ]
  },
  {
   "cell_type": "code",
   "execution_count": null,
   "metadata": {},
   "outputs": [],
   "source": [
    "M.cardinality()"
   ]
  },
  {
   "cell_type": "code",
   "execution_count": null,
   "metadata": {},
   "outputs": [],
   "source": [
    "#create matrix group\n",
    "\n",
    "N=2\n",
    "D=7\n",
    "SN = SymmetricGroup(N)\n",
    "SD = SymmetricGroup(D)\n",
    "SND = SymmetricGroup(N*D)\n",
    "R = PolynomialRing(QQ,N*D, 'l')\n",
    "R.inject_variables()\n",
    "G=[]\n",
    "vars = [[R.gen(i+N*j) for i in range(N)] for j in range(D)]\n",
    "d = [1..D]\n",
    "n = [1..N]\n",
    "num = 0\n",
    "for sd in SD:\n",
    "    new_vars = [vars[i-1] for i in sd(d)]\n",
    "    for sn1 in SN:\n",
    "        for sn2 in SN:\n",
    "            for sn3 in SN:\n",
    "                for sn4 in SN:\n",
    "                    for sn5 in SN:\n",
    "                        for sn6 in SN:\n",
    "                            for sn7 in SN:\n",
    "                                sn = [sn1(n),sn2(n),sn3(n),sn4(n),sn5(n),sn6(n),sn7(n)]\n",
    "                                new_vars = [[new_vars[j][i-1] for i in sn[j]] for j in range(D)]\n",
    "                                #print h,g, new_vars\n",
    "                                phi = R.hom(new_vars,R)\n",
    "                                #print phi\n",
    "                                L=[R.gens().index(t)+1 for t in phi.im_gens()]\n",
    "                                G.append(SND(L))\n",
    "\n",
    "M=MatrixGroup([g.matrix() for g in G])"
   ]
  },
  {
   "cell_type": "code",
   "execution_count": null,
   "metadata": {},
   "outputs": [],
   "source": [
    "len(M)"
   ]
  },
  {
   "cell_type": "code",
   "execution_count": null,
   "metadata": {},
   "outputs": [],
   "source": [
    "N=2\n",
    "D=3\n",
    "SN = SymmetricGroup(N)\n",
    "SD = SymmetricGroup(D)\n",
    "SND = SymmetricGroup(N*D)\n",
    "R.<l1,l2,l3,l4,l5,l6> = PolynomialRing(QQ,N*D)\n",
    "R.inject_variables()\n",
    "G=[]\n",
    "vars = [[R.gen(i+N*j) for i in range(N)] for j in range(D)]\n",
    "d = [1..D]\n",
    "n = [1..N]\n",
    "num = 0\n",
    "for sd in SD:\n",
    "    new_vars = [vars[i-1] for i in sd(d)]\n",
    "    for sn1 in SN:\n",
    "        for sn2 in SN:\n",
    "            for sn3 in SN:\n",
    "                    sn = [sn1(n),sn2(n),sn3(n)]\n",
    "                    new_vars = [[new_vars[j][i-1] for i in sn[j]] for j in range(D)]\n",
    "                    #print h,g, new_vars\n",
    "                    phi = R.hom(new_vars,R)\n",
    "                    #print phi\n",
    "                    L=[R.gens().index(t)+1 for t in phi.im_gens()]\n",
    "                    G.append(SND(L))\n",
    "\n",
    "M=MatrixGroup([g.matrix() for g in G])\n",
    "\n",
    "IN=M.invariant_generators()"
   ]
  },
  {
   "cell_type": "code",
   "execution_count": null,
   "metadata": {},
   "outputs": [],
   "source": [
    "len(IN)"
   ]
  },
  {
   "cell_type": "code",
   "execution_count": null,
   "metadata": {},
   "outputs": [],
   "source": [
    "R.<l1,l2,l3,l4,l5,l6>=QQ[]\n",
    "S.<w,t>=PolynomialRing(R, order='lex')\n",
    "u=(w-(t-l1)*(t-l2)*(t-l3))*(w-(t-l4)*(t-l5)*(t-l6))"
   ]
  },
  {
   "cell_type": "code",
   "execution_count": null,
   "metadata": {},
   "outputs": [],
   "source": [
    "R.<l1,l2,l3,l4,l5,l6,l7,l8,l9>=QQ[]\n",
    "S.<w,t>=PolynomialRing(R, order='lex')\n",
    "u=(w-(t-l1)*(t-l2)*(t-l3))*(w-(t-l4)*(t-l5)*(t-l6))*(w-(t-l7)*(t-l8)*(t-l9))"
   ]
  },
  {
   "cell_type": "code",
   "execution_count": 15,
   "metadata": {},
   "outputs": [],
   "source": [
    "R.<l1,l2,l3,l4,l5,l6,l7,l8>=QQ[]\n",
    "S.<w,t>=PolynomialRing(R, order='lex')\n",
    "u=(w-(t-l1)*(t-l2))*(w-(t-l3)*(t-l4))*(w-(t-l5)*(t-l6))*(w-(t-l7)*(t-l8))"
   ]
  },
  {
   "cell_type": "code",
   "execution_count": null,
   "metadata": {},
   "outputs": [],
   "source": [
    "R.<l1,l2,l3,l4,l5,l6,l7,l8,l9,l10>=QQ[]\n",
    "S.<w,t>=PolynomialRing(R, order='lex')\n",
    "u=(w-(t-l1)*(t-l2))*(w-(t-l3)*(t-l4))*(w-(t-l5)*(t-l6))*(w-(t-l7)*(t-l8))*(w-(t-l9)*(t-l10))"
   ]
  },
  {
   "cell_type": "code",
   "execution_count": 2,
   "metadata": {},
   "outputs": [],
   "source": [
    "R.<l1,l2,l3,l4,l5,l6>=QQ[]\n",
    "S.<w,t>=PolynomialRing(R, order='lex')\n",
    "u=(w-(t-l1)*(t-l2))*(w-(t-l3)*(t-l4))*(w-(t-l5)*(t-l6))"
   ]
  },
  {
   "cell_type": "code",
   "execution_count": null,
   "metadata": {},
   "outputs": [],
   "source": [
    "R.<l1,l2,l3,l4,l5,l6,l7,l8,l9,l10,l11,l12>=QQ[]\n",
    "S.<w,t>=PolynomialRing(R, order='lex')\n",
    "u=(w-(t-l1)*(t-l2)*(t-l3))*(w-(t-l4)*(t-l5)*(t-l6))*(w-(t-l7)*(t-l8)*(t-l9))*(w-(t-l10)*(t-l11)*(t-l12))"
   ]
  },
  {
   "cell_type": "code",
   "execution_count": null,
   "metadata": {},
   "outputs": [],
   "source": [
    "v1=u.subs({w:t^2+1})\n",
    "v1.coefficients()\n",
    "v2=u.subs({w:t^2})\n",
    "v2.coefficients()\n",
    "v3=u.subs({w:t^2+t})\n",
    "v3.coefficients()"
   ]
  },
  {
   "cell_type": "code",
   "execution_count": null,
   "metadata": {},
   "outputs": [],
   "source": [
    "I=R.ideal(v1.coefficients() + v2.coefficients() + v3.coefficients())"
   ]
  },
  {
   "cell_type": "code",
   "execution_count": null,
   "metadata": {},
   "outputs": [],
   "source": [
    "R"
   ]
  },
  {
   "cell_type": "code",
   "execution_count": null,
   "metadata": {},
   "outputs": [],
   "source": [
    "I.dimension()"
   ]
  },
  {
   "cell_type": "code",
   "execution_count": null,
   "metadata": {},
   "outputs": [],
   "source": [
    "I.variety()"
   ]
  },
  {
   "cell_type": "code",
   "execution_count": 16,
   "metadata": {},
   "outputs": [],
   "source": [
    "N=2\n",
    "D=4\n",
    "L=[[0 for _ in range(N*D+1)] for _ in range(D+1)]\n",
    "for i in range(D-1,-1,-1):\n",
    "    for j in range(N*(D-i)):\n",
    "        if i == 0:\n",
    "            if j == 0:\n",
    "                c = u.constant_coefficient()\n",
    "            else:\n",
    "                c = u.subs({w:0}).coefficient({t:j})\n",
    "        else:\n",
    "            c = u.coefficient({w:i,t:j})\n",
    "        if R(c).degree()!=0:\n",
    "            if R(c).lc() <= 0:\n",
    "                c = (-1)*c\n",
    "            L[D-i][N*(D-i)-j]=c\n",
    "#        print D-i,N*(D-i)-j,c\n",
    "#        print\"--\"\n",
    "#    print \"-----\""
   ]
  },
  {
   "cell_type": "code",
   "execution_count": null,
   "metadata": {},
   "outputs": [],
   "source": [
    "l7"
   ]
  },
  {
   "cell_type": "code",
   "execution_count": null,
   "metadata": {},
   "outputs": [],
   "source": [
    "u = (1-l1)*(1-l2)*(1-l3)*(1-l4)*(1-l5)*(1-l6)\n",
    "#u = (1-l1)*(1-l2)*(1-l3)*(1-l4)*(1-l5)*(1-l6)*(1-l7)*(1-l8)\n",
    "u1 = (1-l1)*(1-l2)\n",
    "u2 = (1-l3)*(1-l4)\n",
    "u3 = (1-l5)*(1-l6)\n",
    "u4 = (1-l7)*(1-l8)\n",
    "\n",
    "u*((l1*l2)/u1 + (l3*l4)/u2 + (l5*l6)/u3) - 2*u"
   ]
  },
  {
   "cell_type": "code",
   "execution_count": null,
   "metadata": {},
   "outputs": [],
   "source": [
    "u = (1-l1)*(1-l2)*(1-l3)*(1-l4)*(1-l5)*(1-l6)*(1-l7)*(1-l8)*(1-l9)\n",
    "u1 = (1-l1)*(1-l2)*(1-l3)\n",
    "u2 = (1-l4)*(1-l5)*(1-l6)\n",
    "u3 = (1-l7)*(1-l8)*(1-l9)\n",
    "\n",
    "ww=u*((l1+l2+l3)/u1 + (l4+l5+l6)/u2 + (l7+l8+l9)/u3) - 2*u"
   ]
  },
  {
   "cell_type": "code",
   "execution_count": null,
   "metadata": {},
   "outputs": [],
   "source": [
    "u = (1-l1)*(1-l2)*(1-l3)*(1-l4)*(1-l5)*(1-l6)*(1-l7)\n",
    "ww=1/(1-l1) + 1/(1-l2) + 1/(1-l3) + 1/(1-l4) + 1/(1-l5) + 1/(1-l6) + 1/(1-l7)\n",
    "u*ww"
   ]
  },
  {
   "cell_type": "code",
   "execution_count": 17,
   "metadata": {},
   "outputs": [
    {
     "name": "stdout",
     "output_type": "stream",
     "text": [
      "good:  (1, 1)\n",
      "good:  (1, 2)\n",
      "redundant:  (2, 1)\n",
      "good:  (2, 2)\n",
      "good:  (2, 3)\n",
      "good:  (2, 4)\n",
      "redundant:  (3, 1)\n",
      "redundant:  (3, 2)\n",
      "good:  (3, 3)\n",
      "good:  (3, 4)\n",
      "good:  (3, 5)\n",
      "good:  (3, 6)\n",
      "redundant:  (4, 1)\n",
      "redundant:  (4, 2)\n",
      "redundant:  (4, 3)\n",
      "good:  (4, 4)\n",
      "good:  (4, 5)\n",
      "good:  (4, 6)\n",
      "good:  (4, 7)\n",
      "good:  (4, 8)\n"
     ]
    },
    {
     "data": {
      "text/plain": [
       "14"
      ]
     },
     "execution_count": 17,
     "metadata": {},
     "output_type": "execute_result"
    }
   ],
   "source": [
    "B=[]\n",
    "for i in range(len(L)):\n",
    "    ll = L[i]\n",
    "    for j in range(len(ll)):\n",
    "        l = ll[j]\n",
    "        I = R.ideal(B)\n",
    "        if l != 0:\n",
    "            if l not in I:\n",
    "                print \"good: \",(i,j)\n",
    "                B.append(l)\n",
    "            else:\n",
    "                print \"redundant: \",(i,j)\n",
    "             # print l.lift(I)\n",
    "len(B)"
   ]
  },
  {
   "cell_type": "code",
   "execution_count": 22,
   "metadata": {},
   "outputs": [
    {
     "data": {
      "text/plain": [
       "(l1*l2 + l3*l4 + l5*l6 + l7*l8,\n",
       " 3*l1*l2 + l1*l3 + l2*l3 + l1*l4 + l2*l4 + 3*l3*l4 + l1*l5 + l2*l5 + l3*l5 + l4*l5 + l1*l6 + l2*l6 + l3*l6 + l4*l6 + 3*l5*l6 + l1*l7 + l2*l7 + l3*l7 + l4*l7 + l5*l7 + l6*l7 + l1*l8 + l2*l8 + l3*l8 + l4*l8 + l5*l8 + l6*l8 + 3*l7*l8,\n",
       " 3*l1*l2 + 2*l1*l3 + 2*l2*l3 + 2*l1*l4 + 2*l2*l4 + 3*l3*l4 + 2*l1*l5 + 2*l2*l5 + 2*l3*l5 + 2*l4*l5 + 2*l1*l6 + 2*l2*l6 + 2*l3*l6 + 2*l4*l6 + 3*l5*l6 + 2*l1*l7 + 2*l2*l7 + 2*l3*l7 + 2*l4*l7 + 2*l5*l7 + 2*l6*l7 + 2*l1*l8 + 2*l2*l8 + 2*l3*l8 + 2*l4*l8 + 2*l5*l8 + 2*l6*l8 + 3*l7*l8)"
      ]
     },
     "execution_count": 22,
     "metadata": {},
     "output_type": "execute_result"
    }
   ],
   "source": [
    "L[1][2], L[2][2], L[3][2]"
   ]
  },
  {
   "cell_type": "code",
   "execution_count": null,
   "metadata": {},
   "outputs": [],
   "source": [
    "B=[]\n",
    "for i in range(len(L)):\n",
    "    ll = L[i]\n",
    "    for j in range(len(ll)):\n",
    "        b = len(ll)-1\n",
    "        l = ll[b-j]\n",
    "        I = R.ideal(B)\n",
    "        if l != 0:\n",
    "            if l not in I:\n",
    "                print \"good: \",(i,b-j)\n",
    "                B.append(l)\n",
    "            else:\n",
    "                print \"redundant: \",(i,b-j)\n",
    "             # print l.lift(I)\n",
    "len(B)"
   ]
  },
  {
   "cell_type": "code",
   "execution_count": null,
   "metadata": {},
   "outputs": [],
   "source": [
    "I=R.ideal([R(L[1][2]),R(L[2][2])])"
   ]
  },
  {
   "cell_type": "code",
   "execution_count": null,
   "metadata": {},
   "outputs": [],
   "source": [
    "R(L[3][2]).lift(I)"
   ]
  },
  {
   "cell_type": "code",
   "execution_count": null,
   "metadata": {},
   "outputs": [],
   "source": [
    "e = SymmetricFunctions(QQ).elementary()\n",
    "ll=[[l1,l2],[l3,l4],[l5,l6]]\n",
    "a1=e[2].expand(N)(ll[0])*e[1].expand(N)(ll[1])+e[2].expand(N)(ll[0])*e[1].expand(N)(ll[2])+e[2].expand(N)(ll[1])*e[1].expand(N)(ll[2])\n",
    "a2=e[1].expand(N)(ll[0])*e[2].expand(N)(ll[1])+e[1].expand(N)(ll[0])*e[2].expand(N)(ll[2])+e[1].expand(N)(ll[1])*e[2].expand(N)(ll[2])"
   ]
  },
  {
   "cell_type": "code",
   "execution_count": null,
   "metadata": {},
   "outputs": [],
   "source": [
    "(s.numerator() - s.denominator()) in I"
   ]
  },
  {
   "cell_type": "code",
   "execution_count": null,
   "metadata": {},
   "outputs": [],
   "source": [
    "list(Partitions(3,parts_in=[1..2]))"
   ]
  },
  {
   "cell_type": "code",
   "execution_count": null,
   "metadata": {},
   "outputs": [],
   "source": [
    "p= Partitions(4,parts_in=[1..2])\n",
    "p.cardinality()"
   ]
  },
  {
   "cell_type": "code",
   "execution_count": null,
   "metadata": {},
   "outputs": [],
   "source": [
    "ind=0\n",
    "D=5\n",
    "N=3\n",
    "for k in range(1,N*D+1):\n",
    "    p= Partitions(k,max_part=N, max_length=D)\n",
    "    print list(p), k\n",
    "    ind += p.cardinality()\n",
    "print ind"
   ]
  },
  {
   "cell_type": "code",
   "execution_count": null,
   "metadata": {},
   "outputs": [],
   "source": [
    "B=[]\n",
    "for l in [L[k][3] for k in range(1,5)]:\n",
    "        I = R.ideal(B)\n",
    "        if l not in I:\n",
    "            B.append(l)\n",
    "        else:\n",
    "            print \"redundant \", l\n",
    "         # print l.lift(I)\n",
    "B"
   ]
  },
  {
   "cell_type": "code",
   "execution_count": null,
   "metadata": {},
   "outputs": [],
   "source": [
    "len(B)"
   ]
  },
  {
   "cell_type": "code",
   "execution_count": null,
   "metadata": {},
   "outputs": [],
   "source": [
    "B"
   ]
  },
  {
   "cell_type": "code",
   "execution_count": null,
   "metadata": {},
   "outputs": [],
   "source": [
    "B=[]\n",
    "for ll in L:\n",
    "    for l in ll:\n",
    "        I = R.ideal(B)\n",
    "        if l not in I:\n",
    "            B.append(l)\n",
    "        else:\n",
    "            print \"redundant \", l\n",
    "         # print l.lift(I)\n",
    "B"
   ]
  },
  {
   "cell_type": "code",
   "execution_count": null,
   "metadata": {},
   "outputs": [],
   "source": [
    "deg=[R(b).degree() for b in B]\n",
    "sorted(deg)"
   ]
  },
  {
   "cell_type": "code",
   "execution_count": null,
   "metadata": {},
   "outputs": [],
   "source": [
    "e = SymmetricFunctions(QQ).elementary()\n",
    "ll=[[l1,l2],[l3,l4],[l5,l6]]\n",
    "a1=e[2].expand(N)(ll[0])*e[1].expand(N)(ll[1])+e[2].expand(N)(ll[0])*e[1].expand(N)(ll[2])+e[2].expand(N)(ll[1])*e[1].expand(N)(ll[2])\n",
    "a2=e[1].expand(N)(ll[0])*e[2].expand(N)(ll[1])+e[1].expand(N)(ll[0])*e[2].expand(N)(ll[2])+e[1].expand(N)(ll[1])*e[2].expand(N)(ll[2])"
   ]
  },
  {
   "cell_type": "code",
   "execution_count": null,
   "metadata": {},
   "outputs": [],
   "source": [
    "ll=[[l1,l2],[l3,l4],[l5,l6],[l7,l8]]\n",
    "a1=e[2].expand(N)(ll[0])*e[1].expand(N)(ll[1])+e[2].expand(N)(ll[0])*e[1].expand(N)(ll[2])+e[2].expand(N)(ll[1])*e[1].expand(N)(ll[2])"
   ]
  },
  {
   "cell_type": "code",
   "execution_count": null,
   "metadata": {},
   "outputs": [],
   "source": [
    "a1+a2"
   ]
  },
  {
   "cell_type": "code",
   "execution_count": null,
   "metadata": {},
   "outputs": [],
   "source": [
    "e[1].expand(N)(ll[0])*e[1].expand(N)(ll[1])*e[1].expand(N)(ll[2])"
   ]
  },
  {
   "cell_type": "code",
   "execution_count": null,
   "metadata": {},
   "outputs": [],
   "source": [
    "L[2][3]+L[3][3]"
   ]
  },
  {
   "cell_type": "code",
   "execution_count": null,
   "metadata": {},
   "outputs": [],
   "source": [
    "-(3,6) + (3,5) -(2,4) - (3,4) + (3,3) + (2,3) -(3,2) - (2,2) + (1,2) - (1,1) + 2"
   ]
  },
  {
   "cell_type": "code",
   "execution_count": null,
   "metadata": {},
   "outputs": [],
   "source": [
    "L[4][3]+L[3][3]+ L[2][3]== -L[1][3]"
   ]
  },
  {
   "cell_type": "code",
   "execution_count": null,
   "metadata": {},
   "outputs": [],
   "source": [
    "phi(L[2][2])"
   ]
  },
  {
   "cell_type": "code",
   "execution_count": null,
   "metadata": {},
   "outputs": [],
   "source": [
    "S.<l1,l2,l3,l4,l5,l6,l7,l8,l9,l10,l11,l12,u1,u2,u3> = PolynomialRing(QQ,15,order='lex')\n",
    "phi=R.hom([l1,l2,l3,l4,l5,l6,l7,l8,l9,l10,l11,l12],S)\n",
    "I=S.ideal([u1-phi(L[4][4]),u2-phi(L[3][4]),u3-phi(L[2][4])])"
   ]
  },
  {
   "cell_type": "code",
   "execution_count": null,
   "metadata": {},
   "outputs": [],
   "source": [
    "G=I.groebner_basis()\n",
    "G[-1]"
   ]
  },
  {
   "cell_type": "code",
   "execution_count": null,
   "metadata": {},
   "outputs": [],
   "source": [
    "r.<l1,l2,l3,l4,l5,l6,l7,l8,l9>=QQ[]\n",
    "S=0\n",
    "#for i in range(0,6,2):\n",
    "#    S+=1/((1-r.gen(i))*(1-r.gen(i+1)))\n",
    "for i in range(0,8,3):\n",
    "    S+=1/((1-r.gen(i))*(1-r.gen(i+1))*(1-r.gen(i+2)))\n",
    "S.numerator() - S.denominator()"
   ]
  },
  {
   "cell_type": "code",
   "execution_count": null,
   "metadata": {},
   "outputs": [],
   "source": [
    "e = SymmetricFunctions(QQ).elementary()\n",
    "ll=[[l1,l2,l3],[l4,l5,l6],[l7,l8,l9]]"
   ]
  },
  {
   "cell_type": "code",
   "execution_count": null,
   "metadata": {},
   "outputs": [],
   "source": [
    "a1=e[3].expand(D)(ll[0])*e[2].expand(D)(ll[1])+e[3].expand(D)(ll[0])*e[2].expand(D)(ll[2])+e[3].expand(D)(ll[1])*e[2].expand(D)(ll[2])\n",
    "a2=e[2].expand(D)(ll[0])*e[3].expand(D)(ll[1])+e[2].expand(D)(ll[0])*e[3].expand(D)(ll[2])+e[2].expand(D)(ll[1])*e[3].expand(D)(ll[2])"
   ]
  },
  {
   "cell_type": "code",
   "execution_count": null,
   "metadata": {},
   "outputs": [],
   "source": [
    "L[7]"
   ]
  },
  {
   "cell_type": "code",
   "execution_count": null,
   "metadata": {},
   "outputs": [],
   "source": [
    "L[16]"
   ]
  },
  {
   "cell_type": "code",
   "execution_count": null,
   "metadata": {},
   "outputs": [],
   "source": [
    "L[4]"
   ]
  },
  {
   "cell_type": "code",
   "execution_count": null,
   "metadata": {},
   "outputs": [],
   "source": [
    "a1=e[3].expand(D)(ll[0])*e[1].expand(D)(ll[1])+e[3].expand(D)(ll[0])*e[1].expand(D)(ll[2])+e[3].expand(D)(ll[1])*e[1].expand(D)(ll[2])\n",
    "a2=e[1].expand(D)(ll[0])*e[3].expand(D)(ll[1])+e[1].expand(D)(ll[0])*e[3].expand(D)(ll[2])+e[1].expand(D)(ll[1])*e[3].expand(D)(ll[2])\n",
    "a3=e[2].expand(D)(ll[0])*e[2].expand(D)(ll[1])+e[2].expand(D)(ll[0])*e[2].expand(D)(ll[2])+e[2].expand(D)(ll[1])*e[2].expand(D)(ll[2])"
   ]
  },
  {
   "cell_type": "code",
   "execution_count": null,
   "metadata": {},
   "outputs": [],
   "source": [
    "a1=e[2].expand(D)(ll[0])+e[2].expand(D)(ll[1])+e[2].expand(D)(ll[2])\n",
    "a2=e[1].expand(D)(ll[0])*e[1].expand(D)(ll[1])+e[1].expand(D)(ll[0])*e[1].expand(D)(ll[2])+e[1].expand(D)(ll[1])*e[1].expand(D)(ll[2])"
   ]
  },
  {
   "cell_type": "code",
   "execution_count": null,
   "metadata": {},
   "outputs": [],
   "source": [
    "a1+a2"
   ]
  },
  {
   "cell_type": "code",
   "execution_count": null,
   "metadata": {},
   "outputs": [],
   "source": [
    "L[-2]"
   ]
  },
  {
   "cell_type": "code",
   "execution_count": null,
   "metadata": {},
   "outputs": [],
   "source": [
    "L[5]==a1+a2+a3"
   ]
  },
  {
   "cell_type": "code",
   "execution_count": null,
   "metadata": {},
   "outputs": [],
   "source": [
    "L[5]"
   ]
  },
  {
   "cell_type": "code",
   "execution_count": null,
   "metadata": {},
   "outputs": [],
   "source": [
    "L=[]\n",
    "for i in range(R.ngens()/2):\n",
    "    if i == 0:\n",
    "        z = u.subs({w:0})\n",
    "        #print z\n",
    "        for v in z.coefficients():\n",
    "            if v.degree()!=0:\n",
    "                L.append(v)\n",
    "            print v\n",
    "            print \"--\"\n",
    "    else:\n",
    "        #print u.coefficient(w**i)\n",
    "        for v in u.coefficient(w**i).coefficients():\n",
    "            print v\n",
    "            if v.degree()!=0:\n",
    "                L.append(v)\n",
    "            print\"--\"\n",
    "    print \"-----\""
   ]
  },
  {
   "cell_type": "code",
   "execution_count": null,
   "metadata": {},
   "outputs": [],
   "source": [
    "L"
   ]
  },
  {
   "cell_type": "code",
   "execution_count": null,
   "metadata": {},
   "outputs": [],
   "source": [
    "B=[]\n",
    "for l in L:\n",
    "    I = R.ideal(B)\n",
    "    if l not in I:\n",
    "        B.append(l)\n",
    "    else:\n",
    "        print \"redundant \", l\n",
    "        #print l.lift(I)\n",
    "B"
   ]
  },
  {
   "cell_type": "code",
   "execution_count": null,
   "metadata": {},
   "outputs": [],
   "source": [
    "invariant_generators(M)"
   ]
  },
  {
   "cell_type": "code",
   "execution_count": null,
   "metadata": {},
   "outputs": [],
   "source": [
    "for m in M:\n",
    "    s=[b for a in m.matrix() for b in a]\n",
    "    print s"
   ]
  },
  {
   "cell_type": "code",
   "execution_count": null,
   "metadata": {},
   "outputs": [],
   "source": [
    "e = SymmetricFunctions(QQ).elementary()\n",
    "p = SymmetricFunctions(QQ).power()"
   ]
  },
  {
   "cell_type": "code",
   "execution_count": null,
   "metadata": {},
   "outputs": [],
   "source": [
    "R.<l1,l2,l3,l4,l5,l6>=QQ[]\n",
    "L1=[]; L2=[]; L3=[]\n",
    "L1.append((l1+l2))\n",
    "L1.append((l1*l2))\n",
    "L2.append((l3+l4))\n",
    "L2.append((l3*l4))\n",
    "L3.append((l5+l6))\n",
    "L3.append((l5*l6))"
   ]
  },
  {
   "cell_type": "code",
   "execution_count": null,
   "metadata": {},
   "outputs": [],
   "source": [
    "R.<l1,l2,l3,l4,l5,l6>=QQ[]\n",
    "e = SymmetricFunctions(QQ).elementary()\n",
    "D=2\n",
    "N=3\n",
    "IN=[]\n",
    "L=[[l1,l2],[l3,l4],[l5,l6]]\n",
    "d = {l1:l1+l2, l2:l1*l3, l3:l3+l4,l4:l3*l4, l5:l5+l6, l6:l5*l6}\n",
    "print (l1+l2).subs(d)\n",
    "for i in range(1,N+1):\n",
    "    for j in range(1,D+1):\n",
    "        w=e[i].expand(N)([e[j].expand(D)(L[k]) for k in range(N)])\n",
    "        print i,j,w\n",
    "        IN.append(w)"
   ]
  },
  {
   "cell_type": "code",
   "execution_count": null,
   "metadata": {},
   "outputs": [],
   "source": [
    "D=2\n",
    "N=3\n",
    "IN=[]\n",
    "L=[[l1,l2],[l3,l4],[l5,l6]]\n",
    "for i in range(1,N+1):\n",
    "    for j in range(1,D+1):\n",
    "        w=e[i].expand(N)([e[j].expand(D)(L[k]) for k in range(N)])\n",
    "        print i,j,w\n",
    "        IN.append(w)"
   ]
  },
  {
   "cell_type": "code",
   "execution_count": null,
   "metadata": {},
   "outputs": [],
   "source": [
    "IN"
   ]
  },
  {
   "cell_type": "code",
   "execution_count": null,
   "metadata": {},
   "outputs": [],
   "source": [
    "u=l1*l2*l3*l4*l5 + l1*l2*l3*l4*l6 + l1*l2*l3*l5*l6 + l1*l2*l4*l5*l6 + l1*l3*l4*l5*l6 + l2*l3*l4*l5*l6\n",
    "I=R.ideal(IN)\n",
    "u in I"
   ]
  },
  {
   "cell_type": "code",
   "execution_count": null,
   "metadata": {},
   "outputs": [],
   "source": [
    "M.invariant_generators()"
   ]
  },
  {
   "cell_type": "code",
   "execution_count": null,
   "metadata": {},
   "outputs": [],
   "source": [
    "I"
   ]
  },
  {
   "cell_type": "code",
   "execution_count": null,
   "metadata": {},
   "outputs": [],
   "source": [
    "# does not get them all!\n",
    "for a in L1:\n",
    "    for b in L2:\n",
    "        for c in L3:\n",
    "            L=[a,b,c]\n",
    "            L,e[1].expand(3)(L), e[2].expand(3)(L), e[3].expand(3)(L)"
   ]
  },
  {
   "cell_type": "code",
   "execution_count": null,
   "metadata": {},
   "outputs": [],
   "source": [
    "R.<l1,l2,l3,l4,l5,l6,l7,l8>=QQ[]\n",
    "S.<w,t>=PolynomialRing(R, order='lex')\n",
    "u=(w-(t-l1)*(t-l2))*(w-(t-l3)*(t-l4))*(w-(t-l5)*(t-l6))*(w-(t-l7)*(t-l8))"
   ]
  },
  {
   "cell_type": "code",
   "execution_count": null,
   "metadata": {},
   "outputs": [],
   "source": [
    "L=[]\n",
    "for i in range(R.ngens()/2):\n",
    "    if i == 0:\n",
    "        z = u.subs({w:0})\n",
    "        print z\n",
    "        for v in z.coefficients():\n",
    "            if v.degree()!=0:\n",
    "                L.append(v)\n",
    "            print v\n",
    "            print \"--\"\n",
    "    else:\n",
    "        print u.coefficient(w**i)\n",
    "        for v in u.coefficient(w**i).coefficients():\n",
    "            print v\n",
    "            if v.degree()!=0:\n",
    "                L.append(v)\n",
    "            print\"--\"\n",
    "    print \"-----\""
   ]
  },
  {
   "cell_type": "code",
   "execution_count": null,
   "metadata": {},
   "outputs": [],
   "source": [
    "L.insert(0,L[-1])"
   ]
  },
  {
   "cell_type": "code",
   "execution_count": null,
   "metadata": {},
   "outputs": [],
   "source": [
    "B=[]\n",
    "for l in L:\n",
    "    I = R.ideal(B)\n",
    "    if l not in I:\n",
    "        B.append(l)\n",
    "    else:\n",
    "        print \"redundant \", l\n",
    "        print l.lift(I)\n",
    "B"
   ]
  },
  {
   "cell_type": "code",
   "execution_count": null,
   "metadata": {},
   "outputs": [],
   "source": [
    "len(B), len(L)"
   ]
  },
  {
   "cell_type": "code",
   "execution_count": null,
   "metadata": {},
   "outputs": [],
   "source": [
    "IN"
   ]
  },
  {
   "cell_type": "code",
   "execution_count": null,
   "metadata": {},
   "outputs": [],
   "source": [
    "I.dimension()"
   ]
  },
  {
   "cell_type": "code",
   "execution_count": null,
   "metadata": {},
   "outputs": [],
   "source": [
    "set_verbose(None)\n",
    "I=R.ideal(L)\n",
    "for g in IN:\n",
    "    R(g) in I\n",
    "    #R(g).lift(I)"
   ]
  },
  {
   "cell_type": "code",
   "execution_count": null,
   "metadata": {},
   "outputs": [],
   "source": [
    "LT=[]\n",
    "LT.append(l1*l2*l3*l4*l5*l6)\n",
    "LT.append(l1*l2*l3*l4*l5 + l1*l2*l3*l4*l6 + l1*l2*l3*l5*l6 + l1*l2*l4*l5*l6 + l1*l3*l4*l5*l6 + l2*l3*l4*l5*l6)\n",
    "LT.append(l1*l2*l3*l5 + l1*l2*l4*l5 + l1*l3*l4*l5 + l2*l3*l4*l5 + l1*l2*l3*l6 + l1*l2*l4*l6 + l1*l3*l4*l6 + l2*l3*l4*l6 + l1*l3*l5*l6 + l2*l3*l5*l6 + l1*l4*l5*l6 + l2*l4*l5*l6)\n",
    "LT.append(l1*l3*l5 + l2*l3*l5 + l1*l4*l5 + l2*l4*l5 + l1*l3*l6 + l2*l3*l6 + l1*l4*l6 + l2*l4*l6)\n",
    "LT.append(l1*l2 + l3*l4 + l5*l6)\n",
    "LT.append(l1 + l2 + l3 + l4 + l5 + l6)"
   ]
  },
  {
   "cell_type": "code",
   "execution_count": null,
   "metadata": {},
   "outputs": [],
   "source": [
    "set_verbose(None)\n",
    "I=R.ideal(L)\n",
    "for g in LT:\n",
    "    R(g) in I\n",
    "    R(g).lift(I)"
   ]
  },
  {
   "cell_type": "code",
   "execution_count": null,
   "metadata": {},
   "outputs": [],
   "source": [
    "set_verbose(None)\n",
    "I=R.ideal(LT)\n",
    "for g in L:\n",
    "    R(g) in I\n",
    "    #R(g).lift(I)"
   ]
  },
  {
   "cell_type": "code",
   "execution_count": null,
   "metadata": {},
   "outputs": [],
   "source": [
    "LT"
   ]
  },
  {
   "cell_type": "code",
   "execution_count": null,
   "metadata": {},
   "outputs": [],
   "source": [
    "L"
   ]
  },
  {
   "cell_type": "code",
   "execution_count": null,
   "metadata": {},
   "outputs": [],
   "source": [
    "#def wreath(d,N,D):\n",
    "N=2\n",
    "D=4\n",
    "SND = SymmetricGroup(N*D)\n",
    "SN = SymmetricGroup(N)\n",
    "SD = SymmetricGroup(D)\n",
    "#R.<l1,l2,l3,l4,l5,l6> = PolynomialRing(QQ,N*D)\n",
    "#R = PolynomialRing(QQ,N*D, 'l')\n",
    "#R.inject_variables()\n",
    "#f = l1*l3*l5 + l2*l3*l5 + l1*l4*l5 + l2*l4*l5 + l1*l3*l6 + l2*l3*l6 + l1*l4*l6 + l2*l4*l6\n",
    "#f=-(- l1*l2*l3*l5 - l1*l2*l4*l5 - l1*l3*l4*l5 - l2*l3*l4*l5 - l1*l2*l3*l6 - l2*l3*l4*l6 - l1*l3*l5*l6 - l2*l3*l5*l6 - l1*l4*l5*l6 -l2*l4*l5*l6)\n",
    "G=[]\n",
    "vars = [[R.gen(i+N*j) for i in range(N)] for j in range(D)]\n",
    "d = [1..D]\n",
    "n = [1..N]\n",
    "num = 0\n",
    "for sd in SD:\n",
    "    new_vars = [vars[i-1] for i in sd(d)]\n",
    "    for sn1 in SN:\n",
    "        for sn2 in SN:\n",
    "            for sn3 in SN:\n",
    "                for sn4 in SN:\n",
    "                    sn = [sn1(n),sn2(n),sn3(n),sn4(n)]\n",
    "                    new_vars = [[new_vars[j][i-1] for i in sn[j]] for j in range(D)]\n",
    "                    #print h,g, new_vars\n",
    "                    phi = R.hom(new_vars,R)\n",
    "                    #print phi\n",
    "                    L=[R.gens().index(t)+1 for t in phi.im_gens()]\n",
    "                    G.append(SND(L))"
   ]
  },
  {
   "cell_type": "code",
   "execution_count": null,
   "metadata": {},
   "outputs": [],
   "source": [
    "M=MatrixGroup([g.matrix() for g in G])"
   ]
  },
  {
   "cell_type": "code",
   "execution_count": null,
   "metadata": {},
   "outputs": [],
   "source": [
    "M.cardinality()"
   ]
  },
  {
   "cell_type": "code",
   "execution_count": null,
   "metadata": {},
   "outputs": [],
   "source": [
    "IN=M.invariant_generators()"
   ]
  },
  {
   "cell_type": "code",
   "execution_count": null,
   "metadata": {},
   "outputs": [],
   "source": [
    "set_verbose(None)\n",
    "I=R.ideal(L)\n",
    "for g in IN:\n",
    "    R(g) in I\n",
    "    #R(g).lift(I)"
   ]
  },
  {
   "cell_type": "code",
   "execution_count": null,
   "metadata": {},
   "outputs": [],
   "source": [
    "M.invariants_of_degree(2)"
   ]
  },
  {
   "cell_type": "code",
   "execution_count": null,
   "metadata": {},
   "outputs": [],
   "source": [
    "((x1 + x2 + x3 + x4 + x5 + x0)^2 - (x0^2 + x1^2 + x2^2 + x3^2 + x4^2 + x5^2))/2 - (x0*x1 + x2*x3 + x4*x5)"
   ]
  },
  {
   "cell_type": "code",
   "execution_count": null,
   "metadata": {},
   "outputs": [],
   "source": [
    "G=M.gap()\n",
    "G.StructureDescription()"
   ]
  },
  {
   "cell_type": "code",
   "execution_count": null,
   "metadata": {},
   "outputs": [],
   "source": [
    "(N,d): structure\n",
    "(2,3): C2 x S4\n",
    "(2,4): ((((C2 x D8) : C2) : C3) : C2) : C2\n",
    "(3,3):"
   ]
  },
  {
   "cell_type": "code",
   "execution_count": null,
   "metadata": {},
   "outputs": [],
   "source": [
    "l1*l2 + l1*l3 + l2*l3 + l1*l4 + l2*l4 + l3*l4 + l1*l5 + l2*l5+ l3*l5 + l4*l5 + l1*l6 + l2*l6 + l3*l6 + l4*l6 + l5*l6"
   ]
  },
  {
   "cell_type": "code",
   "execution_count": null,
   "metadata": {},
   "outputs": [],
   "source": [
    "((x1 + x2 + x3 + x4 + x5 + x0)^2 - (x0^2 + x1^2 + x2^2 + x3^2 + x4^2 + x5^2))/2"
   ]
  },
  {
   "cell_type": "code",
   "execution_count": null,
   "metadata": {},
   "outputs": [],
   "source": [
    "M.invariant_generators()"
   ]
  },
  {
   "cell_type": "code",
   "execution_count": null,
   "metadata": {},
   "outputs": [],
   "source": [
    "e = SymmetricFunctions(QQ).elementary()"
   ]
  },
  {
   "cell_type": "code",
   "execution_count": null,
   "metadata": {},
   "outputs": [],
   "source": [
    "L1=[]\n",
    "L2=[]\n",
    "L1.append((l1+l2))\n",
    "L2.append((l1*l2))\n",
    "L1.append((l3+l4))\n",
    "L2.append((l3*l4))\n",
    "L1.append((l5+l6))\n",
    "L2.append((l5*l6))"
   ]
  },
  {
   "cell_type": "code",
   "execution_count": null,
   "metadata": {},
   "outputs": [],
   "source": [
    "e[1].expand(3)(L1), e[2].expand(3)(L1), e[3].expand(3)(L1)"
   ]
  },
  {
   "cell_type": "code",
   "execution_count": null,
   "metadata": {},
   "outputs": [],
   "source": [
    "g.matrix()"
   ]
  },
  {
   "cell_type": "code",
   "execution_count": null,
   "metadata": {},
   "outputs": [],
   "source": [
    "#def wreath(d,N,D):\n",
    "N=2\n",
    "D=3\n",
    "SN = SymmetricGroup(N)\n",
    "SD = SymmetricGroup(D)\n",
    "R.<l1,l2,l3,l4,l5,l6> = PolynomialRing(QQ,N*D)\n",
    "R.inject_variables()\n",
    "f = l1*l3*l5 + l2*l3*l5 + l1*l4*l5 + l2*l4*l5 + l1*l3*l6 + l2*l3*l6 + l1*l4*l6 + l2*l4*l6\n",
    "f=-(- l1*l2*l3*l5 - l1*l2*l4*l5 - l1*l3*l4*l5 - l2*l3*l4*l5 - l1*l2*l3*l6 - l2*l3*l4*l6 - l1*l3*l5*l6 - l2*l3*l5*l6 - l1*l4*l5*l6 -l2*l4*l5*l6)\n",
    "f=l1*l2 + l1*l3 + l2*l3 + l1*l4 + l2*l4 + l3*l4 + l1*l5 + l2*l5+ l3*l5 + l4*l5 + l1*l6 + l2*l6 + l3*l6 + l4*l6 + l5*l6\n",
    "g = 0\n",
    "print f\n",
    "vars = [[R.gen(i+N*j) for i in range(N)] for j in range(D)]\n",
    "d = [1..D]\n",
    "n = [1..N]\n",
    "num = 0\n",
    "for sd in SD:\n",
    "    new_vars = [vars[i-1] for i in sd(d)]\n",
    "    for sn in SN:\n",
    "        new_vars = [[t[i-1] for i in sn(n)] for t in new_vars]\n",
    "        #print h,g, new_vars\n",
    "        phi = R.hom(new_vars,R)\n",
    "        #print phi\n",
    "        g += phi(f)\n",
    "        num += 1\n",
    "g*(5/60)"
   ]
  },
  {
   "cell_type": "code",
   "execution_count": null,
   "metadata": {},
   "outputs": [],
   "source": [
    "(l1*l2*l3*l4*l5*l6 - l1*l2*l3*l4*l5 - l1*l2*l3*l4*l6 - l1*l2*l3*l5*l6\n",
    "- l1*l2*l4*l5*l6 - l1*l3*l4*l5*l6 - l2*l3*l4*l5*l6 + l1*l2*l3*l4 +\n",
    "l1*l2*l3*l5 + l1*l2*l4*l5 + l1*l3*l4*l5 + l2*l3*l4*l5 + l1*l2*l3*l6 +\n",
    "l1*l2*l4*l6 + l1*l3*l4*l6 + l2*l3*l4*l6 + l1*l2*l5*l6 + l1*l3*l5*l6 +\n",
    "l2*l3*l5*l6 + l1*l4*l5*l6 + l2*l4*l5*l6 + l3*l4*l5*l6 - l1*l2*l3 -\n",
    "l1*l2*l4 - l1*l3*l4 - l2*l3*l4 - l1*l2*l5 - l1*l3*l5 - l2*l3*l5 -\n",
    "l1*l4*l5 - l2*l4*l5 - l3*l4*l5 - l1*l2*l6 - l1*l3*l6 - l2*l3*l6 -\n",
    "l1*l4*l6 - l2*l4*l6 - l3*l4*l6 - l1*l5*l6 - l2*l5*l6 - l3*l5*l6 -\n",
    "l4*l5*l6 + l1*l2 + l1*l3 + l2*l3 + l1*l4 + l2*l4 + l3*l4 + l1*l5 + l2*l5\n",
    "+ l3*l5 + l4*l5 + l1*l6 + l2*l6 + l3*l6 + l4*l6 + l5*l6 - l1 - l2 - l3 -\n",
    "l4 - l5 - l6 + 1)"
   ]
  },
  {
   "cell_type": "code",
   "execution_count": null,
   "metadata": {},
   "outputs": [],
   "source": [
    "N=2\n",
    "D=3\n",
    "R.<l1,l2,l3,l4,l5,l6> = PolynomialRing(QQ,N*D)"
   ]
  },
  {
   "cell_type": "code",
   "execution_count": null,
   "metadata": {},
   "outputs": [],
   "source": [
    "L=[]\n",
    "L.append((l1+l2)*(l3+l4)*(l5+l6))\n",
    "L.append((l1+l2)*(l3+l4) + (l1+l2)*(l5+l6) + (l3+l4)*(l5+l6))\n",
    "L.append(l1+l2 + l3+l4 + l5+l6)\n",
    "L.append(l1*l2 * l3*l4 * l5*l6)\n",
    "L.append(l1*l2*l3*l4 + l1*l2*l5*l6 + l3*l4*l5*l6)\n",
    "L.append(l1*l2 + l3*l4 + l5*l6)"
   ]
  },
  {
   "cell_type": "code",
   "execution_count": null,
   "metadata": {},
   "outputs": [],
   "source": [
    "T=-l1*l2*l3*l4*l5*l6 + l1*l2*l3*l4*l5 + l1*l2*l3*l4*l6 + l1*l2*l3*l5*l6 + l1*l2*l4*l5*l6 + l1*l3*l4*l5*l6 + l2*l3*l4*l5*l6 - l1*l2*l3*l5 - l1*l2*l4*l5 - l1*l3*l4*l5 - l2*l3*l4*l5 - l1*l2*l3*l6 - l1*l2*l4*l6 - l1*l3*l4*l6 - l2*l3*l4*l6 - l1*l3*l5*l6 - l2*l3*l5*l6 - l1*l4*l5*l6 - l2*l4*l5*l6 + l1*l3*l5 + l2*l3*l5 + l1*l4*l5 + l2*l4*l5 + l1*l3*l6 + l2*l3*l6 + l1*l4*l6 + l2*l4*l6 + l1*l2 + l3*l4 + l5*l6 - l1 - l2 - l3 - l4 - l5 - l6 + 2\n",
    "T2 = (l1*l2*l3*l4*l5*l6 - l1*l2*l3*l4*l5 - l1*l2*l3*l4*l6 - l1*l2*l3*l5*l6- l1*l2*l4*l5*l6 - l1*l3*l4*l5*l6 - l2*l3*l4*l5*l6 + l1*l2*l3*l4 +l1*l2*l3*l5 + l1*l2*l4*l5 + l1*l3*l4*l5 + l2*l3*l4*l5 + l1*l2*l3*l6 +l1*l2*l4*l6 + l1*l3*l4*l6 + l2*l3*l4*l6 + l1*l2*l5*l6 + l1*l3*l5*l6 +l2*l3*l5*l6 + l1*l4*l5*l6 + l2*l4*l5*l6 + l3*l4*l5*l6 - l1*l2*l3 -l1*l2*l4 - l1*l3*l4 - l2*l3*l4 - l1*l2*l5 - l1*l3*l5 - l2*l3*l5 -l1*l4*l5 - l2*l4*l5 - l3*l4*l5 - l1*l2*l6 - l1*l3*l6 - l2*l3*l6 -l1*l4*l6 - l2*l4*l6 - l3*l4*l6 - l1*l5*l6 - l2*l5*l6 - l3*l5*l6 -l4*l5*l6 + l1*l2 + l1*l3 + l2*l3 + l1*l4 + l2*l4 + l3*l4 + l1*l5 + l2*l5+ l3*l5 + l4*l5 + l1*l6 + l2*l6 + l3*l6 + l4*l6 + l5*l6 - l1 - l2 - l3 -l4 - l5 - l6 + 1)"
   ]
  },
  {
   "cell_type": "code",
   "execution_count": null,
   "metadata": {},
   "outputs": [],
   "source": [
    "T3=l1*l2 + l1*l3 + l2*l3 + l1*l4 + l2*l4 + l3*l4 + l1*l5 + l2*l5+ l3*l5 + l4*l5 + l1*l6 + l2*l6 + l3*l6 + l4*l6 + l5*l6"
   ]
  },
  {
   "cell_type": "code",
   "execution_count": null,
   "metadata": {},
   "outputs": [],
   "source": [
    "M.invariants_of_degree(1)"
   ]
  },
  {
   "cell_type": "code",
   "execution_count": null,
   "metadata": {},
   "outputs": [],
   "source": [
    "M.invariants_of_degree(2)"
   ]
  },
  {
   "cell_type": "code",
   "execution_count": null,
   "metadata": {},
   "outputs": [],
   "source": [
    "M.invariants_of_degree(3)"
   ]
  },
  {
   "cell_type": "code",
   "execution_count": null,
   "metadata": {},
   "outputs": [],
   "source": [
    "M.invariant_generators()"
   ]
  },
  {
   "cell_type": "code",
   "execution_count": null,
   "metadata": {},
   "outputs": [],
   "source": [
    "M.gens()"
   ]
  },
  {
   "cell_type": "code",
   "execution_count": null,
   "metadata": {},
   "outputs": [],
   "source": [
    "S=R.quotient(L)\n",
    "S=R.quotient([R(t) for t in M.invariants_of_degree(1)] + [R(t) for t in M.invariants_of_degree(2)])\n",
    "S=R.quotient([R(t) for t in M.invariant_generators()])\n",
    "#S=R.quotient([e[1].expand(3)(L1), e[2].expand(3)(L1), e[3].expand(3)(L1),e[1].expand(3)(L2), e[2].expand(3)(L2), e[3].expand(3)(L2)])\n",
    "S(T).lift()"
   ]
  },
  {
   "cell_type": "code",
   "execution_count": null,
   "metadata": {},
   "outputs": [],
   "source": [
    "T2"
   ]
  },
  {
   "cell_type": "code",
   "execution_count": null,
   "metadata": {},
   "outputs": [],
   "source": [
    "LT=[]\n",
    "LT.append(l1*l2*l3*l4*l5*l6)\n",
    "LT.append(l1*l2*l3*l4*l5 + l1*l2*l3*l4*l6 + l1*l2*l3*l5*l6 + l1*l2*l4*l5*l6 + l1*l3*l4*l5*l6 + l2*l3*l4*l5*l6)\n",
    "LT.append(l1*l2*l3*l5 + l1*l2*l4*l5 + l1*l3*l4*l5 + l2*l3*l4*l5 + l1*l2*l3*l6 + l1*l2*l4*l6 + l1*l3*l4*l6 + l2*l3*l4*l6 + l1*l3*l5*l6 + l2*l3*l5*l6 + l1*l4*l5*l6 + l2*l4*l5*l6)\n",
    "LT.append(l1*l3*l5 + l2*l3*l5 + l1*l4*l5 + l2*l4*l5 + l1*l3*l6 + l2*l3*l6 + l1*l4*l6 + l2*l4*l6)\n",
    "LT.append(l1*l2 + l3*l4 + l5*l6)\n",
    "LT.append(l1 + l2 + l3 + l4 + l5 + l6)"
   ]
  },
  {
   "cell_type": "code",
   "execution_count": null,
   "metadata": {},
   "outputs": [],
   "source": [
    "M.invariant_generators()"
   ]
  },
  {
   "cell_type": "code",
   "execution_count": null,
   "metadata": {},
   "outputs": [],
   "source": [
    "S=R.quotient([R(t) for t in M.invariant_generators()])\n",
    "for g in LT:\n",
    "    S(g).lift()"
   ]
  },
  {
   "cell_type": "code",
   "execution_count": null,
   "metadata": {},
   "outputs": [],
   "source": [
    "S=R.quotient(LT)\n",
    "for g in M.invariant_generators():\n",
    "    S(g).lift()"
   ]
  },
  {
   "cell_type": "code",
   "execution_count": null,
   "metadata": {},
   "outputs": [],
   "source": [
    "#def wreath(d,N,D):\n",
    "N=2\n",
    "D=4\n",
    "SND = SymmetricGroup(N*D)\n",
    "SN = SymmetricGroup(N)\n",
    "SD = SymmetricGroup(D)\n",
    "#R.<l1,l2,l3,l4,l5,l6> = PolynomialRing(QQ,N*D)\n",
    "R = PolynomialRing(QQ,N*D, 'l')\n",
    "R.inject_variables()\n",
    "f = l1*l3*l5 + l2*l3*l5 + l1*l4*l5 + l2*l4*l5 + l1*l3*l6 + l2*l3*l6 + l1*l4*l6 + l2*l4*l6\n",
    "f=-(- l1*l2*l3*l5 - l1*l2*l4*l5 - l1*l3*l4*l5 - l2*l3*l4*l5 - l1*l2*l3*l6 - l2*l3*l4*l6 - l1*l3*l5*l6 - l2*l3*l5*l6 - l1*l4*l5*l6 -l2*l4*l5*l6)\n",
    "G=[]\n",
    "vars = [[R.gen(i+N*j) for i in range(N)] for j in range(D)]\n",
    "d = [1..D]\n",
    "n = [1..N]\n",
    "num = 0\n",
    "for sd in SD:\n",
    "    new_vars = [vars[i-1] for i in sd(d)]\n",
    "    for sn in SN:\n",
    "        new_vars = [[t[i-1] for i in sn(n)] for t in new_vars]\n",
    "        #print h,g, new_vars\n",
    "        phi = R.hom(new_vars,R)\n",
    "        #print phi\n",
    "        L=[R.gens().index(t)+1 for t in phi.im_gens()]\n",
    "        G.append(SND(L))"
   ]
  },
  {
   "cell_type": "code",
   "execution_count": null,
   "metadata": {},
   "outputs": [],
   "source": [
    "M=MatrixGroup([g.matrix() for g in G])"
   ]
  },
  {
   "cell_type": "code",
   "execution_count": null,
   "metadata": {},
   "outputs": [],
   "source": [
    "M.cardinality()"
   ]
  },
  {
   "cell_type": "code",
   "execution_count": null,
   "metadata": {},
   "outputs": [],
   "source": [
    "IN=M.invariant_generators()"
   ]
  },
  {
   "cell_type": "code",
   "execution_count": null,
   "metadata": {},
   "outputs": [],
   "source": [
    "R.<x1,x2,y1,y2,t,s1,s2,u1,u2>=QQ[]\n",
    "a1 = t^2 - t*(x1+y1) + (x1)*(y1)\n",
    "a2 = t^2 - t*(x1+y2) + (x1)*(y2)\n",
    "a3 = t^2 - t*(x2+y1) + (x2)*(y1)\n",
    "a4 = t^2 - t*(x2+y2) + (x2)*(y2)\n",
    "a5 = t^2 #(0,1,0)\n",
    "a6 = t^2 #(1,0,0)\n",
    "a7 = t^2-2*t #(1,1,0)"
   ]
  },
  {
   "cell_type": "code",
   "execution_count": null,
   "metadata": {},
   "outputs": [],
   "source": [
    "p=a1*a2*a3*a4*a5*a6*a7\n",
    "Q = R.quotient((s1-(x1+x2), s2-(x1*x2), u1-(y1+y2), u2-(y1*y2))) ; Q\n",
    "p2=Q(p).lift()\n",
    "for n in range(14,-1,-1):\n",
    "    p2.coefficient(t**n)"
   ]
  },
  {
   "cell_type": "code",
   "execution_count": null,
   "metadata": {},
   "outputs": [],
   "source": [
    "R.<x1,x2,x3,y1,y2,y3,t,s1,s2,s3,u1,u2,u3>=QQ[]\n",
    "a1 = t^2 - t*(x1+y1) + (x1)*(y1)\n",
    "a2 = t^2 - t*(x1+y2) + (x1)*(y2)\n",
    "a3 = t^2 - t*(x1+y3) + (x1)*(y3)\n",
    "a4 = t^2 - t*(x2+y1) + (x2)*(y1)\n",
    "a5 = t^2 - t*(x2+y2) + (x2)*(y2)\n",
    "a6 = t^2 - t*(x2+y3) + (x2)*(y3)\n",
    "a7 = t^2 - t*(x3+y1) + (x3)*(y1)\n",
    "a8 = t^2 - t*(x3+y2) + (x3)*(y2)\n",
    "a9 = t^2 - t*(x3+y3) + (x3)*(y3)\n",
    "a10 = t^2 #(0,1,0)\n",
    "a11 = t^2 #(1,0,0)\n",
    "a12 = t^2-3*t #(1,1,0)\n",
    "a13 = t^2-3*t #(-1,1,0)"
   ]
  },
  {
   "cell_type": "code",
   "execution_count": null,
   "metadata": {},
   "outputs": [],
   "source": [
    "def check(self,n):\n",
    "    f = self.change_ring(QQbar)\n",
    "    per = f.periodic_points(n)\n",
    "    mul = []\n",
    "    t=1\n",
    "    for Q in per:\n",
    "        t=t*f.multiplier(Q,n).characteristic_polynomial()\n",
    "        c=f.multiplier(Q,n).characteristic_polynomial().coefficients(sparse=False)\n",
    "        c.pop(-1) #always monic\n",
    "        mul.append(c)\n",
    "    sig=[]\n",
    "    e = SymmetricFunctions(QQbar).e()\n",
    "\n",
    "    N = len(mul)\n",
    "    R = f.base_ring()\n",
    "    for i in range(0,N):\n",
    "        T=[]\n",
    "        for k in range(len(mul[0])):\n",
    "            T.append(QQ(R(e([i+1]).expand(N)([m[k] for m in mul]))))\n",
    "        sig.append(T)\n",
    "    return sig,t"
   ]
  },
  {
   "cell_type": "code",
   "execution_count": null,
   "metadata": {},
   "outputs": [],
   "source": []
  },
  {
   "cell_type": "code",
   "execution_count": null,
   "metadata": {},
   "outputs": [],
   "source": [
    "%%time\n",
    "P.<x,y,z,w> = ProjectiveSpace(QQ,3)\n",
    "F = DynamicalSystem([4*x^2-3*z^2, 4*y^2-3*x*w,4*z^2+x*y, w^2])\n",
    "S=sigma(F,1, deform=0)"
   ]
  },
  {
   "cell_type": "code",
   "execution_count": null,
   "metadata": {},
   "outputs": [],
   "source": [
    "%%time\n",
    "P.<x,y,z> = ProjectiveSpace(QQ,2)\n",
    "F = DynamicalSystem([4*x^3-3*y*z^2, 4*y^3-3*x^3+z^3,4*z^3])\n",
    "S=sigma(F,1, deform=1)"
   ]
  },
  {
   "cell_type": "code",
   "execution_count": null,
   "metadata": {},
   "outputs": [],
   "source": [
    "S.<c,d>=QQ[]\n",
    "t.<t>=S[]\n",
    "a1 = t^2 +4*t-10\n",
    "a2 = t^2 + (32*c*d + 16*(c+d))*t + (8*(c+d)+36)\n",
    "a3 = t^2 - 64*c*d*t - 48*(c+d) - 56\n",
    "a4 = t^2 + 256*c^2*d^2*t + 16*(c^2+d^2) - 32*c*d + 96*(c+d) + 32\n",
    "a5 = t^2 -32*(c^2+d^2) + 64*c*d - 64*(c+d)\n",
    "a6 = t^2\n",
    "a7 = t^2\n",
    "a = [a1,a2,a3,a4,a5,a6,a7]\n",
    "prod(a)"
   ]
  },
  {
   "cell_type": "code",
   "execution_count": null,
   "metadata": {},
   "outputs": [],
   "source": [
    "read \"C:\\\\Users\\\\hutzba\\\\Dropbox\\\\VBShare\\\\multires.tex\"\n",
    "A := spresultant([x^2*y+x*y^2, x^2*z+x*z^2, y^2*z+y*z^2, -8*x*y*z+4*t*x*y+4*t*x*z+4*t*y*z+(-2*t^2)*x+(-2*t^2)*y+(-2*t^2)*z+t^3], [x, y, z]);\n",
    "det(A[1]);"
   ]
  },
  {
   "cell_type": "code",
   "execution_count": null,
   "metadata": {},
   "outputs": [],
   "source": [
    "set_verbose(None)\n",
    "P.<x,y,z>=ProjectiveSpace(QQbar,2)\n",
    "A=-8*x*y*z\n",
    "B= 4*(x*y+y*z+x*z)\n",
    "C=-2*(x+y+z)\n",
    "f=DynamicalSystem([x^2+y^2,y^2,z^2+x^2])\n",
    "X = f.periodic_points(1)"
   ]
  },
  {
   "cell_type": "code",
   "execution_count": null,
   "metadata": {},
   "outputs": [],
   "source": [
    "r.<x0,x1,x2,x3,c,d>=QQ[]\n",
    "I=r.ideal([x0-4,x1-(32*c*d + 16*(c + d)), x2-(-64*c*d),x3-(256*c^2*d^2)])\n",
    "I.elimination_ideal((c,d))"
   ]
  },
  {
   "cell_type": "code",
   "execution_count": null,
   "metadata": {},
   "outputs": [],
   "source": [
    "r.<x0,x1,x2,x3,x4,c,d>=QQ[]\n",
    "I=r.ideal([x0-(-10),x1-(8*(c + d) + 36), x2-(-48*(c+d) - 56),x3-(16*(c^2+d^2) - 32*c*d + 96*(c + d) + 32), x4-(-32*(c^2+d^2) + 64*c*d - 64*(c+ d))])\n",
    "I.elimination_ideal((c,d))"
   ]
  },
  {
   "cell_type": "code",
   "execution_count": null,
   "metadata": {},
   "outputs": [],
   "source": [
    "set_verbose(None)\n",
    "R.<c,d>=QQ[]\n",
    "P.<x,y,z>=ProjectiveSpace(FractionField(R),2)\n",
    "H=End(P)\n",
    "f=H([x^2+c*z^2,y^2+d*z^2,z^2])\n",
    "s=sigma(f,1)"
   ]
  },
  {
   "cell_type": "code",
   "execution_count": null,
   "metadata": {},
   "outputs": [],
   "source": [
    "s"
   ]
  },
  {
   "cell_type": "code",
   "execution_count": null,
   "metadata": {},
   "outputs": [],
   "source": [
    "w,t = s.parent().gens()\n",
    "s1=s.parent()(s/(w-t^2))\n",
    "D=(s1.discriminant(w))"
   ]
  },
  {
   "cell_type": "code",
   "execution_count": null,
   "metadata": {},
   "outputs": [],
   "source": [
    "I = R.ideal(D.coefficients())\n",
    "I.imension()"
   ]
  },
  {
   "cell_type": "code",
   "execution_count": null,
   "metadata": {},
   "outputs": [],
   "source": [
    "R.<c,d>=QQ[]\n",
    "P.<x,y,z>=ProjectiveSpace(FractionField(R),2)\n",
    "H=End(P)\n",
    "f=H([x^2+c^2*z^2,y^2+d^2*z^2,z^2])\n",
    "m=matrix(FractionField(R),3,3,[0,d,0,c,0,0,0,0,c/d])\n",
    "f.conjugate(m)"
   ]
  },
  {
   "cell_type": "code",
   "execution_count": null,
   "metadata": {},
   "outputs": [],
   "source": [
    "P=f.domain()\n",
    "f([1,0,0])"
   ]
  },
  {
   "cell_type": "code",
   "execution_count": null,
   "metadata": {},
   "outputs": [],
   "source": [
    "f.multiplier(P([1,1,0]),1)"
   ]
  },
  {
   "cell_type": "code",
   "execution_count": null,
   "metadata": {},
   "outputs": [],
   "source": []
  }
 ],
 "metadata": {
  "kernelspec": {
   "display_name": "SageMath 9.4.beta0",
   "language": "sage",
   "name": "sagemath"
  },
  "language": "python",
  "language_info": {
   "codemirror_mode": {
    "name": "ipython",
    "version": 3
   },
   "file_extension": ".py",
   "mimetype": "text/x-python",
   "name": "python",
   "nbconvert_exporter": "python",
   "pygments_lexer": "ipython3",
   "version": "3.9.2"
  }
 },
 "nbformat": 4,
 "nbformat_minor": 2
}
