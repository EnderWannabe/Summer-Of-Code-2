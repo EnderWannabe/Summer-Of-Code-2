{
 "cells": [
  {
   "cell_type": "code",
   "execution_count": 1,
   "metadata": {},
   "outputs": [],
   "source": [
    "sage: P.<x,y,z> = ProjectiveSpace(QQ,2)\n",
    "sage: f = DynamicalSystem_projective([x^2-y^2, x^2-z^2, y^2-z^2])"
   ]
  },
  {
   "cell_type": "code",
   "execution_count": 4,
   "metadata": {},
   "outputs": [
    {
     "data": {
      "text/plain": [
       "Closed subscheme of Projective Space of dimension 2 over Rational Field defined by:\n",
       "  y^3 - x^2*z - y*z^2 + z^3,\n",
       "  x*y^2 - x^2*z + y^2*z - x*z^2,\n",
       "  x^3 - x^2*y + x^2*z - x*z^2 + y*z^2 - z^3"
      ]
     },
     "execution_count": 4,
     "metadata": {},
     "output_type": "execute_result"
    }
   ],
   "source": [
    "f.periodic_points(1, return_scheme=True)"
   ]
  },
  {
   "cell_type": "code",
   "execution_count": 18,
   "metadata": {},
   "outputs": [],
   "source": [
    "CR = f.coordinate_ring()\n",
    "dom = f.domain()\n",
    "PS = f.codomain().ambient_space()\n",
    "N = PS.dimension_relative() + 1\n",
    "n=1\n",
    "F = f.nth_iterate_map(1)\n",
    "L = [F[i]*CR.gen(j) - F[j]*CR.gen(i) for i in range(3) for j in range(i+1, 3)]\n",
    "L = [t for t in L if t != 0]\n",
    "X = PS.subscheme(L + list(dom.defining_polynomials()))"
   ]
  },
  {
   "cell_type": "code",
   "execution_count": 19,
   "metadata": {},
   "outputs": [
    {
     "data": {
      "text/plain": [
       "Closed subscheme of Projective Space of dimension 2 over Rational Field defined by:\n",
       "  -x^3 + x^2*y - y^3 + x*z^2,\n",
       "  -x*y^2 + x^2*z - y^2*z + x*z^2,\n",
       "  -y^3 + x^2*z + y*z^2 - z^3"
      ]
     },
     "execution_count": 19,
     "metadata": {},
     "output_type": "execute_result"
    }
   ],
   "source": [
    "X"
   ]
  },
  {
   "cell_type": "code",
   "execution_count": 20,
   "metadata": {},
   "outputs": [
    {
     "data": {
      "text/plain": [
       "True"
      ]
     },
     "execution_count": 20,
     "metadata": {},
     "output_type": "execute_result"
    }
   ],
   "source": [
    "Sn = []\n",
    "for k in ZZ(n).divisors():\n",
    "    if ZZ(n/k).is_prime():\n",
    "        Sn.append(k)\n",
    "Ik = CR.ideal(1)\n",
    "for k in Sn:\n",
    "    Ik *= f.periodic_points(k, return_scheme=True, minimal=False).defining_ideal()\n",
    "In = X.defining_ideal()\n",
    "X == PS.subscheme(In.saturation(Ik)[0])"
   ]
  },
  {
   "cell_type": "code",
   "execution_count": 21,
   "metadata": {},
   "outputs": [
    {
     "data": {
      "text/plain": [
       "Closed subscheme of Projective Space of dimension 2 over Rational Field defined by:\n",
       "  -x^3 + x^2*y - y^3 + x*z^2,\n",
       "  -x*y^2 + x^2*z - y^2*z + x*z^2,\n",
       "  -y^3 + x^2*z + y*z^2 - z^3"
      ]
     },
     "execution_count": 21,
     "metadata": {},
     "output_type": "execute_result"
    }
   ],
   "source": [
    "X"
   ]
  },
  {
   "cell_type": "code",
   "execution_count": 25,
   "metadata": {},
   "outputs": [
    {
     "name": "stdout",
     "output_type": "stream",
     "text": [
      "[(0 : 1 : 1), (1 : 1 : 0)]\n",
      "[(1 : 1 : 0), (0 : 1 : 1)]\n",
      "[(0 : 1 : 1), (1 : 1 : 0)]\n"
     ]
    }
   ],
   "source": [
    "lst = f.periodic_points(2)\n",
    "lst2 = [f(i) for i in lst]\n",
    "lst3 = [f(i) for i in lst2]\n",
    "print(lst)\n",
    "print(lst2)\n",
    "print(lst3)"
   ]
  },
  {
   "cell_type": "code",
   "execution_count": 25,
   "metadata": {},
   "outputs": [
    {
     "name": "stdout",
     "output_type": "stream",
     "text": [
      "1\n",
      "2\n"
     ]
    },
    {
     "data": {
      "text/plain": [
       "[(-1/2 : 1), (1 : 0), (3/2 : 1)]"
      ]
     },
     "execution_count": 25,
     "metadata": {},
     "output_type": "execute_result"
    }
   ],
   "source": [
    "sage: P.<x,y> = ProjectiveSpace(QQ, 1)\n",
    "sage: f = DynamicalSystem_projective([x^2 - 3/4*y^2, y^2])\n",
    "sage: sorted(f.all_periodic_points(period_degree_bounds=[2,2]))"
   ]
  },
  {
   "cell_type": "code",
   "execution_count": 26,
   "metadata": {},
   "outputs": [
    {
     "data": {
      "text/plain": [
       "Closed subscheme of Projective Space of dimension 1 over Rational Field defined by:\n",
       "  x^2*y - x*y^2 - 3/4*y^3"
      ]
     },
     "execution_count": 26,
     "metadata": {},
     "output_type": "execute_result"
    }
   ],
   "source": [
    "f.periodic_points(1, return_scheme = True)"
   ]
  },
  {
   "cell_type": "code",
   "execution_count": 27,
   "metadata": {},
   "outputs": [],
   "source": [
    "CR = f.coordinate_ring()\n",
    "dom = f.domain()\n",
    "PS = f.codomain().ambient_space()\n",
    "N = PS.dimension_relative() + 1\n",
    "n=2\n",
    "F = f.nth_iterate_map(1)\n",
    "L = [F[i]*CR.gen(j) - F[j]*CR.gen(i) for i in range(N) for j in range(i+1, N)]\n",
    "L = [t for t in L if t != 0]\n",
    "X = PS.subscheme(L + list(dom.defining_polynomials()))"
   ]
  },
  {
   "cell_type": "code",
   "execution_count": 30,
   "metadata": {},
   "outputs": [
    {
     "name": "stdout",
     "output_type": "stream",
     "text": [
      "[1]\n",
      "Dynamical System of Projective Space of dimension 1 over Rational Field\n",
      "  Defn: Defined on coordinates by sending (x : y) to\n",
      "        (x^2 - 3/4*y^2 : y^2)\n"
     ]
    },
    {
     "data": {
      "text/plain": [
       "-2"
      ]
     },
     "execution_count": 30,
     "metadata": {},
     "output_type": "execute_result"
    }
   ],
   "source": [
    "Sn = []\n",
    "for k in ZZ(n).divisors():\n",
    "    if ZZ(n/k).is_prime():\n",
    "        Sn.append(k)\n",
    "print(Sn)\n",
    "Ik = CR.ideal(1)\n",
    "for k in Sn:\n",
    "    Ik *= f.periodic_points(k, return_scheme=True, minimal=False).defining_ideal()\n",
    "In = X.defining_ideal()\n",
    "print(f)\n",
    "P.subscheme(In.saturation(Ik)[0]).dimension()"
   ]
  },
  {
   "cell_type": "code",
   "execution_count": 2,
   "metadata": {
    "scrolled": false
   },
   "outputs": [
    {
     "data": {
      "text/plain": [
       "Closed subscheme of Projective Space of dimension 1 over Univariate Polynomial Ring in c over Rational Field defined by:\n",
       "  x^6 + x^5*y + (3*c + 1)*x^4*y^2 + (2*c + 1)*x^3*y^3 + (3*c^2 + 3*c + 1)*x^2*y^4 + (c^2 + 2*c + 1)*x*y^5 + (c^3 + 2*c^2 + c + 1)*y^6"
      ]
     },
     "execution_count": 2,
     "metadata": {},
     "output_type": "execute_result"
    }
   ],
   "source": [
    "S.<c>=QQ[]\n",
    "R.<x,y>=PolynomialRing(S,2)\n",
    "P=ProjectiveSpace(R)\n",
    "f=DynamicalSystem_projective([x^2+c*y^2,y^2])\n",
    "f.periodic_points(3, return_scheme=True)"
   ]
  },
  {
   "cell_type": "code",
   "execution_count": 3,
   "metadata": {},
   "outputs": [
    {
     "ename": "ValueError",
     "evalue": "a positive integer period must be specified",
     "output_type": "error",
     "traceback": [
      "\u001b[0;31m---------------------------------------------------------------------------\u001b[0m",
      "\u001b[0;31mValueError\u001b[0m                                Traceback (most recent call last)",
      "\u001b[0;32m<ipython-input-3-02b498cbb688>\u001b[0m in \u001b[0;36m<module>\u001b[0;34m\u001b[0m\n\u001b[0;32m----> 1\u001b[0;31m \u001b[0mf\u001b[0m\u001b[0;34m.\u001b[0m\u001b[0mperiodic_points\u001b[0m\u001b[0;34m(\u001b[0m\u001b[0mInteger\u001b[0m\u001b[0;34m(\u001b[0m\u001b[0;36m0\u001b[0m\u001b[0;34m)\u001b[0m\u001b[0;34m)\u001b[0m\u001b[0;34m\u001b[0m\u001b[0;34m\u001b[0m\u001b[0m\n\u001b[0m",
      "\u001b[0;32m~/Documents/Sage/sage/local/lib/python3.7/site-packages/sage/dynamics/arithmetic_dynamics/projective_ds.py\u001b[0m in \u001b[0;36mperiodic_points\u001b[0;34m(self, n, minimal, R, algorithm, return_scheme)\u001b[0m\n\u001b[1;32m   4080\u001b[0m         \"\"\"\n\u001b[1;32m   4081\u001b[0m         \u001b[0;32mif\u001b[0m \u001b[0mn\u001b[0m \u001b[0;34m<=\u001b[0m \u001b[0;36m0\u001b[0m\u001b[0;34m:\u001b[0m\u001b[0;34m\u001b[0m\u001b[0;34m\u001b[0m\u001b[0m\n\u001b[0;32m-> 4082\u001b[0;31m             \u001b[0;32mraise\u001b[0m \u001b[0mValueError\u001b[0m\u001b[0;34m(\u001b[0m\u001b[0;34m\"a positive integer period must be specified\"\u001b[0m\u001b[0;34m)\u001b[0m\u001b[0;34m\u001b[0m\u001b[0;34m\u001b[0m\u001b[0m\n\u001b[0m\u001b[1;32m   4083\u001b[0m         \u001b[0;32mif\u001b[0m \u001b[0mR\u001b[0m \u001b[0;32mis\u001b[0m \u001b[0;32mNone\u001b[0m\u001b[0;34m:\u001b[0m\u001b[0;34m\u001b[0m\u001b[0;34m\u001b[0m\u001b[0m\n\u001b[1;32m   4084\u001b[0m             \u001b[0mf\u001b[0m \u001b[0;34m=\u001b[0m \u001b[0mself\u001b[0m\u001b[0;34m\u001b[0m\u001b[0;34m\u001b[0m\u001b[0m\n",
      "\u001b[0;31mValueError\u001b[0m: a positive integer period must be specified"
     ]
    }
   ],
   "source": [
    "f.periodic_points(0)"
   ]
  },
  {
   "cell_type": "code",
   "execution_count": 8,
   "metadata": {},
   "outputs": [
    {
     "data": {
      "text/plain": [
       "Identity endomorphism of Multivariate Polynomial Ring in c, f over Rational Field"
      ]
     },
     "execution_count": 8,
     "metadata": {},
     "output_type": "execute_result"
    }
   ],
   "source": [
    "S.hom(S)"
   ]
  },
  {
   "cell_type": "code",
   "execution_count": 1,
   "metadata": {},
   "outputs": [
    {
     "data": {
      "text/plain": [
       "[(-7/4 : 1), (-5/4 : 1), (-1/4 : 1), (1/4 : 1), (5/4 : 1), (7/4 : 1)]"
      ]
     },
     "execution_count": 1,
     "metadata": {},
     "output_type": "execute_result"
    }
   ],
   "source": [
    "sage: P.<x,y> = ProjectiveSpace(QQ,1)\n",
    "            sage: f = DynamicalSystem_projective([x^2-29/16*y^2, y^2])\n",
    "            sage: f.preperiodic_points(1,3)"
   ]
  },
  {
   "cell_type": "code",
   "execution_count": 5,
   "metadata": {},
   "outputs": [
    {
     "name": "stdout",
     "output_type": "stream",
     "text": [
      "point =  (-7/4 : 1)\n",
      "orbit =  [(-7/4 : 1), (5/4 : 1), (-1/4 : 1), (-7/4 : 1), (5/4 : 1), (-1/4 : 1), (-7/4 : 1)]\n",
      "point =  (-5/4 : 1)\n",
      "orbit =  [(-5/4 : 1), (-1/4 : 1), (-7/4 : 1), (5/4 : 1), (-1/4 : 1), (-7/4 : 1), (5/4 : 1)]\n",
      "point =  (-1/4 : 1)\n",
      "orbit =  [(-1/4 : 1), (-7/4 : 1), (5/4 : 1), (-1/4 : 1), (-7/4 : 1), (5/4 : 1), (-1/4 : 1)]\n",
      "point =  (1/4 : 1)\n",
      "orbit =  [(1/4 : 1), (-7/4 : 1), (5/4 : 1), (-1/4 : 1), (-7/4 : 1), (5/4 : 1), (-1/4 : 1)]\n",
      "point =  (5/4 : 1)\n",
      "orbit =  [(5/4 : 1), (-1/4 : 1), (-7/4 : 1), (5/4 : 1), (-1/4 : 1), (-7/4 : 1), (5/4 : 1)]\n",
      "point =  (7/4 : 1)\n",
      "orbit =  [(7/4 : 1), (5/4 : 1), (-1/4 : 1), (-7/4 : 1), (5/4 : 1), (-1/4 : 1), (-7/4 : 1)]\n"
     ]
    }
   ],
   "source": [
    "for point in f.preperiodic_points(1,3):\n",
    "    print('point = ', point)\n",
    "    print('orbit = ', f.orbit(point, 6))"
   ]
  },
  {
   "cell_type": "code",
   "execution_count": 9,
   "metadata": {},
   "outputs": [
    {
     "name": "stdout",
     "output_type": "stream",
     "text": [
      "[(-1/4 : 1), (1/4 : 1)]\n",
      "[(-5/4 : 1), (5/4 : 1)]\n",
      "[(-7/4 : 1), (7/4 : 1)]\n"
     ]
    }
   ],
   "source": [
    "for point in f.periodic_points(3):\n",
    "    print(f.rational_preimages(point))"
   ]
  },
  {
   "cell_type": "code",
   "execution_count": 9,
   "metadata": {},
   "outputs": [],
   "source": [
    "P = f.preperiodic_points(1,3, minimal=False)[2]\n",
    "orbit = [P]\n",
    "Q = f(P)\n",
    "n_plus_m = 1\n",
    "while Q not in orbit:\n",
    "    orbit.append(Q)\n",
    "    Q = f(Q)\n",
    "    n_plus_m += 1"
   ]
  },
  {
   "cell_type": "code",
   "execution_count": 11,
   "metadata": {},
   "outputs": [
    {
     "data": {
      "text/plain": [
       "[(-7/4 : 1), (-1/4 : 1), (5/4 : 1)]"
      ]
     },
     "execution_count": 11,
     "metadata": {},
     "output_type": "execute_result"
    }
   ],
   "source": [
    "f.periodic_points(3)"
   ]
  },
  {
   "cell_type": "code",
   "execution_count": 1,
   "metadata": {},
   "outputs": [
    {
     "data": {
      "text/plain": [
       "[(-1/2*v - 1/2 : 1), (1/2*v - 1/2 : 1)]"
      ]
     },
     "execution_count": 1,
     "metadata": {},
     "output_type": "execute_result"
    }
   ],
   "source": [
    "sage: P.<x,y> = ProjectiveSpace(QQ,1)\n",
    "sage: K.<v> = QuadraticField(5)\n",
    "sage: phi = QQ.embeddings(K)[0]\n",
    "sage: f = DynamicalSystem_projective([x^2-y^2,y^2])\n",
    "sage: f.preperiodic_points(1,1,R=phi)"
   ]
  },
  {
   "cell_type": "code",
   "execution_count": 26,
   "metadata": {
    "scrolled": false
   },
   "outputs": [
    {
     "data": {
      "text/plain": [
       "[(-1/2*v - 1/2 : 1), (1/2*v - 1/2 : 1)]"
      ]
     },
     "execution_count": 26,
     "metadata": {},
     "output_type": "execute_result"
    }
   ],
   "source": [
    "f = f.change_ring(K)\n",
    "Ik = f.preperiodic_points(0,1, return_scheme=True).defining_ideal()\n",
    "X = f.preperiodic_points(1,1, minimal=False,return_scheme=True).defining_ideal()\n",
    "P = P.change_ring(K)\n",
    "P.subscheme(X.saturation(Ik)[0]).rational_points()"
   ]
  },
  {
   "cell_type": "code",
   "execution_count": 6,
   "metadata": {},
   "outputs": [],
   "source": [
    "sage: P.<x,y,z> = ProjectiveSpace(GF(5), 2)\n",
    "            sage: f = DynamicalSystem_projective([x^2, x*y, z^2])\n",
    "            sage: X = f.preperiodic_points(2,1, return_scheme=True)"
   ]
  },
  {
   "cell_type": "code",
   "execution_count": 15,
   "metadata": {},
   "outputs": [
    {
     "data": {
      "text/plain": [
       "Closed subscheme of Projective Space of dimension 2 over Finite Field of size 5 defined by:\n",
       "  x^5*z - x*z^5"
      ]
     },
     "execution_count": 15,
     "metadata": {},
     "output_type": "execute_result"
    }
   ],
   "source": [
    "P.subscheme([x^8*z^4 - x^4*z^8, x^7*y*z^4 - x^3*y*z^8]).reduce()"
   ]
  },
  {
   "cell_type": "code",
   "execution_count": 14,
   "metadata": {},
   "outputs": [
    {
     "data": {
      "text/plain": [
       "Closed subscheme of Projective Space of dimension 2 over Finite Field of size 5 defined by:\n",
       "  x^2 + z^2"
      ]
     },
     "execution_count": 14,
     "metadata": {},
     "output_type": "execute_result"
    }
   ],
   "source": [
    "X.reduce()"
   ]
  },
  {
   "cell_type": "code",
   "execution_count": 17,
   "metadata": {},
   "outputs": [
    {
     "data": {
      "text/plain": [
       "[]"
      ]
     },
     "execution_count": 17,
     "metadata": {},
     "output_type": "execute_result"
    }
   ],
   "source": [
    "sage: P.<x,y> = ProjectiveSpace(QQ,1)\n",
    "            sage: f = DynamicalSystem_projective([3*x^2+5*y^2,y^2])\n",
    "            sage: f.periodic_points(2, R=GF(3), minimal=True)"
   ]
  },
  {
   "cell_type": "code",
   "execution_count": 18,
   "metadata": {},
   "outputs": [
    {
     "data": {
      "text/plain": [
       "Closed subscheme of Projective Space of dimension 1 over Univariate Polynomial Ring in c over Rational Field defined by:\n",
       "  x^2 - x*y + (c + 1)*y^2"
      ]
     },
     "execution_count": 18,
     "metadata": {},
     "output_type": "execute_result"
    }
   ],
   "source": [
    "sage: S.<c> = QQ[]\n",
    "            sage: R.<x,y> = PolynomialRing(S, 2)\n",
    "            sage: P = ProjectiveSpace(R)\n",
    "            sage: f = DynamicalSystem_projective([x^2 + c*y^2, y^2])\n",
    "            sage: f.preperiodic_points(1, 2, return_scheme=True)"
   ]
  },
  {
   "cell_type": "code",
   "execution_count": 21,
   "metadata": {},
   "outputs": [
    {
     "data": {
      "text/plain": [
       "Closed subscheme of Projective Space of dimension 1 over Univariate Polynomial Ring in c over Rational Field defined by:\n",
       "  x^2 + x*y + (c + 1)*y^2"
      ]
     },
     "execution_count": 21,
     "metadata": {},
     "output_type": "execute_result"
    }
   ],
   "source": [
    "f.periodic_points(2, return_scheme=True)"
   ]
  },
  {
   "cell_type": "code",
   "execution_count": 21,
   "metadata": {},
   "outputs": [
    {
     "data": {
      "text/plain": [
       "[(-1/2 : 1), (1 : 0), (3/2 : 1)]"
      ]
     },
     "execution_count": 21,
     "metadata": {},
     "output_type": "execute_result"
    }
   ],
   "source": [
    "A.<x> = AffineSpace(QQ,1)\n",
    "f = DynamicalSystem_affine(x^2-3/4)\n",
    "scheme = f.homogenize(1).periodic_points(1, return_scheme=True)\n",
    "scheme.rational_points(F=QQbar)"
   ]
  },
  {
   "cell_type": "code",
   "execution_count": 18,
   "metadata": {},
   "outputs": [
    {
     "data": {
      "text/plain": [
       "Closed subscheme of Projective Space of dimension 1 over Rational Field defined by:\n",
       "  1"
      ]
     },
     "execution_count": 18,
     "metadata": {},
     "output_type": "execute_result"
    }
   ],
   "source": [
    "f.homogenize(1).periodic_points(2, return_scheme=True)"
   ]
  },
  {
   "cell_type": "code",
   "execution_count": null,
   "metadata": {},
   "outputs": [],
   "source": []
  }
 ],
 "metadata": {
  "kernelspec": {
   "display_name": "SageMath 9.4.beta1",
   "language": "sage",
   "name": "sagemath"
  },
  "language_info": {
   "codemirror_mode": {
    "name": "ipython",
    "version": 3
   },
   "file_extension": ".py",
   "mimetype": "text/x-python",
   "name": "python",
   "nbconvert_exporter": "python",
   "pygments_lexer": "ipython3",
   "version": "3.7.3"
  }
 },
 "nbformat": 4,
 "nbformat_minor": 4
}
