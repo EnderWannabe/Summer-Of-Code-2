{
 "cells": [
  {
   "cell_type": "code",
   "execution_count": 1,
   "metadata": {},
   "outputs": [],
   "source": [
    "P.<x,y,z> = ProjectiveSpace(QQ, 2)\n",
    "X = P.subscheme([2141136680*x^2 - 27173976948*x*y + 86218809624*y^2 - 3237154682*x*z + 20541978363*y*z + 1223552253*z^2, \\\n",
    "                      44083549675*x^2 - 559482008115*x*y + 1775152634668*y^2 - 66649373398*x*z + 422936963371*y*z + 25191590781*z^2, \\\n",
    "                      453608122027250*x^3 - 8635374873437055*x^2*y + 54797445624349105*x*y^2 - 115909272072050820*y^3 \\\n",
    "                      - 1028706119154993*x^2*z + 13055708282282128*x*y*z - 41423764177605297*y^2*z + 777643541637373*x*z^2 \\\n",
    "                      - 4934687875458069*y*z^2 - 195951485913414*z^3])\n",
    "Y, m = X.reduce_coefficients(return_transformation=True)"
   ]
  },
  {
   "cell_type": "code",
   "execution_count": 3,
   "metadata": {},
   "outputs": [
    {
     "data": {
      "text/plain": [
       "Closed subscheme of Projective Space of dimension 2 over Rational Field defined by:\n",
       "  -x*z - y*z,\n",
       "  -x*y - x*z - 2*y*z,\n",
       "  4*x^2*z + 4*x*y*z + y^2*z + 2*x*z^2 + y*z^2"
      ]
     },
     "execution_count": 3,
     "metadata": {},
     "output_type": "execute_result"
    }
   ],
   "source": [
    "Y.reduce_coefficients()"
   ]
  },
  {
   "cell_type": "code",
   "execution_count": null,
   "metadata": {},
   "outputs": [],
   "source": []
  }
 ],
 "metadata": {
  "kernelspec": {
   "display_name": "SageMath 9.4.beta6",
   "language": "sage",
   "name": "sagemath"
  },
  "language_info": {
   "codemirror_mode": {
    "name": "ipython",
    "version": 3
   },
   "file_extension": ".py",
   "mimetype": "text/x-python",
   "name": "python",
   "nbconvert_exporter": "python",
   "pygments_lexer": "ipython3",
   "version": "3.8.10"
  }
 },
 "nbformat": 4,
 "nbformat_minor": 4
}
