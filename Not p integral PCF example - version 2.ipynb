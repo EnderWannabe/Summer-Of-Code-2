{
 "cells": [
  {
   "cell_type": "code",
   "execution_count": 1,
   "metadata": {},
   "outputs": [],
   "source": [
    "# this is code to find example. can ignore and look at example in following cells\n",
    "R.<a,c> = QQ[]\n",
    "A.<z> = AffineSpace(R,1)\n",
    "B = -5/9*z^7 + 35/2*z^6 - 21*z^5 + 35/36*z^4 # for d = 7 and k = 3\n",
    "f = DynamicalSystem_affine(a*B+c)\n",
    "zero_iterate = 0\n",
    "one_iterate = 1\n",
    "for i in range(2):\n",
    "    zero_iterate = f(zero_iterate)[0]\n",
    "for i in range(1):\n",
    "    one_iterate = f(one_iterate)[0]\n",
    "one_equation = one_iterate - 1 # equations making the critical points periodic\n",
    "zero_equation = zero_iterate\n",
    "res = zero_equation.resultant(one_equation).univariate_polynomial()\n",
    "factors = res.factor()\n",
    "irr = factors[1][0]\n",
    "D.<a1> = irr.root_field()\n",
    "other_root = zero_equation(a,a1).univariate_polynomial().roots()[0][0]\n",
    "# roots are now c = d and a = other_root"
   ]
  },
  {
   "cell_type": "code",
   "execution_count": 4,
   "metadata": {},
   "outputs": [],
   "source": [
    "C.<z1> = AffineSpace(D,1)\n",
    "B = -5/9*z1^7 + 35/2*z1^6 - 21*z1^5 + 35/36*z1^4\n",
    "g = DynamicalSystem_affine(other_root*B + a1)"
   ]
  },
  {
   "cell_type": "code",
   "execution_count": 7,
   "metadata": {},
   "outputs": [
    {
     "data": {
      "text/plain": [
       "[0, (a1), (0), (a1), (0)]"
      ]
     },
     "execution_count": 7,
     "metadata": {},
     "output_type": "execute_result"
    }
   ],
   "source": [
    "g.orbit(0, 4) # 0 is periodic"
   ]
  },
  {
   "cell_type": "code",
   "execution_count": 8,
   "metadata": {},
   "outputs": [
    {
     "data": {
      "text/plain": [
       "[1, (1), (1), (1), (1)]"
      ]
     },
     "execution_count": 8,
     "metadata": {},
     "output_type": "execute_result"
    }
   ],
   "source": [
    "g.orbit(1, 4) # 1 is periodic"
   ]
  },
  {
   "cell_type": "code",
   "execution_count": 11,
   "metadata": {},
   "outputs": [
    {
     "name": "stdout",
     "output_type": "stream",
     "text": [
      "trying prime Fractional ideal (5, 20*a1^2 - 620*a1 + 256)\n",
      "1\n",
      "1\n",
      "-1\n",
      "1\n",
      "-1\n",
      "trying prime Fractional ideal (5, -40*a1^6 + 1320*a1^5 - 3382*a1^4 + 1648*a1^3 + 2521*a1^2 - 1673*a1 - 225)\n",
      "1\n",
      "1\n",
      "0\n",
      "1\n",
      "0\n",
      "trying prime Fractional ideal (5, -40*a1^5 + 1280*a1^4 - 2162*a1^3 + 1436*a1^2 - 161*a1 - 250)\n",
      "1\n",
      "1\n",
      "0\n",
      "1\n",
      "0\n",
      "trying prime Fractional ideal (5, 40*a1^6 - 1280*a1^5 + 2102*a1^4 + 414*a1^3 - 827*a1^2 - 1296*a1 + 262)\n",
      "1\n",
      "1\n",
      "0\n",
      "1\n",
      "0\n"
     ]
    }
   ],
   "source": [
    "# we need to reduce by a prime above p = 5\n",
    "for prime in D.primes_above(5):\n",
    "    print('trying prime', prime)\n",
    "    for poly in g:\n",
    "        for coeff in poly:\n",
    "            print(coeff[0].valuation(prime))"
   ]
  },
  {
   "cell_type": "code",
   "execution_count": 12,
   "metadata": {},
   "outputs": [
    {
     "data": {
      "text/plain": [
       "[Fractional ideal (5, 20*a1^2 - 620*a1 + 256),\n",
       " Fractional ideal (5, -40*a1^6 + 1320*a1^5 - 3382*a1^4 + 1648*a1^3 + 2521*a1^2 - 1673*a1 - 225),\n",
       " Fractional ideal (5, -40*a1^5 + 1280*a1^4 - 2162*a1^3 + 1436*a1^2 - 161*a1 - 250),\n",
       " Fractional ideal (5, 40*a1^6 - 1280*a1^5 + 2102*a1^4 + 414*a1^3 - 827*a1^2 - 1296*a1 + 262)]"
      ]
     },
     "execution_count": 12,
     "metadata": {},
     "output_type": "execute_result"
    }
   ],
   "source": [
    "D.primes_above(5)"
   ]
  },
  {
   "cell_type": "code",
   "execution_count": null,
   "metadata": {},
   "outputs": [],
   "source": []
  }
 ],
 "metadata": {
  "kernelspec": {
   "display_name": "SageMath 9.4.beta0",
   "language": "sage",
   "name": "sagemath"
  },
  "language_info": {
   "codemirror_mode": {
    "name": "ipython",
    "version": 3
   },
   "file_extension": ".py",
   "mimetype": "text/x-python",
   "name": "python",
   "nbconvert_exporter": "python",
   "pygments_lexer": "ipython3",
   "version": "3.7.3"
  }
 },
 "nbformat": 4,
 "nbformat_minor": 4
}
