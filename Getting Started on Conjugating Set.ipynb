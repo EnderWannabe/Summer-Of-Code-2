{
 "cells": [
  {
   "cell_type": "code",
   "execution_count": 1,
   "metadata": {},
   "outputs": [],
   "source": [
    "from heapq import heapify, heappush, heappop"
   ]
  },
  {
   "cell_type": "code",
   "execution_count": 2,
   "metadata": {},
   "outputs": [],
   "source": [
    "class List_sizeOrdered(list):\n",
    "    def __init__(self, vals):\n",
    "        super().__init__(vals)\n",
    "    def __lt__(self, other):\n",
    "        if len(self) < len(other):\n",
    "            return True\n",
    "        else:\n",
    "            return False"
   ]
  },
  {
   "cell_type": "code",
   "execution_count": 19,
   "metadata": {},
   "outputs": [],
   "source": [
    "dic = dict()\n",
    "dic[3] = ['str']\n",
    "dic[10] = ['tmp']\n",
    "dic[10] += ['s']\n",
    "dic[5] = ['ll']"
   ]
  },
  {
   "cell_type": "code",
   "execution_count": 20,
   "metadata": {},
   "outputs": [
    {
     "data": {
      "text/plain": [
       "[['str'], ['tmp', 's'], ['ll']]"
      ]
     },
     "execution_count": 20,
     "metadata": {},
     "output_type": "execute_result"
    }
   ],
   "source": [
    "Partitions = [List_sizeOrdered(dic[key]) for key in dic]\n",
    "Partitions"
   ]
  },
  {
   "cell_type": "code",
   "execution_count": 15,
   "metadata": {},
   "outputs": [],
   "source": [
    "heapify(Partitions)"
   ]
  },
  {
   "cell_type": "code",
   "execution_count": 17,
   "metadata": {},
   "outputs": [
    {
     "name": "stdout",
     "output_type": "stream",
     "text": [
      "ll\n",
      "tmp\n",
      "s\n",
      "str\n"
     ]
    }
   ],
   "source": [
    "for partition in Partitions:\n",
    "    for point in partition:\n",
    "        print(point)"
   ]
  },
  {
   "cell_type": "code",
   "execution_count": 69,
   "metadata": {},
   "outputs": [],
   "source": [
    "def conj_set(self, other):\n",
    "    f = copy(self)\n",
    "    g = copy(other)\n",
    "    n = f.domain().dimension_relative()\n",
    "    if (n == 1) and (R in NumberFields() or R in FiniteFields())\\\n",
    "        and (f.sigma_invariants(1) != g.sigma_invariants(1)):\n",
    "        return []\n",
    "    L = Set(f.periodic_points(1))\n",
    "    K = Set(g.periodic_points(1))\n",
    "    if len(L) != len(K):  # checks maps have the same number of fixed points\n",
    "        return []\n",
    "    mult_dict_L = {}\n",
    "    mult_dict_K = {}\n",
    "    for i in range(len(L)):\n",
    "        mult_L = f.multiplier(L[i], 1).charpoly()\n",
    "        mult_K = g.multiplier(K[i], 1).charpoly()\n",
    "        if mult_L not in mult_dict_L:\n",
    "            mult_dict_L[mult_L] = [L[i]]\n",
    "        else:\n",
    "            mult_dict_L[mult_L] += [L[i]]\n",
    "        if mult_K not in mult_dict_K:\n",
    "            mult_dict_K[mult_K] = [K[i]]\n",
    "        else:\n",
    "            mult_dict_K[mult_K] += [K[i]]\n",
    "    print('mult_dict_L:', mult_dict_L)\n",
    "    print('mult_dict_K:', mult_dict_K)\n",
    "    for mult_L in mult_dict_L:\n",
    "        if mult_L not in mult_dict_K:\n",
    "            return []\n",
    "        elif len(mult_dict_K[mult_L]) != len(mult_dict_L[mult_L]):\n",
    "            return []\n",
    "    d = len(L)\n",
    "    r = f.domain().base_ring()\n",
    "    more = True\n",
    "    if d >= n+2: # need at least n+2 points\n",
    "        for i in Subsets(range(len(L)), n+2):\n",
    "            # make sure all n+1 subsets are linearly independent\n",
    "            TL = [L[il] for il in i]\n",
    "            Ml = matrix(r, [list(s) for s in TL])\n",
    "            if not any(j == 0 for j in Ml.minors(n + 1)):\n",
    "                Tf = list(TL)\n",
    "                more = False\n",
    "                break\n",
    "    while more:\n",
    "        #  finds preimages of fixed points\n",
    "        Tl = [Q for i in L for Q in f.rational_preimages(i)]\n",
    "        Tk = [Q for i in K for Q in g.rational_preimages(i)]\n",
    "        if len(Tl) != len(Tk):\n",
    "            return []\n",
    "        L = L.union(Set(Tl))\n",
    "        K = K.union(Set(Tk))\n",
    "        if d == len(L): # if no new preimages then not enough points\n",
    "            raise ValueError(\"not enough rational preimages\")\n",
    "        d = len(L)\n",
    "        if d >= n + 2: # makes sure all n+1 subsets are linearly independent\n",
    "            for i in Subsets(range(len(L)), n+2):\n",
    "                TL = [L[il] for il in i]\n",
    "                Ml = matrix(r, [list(s) for s in TL])\n",
    "                if not any(j == 0 for j in Ml.minors(n + 1)):\n",
    "                    more = False\n",
    "                    Tf = list(TL)\n",
    "                    break\n",
    "    Conj = []\n",
    "    for i in Arrangements(range(len(K)),(n+2)):\n",
    "        print(i)\n",
    "        TK = [K[ik] for ik in i]\n",
    "        # try all possible conjugations between invariant sets\n",
    "        try: # need all n+1 subsets linearly independent\n",
    "            s = f.domain().point_transformation_matrix(TK,Tf)\n",
    "            # finds elements of PGL that maps one map to another\n",
    "            if self.conjugate(s) == other:\n",
    "                Conj.append(s)\n",
    "        except (ValueError):\n",
    "            pass\n",
    "    return Conj"
   ]
  },
  {
   "cell_type": "code",
   "execution_count": 34,
   "metadata": {},
   "outputs": [
    {
     "name": "stdout",
     "output_type": "stream",
     "text": [
      "[0, 1, 2]\n",
      "[0, 2, 1]\n",
      "[1, 0, 2]\n",
      "[1, 2, 0]\n",
      "[2, 0, 1]\n",
      "[2, 1, 0]\n"
     ]
    },
    {
     "data": {
      "text/plain": [
       "[\n",
       "[0 1]\n",
       "[2 1]\n",
       "]"
      ]
     },
     "execution_count": 34,
     "metadata": {},
     "output_type": "execute_result"
    }
   ],
   "source": [
    "P.<x,y> = ProjectiveSpace(QQbar, 1)\n",
    "f = DynamicalSystem([x^2 + 2*y^2, y^2])\n",
    "g = f.conjugate(matrix([[0, 1], [2, 1]]))\n",
    "conj_set(f, g)"
   ]
  },
  {
   "cell_type": "code",
   "execution_count": 28,
   "metadata": {},
   "outputs": [
    {
     "data": {
      "text/plain": [
       "True"
      ]
     },
     "execution_count": 28,
     "metadata": {},
     "output_type": "execute_result"
    }
   ],
   "source": [
    "k = f.multiplier(f.periodic_points(1)[0], 1).charpoly()\n",
    "k == g.multiplier(g.periodic_points(1)[2], 1).charpoly()"
   ]
  },
  {
   "cell_type": "code",
   "execution_count": 31,
   "metadata": {},
   "outputs": [
    {
     "data": {
      "text/plain": [
       "(0.500000000000000? - 1.322875655532296?*I : 1)"
      ]
     },
     "execution_count": 31,
     "metadata": {},
     "output_type": "execute_result"
    }
   ],
   "source": [
    "matrix([[0, 1], [2, 1]])*g.periodic_points(1)[2]"
   ]
  },
  {
   "cell_type": "code",
   "execution_count": 32,
   "metadata": {},
   "outputs": [
    {
     "data": {
      "text/plain": [
       "(0.50000000000000000? - 1.322875655532296?*I : 1)"
      ]
     },
     "execution_count": 32,
     "metadata": {},
     "output_type": "execute_result"
    }
   ],
   "source": [
    "f.periodic_points(1)[0]"
   ]
  },
  {
   "cell_type": "code",
   "execution_count": 37,
   "metadata": {},
   "outputs": [],
   "source": [
    "from itertools import product"
   ]
  },
  {
   "cell_type": "code",
   "execution_count": 44,
   "metadata": {},
   "outputs": [],
   "source": [
    "a = [[0, 1], [0, 1, 2], [0]]\n",
    "all_arrangements = []\n",
    "arragements_iterators = []\n",
    "for lst in a:\n",
    "    arragements_iterators.append(Arrangements(lst, len(lst)))"
   ]
  },
  {
   "cell_type": "code",
   "execution_count": 46,
   "metadata": {},
   "outputs": [
    {
     "name": "stdout",
     "output_type": "stream",
     "text": [
      "[0, 1]\n",
      "[1, 0]\n",
      "[0, 1, 2]\n",
      "[0, 2, 1]\n",
      "[1, 0, 2]\n",
      "[1, 2, 0]\n",
      "[2, 0, 1]\n",
      "[2, 1, 0]\n",
      "[0]\n"
     ]
    }
   ],
   "source": [
    "for itr in arragements_iterators:\n",
    "    for j in itr:\n",
    "        print(j)"
   ]
  },
  {
   "cell_type": "code",
   "execution_count": 49,
   "metadata": {},
   "outputs": [
    {
     "name": "stdout",
     "output_type": "stream",
     "text": [
      "([[0, 1], [0, 1, 2], [0]],)\n"
     ]
    }
   ],
   "source": [
    "def all_arrangements(lst, rtn_lst):\n",
    "    for "
   ]
  },
  {
   "cell_type": "code",
   "execution_count": 52,
   "metadata": {},
   "outputs": [
    {
     "name": "stdout",
     "output_type": "stream",
     "text": [
      "([0, 1], [0, 1, 2], [0])\n",
      "([0, 1], [0, 2, 1], [0])\n",
      "([0, 1], [1, 0, 2], [0])\n",
      "([0, 1], [1, 2, 0], [0])\n",
      "([0, 1], [2, 0, 1], [0])\n",
      "([0, 1], [2, 1, 0], [0])\n",
      "([1, 0], [0, 1, 2], [0])\n",
      "([1, 0], [0, 2, 1], [0])\n",
      "([1, 0], [1, 0, 2], [0])\n",
      "([1, 0], [1, 2, 0], [0])\n",
      "([1, 0], [2, 0, 1], [0])\n",
      "([1, 0], [2, 1, 0], [0])\n"
     ]
    }
   ],
   "source": [
    "for j in product(*arragements_iterators):\n",
    "    print(j)"
   ]
  },
  {
   "cell_type": "code",
   "execution_count": 61,
   "metadata": {},
   "outputs": [
    {
     "name": "stdout",
     "output_type": "stream",
     "text": [
      "0\n",
      "1\n",
      "2\n"
     ]
    }
   ],
   "source": [
    "L = Set([0,1,2])\n",
    "for j in L:\n",
    "    print(j)"
   ]
  },
  {
   "cell_type": "code",
   "execution_count": 70,
   "metadata": {},
   "outputs": [
    {
     "name": "stdout",
     "output_type": "stream",
     "text": [
      "mult_dict_L: {x: [(1 : 0)], x - 1 - 2.645751311064591?*I: [(0.50000000000000000? + 1.322875655532296?*I : 1)], x - 1 + 2.645751311064591?*I: [(0.50000000000000000? - 1.322875655532296?*I : 1)]}\n",
      "mult_dict_K: {x: [(1 : 0)], x - 1.000000000000000? - 3.316624790355400?*I: [(0.500000000000000? + 1.658312395177700?*I : 1)], x - 1.000000000000000? + 3.316624790355400?*I: [(0.500000000000000? - 1.658312395177700?*I : 1)]}\n"
     ]
    },
    {
     "data": {
      "text/plain": [
       "[]"
      ]
     },
     "execution_count": 70,
     "metadata": {},
     "output_type": "execute_result"
    }
   ],
   "source": [
    "P.<x,y> = ProjectiveSpace(QQbar, 1)\n",
    "f = DynamicalSystem([x^2 + 2*y^2, y^2])\n",
    "g = DynamicalSystem([x^2 + 3*y^2, y^2])\n",
    "conj_set(f, g)"
   ]
  },
  {
   "cell_type": "code",
   "execution_count": 66,
   "metadata": {},
   "outputs": [
    {
     "data": {
      "text/plain": [
       "x - 1 + 2.645751311064591?*I"
      ]
     },
     "execution_count": 66,
     "metadata": {},
     "output_type": "execute_result"
    }
   ],
   "source": [
    "f.multiplier(f.periodic_points(1)[0], 1).charpoly()"
   ]
  },
  {
   "cell_type": "code",
   "execution_count": null,
   "metadata": {},
   "outputs": [],
   "source": []
  }
 ],
 "metadata": {
  "kernelspec": {
   "display_name": "SageMath 9.4.beta3",
   "language": "sage",
   "name": "sagemath"
  },
  "language_info": {
   "codemirror_mode": {
    "name": "ipython",
    "version": 3
   },
   "file_extension": ".py",
   "mimetype": "text/x-python",
   "name": "python",
   "nbconvert_exporter": "python",
   "pygments_lexer": "ipython3",
   "version": "3.8.5"
  }
 },
 "nbformat": 4,
 "nbformat_minor": 4
}
