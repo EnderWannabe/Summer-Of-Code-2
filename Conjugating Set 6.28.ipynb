{
 "cells": [
  {
   "cell_type": "code",
   "execution_count": 1,
   "metadata": {},
   "outputs": [],
   "source": [
    "def conj_set_preimage(self, other):\n",
    "    from itertools import product\n",
    "    from copy import deepcopy\n",
    "    f = copy(self)\n",
    "    g = copy(other)\n",
    "    n = f.domain().dimension_relative()\n",
    "    if (n == 1) and (R in NumberFields() or R in FiniteFields())\\\n",
    "        and (f.sigma_invariants(1) != g.sigma_invariants(1)):\n",
    "        return []\n",
    "    \n",
    "    def isLinearlyIndependent(S):\n",
    "        M = matrix([list(t) for t in S])\n",
    "        if len(S) < n+1:\n",
    "            if M.rank() == len(S):\n",
    "                return True\n",
    "            return False\n",
    "        else:\n",
    "            if any(l == 0 for l in M.minors(n+1)):\n",
    "                return False\n",
    "            return True\n",
    "\n",
    "    L = Set(f.periodic_points(1))\n",
    "    K = Set(g.periodic_points(1))\n",
    "    if len(L) != len(K):  # checks maps have the same number of fixed points\n",
    "        return []\n",
    "    mult_to_point_L = {}\n",
    "    mult_to_point_K = {}\n",
    "    point_to_mult_L = {}\n",
    "    point_to_mult_K = {}\n",
    "    level = 0\n",
    "    for i in range(len(L)):\n",
    "        mult_L = f.multiplier(L[i], 1).charpoly()\n",
    "        mult_K = g.multiplier(K[i], 1).charpoly()\n",
    "        tup_L = (mult_L, level)\n",
    "        tup_K = (mult_K, level)\n",
    "        if tup_L not in mult_to_point_L:\n",
    "            mult_to_point_L[tup_L] = [L[i]]\n",
    "        else:\n",
    "            mult_to_point_L[tup_L] += [L[i]]\n",
    "        if tup_K not in mult_to_point_K:\n",
    "            mult_to_point_K[tup_K] = [K[i]]\n",
    "        else:\n",
    "            mult_to_point_K[tup_K] += [K[i]]\n",
    "        point_to_mult_L[L[i]] = (mult_L, level)\n",
    "        point_to_mult_K[K[i]] = (mult_K, level)\n",
    "    #print('mult_to_point_L:', mult_to_point_L)\n",
    "    #print('mult_to_point_K:', mult_to_point_K)\n",
    "    #print('point_to_mult_L:', point_to_mult_L)\n",
    "    #print('point_to_mult_K:', point_to_mult_K)\n",
    "    repeated_mult_L = {}\n",
    "    for mult_L in mult_to_point_L:\n",
    "        repeated = len(mult_to_point_L[mult_L])\n",
    "        if mult_L not in mult_to_point_K:\n",
    "            return []\n",
    "        elif len(mult_to_point_K[mult_L]) != repeated:\n",
    "            return []\n",
    "        if repeated not in repeated_mult_L:\n",
    "            repeated_mult_L[repeated] = [mult_to_point_L[mult_L]]\n",
    "        else:\n",
    "            repeated_mult_L[repeated] += [mult_to_point_L[mult_L]]\n",
    "    #print('repeated_mult:', repeated_mult_L)\n",
    "    d = len(L)\n",
    "    r = f.domain().base_ring()\n",
    "    more = True\n",
    "    source = []\n",
    "    corresponding = []\n",
    "    for r in sorted(repeated_mult_L.keys()):\n",
    "        for point_lst in repeated_mult_L[r]:\n",
    "            for point in point_lst:\n",
    "                if isLinearlyIndependent(source + [point]):\n",
    "                    source.append(point)\n",
    "                    mult = point_to_mult_L[point]\n",
    "                    # if another point with this multiplier and level pair is in S\n",
    "                    # then the multiplier level pair will be the last element of corresponding\n",
    "                    if len(corresponding) != 0:\n",
    "                        if corresponding[-1][0] == mult:\n",
    "                            corresponding[-1][1] += 1\n",
    "                        else:\n",
    "                            corresponding.append([mult, 1])\n",
    "                    else:\n",
    "                        corresponding.append([mult, 1])\n",
    "                if len(source) == n+2:\n",
    "                    more = False\n",
    "                    break\n",
    "            if len(source) == n+2:\n",
    "                break\n",
    "        if len(source) == n+2:\n",
    "            break\n",
    "    #print('corresponding:', corresponding)\n",
    "    i_repeated_mult = deepcopy(repeated_mult_L)\n",
    "    a_repeated_mult = {}\n",
    "    found_no_more = True\n",
    "    while more:\n",
    "        level += 1\n",
    "        for r in i_repeated_mult:\n",
    "            for point_lst_L in i_repeated_mult[r]:\n",
    "                old_tup_L = point_to_mult_L[point_lst_L[0]]\n",
    "                #print('current tup:', old_tup_L)\n",
    "                point_lst_K = mult_to_point_K[old_tup_L]\n",
    "                mult_L = old_tup_L[0]\n",
    "                Tl = []\n",
    "                Tk = []\n",
    "                for pnt in point_lst_L:\n",
    "                    for preimage in f.rational_preimages(pnt):\n",
    "                        if preimage != pnt:\n",
    "                            Tl.append(preimage)\n",
    "                for pnt in point_lst_K:\n",
    "                    for preimage in g.rational_preimages(pnt):\n",
    "                        if preimage != pnt:\n",
    "                            Tk.append(preimage)\n",
    "                #print('Tl:', Tl)\n",
    "                #print('Tk:', Tk)\n",
    "                if len(Tl) != len(Tk):\n",
    "                    return []\n",
    "                if len(Tl) != 0:\n",
    "                    found_no_more = False\n",
    "                    new_tup_L = (mult_L, level)\n",
    "                    new_tup_K = (mult_L, level)\n",
    "                    #print('new_tup_L:', new_tup_L)\n",
    "                    mult_to_point_L[new_tup_L] = Tl\n",
    "                    mult_to_point_K[new_tup_K] = Tk\n",
    "                    for i in range(len(Tl)):\n",
    "                        point_to_mult_L[Tl[i]] = new_tup_L\n",
    "                        point_to_mult_K[Tk[i]] = new_tup_K\n",
    "                    repeated = len(Tl)\n",
    "                    if repeated not in repeated_mult_L:\n",
    "                        repeated_mult_L[repeated] = [Tl]\n",
    "                    else:\n",
    "                        repeated_mult_L[repeated] += [Tl]\n",
    "                    if repeated not in a_repeated_mult:\n",
    "                        a_repeated_mult[repeated] = [Tl]\n",
    "                    else:\n",
    "                        a_repeated_mult[repeated] += [Tl]\n",
    "                    # right now rechecking independence\n",
    "                    source = []\n",
    "                    corresponding = []\n",
    "                    for r in sorted(repeated_mult_L.keys()):\n",
    "                        for point_lst in repeated_mult_L[r]:\n",
    "                            for point in point_lst:\n",
    "                                if isLinearlyIndependent(source + [point]):\n",
    "                                    source.append(point)\n",
    "                                    mult = point_to_mult_L[point]\n",
    "                                    # if another point with this multiplier and level pair is in S\n",
    "                                    # then the multiplier level pair will be the last element of corresponding\n",
    "                                    if len(corresponding) != 0:\n",
    "                                        if corresponding[-1][0] == mult:\n",
    "                                            corresponding[-1][1] += 1\n",
    "                                        else:\n",
    "                                            corresponding.append([mult, 1])\n",
    "                                    else:\n",
    "                                        corresponding.append([mult, 1])\n",
    "                                if len(source) == n+2:\n",
    "                                    more = False\n",
    "                                    break\n",
    "                            if len(source) == n+2:\n",
    "                                break\n",
    "                        if len(source) == n+2:\n",
    "                            break\n",
    "                if not more:\n",
    "                    break\n",
    "            if not more:\n",
    "                break\n",
    "        if found_no_more:\n",
    "            raise ValueError('no more rational preimages')\n",
    "        i_repeated_mult = deepcopy(a_repeated_mult)\n",
    "        a_repeated_mult = {}\n",
    "        found_no_more = True\n",
    "        #print('i_repeated_mult:', i_repeated_mult)\n",
    "    #print('source:', source)\n",
    "    #print('mult_to_point_L:', mult_to_point_L)\n",
    "    #print('mult_to_point_K:', mult_to_point_K)\n",
    "    #print('point_to_mult_L:', point_to_mult_L)\n",
    "    #print('point_to_mult_K:', point_to_mult_K)\n",
    "    print('repeated_mult_L keys:', sorted(repeated_mult_L.keys()))\n",
    "    possible_targets = []\n",
    "    for tup in corresponding:\n",
    "        possible_targets.append([mult_to_point_K[tup[0]], tup[1]])\n",
    "    #print('possible_targets:', possible_targets)\n",
    "    arrangements_iterators = []\n",
    "    for lst in possible_targets:\n",
    "        arrangements_iterators.append(Arrangements(range(len(lst[0])), lst[1]))\n",
    "    print('arrangement_iterators:', arrangements_iterators)\n",
    "    print('cardinalities:', [itr.cardinality() for itr in arrangements_iterators])\n",
    "    count=0\n",
    "    count2 = 0\n",
    "    Conj = []\n",
    "    for tup in product(*arrangements_iterators):\n",
    "        #print('tup:', tup)\n",
    "        current_target = []\n",
    "        for i in range(len(tup)):\n",
    "            for j in tup[i]:\n",
    "                current_target.append(possible_targets[i][0][j])\n",
    "        #print('current_target:', current_target)\n",
    "        try:\n",
    "            phi = f.domain().point_transformation_matrix(current_target, source)\n",
    "            #print('phi:', phi)\n",
    "            #print('phi inverse', phi.inverse())\n",
    "            #print([phi*pnt for pnt in current_target])\n",
    "            if self.conjugate(phi) == other:\n",
    "                Conj.append(phi)\n",
    "        except ValueError:\n",
    "            count2 += 1\n",
    "            pass\n",
    "        count += 1\n",
    "    print('number of targets tried:', count)\n",
    "    print('number of not independent targets:', count2)\n",
    "    return Conj"
   ]
  },
  {
   "cell_type": "code",
   "execution_count": 11,
   "metadata": {
    "scrolled": false
   },
   "outputs": [
    {
     "name": "stdout",
     "output_type": "stream",
     "text": [
      "number of targets tried: 1\n"
     ]
    },
    {
     "data": {
      "text/plain": [
       "[\n",
       "[  0 1/2]\n",
       "[  1   1]\n",
       "]"
      ]
     },
     "execution_count": 11,
     "metadata": {},
     "output_type": "execute_result"
    }
   ],
   "source": [
    "P.<x,y> = ProjectiveSpace(QQ, 1)\n",
    "f = DynamicalSystem([x^2 + 3*y^2, 3*x*y+ y^2])\n",
    "g = f.conjugate(matrix([[0, 1], [2, 2]]))\n",
    "conj_set_preimage(f, g)"
   ]
  },
  {
   "cell_type": "code",
   "execution_count": 10,
   "metadata": {},
   "outputs": [
    {
     "name": "stdout",
     "output_type": "stream",
     "text": [
      "number of targets tried: 360\n"
     ]
    },
    {
     "data": {
      "text/plain": [
       "[\n",
       "[1 0 0]  [ 0  0  1]  [0 0 1]  [ 1  0  0]  [-1  0  0]  [ 0  0 -1]\n",
       "[0 1 0]  [ 0 -1  0]  [0 1 0]  [ 0 -1  0]  [ 0  1  0]  [ 0 -1  0]\n",
       "[0 0 1], [ 1  0  0], [1 0 0], [ 0  0  1], [ 0  0  1], [ 1  0  0],\n",
       "\n",
       "[ 0  0 -1]  [-1  0  0]  [ 0 -1  0]  [ 0 -1  0]  [ 0  0 -1]  [ 0  0 -1]\n",
       "[ 0  1  0]  [ 0 -1  0]  [-1  0  0]  [ 1  0  0]  [-1  0  0]  [ 1  0  0]\n",
       "[ 1  0  0], [ 0  0  1], [ 0  0  1], [ 0  0  1], [ 0  1  0], [ 0  1  0],\n",
       "\n",
       "[ 0  1  0]  [0 1 0]  [1 0 0]  [ 1  0  0]  [ 0 -1  0]  [ 0 -1  0]\n",
       "[ 0  0 -1]  [0 0 1]  [0 0 1]  [ 0  0 -1]  [ 0  0 -1]  [ 0  0  1]\n",
       "[ 1  0  0], [1 0 0], [0 1 0], [ 0  1  0], [ 1  0  0], [ 1  0  0],\n",
       "\n",
       "[-1  0  0]  [-1  0  0]  [ 0  1  0]  [0 1 0]  [ 0  0  1]  [0 0 1]\n",
       "[ 0  0  1]  [ 0  0 -1]  [-1  0  0]  [1 0 0]  [-1  0  0]  [1 0 0]\n",
       "[ 0  1  0], [ 0  1  0], [ 0  0  1], [0 0 1], [ 0  1  0], [0 1 0]\n",
       "]"
      ]
     },
     "execution_count": 10,
     "metadata": {},
     "output_type": "execute_result"
    }
   ],
   "source": [
    "P.<x,y,z> = ProjectiveSpace(QQ, 2)\n",
    "f = DynamicalSystem([x^3, y^3, z^3])\n",
    "conj_set_preimage(f, f)"
   ]
  },
  {
   "cell_type": "code",
   "execution_count": 4,
   "metadata": {},
   "outputs": [
    {
     "ename": "NameError",
     "evalue": "name 'l' is not defined",
     "output_type": "error",
     "traceback": [
      "\u001b[0;31m---------------------------------------------------------------------------\u001b[0m",
      "\u001b[0;31mNameError\u001b[0m                                 Traceback (most recent call last)",
      "\u001b[0;32m<ipython-input-4-e75269d816bd>\u001b[0m in \u001b[0;36m<module>\u001b[0;34m\u001b[0m\n\u001b[0;32m----> 1\u001b[0;31m \u001b[0mlen\u001b[0m\u001b[0;34m(\u001b[0m\u001b[0ml\u001b[0m\u001b[0;34m)\u001b[0m\u001b[0;34m\u001b[0m\u001b[0;34m\u001b[0m\u001b[0m\n\u001b[0m",
      "\u001b[0;31mNameError\u001b[0m: name 'l' is not defined"
     ]
    }
   ],
   "source": [
    "len(l)"
   ]
  },
  {
   "cell_type": "code",
   "execution_count": 5,
   "metadata": {
    "scrolled": true
   },
   "outputs": [
    {
     "name": "stdout",
     "output_type": "stream",
     "text": [
      "source: [(1 : 0 : 1), (-1 : 0 : 1), (0 : -1 : 1), (0 : 1 : 1)]\n",
      "mult_to_point_L: {(x^2 - 3*x, 0): [(1 : 0 : 1), (-1 : 0 : 1), (0 : -1 : 1), (1 : 1 : 0), (-1 : 1 : 0), (0 : 1 : 1)], (x^2, 0): [(0 : 1 : 0), (1 : 0 : 0), (0 : 0 : 1)], (x^2 - 6*x + 9, 0): [(-1 : 1 : 1), (1 : -1 : 1), (-1 : -1 : 1), (1 : 1 : 1)]}\n",
      "mult_to_point_K: {(x^2 - 3*x, 0): [(1 : 0 : 1), (-1 : 0 : 1), (0 : -1 : 1), (1 : 1 : 0), (-1 : 1 : 0), (0 : 1 : 1)], (x^2, 0): [(0 : 1 : 0), (1 : 0 : 0), (0 : 0 : 1)], (x^2 - 6*x + 9, 0): [(-1 : 1 : 1), (1 : -1 : 1), (-1 : -1 : 1), (1 : 1 : 1)]}\n",
      "source: [(1 : 0 : 1), (-1 : 0 : 1), (0 : -1 : 1), (0 : 1 : 1)]\n",
      "mult_to_point_L: {(x^2 - 3*x, 0): [(1 : 0 : 1), (-1 : 0 : 1), (0 : -1 : 1), (1 : 1 : 0), (-1 : 1 : 0), (0 : 1 : 1)], (x^2, 0): [(0 : 1 : 0), (1 : 0 : 0), (0 : 0 : 1)], (x^2 - 6*x + 9, 0): [(-1 : 1 : 1), (1 : -1 : 1), (-1 : -1 : 1), (1 : 1 : 1)]}\n",
      "mult_to_point_K: {(x^2 - 3*x, 0): [(1 : 0 : 1), (-1 : 0 : 1), (0 : -1 : 1), (1 : 1 : 0), (-1 : 1 : 0), (0 : 1 : 1)], (x^2, 0): [(0 : 1 : 0), (1 : 0 : 0), (0 : 0 : 1)], (x^2 - 6*x + 9, 0): [(-1 : 1 : 1), (1 : -1 : 1), (-1 : -1 : 1), (1 : 1 : 1)]}\n",
      "source: [(1 : 0 : 1), (-1 : 0 : 1), (0 : -1 : 1), (0 : 1 : 1)]\n",
      "mult_to_point_L: {(x^2 - 3*x, 0): [(1 : 0 : 1), (-1 : 0 : 1), (0 : -1 : 1), (1 : 1 : 0), (-1 : 1 : 0), (0 : 1 : 1)], (x^2, 0): [(0 : 1 : 0), (1 : 0 : 0), (0 : 0 : 1)], (x^2 - 6*x + 9, 0): [(-1 : 1 : 1), (1 : -1 : 1), (-1 : -1 : 1), (1 : 1 : 1)]}\n",
      "mult_to_point_K: {(x^2 - 3*x, 0): [(1 : 0 : 1), (-1 : 0 : 1), (0 : -1 : 1), (1 : 1 : 0), (-1 : 1 : 0), (0 : 1 : 1)], (x^2, 0): [(0 : 1 : 0), (1 : 0 : 0), (0 : 0 : 1)], (x^2 - 6*x + 9, 0): [(-1 : 1 : 1), (1 : -1 : 1), (-1 : -1 : 1), (1 : 1 : 1)]}\n",
      "source: [(1 : 0 : 1), (-1 : 0 : 1), (0 : -1 : 1), (0 : 1 : 1)]\n",
      "mult_to_point_L: {(x^2 - 3*x, 0): [(1 : 0 : 1), (-1 : 0 : 1), (0 : -1 : 1), (1 : 1 : 0), (-1 : 1 : 0), (0 : 1 : 1)], (x^2, 0): [(0 : 1 : 0), (1 : 0 : 0), (0 : 0 : 1)], (x^2 - 6*x + 9, 0): [(-1 : 1 : 1), (1 : -1 : 1), (-1 : -1 : 1), (1 : 1 : 1)]}\n",
      "mult_to_point_K: {(x^2 - 3*x, 0): [(1 : 0 : 1), (-1 : 0 : 1), (0 : -1 : 1), (1 : 1 : 0), (-1 : 1 : 0), (0 : 1 : 1)], (x^2, 0): [(0 : 1 : 0), (1 : 0 : 0), (0 : 0 : 1)], (x^2 - 6*x + 9, 0): [(-1 : 1 : 1), (1 : -1 : 1), (-1 : -1 : 1), (1 : 1 : 1)]}\n",
      "source: [(1 : 0 : 1), (-1 : 0 : 1), (0 : -1 : 1), (0 : 1 : 1)]\n",
      "mult_to_point_L: {(x^2 - 3*x, 0): [(1 : 0 : 1), (-1 : 0 : 1), (0 : -1 : 1), (1 : 1 : 0), (-1 : 1 : 0), (0 : 1 : 1)], (x^2, 0): [(0 : 1 : 0), (1 : 0 : 0), (0 : 0 : 1)], (x^2 - 6*x + 9, 0): [(-1 : 1 : 1), (1 : -1 : 1), (-1 : -1 : 1), (1 : 1 : 1)]}\n",
      "mult_to_point_K: {(x^2 - 3*x, 0): [(1 : 0 : 1), (-1 : 0 : 1), (0 : -1 : 1), (1 : 1 : 0), (-1 : 1 : 0), (0 : 1 : 1)], (x^2, 0): [(0 : 1 : 0), (1 : 0 : 0), (0 : 0 : 1)], (x^2 - 6*x + 9, 0): [(-1 : 1 : 1), (1 : -1 : 1), (-1 : -1 : 1), (1 : 1 : 1)]}\n",
      "source: [(1 : 0 : 1), (-1 : 0 : 1), (0 : -1 : 1), (0 : 1 : 1)]\n",
      "mult_to_point_L: {(x^2 - 3*x, 0): [(1 : 0 : 1), (-1 : 0 : 1), (0 : -1 : 1), (1 : 1 : 0), (-1 : 1 : 0), (0 : 1 : 1)], (x^2, 0): [(0 : 1 : 0), (1 : 0 : 0), (0 : 0 : 1)], (x^2 - 6*x + 9, 0): [(-1 : 1 : 1), (1 : -1 : 1), (-1 : -1 : 1), (1 : 1 : 1)]}\n",
      "mult_to_point_K: {(x^2 - 3*x, 0): [(1 : 0 : 1), (-1 : 0 : 1), (0 : -1 : 1), (1 : 1 : 0), (-1 : 1 : 0), (0 : 1 : 1)], (x^2, 0): [(0 : 1 : 0), (1 : 0 : 0), (0 : 0 : 1)], (x^2 - 6*x + 9, 0): [(-1 : 1 : 1), (1 : -1 : 1), (-1 : -1 : 1), (1 : 1 : 1)]}\n",
      "source: [(1 : 0 : 1), (-1 : 0 : 1), (0 : -1 : 1), (0 : 1 : 1)]\n",
      "mult_to_point_L: {(x^2 - 3*x, 0): [(1 : 0 : 1), (-1 : 0 : 1), (0 : -1 : 1), (1 : 1 : 0), (-1 : 1 : 0), (0 : 1 : 1)], (x^2, 0): [(0 : 1 : 0), (1 : 0 : 0), (0 : 0 : 1)], (x^2 - 6*x + 9, 0): [(-1 : 1 : 1), (1 : -1 : 1), (-1 : -1 : 1), (1 : 1 : 1)]}\n",
      "mult_to_point_K: {(x^2 - 3*x, 0): [(1 : 0 : 1), (-1 : 0 : 1), (0 : -1 : 1), (1 : 1 : 0), (-1 : 1 : 0), (0 : 1 : 1)], (x^2, 0): [(0 : 1 : 0), (1 : 0 : 0), (0 : 0 : 1)], (x^2 - 6*x + 9, 0): [(-1 : 1 : 1), (1 : -1 : 1), (-1 : -1 : 1), (1 : 1 : 1)]}\n",
      "source: [(1 : 0 : 1), (-1 : 0 : 1), (0 : -1 : 1), (0 : 1 : 1)]\n",
      "mult_to_point_L: {(x^2 - 3*x, 0): [(1 : 0 : 1), (-1 : 0 : 1), (0 : -1 : 1), (1 : 1 : 0), (-1 : 1 : 0), (0 : 1 : 1)], (x^2, 0): [(0 : 1 : 0), (1 : 0 : 0), (0 : 0 : 1)], (x^2 - 6*x + 9, 0): [(-1 : 1 : 1), (1 : -1 : 1), (-1 : -1 : 1), (1 : 1 : 1)]}\n",
      "mult_to_point_K: {(x^2 - 3*x, 0): [(1 : 0 : 1), (-1 : 0 : 1), (0 : -1 : 1), (1 : 1 : 0), (-1 : 1 : 0), (0 : 1 : 1)], (x^2, 0): [(0 : 1 : 0), (1 : 0 : 0), (0 : 0 : 1)], (x^2 - 6*x + 9, 0): [(-1 : 1 : 1), (1 : -1 : 1), (-1 : -1 : 1), (1 : 1 : 1)]}\n",
      "source: [(1 : 0 : 1), (-1 : 0 : 1), (0 : -1 : 1), (0 : 1 : 1)]\n",
      "mult_to_point_L: {(x^2 - 3*x, 0): [(1 : 0 : 1), (-1 : 0 : 1), (0 : -1 : 1), (1 : 1 : 0), (-1 : 1 : 0), (0 : 1 : 1)], (x^2, 0): [(0 : 1 : 0), (1 : 0 : 0), (0 : 0 : 1)], (x^2 - 6*x + 9, 0): [(-1 : 1 : 1), (1 : -1 : 1), (-1 : -1 : 1), (1 : 1 : 1)]}\n",
      "mult_to_point_K: {(x^2 - 3*x, 0): [(1 : 0 : 1), (-1 : 0 : 1), (0 : -1 : 1), (1 : 1 : 0), (-1 : 1 : 0), (0 : 1 : 1)], (x^2, 0): [(0 : 1 : 0), (1 : 0 : 0), (0 : 0 : 1)], (x^2 - 6*x + 9, 0): [(-1 : 1 : 1), (1 : -1 : 1), (-1 : -1 : 1), (1 : 1 : 1)]}\n",
      "source: [(1 : 0 : 1), (-1 : 0 : 1), (0 : -1 : 1), (0 : 1 : 1)]\n",
      "mult_to_point_L: {(x^2 - 3*x, 0): [(1 : 0 : 1), (-1 : 0 : 1), (0 : -1 : 1), (1 : 1 : 0), (-1 : 1 : 0), (0 : 1 : 1)], (x^2, 0): [(0 : 1 : 0), (1 : 0 : 0), (0 : 0 : 1)], (x^2 - 6*x + 9, 0): [(-1 : 1 : 1), (1 : -1 : 1), (-1 : -1 : 1), (1 : 1 : 1)]}\n",
      "mult_to_point_K: {(x^2 - 3*x, 0): [(1 : 0 : 1), (-1 : 0 : 1), (0 : -1 : 1), (1 : 1 : 0), (-1 : 1 : 0), (0 : 1 : 1)], (x^2, 0): [(0 : 1 : 0), (1 : 0 : 0), (0 : 0 : 1)], (x^2 - 6*x + 9, 0): [(-1 : 1 : 1), (1 : -1 : 1), (-1 : -1 : 1), (1 : 1 : 1)]}\n",
      "source: [(1 : 0 : 1), (-1 : 0 : 1), (0 : -1 : 1), (0 : 1 : 1)]\n",
      "mult_to_point_L: {(x^2 - 3*x, 0): [(1 : 0 : 1), (-1 : 0 : 1), (0 : -1 : 1), (1 : 1 : 0), (-1 : 1 : 0), (0 : 1 : 1)], (x^2, 0): [(0 : 1 : 0), (1 : 0 : 0), (0 : 0 : 1)], (x^2 - 6*x + 9, 0): [(-1 : 1 : 1), (1 : -1 : 1), (-1 : -1 : 1), (1 : 1 : 1)]}\n",
      "mult_to_point_K: {(x^2 - 3*x, 0): [(1 : 0 : 1), (-1 : 0 : 1), (0 : -1 : 1), (1 : 1 : 0), (-1 : 1 : 0), (0 : 1 : 1)], (x^2, 0): [(0 : 1 : 0), (1 : 0 : 0), (0 : 0 : 1)], (x^2 - 6*x + 9, 0): [(-1 : 1 : 1), (1 : -1 : 1), (-1 : -1 : 1), (1 : 1 : 1)]}\n",
      "source: [(1 : 0 : 1), (-1 : 0 : 1), (0 : -1 : 1), (0 : 1 : 1)]\n",
      "mult_to_point_L: {(x^2 - 3*x, 0): [(1 : 0 : 1), (-1 : 0 : 1), (0 : -1 : 1), (1 : 1 : 0), (-1 : 1 : 0), (0 : 1 : 1)], (x^2, 0): [(0 : 1 : 0), (1 : 0 : 0), (0 : 0 : 1)], (x^2 - 6*x + 9, 0): [(-1 : 1 : 1), (1 : -1 : 1), (-1 : -1 : 1), (1 : 1 : 1)]}\n",
      "mult_to_point_K: {(x^2 - 3*x, 0): [(1 : 0 : 1), (-1 : 0 : 1), (0 : -1 : 1), (1 : 1 : 0), (-1 : 1 : 0), (0 : 1 : 1)], (x^2, 0): [(0 : 1 : 0), (1 : 0 : 0), (0 : 0 : 1)], (x^2 - 6*x + 9, 0): [(-1 : 1 : 1), (1 : -1 : 1), (-1 : -1 : 1), (1 : 1 : 1)]}\n",
      "source: [(1 : 0 : 1), (-1 : 0 : 1), (0 : -1 : 1), (0 : 1 : 1)]\n",
      "mult_to_point_L: {(x^2 - 3*x, 0): [(1 : 0 : 1), (-1 : 0 : 1), (0 : -1 : 1), (1 : 1 : 0), (-1 : 1 : 0), (0 : 1 : 1)], (x^2, 0): [(0 : 1 : 0), (1 : 0 : 0), (0 : 0 : 1)], (x^2 - 6*x + 9, 0): [(-1 : 1 : 1), (1 : -1 : 1), (-1 : -1 : 1), (1 : 1 : 1)]}\n",
      "mult_to_point_K: {(x^2 - 3*x, 0): [(1 : 0 : 1), (-1 : 0 : 1), (0 : -1 : 1), (1 : 1 : 0), (-1 : 1 : 0), (0 : 1 : 1)], (x^2, 0): [(0 : 1 : 0), (1 : 0 : 0), (0 : 0 : 1)], (x^2 - 6*x + 9, 0): [(-1 : 1 : 1), (1 : -1 : 1), (-1 : -1 : 1), (1 : 1 : 1)]}\n",
      "source: [(1 : 0 : 1), (-1 : 0 : 1), (0 : -1 : 1), (0 : 1 : 1)]\n",
      "mult_to_point_L: {(x^2 - 3*x, 0): [(1 : 0 : 1), (-1 : 0 : 1), (0 : -1 : 1), (1 : 1 : 0), (-1 : 1 : 0), (0 : 1 : 1)], (x^2, 0): [(0 : 1 : 0), (1 : 0 : 0), (0 : 0 : 1)], (x^2 - 6*x + 9, 0): [(-1 : 1 : 1), (1 : -1 : 1), (-1 : -1 : 1), (1 : 1 : 1)]}\n",
      "mult_to_point_K: {(x^2 - 3*x, 0): [(1 : 0 : 1), (-1 : 0 : 1), (0 : -1 : 1), (1 : 1 : 0), (-1 : 1 : 0), (0 : 1 : 1)], (x^2, 0): [(0 : 1 : 0), (1 : 0 : 0), (0 : 0 : 1)], (x^2 - 6*x + 9, 0): [(-1 : 1 : 1), (1 : -1 : 1), (-1 : -1 : 1), (1 : 1 : 1)]}\n",
      "source: [(1 : 0 : 1), (-1 : 0 : 1), (0 : -1 : 1), (0 : 1 : 1)]\n",
      "mult_to_point_L: {(x^2 - 3*x, 0): [(1 : 0 : 1), (-1 : 0 : 1), (0 : -1 : 1), (1 : 1 : 0), (-1 : 1 : 0), (0 : 1 : 1)], (x^2, 0): [(0 : 1 : 0), (1 : 0 : 0), (0 : 0 : 1)], (x^2 - 6*x + 9, 0): [(-1 : 1 : 1), (1 : -1 : 1), (-1 : -1 : 1), (1 : 1 : 1)]}\n",
      "mult_to_point_K: {(x^2 - 3*x, 0): [(1 : 0 : 1), (-1 : 0 : 1), (0 : -1 : 1), (1 : 1 : 0), (-1 : 1 : 0), (0 : 1 : 1)], (x^2, 0): [(0 : 1 : 0), (1 : 0 : 0), (0 : 0 : 1)], (x^2 - 6*x + 9, 0): [(-1 : 1 : 1), (1 : -1 : 1), (-1 : -1 : 1), (1 : 1 : 1)]}\n",
      "source: [(1 : 0 : 1), (-1 : 0 : 1), (0 : -1 : 1), (0 : 1 : 1)]\n",
      "mult_to_point_L: {(x^2 - 3*x, 0): [(1 : 0 : 1), (-1 : 0 : 1), (0 : -1 : 1), (1 : 1 : 0), (-1 : 1 : 0), (0 : 1 : 1)], (x^2, 0): [(0 : 1 : 0), (1 : 0 : 0), (0 : 0 : 1)], (x^2 - 6*x + 9, 0): [(-1 : 1 : 1), (1 : -1 : 1), (-1 : -1 : 1), (1 : 1 : 1)]}\n",
      "mult_to_point_K: {(x^2 - 3*x, 0): [(1 : 0 : 1), (-1 : 0 : 1), (0 : -1 : 1), (1 : 1 : 0), (-1 : 1 : 0), (0 : 1 : 1)], (x^2, 0): [(0 : 1 : 0), (1 : 0 : 0), (0 : 0 : 1)], (x^2 - 6*x + 9, 0): [(-1 : 1 : 1), (1 : -1 : 1), (-1 : -1 : 1), (1 : 1 : 1)]}\n"
     ]
    },
    {
     "name": "stdout",
     "output_type": "stream",
     "text": [
      "source: [(1 : 0 : 1), (-1 : 0 : 1), (0 : -1 : 1), (0 : 1 : 1)]\n",
      "mult_to_point_L: {(x^2 - 3*x, 0): [(1 : 0 : 1), (-1 : 0 : 1), (0 : -1 : 1), (1 : 1 : 0), (-1 : 1 : 0), (0 : 1 : 1)], (x^2, 0): [(0 : 1 : 0), (1 : 0 : 0), (0 : 0 : 1)], (x^2 - 6*x + 9, 0): [(-1 : 1 : 1), (1 : -1 : 1), (-1 : -1 : 1), (1 : 1 : 1)]}\n",
      "mult_to_point_K: {(x^2 - 3*x, 0): [(1 : 0 : 1), (-1 : 0 : 1), (0 : -1 : 1), (1 : 1 : 0), (-1 : 1 : 0), (0 : 1 : 1)], (x^2, 0): [(0 : 1 : 0), (1 : 0 : 0), (0 : 0 : 1)], (x^2 - 6*x + 9, 0): [(-1 : 1 : 1), (1 : -1 : 1), (-1 : -1 : 1), (1 : 1 : 1)]}\n",
      "source: [(1 : 0 : 1), (-1 : 0 : 1), (0 : -1 : 1), (0 : 1 : 1)]\n",
      "mult_to_point_L: {(x^2 - 3*x, 0): [(1 : 0 : 1), (-1 : 0 : 1), (0 : -1 : 1), (1 : 1 : 0), (-1 : 1 : 0), (0 : 1 : 1)], (x^2, 0): [(0 : 1 : 0), (1 : 0 : 0), (0 : 0 : 1)], (x^2 - 6*x + 9, 0): [(-1 : 1 : 1), (1 : -1 : 1), (-1 : -1 : 1), (1 : 1 : 1)]}\n",
      "mult_to_point_K: {(x^2 - 3*x, 0): [(1 : 0 : 1), (-1 : 0 : 1), (0 : -1 : 1), (1 : 1 : 0), (-1 : 1 : 0), (0 : 1 : 1)], (x^2, 0): [(0 : 1 : 0), (1 : 0 : 0), (0 : 0 : 1)], (x^2 - 6*x + 9, 0): [(-1 : 1 : 1), (1 : -1 : 1), (-1 : -1 : 1), (1 : 1 : 1)]}\n",
      "source: [(1 : 0 : 1), (-1 : 0 : 1), (0 : -1 : 1), (0 : 1 : 1)]\n",
      "mult_to_point_L: {(x^2 - 3*x, 0): [(1 : 0 : 1), (-1 : 0 : 1), (0 : -1 : 1), (1 : 1 : 0), (-1 : 1 : 0), (0 : 1 : 1)], (x^2, 0): [(0 : 1 : 0), (1 : 0 : 0), (0 : 0 : 1)], (x^2 - 6*x + 9, 0): [(-1 : 1 : 1), (1 : -1 : 1), (-1 : -1 : 1), (1 : 1 : 1)]}\n",
      "mult_to_point_K: {(x^2 - 3*x, 0): [(1 : 0 : 1), (-1 : 0 : 1), (0 : -1 : 1), (1 : 1 : 0), (-1 : 1 : 0), (0 : 1 : 1)], (x^2, 0): [(0 : 1 : 0), (1 : 0 : 0), (0 : 0 : 1)], (x^2 - 6*x + 9, 0): [(-1 : 1 : 1), (1 : -1 : 1), (-1 : -1 : 1), (1 : 1 : 1)]}\n",
      "source: [(1 : 0 : 1), (-1 : 0 : 1), (0 : -1 : 1), (0 : 1 : 1)]\n",
      "mult_to_point_L: {(x^2 - 3*x, 0): [(1 : 0 : 1), (-1 : 0 : 1), (0 : -1 : 1), (1 : 1 : 0), (-1 : 1 : 0), (0 : 1 : 1)], (x^2, 0): [(0 : 1 : 0), (1 : 0 : 0), (0 : 0 : 1)], (x^2 - 6*x + 9, 0): [(-1 : 1 : 1), (1 : -1 : 1), (-1 : -1 : 1), (1 : 1 : 1)]}\n",
      "mult_to_point_K: {(x^2 - 3*x, 0): [(1 : 0 : 1), (-1 : 0 : 1), (0 : -1 : 1), (1 : 1 : 0), (-1 : 1 : 0), (0 : 1 : 1)], (x^2, 0): [(0 : 1 : 0), (1 : 0 : 0), (0 : 0 : 1)], (x^2 - 6*x + 9, 0): [(-1 : 1 : 1), (1 : -1 : 1), (-1 : -1 : 1), (1 : 1 : 1)]}\n",
      "source: [(1 : 0 : 1), (-1 : 0 : 1), (0 : -1 : 1), (0 : 1 : 1)]\n",
      "mult_to_point_L: {(x^2 - 3*x, 0): [(1 : 0 : 1), (-1 : 0 : 1), (0 : -1 : 1), (1 : 1 : 0), (-1 : 1 : 0), (0 : 1 : 1)], (x^2, 0): [(0 : 1 : 0), (1 : 0 : 0), (0 : 0 : 1)], (x^2 - 6*x + 9, 0): [(-1 : 1 : 1), (1 : -1 : 1), (-1 : -1 : 1), (1 : 1 : 1)]}\n",
      "mult_to_point_K: {(x^2 - 3*x, 0): [(1 : 0 : 1), (-1 : 0 : 1), (0 : -1 : 1), (1 : 1 : 0), (-1 : 1 : 0), (0 : 1 : 1)], (x^2, 0): [(0 : 1 : 0), (1 : 0 : 0), (0 : 0 : 1)], (x^2 - 6*x + 9, 0): [(-1 : 1 : 1), (1 : -1 : 1), (-1 : -1 : 1), (1 : 1 : 1)]}\n",
      "source: [(1 : 0 : 1), (-1 : 0 : 1), (0 : -1 : 1), (0 : 1 : 1)]\n",
      "mult_to_point_L: {(x^2 - 3*x, 0): [(1 : 0 : 1), (-1 : 0 : 1), (0 : -1 : 1), (1 : 1 : 0), (-1 : 1 : 0), (0 : 1 : 1)], (x^2, 0): [(0 : 1 : 0), (1 : 0 : 0), (0 : 0 : 1)], (x^2 - 6*x + 9, 0): [(-1 : 1 : 1), (1 : -1 : 1), (-1 : -1 : 1), (1 : 1 : 1)]}\n",
      "mult_to_point_K: {(x^2 - 3*x, 0): [(1 : 0 : 1), (-1 : 0 : 1), (0 : -1 : 1), (1 : 1 : 0), (-1 : 1 : 0), (0 : 1 : 1)], (x^2, 0): [(0 : 1 : 0), (1 : 0 : 0), (0 : 0 : 1)], (x^2 - 6*x + 9, 0): [(-1 : 1 : 1), (1 : -1 : 1), (-1 : -1 : 1), (1 : 1 : 1)]}\n"
     ]
    },
    {
     "ename": "KeyboardInterrupt",
     "evalue": "",
     "output_type": "error",
     "traceback": [
      "\u001b[0;31m---------------------------------------------------------------------------\u001b[0m",
      "\u001b[0;31mKeyboardInterrupt\u001b[0m                         Traceback (most recent call last)",
      "\u001b[0;32m<ipython-input-5-554f57aa1484>\u001b[0m in \u001b[0;36m<module>\u001b[0;34m\u001b[0m\n\u001b[0;32m----> 1\u001b[0;31m \u001b[0mget_ipython\u001b[0m\u001b[0;34m(\u001b[0m\u001b[0;34m)\u001b[0m\u001b[0;34m.\u001b[0m\u001b[0mrun_cell_magic\u001b[0m\u001b[0;34m(\u001b[0m\u001b[0;34m'timeit'\u001b[0m\u001b[0;34m,\u001b[0m \u001b[0;34m''\u001b[0m\u001b[0;34m,\u001b[0m \u001b[0;34m'l = conj_set_preimage(f, f)\\n'\u001b[0m\u001b[0;34m)\u001b[0m\u001b[0;34m\u001b[0m\u001b[0;34m\u001b[0m\u001b[0m\n\u001b[0m",
      "\u001b[0;32m~/Documents/Sage/local/lib/python3.8/site-packages/IPython/core/interactiveshell.py\u001b[0m in \u001b[0;36mrun_cell_magic\u001b[0;34m(self, magic_name, line, cell)\u001b[0m\n\u001b[1;32m   2369\u001b[0m             \u001b[0;32mwith\u001b[0m \u001b[0mself\u001b[0m\u001b[0;34m.\u001b[0m\u001b[0mbuiltin_trap\u001b[0m\u001b[0;34m:\u001b[0m\u001b[0;34m\u001b[0m\u001b[0;34m\u001b[0m\u001b[0m\n\u001b[1;32m   2370\u001b[0m                 \u001b[0margs\u001b[0m \u001b[0;34m=\u001b[0m \u001b[0;34m(\u001b[0m\u001b[0mmagic_arg_s\u001b[0m\u001b[0;34m,\u001b[0m \u001b[0mcell\u001b[0m\u001b[0;34m)\u001b[0m\u001b[0;34m\u001b[0m\u001b[0;34m\u001b[0m\u001b[0m\n\u001b[0;32m-> 2371\u001b[0;31m                 \u001b[0mresult\u001b[0m \u001b[0;34m=\u001b[0m \u001b[0mfn\u001b[0m\u001b[0;34m(\u001b[0m\u001b[0;34m*\u001b[0m\u001b[0margs\u001b[0m\u001b[0;34m,\u001b[0m \u001b[0;34m**\u001b[0m\u001b[0mkwargs\u001b[0m\u001b[0;34m)\u001b[0m\u001b[0;34m\u001b[0m\u001b[0;34m\u001b[0m\u001b[0m\n\u001b[0m\u001b[1;32m   2372\u001b[0m             \u001b[0;32mreturn\u001b[0m \u001b[0mresult\u001b[0m\u001b[0;34m\u001b[0m\u001b[0;34m\u001b[0m\u001b[0m\n\u001b[1;32m   2373\u001b[0m \u001b[0;34m\u001b[0m\u001b[0m\n",
      "\u001b[0;32m<decorator-gen-60>\u001b[0m in \u001b[0;36mtimeit\u001b[0;34m(self, line, cell, local_ns)\u001b[0m\n",
      "\u001b[0;32m~/Documents/Sage/local/lib/python3.8/site-packages/IPython/core/magic.py\u001b[0m in \u001b[0;36m<lambda>\u001b[0;34m(f, *a, **k)\u001b[0m\n\u001b[1;32m    185\u001b[0m     \u001b[0;31m# but it's overkill for just that one bit of state.\u001b[0m\u001b[0;34m\u001b[0m\u001b[0;34m\u001b[0m\u001b[0;34m\u001b[0m\u001b[0m\n\u001b[1;32m    186\u001b[0m     \u001b[0;32mdef\u001b[0m \u001b[0mmagic_deco\u001b[0m\u001b[0;34m(\u001b[0m\u001b[0marg\u001b[0m\u001b[0;34m)\u001b[0m\u001b[0;34m:\u001b[0m\u001b[0;34m\u001b[0m\u001b[0;34m\u001b[0m\u001b[0m\n\u001b[0;32m--> 187\u001b[0;31m         \u001b[0mcall\u001b[0m \u001b[0;34m=\u001b[0m \u001b[0;32mlambda\u001b[0m \u001b[0mf\u001b[0m\u001b[0;34m,\u001b[0m \u001b[0;34m*\u001b[0m\u001b[0ma\u001b[0m\u001b[0;34m,\u001b[0m \u001b[0;34m**\u001b[0m\u001b[0mk\u001b[0m\u001b[0;34m:\u001b[0m \u001b[0mf\u001b[0m\u001b[0;34m(\u001b[0m\u001b[0;34m*\u001b[0m\u001b[0ma\u001b[0m\u001b[0;34m,\u001b[0m \u001b[0;34m**\u001b[0m\u001b[0mk\u001b[0m\u001b[0;34m)\u001b[0m\u001b[0;34m\u001b[0m\u001b[0;34m\u001b[0m\u001b[0m\n\u001b[0m\u001b[1;32m    188\u001b[0m \u001b[0;34m\u001b[0m\u001b[0m\n\u001b[1;32m    189\u001b[0m         \u001b[0;32mif\u001b[0m \u001b[0mcallable\u001b[0m\u001b[0;34m(\u001b[0m\u001b[0marg\u001b[0m\u001b[0;34m)\u001b[0m\u001b[0;34m:\u001b[0m\u001b[0;34m\u001b[0m\u001b[0;34m\u001b[0m\u001b[0m\n",
      "\u001b[0;32m~/Documents/Sage/local/lib/python3.8/site-packages/IPython/core/magics/execution.py\u001b[0m in \u001b[0;36mtimeit\u001b[0;34m(self, line, cell, local_ns)\u001b[0m\n\u001b[1;32m   1165\u001b[0m                     \u001b[0;32mbreak\u001b[0m\u001b[0;34m\u001b[0m\u001b[0;34m\u001b[0m\u001b[0m\n\u001b[1;32m   1166\u001b[0m \u001b[0;34m\u001b[0m\u001b[0m\n\u001b[0;32m-> 1167\u001b[0;31m         \u001b[0mall_runs\u001b[0m \u001b[0;34m=\u001b[0m \u001b[0mtimer\u001b[0m\u001b[0;34m.\u001b[0m\u001b[0mrepeat\u001b[0m\u001b[0;34m(\u001b[0m\u001b[0mrepeat\u001b[0m\u001b[0;34m,\u001b[0m \u001b[0mnumber\u001b[0m\u001b[0;34m)\u001b[0m\u001b[0;34m\u001b[0m\u001b[0;34m\u001b[0m\u001b[0m\n\u001b[0m\u001b[1;32m   1168\u001b[0m         \u001b[0mbest\u001b[0m \u001b[0;34m=\u001b[0m \u001b[0mmin\u001b[0m\u001b[0;34m(\u001b[0m\u001b[0mall_runs\u001b[0m\u001b[0;34m)\u001b[0m \u001b[0;34m/\u001b[0m \u001b[0mnumber\u001b[0m\u001b[0;34m\u001b[0m\u001b[0;34m\u001b[0m\u001b[0m\n\u001b[1;32m   1169\u001b[0m         \u001b[0mworst\u001b[0m \u001b[0;34m=\u001b[0m \u001b[0mmax\u001b[0m\u001b[0;34m(\u001b[0m\u001b[0mall_runs\u001b[0m\u001b[0;34m)\u001b[0m \u001b[0;34m/\u001b[0m \u001b[0mnumber\u001b[0m\u001b[0;34m\u001b[0m\u001b[0;34m\u001b[0m\u001b[0m\n",
      "\u001b[0;32m/usr/lib/python3.8/timeit.py\u001b[0m in \u001b[0;36mrepeat\u001b[0;34m(self, repeat, number)\u001b[0m\n\u001b[1;32m    203\u001b[0m         \u001b[0mr\u001b[0m \u001b[0;34m=\u001b[0m \u001b[0;34m[\u001b[0m\u001b[0;34m]\u001b[0m\u001b[0;34m\u001b[0m\u001b[0;34m\u001b[0m\u001b[0m\n\u001b[1;32m    204\u001b[0m         \u001b[0;32mfor\u001b[0m \u001b[0mi\u001b[0m \u001b[0;32min\u001b[0m \u001b[0mrange\u001b[0m\u001b[0;34m(\u001b[0m\u001b[0mrepeat\u001b[0m\u001b[0;34m)\u001b[0m\u001b[0;34m:\u001b[0m\u001b[0;34m\u001b[0m\u001b[0;34m\u001b[0m\u001b[0m\n\u001b[0;32m--> 205\u001b[0;31m             \u001b[0mt\u001b[0m \u001b[0;34m=\u001b[0m \u001b[0mself\u001b[0m\u001b[0;34m.\u001b[0m\u001b[0mtimeit\u001b[0m\u001b[0;34m(\u001b[0m\u001b[0mnumber\u001b[0m\u001b[0;34m)\u001b[0m\u001b[0;34m\u001b[0m\u001b[0;34m\u001b[0m\u001b[0m\n\u001b[0m\u001b[1;32m    206\u001b[0m             \u001b[0mr\u001b[0m\u001b[0;34m.\u001b[0m\u001b[0mappend\u001b[0m\u001b[0;34m(\u001b[0m\u001b[0mt\u001b[0m\u001b[0;34m)\u001b[0m\u001b[0;34m\u001b[0m\u001b[0;34m\u001b[0m\u001b[0m\n\u001b[1;32m    207\u001b[0m         \u001b[0;32mreturn\u001b[0m \u001b[0mr\u001b[0m\u001b[0;34m\u001b[0m\u001b[0;34m\u001b[0m\u001b[0m\n",
      "\u001b[0;32m~/Documents/Sage/local/lib/python3.8/site-packages/IPython/core/magics/execution.py\u001b[0m in \u001b[0;36mtimeit\u001b[0;34m(self, number)\u001b[0m\n\u001b[1;32m    167\u001b[0m         \u001b[0mgc\u001b[0m\u001b[0;34m.\u001b[0m\u001b[0mdisable\u001b[0m\u001b[0;34m(\u001b[0m\u001b[0;34m)\u001b[0m\u001b[0;34m\u001b[0m\u001b[0;34m\u001b[0m\u001b[0m\n\u001b[1;32m    168\u001b[0m         \u001b[0;32mtry\u001b[0m\u001b[0;34m:\u001b[0m\u001b[0;34m\u001b[0m\u001b[0;34m\u001b[0m\u001b[0m\n\u001b[0;32m--> 169\u001b[0;31m             \u001b[0mtiming\u001b[0m \u001b[0;34m=\u001b[0m \u001b[0mself\u001b[0m\u001b[0;34m.\u001b[0m\u001b[0minner\u001b[0m\u001b[0;34m(\u001b[0m\u001b[0mit\u001b[0m\u001b[0;34m,\u001b[0m \u001b[0mself\u001b[0m\u001b[0;34m.\u001b[0m\u001b[0mtimer\u001b[0m\u001b[0;34m)\u001b[0m\u001b[0;34m\u001b[0m\u001b[0;34m\u001b[0m\u001b[0m\n\u001b[0m\u001b[1;32m    170\u001b[0m         \u001b[0;32mfinally\u001b[0m\u001b[0;34m:\u001b[0m\u001b[0;34m\u001b[0m\u001b[0;34m\u001b[0m\u001b[0m\n\u001b[1;32m    171\u001b[0m             \u001b[0;32mif\u001b[0m \u001b[0mgcold\u001b[0m\u001b[0;34m:\u001b[0m\u001b[0;34m\u001b[0m\u001b[0;34m\u001b[0m\u001b[0m\n",
      "\u001b[0;32m<magic-timeit>\u001b[0m in \u001b[0;36minner\u001b[0;34m(_it, _timer)\u001b[0m\n",
      "\u001b[0;32m<ipython-input-1-99e93ca782db>\u001b[0m in \u001b[0;36mconj_set_preimage\u001b[0;34m(self, other)\u001b[0m\n\u001b[1;32m     30\u001b[0m     \u001b[0;32mfor\u001b[0m \u001b[0mi\u001b[0m \u001b[0;32min\u001b[0m \u001b[0mrange\u001b[0m\u001b[0;34m(\u001b[0m\u001b[0mlen\u001b[0m\u001b[0;34m(\u001b[0m\u001b[0mL\u001b[0m\u001b[0;34m)\u001b[0m\u001b[0;34m)\u001b[0m\u001b[0;34m:\u001b[0m\u001b[0;34m\u001b[0m\u001b[0;34m\u001b[0m\u001b[0m\n\u001b[1;32m     31\u001b[0m         \u001b[0mmult_L\u001b[0m \u001b[0;34m=\u001b[0m \u001b[0mf\u001b[0m\u001b[0;34m.\u001b[0m\u001b[0mmultiplier\u001b[0m\u001b[0;34m(\u001b[0m\u001b[0mL\u001b[0m\u001b[0;34m[\u001b[0m\u001b[0mi\u001b[0m\u001b[0;34m]\u001b[0m\u001b[0;34m,\u001b[0m \u001b[0mInteger\u001b[0m\u001b[0;34m(\u001b[0m\u001b[0;36m1\u001b[0m\u001b[0;34m)\u001b[0m\u001b[0;34m)\u001b[0m\u001b[0;34m.\u001b[0m\u001b[0mcharpoly\u001b[0m\u001b[0;34m(\u001b[0m\u001b[0;34m)\u001b[0m\u001b[0;34m\u001b[0m\u001b[0;34m\u001b[0m\u001b[0m\n\u001b[0;32m---> 32\u001b[0;31m         \u001b[0mmult_K\u001b[0m \u001b[0;34m=\u001b[0m \u001b[0mg\u001b[0m\u001b[0;34m.\u001b[0m\u001b[0mmultiplier\u001b[0m\u001b[0;34m(\u001b[0m\u001b[0mK\u001b[0m\u001b[0;34m[\u001b[0m\u001b[0mi\u001b[0m\u001b[0;34m]\u001b[0m\u001b[0;34m,\u001b[0m \u001b[0mInteger\u001b[0m\u001b[0;34m(\u001b[0m\u001b[0;36m1\u001b[0m\u001b[0;34m)\u001b[0m\u001b[0;34m)\u001b[0m\u001b[0;34m.\u001b[0m\u001b[0mcharpoly\u001b[0m\u001b[0;34m(\u001b[0m\u001b[0;34m)\u001b[0m\u001b[0;34m\u001b[0m\u001b[0;34m\u001b[0m\u001b[0m\n\u001b[0m\u001b[1;32m     33\u001b[0m         \u001b[0mtup_L\u001b[0m \u001b[0;34m=\u001b[0m \u001b[0;34m(\u001b[0m\u001b[0mmult_L\u001b[0m\u001b[0;34m,\u001b[0m \u001b[0mlevel\u001b[0m\u001b[0;34m)\u001b[0m\u001b[0;34m\u001b[0m\u001b[0;34m\u001b[0m\u001b[0m\n\u001b[1;32m     34\u001b[0m         \u001b[0mtup_K\u001b[0m \u001b[0;34m=\u001b[0m \u001b[0;34m(\u001b[0m\u001b[0mmult_K\u001b[0m\u001b[0;34m,\u001b[0m \u001b[0mlevel\u001b[0m\u001b[0;34m)\u001b[0m\u001b[0;34m\u001b[0m\u001b[0;34m\u001b[0m\u001b[0m\n",
      "\u001b[0;32m~/Documents/Sage/local/lib/python3.8/site-packages/sage/matrix/matrix_rational_dense.pyx\u001b[0m in \u001b[0;36msage.matrix.matrix_rational_dense.Matrix_rational_dense.charpoly (build/cythonized/sage/matrix/matrix_rational_dense.cpp:10875)\u001b[0;34m()\u001b[0m\n\u001b[1;32m   1050\u001b[0m         \u001b[0;32mif\u001b[0m \u001b[0malgorithm\u001b[0m \u001b[0;34m==\u001b[0m \u001b[0;34m'flint'\u001b[0m \u001b[0;32mor\u001b[0m \u001b[0malgorithm\u001b[0m \u001b[0;34m==\u001b[0m \u001b[0;34m'linbox'\u001b[0m\u001b[0;34m:\u001b[0m\u001b[0;34m\u001b[0m\u001b[0;34m\u001b[0m\u001b[0m\n\u001b[1;32m   1051\u001b[0m             \u001b[0mA\u001b[0m\u001b[0;34m,\u001b[0m \u001b[0mdenom\u001b[0m \u001b[0;34m=\u001b[0m \u001b[0mself\u001b[0m\u001b[0;34m.\u001b[0m\u001b[0m_clear_denom\u001b[0m\u001b[0;34m(\u001b[0m\u001b[0;34m)\u001b[0m\u001b[0;34m\u001b[0m\u001b[0;34m\u001b[0m\u001b[0m\n\u001b[0;32m-> 1052\u001b[0;31m             \u001b[0mf\u001b[0m \u001b[0;34m=\u001b[0m \u001b[0mA\u001b[0m\u001b[0;34m.\u001b[0m\u001b[0mcharpoly\u001b[0m\u001b[0;34m(\u001b[0m\u001b[0mvar\u001b[0m\u001b[0;34m,\u001b[0m \u001b[0malgorithm\u001b[0m\u001b[0;34m=\u001b[0m\u001b[0malgorithm\u001b[0m\u001b[0;34m)\u001b[0m\u001b[0;34m\u001b[0m\u001b[0;34m\u001b[0m\u001b[0m\n\u001b[0m\u001b[1;32m   1053\u001b[0m             \u001b[0mx\u001b[0m \u001b[0;34m=\u001b[0m \u001b[0mf\u001b[0m\u001b[0;34m.\u001b[0m\u001b[0mparent\u001b[0m\u001b[0;34m(\u001b[0m\u001b[0;34m)\u001b[0m\u001b[0;34m.\u001b[0m\u001b[0mgen\u001b[0m\u001b[0;34m(\u001b[0m\u001b[0;34m)\u001b[0m\u001b[0;34m\u001b[0m\u001b[0;34m\u001b[0m\u001b[0m\n\u001b[1;32m   1054\u001b[0m             \u001b[0mg\u001b[0m \u001b[0;34m=\u001b[0m \u001b[0mf\u001b[0m\u001b[0;34m(\u001b[0m\u001b[0mx\u001b[0m \u001b[0;34m*\u001b[0m \u001b[0mdenom\u001b[0m\u001b[0;34m)\u001b[0m \u001b[0;34m/\u001b[0m \u001b[0mdenom\u001b[0m \u001b[0;34m**\u001b[0m \u001b[0mf\u001b[0m\u001b[0;34m.\u001b[0m\u001b[0mdegree\u001b[0m\u001b[0;34m(\u001b[0m\u001b[0;34m)\u001b[0m\u001b[0;34m\u001b[0m\u001b[0;34m\u001b[0m\u001b[0m\n",
      "\u001b[0;32m~/Documents/Sage/local/lib/python3.8/site-packages/sage/matrix/matrix_integer_dense.pyx\u001b[0m in \u001b[0;36msage.matrix.matrix_integer_dense.Matrix_integer_dense.charpoly (build/cythonized/sage/matrix/matrix_integer_dense.cpp:13097)\u001b[0;34m()\u001b[0m\n\u001b[1;32m   1362\u001b[0m \u001b[0;34m\u001b[0m\u001b[0m\n\u001b[1;32m   1363\u001b[0m         \u001b[0;32mif\u001b[0m \u001b[0malgorithm\u001b[0m \u001b[0;34m==\u001b[0m \u001b[0;34m'flint'\u001b[0m\u001b[0;34m:\u001b[0m\u001b[0;34m\u001b[0m\u001b[0;34m\u001b[0m\u001b[0m\n\u001b[0;32m-> 1364\u001b[0;31m             \u001b[0mg\u001b[0m \u001b[0;34m=\u001b[0m \u001b[0;34m(\u001b[0m\u001b[0;34m<\u001b[0m\u001b[0mPolynomial_integer_dense_flint\u001b[0m\u001b[0;34m>\u001b[0m \u001b[0mPolynomialRing\u001b[0m\u001b[0;34m(\u001b[0m\u001b[0mZZ\u001b[0m\u001b[0;34m,\u001b[0m \u001b[0mnames\u001b[0m\u001b[0;34m=\u001b[0m\u001b[0mvar\u001b[0m\u001b[0;34m)\u001b[0m\u001b[0;34m.\u001b[0m\u001b[0mgen\u001b[0m\u001b[0;34m(\u001b[0m\u001b[0;34m)\u001b[0m\u001b[0;34m)\u001b[0m\u001b[0;34m.\u001b[0m\u001b[0m_new\u001b[0m\u001b[0;34m(\u001b[0m\u001b[0;34m)\u001b[0m\u001b[0;34m\u001b[0m\u001b[0;34m\u001b[0m\u001b[0m\n\u001b[0m\u001b[1;32m   1365\u001b[0m             \u001b[0msig_on\u001b[0m\u001b[0;34m(\u001b[0m\u001b[0;34m)\u001b[0m\u001b[0;34m\u001b[0m\u001b[0;34m\u001b[0m\u001b[0m\n\u001b[1;32m   1366\u001b[0m             \u001b[0mfmpz_mat_charpoly\u001b[0m\u001b[0;34m(\u001b[0m\u001b[0mg\u001b[0m\u001b[0;34m.\u001b[0m\u001b[0m__poly\u001b[0m\u001b[0;34m,\u001b[0m \u001b[0mself\u001b[0m\u001b[0;34m.\u001b[0m\u001b[0m_matrix\u001b[0m\u001b[0;34m)\u001b[0m\u001b[0;34m\u001b[0m\u001b[0;34m\u001b[0m\u001b[0m\n",
      "\u001b[0;32m~/Documents/Sage/local/lib/python3.8/site-packages/sage/rings/polynomial/polynomial_ring_constructor.py\u001b[0m in \u001b[0;36mPolynomialRing\u001b[0;34m(base_ring, *args, **kwds)\u001b[0m\n\u001b[1;32m     49\u001b[0m \u001b[0;31m# in any other way besides *args and **kwds (in Python 3 or Cython, we\u001b[0m\u001b[0;34m\u001b[0m\u001b[0;34m\u001b[0m\u001b[0;34m\u001b[0m\u001b[0m\n\u001b[1;32m     50\u001b[0m \u001b[0;31m# could probably do better thanks to PEP 3102).\u001b[0m\u001b[0;34m\u001b[0m\u001b[0;34m\u001b[0m\u001b[0;34m\u001b[0m\u001b[0m\n\u001b[0;32m---> 51\u001b[0;31m \u001b[0;32mdef\u001b[0m \u001b[0mPolynomialRing\u001b[0m\u001b[0;34m(\u001b[0m\u001b[0mbase_ring\u001b[0m\u001b[0;34m,\u001b[0m \u001b[0;34m*\u001b[0m\u001b[0margs\u001b[0m\u001b[0;34m,\u001b[0m \u001b[0;34m**\u001b[0m\u001b[0mkwds\u001b[0m\u001b[0;34m)\u001b[0m\u001b[0;34m:\u001b[0m\u001b[0;34m\u001b[0m\u001b[0;34m\u001b[0m\u001b[0m\n\u001b[0m\u001b[1;32m     52\u001b[0m     r\"\"\"\n\u001b[1;32m     53\u001b[0m     \u001b[0mReturn\u001b[0m \u001b[0mthe\u001b[0m \u001b[0mglobally\u001b[0m \u001b[0munique\u001b[0m \u001b[0munivariate\u001b[0m \u001b[0;32mor\u001b[0m \u001b[0mmultivariate\u001b[0m \u001b[0mpolynomial\u001b[0m\u001b[0;34m\u001b[0m\u001b[0;34m\u001b[0m\u001b[0m\n",
      "\u001b[0;32msrc/cysignals/signals.pyx\u001b[0m in \u001b[0;36mcysignals.signals.python_check_interrupt\u001b[0;34m()\u001b[0m\n",
      "\u001b[0;31mKeyboardInterrupt\u001b[0m: "
     ]
    }
   ],
   "source": [
    "%%timeit\n",
    "l = conj_set_preimage(f, f)"
   ]
  },
  {
   "cell_type": "code",
   "execution_count": 13,
   "metadata": {
    "scrolled": true
   },
   "outputs": [
    {
     "name": "stdout",
     "output_type": "stream",
     "text": [
      "number of targets tried: 4\n",
      "CPU times: user 44.6 ms, sys: 0 ns, total: 44.6 ms\n",
      "Wall time: 43.1 ms\n"
     ]
    },
    {
     "data": {
      "text/plain": [
       "[\n",
       "[1 0 0]  [ 1  0  0]  [-1  0  0]  [-1  0  0]\n",
       "[0 1 0]  [ 0 -1  0]  [ 0  1  0]  [ 0 -1  0]\n",
       "[0 0 1], [ 0  0  1], [ 0  0  1], [ 0  0  1]\n",
       "]"
      ]
     },
     "execution_count": 13,
     "metadata": {},
     "output_type": "execute_result"
    }
   ],
   "source": [
    "%%time\n",
    "P.<x,y,z> = ProjectiveSpace(QQ, 2)\n",
    "f = DynamicalSystem([x^3,x^2*y+y^3,z^3])\n",
    "conj_set_preimage(f, f)"
   ]
  },
  {
   "cell_type": "code",
   "execution_count": 12,
   "metadata": {
    "scrolled": true
   },
   "outputs": [
    {
     "ename": "AttributeError",
     "evalue": "'AlgebraicScheme_subscheme_projective_field_with_category' object has no attribute 'list'",
     "output_type": "error",
     "traceback": [
      "\u001b[0;31m---------------------------------------------------------------------------\u001b[0m",
      "\u001b[0;31mAttributeError\u001b[0m                            Traceback (most recent call last)",
      "\u001b[0;32m~/Documents/Sage/local/lib/python3.8/site-packages/sage/structure/parent.pyx\u001b[0m in \u001b[0;36msage.structure.parent.Parent.__getitem__ (build/cythonized/sage/structure/parent.c:11166)\u001b[0;34m()\u001b[0m\n\u001b[1;32m   1253\u001b[0m         \u001b[0;32mtry\u001b[0m\u001b[0;34m:\u001b[0m\u001b[0;34m\u001b[0m\u001b[0;34m\u001b[0m\u001b[0m\n\u001b[0;32m-> 1254\u001b[0;31m             \u001b[0mmeth\u001b[0m \u001b[0;34m=\u001b[0m \u001b[0msuper\u001b[0m\u001b[0;34m(\u001b[0m\u001b[0mParent\u001b[0m\u001b[0;34m,\u001b[0m \u001b[0mself\u001b[0m\u001b[0;34m)\u001b[0m\u001b[0;34m.\u001b[0m\u001b[0m__getitem__\u001b[0m\u001b[0;34m\u001b[0m\u001b[0;34m\u001b[0m\u001b[0m\n\u001b[0m\u001b[1;32m   1255\u001b[0m         \u001b[0;32mexcept\u001b[0m \u001b[0mAttributeError\u001b[0m\u001b[0;34m:\u001b[0m\u001b[0;34m\u001b[0m\u001b[0;34m\u001b[0m\u001b[0m\n",
      "\u001b[0;31mAttributeError\u001b[0m: 'super' object has no attribute '__getitem__'",
      "\nDuring handling of the above exception, another exception occurred:\n",
      "\u001b[0;31mKeyError\u001b[0m                                  Traceback (most recent call last)",
      "\u001b[0;32m~/Documents/Sage/local/lib/python3.8/site-packages/sage/structure/category_object.pyx\u001b[0m in \u001b[0;36msage.structure.category_object.CategoryObject.getattr_from_category (build/cythonized/sage/structure/category_object.c:7074)\u001b[0;34m()\u001b[0m\n\u001b[1;32m    838\u001b[0m         \u001b[0;32mtry\u001b[0m\u001b[0;34m:\u001b[0m\u001b[0;34m\u001b[0m\u001b[0;34m\u001b[0m\u001b[0m\n\u001b[0;32m--> 839\u001b[0;31m             \u001b[0;32mreturn\u001b[0m \u001b[0mself\u001b[0m\u001b[0;34m.\u001b[0m\u001b[0m__cached_methods\u001b[0m\u001b[0;34m[\u001b[0m\u001b[0mname\u001b[0m\u001b[0;34m]\u001b[0m\u001b[0;34m\u001b[0m\u001b[0;34m\u001b[0m\u001b[0m\n\u001b[0m\u001b[1;32m    840\u001b[0m         \u001b[0;32mexcept\u001b[0m \u001b[0mKeyError\u001b[0m\u001b[0;34m:\u001b[0m\u001b[0;34m\u001b[0m\u001b[0;34m\u001b[0m\u001b[0m\n",
      "\u001b[0;31mKeyError\u001b[0m: '__getitem__'",
      "\nDuring handling of the above exception, another exception occurred:\n",
      "\u001b[0;31mAttributeError\u001b[0m                            Traceback (most recent call last)",
      "\u001b[0;32m~/Documents/Sage/local/lib/python3.8/site-packages/sage/structure/parent.pyx\u001b[0m in \u001b[0;36msage.structure.parent.Parent.__getitem__ (build/cythonized/sage/structure/parent.c:11226)\u001b[0;34m()\u001b[0m\n\u001b[1;32m   1257\u001b[0m             \u001b[0;32mtry\u001b[0m\u001b[0;34m:\u001b[0m\u001b[0;34m\u001b[0m\u001b[0;34m\u001b[0m\u001b[0m\n\u001b[0;32m-> 1258\u001b[0;31m                 \u001b[0mmeth\u001b[0m \u001b[0;34m=\u001b[0m \u001b[0mself\u001b[0m\u001b[0;34m.\u001b[0m\u001b[0mgetattr_from_category\u001b[0m\u001b[0;34m(\u001b[0m\u001b[0;34m'__getitem__'\u001b[0m\u001b[0;34m)\u001b[0m\u001b[0;34m\u001b[0m\u001b[0;34m\u001b[0m\u001b[0m\n\u001b[0m\u001b[1;32m   1259\u001b[0m             \u001b[0;32mexcept\u001b[0m \u001b[0mAttributeError\u001b[0m\u001b[0;34m:\u001b[0m\u001b[0;34m\u001b[0m\u001b[0;34m\u001b[0m\u001b[0m\n",
      "\u001b[0;32m~/Documents/Sage/local/lib/python3.8/site-packages/sage/structure/category_object.pyx\u001b[0m in \u001b[0;36msage.structure.category_object.CategoryObject.getattr_from_category (build/cythonized/sage/structure/category_object.c:7159)\u001b[0;34m()\u001b[0m\n\u001b[1;32m    847\u001b[0m \u001b[0;34m\u001b[0m\u001b[0m\n\u001b[0;32m--> 848\u001b[0;31m             \u001b[0mattr\u001b[0m \u001b[0;34m=\u001b[0m \u001b[0mgetattr_from_other_class\u001b[0m\u001b[0;34m(\u001b[0m\u001b[0mself\u001b[0m\u001b[0;34m,\u001b[0m \u001b[0mcls\u001b[0m\u001b[0;34m,\u001b[0m \u001b[0mname\u001b[0m\u001b[0;34m)\u001b[0m\u001b[0;34m\u001b[0m\u001b[0;34m\u001b[0m\u001b[0m\n\u001b[0m\u001b[1;32m    849\u001b[0m             \u001b[0mself\u001b[0m\u001b[0;34m.\u001b[0m\u001b[0m__cached_methods\u001b[0m\u001b[0;34m[\u001b[0m\u001b[0mname\u001b[0m\u001b[0;34m]\u001b[0m \u001b[0;34m=\u001b[0m \u001b[0mattr\u001b[0m\u001b[0;34m\u001b[0m\u001b[0;34m\u001b[0m\u001b[0m\n",
      "\u001b[0;32m~/Documents/Sage/local/lib/python3.8/site-packages/sage/cpython/getattr.pyx\u001b[0m in \u001b[0;36msage.cpython.getattr.getattr_from_other_class (build/cythonized/sage/cpython/getattr.c:2551)\u001b[0;34m()\u001b[0m\n\u001b[1;32m    366\u001b[0m         \u001b[0mdummy_error_message\u001b[0m\u001b[0;34m.\u001b[0m\u001b[0mname\u001b[0m \u001b[0;34m=\u001b[0m \u001b[0mname\u001b[0m\u001b[0;34m\u001b[0m\u001b[0;34m\u001b[0m\u001b[0m\n\u001b[0;32m--> 367\u001b[0;31m         \u001b[0;32mraise\u001b[0m \u001b[0mAttributeError\u001b[0m\u001b[0;34m(\u001b[0m\u001b[0mdummy_error_message\u001b[0m\u001b[0;34m)\u001b[0m\u001b[0;34m\u001b[0m\u001b[0;34m\u001b[0m\u001b[0m\n\u001b[0m\u001b[1;32m    368\u001b[0m     \u001b[0mcdef\u001b[0m \u001b[0mPyObject\u001b[0m\u001b[0;34m*\u001b[0m \u001b[0mattr\u001b[0m \u001b[0;34m=\u001b[0m \u001b[0minstance_getattr\u001b[0m\u001b[0;34m(\u001b[0m\u001b[0mcls\u001b[0m\u001b[0;34m,\u001b[0m \u001b[0mname\u001b[0m\u001b[0;34m)\u001b[0m\u001b[0;34m\u001b[0m\u001b[0;34m\u001b[0m\u001b[0m\n",
      "\u001b[0;31mAttributeError\u001b[0m: 'AlgebraicScheme_subscheme_projective_field_with_category' object has no attribute 'list'",
      "\nDuring handling of the above exception, another exception occurred:\n",
      "\u001b[0;31mKeyError\u001b[0m                                  Traceback (most recent call last)",
      "\u001b[0;32m~/Documents/Sage/local/lib/python3.8/site-packages/sage/structure/category_object.pyx\u001b[0m in \u001b[0;36msage.structure.category_object.CategoryObject.getattr_from_category (build/cythonized/sage/structure/category_object.c:7074)\u001b[0;34m()\u001b[0m\n\u001b[1;32m    838\u001b[0m         \u001b[0;32mtry\u001b[0m\u001b[0;34m:\u001b[0m\u001b[0;34m\u001b[0m\u001b[0;34m\u001b[0m\u001b[0m\n\u001b[0;32m--> 839\u001b[0;31m             \u001b[0;32mreturn\u001b[0m \u001b[0mself\u001b[0m\u001b[0;34m.\u001b[0m\u001b[0m__cached_methods\u001b[0m\u001b[0;34m[\u001b[0m\u001b[0mname\u001b[0m\u001b[0;34m]\u001b[0m\u001b[0;34m\u001b[0m\u001b[0;34m\u001b[0m\u001b[0m\n\u001b[0m\u001b[1;32m    840\u001b[0m         \u001b[0;32mexcept\u001b[0m \u001b[0mKeyError\u001b[0m\u001b[0;34m:\u001b[0m\u001b[0;34m\u001b[0m\u001b[0;34m\u001b[0m\u001b[0m\n",
      "\u001b[0;31mKeyError\u001b[0m: 'list'",
      "\nDuring handling of the above exception, another exception occurred:\n",
      "\u001b[0;31mAttributeError\u001b[0m                            Traceback (most recent call last)",
      "\u001b[0;32m<ipython-input-12-b816d40290e6>\u001b[0m in \u001b[0;36m<module>\u001b[0;34m\u001b[0m\n\u001b[1;32m      1\u001b[0m \u001b[0mP\u001b[0m \u001b[0;34m=\u001b[0m \u001b[0mProjectiveSpace\u001b[0m\u001b[0;34m(\u001b[0m\u001b[0mQQ\u001b[0m\u001b[0;34m,\u001b[0m \u001b[0mInteger\u001b[0m\u001b[0;34m(\u001b[0m\u001b[0;36m2\u001b[0m\u001b[0;34m)\u001b[0m\u001b[0;34m,\u001b[0m \u001b[0mnames\u001b[0m\u001b[0;34m=\u001b[0m\u001b[0;34m(\u001b[0m\u001b[0;34m'x'\u001b[0m\u001b[0;34m,\u001b[0m \u001b[0;34m'y'\u001b[0m\u001b[0;34m,\u001b[0m \u001b[0;34m'z'\u001b[0m\u001b[0;34m,\u001b[0m\u001b[0;34m)\u001b[0m\u001b[0;34m)\u001b[0m\u001b[0;34m;\u001b[0m \u001b[0;34m(\u001b[0m\u001b[0mx\u001b[0m\u001b[0;34m,\u001b[0m \u001b[0my\u001b[0m\u001b[0;34m,\u001b[0m \u001b[0mz\u001b[0m\u001b[0;34m,\u001b[0m\u001b[0;34m)\u001b[0m \u001b[0;34m=\u001b[0m \u001b[0mP\u001b[0m\u001b[0;34m.\u001b[0m\u001b[0m_first_ngens\u001b[0m\u001b[0;34m(\u001b[0m\u001b[0;36m3\u001b[0m\u001b[0;34m)\u001b[0m\u001b[0;34m\u001b[0m\u001b[0;34m\u001b[0m\u001b[0m\n\u001b[1;32m      2\u001b[0m \u001b[0mf\u001b[0m \u001b[0;34m=\u001b[0m \u001b[0mDynamicalSystem\u001b[0m\u001b[0;34m(\u001b[0m\u001b[0;34m[\u001b[0m\u001b[0mx\u001b[0m\u001b[0;34m*\u001b[0m\u001b[0my\u001b[0m\u001b[0;34m**\u001b[0m\u001b[0mInteger\u001b[0m\u001b[0;34m(\u001b[0m\u001b[0;36m3\u001b[0m\u001b[0;34m)\u001b[0m \u001b[0;34m-\u001b[0m \u001b[0mx\u001b[0m\u001b[0;34m*\u001b[0m\u001b[0mz\u001b[0m\u001b[0;34m**\u001b[0m\u001b[0mInteger\u001b[0m\u001b[0;34m(\u001b[0m\u001b[0;36m3\u001b[0m\u001b[0;34m)\u001b[0m\u001b[0;34m,\u001b[0m \u001b[0;34m-\u001b[0m\u001b[0mx\u001b[0m\u001b[0;34m**\u001b[0m\u001b[0mInteger\u001b[0m\u001b[0;34m(\u001b[0m\u001b[0;36m3\u001b[0m\u001b[0;34m)\u001b[0m\u001b[0;34m*\u001b[0m\u001b[0my\u001b[0m \u001b[0;34m+\u001b[0m \u001b[0my\u001b[0m\u001b[0;34m*\u001b[0m\u001b[0mz\u001b[0m\u001b[0;34m**\u001b[0m\u001b[0mInteger\u001b[0m\u001b[0;34m(\u001b[0m\u001b[0;36m3\u001b[0m\u001b[0;34m)\u001b[0m\u001b[0;34m,\u001b[0m \u001b[0mx\u001b[0m\u001b[0;34m**\u001b[0m\u001b[0mInteger\u001b[0m\u001b[0;34m(\u001b[0m\u001b[0;36m3\u001b[0m\u001b[0;34m)\u001b[0m\u001b[0;34m*\u001b[0m\u001b[0mz\u001b[0m \u001b[0;34m-\u001b[0m \u001b[0my\u001b[0m\u001b[0;34m**\u001b[0m\u001b[0mInteger\u001b[0m\u001b[0;34m(\u001b[0m\u001b[0;36m3\u001b[0m\u001b[0;34m)\u001b[0m\u001b[0;34m*\u001b[0m\u001b[0mz\u001b[0m\u001b[0;34m]\u001b[0m\u001b[0;34m)\u001b[0m\u001b[0;34m\u001b[0m\u001b[0;34m\u001b[0m\u001b[0m\n\u001b[0;32m----> 3\u001b[0;31m \u001b[0mconj_set_preimage\u001b[0m\u001b[0;34m(\u001b[0m\u001b[0mf\u001b[0m\u001b[0;34m,\u001b[0m \u001b[0mf\u001b[0m\u001b[0;34m)\u001b[0m\u001b[0;34m\u001b[0m\u001b[0;34m\u001b[0m\u001b[0m\n\u001b[0m",
      "\u001b[0;32m<ipython-input-10-99e93ca782db>\u001b[0m in \u001b[0;36mconj_set_preimage\u001b[0;34m(self, other)\u001b[0m\n\u001b[1;32m    101\u001b[0m                 \u001b[0mTk\u001b[0m \u001b[0;34m=\u001b[0m \u001b[0;34m[\u001b[0m\u001b[0;34m]\u001b[0m\u001b[0;34m\u001b[0m\u001b[0;34m\u001b[0m\u001b[0m\n\u001b[1;32m    102\u001b[0m                 \u001b[0;32mfor\u001b[0m \u001b[0mpnt\u001b[0m \u001b[0;32min\u001b[0m \u001b[0mpoint_lst_L\u001b[0m\u001b[0;34m:\u001b[0m\u001b[0;34m\u001b[0m\u001b[0;34m\u001b[0m\u001b[0m\n\u001b[0;32m--> 103\u001b[0;31m                     \u001b[0;32mfor\u001b[0m \u001b[0mpreimage\u001b[0m \u001b[0;32min\u001b[0m \u001b[0mf\u001b[0m\u001b[0;34m.\u001b[0m\u001b[0mrational_preimages\u001b[0m\u001b[0;34m(\u001b[0m\u001b[0mpnt\u001b[0m\u001b[0;34m)\u001b[0m\u001b[0;34m:\u001b[0m\u001b[0;34m\u001b[0m\u001b[0;34m\u001b[0m\u001b[0m\n\u001b[0m\u001b[1;32m    104\u001b[0m                         \u001b[0;32mif\u001b[0m \u001b[0mpreimage\u001b[0m \u001b[0;34m!=\u001b[0m \u001b[0mpnt\u001b[0m\u001b[0;34m:\u001b[0m\u001b[0;34m\u001b[0m\u001b[0;34m\u001b[0m\u001b[0m\n\u001b[1;32m    105\u001b[0m                             \u001b[0mTl\u001b[0m\u001b[0;34m.\u001b[0m\u001b[0mappend\u001b[0m\u001b[0;34m(\u001b[0m\u001b[0mpreimage\u001b[0m\u001b[0;34m)\u001b[0m\u001b[0;34m\u001b[0m\u001b[0;34m\u001b[0m\u001b[0m\n",
      "\u001b[0;32m~/Documents/Sage/local/lib/python3.8/site-packages/sage/structure/parent.pyx\u001b[0m in \u001b[0;36msage.structure.parent.Parent.__getitem__ (build/cythonized/sage/structure/parent.c:11269)\u001b[0;34m()\u001b[0m\n\u001b[1;32m   1258\u001b[0m                 \u001b[0mmeth\u001b[0m \u001b[0;34m=\u001b[0m \u001b[0mself\u001b[0m\u001b[0;34m.\u001b[0m\u001b[0mgetattr_from_category\u001b[0m\u001b[0;34m(\u001b[0m\u001b[0;34m'__getitem__'\u001b[0m\u001b[0;34m)\u001b[0m\u001b[0;34m\u001b[0m\u001b[0;34m\u001b[0m\u001b[0m\n\u001b[1;32m   1259\u001b[0m             \u001b[0;32mexcept\u001b[0m \u001b[0mAttributeError\u001b[0m\u001b[0;34m:\u001b[0m\u001b[0;34m\u001b[0m\u001b[0;34m\u001b[0m\u001b[0m\n\u001b[0;32m-> 1260\u001b[0;31m                 \u001b[0;32mreturn\u001b[0m \u001b[0mself\u001b[0m\u001b[0;34m.\u001b[0m\u001b[0mlist\u001b[0m\u001b[0;34m(\u001b[0m\u001b[0;34m)\u001b[0m\u001b[0;34m[\u001b[0m\u001b[0mn\u001b[0m\u001b[0;34m]\u001b[0m\u001b[0;34m\u001b[0m\u001b[0;34m\u001b[0m\u001b[0m\n\u001b[0m\u001b[1;32m   1261\u001b[0m         \u001b[0;32mreturn\u001b[0m \u001b[0mmeth\u001b[0m\u001b[0;34m(\u001b[0m\u001b[0mn\u001b[0m\u001b[0;34m)\u001b[0m\u001b[0;34m\u001b[0m\u001b[0;34m\u001b[0m\u001b[0m\n\u001b[1;32m   1262\u001b[0m \u001b[0;34m\u001b[0m\u001b[0m\n",
      "\u001b[0;32m~/Documents/Sage/local/lib/python3.8/site-packages/sage/structure/category_object.pyx\u001b[0m in \u001b[0;36msage.structure.category_object.CategoryObject.__getattr__ (build/cythonized/sage/structure/category_object.c:6993)\u001b[0;34m()\u001b[0m\n\u001b[1;32m    831\u001b[0m             \u001b[0mAttributeError\u001b[0m\u001b[0;34m:\u001b[0m \u001b[0;34m'PrimeNumbers_with_category'\u001b[0m \u001b[0mobject\u001b[0m \u001b[0mhas\u001b[0m \u001b[0mno\u001b[0m \u001b[0mattribute\u001b[0m \u001b[0;34m'sadfasdf'\u001b[0m\u001b[0;34m\u001b[0m\u001b[0;34m\u001b[0m\u001b[0m\n\u001b[1;32m    832\u001b[0m         \"\"\"\n\u001b[0;32m--> 833\u001b[0;31m         \u001b[0;32mreturn\u001b[0m \u001b[0mself\u001b[0m\u001b[0;34m.\u001b[0m\u001b[0mgetattr_from_category\u001b[0m\u001b[0;34m(\u001b[0m\u001b[0mname\u001b[0m\u001b[0;34m)\u001b[0m\u001b[0;34m\u001b[0m\u001b[0;34m\u001b[0m\u001b[0m\n\u001b[0m\u001b[1;32m    834\u001b[0m \u001b[0;34m\u001b[0m\u001b[0m\n\u001b[1;32m    835\u001b[0m     \u001b[0mcdef\u001b[0m \u001b[0mgetattr_from_category\u001b[0m\u001b[0;34m(\u001b[0m\u001b[0mself\u001b[0m\u001b[0;34m,\u001b[0m \u001b[0mname\u001b[0m\u001b[0;34m)\u001b[0m\u001b[0;34m:\u001b[0m\u001b[0;34m\u001b[0m\u001b[0;34m\u001b[0m\u001b[0m\n",
      "\u001b[0;32m~/Documents/Sage/local/lib/python3.8/site-packages/sage/structure/category_object.pyx\u001b[0m in \u001b[0;36msage.structure.category_object.CategoryObject.getattr_from_category (build/cythonized/sage/structure/category_object.c:7159)\u001b[0;34m()\u001b[0m\n\u001b[1;32m    846\u001b[0m                 \u001b[0mcls\u001b[0m \u001b[0;34m=\u001b[0m \u001b[0mself\u001b[0m\u001b[0;34m.\u001b[0m\u001b[0m_category\u001b[0m\u001b[0;34m.\u001b[0m\u001b[0mparent_class\u001b[0m\u001b[0;34m\u001b[0m\u001b[0;34m\u001b[0m\u001b[0m\n\u001b[1;32m    847\u001b[0m \u001b[0;34m\u001b[0m\u001b[0m\n\u001b[0;32m--> 848\u001b[0;31m             \u001b[0mattr\u001b[0m \u001b[0;34m=\u001b[0m \u001b[0mgetattr_from_other_class\u001b[0m\u001b[0;34m(\u001b[0m\u001b[0mself\u001b[0m\u001b[0;34m,\u001b[0m \u001b[0mcls\u001b[0m\u001b[0;34m,\u001b[0m \u001b[0mname\u001b[0m\u001b[0;34m)\u001b[0m\u001b[0;34m\u001b[0m\u001b[0;34m\u001b[0m\u001b[0m\n\u001b[0m\u001b[1;32m    849\u001b[0m             \u001b[0mself\u001b[0m\u001b[0;34m.\u001b[0m\u001b[0m__cached_methods\u001b[0m\u001b[0;34m[\u001b[0m\u001b[0mname\u001b[0m\u001b[0;34m]\u001b[0m \u001b[0;34m=\u001b[0m \u001b[0mattr\u001b[0m\u001b[0;34m\u001b[0m\u001b[0;34m\u001b[0m\u001b[0m\n\u001b[1;32m    850\u001b[0m             \u001b[0;32mreturn\u001b[0m \u001b[0mattr\u001b[0m\u001b[0;34m\u001b[0m\u001b[0;34m\u001b[0m\u001b[0m\n",
      "\u001b[0;32m~/Documents/Sage/local/lib/python3.8/site-packages/sage/cpython/getattr.pyx\u001b[0m in \u001b[0;36msage.cpython.getattr.getattr_from_other_class (build/cythonized/sage/cpython/getattr.c:2551)\u001b[0;34m()\u001b[0m\n\u001b[1;32m    365\u001b[0m         \u001b[0mdummy_error_message\u001b[0m\u001b[0;34m.\u001b[0m\u001b[0mcls\u001b[0m \u001b[0;34m=\u001b[0m \u001b[0mtype\u001b[0m\u001b[0;34m(\u001b[0m\u001b[0mself\u001b[0m\u001b[0;34m)\u001b[0m\u001b[0;34m\u001b[0m\u001b[0;34m\u001b[0m\u001b[0m\n\u001b[1;32m    366\u001b[0m         \u001b[0mdummy_error_message\u001b[0m\u001b[0;34m.\u001b[0m\u001b[0mname\u001b[0m \u001b[0;34m=\u001b[0m \u001b[0mname\u001b[0m\u001b[0;34m\u001b[0m\u001b[0;34m\u001b[0m\u001b[0m\n\u001b[0;32m--> 367\u001b[0;31m         \u001b[0;32mraise\u001b[0m \u001b[0mAttributeError\u001b[0m\u001b[0;34m(\u001b[0m\u001b[0mdummy_error_message\u001b[0m\u001b[0;34m)\u001b[0m\u001b[0;34m\u001b[0m\u001b[0;34m\u001b[0m\u001b[0m\n\u001b[0m\u001b[1;32m    368\u001b[0m     \u001b[0mcdef\u001b[0m \u001b[0mPyObject\u001b[0m\u001b[0;34m*\u001b[0m \u001b[0mattr\u001b[0m \u001b[0;34m=\u001b[0m \u001b[0minstance_getattr\u001b[0m\u001b[0;34m(\u001b[0m\u001b[0mcls\u001b[0m\u001b[0;34m,\u001b[0m \u001b[0mname\u001b[0m\u001b[0;34m)\u001b[0m\u001b[0;34m\u001b[0m\u001b[0;34m\u001b[0m\u001b[0m\n\u001b[1;32m    369\u001b[0m     \u001b[0;32mif\u001b[0m \u001b[0mattr\u001b[0m \u001b[0;32mis\u001b[0m \u001b[0mNULL\u001b[0m\u001b[0;34m:\u001b[0m\u001b[0;34m\u001b[0m\u001b[0;34m\u001b[0m\u001b[0m\n",
      "\u001b[0;31mAttributeError\u001b[0m: 'AlgebraicScheme_subscheme_projective_field_with_category' object has no attribute 'list'"
     ]
    }
   ],
   "source": [
    "P.<x,y,z> = ProjectiveSpace(QQ, 2)\n",
    "f = DynamicalSystem([x*y^3 - x*z^3, -x^3*y + y*z^3, x^3*z - y^3*z])\n",
    "conj_set_preimage(f, f)"
   ]
  },
  {
   "cell_type": "code",
   "execution_count": 14,
   "metadata": {},
   "outputs": [
    {
     "data": {
      "text/plain": [
       "[]"
      ]
     },
     "execution_count": 14,
     "metadata": {},
     "output_type": "execute_result"
    }
   ],
   "source": [
    "f.rational_preimages(P(1,0,0))"
   ]
  },
  {
   "cell_type": "raw",
   "metadata": {},
   "source": [
    "    "
   ]
  },
  {
   "cell_type": "code",
   "execution_count": 1,
   "metadata": {},
   "outputs": [
    {
     "name": "stdout",
     "output_type": "stream",
     "text": [
      "True\n"
     ]
    },
    {
     "ename": "NameError",
     "evalue": "name 'conj_set_preimage' is not defined",
     "output_type": "error",
     "traceback": [
      "\u001b[0;31m---------------------------------------------------------------------------\u001b[0m",
      "\u001b[0;31mNameError\u001b[0m                                 Traceback (most recent call last)",
      "\u001b[0;32m<ipython-input-1-b723cf457e27>\u001b[0m in \u001b[0;36m<module>\u001b[0;34m\u001b[0m\n\u001b[1;32m      3\u001b[0m \u001b[0mprint\u001b[0m\u001b[0;34m(\u001b[0m\u001b[0mf\u001b[0m\u001b[0;34m.\u001b[0m\u001b[0mis_morphism\u001b[0m\u001b[0;34m(\u001b[0m\u001b[0;34m)\u001b[0m\u001b[0;34m)\u001b[0m\u001b[0;34m\u001b[0m\u001b[0;34m\u001b[0m\u001b[0m\n\u001b[1;32m      4\u001b[0m \u001b[0mg\u001b[0m \u001b[0;34m=\u001b[0m \u001b[0mf\u001b[0m\u001b[0;34m.\u001b[0m\u001b[0mconjugate\u001b[0m\u001b[0;34m(\u001b[0m\u001b[0mmatrix\u001b[0m\u001b[0;34m(\u001b[0m\u001b[0mInteger\u001b[0m\u001b[0;34m(\u001b[0m\u001b[0;36m3\u001b[0m\u001b[0;34m)\u001b[0m\u001b[0;34m,\u001b[0m\u001b[0mInteger\u001b[0m\u001b[0;34m(\u001b[0m\u001b[0;36m3\u001b[0m\u001b[0;34m)\u001b[0m\u001b[0;34m,\u001b[0m\u001b[0;34m[\u001b[0m\u001b[0mInteger\u001b[0m\u001b[0;34m(\u001b[0m\u001b[0;36m0\u001b[0m\u001b[0;34m)\u001b[0m\u001b[0;34m,\u001b[0m\u001b[0mInteger\u001b[0m\u001b[0;34m(\u001b[0m\u001b[0;36m1\u001b[0m\u001b[0;34m)\u001b[0m\u001b[0;34m,\u001b[0m\u001b[0mInteger\u001b[0m\u001b[0;34m(\u001b[0m\u001b[0;36m1\u001b[0m\u001b[0;34m)\u001b[0m\u001b[0;34m,\u001b[0m\u001b[0;34m-\u001b[0m\u001b[0mInteger\u001b[0m\u001b[0;34m(\u001b[0m\u001b[0;36m1\u001b[0m\u001b[0;34m)\u001b[0m\u001b[0;34m,\u001b[0m\u001b[0mInteger\u001b[0m\u001b[0;34m(\u001b[0m\u001b[0;36m0\u001b[0m\u001b[0;34m)\u001b[0m\u001b[0;34m,\u001b[0m\u001b[0mInteger\u001b[0m\u001b[0;34m(\u001b[0m\u001b[0;36m1\u001b[0m\u001b[0;34m)\u001b[0m\u001b[0;34m,\u001b[0m\u001b[0mInteger\u001b[0m\u001b[0;34m(\u001b[0m\u001b[0;36m1\u001b[0m\u001b[0;34m)\u001b[0m\u001b[0;34m,\u001b[0m\u001b[0mInteger\u001b[0m\u001b[0;34m(\u001b[0m\u001b[0;36m1\u001b[0m\u001b[0;34m)\u001b[0m\u001b[0;34m,\u001b[0m\u001b[0mInteger\u001b[0m\u001b[0;34m(\u001b[0m\u001b[0;36m1\u001b[0m\u001b[0;34m)\u001b[0m\u001b[0;34m]\u001b[0m\u001b[0;34m)\u001b[0m\u001b[0;34m)\u001b[0m\u001b[0;34m\u001b[0m\u001b[0;34m\u001b[0m\u001b[0m\n\u001b[0;32m----> 5\u001b[0;31m \u001b[0mconj_set_preimage\u001b[0m\u001b[0;34m(\u001b[0m\u001b[0mf\u001b[0m\u001b[0;34m,\u001b[0m \u001b[0mg\u001b[0m\u001b[0;34m)\u001b[0m\u001b[0;34m\u001b[0m\u001b[0;34m\u001b[0m\u001b[0m\n\u001b[0m",
      "\u001b[0;31mNameError\u001b[0m: name 'conj_set_preimage' is not defined"
     ]
    }
   ],
   "source": [
    "P.<x,y,z> = ProjectiveSpace(QQ, 2)\n",
    "f = DynamicalSystem([x*z+2*x^2, x^2+z*y + y^2,z^2+y^2])\n",
    "print(f.is_morphism())\n",
    "g = f.conjugate(matrix(3,3,[0,1,1,-1,0,1,1,1,1]))\n",
    "conj_set_preimage(f, g)"
   ]
  },
  {
   "cell_type": "code",
   "execution_count": 3,
   "metadata": {
    "scrolled": false
   },
   "outputs": [
    {
     "name": "stdout",
     "output_type": "stream",
     "text": [
      "CPU times: user 16.7 ms, sys: 3.84 ms, total: 20.5 ms\n",
      "Wall time: 219 ms\n"
     ]
    }
   ],
   "source": [
    "%%time\n",
    "K.<v>=CyclotomicField(3)\n",
    "P.<x,y,z> = ProjectiveSpace(K, 2)\n",
    "f = DynamicalSystem([8*x^7 - 35*x^4*y^3 - 35*x^4*z^3 - 7*x*y^6 - 140*x*y^3*z^3 - 7*x*z^6, -7*x^6*y - 35*x^3*y^4 - 140*x^3*y*z^3 + 8*y^7 - 35*y^4*z^3 - 7*y*z^6,-7*x^6*z - 140*x^3*y^3*z - 35*x^3*z^4 - 7*y^6*z - 35*y^3*z^4 + 8*z^7])"
   ]
  },
  {
   "cell_type": "code",
   "execution_count": 4,
   "metadata": {
    "scrolled": true
   },
   "outputs": [
    {
     "name": "stdout",
     "output_type": "stream",
     "text": [
      "repeated_mult_L keys: [9, 12, 36]\n",
      "arrangement_iterators: [Arrangements of the set [0, 1, 2, 3, 4, 5, 6, 7, 8] of length 4]\n",
      "cardinalities: [3024]\n",
      "number of targets tried: 3024\n",
      "number of not independent targets: 1728\n"
     ]
    }
   ],
   "source": [
    "auto2 = conj_set_preimage(f,f)"
   ]
  },
  {
   "cell_type": "code",
   "execution_count": 2,
   "metadata": {
    "scrolled": true
   },
   "outputs": [
    {
     "name": "stdout",
     "output_type": "stream",
     "text": [
      "repeated_mult_L keys: [3, 4, 6]\n",
      "arrangement_iterators: [Arrangements of the set [0, 1, 2] of length 2, Arrangements of the set [0, 1, 2, 3] of length 2]\n",
      "cardinalities: [6, 12]\n",
      "number of targets tried: 72\n",
      "number of not independent targets: 24\n"
     ]
    },
    {
     "data": {
      "text/plain": [
       "[\n",
       "[1 0 0]  [0 0 1]  [0 1 0]  [0 0 1]  [0 1 0]  [1 0 0]\n",
       "[0 1 0]  [0 1 0]  [1 0 0]  [1 0 0]  [0 0 1]  [0 0 1]\n",
       "[0 0 1], [1 0 0], [0 0 1], [0 1 0], [1 0 0], [0 1 0]\n",
       "]"
      ]
     },
     "execution_count": 2,
     "metadata": {},
     "output_type": "execute_result"
    }
   ],
   "source": [
    "P.<x,y,z> = ProjectiveSpace(QQ, 2)\n",
    "f = DynamicalSystem([8*x^7 - 35*x^4*y^3 - 35*x^4*z^3 - 7*x*y^6 - 140*x*y^3*z^3 - 7*x*z^6, -7*x^6*y - 35*x^3*y^4 - 140*x^3*y*z^3 + 8*y^7 - 35*y^4*z^3 - 7*y*z^6,-7*x^6*z - 140*x^3*y^3*z - 35*x^3*z^4 - 7*y^6*z - 35*y^3*z^4 + 8*z^7])\n",
    "conj_set_preimage(f,f)"
   ]
  },
  {
   "cell_type": "code",
   "execution_count": 6,
   "metadata": {
    "scrolled": false
   },
   "outputs": [
    {
     "name": "stdout",
     "output_type": "stream",
     "text": [
      "repeated_mult_L keys: [1, 7, 21, 35]\n",
      "arrangement_iterators: [Arrangements of the set [0] of length 1, Arrangements of the set [0, 1, 2, 3, 4, 5, 6] of length 7]\n",
      "cardinalities: [1, 5040]\n",
      "number of targets tried: 5040\n",
      "number of not independent targets: 0\n"
     ]
    }
   ],
   "source": [
    "P.<x,y,z,w,j,t,h> = ProjectiveSpace(QQ, 6)\n",
    "f = DynamicalSystem([x^2, y^2, z^2, w^2, j^2, t^2, h^2])\n",
    "auto = conj_set_preimage(f, f)"
   ]
  },
  {
   "cell_type": "code",
   "execution_count": 5,
   "metadata": {},
   "outputs": [
    {
     "name": "stdout",
     "output_type": "stream",
     "text": [
      "repeated_mult_L keys: [5, 16, 20, 40]\n",
      "arrangement_iterators: [Arrangements of the set [0, 1, 2, 3, 4] of length 5, Arrangements of the set [0, 1, 2, 3, 4, 5, 6, 7, 8, 9, 10, 11, 12, 13, 14, 15] of length 1]\n",
      "cardinalities: [120, 16]\n",
      "number of targets tried: 1920\n",
      "number of not independent targets: 0\n"
     ]
    }
   ],
   "source": [
    "P.<x,y,z,w,t> = ProjectiveSpace(QQ, 4)\n",
    "f = DynamicalSystem([x^3, y^3, z^3, w^3, t^3])\n",
    "auto = conj_set_preimage(f, f)"
   ]
  },
  {
   "cell_type": "code",
   "execution_count": 77,
   "metadata": {},
   "outputs": [
    {
     "data": {
      "text/plain": [
       "216"
      ]
     },
     "execution_count": 77,
     "metadata": {},
     "output_type": "execute_result"
    }
   ],
   "source": [
    "len(auto2)"
   ]
  },
  {
   "cell_type": "code",
   "execution_count": 7,
   "metadata": {},
   "outputs": [],
   "source": [
    "Subsets?"
   ]
  },
  {
   "cell_type": "code",
   "execution_count": null,
   "metadata": {},
   "outputs": [],
   "source": []
  }
 ],
 "metadata": {
  "kernelspec": {
   "display_name": "SageMath 9.4.beta3",
   "language": "sage",
   "name": "sagemath"
  },
  "language_info": {
   "codemirror_mode": {
    "name": "ipython",
    "version": 3
   },
   "file_extension": ".py",
   "mimetype": "text/x-python",
   "name": "python",
   "nbconvert_exporter": "python",
   "pygments_lexer": "ipython3",
   "version": "3.8.10"
  }
 },
 "nbformat": 4,
 "nbformat_minor": 4
}
