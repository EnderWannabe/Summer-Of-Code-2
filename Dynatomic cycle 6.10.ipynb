{
 "cells": [
  {
   "cell_type": "code",
   "execution_count": 77,
   "metadata": {},
   "outputs": [
    {
     "data": {
      "text/plain": [
       "Dynamical System of Projective Space of dimension 2 over Rational Field\n",
       "  Defn: Defined on coordinates by sending (x : y : z) to\n",
       "        (x^2 - 3/4*z^2 : y^2 - 3/4*z^2 : z^2)"
      ]
     },
     "execution_count": 77,
     "metadata": {},
     "output_type": "execute_result"
    }
   ],
   "source": [
    "P.<x,y,z> = ProjectiveSpace(QQ,2)\n",
    "f = DynamicalSystem_projective([x^2 - 3/4*z^2, y^2 - 3/4*z^2, z^2])\n",
    "f"
   ]
  },
  {
   "cell_type": "code",
   "execution_count": 78,
   "metadata": {
    "scrolled": false
   },
   "outputs": [
    {
     "data": {
      "text/plain": [
       "[(-1/2 : -1/2 : 1),\n",
       " (-1/2 : 3/2 : 1),\n",
       " (0 : 1 : 0),\n",
       " (1 : 0 : 0),\n",
       " (1 : 1 : 0),\n",
       " (3/2 : -1/2 : 1),\n",
       " (3/2 : 3/2 : 1)]"
      ]
     },
     "execution_count": 78,
     "metadata": {},
     "output_type": "execute_result"
    }
   ],
   "source": [
    "CR = f.coordinate_ring()\n",
    "dom = f.domain()\n",
    "PS = f.codomain().ambient_space()\n",
    "N = PS.dimension_relative() + 1\n",
    "R = f.base_ring()\n",
    "n = f.degree()\n",
    "T.<t> = R[]\n",
    "Pt = ProjectiveSpace(N-1, R=T, names = [str(i) for i in CR.gens()])\n",
    "deformed_polys = [poly + t*Pt.gens()[-1]^n for poly in f.defining_polynomials()[:-1]] + [f.defining_polynomials()[-1]]\n",
    "f_deformed = DynamicalSystem(deformed_polys)\n",
    "Ideal = f_deformed.periodic_points(1, return_scheme = True).defining_ideal()\n",
    "from sage.rings.polynomial.flatten import FlatteningMorphism\n",
    "phi = FlatteningMorphism(Pt.coordinate_ring())\n",
    "CR2 = phi.codomain()\n",
    "reduce_ideal = CR2.ideal([phi(F) for F in Ideal.gens()])\n",
    "L = [poly.specialization({t:0}) for poly in reduce_ideal.gens()]\n",
    "new_P = ProjectiveSpace(L[0].parent())\n",
    "X = new_P.subscheme(L)\n",
    "X.rational_points()"
   ]
  },
  {
   "cell_type": "code",
   "execution_count": 53,
   "metadata": {
    "scrolled": true
   },
   "outputs": [
    {
     "data": {
      "text/plain": [
       "[(0 : 1), (1 : 0), (1 : 1)]"
      ]
     },
     "execution_count": 53,
     "metadata": {},
     "output_type": "execute_result"
    }
   ],
   "source": [
    "P.<x,y> = ProjectiveSpace(QQ,1)\n",
    "X = P.subscheme([x^2*y - x*y^2])\n",
    "X(QQ).points()"
   ]
  },
  {
   "cell_type": "code",
   "execution_count": 1,
   "metadata": {},
   "outputs": [
    {
     "data": {
      "text/plain": [
       "Dynamical System of Projective Space of dimension 2 over Rational Field\n",
       "  Defn: Defined on coordinates by sending (x : y : z) to\n",
       "        (x^2 - 3/4*y^2 : y^2 : z^2)"
      ]
     },
     "execution_count": 1,
     "metadata": {},
     "output_type": "execute_result"
    }
   ],
   "source": [
    "P.<x,y,z> = ProjectiveSpace(QQ,2)\n",
    "f = DynamicalSystem_projective([x^2 - 3/4*y^2, y^2 , z^2])\n",
    "f"
   ]
  },
  {
   "cell_type": "code",
   "execution_count": 37,
   "metadata": {},
   "outputs": [],
   "source": [
    "def formal_periodic_points(f):\n",
    "    CR = f.coordinate_ring()\n",
    "    dom = f.domain()\n",
    "    PS = f.codomain().ambient_space()\n",
    "    N = PS.dimension_relative() + 1\n",
    "    R = f.base_ring()\n",
    "    n = f.degree()\n",
    "    T.<t> = R[]\n",
    "    Pt = ProjectiveSpace(N-1, R=T, names = [str(i) for i in CR.gens()])\n",
    "    deformed_polys = [poly + t*Pt.gens()[-1]^n for poly in f.defining_polynomials()[:-1]] + [f.defining_polynomials()[-1]]\n",
    "    f_deformed = DynamicalSystem(deformed_polys)\n",
    "    Ideal = f_deformed.periodic_points(2, return_scheme = True).defining_ideal()\n",
    "    from sage.rings.polynomial.flatten import FlatteningMorphism\n",
    "    phi = FlatteningMorphism(Pt.coordinate_ring())\n",
    "    CR2 = phi.codomain()\n",
    "    reduce_ideal = CR2.ideal([phi(F) for F in Ideal.gens()])\n",
    "    L = [poly.specialization({t:0}) for poly in reduce_ideal.gens()]\n",
    "    new_P = ProjectiveSpace(L[0].parent())\n",
    "    X = new_P.subscheme(L)\n",
    "    for Q in X.rational_points():\n",
    "        print(Q, Q.multiplicity())"
   ]
  },
  {
   "cell_type": "code",
   "execution_count": 73,
   "metadata": {
    "scrolled": true
   },
   "outputs": [
    {
     "name": "stdout",
     "output_type": "stream",
     "text": [
      "[ 0 -1  0]\n",
      "[-1  0  0]\n",
      "[ 0  1 -1]\n",
      "Dynamical System of Projective Space of dimension 2 over Rational Field\n",
      "  Defn: Defined on coordinates by sending (x : y : z) to\n",
      "        (-x^2 : 3/4*x^2 - y^2 : 3/4*x^2 - 2*y^2 + 2*y*z - z^2)\n",
      "(-2 : 1 : 1) 2\n",
      "(2 : -1 : 1) 2\n",
      "False\n"
     ]
    }
   ],
   "source": [
    "P.<x,y,z> = ProjectiveSpace(QQ,2)\n",
    "f = DynamicalSystem_projective([x^2 - 3/4*y^2, y^2 , z^2])\n",
    "periodic_scheme = f.periodic_points(2, minimal=False, return_scheme=True)\n",
    "attempted_combinations = {}\n",
    "hyperplane_found = False\n",
    "from itertools import count, product\n",
    "for height_bound in count(1):\n",
    "    coeff_lst = ZZ.range(height_bound)\n",
    "    for tup in product(coeff_lst, repeat=len(P.gens())):\n",
    "        if list(tup) != [0]*len(P.gens()):\n",
    "            if P(tup) not in attempted_combinations:\n",
    "                attempted_combinations[P(tup)] = 0\n",
    "                hyperplane = P.subscheme(tup[0]*x + tup[1]*y + tup[2]*z)\n",
    "                X = periodic_scheme.intersection(hyperplane)\n",
    "                if X.dimension() < 0:\n",
    "                    hyperplane_found = True\n",
    "                    break\n",
    "    if hyperplane_found:\n",
    "        break\n",
    "source = P.subscheme(P.gens()[-1])\n",
    "m = P.hyperplane_transformation_matrix(source, hyperplane)\n",
    "print(m)\n",
    "new_f = f.conjugate(m)\n",
    "print(new_f)\n",
    "formal_periodic_points(new_f)\n",
    "print(new_f == f)"
   ]
  },
  {
   "cell_type": "code",
   "execution_count": 48,
   "metadata": {
    "scrolled": false
   },
   "outputs": [
    {
     "data": {
      "text/plain": [
       "[]"
      ]
     },
     "execution_count": 48,
     "metadata": {},
     "output_type": "execute_result"
    }
   ],
   "source": [
    "periodic_scheme = f.periodic_points(1, return_scheme=True)\n",
    "hyperplane = P.subscheme(x + 2*y + 3*z)\n",
    "X = periodic_scheme.intersection(hyperplane)\n",
    "X.rational_points(F=QQbar)"
   ]
  },
  {
   "cell_type": "code",
   "execution_count": 68,
   "metadata": {},
   "outputs": [],
   "source": [
    "for point in f.periodic_points(2, minimal=False):\n",
    "    try:\n",
    "        hyperplane(point)\n",
    "        print(point)\n",
    "    except:\n",
    "        pass"
   ]
  },
  {
   "cell_type": "code",
   "execution_count": 66,
   "metadata": {},
   "outputs": [
    {
     "name": "stdout",
     "output_type": "stream",
     "text": [
      "(-2 : 1 : 0) 3\n",
      "(-1 : -3/2 : 1) 1\n",
      "(-1 : 1/2 : 1) 3\n",
      "(0 : 0 : 1) 1\n",
      "(0 : 1 : 0) 1\n",
      "(0 : 1 : 1) 1\n",
      "(2/3 : 1 : 0) 1\n"
     ]
    }
   ],
   "source": [
    "X = new_f.periodic_points(2, minimal=False, return_scheme=True)\n",
    "for i in X.rational_points():\n",
    "    print(i, i.multiplicity())"
   ]
  },
  {
   "cell_type": "code",
   "execution_count": 8,
   "metadata": {
    "scrolled": false
   },
   "outputs": [
    {
     "name": "stdout",
     "output_type": "stream",
     "text": [
      "(-3/2 : -1 : 1) 1\n",
      "(-3/2 : 1 : 0) 2\n",
      "(-3/2 : 1 : 1) 1\n",
      "(-1 : 0 : 1) 2\n",
      "(-1/2 : -1 : 1) 1\n",
      "(1/2 : -1 : 1) 1\n",
      "(1/2 : 1 : 0) 2\n",
      "(1/2 : 1 : 1) 1\n",
      "(3/2 : -1 : 1) 1\n",
      "-----------------\n",
      "2\n",
      "1\n",
      "1\n",
      "1\n",
      "3\n",
      "1\n",
      "3\n",
      "2\n",
      "1\n",
      "1\n",
      "2\n",
      "1\n",
      "1\n",
      "1\n",
      "21\n"
     ]
    }
   ],
   "source": [
    "P.<x,y,z> = ProjectiveSpace(QQ,2)\n",
    "f = DynamicalSystem_projective([x^2 - 3/4*y^2, y^2 , z^2])\n",
    "X = f.preperiodic_points(1, 1, minimal=True, return_scheme=True)\n",
    "for i in X.rational_points():\n",
    "    print(i, i.multiplicity())\n",
    "print('-----------------')\n",
    "X = f.preperiodic_points(1,1,formal=True,return_scheme=True)\n",
    "for i in X.rational_points():\n",
    "    print(i.multiplicity())\n",
    "print(sum([i.multiplicity() for i in X.rational_points()]))"
   ]
  },
  {
   "cell_type": "code",
   "execution_count": 8,
   "metadata": {},
   "outputs": [
    {
     "data": {
      "text/plain": [
       "Closed subscheme of Projective Space of dimension 2 over Rational Field defined by:\n",
       "  16*x^4 - 8*x^2*y^2 + y^4 + 16*x^2*y*z + 16*x*y^2*z - 12*y^3*z + 16*x^2*z^2 + 16*x*y*z^2 + 4*y^2*z^2 + 16*z^4,\n",
       "  64*x^4*y - 96*x^2*y^3 - 64*x*y^4 - 12*y^5 - 64*x^4*z + 96*x^2*y^2*z + 28*y^4*z + 64*x*z^4 - 16*y*z^4,\n",
       "  -16*x^4*z + 24*x^2*y^2*z + 3*y^4*z + 16*x*z^4,\n",
       "  16*x^4*y - 24*x^2*y^3 - 16*x*y^4 - 3*y^5 - 16*y^4*z + 16*y*z^4,\n",
       "  -64*x^6 - 64*x^5*y + 80*x^4*y^2 + 96*x^3*y^3 - 12*x^2*y^4 - 36*x*y^5 - 9*y^6 - 128*x^4*y*z - 192*x^3*y^2*z + 144*x^2*y^3*z + 144*x*y^4*z - 36*y^5*z - 128*x^4*z^2 - 192*x^3*y*z^2 - 112*x^2*y^2*z^2 + 96*x*y^3*z^2 + 108*y^4*z^2 - 128*x^3*z^3 - 192*x^2*y*z^3 - 96*x*y^2*z^3 + 48*y^3*z^3 - 256*x^2*z^4 - 176*x*y*z^4 + 32*y^2*z^4 - 128*x*z^5 - 112*y*z^5 - 64*z^6,\n",
       "  29760*x^5 + 94592*x^4*y - 6880*x^3*y^2 - 124288*x^2*y^3 - 81132*x*y^4 - 15336*y^5 + 2688*x^4*z + 37760*x^3*y*z + 95488*x^2*y^2*z - 10720*x*y^3*z - 68056*y^4*z + 37760*x^3*z^2 + 99520*x^2*y*z^2 + 71200*x*y^2*z^2 - 28720*y^3*z^2 + 52160*x^2*z^3 + 52160*x*y*z^3 + 13040*y^2*z^3 + 79232*x*z^4 + 82992*y*z^4 + 44160*z^5,\n",
       "  256*x^7 + 448*x^6*y - 128*x^5*y^2 - 624*x^4*y^3 - 240*x^3*y^4 + 180*x^2*y^5 + 144*x*y^6 + 27*y^7 + 448*x^6*z + 768*x^5*y*z + 592*x^4*y^2*z - 384*x^3*y^3*z - 732*x^2*y^4*z + 171*y^6*z + 704*x^5*z^2 + 1856*x^4*y*z^2 + 2080*x^3*y^2*z^2 - 768*x^2*y^3*z^2 - 1620*x*y^4*z^2 - 36*y^5*z^2 + 1600*x^4*z^3 + 2496*x^3*y*z^3 + 1456*x^2*y^2*z^3 - 576*x*y^3*z^3 - 984*y^4*z^3 + 1920*x^3*z^4 + 2816*x^2*y*z^4 + 1072*x*y^2*z^4 - 432*y^3*z^4 + 2112*x^2*z^5 + 2112*x*y*z^5 + 112*y^2*z^5 + 960*x*z^6 + 1024*y*z^6 + 448*z^7,\n",
       "  3072*x^8 + 4608*x^7*y - 2880*x^6*y^2 - 7104*x^5*y^3 - 1008*x^4*y^4 + 2880*x^3*y^5 + 1188*x^2*y^6 - 108*x*y^7 - 81*y^8 + 7168*x^7*z + 10432*x^6*y*z + 3328*x^5*y^2*z - 10032*x^4*y^3*z - 8448*x^3*y^4*z + 3348*x^2*y^5*z + 2736*x*y^6*z - 405*y^7*z + 11008*x^6*z^2 + 25536*x^5*y*z^2 + 23104*x^4*y^2*z^2 - 19872*x^3*y^3*z^2 - 21648*x^2*y^4*z^2 + 5292*x*y^5*z^2 + 900*y^6*z^2 + 23552*x^5*z^3 + 36416*x^4*y*z^3 + 21952*x^3*y^2*z^3 - 17232*x^2*y^3*z^3 - 19584*x*y^4*z^3 + 3240*y^5*z^3 + 32512*x^4*z^4 + 42624*x^3*y*z^4 + 12736*x^2*y^2*z^4 - 12432*x*y^3*z^4 - 3936*y^4*z^4 + 37632*x^3*z^5 + 34688*x^2*y*z^5 + 64*x*y^2*z^5 - 2640*y^3*z^5 + 24576*x^2*z^6 + 21312*x*y*z^6 - 3008*y^2*z^6 + 11520*x*z^7 + 4096*y*z^7 + 2560*z^8,\n",
       "  -14336*x^9 - 36608*x^8*y - 12800*x^7*y^2 + 29952*x^6*y^3 + 34944*x^5*y^4 + 16992*x^4*y^5 - 2016*x^3*y^6 - 10800*x^2*y^7 - 6480*x*y^8 - 1215*y^9 - 59136*x^8*z - 145408*x^7*y*z - 89856*x^6*y^2*z + 99840*x^5*y^3*z + 121056*x^4*y^4*z + 4608*x^3*y^5*z - 21168*x^2*y^6*z - 8640*x*y^7*z - 7695*y^8*z - 151552*x^7*z^2 - 267264*x^6*y*z^2 - 287744*x^5*y^2*z^2 - 52608*x^4*y^3*z^2 + 173952*x^3*y^4*z^2 + 87552*x^2*y^5*z^2 + 11232*x*y^6*z^2 - 1080*y^7*z^2 - 271872*x^6*z^3 - 576512*x^5*y*z^3 - 663680*x^4*y^2*z^3 - 10752*x^3*y^3*z^3 + 382560*x^2*y^4*z^3 + 65088*x*y^5*z^3 + 27144*y^6*z^3 - 508160*x^5*z^4 - 873728*x^4*y*z^4 - 668288*x^3*y^2*z^4 + 37632*x^2*y^3*z^4 + 336048*x*y^4*z^4 + 21312*y^5*z^4 - 620288*x^4*z^5 - 1003520*x^3*y*z^5 - 535424*x^2*y^2*z^5 + 61440*x*y^3*z^5 + 97488*y^4*z^5 - 619008*x^3*z^6 - 800256*x^2*y*z^6 - 213120*x*y^2*z^6 - 2688*y^3*z^6 - 382976*x^2*z^7 - 449536*x*y*z^7 - 31232*y^2*z^7 - 178432*x*z^8 - 104960*y*z^8 - 45056*z^9,\n",
       "  -300025856*x^10 - 560653568*x^9*y + 42880000*x^8*y^2 + 607226112*x^7*y^3 + 362102784*x^6*y^4 + 32650272*x^5*y^5 - 80125056*x^4*y^6 - 108174960*x^3*y^7 - 57616920*x^2*y^8 - 8741925*x*y^9 + 656100*y^10 - 1419437312*x^9*z - 2753415936*x^8*y*z - 759416576*x^7*y^2*z + 2554764672*x^6*y^3*z + 1916758560*x^5*y^4*z - 327412800*x^4*y^5*z - 459226224*x^3*y^6*z - 165832920*x^2*y^7*z - 125142165*x*y^8*z - 6336225*y^9*z - 3592369408*x^8*z^2 - 6636524032*x^7*y*z^2 - 4821274880*x^6*y^2*z^2 + 3069194112*x^5*y^3*z^2 + 4784283168*x^4*y^4*z^2 + 55418400*x^3*y^5*z^2 - 478894896*x^2*y^6*z^2 - 84107160*x*y^7*z^2 - 64026045*y^8*z^2 - 6907830784*x^7*z^3 - 13380064256*x^6*y*z^3 - 12839810944*x^5*y^2*z^3 + 3363050880*x^4*y^3*z^3 + 9231310752*x^3*y^4*z^3 + 445523040*x^2*y^5*z^3 + 86963256*x*y^6*z^3 - 20034000*y^7*z^3 - 12382391552*x^6*z^4 - 21479399680*x^5*y*z^4 - 17045993728*x^4*y^2*z^4 + 4125955200*x^3*y^3*z^4 + 10582813488*x^2*y^4*z^4 + 171119520*x*y^5*z^4 + 161096184*y^6*z^4 - 17660059648*x^5*z^5 - 26457203968*x^4*y*z^5 - 14181647872*x^3*y^2*z^5 + 3585883392*x^2*y^3*z^5 + 5814266496*x*y^4*z^5 + 29881152*y^5*z^5 - 19230108416*x^4*z^6 - 24546876416*x^3*y*z^6 - 7681255424*x^2*y^2*z^6 + 1608705792*x*y^3*z^6 + 1226915568*y^4*z^6 - 15162781184*x^3*z^7 - 16549238272*x^2*y*z^7 - 2011379072*x*y^2*z^7 + 181097472*y^3*z^7 - 8304569088*x^2*z^8 - 7012525056*x*y*z^8 - 137311232*y^2*z^8 - 3119033088*x*z^9 - 1278533120*y*z^9 - 592388096*z^10,\n",
       "  10041344*x^10 + 14926592*x^9*y - 3374080*x^8*y^2 - 11720448*x^7*y^3 - 7182336*x^6*y^4 - 7243488*x^5*y^5 - 1339776*x^4*y^6 + 5078160*x^3*y^7 + 3165480*x^2*y^8 + 346275*x*y^9 - 72900*y^10 + 45671168*x^9*z + 86663424*x^8*y*z + 19837184*x^7*y^2*z - 81994368*x^6*y^3*z - 45385440*x^5*y^4*z + 10555200*x^4*y^5*z + 531216*x^3*y^6*z + 5705640*x^2*y^7*z + 7454835*x*y^8*z + 200475*y^9*z + 121622272*x^8*z^2 + 205823488*x^7*y*z^2 + 136682240*x^6*y^2*z^2 - 99036288*x^5*y^3*z^2 - 110332512*x^4*y^4*z^2 + 6654240*x^3*y^5*z^2 - 10079856*x^2*y^6*z^2 + 1765800*x*y^7*z^2 + 4022055*y^8*z^2 + 233360896*x^7*z^3 + 420998144*x^6*y*z^3 + 401712256*x^5*y^2*z^3 - 115274880*x^4*y^3*z^3 - 248178528*x^3*y^4*z^3 + 7601760*x^2*y^5*z^3 - 32150664*x*y^6*z^3 + 749520*y^7*z^3 + 425554688*x^6*z^4 + 684302080*x^5*y*z^4 + 547885312*x^4*y^2*z^4 - 139332480*x^3*y^3*z^4 - 327697872*x^2*y^4*z^4 + 16849440*x*y^5*z^4 - 17024616*y^6*z^4 + 611525632*x^5*z^5 + 852266752*x^4*y*z^5 + 454048768*x^3*y^2*z^5 - 111944448*x^2*y^3*z^5 - 186306624*x*y^4*z^5 + 4842432*y^5*z^5 + 671623424*x^4*z^6 + 794891264*x^3*y*z^6 + 239238656*x^2*y^2*z^6 - 37963008*x*y^3*z^6 - 39582672*y^4*z^6 + 535702016*x^3*z^7 + 544526848*x^2*y*z^7 + 46172288*x*y^2*z^7 + 4572672*y^3*z^7 + 294849792*x^2*z^8 + 233370624*x*y*z^8 - 1426432*y^2*z^8 + 112972032*x*z^9 + 39918080*y*z^9 + 21069824*z^10,\n",
       "  -8192*x^11 + 9216*x^10*y + 31744*x^9*y^2 - 25344*x^8*y^3 - 61440*x^7*y^4 + 8576*x^6*y^5 + 43904*x^5*y^6 + 3552*x^4*y^7 - 15840*x^3*y^8 - 4860*x^2*y^9 + 972*x*y^10 + 405*y^11 - 15360*x^10*z - 16384*x^9*y*z + 41216*x^8*y^2*z + 61440*x^7*y^3*z - 84096*x^6*y^4*z - 112128*x^5*y^5*z + 57056*x^4*y^6*z + 61440*x^3*y^7*z - 19836*x^2*y^8*z - 12960*x*y^9*z + 1377*y^10*z - 56320*x^9*z^2 - 34816*x^8*y*z^2 + 119808*x^7*y^2*z^2 + 123136*x^6*y^3*z^2 - 184448*x^5*y^4*z^2 - 236096*x^4*y^5*z^2 + 90944*x^3*y^6*z^2 + 114096*x^2*y^7*z^2 - 14652*x*y^8*z^2 - 8100*y^9*z^2 - 76800*x^8*z^3 - 90112*x^7*y*z^3 + 59136*x^6*y^2*z^3 + 228864*x^5*y^3*z^3 - 79936*x^4*y^4*z^3 - 335616*x^3*y^5*z^3 + 24656*x^2*y^6*z^3 + 127200*x*y^7*z^3 - 10656*y^8*z^3 - 163840*x^7*z^4 - 120832*x^6*y*z^4 + 123648*x^5*y^2*z^4 + 197120*x^4*y^3*z^4 - 31104*x^3*y^4*z^4 - 212288*x^2*y^5*z^4 - 39376*x*y^6*z^4 + 49392*y^7*z^4 - 210944*x^6*z^5 - 153600*x^5*y*z^5 + 137472*x^4*y^2*z^5 + 165888*x^3*y^3*z^5 - 47808*x^2*y^4*z^5 - 107136*x*y^5*z^5 - 7840*y^6*z^5 - 280576*x^5*z^6 - 131072*x^4*y*z^6 + 237312*x^3*y^2*z^6 + 76544*x^2*y^3*z^6 - 79744*x*y^4*z^6 - 19072*y^5*z^6 - 239616*x^4*z^7 - 126976*x^3*y*z^7 + 185856*x^2*y^2*z^7 + 81408*x*y^3*z^7 - 48896*y^4*z^7 - 172032*x^3*z^8 - 52224*x^2*y*z^8 + 98816*x*y^2*z^8 + 12544*y^3*z^8 - 76800*x^2*z^9 - 22528*x*y*z^9 + 34048*y^2*z^9 - 23552*x*z^10 + 2048*y*z^10 - 3072*z^11"
      ]
     },
     "execution_count": 8,
     "metadata": {},
     "output_type": "execute_result"
    }
   ],
   "source": [
    "P.<x,y,z> = ProjectiveSpace(QQ,2)\n",
    "f = DynamicalSystem_projective([x^2 - 3/4*y^2, y^2 , z^2])\n",
    "X, mat= formal_preperiodic_points(f, 0, 2)\n",
    "CR = P.coordinate_ring()\n",
    "subs_list = mat.inverse()*vector(CR.gens())\n",
    "subs = {}\n",
    "for i in range(len(subs_list)):\n",
    "    subs[P.gens()[i]] = subs_list[i]\n",
    "X1 = P.subscheme([poly.subs(subs) for poly in X.defining_polynomials()])\n",
    "#print([f.orbit(mat.inverse()*P(i),2) for i in f.preperiodic_points(0,2, formal=True)])\n",
    "#[(P(i)) for i in (X1.rational_points())]\n",
    "X = f.preperiodic_points(0,2,formal=True, return_scheme=True)\n",
    "X"
   ]
  },
  {
   "cell_type": "code",
   "execution_count": 10,
   "metadata": {},
   "outputs": [
    {
     "data": {
      "text/plain": [
       "False"
      ]
     },
     "execution_count": 10,
     "metadata": {},
     "output_type": "execute_result"
    }
   ],
   "source": [
    "X1 = f.preperiodic_points(1,1,minimal=False,return_scheme=True)\n",
    "X2 = f.preperiodic_points(1,1,formal=True,return_scheme=True)\n",
    "X1==X2"
   ]
  },
  {
   "cell_type": "code",
   "execution_count": 7,
   "metadata": {},
   "outputs": [
    {
     "data": {
      "text/plain": [
       "[(-1/2 : 3/2 : 1), (3/2 : -1/2 : 1), (-1/2 : -1/2 : 1)]"
      ]
     },
     "execution_count": 7,
     "metadata": {},
     "output_type": "execute_result"
    }
   ],
   "source": [
    "P.<x,y,z> = ProjectiveSpace(QQ,2)\n",
    "f = DynamicalSystem_projective([x^2 - 3/4*z^2, y^2 -3/4*z^2, z^2])\n",
    "f.periodic_points(2, formal=True)"
   ]
  },
  {
   "cell_type": "code",
   "execution_count": 1,
   "metadata": {},
   "outputs": [],
   "source": [
    "def formal_preperiodic_points(f, m, n):\n",
    "    CR = f.coordinate_ring()\n",
    "    dom = f.domain()\n",
    "    PS = f.codomain().ambient_space()\n",
    "    N = PS.dimension_relative() + 1\n",
    "    R = f.base_ring()\n",
    "    d = f.degree()\n",
    "    hyperplane_at_infinity = PS.subscheme(CR.gens()[-1])\n",
    "    d = f.degree()\n",
    "    F_1 = f.nth_iterate_map(n+m)\n",
    "    F_2 = f.nth_iterate_map(m)\n",
    "    L = [F_1[i]*F_2[j] - F_1[j]*F_2[i] for i in range(N)\n",
    "            for j in range(i+1, N)]\n",
    "    X = PS.subscheme(L + list(dom.defining_polynomials()))\n",
    "\n",
    "    # if a point of period m, n lies on the hyperplane at infinity,\n",
    "    # we must find a suitable hyperplane which contians no preperiodic points\n",
    "    # before deforming\n",
    "    if X.intersection(hyperplane_at_infinity).dimension() >= 0:\n",
    "        attempted_combinations = {}\n",
    "        hyperplane_found = False\n",
    "        from itertools import count, product\n",
    "        for height_bound in count(1):\n",
    "            coeff_lst = ZZ.range(height_bound)\n",
    "            for tup in product(coeff_lst, repeat=N):\n",
    "                if list(tup) != [0]*len(PS.gens()):\n",
    "                    if PS(tup) not in attempted_combinations:\n",
    "                        attempted_combinations[PS(tup)] = 0\n",
    "                        hyperplane = PS.subscheme(sum([tup[i]*PS.gens()[i] for i in range(N)]))\n",
    "                        if X.intersection(hyperplane).dimension() < 0:\n",
    "                            hyperplane_found = True\n",
    "                            break\n",
    "            if hyperplane_found:\n",
    "                break\n",
    "        source = PS.subscheme(CR.gens()[-1])\n",
    "        mat = PS.hyperplane_transformation_matrix(source, hyperplane)\n",
    "        new_f = f.conjugate(mat)\n",
    "    else:\n",
    "        new_f = f\n",
    "        mat = matrix.identity(N)\n",
    "\n",
    "    # we now deform by a parameter t\n",
    "    T = R['t']\n",
    "    t = T.gens()[0]\n",
    "    Pt = ProjectiveSpace(N-1, R=T, names = [str(i) for i in CR.gens()])\n",
    "    deformed_polys = [poly + t*Pt.gens()[-1]**d for poly in new_f.defining_polynomials()[:-1]]\n",
    "    deformed_polys += [new_f.defining_polynomials()[-1]]\n",
    "    f_deformed = DynamicalSystem(deformed_polys)\n",
    "    Ideal = f_deformed.preperiodic_points(m, n, return_scheme=True).defining_ideal()\n",
    "    L = [poly.specialization({t:0}) for poly in Ideal.gens()]\n",
    "    new_P = ProjectiveSpace(L[0].parent())\n",
    "    X = new_P.subscheme(L)\n",
    "    return X, mat"
   ]
  },
  {
   "cell_type": "code",
   "execution_count": 31,
   "metadata": {
    "scrolled": false
   },
   "outputs": [
    {
     "name": "stdout",
     "output_type": "stream",
     "text": [
      "Dynamical System of Projective Space of dimension 2 over Univariate Polynomial Ring in t over Rational Field\n",
      "  Defn: Defined on coordinates by sending (x : y : z) to\n",
      "        ((-2)*x^2 + t*z^2 : 3/2*x^2 + (-2)*y^2 + t*z^2 : (-3/2)*x^2 + 3*y^2 + 2*y*z + z^2)\n",
      "(1/2 : 1 : 0)\n",
      "True\n",
      "(1 : 0 : 0)\n",
      "False\n",
      "(0 : 0 : 1)\n",
      "False\n",
      "(-1 : 0 : 1)\n",
      "True\n",
      "(-3/2 : 1 : 0)\n",
      "True\n"
     ]
    }
   ],
   "source": [
    "P.<x,y,z> = ProjectiveSpace(QQ,2)\n",
    "f = DynamicalSystem_projective([x^2 - 3/4*y^2, y^2 , z^2])\n",
    "X, mat = formal_preperiodic_points(f, 1, 1)\n",
    "points = f.preperiodic_points(1, 1)\n",
    "for point in X.rational_points():\n",
    "    mult = point.multiplicity()\n",
    "    p = mat*P(point)\n",
    "    if mult > 1:\n",
    "        print(p)\n",
    "        print(p in points)"
   ]
  },
  {
   "cell_type": "code",
   "execution_count": 35,
   "metadata": {},
   "outputs": [
    {
     "name": "stdout",
     "output_type": "stream",
     "text": [
      "Dynamical System of Projective Space of dimension 2 over Univariate Polynomial Ring in t over Rational Field\n",
      "  Defn: Defined on coordinates by sending (x : y : z) to\n",
      "        ((-3/8)*x^2 + y^2 + (-1/4)*x*z + 2/3*y*z + (t + 7/24)*z^2 : (-27/8)*x^2 + 2*y^2 + (-9/4)*x*z + (t - 3/8)*z^2 : 81/8*x^2 + (-3)*y^2 + 27/4*x*z + (-2)*y*z + 1/8*z^2)\n",
      "(1 : 0 : 0)\n",
      "False\n",
      "(0 : 1 : 0)\n",
      "False\n",
      "(-1 : 1 : 0)\n",
      "True\n"
     ]
    }
   ],
   "source": [
    "P.<x,y,z> = ProjectiveSpace(QQ,2)\n",
    "f = DynamicalSystem_projective([x^2 - 3/4*z^2, y^2 - 3/4*z^2, z^2])\n",
    "X, mat = formal_preperiodic_points(f, 1, 1)\n",
    "points = [point for point in f.preperiodic_points(1, 1, return_scheme=True).rational_points() if point.multiplicity() > 1]\n",
    "for point in X.rational_points():\n",
    "    mult = point.multiplicity()\n",
    "    p = mat*P(point)\n",
    "    if mult > 1:\n",
    "        print(p)\n",
    "        print(p in points)"
   ]
  },
  {
   "cell_type": "code",
   "execution_count": 46,
   "metadata": {
    "scrolled": false
   },
   "outputs": [
    {
     "name": "stdout",
     "output_type": "stream",
     "text": [
      "[(-1/2 : 3/2 : 1), (3/2 : -1/2 : 1), (-1/2 : -1/2 : 1)]\n"
     ]
    },
    {
     "data": {
      "text/plain": [
       "[(-1/2 : -1/2 : 1), (-1/2 : 3/2 : 1), (3/2 : -1/2 : 1)]"
      ]
     },
     "execution_count": 46,
     "metadata": {},
     "output_type": "execute_result"
    }
   ],
   "source": [
    "P.<x,y,z> = ProjectiveSpace(QQ,2)\n",
    "f = DynamicalSystem_projective([x^2 - 3/4*z^2, y^2 - 3/4*z^2, z^2])\n",
    "X, mat = formal_periodic_points(f, 2)\n",
    "CR = P.coordinate_ring()\n",
    "subs_list = mat.inverse()*vector([x,y,z])\n",
    "subs = {}\n",
    "for i in range(len(subs_list)):\n",
    "    subs[P.gens()[i]] = subs_list[i]\n",
    "X1 = P.subscheme([poly.subs(subs) for poly in X.defining_polynomials()])\n",
    "print(f.periodic_points(2, formal=True))\n",
    "[(P(i)) for i in (X1.rational_points())]"
   ]
  },
  {
   "cell_type": "code",
   "execution_count": 23,
   "metadata": {},
   "outputs": [],
   "source": [
    "def formal_periodic_points(f, n):\n",
    "    CR = f.coordinate_ring()\n",
    "    dom = f.domain()\n",
    "    PS = f.codomain().ambient_space()\n",
    "    N = PS.dimension_relative() + 1\n",
    "    R = f.base_ring()\n",
    "    d = f.degree()\n",
    "    hyperplane_at_infinity = PS.subscheme(CR.gens()[-1])\n",
    "    d = f.degree()\n",
    "    F = f.nth_iterate_map(n)\n",
    "    L = [F[i]*CR.gen(j) - F[j]*CR.gen(i) for i in range(N)\n",
    "                 for j in range(i+1, N)]\n",
    "    X = PS.subscheme(L + list(dom.defining_polynomials()))\n",
    "\n",
    "    # if a point of period m, n lies on the hyperplane at infinity,\n",
    "    # we must find a suitable hyperplane which contians no preperiodic points\n",
    "    # before deforming\n",
    "    if X.intersection(hyperplane_at_infinity).dimension() >= 0:\n",
    "        attempted_combinations = {}\n",
    "        hyperplane_found = False\n",
    "        from itertools import count, product\n",
    "        for height_bound in count(1):\n",
    "            coeff_lst = ZZ.range(height_bound)\n",
    "            for tup in product(coeff_lst, repeat=N):\n",
    "                if list(tup) != [0]*len(PS.gens()):\n",
    "                    if PS(tup) not in attempted_combinations:\n",
    "                        attempted_combinations[PS(tup)] = 0\n",
    "                        hyperplane = PS.subscheme(sum([tup[i]*PS.gens()[i] for i in range(N)]))\n",
    "                        if X.intersection(hyperplane).dimension() < 0:\n",
    "                            hyperplane_found = True\n",
    "                            break\n",
    "            if hyperplane_found:\n",
    "                break\n",
    "        source = PS.subscheme(CR.gens()[-1])\n",
    "        mat = PS.hyperplane_transformation_matrix(source, hyperplane)\n",
    "        new_f = f.conjugate(mat)\n",
    "    else:\n",
    "        new_f = f\n",
    "        mat = matrix.identity(N)\n",
    "\n",
    "    # we now deform by a parameter t\n",
    "    T = R['t']\n",
    "    t = T.gens()[0]\n",
    "    Pt = ProjectiveSpace(N-1, R=T, names = [str(i) for i in CR.gens()])\n",
    "    deformed_polys = [poly + t*Pt.gens()[-1]**d for poly in new_f.defining_polynomials()[:-1]]\n",
    "    deformed_polys += [new_f.defining_polynomials()[-1]]\n",
    "    f_deformed = DynamicalSystem(deformed_polys)\n",
    "    Ideal = f_deformed.periodic_points(n, return_scheme=True).defining_ideal()\n",
    "    L = [poly.specialization({t:0}) for poly in Ideal.gens()]\n",
    "    new_P = ProjectiveSpace(L[0].parent())\n",
    "    X = new_P.subscheme(L)\n",
    "    return X, mat"
   ]
  },
  {
   "cell_type": "code",
   "execution_count": 8,
   "metadata": {},
   "outputs": [
    {
     "data": {
      "text/plain": [
       "[(-1/2 : 1), (1 : 0)]"
      ]
     },
     "execution_count": 8,
     "metadata": {},
     "output_type": "execute_result"
    }
   ],
   "source": [
    "P.<x,y> = ProjectiveSpace(QQ, 1)\n",
    "f = DynamicalSystem_projective([x^2 + 1/4*y^2, y^2])\n",
    "f.preperiodic_points(1, 1, formal=True)"
   ]
  },
  {
   "cell_type": "code",
   "execution_count": 2,
   "metadata": {},
   "outputs": [
    {
     "data": {
      "text/plain": [
       "(1/4) * y * (2*x + y)^2"
      ]
     },
     "execution_count": 2,
     "metadata": {},
     "output_type": "execute_result"
    }
   ],
   "source": [
    "f.dynatomic_polynomial((1,1)).factor()"
   ]
  },
  {
   "cell_type": "code",
   "execution_count": 3,
   "metadata": {},
   "outputs": [
    {
     "data": {
      "text/plain": [
       "[(-1/2 : 1), (1/2 : 1), (1 : 0)]"
      ]
     },
     "execution_count": 3,
     "metadata": {},
     "output_type": "execute_result"
    }
   ],
   "source": [
    "f.preperiodic_points(1, 1, minimal=False)"
   ]
  },
  {
   "cell_type": "code",
   "execution_count": 6,
   "metadata": {},
   "outputs": [
    {
     "data": {
      "text/plain": [
       "[(-1/2 : 1)]"
      ]
     },
     "execution_count": 6,
     "metadata": {},
     "output_type": "execute_result"
    }
   ],
   "source": [
    "P.<x,y> = ProjectiveSpace(QQ, 1)\n",
    "f = DynamicalSystem_projective([x^2 - 3/4*y^2, y^2])\n",
    "f.preperiodic_points(0, 2, formal=True)"
   ]
  },
  {
   "cell_type": "code",
   "execution_count": 5,
   "metadata": {},
   "outputs": [
    {
     "data": {
      "text/plain": [
       "(1/4) * (2*x + y)^2"
      ]
     },
     "execution_count": 5,
     "metadata": {},
     "output_type": "execute_result"
    }
   ],
   "source": [
    "f.dynatomic_polynomial((0,2)).factor()"
   ]
  },
  {
   "cell_type": "code",
   "execution_count": 11,
   "metadata": {},
   "outputs": [],
   "source": [
    "X = f.periodic_points(2, return_scheme=True)\n",
    "X.rational_points?"
   ]
  },
  {
   "cell_type": "code",
   "execution_count": null,
   "metadata": {},
   "outputs": [],
   "source": []
  }
 ],
 "metadata": {
  "kernelspec": {
   "display_name": "SageMath 9.4.beta1",
   "language": "sage",
   "name": "sagemath"
  },
  "language_info": {
   "codemirror_mode": {
    "name": "ipython",
    "version": 3
   },
   "file_extension": ".py",
   "mimetype": "text/x-python",
   "name": "python",
   "nbconvert_exporter": "python",
   "pygments_lexer": "ipython3",
   "version": "3.7.3"
  }
 },
 "nbformat": 4,
 "nbformat_minor": 4
}
