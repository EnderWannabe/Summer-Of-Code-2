{
 "cells": [
  {
   "cell_type": "code",
   "execution_count": 77,
   "metadata": {},
   "outputs": [
    {
     "data": {
      "text/plain": [
       "Dynamical System of Projective Space of dimension 2 over Rational Field\n",
       "  Defn: Defined on coordinates by sending (x : y : z) to\n",
       "        (x^2 - 3/4*z^2 : y^2 - 3/4*z^2 : z^2)"
      ]
     },
     "execution_count": 77,
     "metadata": {},
     "output_type": "execute_result"
    }
   ],
   "source": [
    "P.<x,y,z> = ProjectiveSpace(QQ,2)\n",
    "f = DynamicalSystem_projective([x^2 - 3/4*z^2, y^2 - 3/4*z^2, z^2])\n",
    "f"
   ]
  },
  {
   "cell_type": "code",
   "execution_count": 78,
   "metadata": {
    "scrolled": false
   },
   "outputs": [
    {
     "data": {
      "text/plain": [
       "[(-1/2 : -1/2 : 1),\n",
       " (-1/2 : 3/2 : 1),\n",
       " (0 : 1 : 0),\n",
       " (1 : 0 : 0),\n",
       " (1 : 1 : 0),\n",
       " (3/2 : -1/2 : 1),\n",
       " (3/2 : 3/2 : 1)]"
      ]
     },
     "execution_count": 78,
     "metadata": {},
     "output_type": "execute_result"
    }
   ],
   "source": [
    "CR = f.coordinate_ring()\n",
    "dom = f.domain()\n",
    "PS = f.codomain().ambient_space()\n",
    "N = PS.dimension_relative() + 1\n",
    "R = f.base_ring()\n",
    "n = f.degree()\n",
    "T.<t> = R[]\n",
    "Pt = ProjectiveSpace(N-1, R=T, names = [str(i) for i in CR.gens()])\n",
    "deformed_polys = [poly + t*Pt.gens()[-1]^n for poly in f.defining_polynomials()[:-1]] + [f.defining_polynomials()[-1]]\n",
    "f_deformed = DynamicalSystem(deformed_polys)\n",
    "Ideal = f_deformed.periodic_points(1, return_scheme = True).defining_ideal()\n",
    "from sage.rings.polynomial.flatten import FlatteningMorphism\n",
    "phi = FlatteningMorphism(Pt.coordinate_ring())\n",
    "CR2 = phi.codomain()\n",
    "reduce_ideal = CR2.ideal([phi(F) for F in Ideal.gens()])\n",
    "L = [poly.specialization({t:0}) for poly in reduce_ideal.gens()]\n",
    "new_P = ProjectiveSpace(L[0].parent())\n",
    "X = new_P.subscheme(L)\n",
    "X.rational_points()"
   ]
  },
  {
   "cell_type": "code",
   "execution_count": 53,
   "metadata": {
    "scrolled": true
   },
   "outputs": [
    {
     "data": {
      "text/plain": [
       "[(0 : 1), (1 : 0), (1 : 1)]"
      ]
     },
     "execution_count": 53,
     "metadata": {},
     "output_type": "execute_result"
    }
   ],
   "source": [
    "P.<x,y> = ProjectiveSpace(QQ,1)\n",
    "X = P.subscheme([x^2*y - x*y^2])\n",
    "X(QQ).points()"
   ]
  },
  {
   "cell_type": "code",
   "execution_count": 1,
   "metadata": {},
   "outputs": [
    {
     "data": {
      "text/plain": [
       "Dynamical System of Projective Space of dimension 2 over Rational Field\n",
       "  Defn: Defined on coordinates by sending (x : y : z) to\n",
       "        (x^2 - 3/4*y^2 : y^2 : z^2)"
      ]
     },
     "execution_count": 1,
     "metadata": {},
     "output_type": "execute_result"
    }
   ],
   "source": [
    "P.<x,y,z> = ProjectiveSpace(QQ,2)\n",
    "f = DynamicalSystem_projective([x^2 - 3/4*y^2, y^2 , z^2])\n",
    "f"
   ]
  },
  {
   "cell_type": "code",
   "execution_count": 37,
   "metadata": {},
   "outputs": [],
   "source": [
    "def formal_periodic_points(f):\n",
    "    CR = f.coordinate_ring()\n",
    "    dom = f.domain()\n",
    "    PS = f.codomain().ambient_space()\n",
    "    N = PS.dimension_relative() + 1\n",
    "    R = f.base_ring()\n",
    "    n = f.degree()\n",
    "    T.<t> = R[]\n",
    "    Pt = ProjectiveSpace(N-1, R=T, names = [str(i) for i in CR.gens()])\n",
    "    deformed_polys = [poly + t*Pt.gens()[-1]^n for poly in f.defining_polynomials()[:-1]] + [f.defining_polynomials()[-1]]\n",
    "    f_deformed = DynamicalSystem(deformed_polys)\n",
    "    Ideal = f_deformed.periodic_points(2, return_scheme = True).defining_ideal()\n",
    "    from sage.rings.polynomial.flatten import FlatteningMorphism\n",
    "    phi = FlatteningMorphism(Pt.coordinate_ring())\n",
    "    CR2 = phi.codomain()\n",
    "    reduce_ideal = CR2.ideal([phi(F) for F in Ideal.gens()])\n",
    "    L = [poly.specialization({t:0}) for poly in reduce_ideal.gens()]\n",
    "    new_P = ProjectiveSpace(L[0].parent())\n",
    "    X = new_P.subscheme(L)\n",
    "    for Q in X.rational_points():\n",
    "        print(Q, Q.multiplicity())"
   ]
  },
  {
   "cell_type": "code",
   "execution_count": 73,
   "metadata": {
    "scrolled": true
   },
   "outputs": [
    {
     "name": "stdout",
     "output_type": "stream",
     "text": [
      "[ 0 -1  0]\n",
      "[-1  0  0]\n",
      "[ 0  1 -1]\n",
      "Dynamical System of Projective Space of dimension 2 over Rational Field\n",
      "  Defn: Defined on coordinates by sending (x : y : z) to\n",
      "        (-x^2 : 3/4*x^2 - y^2 : 3/4*x^2 - 2*y^2 + 2*y*z - z^2)\n",
      "(-2 : 1 : 1) 2\n",
      "(2 : -1 : 1) 2\n",
      "False\n"
     ]
    }
   ],
   "source": [
    "P.<x,y,z> = ProjectiveSpace(QQ,2)\n",
    "f = DynamicalSystem_projective([x^2 - 3/4*y^2, y^2 , z^2])\n",
    "periodic_scheme = f.periodic_points(2, minimal=False, return_scheme=True)\n",
    "attempted_combinations = {}\n",
    "hyperplane_found = False\n",
    "from itertools import count, product\n",
    "for height_bound in count(1):\n",
    "    coeff_lst = ZZ.range(height_bound)\n",
    "    for tup in product(coeff_lst, repeat=len(P.gens())):\n",
    "        if list(tup) != [0]*len(P.gens()):\n",
    "            if P(tup) not in attempted_combinations:\n",
    "                attempted_combinations[P(tup)] = 0\n",
    "                hyperplane = P.subscheme(tup[0]*x + tup[1]*y + tup[2]*z)\n",
    "                X = periodic_scheme.intersection(hyperplane)\n",
    "                if X.dimension() < 0:\n",
    "                    hyperplane_found = True\n",
    "                    break\n",
    "    if hyperplane_found:\n",
    "        break\n",
    "source = P.subscheme(P.gens()[-1])\n",
    "m = P.hyperplane_transformation_matrix(source, hyperplane)\n",
    "print(m)\n",
    "new_f = f.conjugate(m)\n",
    "print(new_f)\n",
    "formal_periodic_points(new_f)\n",
    "print(new_f == f)"
   ]
  },
  {
   "cell_type": "code",
   "execution_count": 48,
   "metadata": {
    "scrolled": false
   },
   "outputs": [
    {
     "data": {
      "text/plain": [
       "[]"
      ]
     },
     "execution_count": 48,
     "metadata": {},
     "output_type": "execute_result"
    }
   ],
   "source": [
    "periodic_scheme = f.periodic_points(1, return_scheme=True)\n",
    "hyperplane = P.subscheme(x + 2*y + 3*z)\n",
    "X = periodic_scheme.intersection(hyperplane)\n",
    "X.rational_points(F=QQbar)"
   ]
  },
  {
   "cell_type": "code",
   "execution_count": 68,
   "metadata": {},
   "outputs": [],
   "source": [
    "for point in f.periodic_points(2, minimal=False):\n",
    "    try:\n",
    "        hyperplane(point)\n",
    "        print(point)\n",
    "    except:\n",
    "        pass"
   ]
  },
  {
   "cell_type": "code",
   "execution_count": 66,
   "metadata": {},
   "outputs": [
    {
     "name": "stdout",
     "output_type": "stream",
     "text": [
      "(-2 : 1 : 0) 3\n",
      "(-1 : -3/2 : 1) 1\n",
      "(-1 : 1/2 : 1) 3\n",
      "(0 : 0 : 1) 1\n",
      "(0 : 1 : 0) 1\n",
      "(0 : 1 : 1) 1\n",
      "(2/3 : 1 : 0) 1\n"
     ]
    }
   ],
   "source": [
    "X = new_f.periodic_points(2, minimal=False, return_scheme=True)\n",
    "for i in X.rational_points():\n",
    "    print(i, i.multiplicity())"
   ]
  },
  {
   "cell_type": "code",
   "execution_count": 1,
   "metadata": {
    "scrolled": false
   },
   "outputs": [
    {
     "data": {
      "text/plain": [
       "[(-1/2 : 1 : 0), (-1/2 : 1 : 1)]"
      ]
     },
     "execution_count": 1,
     "metadata": {},
     "output_type": "execute_result"
    }
   ],
   "source": [
    "P.<x,y,z> = ProjectiveSpace(QQ,2)\n",
    "f = DynamicalSystem_projective([x^2 - 3/4*y^2, y^2 , z^2])\n",
    "f.periodic_points(2, formal=True)"
   ]
  },
  {
   "cell_type": "code",
   "execution_count": 6,
   "metadata": {},
   "outputs": [
    {
     "data": {
      "text/plain": [
       "[(-1/2 : 1)]"
      ]
     },
     "execution_count": 6,
     "metadata": {},
     "output_type": "execute_result"
    }
   ],
   "source": [
    "P.<x,y> = ProjectiveSpace(QQ,1)\n",
    "f = DynamicalSystem_projective([x^2 - 3/4*y^2, y^2])\n",
    "f.periodic_points(2, formal=True)"
   ]
  },
  {
   "cell_type": "code",
   "execution_count": 7,
   "metadata": {},
   "outputs": [
    {
     "data": {
      "text/plain": [
       "[(-1/2 : 3/2 : 1), (3/2 : -1/2 : 1), (-1/2 : -1/2 : 1)]"
      ]
     },
     "execution_count": 7,
     "metadata": {},
     "output_type": "execute_result"
    }
   ],
   "source": [
    "P.<x,y,z> = ProjectiveSpace(QQ,2)\n",
    "f = DynamicalSystem_projective([x^2 - 3/4*z^2, y^2 -3/4*z^2, z^2])\n",
    "f.periodic_points(2, formal=True)"
   ]
  },
  {
   "cell_type": "code",
   "execution_count": null,
   "metadata": {},
   "outputs": [],
   "source": []
  }
 ],
 "metadata": {
  "kernelspec": {
   "display_name": "SageMath 9.4.beta1",
   "language": "sage",
   "name": "sagemath"
  },
  "language_info": {
   "codemirror_mode": {
    "name": "ipython",
    "version": 3
   },
   "file_extension": ".py",
   "mimetype": "text/x-python",
   "name": "python",
   "nbconvert_exporter": "python",
   "pygments_lexer": "ipython3",
   "version": "3.7.3"
  }
 },
 "nbformat": 4,
 "nbformat_minor": 4
}
