{
 "cells": [
  {
   "cell_type": "code",
   "execution_count": 1,
   "metadata": {},
   "outputs": [
    {
     "data": {
      "text/plain": [
       "[10  4]\n",
       "[10  1]"
      ]
     },
     "execution_count": 1,
     "metadata": {},
     "output_type": "execute_result"
    }
   ],
   "source": [
    "sage: P.<a,b> = ProjectiveSpace(GF(13),1)\n",
    "            sage: points_source = [P([-6,7]), P([1,4]), P([3,2])]\n",
    "            sage: points_target = [P([-1,2]), P([0,2]), P([-1,6])]\n",
    "            sage: P.point_transformation_matrix(points_source, points_target)"
   ]
  },
  {
   "cell_type": "code",
   "execution_count": 2,
   "metadata": {},
   "outputs": [],
   "source": [
    "P.point_transformation_matrix??"
   ]
  },
  {
   "cell_type": "code",
   "execution_count": 3,
   "metadata": {},
   "outputs": [
    {
     "data": {
      "text/plain": [
       "[-0.220338983050841  -2.16949152542374 -0.423728813559330]\n",
       "[  3.03954802259888  0.135593220338984  0.146892655367236]\n",
       "[-0.762711864406775  -3.32203389830510   1.00000000000000]"
      ]
     },
     "execution_count": 3,
     "metadata": {},
     "output_type": "execute_result"
    }
   ],
   "source": [
    "P1.<a,b,c>=ProjectiveSpace(RR, 2)\n",
    "points_source=[P1([1,4,1]),P1([1,2,2]),P1([3,5,1]),P1([1,-1,1])]\n",
    "points_target=[P1([5,-2,7]),P1([3,-2,3]),P1([6,-5,9]), P1([3,6,7])]\n",
    "P1.point_transformation_matrix(points_source, points_target)"
   ]
  },
  {
   "cell_type": "code",
   "execution_count": 1,
   "metadata": {},
   "outputs": [
    {
     "data": {
      "text/plain": [
       "[ -507 -4992  -975]\n",
       "[ 6994   312   338]\n",
       "[-1755 -7644  2301]"
      ]
     },
     "execution_count": 1,
     "metadata": {},
     "output_type": "execute_result"
    }
   ],
   "source": [
    "P1.<a,b,c>=ProjectiveSpace(ZZ, 2)\n",
    "points_source=[P1([1,4,1]),P1([1,2,2]),P1([3,5,1]),P1([1,-1,1])]\n",
    "points_target=[P1([5,-2,7]),P1([3,-2,3]),P1([6,-5,9]), P1([3,6,7])]\n",
    "P1.point_transformation_matrix(points_source, points_target)"
   ]
  },
  {
   "cell_type": "code",
   "execution_count": 2,
   "metadata": {},
   "outputs": [
    {
     "data": {
      "text/plain": [
       "[-13/30 -64/15   -5/6]\n",
       "[269/45   4/15  13/45]\n",
       "[  -3/2 -98/15  59/30]"
      ]
     },
     "execution_count": 2,
     "metadata": {},
     "output_type": "execute_result"
    }
   ],
   "source": [
    "sage: P1.<a,b,c>=ProjectiveSpace(ZZ, 2)\n",
    "            sage: points_source=[P1([1,4,1]),P1([1,2,2]),P1([3,5,1]),P1([1,-1,1])]\n",
    "            sage: points_target=[P1([5,-2,7]),P1([3,-2,3]),P1([6,-5,9]), P1([3,6,7])]\n",
    "            sage: P1.point_transformation_matrix(points_source, points_target, normalize=False)"
   ]
  },
  {
   "cell_type": "code",
   "execution_count": 4,
   "metadata": {},
   "outputs": [
    {
     "data": {
      "text/plain": [
       "[           48*t + 84           -12*t - 21]\n",
       "[-96*t^2 - 28*t - 420      144*t^2 - 318*t]"
      ]
     },
     "execution_count": 4,
     "metadata": {},
     "output_type": "execute_result"
    }
   ],
   "source": [
    "sage: R.<t> = ZZ[]\n",
    "            sage: P.<a,b> = ProjectiveSpace(R,1)\n",
    "            sage: points_source = [P([-6*t,7]), P([1,4]), P([3,2])]\n",
    "            sage: points_target = [P([-1,2*t]), P([0,2]), P([-1,6])]\n",
    "            sage: P.point_transformation_matrix(points_source, points_target)\n"
   ]
  },
  {
   "cell_type": "code",
   "execution_count": null,
   "metadata": {},
   "outputs": [],
   "source": []
  }
 ],
 "metadata": {
  "kernelspec": {
   "display_name": "SageMath 9.4.beta0",
   "language": "sage",
   "name": "sagemath"
  },
  "language_info": {
   "codemirror_mode": {
    "name": "ipython",
    "version": 3
   },
   "file_extension": ".py",
   "mimetype": "text/x-python",
   "name": "python",
   "nbconvert_exporter": "python",
   "pygments_lexer": "ipython3",
   "version": "3.7.3"
  }
 },
 "nbformat": 4,
 "nbformat_minor": 4
}
