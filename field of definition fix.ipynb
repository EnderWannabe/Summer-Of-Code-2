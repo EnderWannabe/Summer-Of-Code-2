{
 "cells": [
  {
   "cell_type": "code",
   "execution_count": 8,
   "metadata": {},
   "outputs": [
    {
     "data": {
      "text/plain": [
       "(Rational Field, Identity endomorphism of Rational Field)"
      ]
     },
     "execution_count": 8,
     "metadata": {},
     "output_type": "execute_result"
    }
   ],
   "source": [
    "A.<x> = AffineSpace(QQ,1)\n",
    "f = DynamicalSystem_affine(x^2 + x + 1)\n",
    "F = f.homogenize(1)\n",
    "F.field_of_definition_critical(2)"
   ]
  },
  {
   "cell_type": "code",
   "execution_count": 1,
   "metadata": {},
   "outputs": [
    {
     "data": {
      "text/plain": [
       "Number Field in a with defining polynomial x^2 + x - 1"
      ]
     },
     "execution_count": 1,
     "metadata": {},
     "output_type": "execute_result"
    }
   ],
   "source": [
    "A.<x> = AffineSpace(QQ,1)\n",
    "f = DynamicalSystem_affine(x^2 + x + 1)\n",
    "F = f.homogenize(1)\n",
    "F.field_of_definition_preimage(2,1)"
   ]
  },
  {
   "cell_type": "code",
   "execution_count": 1,
   "metadata": {},
   "outputs": [
    {
     "data": {
      "text/plain": [
       "Number Field in a with defining polynomial x^2 + 1"
      ]
     },
     "execution_count": 1,
     "metadata": {},
     "output_type": "execute_result"
    }
   ],
   "source": [
    "sage: A.<x> = AffineSpace(QQ,1)\n",
    "            sage: f = DynamicalSystem_affine(x^2 + x + 1)\n",
    "            sage: F = f.homogenize(1)\n",
    "            sage: F.field_of_definition_periodic(1)"
   ]
  },
  {
   "cell_type": "code",
   "execution_count": null,
   "metadata": {},
   "outputs": [],
   "source": []
  }
 ],
 "metadata": {
  "kernelspec": {
   "display_name": "SageMath 9.4.beta0",
   "language": "sage",
   "name": "sagemath"
  },
  "language_info": {
   "codemirror_mode": {
    "name": "ipython",
    "version": 3
   },
   "file_extension": ".py",
   "mimetype": "text/x-python",
   "name": "python",
   "nbconvert_exporter": "python",
   "pygments_lexer": "ipython3",
   "version": "3.9.2"
  }
 },
 "nbformat": 4,
 "nbformat_minor": 4
}
