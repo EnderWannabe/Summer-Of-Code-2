{
 "cells": [
  {
   "cell_type": "code",
   "execution_count": 13,
   "metadata": {
    "scrolled": false
   },
   "outputs": [
    {
     "data": {
      "text/plain": [
       "True"
      ]
     },
     "execution_count": 13,
     "metadata": {},
     "output_type": "execute_result"
    }
   ],
   "source": [
    "P.<x,y,z>=ProjectiveSpace(ZZ,2)\n",
    "f=DynamicalSystem([x^2-2*y^2,y^2,z^2])\n",
    "X = f.periodic_points(2,minimal=False,formal=True, return_scheme=True)\n",
    "Y = f.change_ring(QQ).periodic_points(2,minimal=False,formal=True, return_scheme=True)\n",
    "Y.rational_points(F=QQbar) == X.rational_points(F=QQbar)"
   ]
  },
  {
   "cell_type": "code",
   "execution_count": 1,
   "metadata": {},
   "outputs": [
    {
     "data": {
      "text/plain": [
       "[ 0 -2  0]\n",
       "[-2  0  0]\n",
       "[ 0  1  1]"
      ]
     },
     "execution_count": 1,
     "metadata": {},
     "output_type": "execute_result"
    }
   ],
   "source": [
    "P.<x,y,z>=ProjectiveSpace(ZZ,2)\n",
    "points_source = [P(1 , 0, 0), P(0 , 1 , 0), P(0 , 0 , 1), P(1 , -1 , -1)]\n",
    "points_target = [P(0 , 1 , 0), P(-2 , 0 , 1), P(0 , 0 , 1), P(1 , -1 , -1)]\n",
    "P.point_transformation_matrix(points_source,points_target,normalize=True)"
   ]
  },
  {
   "cell_type": "code",
   "execution_count": 69,
   "metadata": {
    "scrolled": true
   },
   "outputs": [
    {
     "name": "stdout",
     "output_type": "stream",
     "text": [
      "Dynamical System of Projective Space of dimension 2 over Integer Ring\n",
      "  Defn: Defined on coordinates by sending (x : y : z) to\n",
      "        (-2*x^2 : 4*x^2 - 2*y^2 : -4*x^2 + 3*y^2 + 2*y*z + z^2)\n",
      "19\n"
     ]
    }
   ],
   "source": [
    "from itertools import count, product\n",
    "n = 2\n",
    "CR = f.coordinate_ring()\n",
    "dom = f.domain()\n",
    "PS = f.codomain().ambient_space()\n",
    "R = f.base_ring()\n",
    "N = PS.dimension_relative() + 1\n",
    "F = f.nth_iterate_map(n)\n",
    "L = [F[i]*CR.gen(j) - F[j]*CR.gen(i) for i in range(N)\n",
    "    for j in range(i+1, N)]\n",
    "L = [t for t in L if t != 0]\n",
    "X = PS.subscheme(L)\n",
    "if N > 2:\n",
    "    hyperplane_at_infinity = PS.subscheme(CR.gens()[-1])\n",
    "    d = f.degree()\n",
    "\n",
    "    # if a point of period n lies on the hyperplane at infinity,\n",
    "    # we must find a suitable hyperplane which contians no periodic points\n",
    "    # before deforming\n",
    "    FF = FractionField(R)\n",
    "    if X.intersection(hyperplane_at_infinity).change_ring(FF).dimension() >= 0:\n",
    "        attempted_combinations = {}\n",
    "        hyperplane_found = False\n",
    "        for height_bound in count(1):\n",
    "            coeff_lst = ZZ.range(height_bound)\n",
    "            for tup in product(coeff_lst, repeat=N):\n",
    "                if list(tup) != [0]*len(PS.gens()):\n",
    "                    if PS(tup) not in attempted_combinations:\n",
    "                        attempted_combinations[PS(tup)] = 0\n",
    "                        hyperplane = PS.subscheme(sum([tup[i]*PS.gens()[i] for i in range(N)]))\n",
    "                        if X.intersection(hyperplane).change_ring(FF).dimension() < 0:\n",
    "                            hyperplane_found = True\n",
    "                            break\n",
    "            if hyperplane_found:\n",
    "                break\n",
    "        source = PS.subscheme(CR.gens()[-1])\n",
    "        mat = PS.hyperplane_transformation_matrix(source, hyperplane)\n",
    "        new_f = f.conjugate(mat)\n",
    "    else:\n",
    "        new_f = f\n",
    "        mat = matrix.identity(N)\n",
    "\n",
    "    print(new_f)\n",
    "    # we now deform by a parameter t\n",
    "    T = R['t']\n",
    "    t = T.gens()[0]\n",
    "    Pt = ProjectiveSpace(N-1, R=T, names = [str(i) for i in CR.gens()])\n",
    "    deformed_polys = [poly + t*Pt.gens()[-1]**d for poly in new_f.defining_polynomials()[:-1]]\n",
    "    deformed_polys += [new_f.defining_polynomials()[-1]]\n",
    "    f_deformed = DynamicalSystem(deformed_polys)\n",
    "\n",
    "    # after deforming by the parameter, the preperiodic points with multiplicity\n",
    "    # will seperate into different points. we can now calculate the minimal preperiodic\n",
    "    # points with the parameter, and then specialize to get the formal periodic points\n",
    "    ideal = f_deformed.periodic_points(n, return_scheme=True).defining_ideal()\n",
    "    L = [poly.specialization({t:0}) for poly in ideal.gens()]\n",
    "    print(len(L))\n",
    "    subs_list = mat.inverse()*vector(CR.gens())\n",
    "    subs = {}\n",
    "    for i in range(len(subs_list)):\n",
    "        subs[PS.gens()[i]] = subs_list[i]\n",
    "    if R.is_field():\n",
    "        X = PS.subscheme([poly.subs(subs) for poly in L])\n",
    "    else:\n",
    "        K = [poly.subs(subs) for poly in L]\n",
    "        K = [poly*poly.denominator() for poly in K]\n",
    "        X = PS.subscheme(K)"
   ]
  },
  {
   "cell_type": "code",
   "execution_count": 17,
   "metadata": {},
   "outputs": [
    {
     "data": {
      "text/plain": [
       "2"
      ]
     },
     "execution_count": 17,
     "metadata": {},
     "output_type": "execute_result"
    }
   ],
   "source": [
    "K.<a,b,c> = QQ[]\n",
    "temp = a^2 + 1/2*b^2+ c^2\n",
    "temp.denominator()"
   ]
  },
  {
   "cell_type": "code",
   "execution_count": 18,
   "metadata": {},
   "outputs": [
    {
     "data": {
      "text/plain": [
       "False"
      ]
     },
     "execution_count": 18,
     "metadata": {},
     "output_type": "execute_result"
    }
   ],
   "source": [
    "K.is_field()"
   ]
  },
  {
   "cell_type": "code",
   "execution_count": 22,
   "metadata": {},
   "outputs": [
    {
     "data": {
      "text/plain": [
       "Closed subscheme of Projective Space of dimension 2 over Integer Ring defined by:\n",
       "  -x^2*y + x*y^2 + 2*y^3,\n",
       "  x^2*y - x*y^2 - 2*y^3 - 2*y^2*z + 2*y*z^2,\n",
       "  -x^2*z + 2*y^2*z + x*z^2"
      ]
     },
     "execution_count": 22,
     "metadata": {},
     "output_type": "execute_result"
    }
   ],
   "source": [
    "X"
   ]
  },
  {
   "cell_type": "code",
   "execution_count": 16,
   "metadata": {},
   "outputs": [],
   "source": [
    "Y2 = Y.reduce().change_ring(ZZ)"
   ]
  },
  {
   "cell_type": "code",
   "execution_count": 21,
   "metadata": {},
   "outputs": [
    {
     "data": {
      "text/plain": [
       "19"
      ]
     },
     "execution_count": 21,
     "metadata": {},
     "output_type": "execute_result"
    }
   ],
   "source": [
    "len((X.defining_polynomials()))"
   ]
  },
  {
   "cell_type": "code",
   "execution_count": 1,
   "metadata": {},
   "outputs": [
    {
     "ename": "TypeError",
     "evalue": "keys do not match self's parent",
     "output_type": "error",
     "traceback": [
      "\u001b[0;31m---------------------------------------------------------------------------\u001b[0m",
      "\u001b[0;31mTypeError\u001b[0m                                 Traceback (most recent call last)",
      "\u001b[0;32m<ipython-input-1-0510c49fa49c>\u001b[0m in \u001b[0;36m<module>\u001b[0;34m\u001b[0m\n\u001b[1;32m      1\u001b[0m \u001b[0mP\u001b[0m \u001b[0;34m=\u001b[0m \u001b[0mProjectiveSpace\u001b[0m\u001b[0;34m(\u001b[0m\u001b[0mZZ\u001b[0m\u001b[0;34m,\u001b[0m \u001b[0mInteger\u001b[0m\u001b[0;34m(\u001b[0m\u001b[0;36m2\u001b[0m\u001b[0;34m)\u001b[0m\u001b[0;34m,\u001b[0m \u001b[0mnames\u001b[0m\u001b[0;34m=\u001b[0m\u001b[0;34m(\u001b[0m\u001b[0;34m'x'\u001b[0m\u001b[0;34m,\u001b[0m \u001b[0;34m'y'\u001b[0m\u001b[0;34m,\u001b[0m \u001b[0;34m'z'\u001b[0m\u001b[0;34m,\u001b[0m\u001b[0;34m)\u001b[0m\u001b[0;34m)\u001b[0m\u001b[0;34m;\u001b[0m \u001b[0;34m(\u001b[0m\u001b[0mx\u001b[0m\u001b[0;34m,\u001b[0m \u001b[0my\u001b[0m\u001b[0;34m,\u001b[0m \u001b[0mz\u001b[0m\u001b[0;34m,\u001b[0m\u001b[0;34m)\u001b[0m \u001b[0;34m=\u001b[0m \u001b[0mP\u001b[0m\u001b[0;34m.\u001b[0m\u001b[0m_first_ngens\u001b[0m\u001b[0;34m(\u001b[0m\u001b[0;36m3\u001b[0m\u001b[0;34m)\u001b[0m\u001b[0;34m\u001b[0m\u001b[0;34m\u001b[0m\u001b[0m\n\u001b[1;32m      2\u001b[0m \u001b[0mf\u001b[0m \u001b[0;34m=\u001b[0m \u001b[0mDynamicalSystem\u001b[0m\u001b[0;34m(\u001b[0m\u001b[0;34m[\u001b[0m\u001b[0mx\u001b[0m\u001b[0;34m**\u001b[0m\u001b[0mInteger\u001b[0m\u001b[0;34m(\u001b[0m\u001b[0;36m2\u001b[0m\u001b[0;34m)\u001b[0m \u001b[0;34m-\u001b[0m \u001b[0mInteger\u001b[0m\u001b[0;34m(\u001b[0m\u001b[0;36m2\u001b[0m\u001b[0;34m)\u001b[0m\u001b[0;34m*\u001b[0m\u001b[0my\u001b[0m\u001b[0;34m**\u001b[0m\u001b[0mInteger\u001b[0m\u001b[0;34m(\u001b[0m\u001b[0;36m2\u001b[0m\u001b[0;34m)\u001b[0m\u001b[0;34m,\u001b[0m \u001b[0my\u001b[0m\u001b[0;34m**\u001b[0m\u001b[0mInteger\u001b[0m\u001b[0;34m(\u001b[0m\u001b[0;36m2\u001b[0m\u001b[0;34m)\u001b[0m\u001b[0;34m,\u001b[0m \u001b[0mz\u001b[0m\u001b[0;34m**\u001b[0m\u001b[0mInteger\u001b[0m\u001b[0;34m(\u001b[0m\u001b[0;36m2\u001b[0m\u001b[0;34m)\u001b[0m\u001b[0;34m]\u001b[0m\u001b[0;34m)\u001b[0m\u001b[0;34m\u001b[0m\u001b[0;34m\u001b[0m\u001b[0m\n\u001b[0;32m----> 3\u001b[0;31m \u001b[0mY\u001b[0m \u001b[0;34m=\u001b[0m \u001b[0mf\u001b[0m\u001b[0;34m.\u001b[0m\u001b[0mperiodic_points\u001b[0m\u001b[0;34m(\u001b[0m\u001b[0mInteger\u001b[0m\u001b[0;34m(\u001b[0m\u001b[0;36m2\u001b[0m\u001b[0;34m)\u001b[0m\u001b[0;34m,\u001b[0m \u001b[0mminimal\u001b[0m\u001b[0;34m=\u001b[0m\u001b[0;32mFalse\u001b[0m\u001b[0;34m,\u001b[0m \u001b[0mformal\u001b[0m\u001b[0;34m=\u001b[0m\u001b[0;32mTrue\u001b[0m\u001b[0;34m,\u001b[0m \u001b[0mreturn_scheme\u001b[0m\u001b[0;34m=\u001b[0m\u001b[0;32mTrue\u001b[0m\u001b[0;34m)\u001b[0m\u001b[0;34m\u001b[0m\u001b[0;34m\u001b[0m\u001b[0m\n\u001b[0m",
      "\u001b[0;32m~/Documents/Sage/local/lib/python3.9/site-packages/sage/dynamics/arithmetic_dynamics/projective_ds.py\u001b[0m in \u001b[0;36mperiodic_points\u001b[0;34m(self, n, minimal, formal, R, algorithm, return_scheme)\u001b[0m\n\u001b[1;32m   4469\u001b[0m                             \u001b[0mX\u001b[0m \u001b[0;34m=\u001b[0m \u001b[0mPS\u001b[0m\u001b[0;34m.\u001b[0m\u001b[0msubscheme\u001b[0m\u001b[0;34m(\u001b[0m\u001b[0;34m[\u001b[0m\u001b[0mpoly\u001b[0m\u001b[0;34m.\u001b[0m\u001b[0msubs\u001b[0m\u001b[0;34m(\u001b[0m\u001b[0msubs\u001b[0m\u001b[0;34m)\u001b[0m \u001b[0;32mfor\u001b[0m \u001b[0mpoly\u001b[0m \u001b[0;32min\u001b[0m \u001b[0mL\u001b[0m\u001b[0;34m]\u001b[0m\u001b[0;34m)\u001b[0m\u001b[0;34m\u001b[0m\u001b[0;34m\u001b[0m\u001b[0m\n\u001b[1;32m   4470\u001b[0m                         \u001b[0;32melse\u001b[0m\u001b[0;34m:\u001b[0m\u001b[0;34m\u001b[0m\u001b[0;34m\u001b[0m\u001b[0m\n\u001b[0;32m-> 4471\u001b[0;31m                             \u001b[0mK\u001b[0m \u001b[0;34m=\u001b[0m \u001b[0;34m[\u001b[0m\u001b[0mpoly\u001b[0m\u001b[0;34m.\u001b[0m\u001b[0msubs\u001b[0m\u001b[0;34m(\u001b[0m\u001b[0msubs\u001b[0m\u001b[0;34m)\u001b[0m \u001b[0;32mfor\u001b[0m \u001b[0mpoly\u001b[0m \u001b[0;32min\u001b[0m \u001b[0mL\u001b[0m\u001b[0;34m]\u001b[0m\u001b[0;34m\u001b[0m\u001b[0;34m\u001b[0m\u001b[0m\n\u001b[0m\u001b[1;32m   4472\u001b[0m                             \u001b[0mK\u001b[0m \u001b[0;34m=\u001b[0m \u001b[0;34m[\u001b[0m\u001b[0mpoly\u001b[0m\u001b[0;34m*\u001b[0m\u001b[0mpoly\u001b[0m\u001b[0;34m.\u001b[0m\u001b[0mdenominator\u001b[0m\u001b[0;34m(\u001b[0m\u001b[0;34m)\u001b[0m \u001b[0;32mfor\u001b[0m \u001b[0mpoly\u001b[0m \u001b[0;32min\u001b[0m \u001b[0mK\u001b[0m\u001b[0;34m]\u001b[0m\u001b[0;34m\u001b[0m\u001b[0;34m\u001b[0m\u001b[0m\n\u001b[1;32m   4473\u001b[0m                             \u001b[0mX\u001b[0m \u001b[0;34m=\u001b[0m \u001b[0mPS\u001b[0m\u001b[0;34m.\u001b[0m\u001b[0msubscheme\u001b[0m\u001b[0;34m(\u001b[0m\u001b[0mK\u001b[0m\u001b[0;34m)\u001b[0m\u001b[0;34m\u001b[0m\u001b[0;34m\u001b[0m\u001b[0m\n",
      "\u001b[0;32m~/Documents/Sage/local/lib/python3.9/site-packages/sage/dynamics/arithmetic_dynamics/projective_ds.py\u001b[0m in \u001b[0;36m<listcomp>\u001b[0;34m(.0)\u001b[0m\n\u001b[1;32m   4469\u001b[0m                             \u001b[0mX\u001b[0m \u001b[0;34m=\u001b[0m \u001b[0mPS\u001b[0m\u001b[0;34m.\u001b[0m\u001b[0msubscheme\u001b[0m\u001b[0;34m(\u001b[0m\u001b[0;34m[\u001b[0m\u001b[0mpoly\u001b[0m\u001b[0;34m.\u001b[0m\u001b[0msubs\u001b[0m\u001b[0;34m(\u001b[0m\u001b[0msubs\u001b[0m\u001b[0;34m)\u001b[0m \u001b[0;32mfor\u001b[0m \u001b[0mpoly\u001b[0m \u001b[0;32min\u001b[0m \u001b[0mL\u001b[0m\u001b[0;34m]\u001b[0m\u001b[0;34m)\u001b[0m\u001b[0;34m\u001b[0m\u001b[0;34m\u001b[0m\u001b[0m\n\u001b[1;32m   4470\u001b[0m                         \u001b[0;32melse\u001b[0m\u001b[0;34m:\u001b[0m\u001b[0;34m\u001b[0m\u001b[0;34m\u001b[0m\u001b[0m\n\u001b[0;32m-> 4471\u001b[0;31m                             \u001b[0mK\u001b[0m \u001b[0;34m=\u001b[0m \u001b[0;34m[\u001b[0m\u001b[0mpoly\u001b[0m\u001b[0;34m.\u001b[0m\u001b[0msubs\u001b[0m\u001b[0;34m(\u001b[0m\u001b[0msubs\u001b[0m\u001b[0;34m)\u001b[0m \u001b[0;32mfor\u001b[0m \u001b[0mpoly\u001b[0m \u001b[0;32min\u001b[0m \u001b[0mL\u001b[0m\u001b[0;34m]\u001b[0m\u001b[0;34m\u001b[0m\u001b[0;34m\u001b[0m\u001b[0m\n\u001b[0m\u001b[1;32m   4472\u001b[0m                             \u001b[0mK\u001b[0m \u001b[0;34m=\u001b[0m \u001b[0;34m[\u001b[0m\u001b[0mpoly\u001b[0m\u001b[0;34m*\u001b[0m\u001b[0mpoly\u001b[0m\u001b[0;34m.\u001b[0m\u001b[0mdenominator\u001b[0m\u001b[0;34m(\u001b[0m\u001b[0;34m)\u001b[0m \u001b[0;32mfor\u001b[0m \u001b[0mpoly\u001b[0m \u001b[0;32min\u001b[0m \u001b[0mK\u001b[0m\u001b[0;34m]\u001b[0m\u001b[0;34m\u001b[0m\u001b[0;34m\u001b[0m\u001b[0m\n\u001b[1;32m   4473\u001b[0m                             \u001b[0mX\u001b[0m \u001b[0;34m=\u001b[0m \u001b[0mPS\u001b[0m\u001b[0;34m.\u001b[0m\u001b[0msubscheme\u001b[0m\u001b[0;34m(\u001b[0m\u001b[0mK\u001b[0m\u001b[0;34m)\u001b[0m\u001b[0;34m\u001b[0m\u001b[0;34m\u001b[0m\u001b[0m\n",
      "\u001b[0;32m~/Documents/Sage/local/lib/python3.9/site-packages/sage/rings/polynomial/multi_polynomial_libsingular.pyx\u001b[0m in \u001b[0;36msage.rings.polynomial.multi_polynomial_libsingular.MPolynomial_libsingular.subs (build/cythonized/sage/rings/polynomial/multi_polynomial_libsingular.cpp:29223)\u001b[0;34m()\u001b[0m\n\u001b[1;32m   3546\u001b[0m                     \u001b[0mid_Delete\u001b[0m\u001b[0;34m(\u001b[0m\u001b[0;34m&\u001b[0m\u001b[0mto_id\u001b[0m\u001b[0;34m,\u001b[0m \u001b[0m_ring\u001b[0m\u001b[0;34m)\u001b[0m\u001b[0;34m\u001b[0m\u001b[0;34m\u001b[0m\u001b[0m\n\u001b[1;32m   3547\u001b[0m                     \u001b[0mp_Delete\u001b[0m\u001b[0;34m(\u001b[0m\u001b[0;34m&\u001b[0m\u001b[0m_p\u001b[0m\u001b[0;34m,\u001b[0m \u001b[0m_ring\u001b[0m\u001b[0;34m)\u001b[0m\u001b[0;34m\u001b[0m\u001b[0;34m\u001b[0m\u001b[0m\n\u001b[0;32m-> 3548\u001b[0;31m                     \u001b[0;32mraise\u001b[0m \u001b[0mTypeError\u001b[0m\u001b[0;34m(\u001b[0m\u001b[0;34m\"keys do not match self's parent\"\u001b[0m\u001b[0;34m)\u001b[0m\u001b[0;34m\u001b[0m\u001b[0;34m\u001b[0m\u001b[0m\n\u001b[0m\u001b[1;32m   3549\u001b[0m                 \u001b[0;32mtry\u001b[0m\u001b[0;34m:\u001b[0m\u001b[0;34m\u001b[0m\u001b[0;34m\u001b[0m\u001b[0m\n\u001b[1;32m   3550\u001b[0m                     \u001b[0mv\u001b[0m \u001b[0;34m=\u001b[0m \u001b[0mparent\u001b[0m\u001b[0;34m.\u001b[0m\u001b[0m_coerce_c\u001b[0m\u001b[0;34m(\u001b[0m\u001b[0mv\u001b[0m\u001b[0;34m)\u001b[0m\u001b[0;34m\u001b[0m\u001b[0;34m\u001b[0m\u001b[0m\n",
      "\u001b[0;31mTypeError\u001b[0m: keys do not match self's parent"
     ]
    }
   ],
   "source": [
    "sage: P.<x,y,z> = ProjectiveSpace(ZZ, 2)\n",
    "            sage: f = DynamicalSystem([x^2 - 2*y^2, y^2, z^2])\n",
    "            sage: Y = f.periodic_points(2, minimal=False, formal=True, return_scheme=True)"
   ]
  },
  {
   "cell_type": "code",
   "execution_count": 75,
   "metadata": {
    "scrolled": false
   },
   "outputs": [
    {
     "name": "stdout",
     "output_type": "stream",
     "text": [
      "Dynamical System of Projective Space of dimension 2 over Integer Ring\n",
      "  Defn: Defined on coordinates by sending (x : y : z) to\n",
      "        (2*x^2 : -4*x^2 + 2*y^2 : 4*x^2 - 3*y^2 - 2*y*z - z^2)\n",
      "19\n"
     ]
    }
   ],
   "source": [
    "sage: P.<x,y,z> = ProjectiveSpace(ZZ, 2)\n",
    "            sage: f = DynamicalSystem([x^2 - 2*y^2, y^2, z^2])\n",
    "n = 2\n",
    "CR = f.coordinate_ring()\n",
    "dom = f.domain()\n",
    "PS = f.codomain().ambient_space()\n",
    "R = f.base_ring()\n",
    "FF = FractionField(R)\n",
    "N = PS.dimension_relative() + 1\n",
    "F = f.nth_iterate_map(n)\n",
    "L = [F[i]*CR.gen(j) - F[j]*CR.gen(i) for i in range(N)\n",
    "    for j in range(i+1, N)]\n",
    "L = [t for t in L if t != 0]\n",
    "X = PS.subscheme(L)\n",
    "d = f.degree()\n",
    "# we need a model with no periodic points at infinity\n",
    "new_f, mat = f.affine_preperiodic_model(n, m=0, return_conjugation=True)\n",
    "new_f.normalize_coordinates()\n",
    "print(new_f)\n",
    "# we now deform by a parameter t\n",
    "T = R['t']\n",
    "t = T.gens()[0]\n",
    "Pt = ProjectiveSpace(N-1, R=T, names = [str(i) for i in CR.gens()])\n",
    "deformed_polys = [poly + t*Pt.gens()[-1]**d for poly in new_f.defining_polynomials()[:-1]]\n",
    "deformed_polys += [new_f.defining_polynomials()[-1]]\n",
    "f_deformed = DynamicalSystem(deformed_polys)\n",
    "\n",
    "# after deforming by the parameter, the preperiodic points with multiplicity\n",
    "# will seperate into different points. we can now calculate the minimal preperiodic\n",
    "# points with the parameter, and then specialize to get the formal periodic points\n",
    "ideal = f_deformed.periodic_points(n, return_scheme=True).defining_ideal()\n",
    "L = [poly.specialization({t:0}) for poly in ideal.gens()]\n",
    "print(len(L))\n",
    "subs_list = mat.inverse()*vector(CR.gens())\n",
    "subs = {}\n",
    "for i in range(len(subs_list)):\n",
    "    subs[PS.gens()[i]] = subs_list[i]\n",
    "if R.is_field():\n",
    "    X = PS.subscheme([poly.subs(subs) for poly in L])\n",
    "else:\n",
    "    K = [poly(*list(subs)) for poly in L]\n",
    "    K = [poly*poly.denominator() for poly in K]\n",
    "    X = PS.subscheme(K)"
   ]
  },
  {
   "cell_type": "code",
   "execution_count": 73,
   "metadata": {},
   "outputs": [],
   "source": [
    "lt = X.rational_points(F=QQbar)"
   ]
  },
  {
   "cell_type": "code",
   "execution_count": 74,
   "metadata": {
    "scrolled": false
   },
   "outputs": [
    {
     "name": "stdout",
     "output_type": "stream",
     "text": [
      "False\n",
      "True\n",
      "False\n",
      "False\n",
      "False\n",
      "False\n",
      "False\n",
      "False\n",
      "False\n",
      "False\n",
      "False\n",
      "False\n",
      "False\n",
      "True\n"
     ]
    }
   ],
   "source": [
    "P = P.change_ring(QQbar)\n",
    "f = f.change_ring(QQbar)\n",
    "for pnt in lt:\n",
    "    print(P(pnt).is_preperiodic(f))"
   ]
  },
  {
   "cell_type": "code",
   "execution_count": 51,
   "metadata": {},
   "outputs": [],
   "source": [
    "pnt = lt[0]\n",
    "pnt.is_preperiodic??"
   ]
  },
  {
   "cell_type": "code",
   "execution_count": null,
   "metadata": {},
   "outputs": [],
   "source": [
    "lt[0].is_preperiodic"
   ]
  },
  {
   "cell_type": "code",
   "execution_count": 4,
   "metadata": {},
   "outputs": [
    {
     "data": {
      "text/plain": [
       "True"
      ]
     },
     "execution_count": 4,
     "metadata": {},
     "output_type": "execute_result"
    }
   ],
   "source": [
    "P.<x,y,z>=ProjectiveSpace(QQ,2)\n",
    "f=DynamicalSystem([x^2-2*y^2,y^2,z^2])\n",
    "f.periodic"
   ]
  },
  {
   "cell_type": "code",
   "execution_count": 70,
   "metadata": {},
   "outputs": [
    {
     "name": "stdout",
     "output_type": "stream",
     "text": [
      "True\n",
      "True\n",
      "True\n",
      "True\n",
      "True\n",
      "True\n",
      "True\n",
      "True\n",
      "True\n",
      "True\n",
      "True\n",
      "True\n",
      "True\n",
      "True\n"
     ]
    }
   ],
   "source": [
    "f = f.change_ring(QQbar)\n",
    "P = P.change_ring(QQbar)\n",
    "for pnt in X.change_ring(QQbar).rational_points():\n",
    "    print(P(pnt).is_preperiodic(f))"
   ]
  },
  {
   "cell_type": "code",
   "execution_count": 1,
   "metadata": {},
   "outputs": [
    {
     "data": {
      "text/plain": [
       "[(-1/4 : -1/2 : 1), (1 : 2 : 1)]"
      ]
     },
     "execution_count": 1,
     "metadata": {},
     "output_type": "execute_result"
    }
   ],
   "source": [
    "sage: P.<x,y,z> = ProjectiveSpace(QQ, 2)\n",
    "            sage: X = P.subscheme(2*x - y)\n",
    "            sage: f = DynamicalSystem_projective([x^2 - y^2, 2*(x^2 - y^2), y^2 - z^2], domain=X)\n",
    "f.preperiodic_points(1, 1)"
   ]
  },
  {
   "cell_type": "code",
   "execution_count": 1,
   "metadata": {},
   "outputs": [
    {
     "data": {
      "text/plain": [
       "False"
      ]
     },
     "execution_count": 1,
     "metadata": {},
     "output_type": "execute_result"
    }
   ],
   "source": [
    "sage: P.<x,y,z> = ProjectiveSpace(QQ, 2)\n",
    "            sage: f = DynamicalSystem_projective([x^2 - y^2, x^2 - z^2, y^2 - z^2])\n",
    "f.is_morphism()"
   ]
  },
  {
   "cell_type": "code",
   "execution_count": null,
   "metadata": {},
   "outputs": [],
   "source": []
  }
 ],
 "metadata": {
  "kernelspec": {
   "display_name": "SageMath 9.4.beta4",
   "language": "sage",
   "name": "sagemath"
  },
  "language_info": {
   "codemirror_mode": {
    "name": "ipython",
    "version": 3
   },
   "file_extension": ".py",
   "mimetype": "text/x-python",
   "name": "python",
   "nbconvert_exporter": "python",
   "pygments_lexer": "ipython3",
   "version": "3.8.10"
  }
 },
 "nbformat": 4,
 "nbformat_minor": 4
}
