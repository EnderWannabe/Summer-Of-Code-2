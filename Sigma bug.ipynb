{
 "cells": [
  {
   "cell_type": "code",
   "execution_count": 82,
   "metadata": {},
   "outputs": [],
   "source": [
    "def sigma(self, n, formal=False, embedding=None, type='point', return_polynomial=False, chow=False):\n",
    "    from sage.rings.fraction_field import (FractionField, is_FractionField, FractionField_1poly_field)\n",
    "    from sage.rings.polynomial.multi_polynomial_ring_base import is_MPolynomialRing\n",
    "    from sage.rings.polynomial.polynomial_ring import is_PolynomialRing\n",
    "    from sage.rings.polynomial.flatten import FlatteningMorphism, UnflatteningMorphism\n",
    "    n = ZZ(n)\n",
    "    if n < 1:\n",
    "        raise ValueError(\"period must be a positive integer\")\n",
    "    dom = self.domain()\n",
    "    if not is_ProjectiveSpace(dom):\n",
    "        raise NotImplementedError(\"not implemented for subschemes\")\n",
    "    if not embedding is None:\n",
    "        from sage.misc.superseded import deprecation\n",
    "        deprecation(23333, \"embedding keyword no longer used\")\n",
    "    if self.degree() <= 1:\n",
    "        raise TypeError(\"must have degree at least 2\")\n",
    "    if not type in ['point', 'cycle']:\n",
    "        raise ValueError(\"type must be either point or cycle\")\n",
    "    if dom.dimension_relative() > 1 or return_polynomial:\n",
    "        if type == 'cycle':\n",
    "            raise NotImplementedError('cycle not implemented for dimension greater than 1')\n",
    "        base_ring = self.base_ring()\n",
    "        d = self.degree()\n",
    "        N = dom.dimension_relative()\n",
    "        Fn = self.nth_iterate_map(n)\n",
    "        if not base_ring.is_field():\n",
    "            F = FractionField(base_ring)\n",
    "            Fn.normalize_coordinates()\n",
    "            X = Fn.periodic_points(1, minimal=False, formal=formal, return_scheme=True)\n",
    "            X = X.change_ring(F)\n",
    "        else:\n",
    "            F = base_ring\n",
    "            if is_FractionField(base_ring):\n",
    "                if is_MPolynomialRing(base_ring.ring()) or is_PolynomialRing(base_ring.ring()):\n",
    "                    Fn.normalize_coordinates()\n",
    "                    Fn_ring = Fn.change_ring(base_ring.ring())\n",
    "                    X = Fn_ring.periodic_points(1, minimal=False, formal=formal, return_scheme=True)\n",
    "                    X = X.change_ring(F)\n",
    "            else:\n",
    "                X = Fn.periodic_points(1, minimal=False, formal=formal, return_scheme=True)\n",
    "        print('X:', X)\n",
    "        print('F:', F)\n",
    "        newR_unordered = PolynomialRing(base_ring, 'w, t', 2)\n",
    "        newR = newR_unordered.change_ring(order='lex')\n",
    "        if chow:\n",
    "            # create full polynomial ring\n",
    "            R_unordered = PolynomialRing(base_ring, 'v', 2*N+3)\n",
    "            R = R_unordered.change_ring(order='lex')\n",
    "            var = list(R.gens())\n",
    "            # create polynomial ring for result\n",
    "            R2 = PolynomialRing(base_ring, var[:N] + var[-2:])\n",
    "            psi = R2.hom(N*[0]+list(newR.gens()), newR)\n",
    "            # create substition to set extra variables to 0\n",
    "            R_zero = {R.gen(N):1}\n",
    "            for j in range(N+1, 2*N+1):\n",
    "                R_zero[R.gen(j)] = 0\n",
    "            t = var.pop()\n",
    "            w = var.pop()\n",
    "            var = var[:N]\n",
    "        else:\n",
    "            R_unordered = PolynomialRing(base_ring, 'v', N+2)\n",
    "            R = R_unordered.change_ring(order='lex')\n",
    "            psi = R_unordered.hom(N*[0] + list(newR_unordered.gens()), newR_unordered)\n",
    "            var = list(R.gens())\n",
    "            t = var.pop()\n",
    "            w = var.pop()\n",
    "        flattened = False\n",
    "        if is_FractionField(F) and F!=base_ring:\n",
    "            if is_PolynomialRing(F.ring()) or is_MPolynomialRing(F.ring()):\n",
    "                flattened = True\n",
    "                flat_phi = FlatteningMorphism(R)\n",
    "                flatR_unordered = flat_phi.codomain()\n",
    "                Id = matrix.identity(len(flatR_unordered.gens()) - len(F.gens()))\n",
    "                Id2 = matrix.identity(len(F.gens()))\n",
    "                from sage.matrix.special import block_matrix\n",
    "                b = block_matrix([[ZZ(0), Id],[Id2, ZZ(0)]])\n",
    "                from sage.rings.polynomial.term_order import TermOrder\n",
    "                flatR = flatR_unordered.change_ring(order=TermOrder(b))\n",
    "                unflat_phi = UnflatteningMorphism(flatR_unordered, R)\n",
    "                print('flatR ordering:', flatR.term_order())\n",
    "        print('R ordering:', R.term_order())\n",
    "        sigma_polynomial = 1\n",
    "        # go through each affine patch to avoid repeating periodic points\n",
    "        # setting the visited coordiantes to 0 as we go\n",
    "        for j in range(N,-1,-1):\n",
    "            Xa = X.affine_patch(j)\n",
    "            print('Xa:', Xa)\n",
    "            fa = Fn.dehomogenize(j)\n",
    "            Pa = fa.domain()\n",
    "            Ra = Pa.coordinate_ring()\n",
    "            # create the images for the Hom to the ring we will do the elimination over\n",
    "            # with done affine patch coordinates as 0\n",
    "            if chow:\n",
    "                im = [R.gen(i) for i in range(j)] + (N-j)*[0] + [R.gen(i) for i in range(N, R.ngens())]\n",
    "            else:\n",
    "                im = list(R.gens())[:j] + (N-j)*[0] + [R.gen(i) for i in range(N, R.ngens())]\n",
    "            phi = Ra.hom(R.gens()[0:len(Ra.gens())])\n",
    "            # create polymomial that evaluates to the characteristic polynomial\n",
    "            M = t*matrix.identity(R, N)\n",
    "            g = (M-jacobian([phi(F.numerator())/phi(F.denominator()) for F in fa], var)).det()\n",
    "            print('g:', g)\n",
    "            # create the terms of the sigma invariants prod(w-lambda)\n",
    "            g_prime = w*R(g.denominator())(im)-R(g.numerator())(im)\n",
    "            print('g_prime:', g_prime)\n",
    "            # move the defining polynomials to the polynomial ring\n",
    "            L = [phi(h)(im) for h in Xa.defining_polynomials()]\n",
    "            print('L1:', L)\n",
    "            # add the appropriate final polynomial to compute the sigma invariant polynomial\n",
    "            # via a Poisson product in elimination\n",
    "            if chow:\n",
    "                L += [g_prime + sum(R.gen(j-1)*R.gen(N+j)*(R(g.denominator())(im)) for j in range(1,N+1))]\n",
    "            else:\n",
    "                L += [g_prime]\n",
    "            I = R.ideal(L)\n",
    "            if flattened:\n",
    "                I = flatR.ideal([flat_phi(poly) for poly in I.gens()])\n",
    "            # since R is lex ordering, this is an elimination step\n",
    "            print('I:', I)\n",
    "            G = I.groebner_basis()\n",
    "            print('G:', G)\n",
    "            print('G[-1]:', G[-1])\n",
    "            # the polynomial we need is the one just in w and t\n",
    "            if chow:\n",
    "                if flattened:\n",
    "                    unflattened = unflat_phi(G[-1])\n",
    "                else:\n",
    "                    unflattened = G[-1]\n",
    "                poly = psi(unflattened.specialization(R_zero))\n",
    "                if len(list(poly)) > 0 and base_ring.is_field():\n",
    "                    poly *= poly.coefficients()[0].inverse_of_unit()\n",
    "                sigma_polynomial *= poly\n",
    "            else:\n",
    "                if flattened:\n",
    "                    sigma_polynomial *= psi(unflat_phi(flatR_unordered(G[-1])))\n",
    "                else:\n",
    "                    sigma_polynomial *= psi(G[-1])\n",
    "        if return_polynomial:\n",
    "            return sigma_polynomial\n",
    "        # if we are returing a numerical list, read off the coefficients\n",
    "        # in order of degree adjusting sign appropriately\n",
    "        sigmas = []\n",
    "        sigma_dictionary = dict([list(reversed(i)) for i in list(sigma_polynomial)])\n",
    "        degree_w, degree_t = sigma_polynomial.degrees()\n",
    "        w, t = sigma_polynomial.variables()\n",
    "        sigmas += [degree_w, degree_t]\n",
    "        for i in range(degree_w+1):\n",
    "            for j in range(degree_t+1):\n",
    "                sigmas.append((-1)**(i+j)*sigma_dictionary.pop(w**(degree_w - i)*t**(degree_t - j), 0))\n",
    "        return sigmas"
   ]
  },
  {
   "cell_type": "code",
   "execution_count": 83,
   "metadata": {},
   "outputs": [
    {
     "name": "stdout",
     "output_type": "stream",
     "text": [
      "X: Closed subscheme of Projective Space of dimension 1 over Fraction Field of Univariate Polynomial Ring in c over Rational Field defined by:\n",
      "  x^2*y - x*y^2 + c*y^3\n",
      "F: Fraction Field of Univariate Polynomial Ring in c over Rational Field\n",
      "flatR ordering: Matrix term order with matrix\n",
      "[0 1 0 0 0 0]\n",
      "[0 0 1 0 0 0]\n",
      "[0 0 0 1 0 0]\n",
      "[0 0 0 0 1 0]\n",
      "[0 0 0 0 0 1]\n",
      "[1 0 0 0 0 0]\n",
      "R ordering: Lexicographic term order\n",
      "Xa: Closed subscheme of Affine Space of dimension 1 over Fraction Field of Univariate Polynomial Ring in c over Rational Field defined by:\n",
      "  x^2 - x + c\n",
      "g: (-2)*v0 + v4\n",
      "g_prime: 2*v0 + v3 - v4\n",
      "L1: [v0^2 - v0 + c]\n",
      "I: Ideal (v0^2 - v0 + c, v0*v2 + 2*v0 + v3 - v4) of Multivariate Polynomial Ring in c, v0, v1, v2, v3, v4 over Rational Field\n",
      "G: [v0^2 - v0 + c, v0*v2 + 2*v0 + v3 - v4, v0*v3 - v0*v4 - c*v2 - v3 + v4 - 2*c, c*v2^2 + v2*v3 - v2*v4 + 4*c*v2 + v3^2 - 2*v3*v4 + 2*v3 + v4^2 - 2*v4 + 4*c]\n",
      "G[-1]: c*v2^2 + v2*v3 - v2*v4 + 4*c*v2 + v3^2 - 2*v3*v4 + 2*v3 + v4^2 - 2*v4 + 4*c\n",
      "Xa: Closed subscheme of Affine Space of dimension 1 over Fraction Field of Univariate Polynomial Ring in c over Rational Field defined by:\n",
      "  c*y^3 - y^2 + y\n",
      "g: (c^2*v0^4*v4 + 2*c*v0^2*v4 + (-2)*v0 + v4)/(c^2*v0^4 + 2*c*v0^2 + 1)\n",
      "g_prime: v3 - v4\n",
      "L1: [0]\n",
      "I: Ideal (0, v0*v2 + v3 - v4) of Multivariate Polynomial Ring in c, v0, v1, v2, v3, v4 over Rational Field\n",
      "G: [v0*v2 + v3 - v4]\n",
      "G[-1]: v0*v2 + v3 - v4\n"
     ]
    },
    {
     "data": {
      "text/plain": [
       "w^3 + (-3)*w^2*t + 2*w^2 + 3*w*t^2 + (-4)*w*t + 4*c*w - t^3 + 2*t^2 + (-4*c)*t"
      ]
     },
     "execution_count": 83,
     "metadata": {},
     "output_type": "execute_result"
    }
   ],
   "source": [
    "R.<c>=QQ[]\n",
    "P.<x,y>=ProjectiveSpace(R,1)\n",
    "f=DynamicalSystem([x^2+c*y^2,y^2])\n",
    "sigma(f, 1, chow=True, return_polynomial=True)"
   ]
  },
  {
   "cell_type": "code",
   "execution_count": 8,
   "metadata": {},
   "outputs": [
    {
     "data": {
      "text/plain": [
       "w^4 + (-4)*w^3*t + (-4*c + 8)*w^3 + 6*w^2*t^2 + (12*c - 24)*w^2*t + (-16*c^2 - 16*c + 16)*w^2 + (-4)*w*t^3 + (-12*c + 24)*w*t^2 + (32*c^2 + 32*c - 32)*w*t + (64*c^3 + 64*c^2)*w + t^4 + (4*c - 8)*t^3 + (-16*c^2 - 16*c + 16)*t^2 + (-64*c^3 - 64*c^2)*t"
      ]
     },
     "execution_count": 8,
     "metadata": {},
     "output_type": "execute_result"
    }
   ],
   "source": [
    "R.<c>=QQ[]\n",
    "P.<x,y>=ProjectiveSpace(FractionField(R),1)\n",
    "f=DynamicalSystem([x^2+c*y^2,y^2])\n",
    "f.sigma_invariants(2, formal=True, return_polynomial=True)"
   ]
  },
  {
   "cell_type": "code",
   "execution_count": 13,
   "metadata": {},
   "outputs": [
    {
     "data": {
      "text/plain": [
       "[(-0.50000000000000000? - 1.936491673103709?*I : 1),\n",
       " (-0.50000000000000000? + 1.936491673103709?*I : 1)]"
      ]
     },
     "execution_count": 13,
     "metadata": {},
     "output_type": "execute_result"
    }
   ],
   "source": [
    "P.<x,y>=ProjectiveSpace(QQ,1)\n",
    "f=DynamicalSystem([x^2+3*y^2,y^2])\n",
    "f.sigma_invariants(2, formal=True)\n",
    "f.periodic_points(2, formal=True, return_scheme=True).rational_points(F=QQbar)"
   ]
  },
  {
   "cell_type": "code",
   "execution_count": 19,
   "metadata": {},
   "outputs": [
    {
     "name": "stdout",
     "output_type": "stream",
     "text": [
      "X: Closed subscheme of Projective Space of dimension 1 over Rational Field defined by:\n",
      "  3*y^3\n",
      "Xa: Closed subscheme of Affine Space of dimension 1 over Rational Field defined by:\n",
      "  3\n",
      "g: (v0^2*v4 - v0^2 + 3)/v0^2\n",
      "g_prime: v0^2*v3 - v0^2*v4 + v0^2 - 3\n",
      "L1: [3]\n",
      "I: Ideal (3, v0^3*v2 + v0^2*v3 - v0^2*v4 + v0^2 - 3) of Multivariate Polynomial Ring in v0, v1, v2, v3, v4 over Rational Field\n",
      "G: [1]\n",
      "G[-1]: 1\n",
      "Xa: Closed subscheme of Affine Space of dimension 1 over Rational Field defined by:\n",
      "  3*y^3\n",
      "g: (9*v0^4*v4 + 6*v0^2*v4 + 3*v0^2 + v4 - 1)/(9*v0^4 + 6*v0^2 + 1)\n",
      "g_prime: v3 - v4 + 1\n",
      "L1: [0]\n",
      "I: Ideal (0, v0*v2 + v3 - v4 + 1) of Multivariate Polynomial Ring in v0, v1, v2, v3, v4 over Rational Field\n",
      "G: [v0*v2 + v3 - v4 + 1]\n",
      "G[-1]: v0*v2 + v3 - v4 + 1\n"
     ]
    },
    {
     "data": {
      "text/plain": [
       "w - t + 1"
      ]
     },
     "execution_count": 19,
     "metadata": {},
     "output_type": "execute_result"
    }
   ],
   "source": [
    "P.<x,y>=ProjectiveSpace(QQ,1)\n",
    "f=DynamicalSystem([x^2+3*y^2,x*y])\n",
    "sigma(f, 1, chow=True, return_polynomial=True)"
   ]
  },
  {
   "cell_type": "code",
   "execution_count": 15,
   "metadata": {},
   "outputs": [
    {
     "name": "stdout",
     "output_type": "stream",
     "text": [
      "X: Closed subscheme of Projective Space of dimension 1 over Fraction Field of Univariate Polynomial Ring in c over Rational Field defined by:\n",
      "  c*y^3\n",
      "Xa: Closed subscheme of Affine Space of dimension 1 over Fraction Field of Univariate Polynomial Ring in c over Rational Field defined by:\n",
      "  c\n",
      "g: (v0^2*v4 - v0^2 + c)/v0^2\n",
      "g_prime: v0^2*v3 - v0^2*v4 + v0^2 - c\n",
      "L1: [c]\n",
      "I: Ideal (c, v0^3*v2 + v0^2*v3 - v0^2*v4 + v0^2 - c) of Multivariate Polynomial Ring in c, v0, v1, v2, v3, v4 over Rational Field\n",
      "G: [v0^3*v2 + v0^2*v3 - v0^2*v4 + v0^2, c]\n",
      "G[-1]: c\n",
      "Xa: Closed subscheme of Affine Space of dimension 1 over Fraction Field of Univariate Polynomial Ring in c over Rational Field defined by:\n",
      "  c*y^3\n",
      "g: (c^2*v0^4*v4 + 2*c*v0^2*v4 + c*v0^2 + v4 - 1)/(c^2*v0^4 + 2*c*v0^2 + 1)\n",
      "g_prime: v3 - v4 + 1\n",
      "L1: [0]\n",
      "I: Ideal (0, v0*v2 + v3 - v4 + 1) of Multivariate Polynomial Ring in c, v0, v1, v2, v3, v4 over Rational Field\n",
      "G: [v0*v2 + v3 - v4 + 1]\n",
      "G[-1]: v0*v2 + v3 - v4 + 1\n"
     ]
    },
    {
     "data": {
      "text/plain": [
       "c*w + (-c)*t + c"
      ]
     },
     "execution_count": 15,
     "metadata": {},
     "output_type": "execute_result"
    }
   ],
   "source": [
    "R.<c>=QQ[]\n",
    "P.<x,y>=ProjectiveSpace((R),1)\n",
    "f=DynamicalSystem([x^2+c*y^2,x*y])\n",
    "sigma(f, 1, chow=True, return_polynomial=True)"
   ]
  },
  {
   "cell_type": "code",
   "execution_count": 20,
   "metadata": {},
   "outputs": [
    {
     "data": {
      "text/plain": [
       "[(1 : 0)]"
      ]
     },
     "execution_count": 20,
     "metadata": {},
     "output_type": "execute_result"
    }
   ],
   "source": [
    "P.<x,y>=ProjectiveSpace(QQ,1)\n",
    "f=DynamicalSystem([x^2+3*y^2,x*y])\n",
    "f.periodic_points(1)"
   ]
  },
  {
   "cell_type": "code",
   "execution_count": 26,
   "metadata": {},
   "outputs": [
    {
     "data": {
      "text/plain": [
       "v1^2 - 2*v1*v2 + v2^2 + 2*v1 - 2*v2 + 4*c"
      ]
     },
     "execution_count": 26,
     "metadata": {},
     "output_type": "execute_result"
    }
   ],
   "source": [
    "R.<v0,v1,v2,v3,c> = QQ[]\n",
    "R(v1^2 - 2*v1*v2 + 2*v1 + v2^2 - 2*v2 + 4*c)"
   ]
  },
  {
   "cell_type": "code",
   "execution_count": 43,
   "metadata": {},
   "outputs": [
    {
     "data": {
      "text/plain": [
       "[v0 + 1/2*v1 + (-1/2)*v2, v1^2 + (-2)*v1*v2 + 2*v1 + v2^2 + (-2)*v2 + 4*c]"
      ]
     },
     "execution_count": 43,
     "metadata": {},
     "output_type": "execute_result"
    }
   ],
   "source": [
    "K.<c> = QQ[]\n",
    "F = FractionField(K)\n",
    "R = PolynomialRing(F, 'v', 3)\n",
    "v0, v1, v2 = R.gens()\n",
    "R = R.change_ring(order = 'lex')\n",
    "I = R.ideal((v0^2 - v0 + c, v1 - v2 + 2*v0))\n",
    "I.groebner_basis()"
   ]
  },
  {
   "cell_type": "code",
   "execution_count": 42,
   "metadata": {},
   "outputs": [],
   "source": [
    "def sigma(self, n, formal=False, embedding=None, type='point', return_polynomial=False, chow=False):\n",
    "    from sage.rings.fraction_field import (FractionField, is_FractionField, FractionField_1poly_field)\n",
    "    from sage.rings.polynomial.multi_polynomial_ring_base import is_MPolynomialRing\n",
    "    from sage.rings.polynomial.polynomial_ring import is_PolynomialRing\n",
    "    from sage.rings.polynomial.flatten import FlatteningMorphism, UnflatteningMorphism\n",
    "    n = ZZ(n)\n",
    "    if n < 1:\n",
    "        raise ValueError(\"period must be a positive integer\")\n",
    "    dom = self.domain()\n",
    "    if not is_ProjectiveSpace(dom):\n",
    "        raise NotImplementedError(\"not implemented for subschemes\")\n",
    "    if not embedding is None:\n",
    "        from sage.misc.superseded import deprecation\n",
    "        deprecation(23333, \"embedding keyword no longer used\")\n",
    "    if self.degree() <= 1:\n",
    "        raise TypeError(\"must have degree at least 2\")\n",
    "    if not type in ['point', 'cycle']:\n",
    "        raise ValueError(\"type must be either point or cycle\")\n",
    "    if dom.dimension_relative() > 1 or return_polynomial:\n",
    "        if type == 'cycle':\n",
    "            raise NotImplementedError('cycle not implemented for dimension greater than 1')\n",
    "        base_ring = self.base_ring()\n",
    "        d = self.degree()\n",
    "        N = dom.dimension_relative()\n",
    "        f = copy(self)\n",
    "        Fn = f.nth_iterate_map(n)\n",
    "        print('formal:', formal)\n",
    "        if not base_ring.is_field():\n",
    "            F = FractionField(base_ring)\n",
    "            f.normalize_coordinates()\n",
    "            X = f.periodic_points(n, minimal=False, formal=formal, return_scheme=True)\n",
    "            X = X.change_ring(F)\n",
    "        else:\n",
    "            F = base_ring\n",
    "            if is_FractionField(base_ring):\n",
    "                if is_MPolynomialRing(base_ring.ring()) or is_PolynomialRing(base_ring.ring()):\n",
    "                    f.normalize_coordinates()\n",
    "                    Fn_ring = Fn.change_ring(base_ring.ring())\n",
    "                    X = Fn_ring.periodic_points(n, minimal=False, formal=formal, return_scheme=True)\n",
    "                    X = X.change_ring(F)\n",
    "            else:\n",
    "                X = f.periodic_points(n, minimal=False, formal=formal, return_scheme=True)\n",
    "        print('X:', X)\n",
    "        print('F:', F)\n",
    "        newR = PolynomialRing(F, 'w, t', 2, order='lex')\n",
    "        if not base_ring.is_field():\n",
    "            ringR = PolynomialRing(base_ring, 'w, t', 2, order='lex')\n",
    "        if chow:\n",
    "            # create full polynomial ring\n",
    "            R = PolynomialRing(F, 'v', 2*N+3, order='lex')\n",
    "            var = list(R.gens())\n",
    "            # create polynomial ring for result\n",
    "            R2 = PolynomialRing(F, var[:N] + var[-2:])\n",
    "            psi = R2.hom(N*[0]+list(newR.gens()), newR)\n",
    "            # create substition to set extra variables to 0\n",
    "            R_zero = {R.gen(N):1}\n",
    "            for j in range(N+1, 2*N+1):\n",
    "                R_zero[R.gen(j)] = 0\n",
    "            t = var.pop()\n",
    "            w = var.pop()\n",
    "            var = var[:N]\n",
    "        else:\n",
    "            R = PolynomialRing(F, 'v', N+2, order='lex')\n",
    "            psi = R.hom(N*[0] + list(newR.gens()), newR)\n",
    "            var = list(R.gens())\n",
    "            t = var.pop()\n",
    "            w = var.pop()\n",
    "        print('R ordering:', R.term_order())\n",
    "        sigma_polynomial = 1\n",
    "        # go through each affine patch to avoid repeating periodic points\n",
    "        # setting the visited coordiantes to 0 as we go\n",
    "        for j in range(N,-1,-1):\n",
    "            Xa = X.affine_patch(j)\n",
    "            print('Xa:', Xa)\n",
    "            fa = Fn.dehomogenize(j)\n",
    "            print('fa:', fa)\n",
    "            Pa = fa.domain()\n",
    "            Ra = Pa.coordinate_ring()\n",
    "            # create the images for the Hom to the ring we will do the elimination over\n",
    "            # with done affine patch coordinates as 0\n",
    "            if chow:\n",
    "                im = [R.gen(i) for i in range(j)] + (N-j)*[0] + [R.gen(i) for i in range(N, R.ngens())]\n",
    "            else:\n",
    "                im = list(R.gens())[:j] + (N-j)*[0] + [R.gen(i) for i in range(N, R.ngens())]\n",
    "            phi = Ra.hom(R.gens()[0:len(Ra.gens())])\n",
    "            # create polymomial that evaluates to the characteristic polynomial\n",
    "            M = t*matrix.identity(R, N)\n",
    "            g = (M-jacobian([phi(F.numerator())/phi(F.denominator()) for F in fa], var)).det()\n",
    "            print('g:', g)\n",
    "            # create the terms of the sigma invariants prod(w-lambda)\n",
    "            g_prime = w*R(g.denominator())(im)-R(g.numerator())(im)\n",
    "            print('g_prime:', g_prime)\n",
    "            # move the defining polynomials to the polynomial ring\n",
    "            L = [phi(h)(im) for h in Xa.defining_polynomials()]\n",
    "            print('L1:', L)\n",
    "            # add the appropriate final polynomial to compute the sigma invariant polynomial\n",
    "            # via a Poisson product in elimination\n",
    "            if chow:\n",
    "                L += [g_prime + sum(R.gen(j-1)*R.gen(N+j)*(R(g.denominator())(im)) for j in range(1,N+1))]\n",
    "            else:\n",
    "                L += [g_prime]\n",
    "            I = R.ideal(L)\n",
    "            # since R is lex ordering, this is an elimination step\n",
    "            print('I:', I)\n",
    "            G = I.groebner_basis()\n",
    "            print('G:', G)\n",
    "            print('G[-1]:', G[-1])\n",
    "            # the polynomial we need is the one just in w and t\n",
    "            if chow:\n",
    "                unflattened = G[-1]\n",
    "                poly = psi(unflattened.specialization(R_zero))\n",
    "                if len(list(poly)) > 0:\n",
    "                    poly *= poly.coefficients()[0].inverse_of_unit()\n",
    "                sigma_polynomial *= poly\n",
    "            else:\n",
    "                sigma_polynomial *= psi(G[-1])\n",
    "        if not base_ring.is_field():\n",
    "            sigma_polynomial = ringR(sigma_polynomial)\n",
    "        if return_polynomial:\n",
    "            return sigma_polynomial\n",
    "        # if we are returing a numerical list, read off the coefficients\n",
    "        # in order of degree adjusting sign appropriately\n",
    "        sigmas = []\n",
    "        sigma_dictionary = dict([list(reversed(i)) for i in list(sigma_polynomial)])\n",
    "        degree_w, degree_t = sigma_polynomial.degrees()\n",
    "        w, t = sigma_polynomial.variables()\n",
    "        sigmas += [degree_w, degree_t]\n",
    "        for i in range(degree_w+1):\n",
    "            for j in range(degree_t+1):\n",
    "                sigmas.append((-1)**(i+j)*sigma_dictionary.pop(w**(degree_w - i)*t**(degree_t - j), 0))\n",
    "        return sigmas"
   ]
  },
  {
   "cell_type": "code",
   "execution_count": 46,
   "metadata": {},
   "outputs": [
    {
     "name": "stdout",
     "output_type": "stream",
     "text": [
      "formal: True\n",
      "X: Closed subscheme of Projective Space of dimension 1 over Fraction Field of Univariate Polynomial Ring in c over Rational Field defined by:\n",
      "  x^2 + x*y + (c + 1)*y^2\n",
      "F: Fraction Field of Univariate Polynomial Ring in c over Rational Field\n",
      "R ordering: Lexicographic term order\n",
      "Xa: Closed subscheme of Affine Space of dimension 1 over Fraction Field of Univariate Polynomial Ring in c over Rational Field defined by:\n",
      "  x^2 + x + c + 1\n",
      "fa: Dynamical System of Affine Space of dimension 1 over Univariate Polynomial Ring in c over Rational Field\n",
      "  Defn: Defined on coordinates by sending (x) to\n",
      "        (x^4 + 2*c*x^2 + c^2 + c)\n",
      "g: (-4)*v0^3 + (-4*c)*v0 + v4\n",
      "g_prime: 4*v0^3 + 4*c*v0 + v3 - v4\n",
      "L1: [v0^2 + v0 + c + 1]\n",
      "I: Ideal (v0^2 + v0 + c + 1, 4*v0^3 + v0*v2 + 4*c*v0 + v3 - v4) of Multivariate Polynomial Ring in v0, v1, v2, v3, v4 over Fraction Field of Univariate Polynomial Ring in c over Rational Field\n",
      "G: [v0^2 + v0 + c + 1, v0*v2 + v3 - v4 + 4*c + 4, v0*v3 - v0*v4 + (4*c + 4)*v0 + (-c - 1)*v2 + v3 - v4 + 4*c + 4, v2^2 + (-1/(c + 1))*v2*v3 + (1/(c + 1))*v2*v4 + (-4)*v2 + (1/(c + 1))*v3^2 + (-2/(c + 1))*v3*v4 + 8*v3 + (1/(c + 1))*v4^2 + (-8)*v4 + 16*c + 16]\n",
      "G[-1]: v2^2 + (-1/(c + 1))*v2*v3 + (1/(c + 1))*v2*v4 + (-4)*v2 + (1/(c + 1))*v3^2 + (-2/(c + 1))*v3*v4 + 8*v3 + (1/(c + 1))*v4^2 + (-8)*v4 + 16*c + 16\n",
      "Xa: Closed subscheme of Affine Space of dimension 1 over Fraction Field of Univariate Polynomial Ring in c over Rational Field defined by:\n",
      "  (c + 1)*y^2 + y + 1\n",
      "fa: Dynamical System of Affine Space of dimension 1 over Univariate Polynomial Ring in c over Rational Field\n",
      "  Defn: Defined on coordinates by sending (y) to\n",
      "        (y^4/((c^2 + c)*y^4 + 2*c*y^2 + 1))\n",
      "g: ((c^4 + 2*c^3 + c^2)*v0^8*v4 + (4*c^3 + 4*c^2)*v0^6*v4 + (-4*c)*v0^5 + (6*c^2 + 2*c)*v0^4*v4 + (-4)*v0^3 + 4*c*v0^2*v4 + v4)/((c^4 + 2*c^3 + c^2)*v0^8 + (4*c^3 + 4*c^2)*v0^6 + (6*c^2 + 2*c)*v0^4 + 4*c*v0^2 + 1)\n",
      "g_prime: v3 - v4\n",
      "L1: [1]\n",
      "I: Ideal (1, v0*v2 + v3 - v4) of Multivariate Polynomial Ring in v0, v1, v2, v3, v4 over Fraction Field of Univariate Polynomial Ring in c over Rational Field\n",
      "G: [1]\n",
      "G[-1]: 1\n"
     ]
    },
    {
     "data": {
      "text/plain": [
       "w^2 + (-2)*w*t + (8*c + 8)*w + t^2 + (-8*c - 8)*t + 16*c^2 + 32*c + 16"
      ]
     },
     "execution_count": 46,
     "metadata": {},
     "output_type": "execute_result"
    }
   ],
   "source": [
    "R.<c> = QQ[]\n",
    "P.<x,y>=ProjectiveSpace(R,1)\n",
    "f=DynamicalSystem([x^2+c*y^2,y^2])\n",
    "sigma(f, 2, chow=True, formal=True, return_polynomial=True)"
   ]
  },
  {
   "cell_type": "code",
   "execution_count": 44,
   "metadata": {},
   "outputs": [
    {
     "data": {
      "text/plain": [
       "[32, 256]"
      ]
     },
     "execution_count": 44,
     "metadata": {},
     "output_type": "execute_result"
    }
   ],
   "source": [
    "f.sigma_invariants(2, formal=True)"
   ]
  },
  {
   "cell_type": "code",
   "execution_count": 6,
   "metadata": {
    "scrolled": false
   },
   "outputs": [
    {
     "name": "stdout",
     "output_type": "stream",
     "text": [
      "X: Closed subscheme of Projective Space of dimension 1 over Rational Field defined by:\n",
      "  3*y^3\n",
      "F: Rational Field\n",
      "R ordering: Lexicographic term order\n",
      "Xa: Closed subscheme of Affine Space of dimension 1 over Rational Field defined by:\n",
      "  3\n",
      "fa: Dynamical System of Affine Space of dimension 1 over Rational Field\n",
      "  Defn: Defined on coordinates by sending (x) to\n",
      "        ((x^2 + 3)/x)\n",
      "g: (v0^2*v2 - v0^2 + 3)/v0^2\n",
      "g_prime: v0^2*v1 - v0^2*v2 + v0^2 - 3\n",
      "L1: [3]\n",
      "I: Ideal (3, v0^2*v1 - v0^2*v2 + v0^2 - 3) of Multivariate Polynomial Ring in v0, v1, v2 over Rational Field\n",
      "G: [1]\n",
      "G[-1]: 1\n",
      "Xa: Closed subscheme of Affine Space of dimension 1 over Rational Field defined by:\n",
      "  3*y^3\n",
      "fa: Dynamical System of Affine Space of dimension 1 over Rational Field\n",
      "  Defn: Defined on coordinates by sending (y) to\n",
      "        (y/(3*y^2 + 1))\n",
      "g: (9*v0^4*v2 + 6*v0^2*v2 + 3*v0^2 + v2 - 1)/(9*v0^4 + 6*v0^2 + 1)\n",
      "g_prime: v1 - v2 + 1\n",
      "L1: [0]\n",
      "I: Ideal (0, v1 - v2 + 1) of Multivariate Polynomial Ring in v0, v1, v2 over Rational Field\n",
      "G: [v1 - v2 + 1]\n",
      "G[-1]: v1 - v2 + 1\n"
     ]
    },
    {
     "data": {
      "text/plain": [
       "w - t + 1"
      ]
     },
     "execution_count": 6,
     "metadata": {},
     "output_type": "execute_result"
    }
   ],
   "source": [
    "R.<c>=QQ[]\n",
    "P.<x,y>=ProjectiveSpace(QQ,1)\n",
    "f=DynamicalSystem([x^2+3*y^2,x*y])\n",
    "sigma(f, 1, return_polynomial=True)"
   ]
  },
  {
   "cell_type": "code",
   "execution_count": 108,
   "metadata": {},
   "outputs": [
    {
     "data": {
      "text/plain": [
       "[(0.500000000000000? - 1.658312395177700?*I : 1),\n",
       " (0.500000000000000? + 1.658312395177700?*I : 1),\n",
       " (1 : 0)]"
      ]
     },
     "execution_count": 108,
     "metadata": {},
     "output_type": "execute_result"
    }
   ],
   "source": [
    "f.periodic_points(1, return_scheme=True).rational_points(F=QQbar)"
   ]
  },
  {
   "cell_type": "code",
   "execution_count": 103,
   "metadata": {},
   "outputs": [
    {
     "data": {
      "text/plain": [
       "[1, 1, 1]"
      ]
     },
     "execution_count": 103,
     "metadata": {},
     "output_type": "execute_result"
    }
   ],
   "source": [
    "f.multiplier_spectra(1)"
   ]
  },
  {
   "cell_type": "code",
   "execution_count": 3,
   "metadata": {},
   "outputs": [
    {
     "data": {
      "text/plain": [
       "Multivariate Polynomial Ring in w, t over Univariate Polynomial Ring in c over Rational Field"
      ]
     },
     "execution_count": 3,
     "metadata": {},
     "output_type": "execute_result"
    }
   ],
   "source": [
    "R.<c>=QQ[]\n",
    "P.<x,y>=ProjectiveSpace(R,1)\n",
    "f=DynamicalSystem([x^2+c*y^2,y^2])\n",
    "f.sigma_invariants(1, return_polynomial=True).parent()"
   ]
  },
  {
   "cell_type": "code",
   "execution_count": 49,
   "metadata": {},
   "outputs": [
    {
     "data": {
      "text/plain": [
       "51"
      ]
     },
     "execution_count": 49,
     "metadata": {},
     "output_type": "execute_result"
    }
   ],
   "source": [
    "R.<c,d>=QQ[]\n",
    "P.<x,y,z>=ProjectiveSpace(R,2)\n",
    "f=DynamicalSystem([x^2+c*z^2,y^2+d*z^2,z^2])\n",
    "len(dict(f.sigma_invariants(1,return_polynomial=True)))"
   ]
  },
  {
   "cell_type": "code",
   "execution_count": 2,
   "metadata": {},
   "outputs": [
    {
     "data": {
      "text/plain": [
       "False"
      ]
     },
     "execution_count": 2,
     "metadata": {},
     "output_type": "execute_result"
    }
   ],
   "source": [
    "P.<x,y,z>=ProjectiveSpace(QQ,2)\n",
    "f=DynamicalSystem([x^2-z^2,y^2,z^2])\n",
    "f.sigma_invariants(2,return_polynomial=True,formal = False)==f.sigma_invariants(2,return_polynomial=True,formal = True)"
   ]
  },
  {
   "cell_type": "code",
   "execution_count": 4,
   "metadata": {},
   "outputs": [
    {
     "data": {
      "text/plain": [
       "<class 'sage.schemes.projective.projective_point.SchemeMorphism_point_projective_field'>"
      ]
     },
     "execution_count": 4,
     "metadata": {},
     "output_type": "execute_result"
    }
   ],
   "source": [
    "type(P((1,1,1)))"
   ]
  },
  {
   "cell_type": "code",
   "execution_count": null,
   "metadata": {},
   "outputs": [],
   "source": []
  }
 ],
 "metadata": {
  "kernelspec": {
   "display_name": "SageMath 9.4.beta4",
   "language": "sage",
   "name": "sagemath"
  },
  "language_info": {
   "codemirror_mode": {
    "name": "ipython",
    "version": 3
   },
   "file_extension": ".py",
   "mimetype": "text/x-python",
   "name": "python",
   "nbconvert_exporter": "python",
   "pygments_lexer": "ipython3",
   "version": "3.8.10"
  }
 },
 "nbformat": 4,
 "nbformat_minor": 4
}
