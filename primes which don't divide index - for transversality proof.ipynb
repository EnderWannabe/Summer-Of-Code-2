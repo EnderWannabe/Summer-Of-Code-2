{
 "cells": [
  {
   "cell_type": "code",
   "execution_count": 51,
   "metadata": {},
   "outputs": [],
   "source": [
    "lower = 4500\n",
    "upper = 5000\n",
    "for d in range(lower, upper):\n",
    "    for k in range(0, ceil((d-2)/2)+1):\n",
    "        terms_of_product = [j for j in range(d, d-k-1, -1)]\n",
    "        found_good_prime = False\n",
    "        for j in range(len(terms_of_product)):\n",
    "            for tup in ZZ(terms_of_product[j]).factor():\n",
    "                prime = tup[0]\n",
    "                if prime > k:\n",
    "                    if j == 0:\n",
    "                        found_good_prime = True\n",
    "                    else:\n",
    "                        try:\n",
    "                            ZZ(tup[1]/j)\n",
    "                        except:\n",
    "                            found_good_prime = True\n",
    "                if found_good_prime:\n",
    "                    break\n",
    "            if found_good_prime:\n",
    "                break\n",
    "        if not found_good_prime:\n",
    "            print('BAD CASE')\n",
    "            print('d:', d)\n",
    "            print('k:', k)\n",
    "        #print(terms_of_product, k)\n",
    "        #print(possible_primes, bad_primes)"
   ]
  },
  {
   "cell_type": "code",
   "execution_count": 33,
   "metadata": {},
   "outputs": [],
   "source": [
    "# d = 27 and k = 3 is only bad case I found, up until d = 5000\n",
    "\n",
    "A.<z> = AffineSpace(QQ,1)\n",
    "d=27 #specify d and k\n",
    "k=3\n",
    "B=0\n",
    "for i in range(0,k+1):\n",
    "     b = ((-1)**(k-i))\n",
    "     J=1\n",
    "     for j in range(0,k+1):\n",
    "         if j!=i:\n",
    "             J *= (d-j)*(1/(factorial(k-i)*factorial(i)))\n",
    "     B += b*J*z**(d-i)"
   ]
  },
  {
   "cell_type": "code",
   "execution_count": 36,
   "metadata": {},
   "outputs": [
    {
     "name": "stdout",
     "output_type": "stream",
     "text": [
      "-1 * 2 * 3^-2 * 5^2 * 13\n",
      "3^4 * 5^2\n",
      "-1 * 2 * 3^4 * 13\n",
      "2^-2 * 5^2 * 13\n"
     ]
    }
   ],
   "source": [
    "# it seems 5 is the only possible prime, and is bad\n",
    "for coeff in B:\n",
    "    print(coeff[0].factor())"
   ]
  },
  {
   "cell_type": "code",
   "execution_count": null,
   "metadata": {},
   "outputs": [],
   "source": []
  }
 ],
 "metadata": {
  "kernelspec": {
   "display_name": "SageMath 9.4.beta3",
   "language": "sage",
   "name": "sagemath"
  },
  "language_info": {
   "codemirror_mode": {
    "name": "ipython",
    "version": 3
   },
   "file_extension": ".py",
   "mimetype": "text/x-python",
   "name": "python",
   "nbconvert_exporter": "python",
   "pygments_lexer": "ipython3",
   "version": "3.8.10"
  }
 },
 "nbformat": 4,
 "nbformat_minor": 4
}
