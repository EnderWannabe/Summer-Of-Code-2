{
 "cells": [
  {
   "cell_type": "code",
   "execution_count": 8,
   "metadata": {},
   "outputs": [],
   "source": [
    "def conj_set_preimage(self, other, num_cpus = 1):\n",
    "    from itertools import product\n",
    "    from copy import deepcopy\n",
    "    from sage.parallel.use_fork import p_iter_fork\n",
    "    f = copy(self)\n",
    "    g = copy(other)\n",
    "    n = f.domain().dimension_relative()\n",
    "    if (n == 1) and (R in NumberFields() or R in FiniteFields())\\\n",
    "        and (f.sigma_invariants(1) != g.sigma_invariants(1)):\n",
    "        return []\n",
    "    \n",
    "    def isLinearlyIndependent(S):\n",
    "        M = matrix([list(t) for t in S])\n",
    "        if len(S) < n+1:\n",
    "            if M.rank() == len(S):\n",
    "                return True\n",
    "            return False\n",
    "        else:\n",
    "            if any(l == 0 for l in M.minors(n+1)):\n",
    "                return False\n",
    "            return True\n",
    "\n",
    "    L = Set(f.periodic_points(1))\n",
    "    K = Set(g.periodic_points(1))\n",
    "    if len(L) != len(K):  # checks maps have the same number of fixed points\n",
    "        return []\n",
    "    mult_to_point_L = {}\n",
    "    mult_to_point_K = {}\n",
    "    point_to_mult_L = {}\n",
    "    point_to_mult_K = {}\n",
    "    level = 0\n",
    "    for i in range(len(L)):\n",
    "        mult_L = f.multiplier(L[i], 1).charpoly()\n",
    "        mult_K = g.multiplier(K[i], 1).charpoly()\n",
    "        tup_L = (mult_L, level)\n",
    "        tup_K = (mult_K, level)\n",
    "        if tup_L not in mult_to_point_L:\n",
    "            mult_to_point_L[tup_L] = [L[i]]\n",
    "        else:\n",
    "            mult_to_point_L[tup_L] += [L[i]]\n",
    "        if tup_K not in mult_to_point_K:\n",
    "            mult_to_point_K[tup_K] = [K[i]]\n",
    "        else:\n",
    "            mult_to_point_K[tup_K] += [K[i]]\n",
    "        point_to_mult_L[L[i]] = (mult_L, level)\n",
    "        point_to_mult_K[K[i]] = (mult_K, level)\n",
    "    #print('mult_to_point_L:', mult_to_point_L)\n",
    "    #print('mult_to_point_K:', mult_to_point_K)\n",
    "    #print('point_to_mult_L:', point_to_mult_L)\n",
    "    #print('point_to_mult_K:', point_to_mult_K)\n",
    "    repeated_mult_L = {}\n",
    "    for mult_L in mult_to_point_L:\n",
    "        repeated = len(mult_to_point_L[mult_L])\n",
    "        if mult_L not in mult_to_point_K:\n",
    "            return []\n",
    "        elif len(mult_to_point_K[mult_L]) != repeated:\n",
    "            return []\n",
    "        if repeated not in repeated_mult_L:\n",
    "            repeated_mult_L[repeated] = [mult_to_point_L[mult_L]]\n",
    "        else:\n",
    "            repeated_mult_L[repeated] += [mult_to_point_L[mult_L]]\n",
    "    #print('repeated_mult:', repeated_mult_L)\n",
    "    d = len(L)\n",
    "    r = f.domain().base_ring()\n",
    "    more = True\n",
    "    source = []\n",
    "    corresponding = []\n",
    "    for r in sorted(repeated_mult_L.keys()):\n",
    "        for point_lst in repeated_mult_L[r]:\n",
    "            for point in point_lst:\n",
    "                if isLinearlyIndependent(source + [point]):\n",
    "                    source.append(point)\n",
    "                    mult = point_to_mult_L[point]\n",
    "                    # if another point with this multiplier and level pair is in S\n",
    "                    # then the multiplier level pair will be the last element of corresponding\n",
    "                    if len(corresponding) != 0:\n",
    "                        if corresponding[-1][0] == mult:\n",
    "                            corresponding[-1][1] += 1\n",
    "                        else:\n",
    "                            corresponding.append([mult, 1])\n",
    "                    else:\n",
    "                        corresponding.append([mult, 1])\n",
    "                if len(source) == n+2:\n",
    "                    more = False\n",
    "                    break\n",
    "            if len(source) == n+2:\n",
    "                break\n",
    "        if len(source) == n+2:\n",
    "            break\n",
    "    #print('corresponding:', corresponding)\n",
    "    i_repeated_mult = deepcopy(repeated_mult_L)\n",
    "    a_repeated_mult = {}\n",
    "    found_no_more = True\n",
    "    while more:\n",
    "        level += 1\n",
    "        for r in i_repeated_mult:\n",
    "            for point_lst_L in i_repeated_mult[r]:\n",
    "                old_tup_L = point_to_mult_L[point_lst_L[0]]\n",
    "                #print('current tup:', old_tup_L)\n",
    "                point_lst_K = mult_to_point_K[old_tup_L]\n",
    "                mult_L = old_tup_L[0]\n",
    "                Tl = []\n",
    "                Tk = []\n",
    "                for pnt in point_lst_L:\n",
    "                    for preimage in f.rational_preimages(pnt):\n",
    "                        if preimage != pnt:\n",
    "                            Tl.append(preimage)\n",
    "                for pnt in point_lst_K:\n",
    "                    for preimage in g.rational_preimages(pnt):\n",
    "                        if preimage != pnt:\n",
    "                            Tk.append(preimage)\n",
    "                #print('Tl:', Tl)\n",
    "                #print('Tk:', Tk)\n",
    "                if len(Tl) != len(Tk):\n",
    "                    return []\n",
    "                if len(Tl) != 0:\n",
    "                    found_no_more = False\n",
    "                    new_tup_L = (mult_L, level)\n",
    "                    new_tup_K = (mult_L, level)\n",
    "                    #print('new_tup_L:', new_tup_L)\n",
    "                    mult_to_point_L[new_tup_L] = Tl\n",
    "                    mult_to_point_K[new_tup_K] = Tk\n",
    "                    for i in range(len(Tl)):\n",
    "                        point_to_mult_L[Tl[i]] = new_tup_L\n",
    "                        point_to_mult_K[Tk[i]] = new_tup_K\n",
    "                    repeated = len(Tl)\n",
    "                    if repeated not in repeated_mult_L:\n",
    "                        repeated_mult_L[repeated] = [Tl]\n",
    "                    else:\n",
    "                        repeated_mult_L[repeated] += [Tl]\n",
    "                    if repeated not in a_repeated_mult:\n",
    "                        a_repeated_mult[repeated] = [Tl]\n",
    "                    else:\n",
    "                        a_repeated_mult[repeated] += [Tl]\n",
    "                    # right now rechecking independence\n",
    "                    source = []\n",
    "                    corresponding = []\n",
    "                    for r in sorted(repeated_mult_L.keys()):\n",
    "                        for point_lst in repeated_mult_L[r]:\n",
    "                            for point in point_lst:\n",
    "                                if isLinearlyIndependent(source + [point]):\n",
    "                                    source.append(point)\n",
    "                                    mult = point_to_mult_L[point]\n",
    "                                    # if another point with this multiplier and level pair is in S\n",
    "                                    # then the multiplier level pair will be the last element of corresponding\n",
    "                                    if len(corresponding) != 0:\n",
    "                                        if corresponding[-1][0] == mult:\n",
    "                                            corresponding[-1][1] += 1\n",
    "                                        else:\n",
    "                                            corresponding.append([mult, 1])\n",
    "                                    else:\n",
    "                                        corresponding.append([mult, 1])\n",
    "                                if len(source) == n+2:\n",
    "                                    more = False\n",
    "                                    break\n",
    "                            if len(source) == n+2:\n",
    "                                break\n",
    "                        if len(source) == n+2:\n",
    "                            break\n",
    "                    print(source)\n",
    "                if not more:\n",
    "                    break\n",
    "            if not more:\n",
    "                break\n",
    "        print(point_to_mult_L)\n",
    "        if found_no_more:\n",
    "            all_points = []\n",
    "            for r in sorted(repeated_mult_L.keys()):\n",
    "                for point_lst in repeated_mult_L[r]:\n",
    "                    all_points += [(pnt, r) for pnt in point_lst]\n",
    "            best_source = []\n",
    "            lowest_iterations = -1\n",
    "            for subset in Subsets(range(len(all_points)), n+2):\n",
    "                source = []\n",
    "                for i in subset:\n",
    "                    source.append(all_points[i][0])\n",
    "                if isLinearlyIndependent(source):\n",
    "                    corresponding = []\n",
    "                    mult_only = []\n",
    "                    for i in subset:\n",
    "                        mult = point_to_mult_L[all_points[i][0]]\n",
    "                        if mult in mult_only:\n",
    "                            corresponding[mult_only.index(mult)][1] += 1\n",
    "                        else:\n",
    "                            corresponding.append([mult, 1])\n",
    "                            mult_only.append(mult)\n",
    "                    more = False\n",
    "                    print(source)\n",
    "            if more:\n",
    "                raise ValueError('no more rational preimages')\n",
    "        i_repeated_mult = deepcopy(a_repeated_mult)\n",
    "        a_repeated_mult = {}\n",
    "        found_no_more = True\n",
    "        #print('i_repeated_mult:', i_repeated_mult)\n",
    "    #print('source:', source)\n",
    "    #print('mult_to_point_L:', mult_to_point_L)\n",
    "    #print('mult_to_point_K:', mult_to_point_K)\n",
    "    #print('point_to_mult_L:', point_to_mult_L)\n",
    "    #print('point_to_mult_K:', point_to_mult_K)\n",
    "    #print('repeated_mult_L keys:', sorted(repeated_mult_L.keys()))\n",
    "    possible_targets = []\n",
    "    subset_iterators = []\n",
    "    for tup in corresponding:\n",
    "        possible_targets.append([mult_to_point_K[tup[0]], tup[1]])\n",
    "    #print('possible_targets:', possible_targets)\n",
    "    for lst in possible_targets:\n",
    "        subset_iterators.append(Subsets(range(len(lst[0])), lst[1]))\n",
    "    #print('subset_iterators:', subset_iterators)\n",
    "    #print('cardinalities:', [itr.cardinality() for itr in subset_iterators])\n",
    "    Conj = []\n",
    "\n",
    "    def find_conjugations_subset(tuples):\n",
    "        conj = []\n",
    "        for tup in tuples:\n",
    "            target_set = []\n",
    "            for i in range(len(tup)):\n",
    "                for j in tup[i]:\n",
    "                    target_set.append(possible_targets[i][0][j])\n",
    "            if isLinearlyIndependent(target_set):\n",
    "                subset_arrangements = []\n",
    "                for subset in tup:\n",
    "                    subset_arrangements.append(Arrangements(subset, len(subset)))\n",
    "                for tup in product(*subset_arrangements):\n",
    "                    current_target = []\n",
    "                    for i in range(len(tup)):\n",
    "                        for j in tup[i]:\n",
    "                            current_target.append(possible_targets[i][0][j])\n",
    "                    phi = f.domain().point_transformation_matrix(current_target, source)\n",
    "                    if f.conjugate(phi) == g:\n",
    "                        conj.append(phi)\n",
    "        return conj\n",
    "    \n",
    "    def find_conjugations_arrangement(tuples):\n",
    "        conj = []\n",
    "        for tup in tuples:\n",
    "            current_target = []\n",
    "            for i in range(len(tup)):\n",
    "                for j in tup[i]:\n",
    "                    current_target.append(possible_targets[i][0][j])\n",
    "            phi = f.domain().point_transformation_matrix(current_target, source)\n",
    "            if f.conjugate(phi) == g:\n",
    "                conj.append(phi)\n",
    "        return conj\n",
    "\n",
    "    if num_cpus > 1:\n",
    "        all_subsets = list(product(*subset_iterators))\n",
    "        print('length:', len(all_subsets))\n",
    "        parallel_data = []\n",
    "        if len(all_subsets) > num_cpus:\n",
    "            for i in range(num_cpus):\n",
    "                start = floor(len(all_subsets)*i/num_cpus)\n",
    "                end = floor(len(all_subsets)*(i+1)/num_cpus)\n",
    "                tuples = all_subsets[start:end]\n",
    "                parallel_data.append(([tuples], {}))\n",
    "\n",
    "            X = p_iter_fork(num_cpus)\n",
    "            for ret in X(find_conjugations_subset, parallel_data):\n",
    "                if ret[1]:\n",
    "                    Conj += ret[1]\n",
    "        else:\n",
    "            good_targets = []\n",
    "            for tup in product(*subset_iterators):\n",
    "                target_set = []\n",
    "                for i in range(len(tup)):\n",
    "                    for j in tup[i]:\n",
    "                        target_set.append(possible_targets[i][0][j])\n",
    "                if isLinearlyIndependent(target_set):\n",
    "                    good_targets.append(tup)\n",
    "            all_arrangements = []\n",
    "            for tup in good_targets:\n",
    "                subset_arrangements = []\n",
    "                for subset in tup:\n",
    "                    subset_arrangements.append(Arrangements(subset, len(subset)))\n",
    "                all_arrangements += list(product(*subset_arrangements))\n",
    "            parallel_data = []\n",
    "            for i in range(num_cpus):\n",
    "                start = floor(len(all_arrangements)*i/num_cpus)\n",
    "                end = floor(len(all_arrangements)*(i+1)/num_cpus)\n",
    "                tuples = all_arrangements[start:end]\n",
    "                parallel_data.append(([tuples], {}))\n",
    "            X = p_iter_fork(num_cpus)\n",
    "            for ret in X(find_conjugations_arrangement, parallel_data):\n",
    "                if ret[1]:\n",
    "                    Conj += ret[1]\n",
    "    else:\n",
    "        Conj = find_conjugations_subset(product(*subset_iterators))\n",
    "    return Conj"
   ]
  },
  {
   "cell_type": "code",
   "execution_count": 11,
   "metadata": {},
   "outputs": [
    {
     "name": "stdout",
     "output_type": "stream",
     "text": [
      "67.5 ms ± 913 µs per loop (mean ± std. dev. of 7 runs, 10 loops each)\n"
     ]
    }
   ],
   "source": [
    "%%timeit\n",
    "P.<x,y,z> = ProjectiveSpace(QQ, 2)\n",
    "f = DynamicalSystem([x^3, y^3, z^3])\n",
    "conj_set_preimage(f, f)"
   ]
  },
  {
   "cell_type": "code",
   "execution_count": 2,
   "metadata": {},
   "outputs": [
    {
     "name": "stdout",
     "output_type": "stream",
     "text": [
      "length: 126\n",
      "CPU times: user 1.32 s, sys: 82.9 ms, total: 1.4 s\n",
      "Wall time: 5.96 s\n"
     ]
    }
   ],
   "source": [
    "%%time\n",
    "K.<v>=CyclotomicField(3)\n",
    "P.<x,y,z> = ProjectiveSpace(K, 2)\n",
    "f = DynamicalSystem([8*x^7 - 35*x^4*y^3 - 35*x^4*z^3 - 7*x*y^6 - 140*x*y^3*z^3 - 7*x*z^6, -7*x^6*y - 35*x^3*y^4 - 140*x^3*y*z^3 + 8*y^7 - 35*y^4*z^3 - 7*y*z^6,-7*x^6*z - 140*x^3*y^3*z - 35*x^3*z^4 - 7*y^6*z - 35*y^3*z^4 + 8*z^7])\n",
    "auto = conj_set_preimage(f, f, 4)"
   ]
  },
  {
   "cell_type": "code",
   "execution_count": 30,
   "metadata": {
    "scrolled": true
   },
   "outputs": [
    {
     "name": "stdout",
     "output_type": "stream",
     "text": [
      "6.7 s ± 280 ms per loop (mean ± std. dev. of 7 runs, 1 loop each)\n"
     ]
    }
   ],
   "source": [
    "%%timeit\n",
    "P.<x,y,z,w,j,t,h> = ProjectiveSpace(QQ, 6)\n",
    "f = DynamicalSystem([x^2, y^2, z^2, w^2, j^2, t^2, h^2])\n",
    "auto = conj_set_preimage(f, f, 4)"
   ]
  },
  {
   "cell_type": "code",
   "execution_count": 3,
   "metadata": {},
   "outputs": [
    {
     "name": "stdout",
     "output_type": "stream",
     "text": [
      "length: 32\n",
      "CPU times: user 4.62 s, sys: 31.5 ms, total: 4.65 s\n",
      "Wall time: 15.1 s\n"
     ]
    }
   ],
   "source": [
    "%%time\n",
    "P.<x,y,z,w,t,h> = ProjectiveSpace(QQ, 5)\n",
    "f = DynamicalSystem([x^3, y^3, z^3, w^3, t^3, h^3])\n",
    "auto = conj_set_preimage(f, f, 14)"
   ]
  },
  {
   "cell_type": "code",
   "execution_count": 61,
   "metadata": {},
   "outputs": [
    {
     "data": {
      "text/plain": [
       "23040"
      ]
     },
     "execution_count": 61,
     "metadata": {},
     "output_type": "execute_result"
    }
   ],
   "source": [
    "len(auto)"
   ]
  },
  {
   "cell_type": "code",
   "execution_count": 18,
   "metadata": {},
   "outputs": [
    {
     "name": "stdout",
     "output_type": "stream",
     "text": [
      " "
     ]
    }
   ],
   "source": [
    "K.<v>=CyclotomicField(3)\n",
    "P.<x,y,z> = ProjectiveSpace(QQ, 2)\n",
    "f = DynamicalSystem([8*x^7 - 35*x^4*y^3 - 35*x^4*z^3 - 7*x*y^6 - 140*x*y^3*z^3 - 7*x*z^6, -7*x^6*y - 35*x^3*y^4 - 140*x^3*y*z^3 + 8*y^7 - 35*y^4*z^3 - 7*y*z^6,-7*x^6*z - 140*x^3*y^3*z - 35*x^3*z^4 - 7*y^6*z - 35*y^3*z^4 + 8*z^7])\n",
    "%prun auto = conj_set_preimage(f, f)"
   ]
  },
  {
   "cell_type": "code",
   "execution_count": 21,
   "metadata": {},
   "outputs": [
    {
     "ename": "ValueError",
     "evalue": "no more rational preimages",
     "output_type": "error",
     "traceback": [
      "\u001b[0;31m---------------------------------------------------------------------------\u001b[0m",
      "\u001b[0;31mValueError\u001b[0m                                Traceback (most recent call last)",
      "\u001b[0;32m<ipython-input-21-cab9aabcf02f>\u001b[0m in \u001b[0;36m<module>\u001b[0;34m\u001b[0m\n\u001b[1;32m      1\u001b[0m \u001b[0mP\u001b[0m \u001b[0;34m=\u001b[0m \u001b[0mProjectiveSpace\u001b[0m\u001b[0;34m(\u001b[0m\u001b[0mQQ\u001b[0m\u001b[0;34m,\u001b[0m \u001b[0mInteger\u001b[0m\u001b[0;34m(\u001b[0m\u001b[0;36m1\u001b[0m\u001b[0;34m)\u001b[0m\u001b[0;34m,\u001b[0m \u001b[0mnames\u001b[0m\u001b[0;34m=\u001b[0m\u001b[0;34m(\u001b[0m\u001b[0;34m'x'\u001b[0m\u001b[0;34m,\u001b[0m \u001b[0;34m'y'\u001b[0m\u001b[0;34m,\u001b[0m\u001b[0;34m)\u001b[0m\u001b[0;34m)\u001b[0m\u001b[0;34m;\u001b[0m \u001b[0;34m(\u001b[0m\u001b[0mx\u001b[0m\u001b[0;34m,\u001b[0m \u001b[0my\u001b[0m\u001b[0;34m,\u001b[0m\u001b[0;34m)\u001b[0m \u001b[0;34m=\u001b[0m \u001b[0mP\u001b[0m\u001b[0;34m.\u001b[0m\u001b[0m_first_ngens\u001b[0m\u001b[0;34m(\u001b[0m\u001b[0;36m2\u001b[0m\u001b[0;34m)\u001b[0m\u001b[0;34m\u001b[0m\u001b[0;34m\u001b[0m\u001b[0m\n\u001b[1;32m      2\u001b[0m \u001b[0mf\u001b[0m \u001b[0;34m=\u001b[0m \u001b[0mDynamicalSystem_projective\u001b[0m\u001b[0;34m(\u001b[0m\u001b[0;34m[\u001b[0m\u001b[0mInteger\u001b[0m\u001b[0;34m(\u001b[0m\u001b[0;36m3\u001b[0m\u001b[0;34m)\u001b[0m\u001b[0;34m*\u001b[0m\u001b[0mx\u001b[0m\u001b[0;34m**\u001b[0m\u001b[0mInteger\u001b[0m\u001b[0;34m(\u001b[0m\u001b[0;36m2\u001b[0m\u001b[0;34m)\u001b[0m\u001b[0;34m*\u001b[0m\u001b[0my\u001b[0m \u001b[0;34m-\u001b[0m \u001b[0my\u001b[0m\u001b[0;34m**\u001b[0m\u001b[0mInteger\u001b[0m\u001b[0;34m(\u001b[0m\u001b[0;36m3\u001b[0m\u001b[0;34m)\u001b[0m\u001b[0;34m,\u001b[0m \u001b[0mx\u001b[0m\u001b[0;34m**\u001b[0m\u001b[0mInteger\u001b[0m\u001b[0;34m(\u001b[0m\u001b[0;36m3\u001b[0m\u001b[0;34m)\u001b[0m \u001b[0;34m-\u001b[0m \u001b[0mInteger\u001b[0m\u001b[0;34m(\u001b[0m\u001b[0;36m3\u001b[0m\u001b[0;34m)\u001b[0m\u001b[0;34m*\u001b[0m\u001b[0mx\u001b[0m\u001b[0;34m*\u001b[0m\u001b[0my\u001b[0m\u001b[0;34m**\u001b[0m\u001b[0mInteger\u001b[0m\u001b[0;34m(\u001b[0m\u001b[0;36m2\u001b[0m\u001b[0;34m)\u001b[0m\u001b[0;34m]\u001b[0m\u001b[0;34m)\u001b[0m\u001b[0;34m\u001b[0m\u001b[0;34m\u001b[0m\u001b[0m\n\u001b[0;32m----> 3\u001b[0;31m \u001b[0mconj_set_preimage\u001b[0m\u001b[0;34m(\u001b[0m\u001b[0mf\u001b[0m\u001b[0;34m,\u001b[0m \u001b[0mf\u001b[0m\u001b[0;34m)\u001b[0m\u001b[0;34m\u001b[0m\u001b[0;34m\u001b[0m\u001b[0m\n\u001b[0m",
      "\u001b[0;32m<ipython-input-15-5ef829893d30>\u001b[0m in \u001b[0;36mconj_set_preimage\u001b[0;34m(self, other, num_cpus)\u001b[0m\n\u001b[1;32m    162\u001b[0m                 \u001b[0;32mbreak\u001b[0m\u001b[0;34m\u001b[0m\u001b[0;34m\u001b[0m\u001b[0m\n\u001b[1;32m    163\u001b[0m         \u001b[0;32mif\u001b[0m \u001b[0mfound_no_more\u001b[0m\u001b[0;34m:\u001b[0m\u001b[0;34m\u001b[0m\u001b[0;34m\u001b[0m\u001b[0m\n\u001b[0;32m--> 164\u001b[0;31m             \u001b[0;32mraise\u001b[0m \u001b[0mValueError\u001b[0m\u001b[0;34m(\u001b[0m\u001b[0;34m'no more rational preimages'\u001b[0m\u001b[0;34m)\u001b[0m\u001b[0;34m\u001b[0m\u001b[0;34m\u001b[0m\u001b[0m\n\u001b[0m\u001b[1;32m    165\u001b[0m         \u001b[0mi_repeated_mult\u001b[0m \u001b[0;34m=\u001b[0m \u001b[0mdeepcopy\u001b[0m\u001b[0;34m(\u001b[0m\u001b[0ma_repeated_mult\u001b[0m\u001b[0;34m)\u001b[0m\u001b[0;34m\u001b[0m\u001b[0;34m\u001b[0m\u001b[0m\n\u001b[1;32m    166\u001b[0m         \u001b[0ma_repeated_mult\u001b[0m \u001b[0;34m=\u001b[0m \u001b[0;34m{\u001b[0m\u001b[0;34m}\u001b[0m\u001b[0;34m\u001b[0m\u001b[0;34m\u001b[0m\u001b[0m\n",
      "\u001b[0;31mValueError\u001b[0m: no more rational preimages"
     ]
    }
   ],
   "source": [
    "P.<x,y> = ProjectiveSpace(QQ, 1)\n",
    "f = DynamicalSystem_projective([3*x^2*y - y^3, x^3 - 3*x*y^2])\n",
    "conj_set_preimage(f, f)"
   ]
  },
  {
   "cell_type": "code",
   "execution_count": 3,
   "metadata": {},
   "outputs": [
    {
     "name": "stdout",
     "output_type": "stream",
     "text": [
      "9253\n",
      "9254\n"
     ]
    },
    {
     "data": {
      "text/plain": [
       "[(([10], {}), 100), (([20], {}), 400)]"
      ]
     },
     "execution_count": 3,
     "metadata": {},
     "output_type": "execute_result"
    }
   ],
   "source": [
    "from sage.parallel.use_fork import p_iter_fork\n",
    "X = p_iter_fork(2, verbose=True)\n",
    "list(X( (lambda x: x^2), [([10],{}), ([20],{})]))\n"
   ]
  },
  {
   "cell_type": "code",
   "execution_count": 16,
   "metadata": {
    "scrolled": true
   },
   "outputs": [
    {
     "name": "stdout",
     "output_type": "stream",
     "text": [
      "length: 35\n",
      "13204\n",
      "13205\n",
      "CPU times: user 42.1 ms, sys: 13.4 ms, total: 55.6 ms\n",
      "Wall time: 154 ms\n"
     ]
    }
   ],
   "source": [
    "%%time\n",
    "P.<x,y,z> = ProjectiveSpace(GF(2), 2)\n",
    "f = DynamicalSystem([x^2, y^2, z^2])\n",
    "k = conj_set_preimage(f, f, 2)"
   ]
  },
  {
   "cell_type": "code",
   "execution_count": 9,
   "metadata": {},
   "outputs": [
    {
     "name": "stdout",
     "output_type": "stream",
     "text": [
      "[(0 : 1/2 : 1), (0 : 0 : 1), (1 : 0 : 1)]\n",
      "[(0 : 1/2 : 1), (0 : 0 : 1), (1 : 0 : 1)]\n",
      "{(0 : 1/2 : 1): (x^2 - 8*x + 12, 0), (0 : 0 : 1): (x^2, 0), (0 : 1 : 0): (x^2 - 6*x, 0), (1 : 0 : 1): (x^2 - 13/2*x + 11/2, 0), (0 : -1/2 : 1): (x^2 - 8*x + 12, 1), (-1 : 0 : 1): (x^2 - 13/2*x + 11/2, 1)}\n",
      "{(0 : 1/2 : 1): (x^2 - 8*x + 12, 0), (0 : 0 : 1): (x^2, 0), (0 : 1 : 0): (x^2 - 6*x, 0), (1 : 0 : 1): (x^2 - 13/2*x + 11/2, 0), (0 : -1/2 : 1): (x^2 - 8*x + 12, 1), (-1 : 0 : 1): (x^2 - 13/2*x + 11/2, 1)}\n",
      "[(0 : 1/2 : 1), (0 : 1 : 0), (1 : 0 : 1), (-1 : 0 : 1)]\n",
      "[(0 : 1/2 : 1), (1 : 0 : 1), (0 : -1/2 : 1), (-1 : 0 : 1)]\n",
      "[(0 : 1 : 0), (1 : 0 : 1), (0 : -1/2 : 1), (-1 : 0 : 1)]\n"
     ]
    },
    {
     "data": {
      "text/plain": [
       "[\n",
       "[1 4 1]\n",
       "[0 2 1]\n",
       "[1 1 1]\n",
       "]"
      ]
     },
     "execution_count": 9,
     "metadata": {},
     "output_type": "execute_result"
    }
   ],
   "source": [
    "sage: P.<x,y,z> = ProjectiveSpace(QQ,2)\n",
    "            sage: f = DynamicalSystem_projective([2*x^2 + 12*y*x, 11*y*x+2*y^2, x^2+z^2])\n",
    "            sage: m1 = matrix(QQ, 3, 3, [1,4,1,0,2,1,1,1,1])\n",
    "            sage: g = f.conjugate(m1)\n",
    "            sage: conj_set_preimage(f, g)"
   ]
  },
  {
   "cell_type": "code",
   "execution_count": 13,
   "metadata": {},
   "outputs": [
    {
     "name": "stdout",
     "output_type": "stream",
     "text": [
      "114 ms ± 662 µs per loop (mean ± std. dev. of 7 runs, 10 loops each)\n"
     ]
    }
   ],
   "source": [
    "%%timeit\n",
    "sage: P.<x,y,z> = ProjectiveSpace(QQ, 2)\n",
    "            sage: f = DynamicalSystem_projective([2*x^2 + 12*y*x, 11*y*x+2*y^2, x^2+z^2])\n",
    "            sage: m1 = matrix(QQ, 3, 3, [1,4,1,0,2,1,1,1,1])\n",
    "            sage: g = f.conjugate(m1)\n",
    "            sage: f.is_conjugate(g, num_cpus=2)"
   ]
  },
  {
   "cell_type": "code",
   "execution_count": null,
   "metadata": {},
   "outputs": [],
   "source": []
  }
 ],
 "metadata": {
  "kernelspec": {
   "display_name": "SageMath 9.4.beta4",
   "language": "sage",
   "name": "sagemath"
  },
  "language_info": {
   "codemirror_mode": {
    "name": "ipython",
    "version": 3
   },
   "file_extension": ".py",
   "mimetype": "text/x-python",
   "name": "python",
   "nbconvert_exporter": "python",
   "pygments_lexer": "ipython3",
   "version": "3.8.10"
  }
 },
 "nbformat": 4,
 "nbformat_minor": 4
}
