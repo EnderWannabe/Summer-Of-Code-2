{
 "cells": [
  {
   "cell_type": "code",
   "execution_count": 1,
   "metadata": {},
   "outputs": [
    {
     "data": {
      "text/plain": [
       "Dynamical System of Projective Space of dimension 2 over Rational Field\n",
       "  Defn: Defined on coordinates by sending (x : y : z) to\n",
       "        (x^2 - y^2 : x^2 - z^2 : y^2 - z^2)"
      ]
     },
     "execution_count": 1,
     "metadata": {},
     "output_type": "execute_result"
    }
   ],
   "source": [
    "P.<x,y,z> = ProjectiveSpace(QQ,2)\n",
    "f = DynamicalSystem_projective([x^2-y^2, x^2-z^2, y^2-z^2])\n",
    "f.affine_preperiodic_model(1)"
   ]
  },
  {
   "cell_type": "code",
   "execution_count": 3,
   "metadata": {},
   "outputs": [
    {
     "data": {
      "text/plain": [
       "[(-1 : -1 : 1),\n",
       " (-1 : 0 : 1),\n",
       " (-1 : 1 : 1),\n",
       " (-0.50000000000000000? - 0.866025403784439?*I : 0.50000000000000000? - 0.866025403784439?*I : 1),\n",
       " (-0.50000000000000000? + 0.866025403784439?*I : 0.50000000000000000? + 0.866025403784439?*I : 1),\n",
       " (1 : -1 : 1),\n",
       " (1 : 1 : 1)]"
      ]
     },
     "execution_count": 3,
     "metadata": {},
     "output_type": "execute_result"
    }
   ],
   "source": [
    "f.periodic_points(1, return_scheme=True).rational_points(F=QQbar)"
   ]
  },
  {
   "cell_type": "code",
   "execution_count": 4,
   "metadata": {},
   "outputs": [
    {
     "data": {
      "text/plain": [
       "[(-1 : 1 : 1),\n",
       " (-1/2 : 1/2 : 1),\n",
       " (-1/2 : 1 : 1),\n",
       " (-1/3 : 2/3 : 1),\n",
       " (0 : 0 : 1),\n",
       " (0 : 1/2 : 1),\n",
       " (0 : 1 : 1)]"
      ]
     },
     "execution_count": 4,
     "metadata": {},
     "output_type": "execute_result"
    }
   ],
   "source": [
    "P.<x,y,z> = ProjectiveSpace(QQ,2)\n",
    "f = DynamicalSystem_projective([x^2, y^2, z^2])\n",
    "g = f.affine_preperiodic_model(1)\n",
    "g.change_ring(QQbar).periodic_points(1)"
   ]
  },
  {
   "cell_type": "code",
   "execution_count": 2,
   "metadata": {},
   "outputs": [
    {
     "data": {
      "text/plain": [
       "Dynamical System of Projective Space of dimension 2 over Rational Field\n",
       "  Defn: Defined on coordinates by sending (x : y : z) to\n",
       "        (4/5*x^2 : 6/5*x^2 - 4/5*x*y + 2/5*y^2 : 6/25*x^2 - 4/25*x*y + 3/25*y^2 - 2/5*y*z + z^2)"
      ]
     },
     "execution_count": 2,
     "metadata": {},
     "output_type": "execute_result"
    }
   ],
   "source": [
    "P.<x,y,z> = ProjectiveSpace(QQ, 2)\n",
    "f = DynamicalSystem_projective([x^2, y^2, z^2])\n",
    "f.affine_preperiodic_model(1, 2)"
   ]
  },
  {
   "cell_type": "code",
   "execution_count": 1,
   "metadata": {
    "scrolled": false
   },
   "outputs": [
    {
     "data": {
      "text/plain": [
       "[(0 : 0 : 1),\n",
       " (0 : 1 : 0),\n",
       " (0 : 1 : 1),\n",
       " (1 : 0 : 0),\n",
       " (1 : 0 : 1),\n",
       " (1 : 1 : 0),\n",
       " (1 : 1 : 1)]"
      ]
     },
     "execution_count": 1,
     "metadata": {},
     "output_type": "execute_result"
    }
   ],
   "source": [
    "P.<x,y,z> = ProjectiveSpace(GF(3), 2)\n",
    "f = DynamicalSystem_projective([x^2, y^2, z^2])\n",
    "f.affine_preperiodic_model(1)\n",
    "f.periodic_points(1)"
   ]
  },
  {
   "cell_type": "code",
   "execution_count": 1,
   "metadata": {
    "scrolled": false
   },
   "outputs": [],
   "source": [
    "def affine_preperiodic_model(f, m, n):\n",
    "    from itertools import product, count\n",
    "    from sage.rings.polynomial.polynomial_ring import is_PolynomialRing\n",
    "    from sage.rings.polynomial.multi_polynomial_ring_base import is_MPolynomialRing\n",
    "    from sage.rings.fraction_field import is_FractionField\n",
    "    CR = f.coordinate_ring()\n",
    "    dom = f.domain()\n",
    "    PS = f.codomain().ambient_space()\n",
    "    N = PS.dimension_relative() + 1\n",
    "    R = f.base_ring()\n",
    "    F_1 = f.nth_iterate_map(n+m)\n",
    "    F_2 = f.nth_iterate_map(m)\n",
    "    L = [F_1[i]*F_2[j] - F_1[j]*F_2[i] for i in range(N)\n",
    "        for j in range(i+1, N)]\n",
    "    X = PS.subscheme(L + list(dom.defining_polynomials()))\n",
    "    hyperplane_at_infinity = PS.subscheme(CR.gens()[-1])\n",
    "    hyperplane_found = False\n",
    "    attempted_combinations = {}\n",
    "    \n",
    "    if R.is_field():\n",
    "        F = R\n",
    "    else:\n",
    "        F = FractionField(R)\n",
    "    \n",
    "    if X.intersection(hyperplane_at_infinity).change_ring(F).dimension() >= 0:\n",
    "        # in order to find a hyperplane to move to infinity, \n",
    "        if R.is_finite():\n",
    "            for tup in product(R, repeat=N):\n",
    "                if list(tup) != [0]*N:\n",
    "                    if PS(tup) not in attempted_combinations:\n",
    "                        hyperplane = PS.subscheme(sum([tup[i]*PS.gens()[i] for i in range(N)]))\n",
    "                        if X.intersection(hyperplane).change_ring(F).dimension() < 0:\n",
    "                            hyperplane_found = True\n",
    "                            print(hyperplane)\n",
    "                            break\n",
    "            if not hyperplane_found:\n",
    "                raise ValueError('no possible conjugation over %s makes all preperiodic points affine' %R)\n",
    "        else:\n",
    "            # if the characteristic is 0, R contains Z\n",
    "            if R.characteristic() == 0:\n",
    "                for height_bound in count(1):\n",
    "                    terms = ZZ.range(height_bound)\n",
    "                    for tup in product(terms, repeat=N):\n",
    "                        if list(tup) != [0]*N:\n",
    "                            if PS(tup) not in attempted_combinations:\n",
    "                                hyperplane = PS.subscheme(sum([tup[i]*PS.gens()[i] for i in range(N)]))\n",
    "                                if X.intersection(hyperplane).change_ring(F).dimension() < 0:\n",
    "                                    hyperplane_found = True\n",
    "                                    print(hyperplane)\n",
    "                                    break\n",
    "                    if hyperplane_found:\n",
    "                        break\n",
    "            else:\n",
    "                if is_PolynomialRing(R) or is_MPolynomialRing(R) or is_FractionField(R):\n",
    "                    var = R.gen()\n",
    "                    for degree in count(0):\n",
    "                        ZZ_terms = ZZ.range(R.characteristic())\n",
    "                        terms = ZZ_terms[:]\n",
    "                        for i in ZZ_terms:\n",
    "                            terms.append(i*var**degree)\n",
    "                        for tup in product(terms, repeat=N):\n",
    "                            if list(tup) != [0]*N:\n",
    "                                if PS(tup) not in attempted_combinations:\n",
    "                                    print(tup)\n",
    "                                    hyperplane = PS.subscheme(sum([tup[i]*PS.gens()[i] for i in range(N)]))\n",
    "                                    if X.intersection(hyperplane).change_ring(F).dimension() < 0:\n",
    "                                        hyperplane_found = True\n",
    "                                        break\n",
    "                        if hyperplane_found:\n",
    "                            break\n",
    "                else:\n",
    "                    raise ValueError('cannot find affine periodic model over %s' %(R))\n",
    "        source = PS.subscheme(CR.gens()[-1])\n",
    "        mat = PS.hyperplane_transformation_matrix(source, hyperplane)\n",
    "        if R.is_field():\n",
    "            return f.conjugate(mat)\n",
    "        return f.conjugate(mat, adjugate=True)\n",
    "    return f"
   ]
  },
  {
   "cell_type": "code",
   "execution_count": 2,
   "metadata": {},
   "outputs": [
    {
     "name": "stdout",
     "output_type": "stream",
     "text": [
      "Closed subscheme of Projective Space of dimension 2 over Rational Field defined by:\n",
      "  x + y + z\n"
     ]
    },
    {
     "data": {
      "text/plain": [
       "Dynamical System of Projective Space of dimension 2 over Rational Field\n",
       "  Defn: Defined on coordinates by sending (x : y : z) to\n",
       "        (-x^2 : 2*x^2 + 2*x*y + y^2 : 2*x^2 + 2*x*y + 2*y^2 - 2*y*z + z^2)"
      ]
     },
     "execution_count": 2,
     "metadata": {},
     "output_type": "execute_result"
    }
   ],
   "source": [
    "P.<x,y,z> = ProjectiveSpace(QQ,2)\n",
    "f = DynamicalSystem_projective([x^2, y^2, z^2])\n",
    "f.affine_preperiodic_model(1)"
   ]
  },
  {
   "cell_type": "code",
   "execution_count": 4,
   "metadata": {
    "scrolled": true
   },
   "outputs": [
    {
     "data": {
      "text/plain": [
       "Dynamical System of Projective Space of dimension 2 over Finite Field in z2 of size 3^2\n",
       "  Defn: Defined on coordinates by sending (x : y : z) to\n",
       "        ((z2 + 1)*x^2 : (z2 + 1)*x^2 + (z2 + 1)*x*y + (-z2 - 1)*y^2 : (z2 - 1)*x^2 + (z2 - 1)*x*y - y^2 + (-z2)*y*z + z^2)"
      ]
     },
     "execution_count": 4,
     "metadata": {},
     "output_type": "execute_result"
    }
   ],
   "source": [
    "P.<x,y,z> = ProjectiveSpace(GF(9),2)\n",
    "f = DynamicalSystem_projective([x^2, y^2, z^2])\n",
    "f.affine_preperiodic_model(1)"
   ]
  },
  {
   "cell_type": "code",
   "execution_count": 28,
   "metadata": {
    "scrolled": false
   },
   "outputs": [
    {
     "data": {
      "text/plain": [
       "Dynamical System of Projective Space of dimension 2 over Fraction Field of Univariate Polynomial Ring in c over Finite Field of size 3\n",
       "  Defn: Defined on coordinates by sending (x : y : z) to\n",
       "        ((c/(c + 2))*x^2 : (c/(c + 2))*x^2 + (c/(c + 2))*x*y + (2*c/(c + 2))*y^2 : (2*c/(c^2 + c + 1))*x^2 + (2*c/(c^2 + c + 1))*x*y + ((c + 1)/(c^2 + c + 1))*y^2 + (2/(c + 2))*y*z + z^2)"
      ]
     },
     "execution_count": 28,
     "metadata": {},
     "output_type": "execute_result"
    }
   ],
   "source": [
    "sage: R.<c> = GF(3)[]\n",
    "            sage: P.<x,y,z> = ProjectiveSpace(FractionField(R), 2)\n",
    "            sage: f = DynamicalSystem_projective([x^2, y^2, z^2])\n",
    "            sage: f.affine_preperiodic_model(1)"
   ]
  },
  {
   "cell_type": "code",
   "execution_count": 31,
   "metadata": {
    "scrolled": false
   },
   "outputs": [
    {
     "name": "stdout",
     "output_type": "stream",
     "text": [
      "Closed subscheme of Projective Space of dimension 2 over Cyclotomic Field of order 3 and degree 2 defined by:\n",
      "  x\n"
     ]
    },
    {
     "data": {
      "text/plain": [
       "Dynamical System of Projective Space of dimension 2 over Cyclotomic Field of order 3 and degree 2\n",
       "  Defn: Defined on coordinates by sending (x : y : z) to\n",
       "        (x^2 + y^2 + (-k + 2)*x*z - 2*y*z + (-k + 3)*z^2 : -2*x^2 + (k - 4)*x*z + (k - 3)*z^2 : -x^2 + (k - 2)*x*z + (k - 2)*z^2)"
      ]
     },
     "execution_count": 31,
     "metadata": {},
     "output_type": "execute_result"
    }
   ],
   "source": [
    "K.<k> = CyclotomicField(3)\n",
    "P.<x,y,z> = ProjectiveSpace(K, 2)\n",
    "f = DynamicalSystem_projective([x^2 + k*x*y + y^2, z^2, y^2])\n",
    "f.affine_preperiodic_model(1, 1)"
   ]
  },
  {
   "cell_type": "code",
   "execution_count": 5,
   "metadata": {},
   "outputs": [
    {
     "data": {
      "text/plain": [
       "True"
      ]
     },
     "execution_count": 5,
     "metadata": {},
     "output_type": "execute_result"
    }
   ],
   "source": [
    "P.<x,y> = ProjectiveSpace(QQ, 1)\n",
    "f = DynamicalSystem_projective([x^2 + y^2, y^2])\n",
    "g, mat = f.affine_preperiodic_model(1, return_conjugation=True)\n",
    "g == f.conjugate(mat)"
   ]
  },
  {
   "cell_type": "code",
   "execution_count": 2,
   "metadata": {
    "scrolled": false
   },
   "outputs": [
    {
     "data": {
      "text/plain": [
       "Dynamical System of Projective Space of dimension 1 over Univariate Polynomial Ring in c over Rational Field\n",
       "  Defn: Defined on coordinates by sending (x : y) to\n",
       "        (3*x^2 + 6*x*y + 4*y^2 : (-2)*x^2 + (-4)*x*y + (-3)*y^2)"
      ]
     },
     "execution_count": 2,
     "metadata": {},
     "output_type": "execute_result"
    }
   ],
   "source": [
    "R.<c> = QQ[]\n",
    "P.<x,y> = ProjectiveSpace(R, 1)\n",
    "f = DynamicalSystem_projective([x^2 + 2*y^2, y^2])\n",
    "f.affine_preperiodic_model(1)"
   ]
  },
  {
   "cell_type": "code",
   "execution_count": 12,
   "metadata": {
    "scrolled": true
   },
   "outputs": [
    {
     "name": "stdout",
     "output_type": "stream",
     "text": [
      "CPU times: user 1.31 s, sys: 222 ms, total: 1.54 s\n",
      "Wall time: 2.06 s\n"
     ]
    },
    {
     "data": {
      "text/plain": [
       "Dynamical System of Projective Space of dimension 2 over Univariate Polynomial Ring in c over Finite Field of size 3\n",
       "  Defn: Defined on coordinates by sending (x : y : z) to\n",
       "        ((2*c^4 + c^3)*x^2 : (2*c^4 + c^3)*x^2 + (2*c^4 + c^3)*x*y + (c^4 + 2*c^3)*y^2 : c^3*x^2 + c^3*x*y + (2*c^3 + 2*c^2)*y^2 + (c^3 + 2*c^2)*y*z + (2*c^4 + 2*c^3 + 2*c^2)*z^2)"
      ]
     },
     "execution_count": 12,
     "metadata": {},
     "output_type": "execute_result"
    }
   ],
   "source": [
    "%%time\n",
    "R.<c> = GF(3)[]\n",
    "P.<x,y,z> = ProjectiveSpace(R, 2)\n",
    "f = DynamicalSystem_projective([x^2, y^2, z^2])\n",
    "f.affine_preperiodic_model(0,1)"
   ]
  },
  {
   "cell_type": "code",
   "execution_count": 11,
   "metadata": {
    "scrolled": true
   },
   "outputs": [
    {
     "data": {
      "text/plain": [
       "-1"
      ]
     },
     "execution_count": 11,
     "metadata": {},
     "output_type": "execute_result"
    }
   ],
   "source": [
    "P.<x,y,z> = ProjectiveSpace(QQ, 2)\n",
    "X = P.subscheme(2*y - z)\n",
    "f = DynamicalSystem_projective([x^2 + y^2, z^2 + y^2, z^2], domain=X)\n",
    "g = f.affine_preperiodic_model(0, 1)\n",
    "g.periodic_points(1, return_scheme=True).intersection(P.subscheme(z)).dimension()"
   ]
  },
  {
   "cell_type": "code",
   "execution_count": 14,
   "metadata": {},
   "outputs": [
    {
     "data": {
      "text/plain": [
       "Dynamical System of Projective Space of dimension 1 over Univariate Polynomial Ring in c over Finite Field of size 3\n",
       "  Defn: Defined on coordinates by sending (x : y) to\n",
       "        ((c + 1)*x^2 + (2*c + 2)*x*y + (c + 2)*y^2 : 2*c*x^2 + c*x*y + (2*c + 2)*y^2)"
      ]
     },
     "execution_count": 14,
     "metadata": {},
     "output_type": "execute_result"
    }
   ],
   "source": [
    "R.<c> = GF(3)[]\n",
    "P.<x,y> = ProjectiveSpace(R, 1)\n",
    "f = DynamicalSystem_projective([x^2 +c*y^2, y^2])\n",
    "f.affine_preperiodic_model(0, 1)"
   ]
  },
  {
   "cell_type": "code",
   "execution_count": 20,
   "metadata": {},
   "outputs": [
    {
     "data": {
      "text/plain": [
       "(\n",
       "Dynamical System of Projective Space of dimension 1 over Rational Field\n",
       "  Defn: Defined on coordinates by sending (x : y) to                   \n",
       "        (x^2 + 2*y^2 : x^2)                                            ,\n",
       "\n",
       "[1 0 0]\n",
       "[0 1 0]\n",
       "[0 0 1]\n",
       ")"
      ]
     },
     "execution_count": 20,
     "metadata": {},
     "output_type": "execute_result"
    }
   ],
   "source": [
    "P.<x,y> = ProjectiveSpace(QQ, 1)\n",
    "f = DynamicalSystem_projective([x^2 + 2*y^2, x^2])\n",
    "f.affine_preperiodic_model(0, 1, return_conjugation=True)"
   ]
  },
  {
   "cell_type": "code",
   "execution_count": null,
   "metadata": {},
   "outputs": [],
   "source": []
  }
 ],
 "metadata": {
  "kernelspec": {
   "display_name": "SageMath 9.4.beta4",
   "language": "sage",
   "name": "sagemath"
  },
  "language_info": {
   "codemirror_mode": {
    "name": "ipython",
    "version": 3
   },
   "file_extension": ".py",
   "mimetype": "text/x-python",
   "name": "python",
   "nbconvert_exporter": "python",
   "pygments_lexer": "ipython3",
   "version": "3.8.10"
  }
 },
 "nbformat": 4,
 "nbformat_minor": 4
}
