{
 "cells": [
  {
   "cell_type": "code",
   "execution_count": 35,
   "metadata": {},
   "outputs": [
    {
     "data": {
      "text/plain": [
       "[v4, v5]"
      ]
     },
     "execution_count": 35,
     "metadata": {},
     "output_type": "execute_result"
    }
   ],
   "source": [
    "R = PolynomialRing(QQ, 'v', 6, order='lex')\n",
    "var = list(R.gens())\n",
    "var[-2:]"
   ]
  },
  {
   "cell_type": "code",
   "execution_count": 8,
   "metadata": {},
   "outputs": [],
   "source": [
    "R2 = "
   ]
  },
  {
   "cell_type": "code",
   "execution_count": 9,
   "metadata": {},
   "outputs": [
    {
     "data": {
      "text/plain": [
       "True"
      ]
     },
     "execution_count": 9,
     "metadata": {},
     "output_type": "execute_result"
    }
   ],
   "source": [
    "R == T"
   ]
  },
  {
   "cell_type": "code",
   "execution_count": 11,
   "metadata": {},
   "outputs": [
    {
     "name": "stdout",
     "output_type": "stream",
     "text": [
      "from sage.calculus.functions import jacobian\n"
     ]
    }
   ],
   "source": [
    "import_statements(jacobian)"
   ]
  },
  {
   "cell_type": "code",
   "execution_count": 18,
   "metadata": {},
   "outputs": [
    {
     "data": {
      "text/plain": [
       "Multivariate Polynomial Ring in v0, v2 over Rational Field"
      ]
     },
     "execution_count": 18,
     "metadata": {},
     "output_type": "execute_result"
    }
   ],
   "source": [
    "T = PolynomialRing(QQ, [R.gens()[0],R.gens()[2]])"
   ]
  },
  {
   "cell_type": "code",
   "execution_count": 26,
   "metadata": {},
   "outputs": [],
   "source": [
    "MatrixSpace?"
   ]
  },
  {
   "cell_type": "code",
   "execution_count": 33,
   "metadata": {},
   "outputs": [],
   "source": [
    "matrix.identity?"
   ]
  },
  {
   "cell_type": "code",
   "execution_count": 13,
   "metadata": {},
   "outputs": [
    {
     "name": "stdout",
     "output_type": "stream",
     "text": [
      "2\n",
      "Dynamical System of Affine Space of dimension 2 over Rational Field\n",
      "  Defn: Defined on coordinates by sending (x, y) to\n",
      "        (x^2/y^2, (y + 1)/y^2)\n",
      "Ring morphism:\n",
      "  From: Multivariate Polynomial Ring in x, y over Rational Field\n",
      "  To:   Multivariate Polynomial Ring in v0, v1, v2, v3, v4, v5, v6 over Rational Field\n",
      "  Defn: x |--> v0\n",
      "        y |--> v1\n",
      "[v0^2/v1^2, (v1 + 1)/v1^2]\n",
      "[     2*v0/v1^2 (-2*v0^2)/v1^3]\n",
      "[             0 (-v1 - 2)/v1^3]\n",
      "1\n",
      "Dynamical System of Affine Space of dimension 2 over Rational Field\n",
      "  Defn: Defined on coordinates by sending (x, z) to\n",
      "        (x^2/(z^2 + z), 1/(z^2 + z))\n",
      "Ring morphism:\n",
      "  From: Multivariate Polynomial Ring in x, z over Rational Field\n",
      "  To:   Multivariate Polynomial Ring in v0, v1, v2, v3, v4, v5, v6 over Rational Field\n",
      "  Defn: x |--> v0\n",
      "        z |--> 0\n"
     ]
    },
    {
     "ename": "ZeroDivisionError",
     "evalue": "",
     "output_type": "error",
     "traceback": [
      "\u001b[0;31m---------------------------------------------------------------------------\u001b[0m",
      "\u001b[0;31mZeroDivisionError\u001b[0m                         Traceback (most recent call last)",
      "\u001b[0;32m<ipython-input-13-bf676a22932d>\u001b[0m in \u001b[0;36m<module>\u001b[0;34m\u001b[0m\n\u001b[1;32m     26\u001b[0m     \u001b[0mprint\u001b[0m\u001b[0;34m(\u001b[0m\u001b[0mfa\u001b[0m\u001b[0;34m)\u001b[0m\u001b[0;34m\u001b[0m\u001b[0;34m\u001b[0m\u001b[0m\n\u001b[1;32m     27\u001b[0m     \u001b[0mprint\u001b[0m\u001b[0;34m(\u001b[0m\u001b[0mphi\u001b[0m\u001b[0;34m)\u001b[0m\u001b[0;34m\u001b[0m\u001b[0;34m\u001b[0m\u001b[0m\n\u001b[0;32m---> 28\u001b[0;31m     \u001b[0mprint\u001b[0m\u001b[0;34m(\u001b[0m\u001b[0;34m[\u001b[0m\u001b[0mphi\u001b[0m\u001b[0;34m(\u001b[0m\u001b[0mF\u001b[0m\u001b[0;34m.\u001b[0m\u001b[0mnumerator\u001b[0m\u001b[0;34m(\u001b[0m\u001b[0;34m)\u001b[0m\u001b[0;34m)\u001b[0m\u001b[0;34m/\u001b[0m\u001b[0mphi\u001b[0m\u001b[0;34m(\u001b[0m\u001b[0mF\u001b[0m\u001b[0;34m.\u001b[0m\u001b[0mdenominator\u001b[0m\u001b[0;34m(\u001b[0m\u001b[0;34m)\u001b[0m\u001b[0;34m)\u001b[0m \u001b[0;32mfor\u001b[0m \u001b[0mF\u001b[0m \u001b[0;32min\u001b[0m \u001b[0mfa\u001b[0m\u001b[0;34m]\u001b[0m\u001b[0;34m)\u001b[0m\u001b[0;34m\u001b[0m\u001b[0;34m\u001b[0m\u001b[0m\n\u001b[0m\u001b[1;32m     29\u001b[0m     \u001b[0mjac\u001b[0m \u001b[0;34m=\u001b[0m \u001b[0mjacobian\u001b[0m\u001b[0;34m(\u001b[0m\u001b[0;34m[\u001b[0m\u001b[0mphi\u001b[0m\u001b[0;34m(\u001b[0m\u001b[0mF\u001b[0m\u001b[0;34m.\u001b[0m\u001b[0mnumerator\u001b[0m\u001b[0;34m(\u001b[0m\u001b[0;34m)\u001b[0m\u001b[0;34m)\u001b[0m\u001b[0;34m/\u001b[0m\u001b[0mphi\u001b[0m\u001b[0;34m(\u001b[0m\u001b[0mF\u001b[0m\u001b[0;34m.\u001b[0m\u001b[0mdenominator\u001b[0m\u001b[0;34m(\u001b[0m\u001b[0;34m)\u001b[0m\u001b[0;34m)\u001b[0m \u001b[0;32mfor\u001b[0m \u001b[0mF\u001b[0m \u001b[0;32min\u001b[0m \u001b[0mfa\u001b[0m\u001b[0;34m]\u001b[0m\u001b[0;34m,\u001b[0m \u001b[0mvar\u001b[0m\u001b[0;34m)\u001b[0m\u001b[0;34m\u001b[0m\u001b[0;34m\u001b[0m\u001b[0m\n\u001b[1;32m     30\u001b[0m     \u001b[0mprint\u001b[0m\u001b[0;34m(\u001b[0m\u001b[0mjac\u001b[0m\u001b[0;34m)\u001b[0m\u001b[0;34m\u001b[0m\u001b[0;34m\u001b[0m\u001b[0m\n",
      "\u001b[0;32m<ipython-input-13-bf676a22932d>\u001b[0m in \u001b[0;36m<listcomp>\u001b[0;34m(.0)\u001b[0m\n\u001b[1;32m     26\u001b[0m     \u001b[0mprint\u001b[0m\u001b[0;34m(\u001b[0m\u001b[0mfa\u001b[0m\u001b[0;34m)\u001b[0m\u001b[0;34m\u001b[0m\u001b[0;34m\u001b[0m\u001b[0m\n\u001b[1;32m     27\u001b[0m     \u001b[0mprint\u001b[0m\u001b[0;34m(\u001b[0m\u001b[0mphi\u001b[0m\u001b[0;34m)\u001b[0m\u001b[0;34m\u001b[0m\u001b[0;34m\u001b[0m\u001b[0m\n\u001b[0;32m---> 28\u001b[0;31m     \u001b[0mprint\u001b[0m\u001b[0;34m(\u001b[0m\u001b[0;34m[\u001b[0m\u001b[0mphi\u001b[0m\u001b[0;34m(\u001b[0m\u001b[0mF\u001b[0m\u001b[0;34m.\u001b[0m\u001b[0mnumerator\u001b[0m\u001b[0;34m(\u001b[0m\u001b[0;34m)\u001b[0m\u001b[0;34m)\u001b[0m\u001b[0;34m/\u001b[0m\u001b[0mphi\u001b[0m\u001b[0;34m(\u001b[0m\u001b[0mF\u001b[0m\u001b[0;34m.\u001b[0m\u001b[0mdenominator\u001b[0m\u001b[0;34m(\u001b[0m\u001b[0;34m)\u001b[0m\u001b[0;34m)\u001b[0m \u001b[0;32mfor\u001b[0m \u001b[0mF\u001b[0m \u001b[0;32min\u001b[0m \u001b[0mfa\u001b[0m\u001b[0;34m]\u001b[0m\u001b[0;34m)\u001b[0m\u001b[0;34m\u001b[0m\u001b[0;34m\u001b[0m\u001b[0m\n\u001b[0m\u001b[1;32m     29\u001b[0m     \u001b[0mjac\u001b[0m \u001b[0;34m=\u001b[0m \u001b[0mjacobian\u001b[0m\u001b[0;34m(\u001b[0m\u001b[0;34m[\u001b[0m\u001b[0mphi\u001b[0m\u001b[0;34m(\u001b[0m\u001b[0mF\u001b[0m\u001b[0;34m.\u001b[0m\u001b[0mnumerator\u001b[0m\u001b[0;34m(\u001b[0m\u001b[0;34m)\u001b[0m\u001b[0;34m)\u001b[0m\u001b[0;34m/\u001b[0m\u001b[0mphi\u001b[0m\u001b[0;34m(\u001b[0m\u001b[0mF\u001b[0m\u001b[0;34m.\u001b[0m\u001b[0mdenominator\u001b[0m\u001b[0;34m(\u001b[0m\u001b[0;34m)\u001b[0m\u001b[0;34m)\u001b[0m \u001b[0;32mfor\u001b[0m \u001b[0mF\u001b[0m \u001b[0;32min\u001b[0m \u001b[0mfa\u001b[0m\u001b[0;34m]\u001b[0m\u001b[0;34m,\u001b[0m \u001b[0mvar\u001b[0m\u001b[0;34m)\u001b[0m\u001b[0;34m\u001b[0m\u001b[0;34m\u001b[0m\u001b[0m\n\u001b[1;32m     30\u001b[0m     \u001b[0mprint\u001b[0m\u001b[0;34m(\u001b[0m\u001b[0mjac\u001b[0m\u001b[0;34m)\u001b[0m\u001b[0;34m\u001b[0m\u001b[0;34m\u001b[0m\u001b[0m\n",
      "\u001b[0;32m~/Documents/SageDevelopment/local/lib/python3.9/site-packages/sage/structure/element.pyx\u001b[0m in \u001b[0;36msage.structure.element.Element.__truediv__ (build/cythonized/sage/structure/element.c:13152)\u001b[0;34m()\u001b[0m\n\u001b[1;32m   1733\u001b[0m         \u001b[0mcdef\u001b[0m \u001b[0mint\u001b[0m \u001b[0mcl\u001b[0m \u001b[0;34m=\u001b[0m \u001b[0mclassify_elements\u001b[0m\u001b[0;34m(\u001b[0m\u001b[0mleft\u001b[0m\u001b[0;34m,\u001b[0m \u001b[0mright\u001b[0m\u001b[0;34m)\u001b[0m\u001b[0;34m\u001b[0m\u001b[0;34m\u001b[0m\u001b[0m\n\u001b[1;32m   1734\u001b[0m         \u001b[0;32mif\u001b[0m \u001b[0mHAVE_SAME_PARENT\u001b[0m\u001b[0;34m(\u001b[0m\u001b[0mcl\u001b[0m\u001b[0;34m)\u001b[0m\u001b[0;34m:\u001b[0m\u001b[0;34m\u001b[0m\u001b[0;34m\u001b[0m\u001b[0m\n\u001b[0;32m-> 1735\u001b[0;31m             \u001b[0;32mreturn\u001b[0m \u001b[0;34m(\u001b[0m\u001b[0;34m<\u001b[0m\u001b[0mElement\u001b[0m\u001b[0;34m>\u001b[0m\u001b[0mleft\u001b[0m\u001b[0;34m)\u001b[0m\u001b[0;34m.\u001b[0m\u001b[0m_div_\u001b[0m\u001b[0;34m(\u001b[0m\u001b[0mright\u001b[0m\u001b[0;34m)\u001b[0m\u001b[0;34m\u001b[0m\u001b[0;34m\u001b[0m\u001b[0m\n\u001b[0m\u001b[1;32m   1736\u001b[0m         \u001b[0;32mif\u001b[0m \u001b[0mBOTH_ARE_ELEMENT\u001b[0m\u001b[0;34m(\u001b[0m\u001b[0mcl\u001b[0m\u001b[0;34m)\u001b[0m\u001b[0;34m:\u001b[0m\u001b[0;34m\u001b[0m\u001b[0;34m\u001b[0m\u001b[0m\n\u001b[1;32m   1737\u001b[0m             \u001b[0;32mreturn\u001b[0m \u001b[0mcoercion_model\u001b[0m\u001b[0;34m.\u001b[0m\u001b[0mbin_op\u001b[0m\u001b[0;34m(\u001b[0m\u001b[0mleft\u001b[0m\u001b[0;34m,\u001b[0m \u001b[0mright\u001b[0m\u001b[0;34m,\u001b[0m \u001b[0mtruediv\u001b[0m\u001b[0;34m)\u001b[0m\u001b[0;34m\u001b[0m\u001b[0;34m\u001b[0m\u001b[0m\n",
      "\u001b[0;32m~/Documents/SageDevelopment/local/lib/python3.9/site-packages/sage/rings/polynomial/multi_polynomial_libsingular.pyx\u001b[0m in \u001b[0;36msage.rings.polynomial.multi_polynomial_libsingular.MPolynomial_libsingular._div_ (build/cythonized/sage/rings/polynomial/multi_polynomial_libsingular.cpp:22155)\u001b[0;34m()\u001b[0m\n\u001b[1;32m   2360\u001b[0m         \u001b[0;32mif\u001b[0m \u001b[0mp_IsConstant\u001b[0m\u001b[0;34m(\u001b[0m\u001b[0mright\u001b[0m\u001b[0;34m.\u001b[0m\u001b[0m_poly\u001b[0m\u001b[0;34m,\u001b[0m \u001b[0mright\u001b[0m\u001b[0;34m.\u001b[0m\u001b[0m_parent_ring\u001b[0m\u001b[0;34m)\u001b[0m\u001b[0;34m:\u001b[0m\u001b[0;34m\u001b[0m\u001b[0;34m\u001b[0m\u001b[0m\n\u001b[1;32m   2361\u001b[0m             \u001b[0;32mif\u001b[0m \u001b[0mis_field\u001b[0m\u001b[0;34m:\u001b[0m\u001b[0;34m\u001b[0m\u001b[0;34m\u001b[0m\u001b[0m\n\u001b[0;32m-> 2362\u001b[0;31m                 \u001b[0msingular_polynomial_div_coeff\u001b[0m\u001b[0;34m(\u001b[0m\u001b[0;34m&\u001b[0m\u001b[0mp\u001b[0m\u001b[0;34m,\u001b[0m \u001b[0mleft\u001b[0m\u001b[0;34m.\u001b[0m\u001b[0m_poly\u001b[0m\u001b[0;34m,\u001b[0m \u001b[0mright\u001b[0m\u001b[0;34m.\u001b[0m\u001b[0m_poly\u001b[0m\u001b[0;34m,\u001b[0m \u001b[0mright\u001b[0m\u001b[0;34m.\u001b[0m\u001b[0m_parent_ring\u001b[0m\u001b[0;34m)\u001b[0m\u001b[0;34m\u001b[0m\u001b[0;34m\u001b[0m\u001b[0m\n\u001b[0m\u001b[1;32m   2363\u001b[0m                 \u001b[0;32mreturn\u001b[0m \u001b[0mnew_MP\u001b[0m\u001b[0;34m(\u001b[0m\u001b[0mleft\u001b[0m\u001b[0;34m.\u001b[0m\u001b[0m_parent\u001b[0m\u001b[0;34m,\u001b[0m \u001b[0mp\u001b[0m\u001b[0;34m)\u001b[0m\u001b[0;34m\u001b[0m\u001b[0;34m\u001b[0m\u001b[0m\n\u001b[1;32m   2364\u001b[0m             \u001b[0;32melse\u001b[0m\u001b[0;34m:\u001b[0m\u001b[0;34m\u001b[0m\u001b[0;34m\u001b[0m\u001b[0m\n",
      "\u001b[0;32m~/Documents/SageDevelopment/local/lib/python3.9/site-packages/sage/libs/singular/polynomial.pyx\u001b[0m in \u001b[0;36msage.libs.singular.polynomial.singular_polynomial_div_coeff (build/cythonized/sage/libs/singular/polynomial.cpp:4962)\u001b[0;34m()\u001b[0m\n\u001b[1;32m    342\u001b[0m     \"\"\"\n\u001b[1;32m    343\u001b[0m     \u001b[0;32mif\u001b[0m \u001b[0mq\u001b[0m \u001b[0;34m==\u001b[0m \u001b[0mNULL\u001b[0m\u001b[0;34m:\u001b[0m\u001b[0;34m\u001b[0m\u001b[0;34m\u001b[0m\u001b[0m\n\u001b[0;32m--> 344\u001b[0;31m         \u001b[0;32mraise\u001b[0m \u001b[0mZeroDivisionError\u001b[0m\u001b[0;34m\u001b[0m\u001b[0;34m\u001b[0m\u001b[0m\n\u001b[0m\u001b[1;32m    345\u001b[0m     \u001b[0msig_on\u001b[0m\u001b[0;34m(\u001b[0m\u001b[0;34m)\u001b[0m\u001b[0;34m\u001b[0m\u001b[0;34m\u001b[0m\u001b[0m\n\u001b[1;32m    346\u001b[0m     \u001b[0mcdef\u001b[0m \u001b[0mnumber\u001b[0m \u001b[0;34m*\u001b[0m\u001b[0mn\u001b[0m \u001b[0;34m=\u001b[0m \u001b[0mp_GetCoeff\u001b[0m\u001b[0;34m(\u001b[0m\u001b[0mq\u001b[0m\u001b[0;34m,\u001b[0m \u001b[0mr\u001b[0m\u001b[0;34m)\u001b[0m\u001b[0;34m\u001b[0m\u001b[0;34m\u001b[0m\u001b[0m\n",
      "\u001b[0;31mZeroDivisionError\u001b[0m: "
     ]
    }
   ],
   "source": [
    "P.<x,y,z>=ProjectiveSpace(QQ,2)\n",
    "f=DynamicalSystem([x^2,z^2+z*y,y^2])\n",
    "base_ring = f.base_ring()\n",
    "N = P.dimension_relative()\n",
    "R = PolynomialRing(base_ring, 'v', N+N+3, order='lex')\n",
    "var = list(R.gens())\n",
    "R2 = PolynomialRing(base_ring, var[:N] + var[-2:])\n",
    "newR = PolynomialRing(base_ring, 'w, t', 2, order='lex')\n",
    "psi = R2.hom(N*[0]+list(newR.gens()), newR)\n",
    "X = f.periodic_points(1, return_scheme=True)\n",
    "Fn = f\n",
    "R_zero = {R.gen(N):1}\n",
    "for j in range(N+1, N+N+1):\n",
    "    R_zero[R.gen(j)] = 0\n",
    "t = var.pop()\n",
    "w = var.pop()\n",
    "var = var[:N]\n",
    "for j in range(N,-1,-1):\n",
    "    Xa = X.affine_patch(j)\n",
    "    fa = Fn.dehomogenize(j)\n",
    "    Pa = fa.domain()\n",
    "    im = [R.gen(i) for i in range(j)] + (N-j)*[0]\n",
    "    phi = Pa.coordinate_ring().hom(im, R)\n",
    "    M = t*matrix.identity(R, N)\n",
    "    print(j)\n",
    "    print(fa)\n",
    "    print(phi)\n",
    "    print([phi(F.numerator())/phi(F.denominator()) for F in fa])\n",
    "    jac = jacobian([phi(F.numerator())/phi(F.denominator()) for F in fa], var)\n",
    "    print(jac)\n",
    "    g = (M-jacobian([phi(F.numerator())/phi(F.denominator()) for F in fa], var)).det()"
   ]
  },
  {
   "cell_type": "code",
   "execution_count": 14,
   "metadata": {},
   "outputs": [
    {
     "data": {
      "text/plain": [
       "[(1 : 0 : 0)]"
      ]
     },
     "execution_count": 14,
     "metadata": {},
     "output_type": "execute_result"
    }
   ],
   "source": [
    "f.periodic_points(1)"
   ]
  },
  {
   "cell_type": "code",
   "execution_count": 62,
   "metadata": {},
   "outputs": [
    {
     "data": {
      "text/plain": [
       "{w^3*t^2: 1}"
      ]
     },
     "execution_count": 62,
     "metadata": {},
     "output_type": "execute_result"
    }
   ],
   "source": [
    "temp = w^3*t^2 + w^4\n",
    "dic = dict([list(reversed(i)) for i in list(temp)])\n",
    "dic.pop(w^4, 0)\n",
    "dic"
   ]
  },
  {
   "cell_type": "code",
   "execution_count": 25,
   "metadata": {},
   "outputs": [
    {
     "data": {
      "text/plain": [
       "t^6 + 2*t^5 - 4*t^4 - 8*t^3"
      ]
     },
     "execution_count": 25,
     "metadata": {},
     "output_type": "execute_result"
    }
   ],
   "source": [
    "P.<x,y,z>=ProjectiveSpace(QQ,2)\n",
    "f=DynamicalSystem([x^2,z^2,y^2])\n",
    "poly = f.sigma_invariants(1, return_polynomial=True)\n",
    "w, t = poly.variables()\n",
    "poly.specialization({w:0}).monic()"
   ]
  },
  {
   "cell_type": "code",
   "execution_count": 11,
   "metadata": {},
   "outputs": [
    {
     "data": {
      "text/plain": [
       "w^6 - 6*w^5*t^2 + 8*w^5*t - 4*w^5 + 15*w^4*t^4 - 40*w^4*t^3 + 40*w^4*t^2 - 16*w^4*t - 20*w^3*t^6 + 80*w^3*t^5 - 120*w^3*t^4 + 80*w^3*t^3 - 16*w^3*t^2 + 15*w^2*t^8 - 80*w^2*t^7 + 160*w^2*t^6 - 144*w^2*t^5 + 48*w^2*t^4 - 6*w*t^10 + 40*w*t^9 - 100*w*t^8 + 112*w*t^7 - 48*w*t^6 + t^12 - 8*t^11 + 24*t^10 - 32*t^9 + 16*t^8"
      ]
     },
     "execution_count": 11,
     "metadata": {},
     "output_type": "execute_result"
    }
   ],
   "source": [
    "R.<w> = QQ[]\n",
    "N.<n> = NumberField(w^2 + 1)\n",
    "P.<x,y,z> = ProjectiveSpace(N, 2)\n",
    "f = DynamicalSystem_projective([x^2, y^2, z^2])\n",
    "f.sigma_invariants(1, return_polynomial=True)"
   ]
  },
  {
   "cell_type": "code",
   "execution_count": 13,
   "metadata": {},
   "outputs": [
    {
     "data": {
      "text/plain": [
       "[3,\n",
       " 6,\n",
       " 0,\n",
       " 0,\n",
       " 0,\n",
       " 0,\n",
       " 0,\n",
       " 0,\n",
       " 1,\n",
       " 0,\n",
       " 0,\n",
       " 0,\n",
       " 0,\n",
       " -3,\n",
       " -2,\n",
       " 4,\n",
       " 0,\n",
       " 0,\n",
       " 3,\n",
       " 4,\n",
       " -8,\n",
       " -8,\n",
       " 0,\n",
       " -1,\n",
       " -2,\n",
       " 4,\n",
       " 8,\n",
       " 0,\n",
       " 0,\n",
       " 0]"
      ]
     },
     "execution_count": 13,
     "metadata": {},
     "output_type": "execute_result"
    }
   ],
   "source": [
    "sage: P.<x,y,z> = ProjectiveSpace(QQ, 2)\n",
    "            sage: f = DynamicalSystem_projective([x^2, z^2, y^2])\n",
    "            sage: f.sigma_invariants(1)"
   ]
  },
  {
   "cell_type": "code",
   "execution_count": 14,
   "metadata": {},
   "outputs": [
    {
     "data": {
      "text/plain": [
       "w^6 - 6*w^5*t^2 + 8*w^5*t - 4*w^5 + 15*w^4*t^4 - 40*w^4*t^3 + 40*w^4*t^2 - 16*w^4*t - 20*w^3*t^6 + 80*w^3*t^5 - 120*w^3*t^4 + 80*w^3*t^3 - 16*w^3*t^2 + 15*w^2*t^8 - 80*w^2*t^7 + 160*w^2*t^6 - 144*w^2*t^5 + 48*w^2*t^4 - 6*w*t^10 + 40*w*t^9 - 100*w*t^8 + 112*w*t^7 - 48*w*t^6 + t^12 - 8*t^11 + 24*t^10 - 32*t^9 + 16*t^8"
      ]
     },
     "execution_count": 14,
     "metadata": {},
     "output_type": "execute_result"
    }
   ],
   "source": [
    "P.<x,y,z> = ProjectiveSpace(QQ, 2)\n",
    "f = DynamicalSystem_projective([x^2, y^2, z^2])\n",
    "f.sigma_invariants(1, return_polynomial=True)"
   ]
  },
  {
   "cell_type": "code",
   "execution_count": 15,
   "metadata": {},
   "outputs": [
    {
     "data": {
      "text/plain": [
       "w^7 - 7*w^6*t^2 + 10*w^6*t - 4*w^6 + 21*w^5*t^4 - 60*w^5*t^3 + 60*w^5*t^2 - 24*w^5*t - 35*w^4*t^6 + 150*w^4*t^5 - 240*w^4*t^4 + 176*w^4*t^3 - 48*w^4*t^2 + 35*w^3*t^8 - 200*w^3*t^7 + 440*w^3*t^6 - 464*w^3*t^5 + 224*w^3*t^4 - 32*w^3*t^3 - 21*w^2*t^10 + 150*w^2*t^9 - 420*w^2*t^8 + 576*w^2*t^7 - 384*w^2*t^6 + 96*w^2*t^5 + 7*w*t^12 - 60*w*t^11 + 204*w*t^10 - 344*w*t^9 + 288*w*t^8 - 96*w*t^7 - t^14 + 10*t^13 - 40*t^12 + 80*t^11 - 80*t^10 + 32*t^9"
      ]
     },
     "execution_count": 15,
     "metadata": {},
     "output_type": "execute_result"
    }
   ],
   "source": [
    "f.sigma_invariants(1, return_polynomial=True, chow=True)"
   ]
  },
  {
   "cell_type": "code",
   "execution_count": 17,
   "metadata": {},
   "outputs": [
    {
     "name": "stdout",
     "output_type": "stream",
     "text": [
      "(0 : 0 : 1) 1\n",
      "(0 : 1 : 0) 1\n",
      "(0 : 1 : 1) 1\n",
      "(1 : 0 : 0) 1\n",
      "(1 : 0 : 1) 1\n",
      "(1 : 1 : 0) 1\n",
      "(1 : 1 : 1) 1\n"
     ]
    }
   ],
   "source": [
    "for i in f.periodic_points(1, return_scheme=True).rational_points():\n",
    "    print(i, i.multiplicity())"
   ]
  },
  {
   "cell_type": "code",
   "execution_count": 20,
   "metadata": {},
   "outputs": [
    {
     "name": "stdout",
     "output_type": "stream",
     "text": [
      "[0 0]\n",
      "[0 0]\n",
      "------\n",
      "[0 0]\n",
      "[0 0]\n",
      "------\n",
      "[0 0]\n",
      "[0 2]\n",
      "------\n",
      "[0 0]\n",
      "[0 0]\n",
      "------\n",
      "[2 0]\n",
      "[0 0]\n",
      "------\n",
      "[2 0]\n",
      "[0 0]\n",
      "------\n",
      "[2 0]\n",
      "[0 2]\n",
      "------\n"
     ]
    }
   ],
   "source": [
    "for point in f.periodic_points(1):\n",
    "    print(f.multiplier(point, 1))\n",
    "    print('------')"
   ]
  },
  {
   "cell_type": "code",
   "execution_count": 19,
   "metadata": {},
   "outputs": [],
   "source": [
    "def num_sigma(self, n):\n",
    "    S.<t>=CC[]\n",
    "    R.<w>=S[]\n",
    "    fc = self.change_ring(CC)\n",
    "    per= self.periodic_points(n,minimal=False,return_scheme=True).rational_points(F=CC)\n",
    "    T=1\n",
    "    for Q in per:\n",
    "        mult = fc.multiplier(Q,n,check=False).characteristic_polynomial()\n",
    "        S = mult.parent()\n",
    "        phi = S.hom([t],R)\n",
    "        T *= (w-phi(mult))\n",
    "    return T"
   ]
  },
  {
   "cell_type": "code",
   "execution_count": 20,
   "metadata": {},
   "outputs": [
    {
     "data": {
      "text/plain": [
       "w^7 - 7*w^6*t^2 + 10*w^6*t - 4*w^6 + 21*w^5*t^4 - 60*w^5*t^3 + 60*w^5*t^2 - 24*w^5*t - 35*w^4*t^6 + 150*w^4*t^5 - 240*w^4*t^4 + 176*w^4*t^3 - 48*w^4*t^2 + 35*w^3*t^8 - 200*w^3*t^7 + 440*w^3*t^6 - 464*w^3*t^5 + 224*w^3*t^4 - 32*w^3*t^3 - 21*w^2*t^10 + 150*w^2*t^9 - 420*w^2*t^8 + 576*w^2*t^7 - 384*w^2*t^6 + 96*w^2*t^5 + 7*w*t^12 - 60*w*t^11 + 204*w*t^10 - 344*w*t^9 + 288*w*t^8 - 96*w*t^7 - t^14 + 10*t^13 - 40*t^12 + 80*t^11 - 80*t^10 + 32*t^9"
      ]
     },
     "execution_count": 20,
     "metadata": {},
     "output_type": "execute_result"
    }
   ],
   "source": [
    "P.<x,y,z> = ProjectiveSpace(QQ, 2)\n",
    "f = DynamicalSystem_projective([x^2, y^2, z^2])\n",
    "f.sigma_invariants(1, return_polynomial=True, chow=True)"
   ]
  },
  {
   "cell_type": "code",
   "execution_count": 21,
   "metadata": {},
   "outputs": [
    {
     "data": {
      "text/plain": [
       "w^7 + (-7.00000000000000*t^2 + 10.0000000000000*t - 4.00000000000000)*w^6 + (21.0000000000000*t^4 - 60.0000000000000*t^3 + 60.0000000000000*t^2 - 24.0000000000000*t)*w^5 + (-35.0000000000000*t^6 + 150.000000000000*t^5 - 240.000000000000*t^4 + 176.000000000000*t^3 - 48.0000000000000*t^2)*w^4 + (35.0000000000000*t^8 - 200.000000000000*t^7 + 440.000000000000*t^6 - 464.000000000000*t^5 + 224.000000000000*t^4 - 32.0000000000000*t^3)*w^3 + (-21.0000000000000*t^10 + 150.000000000000*t^9 - 420.000000000000*t^8 + 576.000000000000*t^7 - 384.000000000000*t^6 + 96.0000000000000*t^5)*w^2 + (7.00000000000000*t^12 - 60.0000000000000*t^11 + 204.000000000000*t^10 - 344.000000000000*t^9 + 288.000000000000*t^8 - 96.0000000000000*t^7)*w - t^14 + 10.0000000000000*t^13 - 40.0000000000000*t^12 + 80.0000000000000*t^11 - 80.0000000000000*t^10 + 32.0000000000000*t^9"
      ]
     },
     "execution_count": 21,
     "metadata": {},
     "output_type": "execute_result"
    }
   ],
   "source": [
    "num_sigma(f, 1)"
   ]
  },
  {
   "cell_type": "code",
   "execution_count": 24,
   "metadata": {
    "scrolled": true
   },
   "outputs": [
    {
     "ename": "KeyboardInterrupt",
     "evalue": "",
     "output_type": "error",
     "traceback": [
      "\u001b[0;31m---------------------------------------------------------------------------\u001b[0m",
      "\u001b[0;31mKeyError\u001b[0m                                  Traceback (most recent call last)",
      "\u001b[0;32m~/Documents/Sage/local/lib/python3.8/site-packages/sage/misc/cachefunc.pyx\u001b[0m in \u001b[0;36msage.misc.cachefunc.CachedMethodCaller.__call__ (build/cythonized/sage/misc/cachefunc.c:10303)\u001b[0;34m()\u001b[0m\n\u001b[1;32m   1942\u001b[0m             \u001b[0;32mtry\u001b[0m\u001b[0;34m:\u001b[0m\u001b[0;34m\u001b[0m\u001b[0;34m\u001b[0m\u001b[0m\n\u001b[0;32m-> 1943\u001b[0;31m                 \u001b[0;32mreturn\u001b[0m \u001b[0mcache\u001b[0m\u001b[0;34m[\u001b[0m\u001b[0mk\u001b[0m\u001b[0;34m]\u001b[0m\u001b[0;34m\u001b[0m\u001b[0;34m\u001b[0m\u001b[0m\n\u001b[0m\u001b[1;32m   1944\u001b[0m             \u001b[0;32mexcept\u001b[0m \u001b[0mTypeError\u001b[0m\u001b[0;34m:\u001b[0m  \u001b[0;31m# k is not hashable\u001b[0m\u001b[0;34m\u001b[0m\u001b[0;34m\u001b[0m\u001b[0m\n",
      "\u001b[0;31mKeyError\u001b[0m: (('', None, None, False), ())",
      "\nDuring handling of the above exception, another exception occurred:\n",
      "\u001b[0;31mKeyboardInterrupt\u001b[0m                         Traceback (most recent call last)",
      "\u001b[0;32m<ipython-input-24-90f2e6fc586b>\u001b[0m in \u001b[0;36m<module>\u001b[0;34m\u001b[0m\n\u001b[1;32m      2\u001b[0m \u001b[0mP\u001b[0m \u001b[0;34m=\u001b[0m \u001b[0mProjectiveSpace\u001b[0m\u001b[0;34m(\u001b[0m\u001b[0mQQ\u001b[0m\u001b[0;34m,\u001b[0m \u001b[0mInteger\u001b[0m\u001b[0;34m(\u001b[0m\u001b[0;36m2\u001b[0m\u001b[0;34m)\u001b[0m\u001b[0;34m,\u001b[0m \u001b[0mnames\u001b[0m\u001b[0;34m=\u001b[0m\u001b[0;34m(\u001b[0m\u001b[0;34m'x'\u001b[0m\u001b[0;34m,\u001b[0m \u001b[0;34m'y'\u001b[0m\u001b[0;34m,\u001b[0m \u001b[0;34m'z'\u001b[0m\u001b[0;34m,\u001b[0m\u001b[0;34m)\u001b[0m\u001b[0;34m)\u001b[0m\u001b[0;34m;\u001b[0m \u001b[0;34m(\u001b[0m\u001b[0mx\u001b[0m\u001b[0;34m,\u001b[0m \u001b[0my\u001b[0m\u001b[0;34m,\u001b[0m \u001b[0mz\u001b[0m\u001b[0;34m,\u001b[0m\u001b[0;34m)\u001b[0m \u001b[0;34m=\u001b[0m \u001b[0mP\u001b[0m\u001b[0;34m.\u001b[0m\u001b[0m_first_ngens\u001b[0m\u001b[0;34m(\u001b[0m\u001b[0;36m3\u001b[0m\u001b[0;34m)\u001b[0m\u001b[0;34m\u001b[0m\u001b[0;34m\u001b[0m\u001b[0m\n\u001b[1;32m      3\u001b[0m \u001b[0mf\u001b[0m \u001b[0;34m=\u001b[0m \u001b[0mDynamicalSystem_projective\u001b[0m\u001b[0;34m(\u001b[0m\u001b[0;34m[\u001b[0m\u001b[0mx\u001b[0m\u001b[0;34m**\u001b[0m\u001b[0mInteger\u001b[0m\u001b[0;34m(\u001b[0m\u001b[0;36m4\u001b[0m\u001b[0;34m)\u001b[0m \u001b[0;34m-\u001b[0m \u001b[0mInteger\u001b[0m\u001b[0;34m(\u001b[0m\u001b[0;36m8\u001b[0m\u001b[0;34m)\u001b[0m\u001b[0;34m*\u001b[0m\u001b[0mx\u001b[0m\u001b[0;34m*\u001b[0m\u001b[0my\u001b[0m\u001b[0;34m**\u001b[0m\u001b[0mInteger\u001b[0m\u001b[0;34m(\u001b[0m\u001b[0;36m3\u001b[0m\u001b[0;34m)\u001b[0m\u001b[0;34m,\u001b[0m \u001b[0mInteger\u001b[0m\u001b[0;34m(\u001b[0m\u001b[0;36m4\u001b[0m\u001b[0;34m)\u001b[0m\u001b[0;34m*\u001b[0m\u001b[0mx\u001b[0m\u001b[0;34m**\u001b[0m\u001b[0mInteger\u001b[0m\u001b[0;34m(\u001b[0m\u001b[0;36m3\u001b[0m\u001b[0;34m)\u001b[0m\u001b[0;34m*\u001b[0m\u001b[0my\u001b[0m\u001b[0;34m+\u001b[0m\u001b[0mInteger\u001b[0m\u001b[0;34m(\u001b[0m\u001b[0;36m5\u001b[0m\u001b[0;34m)\u001b[0m\u001b[0;34m*\u001b[0m\u001b[0my\u001b[0m\u001b[0;34m**\u001b[0m\u001b[0mInteger\u001b[0m\u001b[0;34m(\u001b[0m\u001b[0;36m4\u001b[0m\u001b[0;34m)\u001b[0m\u001b[0;34m,\u001b[0m \u001b[0mz\u001b[0m\u001b[0;34m**\u001b[0m\u001b[0mInteger\u001b[0m\u001b[0;34m(\u001b[0m\u001b[0;36m4\u001b[0m\u001b[0;34m)\u001b[0m\u001b[0;34m]\u001b[0m\u001b[0;34m)\u001b[0m\u001b[0;34m\u001b[0m\u001b[0;34m\u001b[0m\u001b[0m\n\u001b[0;32m----> 4\u001b[0;31m \u001b[0mf\u001b[0m\u001b[0;34m.\u001b[0m\u001b[0msigma_invariants\u001b[0m\u001b[0;34m(\u001b[0m\u001b[0mInteger\u001b[0m\u001b[0;34m(\u001b[0m\u001b[0;36m1\u001b[0m\u001b[0;34m)\u001b[0m\u001b[0;34m,\u001b[0m \u001b[0mreturn_polynomial\u001b[0m\u001b[0;34m=\u001b[0m\u001b[0;32mTrue\u001b[0m\u001b[0;34m,\u001b[0m \u001b[0mchow\u001b[0m\u001b[0;34m=\u001b[0m\u001b[0;32mTrue\u001b[0m\u001b[0;34m)\u001b[0m\u001b[0;34m\u001b[0m\u001b[0;34m\u001b[0m\u001b[0m\n\u001b[0m",
      "\u001b[0;32m~/Documents/Sage/local/lib/python3.8/site-packages/sage/dynamics/arithmetic_dynamics/projective_ds.py\u001b[0m in \u001b[0;36msigma_invariants\u001b[0;34m(self, n, formal, embedding, type, return_polynomial, chow)\u001b[0m\n\u001b[1;32m   4830\u001b[0m                     \u001b[0mL\u001b[0m \u001b[0;34m+=\u001b[0m \u001b[0;34m[\u001b[0m\u001b[0mg_prime\u001b[0m\u001b[0;34m]\u001b[0m\u001b[0;34m\u001b[0m\u001b[0;34m\u001b[0m\u001b[0m\n\u001b[1;32m   4831\u001b[0m                 \u001b[0mI\u001b[0m \u001b[0;34m=\u001b[0m \u001b[0mR\u001b[0m\u001b[0;34m.\u001b[0m\u001b[0mideal\u001b[0m\u001b[0;34m(\u001b[0m\u001b[0mL\u001b[0m\u001b[0;34m)\u001b[0m\u001b[0;34m\u001b[0m\u001b[0;34m\u001b[0m\u001b[0m\n\u001b[0;32m-> 4832\u001b[0;31m                 \u001b[0mG\u001b[0m \u001b[0;34m=\u001b[0m \u001b[0mI\u001b[0m\u001b[0;34m.\u001b[0m\u001b[0mgroebner_basis\u001b[0m\u001b[0;34m(\u001b[0m\u001b[0;34m)\u001b[0m\u001b[0;34m\u001b[0m\u001b[0;34m\u001b[0m\u001b[0m\n\u001b[0m\u001b[1;32m   4833\u001b[0m                 \u001b[0;32mif\u001b[0m \u001b[0mchow\u001b[0m\u001b[0;34m:\u001b[0m\u001b[0;34m\u001b[0m\u001b[0;34m\u001b[0m\u001b[0m\n\u001b[1;32m   4834\u001b[0m                     \u001b[0mpoly\u001b[0m \u001b[0;34m=\u001b[0m \u001b[0mpsi\u001b[0m\u001b[0;34m(\u001b[0m\u001b[0mG\u001b[0m\u001b[0;34m[\u001b[0m\u001b[0;34m-\u001b[0m\u001b[0;36m1\u001b[0m\u001b[0;34m]\u001b[0m\u001b[0;34m.\u001b[0m\u001b[0mspecialization\u001b[0m\u001b[0;34m(\u001b[0m\u001b[0mR_zero\u001b[0m\u001b[0;34m)\u001b[0m\u001b[0;34m)\u001b[0m\u001b[0;34m\u001b[0m\u001b[0;34m\u001b[0m\u001b[0m\n",
      "\u001b[0;32m~/Documents/Sage/local/lib/python3.8/site-packages/sage/misc/cachefunc.pyx\u001b[0m in \u001b[0;36msage.misc.cachefunc.CachedMethodCaller.__call__ (build/cythonized/sage/misc/cachefunc.c:10437)\u001b[0;34m()\u001b[0m\n\u001b[1;32m   1946\u001b[0m                 \u001b[0;32mreturn\u001b[0m \u001b[0mcache\u001b[0m\u001b[0;34m[\u001b[0m\u001b[0mk\u001b[0m\u001b[0;34m]\u001b[0m\u001b[0;34m\u001b[0m\u001b[0;34m\u001b[0m\u001b[0m\n\u001b[1;32m   1947\u001b[0m         \u001b[0;32mexcept\u001b[0m \u001b[0mKeyError\u001b[0m\u001b[0;34m:\u001b[0m\u001b[0;34m\u001b[0m\u001b[0;34m\u001b[0m\u001b[0m\n\u001b[0;32m-> 1948\u001b[0;31m             \u001b[0mw\u001b[0m \u001b[0;34m=\u001b[0m \u001b[0mself\u001b[0m\u001b[0;34m.\u001b[0m\u001b[0m_instance_call\u001b[0m\u001b[0;34m(\u001b[0m\u001b[0;34m*\u001b[0m\u001b[0margs\u001b[0m\u001b[0;34m,\u001b[0m \u001b[0;34m**\u001b[0m\u001b[0mkwds\u001b[0m\u001b[0;34m)\u001b[0m\u001b[0;34m\u001b[0m\u001b[0;34m\u001b[0m\u001b[0m\n\u001b[0m\u001b[1;32m   1949\u001b[0m             \u001b[0mcache\u001b[0m\u001b[0;34m[\u001b[0m\u001b[0mk\u001b[0m\u001b[0;34m]\u001b[0m \u001b[0;34m=\u001b[0m \u001b[0mw\u001b[0m\u001b[0;34m\u001b[0m\u001b[0;34m\u001b[0m\u001b[0m\n\u001b[1;32m   1950\u001b[0m             \u001b[0;32mreturn\u001b[0m \u001b[0mw\u001b[0m\u001b[0;34m\u001b[0m\u001b[0;34m\u001b[0m\u001b[0m\n",
      "\u001b[0;32m~/Documents/Sage/local/lib/python3.8/site-packages/sage/misc/cachefunc.pyx\u001b[0m in \u001b[0;36msage.misc.cachefunc.CachedMethodCaller._instance_call (build/cythonized/sage/misc/cachefunc.c:9916)\u001b[0;34m()\u001b[0m\n\u001b[1;32m   1822\u001b[0m             \u001b[0;32mTrue\u001b[0m\u001b[0;34m\u001b[0m\u001b[0;34m\u001b[0m\u001b[0m\n\u001b[1;32m   1823\u001b[0m         \"\"\"\n\u001b[0;32m-> 1824\u001b[0;31m         \u001b[0;32mreturn\u001b[0m \u001b[0mself\u001b[0m\u001b[0;34m.\u001b[0m\u001b[0mf\u001b[0m\u001b[0;34m(\u001b[0m\u001b[0mself\u001b[0m\u001b[0;34m.\u001b[0m\u001b[0m_instance\u001b[0m\u001b[0;34m,\u001b[0m \u001b[0;34m*\u001b[0m\u001b[0margs\u001b[0m\u001b[0;34m,\u001b[0m \u001b[0;34m**\u001b[0m\u001b[0mkwds\u001b[0m\u001b[0;34m)\u001b[0m\u001b[0;34m\u001b[0m\u001b[0;34m\u001b[0m\u001b[0m\n\u001b[0m\u001b[1;32m   1825\u001b[0m \u001b[0;34m\u001b[0m\u001b[0m\n\u001b[1;32m   1826\u001b[0m     \u001b[0mcdef\u001b[0m \u001b[0mfix_args_kwds\u001b[0m\u001b[0;34m(\u001b[0m\u001b[0mself\u001b[0m\u001b[0;34m,\u001b[0m \u001b[0mtuple\u001b[0m \u001b[0margs\u001b[0m\u001b[0;34m,\u001b[0m \u001b[0mdict\u001b[0m \u001b[0mkwds\u001b[0m\u001b[0;34m)\u001b[0m\u001b[0;34m:\u001b[0m\u001b[0;34m\u001b[0m\u001b[0;34m\u001b[0m\u001b[0m\n",
      "\u001b[0;32m~/Documents/Sage/local/lib/python3.8/site-packages/sage/rings/qqbar_decorators.py\u001b[0m in \u001b[0;36mwrapper\u001b[0;34m(*args, **kwds)\u001b[0m\n\u001b[1;32m     94\u001b[0m                    \u001b[0;32mor\u001b[0m \u001b[0mis_PolynomialSequence\u001b[0m\u001b[0;34m(\u001b[0m\u001b[0ma\u001b[0m\u001b[0;34m)\u001b[0m\u001b[0;34m\u001b[0m\u001b[0;34m\u001b[0m\u001b[0m\n\u001b[1;32m     95\u001b[0m                    and is_AlgebraicField_common(a.ring().base_ring()) for a in args):\n\u001b[0;32m---> 96\u001b[0;31m             \u001b[0;32mreturn\u001b[0m \u001b[0mfunc\u001b[0m\u001b[0;34m(\u001b[0m\u001b[0;34m*\u001b[0m\u001b[0margs\u001b[0m\u001b[0;34m,\u001b[0m \u001b[0;34m**\u001b[0m\u001b[0mkwds\u001b[0m\u001b[0;34m)\u001b[0m\u001b[0;34m\u001b[0m\u001b[0;34m\u001b[0m\u001b[0m\n\u001b[0m\u001b[1;32m     97\u001b[0m \u001b[0;34m\u001b[0m\u001b[0m\n\u001b[1;32m     98\u001b[0m         \u001b[0mpolynomials\u001b[0m \u001b[0;34m=\u001b[0m \u001b[0;34m[\u001b[0m\u001b[0;34m]\u001b[0m\u001b[0;34m\u001b[0m\u001b[0;34m\u001b[0m\u001b[0m\n",
      "\u001b[0;32m~/Documents/Sage/local/lib/python3.8/site-packages/sage/rings/polynomial/multi_polynomial_ideal.py\u001b[0m in \u001b[0;36mgroebner_basis\u001b[0;34m(self, algorithm, deg_bound, mult_bound, prot, *args, **kwds)\u001b[0m\n\u001b[1;32m   4294\u001b[0m         \u001b[0;32mif\u001b[0m \u001b[0;32mnot\u001b[0m \u001b[0malgorithm\u001b[0m\u001b[0;34m:\u001b[0m\u001b[0;34m\u001b[0m\u001b[0;34m\u001b[0m\u001b[0m\n\u001b[1;32m   4295\u001b[0m             \u001b[0;32mtry\u001b[0m\u001b[0;34m:\u001b[0m\u001b[0;34m\u001b[0m\u001b[0;34m\u001b[0m\u001b[0m\n\u001b[0;32m-> 4296\u001b[0;31m                 \u001b[0mgb\u001b[0m \u001b[0;34m=\u001b[0m \u001b[0mself\u001b[0m\u001b[0;34m.\u001b[0m\u001b[0m_groebner_basis_libsingular\u001b[0m\u001b[0;34m(\u001b[0m\u001b[0;34m\"groebner\"\u001b[0m\u001b[0;34m,\u001b[0m \u001b[0mdeg_bound\u001b[0m\u001b[0;34m=\u001b[0m\u001b[0mdeg_bound\u001b[0m\u001b[0;34m,\u001b[0m \u001b[0mmult_bound\u001b[0m\u001b[0;34m=\u001b[0m\u001b[0mmult_bound\u001b[0m\u001b[0;34m,\u001b[0m \u001b[0;34m*\u001b[0m\u001b[0margs\u001b[0m\u001b[0;34m,\u001b[0m \u001b[0;34m**\u001b[0m\u001b[0mkwds\u001b[0m\u001b[0;34m)\u001b[0m\u001b[0;34m\u001b[0m\u001b[0;34m\u001b[0m\u001b[0m\n\u001b[0m\u001b[1;32m   4297\u001b[0m             \u001b[0;32mexcept\u001b[0m \u001b[0;34m(\u001b[0m\u001b[0mTypeError\u001b[0m\u001b[0;34m,\u001b[0m \u001b[0mNameError\u001b[0m\u001b[0;34m)\u001b[0m\u001b[0;34m:\u001b[0m \u001b[0;31m# conversion to Singular not supported\u001b[0m\u001b[0;34m\u001b[0m\u001b[0;34m\u001b[0m\u001b[0m\n\u001b[1;32m   4298\u001b[0m                 \u001b[0;32mtry\u001b[0m\u001b[0;34m:\u001b[0m\u001b[0;34m\u001b[0m\u001b[0;34m\u001b[0m\u001b[0m\n",
      "\u001b[0;32m~/Documents/Sage/local/lib/python3.8/site-packages/sage/libs/singular/standard_options.py\u001b[0m in \u001b[0;36mwrapper\u001b[0;34m(*args, **kwds)\u001b[0m\n\u001b[1;32m    139\u001b[0m         \"\"\"\n\u001b[1;32m    140\u001b[0m         \u001b[0;32mwith\u001b[0m \u001b[0mLibSingularGBDefaultContext\u001b[0m\u001b[0;34m(\u001b[0m\u001b[0;34m)\u001b[0m\u001b[0;34m:\u001b[0m\u001b[0;34m\u001b[0m\u001b[0;34m\u001b[0m\u001b[0m\n\u001b[0;32m--> 141\u001b[0;31m             \u001b[0;32mreturn\u001b[0m \u001b[0mfunc\u001b[0m\u001b[0;34m(\u001b[0m\u001b[0;34m*\u001b[0m\u001b[0margs\u001b[0m\u001b[0;34m,\u001b[0m \u001b[0;34m**\u001b[0m\u001b[0mkwds\u001b[0m\u001b[0;34m)\u001b[0m\u001b[0;34m\u001b[0m\u001b[0;34m\u001b[0m\u001b[0m\n\u001b[0m\u001b[1;32m    142\u001b[0m     \u001b[0;32mreturn\u001b[0m \u001b[0mwrapper\u001b[0m\u001b[0;34m\u001b[0m\u001b[0;34m\u001b[0m\u001b[0m\n",
      "\u001b[0;32m~/Documents/Sage/local/lib/python3.8/site-packages/sage/rings/polynomial/multi_polynomial_ideal.py\u001b[0m in \u001b[0;36m_groebner_basis_libsingular\u001b[0;34m(self, algorithm, *args, **kwds)\u001b[0m\n\u001b[1;32m    536\u001b[0m             \u001b[0mS\u001b[0m \u001b[0;34m=\u001b[0m \u001b[0mslimgb_libsingular\u001b[0m\u001b[0;34m(\u001b[0m\u001b[0mself\u001b[0m\u001b[0;34m)\u001b[0m\u001b[0;34m\u001b[0m\u001b[0;34m\u001b[0m\u001b[0m\n\u001b[1;32m    537\u001b[0m         \u001b[0;32melif\u001b[0m \u001b[0malgorithm\u001b[0m \u001b[0;34m==\u001b[0m \u001b[0;34m\"groebner\"\u001b[0m\u001b[0;34m:\u001b[0m\u001b[0;34m\u001b[0m\u001b[0;34m\u001b[0m\u001b[0m\n\u001b[0;32m--> 538\u001b[0;31m             \u001b[0mS\u001b[0m \u001b[0;34m=\u001b[0m \u001b[0mgroebner\u001b[0m\u001b[0;34m(\u001b[0m\u001b[0mself\u001b[0m\u001b[0;34m)\u001b[0m\u001b[0;34m\u001b[0m\u001b[0;34m\u001b[0m\u001b[0m\n\u001b[0m\u001b[1;32m    539\u001b[0m         \u001b[0;32melse\u001b[0m\u001b[0;34m:\u001b[0m\u001b[0;34m\u001b[0m\u001b[0;34m\u001b[0m\u001b[0m\n\u001b[1;32m    540\u001b[0m             \u001b[0;32mtry\u001b[0m\u001b[0;34m:\u001b[0m\u001b[0;34m\u001b[0m\u001b[0;34m\u001b[0m\u001b[0m\n",
      "\u001b[0;32m~/Documents/Sage/local/lib/python3.8/site-packages/sage/libs/singular/function.pyx\u001b[0m in \u001b[0;36msage.libs.singular.function.SingularFunction.__call__ (build/cythonized/sage/libs/singular/function.cpp:15201)\u001b[0;34m()\u001b[0m\n\u001b[1;32m   1332\u001b[0m         \u001b[0;32mif\u001b[0m \u001b[0;32mnot\u001b[0m \u001b[0;34m(\u001b[0m\u001b[0misinstance\u001b[0m\u001b[0;34m(\u001b[0m\u001b[0mring\u001b[0m\u001b[0;34m,\u001b[0m \u001b[0mMPolynomialRing_libsingular\u001b[0m\u001b[0;34m)\u001b[0m \u001b[0;32mor\u001b[0m \u001b[0misinstance\u001b[0m\u001b[0;34m(\u001b[0m\u001b[0mring\u001b[0m\u001b[0;34m,\u001b[0m \u001b[0mNCPolynomialRing_plural\u001b[0m\u001b[0;34m)\u001b[0m\u001b[0;34m)\u001b[0m\u001b[0;34m:\u001b[0m\u001b[0;34m\u001b[0m\u001b[0;34m\u001b[0m\u001b[0m\n\u001b[1;32m   1333\u001b[0m             \u001b[0;32mraise\u001b[0m \u001b[0mTypeError\u001b[0m\u001b[0;34m(\u001b[0m\u001b[0;34m\"Cannot call Singular function '%s' with ring parameter of type '%s'\"\u001b[0m\u001b[0;34m%\u001b[0m\u001b[0;34m(\u001b[0m\u001b[0mself\u001b[0m\u001b[0;34m.\u001b[0m\u001b[0m_name\u001b[0m\u001b[0;34m,\u001b[0m\u001b[0mtype\u001b[0m\u001b[0;34m(\u001b[0m\u001b[0mring\u001b[0m\u001b[0;34m)\u001b[0m\u001b[0;34m)\u001b[0m\u001b[0;34m)\u001b[0m\u001b[0;34m\u001b[0m\u001b[0;34m\u001b[0m\u001b[0m\n\u001b[0;32m-> 1334\u001b[0;31m         \u001b[0;32mreturn\u001b[0m \u001b[0mcall_function\u001b[0m\u001b[0;34m(\u001b[0m\u001b[0mself\u001b[0m\u001b[0;34m,\u001b[0m \u001b[0margs\u001b[0m\u001b[0;34m,\u001b[0m \u001b[0mring\u001b[0m\u001b[0;34m,\u001b[0m \u001b[0minterruptible\u001b[0m\u001b[0;34m,\u001b[0m \u001b[0mattributes\u001b[0m\u001b[0;34m)\u001b[0m\u001b[0;34m\u001b[0m\u001b[0;34m\u001b[0m\u001b[0m\n\u001b[0m\u001b[1;32m   1335\u001b[0m \u001b[0;34m\u001b[0m\u001b[0m\n\u001b[1;32m   1336\u001b[0m     \u001b[0;32mdef\u001b[0m \u001b[0m_instancedoc_\u001b[0m\u001b[0;34m(\u001b[0m\u001b[0mself\u001b[0m\u001b[0;34m)\u001b[0m\u001b[0;34m:\u001b[0m\u001b[0;34m\u001b[0m\u001b[0;34m\u001b[0m\u001b[0m\n",
      "\u001b[0;32m~/Documents/Sage/local/lib/python3.8/site-packages/sage/libs/singular/function.pyx\u001b[0m in \u001b[0;36msage.libs.singular.function.call_function (build/cythonized/sage/libs/singular/function.cpp:17051)\u001b[0;34m()\u001b[0m\n\u001b[1;32m   1514\u001b[0m         \u001b[0merror_messages\u001b[0m\u001b[0;34m.\u001b[0m\u001b[0mpop\u001b[0m\u001b[0;34m(\u001b[0m\u001b[0;34m)\u001b[0m\u001b[0;34m\u001b[0m\u001b[0;34m\u001b[0m\u001b[0m\n\u001b[1;32m   1515\u001b[0m \u001b[0;34m\u001b[0m\u001b[0m\n\u001b[0;32m-> 1516\u001b[0;31m     \u001b[0;32mwith\u001b[0m \u001b[0mopt_ctx\u001b[0m\u001b[0;34m:\u001b[0m \u001b[0;31m# we are preserving the global options state here\u001b[0m\u001b[0;34m\u001b[0m\u001b[0;34m\u001b[0m\u001b[0m\n\u001b[0m\u001b[1;32m   1517\u001b[0m         \u001b[0;32mif\u001b[0m \u001b[0msignal_handler\u001b[0m\u001b[0;34m:\u001b[0m\u001b[0;34m\u001b[0m\u001b[0;34m\u001b[0m\u001b[0m\n\u001b[1;32m   1518\u001b[0m             \u001b[0msig_on\u001b[0m\u001b[0;34m(\u001b[0m\u001b[0;34m)\u001b[0m\u001b[0;34m\u001b[0m\u001b[0;34m\u001b[0m\u001b[0m\n",
      "\u001b[0;32m~/Documents/Sage/local/lib/python3.8/site-packages/sage/libs/singular/function.pyx\u001b[0m in \u001b[0;36msage.libs.singular.function.call_function (build/cythonized/sage/libs/singular/function.cpp:16963)\u001b[0;34m()\u001b[0m\n\u001b[1;32m   1516\u001b[0m     \u001b[0;32mwith\u001b[0m \u001b[0mopt_ctx\u001b[0m\u001b[0;34m:\u001b[0m \u001b[0;31m# we are preserving the global options state here\u001b[0m\u001b[0;34m\u001b[0m\u001b[0;34m\u001b[0m\u001b[0m\n\u001b[1;32m   1517\u001b[0m         \u001b[0;32mif\u001b[0m \u001b[0msignal_handler\u001b[0m\u001b[0;34m:\u001b[0m\u001b[0;34m\u001b[0m\u001b[0;34m\u001b[0m\u001b[0m\n\u001b[0;32m-> 1518\u001b[0;31m             \u001b[0msig_on\u001b[0m\u001b[0;34m(\u001b[0m\u001b[0;34m)\u001b[0m\u001b[0;34m\u001b[0m\u001b[0;34m\u001b[0m\u001b[0m\n\u001b[0m\u001b[1;32m   1519\u001b[0m             \u001b[0m_res\u001b[0m \u001b[0;34m=\u001b[0m \u001b[0mself\u001b[0m\u001b[0;34m.\u001b[0m\u001b[0mcall_handler\u001b[0m\u001b[0;34m.\u001b[0m\u001b[0mhandle_call\u001b[0m\u001b[0;34m(\u001b[0m\u001b[0margument_list\u001b[0m\u001b[0;34m,\u001b[0m \u001b[0msi_ring\u001b[0m\u001b[0;34m)\u001b[0m\u001b[0;34m\u001b[0m\u001b[0;34m\u001b[0m\u001b[0m\n\u001b[1;32m   1520\u001b[0m             \u001b[0msig_off\u001b[0m\u001b[0;34m(\u001b[0m\u001b[0;34m)\u001b[0m\u001b[0;34m\u001b[0m\u001b[0;34m\u001b[0m\u001b[0m\n",
      "\u001b[0;31mKeyboardInterrupt\u001b[0m: "
     ]
    }
   ],
   "source": [
    "# from paper\n",
    "P.<x,y,z> = ProjectiveSpace(QQ, 2)\n",
    "f = DynamicalSystem_projective([x^4 - 8*x*y^3, 4*x^3*y+5*y^4, z^4])\n",
    "f.sigma_invariants(1, return_polynomial=True, chow=True)"
   ]
  },
  {
   "cell_type": "code",
   "execution_count": 23,
   "metadata": {
    "scrolled": true
   },
   "outputs": [
    {
     "data": {
      "text/plain": [
       "w^15 + (-15.0000000000000*t^2 + 27.9783783783784*t - 28.6714390065742)*w^14 + (105.000000000000*t^4 - 391.697297297297*t^3 + 666.965551497444*t^2 - 456.661687955305*t - 37.4713448417712)*w^13 + (-455.000000000000*t^6 + 2546.03243243243*t^5 + (-6061.45121986853 - 3.15544362088405e-30*I)*t^4 + 6608.76863933036*t^3 + (-434.983990075575 - 1.26217744835362e-29*I)*t^2 - 4507.18053883703*t + 5095.17435570397)*w^12 + (1365.00000000000*t^8 - 10184.1297297297*t^7 + (31150.5054200147 + 3.15544362088405e-29*I)*t^6 + (-43685.6120114506 - 3.89398799269096e-29*I)*t^5 + (4324.29220299105 + 6.77519152444953e-29*I)*t^4 + (67692.0899902218 - 1.68381294191175e-28*I)*t^3 + (-97713.9374775408 + 1.70033465109692e-28*I)*t^2 + 41182.6073706270*t + 3946.86595629983)*w^11 + (-3003.00000000000*t^10 + 28006.3567567568*t^9 + (-104651.816391527 - 1.41994962939782e-28*I)*t^8 + (174968.244685370 + 3.50458919342187e-28*I)*t^7 + (-8141.46626316686 - 3.52004602681976e-29*I)*t^6 + (-467493.445919832 + 6.79582591923074e-28*I)*t^5 + (775590.367216179 - 7.00826491960463e-28*I)*t^4 + (-370288.894239546 + 1.15460959942025e-27*I)*t^3 + (-316874.905672458 + 6.66394575693876e-28*I)*t^2 + 449196.368759422*t - 316803.448072889)*w^10 + (5005.00000000000*t^12 - 56012.7135135135*t^11 + (247279.485756027 + 3.78653234506086e-28*I)*t^10 + (-474389.779988551 - 1.39236934650609e-27*I)*t^9 + (-33932.9191543453 - 6.80717652082516e-28*I)*t^8 + (1.94344922828027e6 + 1.89958387238575e-27*I)*t^7 + (-3.48827077051235e6 - 1.25857499423029e-27*I)*t^6 + (1.25598521306432e6 - 9.64232013543210e-27*I)*t^5 + (3.79251924005231e6 + 5.24635758893259e-27*I)*t^4 + (-5.46425609809831e6 - 8.84423944246764e-28*I)*t^3 + (2.64763623626220e6 - 3.64904639272283e-27*I)*t^2 + 1.38342576647159e6*t - 1.13311287166838e6)*w^9 + (-6435.00000000000*t^14 + 84019.0702702703*t^13 + (-427883.008093500 - 6.62643160385650e-28*I)*t^12 + (920446.106874621 + 3.18575293609654e-27*I)*t^11 + (221796.736636865 + 2.81109063476845e-27*I)*t^10 + (-5.39197846979223e6 - 1.87256875285087e-26*I)*t^9 + (1.00935587876038e7 + 1.56941254417485e-26*I)*t^8 + (-1.24757525153287e6 + 5.35761270027530e-26*I)*t^7 + (-2.09188871268785e7 - 9.31150213776848e-26*I)*t^6 + (2.79382350516058e7 + 6.83847504920966e-27*I)*t^5 + (-4.14806452043442e6 + 2.17190829959946e-26*I)*t^4 + (-2.31647249948042e7 - 5.88030938546701e-26*I)*t^3 + (1.76458931267710e7 + 1.80418896893096e-26*I)*t^2 + 95567.6867868371*t + 775787.379046892)*w^8 + (6435.00000000000*t^16 - 96021.7945945947*t^15 + (554110.614346239 + 7.95171792462780e-28*I)*t^14 + (-1.31598747969313e6 - 4.56563695973514e-27*I)*t^13 + (-594021.131057174 - 6.12052101071608e-27*I)*t^12 + (1.05021663406138e7 + 5.59752607123253e-26*I)*t^11 + (-2.00313453504568e7 - 5.04432392852056e-26*I)*t^10 + (-4.39045878161405e6 - 2.02171638820052e-25*I)*t^9 + (6.75570085940837e7 + 4.47888001660451e-25*I)*t^8 + (-7.93395875987622e7 + 9.12668654411208e-28*I)*t^7 + (-3.11619446636367e7 - 3.32882644964058e-25*I)*t^6 + (1.40237887511919e8 + 6.32957358699144e-25*I)*t^5 + (-7.90479628482492e7 - 8.03546312646231e-26*I)*t^4 + (-4.42114609656379e7 - 4.24942526406496e-26*I)*t^3 + (3.27222449534734e7 + 1.11857603690670e-26*I)*t^2 - 1.57162771625087e7*t + 3.93356553141509e6)*w^7 + (-5005.00000000000*t^18 + 84019.0702702703*t^17 + (-541810.567012419 - 6.62643160385650e-28*I)*t^16 + (1.40471348355344e6 + 4.11125307832783e-27*I)*t^15 + (976315.452594490 + 9.06662351257949e-27*I)*t^14 + (-1.47249895200890e7 - 9.19928058559599e-26*I)*t^13 + (2.81764370178829e7 + 8.76395267533730e-26*I)*t^12 + (1.88968638018906e7 + 4.76027211326168e-25*I)*t^11 + (-1.41021558650978e8 - 1.11671754314561e-24*I)*t^10 + (1.36903314995536e8 - 1.85054718358581e-25*I)*t^9 + (1.80022902006306e8 + 1.95584524283905e-24*I)*t^8 + (-4.40194382810590e8 - 2.54041163839526e-24*I)*t^7 + (1.12183862462015e8 - 1.45933833011920e-25*I)*t^6 + (3.73656112361740e8 + 1.45922610445773e-24*I)*t^5 + (-2.52904942301848e8 - 8.81944506583079e-25*I)*t^4 + (2.40931991486645e7 + 3.16412440078780e-25*I)*t^3 + (2.74279025722737e7 - 5.59862109483327e-26*I)*t^2 - 2.46346874716770e7*t + 2.34650344944486e6)*w^6 + (3003.00000000000*t^20 - 56012.7135135135*t^19 + (399182.897647919 + 3.78653234506086e-28*I)*t^18 + (-1.12007961556031e6 - 2.07819222516624e-27*I)*t^17 + (-1.08195896009583e6 - 9.95387469948563e-27*I)*t^16 + (1.49849252957692e7 + 9.23046386045179e-26*I)*t^15 + (-2.84578562825350e7 - 8.87668959024587e-26*I)*t^14 + (-3.52850344145764e7 - 6.90274193533516e-25*I)*t^13 + (1.99061450446359e8 + 1.66963139770166e-24*I)*t^12 + (-1.44530929856120e8 + 6.95306346546286e-25*I)*t^11 + (-4.47317044375739e8 - 5.28042895325347e-24*I)*t^10 + (8.13647445196894e8 + 5.27707854871929e-24*I)*t^9 + (1.65240218822320e8 + 3.27990103632438e-24*I)*t^8 + (-1.29852596365050e9 - 9.78786628415047e-24*I)*t^7 + (5.77774712222032e8 + 3.33307366789207e-24*I)*t^6 + (5.19557972906033e8 + 5.03041460328703e-25*I)*t^5 + (-4.96854919595795e8 - 1.05553212539819e-24*I)*t^4 + (2.57660072546492e8 + 3.96877600343334e-25*I)*t^3 + (-1.03410330804235e7 - 4.51920125789379e-26*I)*t^2 - 9.58895463665033e6*t)*w^5 + (-1365.00000000000*t^22 + 28006.3567567568*t^21 + (-218579.375310446 - 1.41994962939782e-28*I)*t^20 + (659235.621364186 + 2.09077988674577e-28*I)*t^19 + (830379.422357086 + 8.26407890739284e-27*I)*t^18 + (-1.09954271637365e7 - 5.64611882603307e-26*I)*t^17 + (2.05623263088235e7 + 4.58091413700176e-26*I)*t^16 + (3.98848105202093e7 + 6.09105587470346e-25*I)*t^15 + (-1.92773234199523e8 - 1.55271234947748e-24*I)*t^14 + (8.44790676127440e7 - 1.08042482982964e-24*I)*t^13 + (6.50200829768062e8 + 7.77093699944373e-24*I)*t^12 + (-9.24307132661359e8 - 6.58136148002948e-24*I)*t^11 + (-8.36194787291510e8 - 1.15521777386610e-23*I)*t^10 + (2.39001497941034e9 + 2.46539076541883e-23*I)*t^9 + (-1.90341859060980e8 + 1.30133576620937e-24*I)*t^8 + (-2.38355305893283e9 - 1.31227035359712e-23*I)*t^7 + (1.33687122982403e9 + 1.16730503735263e-23*I)*t^6 + (2.79545292636791e8 - 4.47383281896138e-24*I)*t^5 + (-9.66535350042890e8 + 3.47182493731017e-25*I)*t^4 + (3.71874296552429e8 + 8.69640890708208e-26*I)*t^3 - 1.86376478509011e7*t^2)*w^4 + (455.000000000000*t^24 - 10184.1297297297*t^23 + (86388.1097443391 + 3.15544362088405e-29*I)*t^22 + (-278481.915855725 + 4.44712873120593e-28*I)*t^21 + (-437868.575530368 - 5.05081668012374e-27*I)*t^20 + (5.67908169090976e6 + 1.88268180108152e-26*I)*t^19 + (-1.03959256247943e7 + 4.81655288394867e-29*I)*t^18 + (-2.89591233353629e7 - 3.07078655076080e-25*I)*t^17 + (1.26674123299828e8 + 8.66586036286435e-25*I)*t^16 + (-1.32349207446104e7 + 7.35714858711884e-25*I)*t^15 + (-5.89516269146653e8 - 6.62964437942042e-24*I)*t^14 + (6.37332507296554e8 + 5.71221451660415e-24*I)*t^13 + (1.32206934870620e9 + 1.80190296147722e-23*I)*t^12 + (-2.49671143835962e9 - 3.16326567017194e-23*I)*t^11 + (-1.16637808114848e9 - 1.74932864598190e-23*I)*t^10 + (4.27946420634547e9 + 3.96150017427917e-23*I)*t^9 + (-6.52981183077368e8 - 2.02683990217885e-23*I)*t^8 + (-3.06284456748289e9 - 1.46412001087585e-23*I)*t^7 + (2.22303446447126e9 + 1.92045777471501e-23*I)*t^6 + (7.30306001245330e8 - 6.02508104064890e-24*I)*t^5 + (-9.30919321261572e8 + 5.46978503745777e-25*I)*t^4 + 1.52675550598922e8*t^3)*w^3 + (-105.000000000000*t^26 + 2546.03243243243*t^25 + (-23323.2025712199 - 3.15544362088405e-30*I)*t^24 + (79982.6135906662 - 3.01848031128567e-28*I)*t^23 + (152068.839335002 + 2.12431231820493e-27*I)*t^22 + (-1.96174643097163e6 - 1.73411169874023e-27*I)*t^21 + (3.49859915273813e6 - 1.45567231127932e-26*I)*t^20 + (1.32801246241335e7 + 6.95751578944495e-26*I)*t^19 + (-5.41308298386545e7 - 2.46318907228991e-25*I)*t^18 + (-1.50499287480595e7 - 8.06423683696029e-26*I)*t^17 + (3.29658637660756e8 + 3.23183248110997e-24*I)*t^16 + (-2.45900101220353e8 - 4.00779880604201e-24*I)*t^15 + (-1.07748517187927e9 - 1.44883527089073e-23*I)*t^14 + (1.45398866772739e9 + 2.44228504038760e-23*I)*t^13 + (1.94450884239166e9 + 2.74905922222194e-23*I)*t^12 + (-3.70962508070385e9 - 5.28999584914294e-23*I)*t^11 + (-1.58347204975552e9 - 2.60386389988965e-24*I)*t^10 + (4.87369590836107e9 + 5.83276945282319e-23*I)*t^9 + (-3.78921460355444e8 - 2.37596722511908e-23*I)*t^8 + (-3.40188589363022e9 - 1.61189544150614e-23*I)*t^7 + (9.69256594578589e8 + 1.12804866710100e-23*I)*t^6 + (7.72460961445255e8 - 1.75776792242752e-24*I)*t^5 - 2.67543919645151e8*t^4)*w^2 + (15.0000000000000*t^28 - 391.697297297297*t^27 + 3853.75041636231*t^26 + (-14002.6022943558 + 8.51969777638693e-29*I)*t^25 + (-31422.8761380341 - 5.43282109256209e-28*I)*t^24 + (407295.041138358 - 7.95046773279434e-28*I)*t^23 + (-704875.726209244 + 7.74444636497514e-27*I)*t^22 + (-3.51830523417582e6 + 2.69824021155414e-27*I)*t^21 + (1.35990234771618e7 + 1.17003692149440e-26*I)*t^20 + (9.68068256013934e6 - 1.43500608134182e-25*I)*t^19 + (-1.04466539949643e8 - 8.02139244185565e-25*I)*t^18 + (4.11620375523092e7 + 2.10602368737362e-24*I)*t^17 + (4.56603788690872e8 + 6.04091017411068e-24*I)*t^16 + (-4.18494108670083e8 - 1.19745792849810e-23*I)*t^15 + (-1.23400354930866e9 - 1.94818783438508e-23*I)*t^14 + (1.48168092753929e9 + 3.40580498152583e-23*I)*t^13 + (2.04899956801314e9 + 2.63700101380737e-23*I)*t^12 + (-2.78641918235466e9 - 5.40100642813139e-23*I)*t^11 + (-1.88879552857183e9 - 1.16776675729989e-23*I)*t^10 + (2.91535714435193e9 + 3.64835195347995e-23*I)*t^9 + (8.22629837251603e8 - 6.07772242025993e-24*I)*t^8 + (-1.36538251063819e9 - 5.13549060176680e-24*I)*t^7 + (-1.86828269037525e7 + 1.35212917109809e-24*I)*t^6 + 1.51797968592993e8*t^5)*w - t^30 + 27.9783783783784*t^29 - 294.236844411980*t^28 + (1128.82838386670 - 9.46633086265214e-30*I)*t^27 + (2933.64044739719 + 6.31770982257001e-29*I)*t^26 + (-38467.4756536506 + 1.91337619042925e-28*I)*t^25 + (64380.8833649169 - 1.37917913741514e-27*I)*t^24 + (411819.144833294 - 2.97012593961073e-27*I)*t^23 + (-1.52668720173569e6 + 7.14526420165024e-27*I)*t^22 + (-1.83087354313394e6 + 5.17345996744572e-26*I)*t^21 + (1.43966604327923e7 + 6.84104618274993e-26*I)*t^20 + (-196961.637040738 - 5.39899093074776e-25*I)*t^19 + (-7.98820769174831e7 - 1.09106380305170e-24*I)*t^18 + (4.01876444595743e7 + 2.90161236096951e-24*I)*t^17 + (2.87846844873756e8 + 5.72092189356291e-24*I)*t^16 + (-1.95901889140258e8 - 8.46984343105692e-24*I)*t^15 + (-6.83924113512174e8 - 1.40592792535753e-23*I)*t^14 + (4.62997163764877e8 + 1.44005250804585e-23*I)*t^13 + (1.01921240412989e9 + 1.59307715958876e-23*I)*t^12 + (-6.06062593882818e8 - 1.44264481681601e-23*I)*t^11 + (-8.42329462717719e8 - 5.74974275449585e-24*I)*t^10 + (4.40245998594009e8 + 6.89325852419432e-24*I)*t^9 + (2.86226746548903e8 - 1.35212917109809e-24*I)*t^8 - 1.51797968592993e8*t^7"
      ]
     },
     "execution_count": 23,
     "metadata": {},
     "output_type": "execute_result"
    }
   ],
   "source": [
    "num_sigma(f, 1)"
   ]
  },
  {
   "cell_type": "code",
   "execution_count": 25,
   "metadata": {},
   "outputs": [],
   "source": [
    "sage: P.<x,y> = ProjectiveSpace(QQ, 1)\n",
    "sage: f = DynamicalSystem_projective([x^2 + 2*y^2, y^2])"
   ]
  },
  {
   "cell_type": "code",
   "execution_count": 27,
   "metadata": {
    "scrolled": false
   },
   "outputs": [
    {
     "data": {
      "text/plain": [
       "w^3 - 3*w^2*t + 2*w^2 + 3*w*t^2 - 4*w*t + 8*w - t^3 + 2*t^2 - 8*t"
      ]
     },
     "execution_count": 27,
     "metadata": {},
     "output_type": "execute_result"
    }
   ],
   "source": [
    "f.sigma_invariants(1, return_polynomial=True)"
   ]
  },
  {
   "cell_type": "code",
   "execution_count": 28,
   "metadata": {},
   "outputs": [
    {
     "data": {
      "text/plain": [
       "w^3 + (-3.00000000000000*t + 2.00000000000000)*w^2 + (3.00000000000000*t^2 - 4.00000000000000*t + 8.00000000000000)*w - t^3 + 2.00000000000000*t^2 - 8.00000000000000*t"
      ]
     },
     "execution_count": 28,
     "metadata": {},
     "output_type": "execute_result"
    }
   ],
   "source": [
    "num_sigma(f, 1)"
   ]
  },
  {
   "cell_type": "code",
   "execution_count": 32,
   "metadata": {
    "scrolled": true
   },
   "outputs": [
    {
     "data": {
      "text/plain": [
       "w^7 - 7*w^6*t^2 - 6*w^6*t + 12*w^6 + 21*w^5*t^4 + 36*w^5*t^3 - 60*w^5*t^2 - 72*w^5*t + 48*w^5 - 35*w^4*t^6 - 90*w^4*t^5 + 120*w^4*t^4 + 352*w^4*t^3 - 96*w^4*t^2 - 288*w^4*t + 64*w^4 + 35*w^3*t^8 + 120*w^3*t^7 - 120*w^3*t^6 - 688*w^3*t^5 - 96*w^3*t^4 + 1056*w^3*t^3 + 320*w^3*t^2 - 384*w^3*t - 21*w^2*t^10 - 90*w^2*t^9 + 60*w^2*t^8 + 672*w^2*t^7 + 384*w^2*t^6 - 1440*w^2*t^5 - 1344*w^2*t^4 + 768*w^2*t^3 + 768*w^2*t^2 + 7*w*t^12 + 36*w*t^11 - 12*w*t^10 - 328*w*t^9 - 336*w*t^8 + 864*w*t^7 + 1472*w*t^6 - 384*w*t^5 - 1536*w*t^4 - 512*w*t^3 - t^14 - 6*t^13 + 64*t^11 + 96*t^10 - 192*t^9 - 512*t^8 + 768*t^6 + 512*t^5"
      ]
     },
     "execution_count": 32,
     "metadata": {},
     "output_type": "execute_result"
    }
   ],
   "source": [
    "sage: P.<x,y,z> = ProjectiveSpace(QQ, 2)\n",
    "            sage: f = DynamicalSystem_projective([x^2, z^2, y^2])\n",
    "            sage: f.sigma_invariants(1, return_polynomial=True, chow=True)"
   ]
  },
  {
   "cell_type": "code",
   "execution_count": 30,
   "metadata": {},
   "outputs": [
    {
     "data": {
      "text/plain": [
       "w^7 + (-7.00000000000000*t^2 + (-6.00000000000000 + 3.33066907387547e-16*I)*t + 12.0000000000000 + 4.44089209850063e-16*I)*w^6 + (21.0000000000000*t^4 + (36.0000000000000 - 1.99840144432528e-15*I)*t^3 + (-60.0000000000000 - 4.44089209850063e-15*I)*t^2 + (-72.0000000000000 + 4.44089209850063e-16*I)*t + 48.0000000000000 + 3.55271367880050e-15*I)*w^5 + (-35.0000000000000*t^6 + (-90.0000000000000 + 4.99600361081320e-15*I)*t^5 + (120.000000000000 + 1.55431223447522e-14*I)*t^4 + (352.000000000000 + 8.88178419700125e-16*I)*t^3 + (-96.0000000000000 - 2.84217094304040e-14*I)*t^2 + (-288.000000000000 - 1.24344978758018e-14*I)*t + 64.0000000000000 + 7.10542735760100e-15*I)*w^4 + (35.0000000000000*t^8 + (120.000000000000 - 6.66133814775094e-15*I)*t^7 + (-120.000000000000 - 2.66453525910038e-14*I)*t^6 + (-688.000000000000 - 7.99360577730113e-15*I)*t^5 + (-96.0000000000000 + 7.63833440942108e-14*I)*t^4 + (1056.00000000000 + 7.28306304154103e-14*I)*t^3 + (320.000000000000 - 2.84217094304040e-14*I)*t^2 + (-384.000000000000 - 3.55271367880050e-14*I)*t)*w^3 + (-21.0000000000000*t^10 + (-90.0000000000000 + 4.99600361081320e-15*I)*t^9 + (60.0000000000000 + 2.44249065417534e-14*I)*t^8 + (672.000000000000 + 1.42108547152020e-14*I)*t^7 + (384.000000000000 - 9.41469124882133e-14*I)*t^6 + (-1440.00000000000 - 1.43884903991420e-13*I)*t^5 + (-1344.00000000000 + 2.84217094304040e-14*I)*t^4 + (768.000000000000 + 1.42108547152020e-13*I)*t^3 + (768.000000000000 + 5.68434188608080e-14*I)*t^2)*w^2 + (7.00000000000000*t^12 + (36.0000000000000 - 1.99840144432528e-15*I)*t^11 + (-12.0000000000000 - 1.15463194561016e-14*I)*t^10 + (-328.000000000000 - 1.02140518265514e-14*I)*t^9 + (-336.000000000000 + 5.50670620214078e-14*I)*t^8 + (864.000000000000 + 1.19015908239817e-13*I)*t^7 + (1472.00000000000 - 2.83989925879564e-29*I)*t^6 + (-384.000000000000 - 1.77635683940025e-13*I)*t^5 + (-1536.00000000000 - 1.42108547152020e-13*I)*t^4 + (-512.000000000000 - 2.84217094304040e-14*I)*t^3)*w - t^14 + (-6.00000000000000 + 3.33066907387547e-16*I)*t^13 + (2.22044604925031e-15*I)*t^12 + (64.0000000000000 + 2.66453525910038e-15*I)*t^11 + (96.0000000000000 - 1.24344978758018e-14*I)*t^10 + (-192.000000000000 - 3.55271367880050e-14*I)*t^9 + (-512.000000000000 - 7.10542735760099e-15*I)*t^8 + (-1.42108547152020e-14 + 7.10542735760100e-14*I)*t^7 + (768.000000000000 + 8.52651282912120e-14*I)*t^6 + (512.000000000000 + 2.84217094304040e-14*I)*t^5"
      ]
     },
     "execution_count": 30,
     "metadata": {},
     "output_type": "execute_result"
    }
   ],
   "source": [
    "num_sigma(f,1)"
   ]
  },
  {
   "cell_type": "code",
   "execution_count": 14,
   "metadata": {
    "scrolled": false
   },
   "outputs": [],
   "source": [
    "P.<x,y,z>=ProjectiveSpace(QQ,2)\n",
    "f=DynamicalSystem([x^2-z^2,y^2,z^2])\n",
    "sig_1 = f.sigma_invariants(2,return_polynomial=True,formal = False)\n",
    "sig_2 = f.sigma_invariants(2,return_polynomial=True, formal = True)"
   ]
  },
  {
   "cell_type": "code",
   "execution_count": 17,
   "metadata": {},
   "outputs": [
    {
     "data": {
      "text/plain": [
       "w^9 - 9*w^8*t^2 + 40*w^8*t - 48*w^8 + 36*w^7*t^4 - 320*w^7*t^3 + 992*w^7*t^2 - 1280*w^7*t + 256*w^7 - 84*w^6*t^6 + 1120*w^6*t^5 - 5600*w^6*t^4 + 13440*w^6*t^3 - 14336*w^6*t^2 + 5120*w^6*t + 126*w^5*t^8 - 2240*w^5*t^7 + 15456*w^5*t^6 - 53760*w^5*t^5 + 97536*w^5*t^4 - 87040*w^5*t^3 + 32768*w^5*t^2 - 126*w^4*t^10 + 2800*w^4*t^9 - 24640*w^4*t^8 + 112000*w^4*t^7 - 281600*w^4*t^6 + 389120*w^4*t^5 - 278528*w^4*t^4 + 81920*w^4*t^3 + 84*w^3*t^12 - 2240*w^3*t^11 + 23968*w^3*t^10 - 134400*w^3*t^9 + 428800*w^3*t^8 - 788480*w^3*t^7 + 806912*w^3*t^6 - 409600*w^3*t^5 + 65536*w^3*t^4 - 36*w^2*t^14 + 1120*w^2*t^13 - 14112*w^2*t^12 + 94080*w^2*t^11 - 362496*w^2*t^10 + 824320*w^2*t^9 - 1077248*w^2*t^8 + 737280*w^2*t^7 - 196608*w^2*t^6 + 9*w*t^16 - 320*w*t^15 + 4640*w*t^14 - 35840*w*t^13 + 161536*w*t^12 - 435200*w*t^11 + 684032*w*t^10 - 573440*w*t^9 + 196608*w*t^8 - t^18 + 40*t^17 - 656*t^16 + 5760*t^15 - 29696*t^14 + 92160*t^13 - 167936*t^12 + 163840*t^11 - 65536*t^10"
      ]
     },
     "execution_count": 17,
     "metadata": {},
     "output_type": "execute_result"
    }
   ],
   "source": [
    "sig_1"
   ]
  },
  {
   "cell_type": "code",
   "execution_count": 21,
   "metadata": {
    "scrolled": true
   },
   "outputs": [
    {
     "data": {
      "text/plain": [
       "w^21 + (-21.0000000000000*t^2 + (108.000000000000 + 1.23508001575990e-15*I)*t - 144.000000000000 - 7.60485532213999e-15*I)*w^20 + (210.000000000000*t^4 + (-2160.00000000000 - 2.47016003151981e-14*I)*t^3 + (8224.00000000000 + 2.72700311765258e-13*I)*t^2 + (-13632.0000000000 - 8.63362981093807e-13*I)*t + 7679.99999999999 + 7.99047048740589e-13*I)*w^19 + (-1330.00000000000*t^6 + (20520.0000000000 + 2.34665202994382e-13*I)*t^5 + (-128896.000000000 - 3.73638341233331e-12*I)*t^4 + (420032.000000000 + 2.17802394423367e-11*I)*t^3 + (-734975.999999999 - 5.84762990140963e-11*I)*t^2 + (629759.999999999 + 7.13144417995361e-11*I)*t - 184320.000000000 - 2.80374426174006e-11*I)*w^18 + (5985.00000000000*t^8 + (-123120.000000000 - 1.40799121796629e-12*I)*t^7 + (1.07798400000000e6 + 2.92926831773800e-11*I)*t^6 + (-5.22950400000000e6 - 2.44409240195019e-10*I)*t^5 + (1.52286720000000e7 + 1.06131872899171e-9*I)*t^4 + (-2.67816960000000e7 - 2.57041755479818e-9*I)*t^3 + (2.68492800000000e7 + 3.37696266832033e-9*I)*t^2 + (-1.30252800000000e7 - 2.07703622285501e-9*I)*t + 1.96608000000000e6 + 3.81147245284376e-10*I)*w^17 + (-20349.0000000000*t^10 + (523260.000000000 + 5.98396267635674e-12*I)*t^9 + (-5.87601600000000e6 - 1.53710029993231e-10*I)*t^8 + (3.78460800000000e7 + 1.65917917731771e-9*I)*t^7 + (-1.53878016000000e8 - 9.86982123393193e-9*I)*t^6 + (4.08356864000000e8 + 3.54580812351502e-8*I)*t^5 + (-7.03758335999999e8 - 7.86759689703359e-8*I)*t^4 + (7.53991679999999e8 + 1.04817507331999e-7*I)*t^3 + (-4.53181439999999e8 - 7.63827506959860e-8*I)*t^2 + (1.21896960000000e8 + 2.43046086220217e-8*I)*t - 9.43718399999999e6 - 2.19366732613690e-9*I)*w^16 + (54264.0000000000*t^12 + (-1.67443200000000e6 - 1.91486805643416e-11*I)*t^11 + (2.29459200000000e7 + 5.85363700744307e-10*I)*t^10 + (-1.84233216000000e8 - 7.73349064078794e-9*I)*t^9 + (9.60921600000000e8 + 5.81973462346227e-8*I)*t^8 + (-3.40528332800000e9 - 2.75945096818272e-7*I)*t^7 + (8.31350374399999e9 + 8.57864880031047e-7*I)*t^6 + (-1.38428743680000e10 - 1.75623380260248e-6*I)*t^5 + (1.51614259200000e10 + 2.30379461002585e-6*I)*t^4 + (-1.01344870400000e10 - 1.80713861193891e-6*I)*t^3 + (3.57983846399999e9 + 7.36902528313231e-7*I)*t^2 + (-5.15899391999999e8 - 1.21550295001061e-7*I)*t + 1.67772160000000e7 + 4.52073474065370e-9*I)*w^15 + (-116280.000000000*t^14 + (4.18608000000000e6 + 4.78717014108539e-11*I)*t^13 + (-6.77214720000000e7 - 1.69713826377569e-9*I)*t^12 + (6.51246336000000e8 + 2.64907937169151e-8*I)*t^11 + (-4.14423552000000e9 - 2.40632225261491e-7*I)*t^10 + (1.83609139200000e10 + 1.41386844941224e-6*I)*t^9 + (-5.79450470400000e10 - 5.63739696407397e-6*I)*t^8 + (1.30804678656000e11 + 0.0000155289924463055*I)*t^7 + (-2.08613670912000e11 - 0.0000294364482069623*I)*t^6 + (2.27770368000000e11 + 0.0000374159324008417*I)*t^5 + (-1.60510771200000e11 - 0.0000301913990564654*I)*t^4 + (6.57457151999999e10 + 0.0000139865557547828*I)*t^3 + (-1.29352335360000e10 - 3.09433100370550e-6*I)*t^2 + (8.05306367999999e8 + 2.16995267551378e-7*I)*t)*w^14 + (203490.000000000*t^16 + (-8.37216000000000e6 - 9.57434028217078e-11*I)*t^15 + (1.56156288000000e8 + 3.86173455138123e-9*I)*t^14 + (-1.74951705600000e9 - 6.94892695267548e-8*I)*t^13 + (1.31388794880000e10 + 7.38636300453453e-7*I)*t^12 + (-6.98332364800000e10 - 5.16987697445565e-6*I)*t^11 + (2.70095400960000e11 + 0.0000251093413749073*I)*t^10 + (-7.68998866943999e11 - 0.0000867558028705409*I)*t^9 + (1.60990291558400e12 + 0.000214734971609349*I)*t^8 + (-2.44524279398400e12 - 0.000377700441645416*I)*t^7 + (2.62006112256000e12 + 0.000460802281322255*I)*t^6 + (-1.88588490752000e12 - 0.000372525488426540*I)*t^5 + (8.38424592383999e11 + 0.000184152537892630*I)*t^4 + (-1.97098733568000e11 - 0.0000479016358959499*I)*t^3 + (1.71798691840000e10 + 4.62923237442939e-6*I)*t^2)*w^13 + (-293930.000000000*t^18 + (1.36047600000000e7 + 1.55583029585275e-10*I)*t^17 + (-2.87413152000000e8 - 7.03493793471801e-9*I)*t^16 + (3.67613875200000e9 + 1.43309561659410e-7*I)*t^15 + (-3.18192476160000e10 - 1.74360596089138e-6*I)*t^14 + (1.97217599488000e11 + 0.0000141495455072747*I)*t^13 + (-9.02766591999999e11 - 0.0000809327289379951*I)*t^12 + (3.10060292505600e12 + 0.000335858341690151*I)*t^11 + (-8.03071852543999e12 - 0.00102440632453686*I)*t^10 + (1.56200028078080e13 + 0.00229877332270259*I)*t^9 + (-2.25035881021440e13 - 0.00375685245384953*I)*t^8 + (2.34084525670400e13 + 0.00437095281854813*I)*t^7 + (-1.68466904514560e13 - 0.00347798656924517*I)*t^6 + (7.80402268569599e12 + 0.00176591269922921*I)*t^5 + (-2.03286170828800e12 - 0.000501768502450120*I)*t^4 + (2.15822106624000e11 + 0.0000581547317037692*I)*t^3)*w^12 + (352716.000000000*t^20 + (-1.81396800000000e7 - 2.07444039447033e-10*I)*t^19 + (4.28096448000000e8 + 1.03927429645887e-8*I)*t^18 + (-6.15476160000000e9 - 2.36351434153698e-7*I)*t^17 + (6.03206522880000e10 + 3.23744720584991e-6*I)*t^16 + (-4.27073667072000e11 - 0.0000298661224816512*I)*t^15 + (2.25741786316800e12 + 0.000196446659746871*I)*t^14 + (-9.07493779046399e12 - 0.000950779058014542*I)*t^13 + (2.79913890447360e13 + 0.00344265839029447*I)*t^12 + (-6.63183808266239e13 - 0.00938346314315931*I)*t^11 + (1.19961248858112e14 + 0.0192031758820472*I)*t^10 + (-1.63388382511104e14 - 0.0291756887640161*I)*t^9 + (1.63611729199104e14 + 0.0322005271692851*I)*t^8 + (-1.15869493493760e14 - 0.0248832746372895*I)*t^7 + (5.43646222909439e13 + 0.0126395808537343*I)*t^6 + (-1.49400437391360e13 - 0.00374138204803454*I)*t^5 + (1.77811646054400e12 + 0.000479125550753442*I)*t^4)*w^11 + (-352716.000000000*t^22 + (1.99536480000000e7 + 2.28188443391737e-10*I)*t^21 + (-5.20272896000000e8 - 1.25461255511754e-8*I)*t^20 + (8.30538508800000e9 + 3.15013753777899e-7*I)*t^19 + (-9.09046195200000e10 - 4.79568770713859e-6*I)*t^18 + (7.23717023744000e11 + 0.0000495435551263387*I)*t^17 + (-4.33714832179200e12 - 0.000368169802271563*I)*t^16 + (1.99682172518400e13 + 0.00203454297979562*I)*t^15 + (-7.14267274772479e13 - 0.00852077679687165*I)*t^14 + (1.99381018214400e14 + 0.0273002391995357*I)*t^13 + (-4.33677803716608e14 - 0.0670458861556698*I)*t^12 + (7.29686489432063e14 + 0.125601753426488*I)*t^11 + (-9.36511612649471e14 - 0.177332400462025*I)*t^10 + (8.96116136607743e14 + 0.184720228325985*I)*t^9 + (-6.16323780444159e14 - 0.137072680741115*I)*t^8 + (2.86547333087232e14 + 0.0682553201583997*I)*t^7 + (-8.01698595471359e13 - 0.0203406017546693*I)*t^6 + (1.01017630801920e13 + 0.00272198863616448*I)*t^5)*w^10 + (293930.000000000*t^24 + (-1.81396800000000e7 - 2.07444039447033e-10*I)*t^23 + (5.17854272000000e8 + 1.24183944011847e-8*I)*t^22 + (-9.08828377600000e9 - 3.41153532479056e-7*I)*t^21 + (1.09873420800000e11 + 5.71303429493362e-6*I)*t^20 + (-9.71491389440000e11 - 0.0000653171225183282*I)*t^19 + (6.50808823808000e12 + 0.000540930320472495*I)*t^18 + (-3.37554484101120e13 - 0.00335872995533142*I)*t^17 + (1.37316600971264e14 + 0.0159612734655330*I)*t^16 + (-4.41018927022080e14 - 0.0587262469760578*I)*t^15 + (1.11988846362624e15 + 0.168098176056635*I)*t^14 + (-2.24099655745536e15 - 0.374001273494205*I)*t^13 + (3.50475064128307e15 + 0.642611496390969*I)*t^12 + (-4.22303082165043e15 - 0.841810345649260*I)*t^11 + (3.83326502256639e15 + 0.823052974769107*I)*t^10 + (-2.52970889379840e15 - 0.580305758233911*I)*t^9 + (1.14379274059776e15 + 0.278354838312274*I)*t^8 + (-3.16556269584383e14 - 0.0812470272351422*I)*t^7 + (4.04070523207679e13 + 0.0108879545446579*I)*t^6)*w^9 + (-203490.000000000*t^26 + (1.36047600000000e7 + 1.55583029585275e-10*I)*t^25 + (-4.22049888000000e8 - 1.00734150896120e-8*I)*t^24 + (8.07642201600000e9 + 3.00512709147447e-7*I)*t^23 + (-1.06880437248000e11 - 5.48911610316499e-6*I)*t^22 + (1.03910197248000e12 + 0.0000687914838327404*I)*t^21 + (-7.69407614976000e12 - 0.000628016964754120*I)*t^20 + (4.43823068282880e13 + 0.00432681087204719*I)*t^19 + (-2.02277519228928e14 - 0.0229914015827323*I)*t^18 + (7.34335641059327e14 + 0.0954606427417050*I)*t^17 + (-2.13074457919488e15 - 0.311802263353225*I)*t^16 + (4.93799539212287e15 + 0.802520410958886*I)*t^15 + (-9.09687265217740e15 - 1.62277020907504*I)*t^14 + (1.31994656283033e16 + 2.55781107094033*I)*t^13 + (-1.48633793782087e16 - 3.09981478396408*I)*t^12 + (1.26973782471475e16 + 2.82615134606354*I)*t^11 + (-7.94270449532926e15 - 1.87249224206318*I)*t^10 + (3.43011550140825e15 + 0.850645575284141*I)*t^9 + (-9.14724954832895e14 - 0.237140469637868*I)*t^8 + (1.13799453474816e14 + 0.0306640352482203*I)*t^7)*w^8 + (116280.000000000*t^28 + (-8.37216000000000e6 - 9.57434028217078e-11*I)*t^27 + (2.80436352000000e8 + 6.66648269436033e-9*I)*t^26 + (-5.81131699200000e9 - 2.14599867208020e-7*I)*t^25 + (8.35523420160000e10 + 4.24546029124148e-6*I)*t^24 + (-8.85815410688000e11 - 0.0000578631096909627*I)*t^23 + (7.18347042816000e12 + 0.000577170313017680*I)*t^22 + (-4.56094819614720e13 - 0.00436798154726267*I)*t^21 + (2.30151602503680e14 + 0.0256532905287550*I)*t^20 + (-9.31552838025215e14 - 0.118581218968681*I)*t^19 + (3.03885782404300e15 + 0.434932504437891*I)*t^18 + (-7.99793498554367e15 - 1.27011113828522*I)*t^17 + (1.69416090105938e16 + 2.95101215299941*I)*t^16 + (-2.87089473387233e16 - 5.42941127131229*I)*t^15 + (3.85232785910005e16 + 7.83764363406448*I)*t^14 + (-4.02968992945274e16 - 8.74627025301928*I)*t^13 + (3.20957107824230e16 + 7.37464669830362*I)*t^12 + (-1.87713435457290e16 - 4.53340730666913*I)*t^11 + (7.59281498456063e15 + 1.91442290298628*I)*t^10 + (-1.89748219163443e15 - 0.496229032486289*I)*t^9 + (2.21001837182976e14 + 0.0595504452646596*I)*t^8)*w^7 + (-54264.0000000000*t^30 + (4.18608000000000e6 + 4.78717014108539e-11*I)*t^29 + (-1.50574848000000e8 - 3.56697035909509e-9*I)*t^28 + (3.35911296000000e9 + 1.23231192171092e-7*I)*t^27 + (-5.21376737280000e10 - 2.62464956487122e-6*I)*t^26 + (5.98616625152000e11 + 0.0000386469093154222*I)*t^25 + (-5.27613324492800e12 - 0.000418096969182642*I)*t^24 + (3.65604099194880e13 + 0.00344694437849307*I)*t^23 + (-2.02314952998912e14 - 0.0221654589405455*I)*t^22 + (9.03046484983807e14 + 0.112842482372514*I)*t^21 + (-3.27008283996979e15 - 0.458953017039134*I)*t^20 + (9.62857070808268e15 + 1.49821349017026*I)*t^19 + (-2.30326970016071e16 - 3.92880088423505*I)*t^18 + (4.45843862338928e16 + 8.25390711768664*I)*t^17 + (-6.93221674849402e16 - 13.8036744333440*I)*t^16 + (8.55890968098897e16 + 18.1804073978846*I)*t^15 + (-8.24961770434067e16 - 18.5507653949962*I)*t^14 + (6.05344544807976e16 + 14.3073872296678*I)*t^13 + (-3.25420394888560e16 - 8.02911947367478*I)*t^12 + (1.20338798881014e16 + 3.07895988320081*I)*t^11 + (-2.72129127874560e15 - 0.717157126859615*I)*t^10 + (2.81474976710656e14 + 0.0758453432226511*I)*t^9)*w^6 + (20349.0000000000*t^32 + (-1.67443200000000e6 - 1.91486805643416e-11*I)*t^31 + (6.43726080000000e7 + 1.52027974840401e-9*I)*t^30 + (-1.53816652800000e9 - 5.61036898678765e-8*I)*t^29 + (2.56333670400000e10 + 1.27986402402230e-6*I)*t^28 + (-3.16848021504000e11 - 0.0000202451777794695*I)*t^27 + (3.01573575475200e12 + 0.000236067926809006*I)*t^26 + (-2.26451343605760e13 - 0.00210554561148473*I)*t^25 + (1.36335162802176e14 + 0.0147099169951514*I)*t^24 + (-6.65114660044800e14 - 0.0817525017164688*I)*t^23 + (2.64639895987814e15 + 0.365002579351156*I)*t^22 + (-8.61496212140850e15 - 1.31639364272958*I)*t^21 + (2.29503603478364e16 + 3.84249694106095*I)*t^20 + (-4.99049074985533e16 - 9.06593496205122*I)*t^19 + (8.80870599897906e16 + 17.2107553900009*I)*t^18 + (-1.25088115734872e17 - 26.0745996372217*I)*t^17 + (1.41030070117466e17 + 31.1294959777633*I)*t^16 + (-1.23848594615697e17 - 28.7440075507177*I)*t^15 + (8.23745177997802e16 + 19.9673947736513*I)*t^14 + (-3.97638380185190e16 - 10.0010162521458*I)*t^13 + (1.29896303705456e16 + 3.36763935557532*I)*t^12 + (-2.52008065086259e15 - 0.668798932290298*I)*t^11 + (2.11106232532992e14 + 0.0568840074169883*I)*t^10)*w^5 + (-5985.00000000000*t^34 + (523260.000000000 + 5.98396267635674e-12*I)*t^33 + (-2.14110240000000e7 - 5.04303547865617e-10*I)*t^32 + (5.45571072000000e8 + 1.97980038874759e-8*I)*t^31 + (-9.71575295999999e9 - 4.81588079063100e-7*I)*t^30 + (1.28635371520000e11 + 8.14391345165058e-6*I)*t^29 + (-1.31486613504000e12 - 0.000101808710114967*I)*t^28 + (1.06347787714560e13 + 0.000976626350874192*I)*t^27 + (-6.91964629483520e13 - 0.00736441626066415*I)*t^26 + (3.66227926548480e14 + 0.0443548518255229*I)*t^25 + (-1.58774087122944e15 - 0.215590948801126*I)*t^24 + (5.65998314848256e15 + 0.850895919673151*I)*t^23 + (-1.66070257566351e16 - 2.73437503389122*I)*t^22 + (4.00408628051312e16 + 7.15192948000308*I)*t^21 + (-7.89907232522239e16 - 15.1745608040567*I)*t^20 + (1.26570887695565e17 + 25.9465296369346*I)*t^19 + (-1.62937250890383e17 - 35.3834711506917*I)*t^18 + (1.65881962072899e17 + 37.8991224622238*I)*t^17 + (-1.30576832683573e17 - 31.1816202562431*I)*t^16 + (7.68806017931672e16 + 19.0674616212654*I)*t^15 + (-3.21662126705868e16 - 8.23354643953455*I)*t^14 + (8.77410278965246e15 + 2.30299788103072*I)*t^13 + (-1.31941395333120e15 - 0.352595358856177*I)*t^12 + (7.03687441776639e13 + 0.0189613358056628*I)*t^11)*w^4 + (1330.00000000000*t^36 + (-123120.000000000 - 1.40799121796629e-12*I)*t^35 + (5.34249600000000e6 + 1.25534041024702e-10*I)*t^34 + (-1.44604992000000e8 - 5.22369445474825e-9*I)*t^33 + (2.74053273600000e9 + 1.34962537751437e-7*I)*t^32 + (-3.86931097600000e10 - 2.42955949753454e-6*I)*t^31 + (4.22726533120000e11 + 0.0000324123155051884*I)*t^30 + (-3.66369285734400e12 - 0.000332716134799638*I)*t^29 + (2.56171100733440e13 + 0.00269294942773981*I)*t^28 + (-1.46167516626944e14 - 0.0174684731437651*I)*t^27 + (6.85656999198719e14 + 0.0917966587638795*I)*t^26 + (-2.65552098492416e15 - 0.393388151420748*I)*t^25 + (8.50458032105061e15 + 1.37930383749688*I)*t^24 + (-2.25007080749138e16 - 3.95803409163059*I)*t^23 + (4.90068825174179e16 + 9.27208477037179*I)*t^22 + (-8.73185427010354e16 - 17.6337073875040*I)*t^21 + (1.26061821328097e17 + 26.9811739164245*I)*t^20 + (-1.45441920653459e17 - 32.7729437661554*I)*t^19 + (1.31484823129686e17 + 30.9953992754040*I)*t^18 + (-9.05225174368910e16 - 22.1880514644997*I)*t^17 + (4.54593082503986e16 + 11.5166691553142*I)*t^16 + (-1.55251041841971e16 - 4.04090906567293*I)*t^15 + (3.16659348799488e15 + 0.841541361254825*I)*t^14 + (-2.81474976710656e14 - 0.0758453432226511*I)*t^13)*w^3 + (-210.000000000000*t^38 + (20520.0000000000 + 2.34665202994382e-13*I)*t^37 + (-941184.000000000 - 2.20680706213470e-11*I)*t^36 + (2.69677440000000e7 + 9.70215518404857e-10*I)*t^35 + (-5.41923072000000e8 - 2.65326863456782e-8*I)*t^34 + (8.12756889599999e9 + 5.06561231391834e-7*I)*t^33 + (-9.45101414399999e10 - 7.18276422485794e-6*I)*t^32 + (8.73762717695999e11 + 0.0000785539887859740*I)*t^31 + (-6.53329170431999e12 - 0.000679171635336918*I)*t^30 + (3.99736063918080e13 + 0.00471986996513929*I)*t^29 + (-2.01687290609664e14 - 0.0266581854614912*I)*t^28 + (8.43045918474239e14 + 0.123229320006687*I)*t^27 + (-2.92507566578073e15 - 0.467927333649027*I)*t^26 + (8.42002588709682e15 + 1.46070357795104*I)*t^25 + (-2.00488195593339e16 - 3.74108701524060*I)*t^24 + (3.92656497294704e16 + 7.82272305812135*I)*t^23 + (-6.27008961144421e16 - 13.2457705899935*I)*t^22 + (8.05995452552969e16 + 17.9392444112161*I)*t^21 + (-8.18995287765810e16 - 19.0885460966046*I)*t^20 + (6.40748647423671e16 + 15.5473656346148*I)*t^19 + (-3.70986218327900e16 - 9.31832483215211*I)*t^18 + (1.49093776726425e16 + 3.85504908539768*I)*t^17 + (-3.69435906932735e15 - 0.977892004797296*I)*t^16 + (4.22212465065983e14 + 0.113768014833977*I)*t^15)*w^2 + (21.0000000000000*t^40 + (-2160.00000000000 - 2.47016003151981e-14*I)*t^39 + (104416.000000000 + 2.44355800756951e-12*I)*t^38 + (-3.15744000000000e6 - 1.13178067068761e-10*I)*t^37 + (6.70594560000000e7 + 3.26598185074499e-9*I)*t^36 + (-1.06465894400000e9 - 6.59120175758649e-8*I)*t^35 + (1.31287080960000e10 + 9.89817092478848e-7*I)*t^34 + (-1.28966344704000e11 - 0.0000114887182324008*I)*t^33 + (1.02680369561600e12 + 0.000105662407655521*I)*t^32 + (-6.70548649574399e12 - 0.000783076221986604*I)*t^31 + (3.62051681648640e13 + 0.00472977435644255*I)*t^30 + (-1.62414653865984e14 - 0.0234519989040039*I)*t^29 + (6.06684749758463e14 + 0.0958403389831359*I)*t^28 + (-1.88666914170470e15 - 0.323164785687163*I)*t^27 + (4.87168718300774e15 + 0.897621106020114*I)*t^26 + (-1.03902979093954e16 - 2.04455173177211*I)*t^25 + (1.81517086139351e16 + 3.78936965469888*I)*t^24 + (-2.56584610438185e16 - 5.64774309411435*I)*t^23 + (2.88359981084835e16 + 6.65329021105846*I)*t^22 + (-2.51166938691010e16 - 6.04081045384953*I)*t^21 + (1.63167525561958e16 + 4.06872082292832*I)*t^20 + (-7.42830055725464e15 - 1.91043989578386*I)*t^19 + (2.11106232532992e15 + 0.557121324169883*I)*t^18 + (-2.81474976710656e14 - 0.0758453432226511*I)*t^17)*w - t^42 + (108.000000000000 + 1.23508001575990e-15*I)*t^41 + (-5488.00000000000 - 1.28208060644598e-13*I)*t^40 + (174656.000000000 + 6.23970578264816e-12*I)*t^39 + (-3.90912000000000e6 - 1.89475844209381e-10*I)*t^38 + (6.54970880000000e7 + 4.03016444311621e-9*I)*t^37 + (-8.53704704000000e8 - 6.38954046946153e-8*I)*t^36 + (8.87940710399999e9 + 7.84417194931894e-7*I)*t^35 + (-7.49956628480000e10 - 7.64599085093570e-6*I)*t^34 + (5.20614051840000e11 + 0.0000601880862465391*I)*t^33 + (-2.99481169920000e12 - 0.000387061174683202*I)*t^32 + (1.43482316390400e13 + 0.00204870702671359*I)*t^31 + (-5.73929265561599e13 - 0.00896250894663396*I)*t^30 + (1.91667948748800e14 + 0.0324490280021379*I)*t^29 + (-5.33108789084159e14 - 0.0970905994635314*I)*t^28 + (1.22872894010163e15 + 0.239051235904882*I)*t^27 + (-2.32768329587097e15 - 0.480680231554136*I)*t^26 + (3.58069705480601e15 + 0.780227077863699*I)*t^25 + (-4.39543517098803e15 - 1.00496882148445*I)*t^24 + (4.19738563903487e15 + 1.00165602865212*I)*t^23 + (-3.00056723220070e15 - 0.743551380536216*I)*t^22 + (1.50852995330867e15 + 0.386255584096042*I)*t^21 + (-4.74989023199231e14 - 0.125059329188224*I)*t^20 + (7.03687441776639e13 + 0.0189613358056628*I)*t^19"
      ]
     },
     "execution_count": 21,
     "metadata": {},
     "output_type": "execute_result"
    }
   ],
   "source": [
    "num_sigma(f,2)"
   ]
  },
  {
   "cell_type": "code",
   "execution_count": null,
   "metadata": {},
   "outputs": [],
   "source": [
    "f.sigma_invariants(2,return_polynomial=True, chow=True, formal = True)"
   ]
  },
  {
   "cell_type": "code",
   "execution_count": null,
   "metadata": {},
   "outputs": [],
   "source": []
  }
 ],
 "metadata": {
  "kernelspec": {
   "display_name": "SageMath 9.4.beta4",
   "language": "sage",
   "name": "sagemath"
  },
  "language_info": {
   "codemirror_mode": {
    "name": "ipython",
    "version": 3
   },
   "file_extension": ".py",
   "mimetype": "text/x-python",
   "name": "python",
   "nbconvert_exporter": "python",
   "pygments_lexer": "ipython3",
   "version": "3.8.10"
  }
 },
 "nbformat": 4,
 "nbformat_minor": 4
}
