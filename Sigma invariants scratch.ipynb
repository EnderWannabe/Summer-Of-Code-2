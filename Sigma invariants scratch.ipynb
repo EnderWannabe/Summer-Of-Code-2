{
 "cells": [
  {
   "cell_type": "code",
   "execution_count": 35,
   "metadata": {},
   "outputs": [
    {
     "data": {
      "text/plain": [
       "[v4, v5]"
      ]
     },
     "execution_count": 35,
     "metadata": {},
     "output_type": "execute_result"
    }
   ],
   "source": [
    "R = PolynomialRing(QQ, 'v', 6, order='lex')\n",
    "var = list(R.gens())\n",
    "var[-2:]"
   ]
  },
  {
   "cell_type": "code",
   "execution_count": 8,
   "metadata": {},
   "outputs": [],
   "source": [
    "R2 = "
   ]
  },
  {
   "cell_type": "code",
   "execution_count": 9,
   "metadata": {},
   "outputs": [
    {
     "data": {
      "text/plain": [
       "True"
      ]
     },
     "execution_count": 9,
     "metadata": {},
     "output_type": "execute_result"
    }
   ],
   "source": [
    "R == T"
   ]
  },
  {
   "cell_type": "code",
   "execution_count": 11,
   "metadata": {},
   "outputs": [
    {
     "name": "stdout",
     "output_type": "stream",
     "text": [
      "from sage.calculus.functions import jacobian\n"
     ]
    }
   ],
   "source": [
    "import_statements(jacobian)"
   ]
  },
  {
   "cell_type": "code",
   "execution_count": 18,
   "metadata": {},
   "outputs": [
    {
     "data": {
      "text/plain": [
       "Multivariate Polynomial Ring in v0, v2 over Rational Field"
      ]
     },
     "execution_count": 18,
     "metadata": {},
     "output_type": "execute_result"
    }
   ],
   "source": [
    "T = PolynomialRing(QQ, [R.gens()[0],R.gens()[2]])"
   ]
  },
  {
   "cell_type": "code",
   "execution_count": 26,
   "metadata": {},
   "outputs": [],
   "source": [
    "MatrixSpace?"
   ]
  },
  {
   "cell_type": "code",
   "execution_count": 33,
   "metadata": {},
   "outputs": [],
   "source": [
    "matrix.identity?"
   ]
  },
  {
   "cell_type": "code",
   "execution_count": 13,
   "metadata": {},
   "outputs": [
    {
     "name": "stdout",
     "output_type": "stream",
     "text": [
      "2\n",
      "Dynamical System of Affine Space of dimension 2 over Rational Field\n",
      "  Defn: Defined on coordinates by sending (x, y) to\n",
      "        (x^2/y^2, (y + 1)/y^2)\n",
      "Ring morphism:\n",
      "  From: Multivariate Polynomial Ring in x, y over Rational Field\n",
      "  To:   Multivariate Polynomial Ring in v0, v1, v2, v3, v4, v5, v6 over Rational Field\n",
      "  Defn: x |--> v0\n",
      "        y |--> v1\n",
      "[v0^2/v1^2, (v1 + 1)/v1^2]\n",
      "[     2*v0/v1^2 (-2*v0^2)/v1^3]\n",
      "[             0 (-v1 - 2)/v1^3]\n",
      "1\n",
      "Dynamical System of Affine Space of dimension 2 over Rational Field\n",
      "  Defn: Defined on coordinates by sending (x, z) to\n",
      "        (x^2/(z^2 + z), 1/(z^2 + z))\n",
      "Ring morphism:\n",
      "  From: Multivariate Polynomial Ring in x, z over Rational Field\n",
      "  To:   Multivariate Polynomial Ring in v0, v1, v2, v3, v4, v5, v6 over Rational Field\n",
      "  Defn: x |--> v0\n",
      "        z |--> 0\n"
     ]
    },
    {
     "ename": "ZeroDivisionError",
     "evalue": "",
     "output_type": "error",
     "traceback": [
      "\u001b[0;31m---------------------------------------------------------------------------\u001b[0m",
      "\u001b[0;31mZeroDivisionError\u001b[0m                         Traceback (most recent call last)",
      "\u001b[0;32m<ipython-input-13-bf676a22932d>\u001b[0m in \u001b[0;36m<module>\u001b[0;34m\u001b[0m\n\u001b[1;32m     26\u001b[0m     \u001b[0mprint\u001b[0m\u001b[0;34m(\u001b[0m\u001b[0mfa\u001b[0m\u001b[0;34m)\u001b[0m\u001b[0;34m\u001b[0m\u001b[0;34m\u001b[0m\u001b[0m\n\u001b[1;32m     27\u001b[0m     \u001b[0mprint\u001b[0m\u001b[0;34m(\u001b[0m\u001b[0mphi\u001b[0m\u001b[0;34m)\u001b[0m\u001b[0;34m\u001b[0m\u001b[0;34m\u001b[0m\u001b[0m\n\u001b[0;32m---> 28\u001b[0;31m     \u001b[0mprint\u001b[0m\u001b[0;34m(\u001b[0m\u001b[0;34m[\u001b[0m\u001b[0mphi\u001b[0m\u001b[0;34m(\u001b[0m\u001b[0mF\u001b[0m\u001b[0;34m.\u001b[0m\u001b[0mnumerator\u001b[0m\u001b[0;34m(\u001b[0m\u001b[0;34m)\u001b[0m\u001b[0;34m)\u001b[0m\u001b[0;34m/\u001b[0m\u001b[0mphi\u001b[0m\u001b[0;34m(\u001b[0m\u001b[0mF\u001b[0m\u001b[0;34m.\u001b[0m\u001b[0mdenominator\u001b[0m\u001b[0;34m(\u001b[0m\u001b[0;34m)\u001b[0m\u001b[0;34m)\u001b[0m \u001b[0;32mfor\u001b[0m \u001b[0mF\u001b[0m \u001b[0;32min\u001b[0m \u001b[0mfa\u001b[0m\u001b[0;34m]\u001b[0m\u001b[0;34m)\u001b[0m\u001b[0;34m\u001b[0m\u001b[0;34m\u001b[0m\u001b[0m\n\u001b[0m\u001b[1;32m     29\u001b[0m     \u001b[0mjac\u001b[0m \u001b[0;34m=\u001b[0m \u001b[0mjacobian\u001b[0m\u001b[0;34m(\u001b[0m\u001b[0;34m[\u001b[0m\u001b[0mphi\u001b[0m\u001b[0;34m(\u001b[0m\u001b[0mF\u001b[0m\u001b[0;34m.\u001b[0m\u001b[0mnumerator\u001b[0m\u001b[0;34m(\u001b[0m\u001b[0;34m)\u001b[0m\u001b[0;34m)\u001b[0m\u001b[0;34m/\u001b[0m\u001b[0mphi\u001b[0m\u001b[0;34m(\u001b[0m\u001b[0mF\u001b[0m\u001b[0;34m.\u001b[0m\u001b[0mdenominator\u001b[0m\u001b[0;34m(\u001b[0m\u001b[0;34m)\u001b[0m\u001b[0;34m)\u001b[0m \u001b[0;32mfor\u001b[0m \u001b[0mF\u001b[0m \u001b[0;32min\u001b[0m \u001b[0mfa\u001b[0m\u001b[0;34m]\u001b[0m\u001b[0;34m,\u001b[0m \u001b[0mvar\u001b[0m\u001b[0;34m)\u001b[0m\u001b[0;34m\u001b[0m\u001b[0;34m\u001b[0m\u001b[0m\n\u001b[1;32m     30\u001b[0m     \u001b[0mprint\u001b[0m\u001b[0;34m(\u001b[0m\u001b[0mjac\u001b[0m\u001b[0;34m)\u001b[0m\u001b[0;34m\u001b[0m\u001b[0;34m\u001b[0m\u001b[0m\n",
      "\u001b[0;32m<ipython-input-13-bf676a22932d>\u001b[0m in \u001b[0;36m<listcomp>\u001b[0;34m(.0)\u001b[0m\n\u001b[1;32m     26\u001b[0m     \u001b[0mprint\u001b[0m\u001b[0;34m(\u001b[0m\u001b[0mfa\u001b[0m\u001b[0;34m)\u001b[0m\u001b[0;34m\u001b[0m\u001b[0;34m\u001b[0m\u001b[0m\n\u001b[1;32m     27\u001b[0m     \u001b[0mprint\u001b[0m\u001b[0;34m(\u001b[0m\u001b[0mphi\u001b[0m\u001b[0;34m)\u001b[0m\u001b[0;34m\u001b[0m\u001b[0;34m\u001b[0m\u001b[0m\n\u001b[0;32m---> 28\u001b[0;31m     \u001b[0mprint\u001b[0m\u001b[0;34m(\u001b[0m\u001b[0;34m[\u001b[0m\u001b[0mphi\u001b[0m\u001b[0;34m(\u001b[0m\u001b[0mF\u001b[0m\u001b[0;34m.\u001b[0m\u001b[0mnumerator\u001b[0m\u001b[0;34m(\u001b[0m\u001b[0;34m)\u001b[0m\u001b[0;34m)\u001b[0m\u001b[0;34m/\u001b[0m\u001b[0mphi\u001b[0m\u001b[0;34m(\u001b[0m\u001b[0mF\u001b[0m\u001b[0;34m.\u001b[0m\u001b[0mdenominator\u001b[0m\u001b[0;34m(\u001b[0m\u001b[0;34m)\u001b[0m\u001b[0;34m)\u001b[0m \u001b[0;32mfor\u001b[0m \u001b[0mF\u001b[0m \u001b[0;32min\u001b[0m \u001b[0mfa\u001b[0m\u001b[0;34m]\u001b[0m\u001b[0;34m)\u001b[0m\u001b[0;34m\u001b[0m\u001b[0;34m\u001b[0m\u001b[0m\n\u001b[0m\u001b[1;32m     29\u001b[0m     \u001b[0mjac\u001b[0m \u001b[0;34m=\u001b[0m \u001b[0mjacobian\u001b[0m\u001b[0;34m(\u001b[0m\u001b[0;34m[\u001b[0m\u001b[0mphi\u001b[0m\u001b[0;34m(\u001b[0m\u001b[0mF\u001b[0m\u001b[0;34m.\u001b[0m\u001b[0mnumerator\u001b[0m\u001b[0;34m(\u001b[0m\u001b[0;34m)\u001b[0m\u001b[0;34m)\u001b[0m\u001b[0;34m/\u001b[0m\u001b[0mphi\u001b[0m\u001b[0;34m(\u001b[0m\u001b[0mF\u001b[0m\u001b[0;34m.\u001b[0m\u001b[0mdenominator\u001b[0m\u001b[0;34m(\u001b[0m\u001b[0;34m)\u001b[0m\u001b[0;34m)\u001b[0m \u001b[0;32mfor\u001b[0m \u001b[0mF\u001b[0m \u001b[0;32min\u001b[0m \u001b[0mfa\u001b[0m\u001b[0;34m]\u001b[0m\u001b[0;34m,\u001b[0m \u001b[0mvar\u001b[0m\u001b[0;34m)\u001b[0m\u001b[0;34m\u001b[0m\u001b[0;34m\u001b[0m\u001b[0m\n\u001b[1;32m     30\u001b[0m     \u001b[0mprint\u001b[0m\u001b[0;34m(\u001b[0m\u001b[0mjac\u001b[0m\u001b[0;34m)\u001b[0m\u001b[0;34m\u001b[0m\u001b[0;34m\u001b[0m\u001b[0m\n",
      "\u001b[0;32m~/Documents/SageDevelopment/local/lib/python3.9/site-packages/sage/structure/element.pyx\u001b[0m in \u001b[0;36msage.structure.element.Element.__truediv__ (build/cythonized/sage/structure/element.c:13152)\u001b[0;34m()\u001b[0m\n\u001b[1;32m   1733\u001b[0m         \u001b[0mcdef\u001b[0m \u001b[0mint\u001b[0m \u001b[0mcl\u001b[0m \u001b[0;34m=\u001b[0m \u001b[0mclassify_elements\u001b[0m\u001b[0;34m(\u001b[0m\u001b[0mleft\u001b[0m\u001b[0;34m,\u001b[0m \u001b[0mright\u001b[0m\u001b[0;34m)\u001b[0m\u001b[0;34m\u001b[0m\u001b[0;34m\u001b[0m\u001b[0m\n\u001b[1;32m   1734\u001b[0m         \u001b[0;32mif\u001b[0m \u001b[0mHAVE_SAME_PARENT\u001b[0m\u001b[0;34m(\u001b[0m\u001b[0mcl\u001b[0m\u001b[0;34m)\u001b[0m\u001b[0;34m:\u001b[0m\u001b[0;34m\u001b[0m\u001b[0;34m\u001b[0m\u001b[0m\n\u001b[0;32m-> 1735\u001b[0;31m             \u001b[0;32mreturn\u001b[0m \u001b[0;34m(\u001b[0m\u001b[0;34m<\u001b[0m\u001b[0mElement\u001b[0m\u001b[0;34m>\u001b[0m\u001b[0mleft\u001b[0m\u001b[0;34m)\u001b[0m\u001b[0;34m.\u001b[0m\u001b[0m_div_\u001b[0m\u001b[0;34m(\u001b[0m\u001b[0mright\u001b[0m\u001b[0;34m)\u001b[0m\u001b[0;34m\u001b[0m\u001b[0;34m\u001b[0m\u001b[0m\n\u001b[0m\u001b[1;32m   1736\u001b[0m         \u001b[0;32mif\u001b[0m \u001b[0mBOTH_ARE_ELEMENT\u001b[0m\u001b[0;34m(\u001b[0m\u001b[0mcl\u001b[0m\u001b[0;34m)\u001b[0m\u001b[0;34m:\u001b[0m\u001b[0;34m\u001b[0m\u001b[0;34m\u001b[0m\u001b[0m\n\u001b[1;32m   1737\u001b[0m             \u001b[0;32mreturn\u001b[0m \u001b[0mcoercion_model\u001b[0m\u001b[0;34m.\u001b[0m\u001b[0mbin_op\u001b[0m\u001b[0;34m(\u001b[0m\u001b[0mleft\u001b[0m\u001b[0;34m,\u001b[0m \u001b[0mright\u001b[0m\u001b[0;34m,\u001b[0m \u001b[0mtruediv\u001b[0m\u001b[0;34m)\u001b[0m\u001b[0;34m\u001b[0m\u001b[0;34m\u001b[0m\u001b[0m\n",
      "\u001b[0;32m~/Documents/SageDevelopment/local/lib/python3.9/site-packages/sage/rings/polynomial/multi_polynomial_libsingular.pyx\u001b[0m in \u001b[0;36msage.rings.polynomial.multi_polynomial_libsingular.MPolynomial_libsingular._div_ (build/cythonized/sage/rings/polynomial/multi_polynomial_libsingular.cpp:22155)\u001b[0;34m()\u001b[0m\n\u001b[1;32m   2360\u001b[0m         \u001b[0;32mif\u001b[0m \u001b[0mp_IsConstant\u001b[0m\u001b[0;34m(\u001b[0m\u001b[0mright\u001b[0m\u001b[0;34m.\u001b[0m\u001b[0m_poly\u001b[0m\u001b[0;34m,\u001b[0m \u001b[0mright\u001b[0m\u001b[0;34m.\u001b[0m\u001b[0m_parent_ring\u001b[0m\u001b[0;34m)\u001b[0m\u001b[0;34m:\u001b[0m\u001b[0;34m\u001b[0m\u001b[0;34m\u001b[0m\u001b[0m\n\u001b[1;32m   2361\u001b[0m             \u001b[0;32mif\u001b[0m \u001b[0mis_field\u001b[0m\u001b[0;34m:\u001b[0m\u001b[0;34m\u001b[0m\u001b[0;34m\u001b[0m\u001b[0m\n\u001b[0;32m-> 2362\u001b[0;31m                 \u001b[0msingular_polynomial_div_coeff\u001b[0m\u001b[0;34m(\u001b[0m\u001b[0;34m&\u001b[0m\u001b[0mp\u001b[0m\u001b[0;34m,\u001b[0m \u001b[0mleft\u001b[0m\u001b[0;34m.\u001b[0m\u001b[0m_poly\u001b[0m\u001b[0;34m,\u001b[0m \u001b[0mright\u001b[0m\u001b[0;34m.\u001b[0m\u001b[0m_poly\u001b[0m\u001b[0;34m,\u001b[0m \u001b[0mright\u001b[0m\u001b[0;34m.\u001b[0m\u001b[0m_parent_ring\u001b[0m\u001b[0;34m)\u001b[0m\u001b[0;34m\u001b[0m\u001b[0;34m\u001b[0m\u001b[0m\n\u001b[0m\u001b[1;32m   2363\u001b[0m                 \u001b[0;32mreturn\u001b[0m \u001b[0mnew_MP\u001b[0m\u001b[0;34m(\u001b[0m\u001b[0mleft\u001b[0m\u001b[0;34m.\u001b[0m\u001b[0m_parent\u001b[0m\u001b[0;34m,\u001b[0m \u001b[0mp\u001b[0m\u001b[0;34m)\u001b[0m\u001b[0;34m\u001b[0m\u001b[0;34m\u001b[0m\u001b[0m\n\u001b[1;32m   2364\u001b[0m             \u001b[0;32melse\u001b[0m\u001b[0;34m:\u001b[0m\u001b[0;34m\u001b[0m\u001b[0;34m\u001b[0m\u001b[0m\n",
      "\u001b[0;32m~/Documents/SageDevelopment/local/lib/python3.9/site-packages/sage/libs/singular/polynomial.pyx\u001b[0m in \u001b[0;36msage.libs.singular.polynomial.singular_polynomial_div_coeff (build/cythonized/sage/libs/singular/polynomial.cpp:4962)\u001b[0;34m()\u001b[0m\n\u001b[1;32m    342\u001b[0m     \"\"\"\n\u001b[1;32m    343\u001b[0m     \u001b[0;32mif\u001b[0m \u001b[0mq\u001b[0m \u001b[0;34m==\u001b[0m \u001b[0mNULL\u001b[0m\u001b[0;34m:\u001b[0m\u001b[0;34m\u001b[0m\u001b[0;34m\u001b[0m\u001b[0m\n\u001b[0;32m--> 344\u001b[0;31m         \u001b[0;32mraise\u001b[0m \u001b[0mZeroDivisionError\u001b[0m\u001b[0;34m\u001b[0m\u001b[0;34m\u001b[0m\u001b[0m\n\u001b[0m\u001b[1;32m    345\u001b[0m     \u001b[0msig_on\u001b[0m\u001b[0;34m(\u001b[0m\u001b[0;34m)\u001b[0m\u001b[0;34m\u001b[0m\u001b[0;34m\u001b[0m\u001b[0m\n\u001b[1;32m    346\u001b[0m     \u001b[0mcdef\u001b[0m \u001b[0mnumber\u001b[0m \u001b[0;34m*\u001b[0m\u001b[0mn\u001b[0m \u001b[0;34m=\u001b[0m \u001b[0mp_GetCoeff\u001b[0m\u001b[0;34m(\u001b[0m\u001b[0mq\u001b[0m\u001b[0;34m,\u001b[0m \u001b[0mr\u001b[0m\u001b[0;34m)\u001b[0m\u001b[0;34m\u001b[0m\u001b[0;34m\u001b[0m\u001b[0m\n",
      "\u001b[0;31mZeroDivisionError\u001b[0m: "
     ]
    }
   ],
   "source": [
    "P.<x,y,z>=ProjectiveSpace(QQ,2)\n",
    "f=DynamicalSystem([x^2,z^2+z*y,y^2])\n",
    "base_ring = f.base_ring()\n",
    "N = P.dimension_relative()\n",
    "R = PolynomialRing(base_ring, 'v', N+N+3, order='lex')\n",
    "var = list(R.gens())\n",
    "R2 = PolynomialRing(base_ring, var[:N] + var[-2:])\n",
    "newR = PolynomialRing(base_ring, 'w, t', 2, order='lex')\n",
    "psi = R2.hom(N*[0]+list(newR.gens()), newR)\n",
    "X = f.periodic_points(1, return_scheme=True)\n",
    "Fn = f\n",
    "R_zero = {R.gen(N):1}\n",
    "for j in range(N+1, N+N+1):\n",
    "    R_zero[R.gen(j)] = 0\n",
    "t = var.pop()\n",
    "w = var.pop()\n",
    "var = var[:N]\n",
    "for j in range(N,-1,-1):\n",
    "    Xa = X.affine_patch(j)\n",
    "    fa = Fn.dehomogenize(j)\n",
    "    Pa = fa.domain()\n",
    "    im = [R.gen(i) for i in range(j)] + (N-j)*[0]\n",
    "    phi = Pa.coordinate_ring().hom(im, R)\n",
    "    M = t*matrix.identity(R, N)\n",
    "    print(j)\n",
    "    print(fa)\n",
    "    print(phi)\n",
    "    print([phi(F.numerator())/phi(F.denominator()) for F in fa])\n",
    "    jac = jacobian([phi(F.numerator())/phi(F.denominator()) for F in fa], var)\n",
    "    print(jac)\n",
    "    g = (M-jacobian([phi(F.numerator())/phi(F.denominator()) for F in fa], var)).det()"
   ]
  },
  {
   "cell_type": "code",
   "execution_count": 14,
   "metadata": {},
   "outputs": [
    {
     "data": {
      "text/plain": [
       "[(1 : 0 : 0)]"
      ]
     },
     "execution_count": 14,
     "metadata": {},
     "output_type": "execute_result"
    }
   ],
   "source": [
    "f.periodic_points(1)"
   ]
  },
  {
   "cell_type": "code",
   "execution_count": 62,
   "metadata": {},
   "outputs": [
    {
     "data": {
      "text/plain": [
       "{w^3*t^2: 1}"
      ]
     },
     "execution_count": 62,
     "metadata": {},
     "output_type": "execute_result"
    }
   ],
   "source": [
    "temp = w^3*t^2 + w^4\n",
    "dic = dict([list(reversed(i)) for i in list(temp)])\n",
    "dic.pop(w^4, 0)\n",
    "dic"
   ]
  },
  {
   "cell_type": "code",
   "execution_count": 25,
   "metadata": {},
   "outputs": [
    {
     "data": {
      "text/plain": [
       "t^6 + 2*t^5 - 4*t^4 - 8*t^3"
      ]
     },
     "execution_count": 25,
     "metadata": {},
     "output_type": "execute_result"
    }
   ],
   "source": [
    "P.<x,y,z>=ProjectiveSpace(QQ,2)\n",
    "f=DynamicalSystem([x^2,z^2,y^2])\n",
    "poly = f.sigma_invariants(1, return_polynomial=True)\n",
    "w, t = poly.variables()\n",
    "poly.specialization({w:0}).monic()"
   ]
  },
  {
   "cell_type": "code",
   "execution_count": 11,
   "metadata": {},
   "outputs": [
    {
     "data": {
      "text/plain": [
       "w^6 - 6*w^5*t^2 + 8*w^5*t - 4*w^5 + 15*w^4*t^4 - 40*w^4*t^3 + 40*w^4*t^2 - 16*w^4*t - 20*w^3*t^6 + 80*w^3*t^5 - 120*w^3*t^4 + 80*w^3*t^3 - 16*w^3*t^2 + 15*w^2*t^8 - 80*w^2*t^7 + 160*w^2*t^6 - 144*w^2*t^5 + 48*w^2*t^4 - 6*w*t^10 + 40*w*t^9 - 100*w*t^8 + 112*w*t^7 - 48*w*t^6 + t^12 - 8*t^11 + 24*t^10 - 32*t^9 + 16*t^8"
      ]
     },
     "execution_count": 11,
     "metadata": {},
     "output_type": "execute_result"
    }
   ],
   "source": [
    "R.<w> = QQ[]\n",
    "N.<n> = NumberField(w^2 + 1)\n",
    "P.<x,y,z> = ProjectiveSpace(N, 2)\n",
    "f = DynamicalSystem_projective([x^2, y^2, z^2])\n",
    "f.sigma_invariants(1, return_polynomial=True)"
   ]
  },
  {
   "cell_type": "code",
   "execution_count": 13,
   "metadata": {},
   "outputs": [
    {
     "data": {
      "text/plain": [
       "[3,\n",
       " 6,\n",
       " 0,\n",
       " 0,\n",
       " 0,\n",
       " 0,\n",
       " 0,\n",
       " 0,\n",
       " 1,\n",
       " 0,\n",
       " 0,\n",
       " 0,\n",
       " 0,\n",
       " -3,\n",
       " -2,\n",
       " 4,\n",
       " 0,\n",
       " 0,\n",
       " 3,\n",
       " 4,\n",
       " -8,\n",
       " -8,\n",
       " 0,\n",
       " -1,\n",
       " -2,\n",
       " 4,\n",
       " 8,\n",
       " 0,\n",
       " 0,\n",
       " 0]"
      ]
     },
     "execution_count": 13,
     "metadata": {},
     "output_type": "execute_result"
    }
   ],
   "source": [
    "sage: P.<x,y,z> = ProjectiveSpace(QQ, 2)\n",
    "            sage: f = DynamicalSystem_projective([x^2, z^2, y^2])\n",
    "            sage: f.sigma_invariants(1)"
   ]
  },
  {
   "cell_type": "code",
   "execution_count": 14,
   "metadata": {},
   "outputs": [
    {
     "data": {
      "text/plain": [
       "w^6 - 6*w^5*t^2 + 8*w^5*t - 4*w^5 + 15*w^4*t^4 - 40*w^4*t^3 + 40*w^4*t^2 - 16*w^4*t - 20*w^3*t^6 + 80*w^3*t^5 - 120*w^3*t^4 + 80*w^3*t^3 - 16*w^3*t^2 + 15*w^2*t^8 - 80*w^2*t^7 + 160*w^2*t^6 - 144*w^2*t^5 + 48*w^2*t^4 - 6*w*t^10 + 40*w*t^9 - 100*w*t^8 + 112*w*t^7 - 48*w*t^6 + t^12 - 8*t^11 + 24*t^10 - 32*t^9 + 16*t^8"
      ]
     },
     "execution_count": 14,
     "metadata": {},
     "output_type": "execute_result"
    }
   ],
   "source": [
    "P.<x,y,z> = ProjectiveSpace(QQ, 2)\n",
    "f = DynamicalSystem_projective([x^2, y^2, z^2])\n",
    "f.sigma_invariants(1, return_polynomial=True)"
   ]
  },
  {
   "cell_type": "code",
   "execution_count": 15,
   "metadata": {},
   "outputs": [
    {
     "data": {
      "text/plain": [
       "w^7 - 7*w^6*t^2 + 10*w^6*t - 4*w^6 + 21*w^5*t^4 - 60*w^5*t^3 + 60*w^5*t^2 - 24*w^5*t - 35*w^4*t^6 + 150*w^4*t^5 - 240*w^4*t^4 + 176*w^4*t^3 - 48*w^4*t^2 + 35*w^3*t^8 - 200*w^3*t^7 + 440*w^3*t^6 - 464*w^3*t^5 + 224*w^3*t^4 - 32*w^3*t^3 - 21*w^2*t^10 + 150*w^2*t^9 - 420*w^2*t^8 + 576*w^2*t^7 - 384*w^2*t^6 + 96*w^2*t^5 + 7*w*t^12 - 60*w*t^11 + 204*w*t^10 - 344*w*t^9 + 288*w*t^8 - 96*w*t^7 - t^14 + 10*t^13 - 40*t^12 + 80*t^11 - 80*t^10 + 32*t^9"
      ]
     },
     "execution_count": 15,
     "metadata": {},
     "output_type": "execute_result"
    }
   ],
   "source": [
    "f.sigma_invariants(1, return_polynomial=True, chow=True)"
   ]
  },
  {
   "cell_type": "code",
   "execution_count": 17,
   "metadata": {},
   "outputs": [
    {
     "name": "stdout",
     "output_type": "stream",
     "text": [
      "(0 : 0 : 1) 1\n",
      "(0 : 1 : 0) 1\n",
      "(0 : 1 : 1) 1\n",
      "(1 : 0 : 0) 1\n",
      "(1 : 0 : 1) 1\n",
      "(1 : 1 : 0) 1\n",
      "(1 : 1 : 1) 1\n"
     ]
    }
   ],
   "source": [
    "for i in f.periodic_points(1, return_scheme=True).rational_points():\n",
    "    print(i, i.multiplicity())"
   ]
  },
  {
   "cell_type": "code",
   "execution_count": 20,
   "metadata": {},
   "outputs": [
    {
     "name": "stdout",
     "output_type": "stream",
     "text": [
      "[0 0]\n",
      "[0 0]\n",
      "------\n",
      "[0 0]\n",
      "[0 0]\n",
      "------\n",
      "[0 0]\n",
      "[0 2]\n",
      "------\n",
      "[0 0]\n",
      "[0 0]\n",
      "------\n",
      "[2 0]\n",
      "[0 0]\n",
      "------\n",
      "[2 0]\n",
      "[0 0]\n",
      "------\n",
      "[2 0]\n",
      "[0 2]\n",
      "------\n"
     ]
    }
   ],
   "source": [
    "for point in f.periodic_points(1):\n",
    "    print(f.multiplier(point, 1))\n",
    "    print('------')"
   ]
  },
  {
   "cell_type": "code",
   "execution_count": 1,
   "metadata": {},
   "outputs": [],
   "source": [
    "def num_sigma(self, n):\n",
    "    fc = self.change_ring(CC)\n",
    "    per= self.periodic_points(n,minimal=False,return_scheme=True).rational_points(F=CC)\n",
    "    mul = []\n",
    "    t=1\n",
    "    for Q in per:\n",
    "        t=t*fc.multiplier(Q,n,check=False).characteristic_polynomial()\n",
    "        c=fc.multiplier(Q,n, check=False).characteristic_polynomial().coefficients(sparse=False)\n",
    "        c.pop(-1) #always monic\n",
    "        mul.append(c)\n",
    "    sig=[]\n",
    "    e = SymmetricFunctions(CC).e()\n",
    "\n",
    "    N = len(mul)\n",
    "    R = CC\n",
    "    for i in range(0,N):\n",
    "        T=[]\n",
    "        for k in range(len(mul[0])):\n",
    "            T.append((R(e([i+1]).expand(N)([m[k] for m in mul]))))\n",
    "        sig.append(T)\n",
    "    return sig,t"
   ]
  },
  {
   "cell_type": "code",
   "execution_count": 5,
   "metadata": {},
   "outputs": [
    {
     "data": {
      "text/plain": [
       "w^7 - 7*w^6*t^2 + 10*w^6*t - 4*w^6 + 21*w^5*t^4 - 60*w^5*t^3 + 60*w^5*t^2 - 24*w^5*t - 35*w^4*t^6 + 150*w^4*t^5 - 240*w^4*t^4 + 176*w^4*t^3 - 48*w^4*t^2 + 35*w^3*t^8 - 200*w^3*t^7 + 440*w^3*t^6 - 464*w^3*t^5 + 224*w^3*t^4 - 32*w^3*t^3 - 21*w^2*t^10 + 150*w^2*t^9 - 420*w^2*t^8 + 576*w^2*t^7 - 384*w^2*t^6 + 96*w^2*t^5 + 7*w*t^12 - 60*w*t^11 + 204*w*t^10 - 344*w*t^9 + 288*w*t^8 - 96*w*t^7 - t^14 + 10*t^13 - 40*t^12 + 80*t^11 - 80*t^10 + 32*t^9"
      ]
     },
     "execution_count": 5,
     "metadata": {},
     "output_type": "execute_result"
    }
   ],
   "source": [
    "P.<x,y,z> = ProjectiveSpace(QQ, 2)\n",
    "f = DynamicalSystem_projective([x^2, y^2, z^2])\n",
    "f.sigma_invariants(1, return_polynomial=True, chow=True)"
   ]
  },
  {
   "cell_type": "code",
   "execution_count": 4,
   "metadata": {},
   "outputs": [
    {
     "data": {
      "text/plain": [
       "([[4.00000000000000, -10.0000000000000],\n",
       "  [0.000000000000000, 36.0000000000000],\n",
       "  [0.000000000000000, -56.0000000000000],\n",
       "  [0.000000000000000, 32.0000000000000],\n",
       "  [0.000000000000000, 0.000000000000000],\n",
       "  [0.000000000000000, 0.000000000000000],\n",
       "  [0.000000000000000, 0.000000000000000]],\n",
       " x^14 - 10.0000000000000*x^13 + 40.0000000000000*x^12 - 80.0000000000000*x^11 + 80.0000000000000*x^10 - 32.0000000000000*x^9)"
      ]
     },
     "execution_count": 4,
     "metadata": {},
     "output_type": "execute_result"
    }
   ],
   "source": [
    "num_sigma(f, 1)"
   ]
  },
  {
   "cell_type": "code",
   "execution_count": 8,
   "metadata": {
    "scrolled": false
   },
   "outputs": [
    {
     "data": {
      "text/plain": [
       "w^7 - 7*w^6*t^2 + 2308/185*w^6*t - 176/185*w^6 + 21*w^5*t^4 - 13848/185*w^5*t^3 + 1209616/34225*w^5*t^2 + 2904896/34225*w^5*t - 34304/185*w^5 - 35*w^4*t^6 + 6924/37*w^4*t^5 - 1111936/6845*w^4*t^4 - 17385344/34225*w^4*t^3 + 1571584/1369*w^4*t^2 - 4161536/34225*w^4*t - 32768/37*w^4 + 35*w^3*t^8 - 9232/37*w^3*t^7 + 2158752/6845*w^3*t^6 + 40492416/34225*w^3*t^5 - 4112384/1369*w^3*t^4 - 16016384/34225*w^3*t^3 + 194158592/34225*w^3*t^2 - 1441792/6845*w^3*t - 21*w^2*t^10 + 6924/37*w^2*t^9 - 2126192/6845*w^2*t^8 - 46214144/34225*w^2*t^7 + 5446144/1369*w^2*t^6 + 77167616/34225*w^2*t^5 - 435503104/34225*w^2*t^4 - 35454976/34225*w^2*t^3 + 70254592/6845*w^2*t^2 + 7*w*t^12 - 13848/185*w*t^11 + 1053328/6845*w*t^10 + 25967936/34225*w*t^9 - 3572224/1369*w*t^8 - 89639936/34225*w*t^7 + 426483712/34225*w*t^6 + 182321152/34225*w*t^5 - 147849216/6845*w*t^4 - 16777216/1369*w*t^3 - t^14 + 2308/185*t^13 - 1046816/34225*t^12 - 1153152/6845*t^11 + 4603648/6845*t^10 + 6530048/6845*t^9 - 6193152/1369*t^8 - 139657216/34225*t^7 + 2097152/185*t^6 + 16777216/1369*t^5"
      ]
     },
     "execution_count": 8,
     "metadata": {},
     "output_type": "execute_result"
    }
   ],
   "source": [
    "# from paper\n",
    "P.<x,y,z> = ProjectiveSpace(QQ, 2)\n",
    "f = DynamicalSystem_projective([x^4 - 8*x*y^3, 4*x^3*y+5*y^4, z^4])\n",
    "f.sigma_invariants(1, return_polynomial=True)"
   ]
  },
  {
   "cell_type": "code",
   "execution_count": 9,
   "metadata": {},
   "outputs": [
    {
     "data": {
      "text/plain": [
       "([[28.6714390065742, -27.9783783783784],\n",
       "  [-37.4713448417712, 265.565405405406],\n",
       "  [-5095.17435570397, -672.166695911400 - 1.26217744835362e-29*I],\n",
       "  [3946.86595629983, -3818.28057557403 + 5.04870979341448e-29*I],\n",
       "  [316803.448072889, 20354.3715906361 - 3.02922587604869e-28*I],\n",
       "  [-1.13311287166838e6 - 6.46234853557053e-26*I,\n",
       "   14304.6986395729 + 2.01948391736579e-28*I],\n",
       "  [-775787.379046892, -188421.641419915 + 8.07793566946316e-28*I],\n",
       "  [3.93356553141509e6, 14081.3058232135 - 1.61558713389263e-27*I],\n",
       "  [-2.34650344944486e6, 869491.551616812 - 6.46234853557053e-27*I],\n",
       "  [0.000000000000000, -104386.563929881 - 6.46234853557053e-27*I],\n",
       "  [0.000000000000000, -2.12131102055354e6],\n",
       "  [0.000000000000000, -320528.806024660 - 6.46234853557053e-27*I],\n",
       "  [0.000000000000000, 2.23850701664773e6 - 6.46234853557053e-27*I],\n",
       "  [0.000000000000000, 1.21837679105790e6 - 2.03802618693103e-26*I],\n",
       "  [0.000000000000000, 0.000000000000000]],\n",
       " x^30 - 27.9783783783784*x^29 + 294.236844411980*x^28 + (-1128.82838386670 + 9.46633086265214e-30*I)*x^27 + (-2933.64044739719 - 6.31770982257001e-29*I)*x^26 + (38467.4756536506 - 1.91337619042925e-28*I)*x^25 + (-64380.8833649169 + 1.37917913741514e-27*I)*x^24 + (-411819.144833294 + 2.97012593961073e-27*I)*x^23 + (1.52668720173569e6 - 7.14526420165024e-27*I)*x^22 + (1.83087354313394e6 - 5.17345996744572e-26*I)*x^21 + (-1.43966604327923e7 - 6.84104618274993e-26*I)*x^20 + (196961.637040738 + 5.39899093074776e-25*I)*x^19 + (7.98820769174831e7 + 1.09106380305170e-24*I)*x^18 + (-4.01876444595743e7 - 2.90161236096951e-24*I)*x^17 + (-2.87846844873756e8 - 5.72092189356291e-24*I)*x^16 + (1.95901889140258e8 + 8.46984343105692e-24*I)*x^15 + (6.83924113512174e8 + 1.40592792535753e-23*I)*x^14 + (-4.62997163764877e8 - 1.44005250804585e-23*I)*x^13 + (-1.01921240412989e9 - 1.59307715958876e-23*I)*x^12 + (6.06062593882818e8 + 1.44264481681601e-23*I)*x^11 + (8.42329462717719e8 + 5.74974275449585e-24*I)*x^10 + (-4.40245998594009e8 - 6.89325852419432e-24*I)*x^9 + (-2.86226746548903e8 + 1.35212917109809e-24*I)*x^8 + 1.51797968592993e8*x^7)"
      ]
     },
     "execution_count": 9,
     "metadata": {},
     "output_type": "execute_result"
    }
   ],
   "source": [
    "num_sigma(f, 1)"
   ]
  },
  {
   "cell_type": "code",
   "execution_count": null,
   "metadata": {},
   "outputs": [],
   "source": []
  }
 ],
 "metadata": {
  "kernelspec": {
   "display_name": "SageMath 9.4.beta3",
   "language": "sage",
   "name": "sagemath"
  },
  "language_info": {
   "codemirror_mode": {
    "name": "ipython",
    "version": 3
   },
   "file_extension": ".py",
   "mimetype": "text/x-python",
   "name": "python",
   "nbconvert_exporter": "python",
   "pygments_lexer": "ipython3",
   "version": "3.8.5"
  }
 },
 "nbformat": 4,
 "nbformat_minor": 4
}
