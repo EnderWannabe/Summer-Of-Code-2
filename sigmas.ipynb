{
 "cells": [
  {
   "cell_type": "code",
   "execution_count": 24,
   "metadata": {
    "scrolled": false
   },
   "outputs": [
    {
     "name": "stdout",
     "output_type": "stream",
     "text": [
      "[v0^4 - 8*v0*v1^3 - v0, v0^3*v1 + v1^4 - 1/4*v1, v0^3*v2 - 4*v0^3 - 144*v1^6 + v1^3*v3^2 - 2*v1^3*v3 + 12*v1^3 + 1/8*v2*v3 - 3/4*v2 - 1/8*v3^3 + 3/4*v3^2, v0^3*v3 - 2*v0^3 + 72*v1^6 + v1^3*v3 - 14*v1^3 + 1/8*v2 - 1/8*v3^2, v0*v1^4 + 1/12*v0*v1, v0*v1^3*v3 - 4*v0*v1^3 + 1/72*v0*v2 - 1/72*v0*v3^2 + 1/9*v0*v3 - 2/9*v0, v0*v2^2 - 2*v0*v2*v3^2 + 10*v0*v2*v3 - 8*v0*v2 + v0*v3^4 - 10*v0*v3^3 + 24*v0*v3^2 + 32*v0*v3 - 128*v0, v1^7 - 1/6*v1^4 - 1/48*v1, v1^6*v3^2 - 16*v1^6 - 1/6*v1^3*v3^2 + 8/3*v1^3 + 1/576*v2^2 - 1/288*v2*v3^2 + 1/72*v2*v3 - 1/36*v2 + 1/576*v3^4 - 1/72*v3^3 + 1/36*v3^2, v1*v2 - v1*v3^2 + 2*v1*v3 + 8*v1, v2^3 - 3*v2^2*v3^2 + 10*v2^2*v3 - 8*v2^2 + 3*v2*v3^4 - 20*v2*v3^3 + 32*v2*v3^2 + 32*v2*v3 - 128*v2 - v3^6 + 10*v3^5 - 24*v3^4 - 32*v3^3 + 128*v3^2]\n",
      "[v0^4 + 4*v0, v2 - v3^2 - 2*v3]\n",
      "[v2 - v3^2 + 4*v3]\n"
     ]
    },
    {
     "data": {
      "text/plain": [
       "w^5 - 5*w^4*t^2 + 12*w^4*t - 8*w^4 + 10*w^3*t^4 - 48*w^3*t^3 + 60*w^3*t^2 + 16*w^3*t - 128*w^3 - 10*w^2*t^6 + 72*w^2*t^5 - 132*w^2*t^4 - 96*w^2*t^3 + 512*w^2*t^2 - 256*w^2*t + 5*w*t^8 - 48*w*t^7 + 116*w*t^6 + 144*w*t^5 - 768*w*t^4 + 256*w*t^3 + 1024*w*t^2 - t^10 + 12*t^9 - 36*t^8 - 64*t^7 + 384*t^6 - 1024*t^4"
      ]
     },
     "execution_count": 24,
     "metadata": {},
     "output_type": "execute_result"
    }
   ],
   "source": [
    "R.<a> = QQ[]\n",
    "P.<x,y,z> = ProjectiveSpace(QQ,2)\n",
    "f = DynamicalSystem_projective([x^4 - 8*x*y^3, 4*x^3*y+4*y^4,z^4])\n",
    "f.sigma_invariants(1, return_polynomial=True)"
   ]
  },
  {
   "cell_type": "code",
   "execution_count": 4,
   "metadata": {},
   "outputs": [
    {
     "name": "stdout",
     "output_type": "stream",
     "text": [
      "[v0^4 + 4*v0, v0^3*v3 - v0^3*v4 - 2*v0^3 + 4*v3 - 4*v4 - 8, v0^2*v3^2 - 2*v0^2*v3*v4 - 4*v0^2*v3 + v0^2*v4^2 + 4*v0^2*v4 + 4*v0^2 - 4*v2*v3 + 4*v2*v4 + 8*v2, v0*v2 + v3 - v4 - 2, v0*v3^3 - 3*v0*v3^2*v4 - 6*v0*v3^2 + 3*v0*v3*v4^2 + 12*v0*v3*v4 + 12*v0*v3 - v0*v4^3 - 6*v0*v4^2 - 12*v0*v4 - 8*v0 + 4*v2^2*v3 - 4*v2^2*v4 - 8*v2^2, v2^3*v3 - v2^3*v4 - 2*v2^3 - 1/4*v3^4 + v3^3*v4 + 2*v3^3 - 3/2*v3^2*v4^2 - 6*v3^2*v4 - 6*v3^2 + v3*v4^3 + 6*v3*v4^2 + 12*v3*v4 + 8*v3 - 1/4*v4^4 - 2*v4^3 - 6*v4^2 - 8*v4 - 4]\n",
      "[v0*v2 + v3 - v4 + 4]\n"
     ]
    },
    {
     "data": {
      "text/plain": [
       "w^5 - 5*w^4*t - 4*w^4 + 10*w^3*t^2 + 16*w^3*t - 8*w^3 - 10*w^2*t^3 - 24*w^2*t^2 + 24*w^2*t + 64*w^2 + 5*w*t^4 + 16*w*t^3 - 24*w*t^2 - 128*w*t - 112*w - t^5 - 4*t^4 + 8*t^3 + 64*t^2 + 112*t + 64"
      ]
     },
     "execution_count": 4,
     "metadata": {},
     "output_type": "execute_result"
    }
   ],
   "source": [
    "P.<x,y> = ProjectiveSpace(QQ,1)\n",
    "f = DynamicalSystem_projective([x^4 - 8*x*y^3, 4*x^3*y+4*y^4])\n",
    "f.sigma_invariants(1, return_polynomial=True, chow=True)"
   ]
  },
  {
   "cell_type": "code",
   "execution_count": 10,
   "metadata": {},
   "outputs": [
    {
     "data": {
      "text/plain": [
       "[-4, -8, 64, -112, 64]"
      ]
     },
     "execution_count": 10,
     "metadata": {},
     "output_type": "execute_result"
    }
   ],
   "source": [
    "P.<x,y> = ProjectiveSpace(QQ,1)\n",
    "f = DynamicalSystem_projective([x^4 - 8*x*y^3, 4*x^3*y+4*y^4])\n",
    "f.sigma_invariants(1)"
   ]
  },
  {
   "cell_type": "code",
   "execution_count": 16,
   "metadata": {},
   "outputs": [
    {
     "name": "stdout",
     "output_type": "stream",
     "text": [
      "[v0 + 1/2*v1 - 1/2*v2, v1^2 - 2*v1*v2 + 2*v1 + v2^2 - 2*v2 + 8]\n",
      "[v1 - v2]\n"
     ]
    },
    {
     "data": {
      "text/plain": [
       "-t^3 + 2*t^2 - 8*t"
      ]
     },
     "execution_count": 16,
     "metadata": {},
     "output_type": "execute_result"
    }
   ],
   "source": [
    "P.<x,y> = ProjectiveSpace(QQ,1)\n",
    "f = DynamicalSystem_projective([x^2 + 2*y^2, y^2])\n",
    "poly=f.sigma_invariants(1, return_polynomial=True)\n",
    "w, t = poly.variables()\n",
    "poly.subs({w:0})"
   ]
  },
  {
   "cell_type": "code",
   "execution_count": 6,
   "metadata": {},
   "outputs": [
    {
     "data": {
      "text/plain": [
       "[2, 8, 0]"
      ]
     },
     "execution_count": 6,
     "metadata": {},
     "output_type": "execute_result"
    }
   ],
   "source": [
    "P.<x,y> = ProjectiveSpace(QQ,1)\n",
    "f = DynamicalSystem_projective([x^2 + 2*y^2, y^2])\n",
    "f.sigma_invariants(1)"
   ]
  },
  {
   "cell_type": "code",
   "execution_count": 1,
   "metadata": {
    "scrolled": false
   },
   "outputs": [
    {
     "data": {
      "text/plain": [
       "0"
      ]
     },
     "execution_count": 1,
     "metadata": {},
     "output_type": "execute_result"
    }
   ],
   "source": [
    "sage: P.<x,y,z,w> = ProjectiveSpace(QQ, 3)\n",
    "            sage: f = DynamicalSystem_projective([x^2, z*w, z^2, y^2])\n",
    "            sage: f.sigma_invariants(1, return_polynomial=True, chow=True)\n",
    "# 0\n",
    "# what? show to ben"
   ]
  },
  {
   "cell_type": "code",
   "execution_count": 9,
   "metadata": {},
   "outputs": [
    {
     "data": {
      "text/plain": [
       "w^6 - 6*w^5*t^3 + 2*w^5*t^2 + 8*w^5*t - 8*w^5 + 15*w^4*t^6 - 10*w^4*t^5 - 44*w^4*t^4 + 48*w^4*t^3 + 16*w^4*t^2 - 32*w^4*t - 20*w^3*t^9 + 20*w^3*t^8 + 96*w^3*t^7 - 120*w^3*t^6 - 96*w^3*t^5 + 160*w^3*t^4 + 15*w^2*t^12 - 20*w^2*t^11 - 104*w^2*t^10 + 152*w^2*t^9 + 192*w^2*t^8 - 320*w^2*t^7 - 64*w^2*t^6 + 128*w^2*t^5 - 6*w*t^15 + 10*w*t^14 + 56*w*t^13 - 96*w*t^12 - 160*w*t^11 + 288*w*t^10 + 128*w*t^9 - 256*w*t^8 + t^18 - 2*t^17 - 12*t^16 + 24*t^15 + 48*t^14 - 96*t^13 - 64*t^12 + 128*t^11"
      ]
     },
     "execution_count": 9,
     "metadata": {},
     "output_type": "execute_result"
    }
   ],
   "source": [
    "sage: P.<x,y,z,w> = ProjectiveSpace(QQ, 3)\n",
    "            sage: f = DynamicalSystem_projective([x^2, w^2, z^2, y^2])\n",
    "            sage: f.sigma_invariants(1, return_polynomial=True)"
   ]
  },
  {
   "cell_type": "code",
   "execution_count": null,
   "metadata": {},
   "outputs": [],
   "source": []
  },
  {
   "cell_type": "code",
   "execution_count": null,
   "metadata": {},
   "outputs": [],
   "source": []
  }
 ],
 "metadata": {
  "kernelspec": {
   "display_name": "SageMath 9.4.beta1",
   "language": "sage",
   "name": "sagemath"
  },
  "language_info": {
   "codemirror_mode": {
    "name": "ipython",
    "version": 3
   },
   "file_extension": ".py",
   "mimetype": "text/x-python",
   "name": "python",
   "nbconvert_exporter": "python",
   "pygments_lexer": "ipython3",
   "version": "3.9.2"
  }
 },
 "nbformat": 4,
 "nbformat_minor": 4
}
