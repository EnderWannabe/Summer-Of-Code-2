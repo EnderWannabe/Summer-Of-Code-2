{
 "cells": [
  {
   "cell_type": "code",
   "execution_count": 2,
   "metadata": {},
   "outputs": [],
   "source": [
    "FF.<t>=FunctionField(GF(17));FF\n",
    "P1.<x,y>=ProjectiveSpace(FF, 1);P1\n",
    "DS=DynamicalSystem([(1/t)*x^2+y^2, y^2])\n",
    "O = FF.maximal_order()\n",
    "p = O.ideal((t+1)).place()\n",
    "k, fr_k, to_k = p.residue_field()"
   ]
  },
  {
   "cell_type": "code",
   "execution_count": 8,
   "metadata": {},
   "outputs": [],
   "source": [
    "DS.normalize_coordinates()"
   ]
  },
  {
   "cell_type": "code",
   "execution_count": 18,
   "metadata": {
    "scrolled": true
   },
   "outputs": [
    {
     "ename": "TypeError",
     "evalue": "x^2 + t*y^2 fails to convert into the map's domain Valuation ring at Place (t + 1), but a `pushforward` method is not properly implemented",
     "output_type": "error",
     "traceback": [
      "\u001b[0;31m---------------------------------------------------------------------------\u001b[0m",
      "\u001b[0;31mTypeError\u001b[0m                                 Traceback (most recent call last)",
      "\u001b[0;32m~/Documents/Sage/local/lib/python3.9/site-packages/sage/categories/map.pyx\u001b[0m in \u001b[0;36msage.categories.map.Map.__call__ (build/cythonized/sage/categories/map.c:6815)\u001b[0;34m()\u001b[0m\n\u001b[1;32m    780\u001b[0m             \u001b[0;32mtry\u001b[0m\u001b[0;34m:\u001b[0m\u001b[0;34m\u001b[0m\u001b[0;34m\u001b[0m\u001b[0m\n\u001b[0;32m--> 781\u001b[0;31m                 \u001b[0mx\u001b[0m \u001b[0;34m=\u001b[0m \u001b[0mD\u001b[0m\u001b[0;34m(\u001b[0m\u001b[0mx\u001b[0m\u001b[0;34m)\u001b[0m\u001b[0;34m\u001b[0m\u001b[0;34m\u001b[0m\u001b[0m\n\u001b[0m\u001b[1;32m    782\u001b[0m             \u001b[0;32mexcept\u001b[0m \u001b[0;34m(\u001b[0m\u001b[0mTypeError\u001b[0m\u001b[0;34m,\u001b[0m \u001b[0mNotImplementedError\u001b[0m\u001b[0;34m)\u001b[0m\u001b[0;34m:\u001b[0m\u001b[0;34m\u001b[0m\u001b[0;34m\u001b[0m\u001b[0m\n",
      "\u001b[0;32m~/Documents/Sage/local/lib/python3.9/site-packages/sage/structure/parent.pyx\u001b[0m in \u001b[0;36msage.structure.parent.Parent.__call__ (build/cythonized/sage/structure/parent.c:9338)\u001b[0;34m()\u001b[0m\n\u001b[1;32m    897\u001b[0m             \u001b[0;32mif\u001b[0m \u001b[0mno_extra_args\u001b[0m\u001b[0;34m:\u001b[0m\u001b[0;34m\u001b[0m\u001b[0;34m\u001b[0m\u001b[0m\n\u001b[0;32m--> 898\u001b[0;31m                 \u001b[0;32mreturn\u001b[0m \u001b[0mmor\u001b[0m\u001b[0;34m.\u001b[0m\u001b[0m_call_\u001b[0m\u001b[0;34m(\u001b[0m\u001b[0mx\u001b[0m\u001b[0;34m)\u001b[0m\u001b[0;34m\u001b[0m\u001b[0;34m\u001b[0m\u001b[0m\n\u001b[0m\u001b[1;32m    899\u001b[0m             \u001b[0;32melse\u001b[0m\u001b[0;34m:\u001b[0m\u001b[0;34m\u001b[0m\u001b[0;34m\u001b[0m\u001b[0m\n",
      "\u001b[0;32m~/Documents/Sage/local/lib/python3.9/site-packages/sage/structure/coerce_maps.pyx\u001b[0m in \u001b[0;36msage.structure.coerce_maps.DefaultConvertMap_unique._call_ (build/cythonized/sage/structure/coerce_maps.c:4622)\u001b[0;34m()\u001b[0m\n\u001b[1;32m    160\u001b[0m                 \u001b[0mprint\u001b[0m\u001b[0;34m(\u001b[0m\u001b[0mtype\u001b[0m\u001b[0;34m(\u001b[0m\u001b[0mC\u001b[0m\u001b[0;34m.\u001b[0m\u001b[0m_element_constructor\u001b[0m\u001b[0;34m)\u001b[0m\u001b[0;34m,\u001b[0m \u001b[0mC\u001b[0m\u001b[0;34m.\u001b[0m\u001b[0m_element_constructor\u001b[0m\u001b[0;34m)\u001b[0m\u001b[0;34m\u001b[0m\u001b[0;34m\u001b[0m\u001b[0m\n\u001b[0;32m--> 161\u001b[0;31m             \u001b[0;32mraise\u001b[0m\u001b[0;34m\u001b[0m\u001b[0;34m\u001b[0m\u001b[0m\n\u001b[0m\u001b[1;32m    162\u001b[0m \u001b[0;34m\u001b[0m\u001b[0m\n",
      "\u001b[0;32m~/Documents/Sage/local/lib/python3.9/site-packages/sage/structure/coerce_maps.pyx\u001b[0m in \u001b[0;36msage.structure.coerce_maps.DefaultConvertMap_unique._call_ (build/cythonized/sage/structure/coerce_maps.c:4514)\u001b[0;34m()\u001b[0m\n\u001b[1;32m    155\u001b[0m         \u001b[0;32mtry\u001b[0m\u001b[0;34m:\u001b[0m\u001b[0;34m\u001b[0m\u001b[0;34m\u001b[0m\u001b[0m\n\u001b[0;32m--> 156\u001b[0;31m             \u001b[0;32mreturn\u001b[0m \u001b[0mC\u001b[0m\u001b[0;34m.\u001b[0m\u001b[0m_element_constructor\u001b[0m\u001b[0;34m(\u001b[0m\u001b[0mx\u001b[0m\u001b[0;34m)\u001b[0m\u001b[0;34m\u001b[0m\u001b[0;34m\u001b[0m\u001b[0m\n\u001b[0m\u001b[1;32m    157\u001b[0m         \u001b[0;32mexcept\u001b[0m \u001b[0mException\u001b[0m\u001b[0;34m:\u001b[0m\u001b[0;34m\u001b[0m\u001b[0;34m\u001b[0m\u001b[0m\n",
      "\u001b[0;32m~/Documents/Sage/local/lib/python3.9/site-packages/sage/rings/function_field/valuation_ring.py\u001b[0m in \u001b[0;36m_element_constructor_\u001b[0;34m(self, x)\u001b[0m\n\u001b[1;32m    127\u001b[0m         \"\"\"\n\u001b[0;32m--> 128\u001b[0;31m         \u001b[0mx\u001b[0m \u001b[0;34m=\u001b[0m \u001b[0mself\u001b[0m\u001b[0;34m.\u001b[0m\u001b[0m_field\u001b[0m\u001b[0;34m(\u001b[0m\u001b[0mx\u001b[0m\u001b[0;34m)\u001b[0m\u001b[0;34m\u001b[0m\u001b[0;34m\u001b[0m\u001b[0m\n\u001b[0m\u001b[1;32m    129\u001b[0m         \u001b[0;32mif\u001b[0m \u001b[0mx\u001b[0m\u001b[0;34m.\u001b[0m\u001b[0mvaluation\u001b[0m\u001b[0;34m(\u001b[0m\u001b[0mself\u001b[0m\u001b[0;34m.\u001b[0m\u001b[0m_place\u001b[0m\u001b[0;34m)\u001b[0m \u001b[0;34m>=\u001b[0m \u001b[0;36m0\u001b[0m\u001b[0;34m:\u001b[0m\u001b[0;34m\u001b[0m\u001b[0;34m\u001b[0m\u001b[0m\n",
      "\u001b[0;32m~/Documents/Sage/local/lib/python3.9/site-packages/sage/structure/parent.pyx\u001b[0m in \u001b[0;36msage.structure.parent.Parent.__call__ (build/cythonized/sage/structure/parent.c:9338)\u001b[0;34m()\u001b[0m\n\u001b[1;32m    897\u001b[0m             \u001b[0;32mif\u001b[0m \u001b[0mno_extra_args\u001b[0m\u001b[0;34m:\u001b[0m\u001b[0;34m\u001b[0m\u001b[0;34m\u001b[0m\u001b[0m\n\u001b[0;32m--> 898\u001b[0;31m                 \u001b[0;32mreturn\u001b[0m \u001b[0mmor\u001b[0m\u001b[0;34m.\u001b[0m\u001b[0m_call_\u001b[0m\u001b[0;34m(\u001b[0m\u001b[0mx\u001b[0m\u001b[0;34m)\u001b[0m\u001b[0;34m\u001b[0m\u001b[0;34m\u001b[0m\u001b[0m\n\u001b[0m\u001b[1;32m    899\u001b[0m             \u001b[0;32melse\u001b[0m\u001b[0;34m:\u001b[0m\u001b[0;34m\u001b[0m\u001b[0;34m\u001b[0m\u001b[0m\n",
      "\u001b[0;32m~/Documents/Sage/local/lib/python3.9/site-packages/sage/rings/polynomial/polynomial_element.pyx\u001b[0m in \u001b[0;36msage.rings.polynomial.polynomial_element.ConstantPolynomialSection._call_ (build/cythonized/sage/rings/polynomial/polynomial_element.c:98078)\u001b[0;34m()\u001b[0m\n\u001b[1;32m  11863\u001b[0m         \u001b[0;32melse\u001b[0m\u001b[0;34m:\u001b[0m\u001b[0;34m\u001b[0m\u001b[0;34m\u001b[0m\u001b[0m\n\u001b[0;32m> 11864\u001b[0;31m             \u001b[0;32mraise\u001b[0m \u001b[0mTypeError\u001b[0m\u001b[0;34m(\u001b[0m\u001b[0;34m\"not a constant polynomial\"\u001b[0m\u001b[0;34m)\u001b[0m\u001b[0;34m\u001b[0m\u001b[0;34m\u001b[0m\u001b[0m\n\u001b[0m\u001b[1;32m  11865\u001b[0m \u001b[0;34m\u001b[0m\u001b[0m\n",
      "\u001b[0;31mTypeError\u001b[0m: not a constant polynomial",
      "\nDuring handling of the above exception, another exception occurred:\n",
      "\u001b[0;31mTypeError\u001b[0m                                 Traceback (most recent call last)",
      "\u001b[0;32m<ipython-input-18-f7544bb12168>\u001b[0m in \u001b[0;36m<module>\u001b[0;34m\u001b[0m\n\u001b[0;32m----> 1\u001b[0;31m \u001b[0mDS\u001b[0m\u001b[0;34m.\u001b[0m\u001b[0mdefining_polynomials\u001b[0m\u001b[0;34m(\u001b[0m\u001b[0;34m)\u001b[0m\u001b[0;34m[\u001b[0m\u001b[0mInteger\u001b[0m\u001b[0;34m(\u001b[0m\u001b[0;36m0\u001b[0m\u001b[0;34m)\u001b[0m\u001b[0;34m]\u001b[0m\u001b[0;34m.\u001b[0m\u001b[0mchange_ring\u001b[0m\u001b[0;34m(\u001b[0m\u001b[0mto_k\u001b[0m\u001b[0;34m)\u001b[0m\u001b[0;34m\u001b[0m\u001b[0;34m\u001b[0m\u001b[0m\n\u001b[0m",
      "\u001b[0;32m~/Documents/Sage/local/lib/python3.9/site-packages/sage/rings/polynomial/multi_polynomial_element.py\u001b[0m in \u001b[0;36mchange_ring\u001b[0;34m(self, R)\u001b[0m\n\u001b[1;32m    371\u001b[0m             \u001b[0;32mif\u001b[0m \u001b[0mR\u001b[0m\u001b[0;34m.\u001b[0m\u001b[0mdomain\u001b[0m\u001b[0;34m(\u001b[0m\u001b[0;34m)\u001b[0m \u001b[0;34m==\u001b[0m \u001b[0mself\u001b[0m\u001b[0;34m.\u001b[0m\u001b[0mbase_ring\u001b[0m\u001b[0;34m(\u001b[0m\u001b[0;34m)\u001b[0m\u001b[0;34m:\u001b[0m\u001b[0;34m\u001b[0m\u001b[0;34m\u001b[0m\u001b[0m\n\u001b[1;32m    372\u001b[0m                 \u001b[0mR\u001b[0m \u001b[0;34m=\u001b[0m \u001b[0mself\u001b[0m\u001b[0;34m.\u001b[0m\u001b[0mparent\u001b[0m\u001b[0;34m(\u001b[0m\u001b[0;34m)\u001b[0m\u001b[0;34m.\u001b[0m\u001b[0mhom\u001b[0m\u001b[0;34m(\u001b[0m\u001b[0mR\u001b[0m\u001b[0;34m,\u001b[0m \u001b[0mself\u001b[0m\u001b[0;34m.\u001b[0m\u001b[0mparent\u001b[0m\u001b[0;34m(\u001b[0m\u001b[0;34m)\u001b[0m\u001b[0;34m.\u001b[0m\u001b[0mchange_ring\u001b[0m\u001b[0;34m(\u001b[0m\u001b[0mR\u001b[0m\u001b[0;34m.\u001b[0m\u001b[0mcodomain\u001b[0m\u001b[0;34m(\u001b[0m\u001b[0;34m)\u001b[0m\u001b[0;34m)\u001b[0m\u001b[0;34m)\u001b[0m\u001b[0;34m\u001b[0m\u001b[0;34m\u001b[0m\u001b[0m\n\u001b[0;32m--> 373\u001b[0;31m             \u001b[0;32mreturn\u001b[0m \u001b[0mR\u001b[0m\u001b[0;34m(\u001b[0m\u001b[0mself\u001b[0m\u001b[0;34m)\u001b[0m\u001b[0;34m\u001b[0m\u001b[0;34m\u001b[0m\u001b[0m\n\u001b[0m\u001b[1;32m    374\u001b[0m         \u001b[0;32melse\u001b[0m\u001b[0;34m:\u001b[0m\u001b[0;34m\u001b[0m\u001b[0;34m\u001b[0m\u001b[0m\n\u001b[1;32m    375\u001b[0m             \u001b[0;32mreturn\u001b[0m \u001b[0mself\u001b[0m\u001b[0;34m.\u001b[0m\u001b[0mparent\u001b[0m\u001b[0;34m(\u001b[0m\u001b[0;34m)\u001b[0m\u001b[0;34m.\u001b[0m\u001b[0mchange_ring\u001b[0m\u001b[0;34m(\u001b[0m\u001b[0mR\u001b[0m\u001b[0;34m)\u001b[0m\u001b[0;34m(\u001b[0m\u001b[0mself\u001b[0m\u001b[0;34m)\u001b[0m\u001b[0;34m\u001b[0m\u001b[0;34m\u001b[0m\u001b[0m\n",
      "\u001b[0;32m~/Documents/Sage/local/lib/python3.9/site-packages/sage/categories/map.pyx\u001b[0m in \u001b[0;36msage.categories.map.Map.__call__ (build/cythonized/sage/categories/map.c:6876)\u001b[0;34m()\u001b[0m\n\u001b[1;32m    781\u001b[0m                 \u001b[0mx\u001b[0m \u001b[0;34m=\u001b[0m \u001b[0mD\u001b[0m\u001b[0;34m(\u001b[0m\u001b[0mx\u001b[0m\u001b[0;34m)\u001b[0m\u001b[0;34m\u001b[0m\u001b[0;34m\u001b[0m\u001b[0m\n\u001b[1;32m    782\u001b[0m             \u001b[0;32mexcept\u001b[0m \u001b[0;34m(\u001b[0m\u001b[0mTypeError\u001b[0m\u001b[0;34m,\u001b[0m \u001b[0mNotImplementedError\u001b[0m\u001b[0;34m)\u001b[0m\u001b[0;34m:\u001b[0m\u001b[0;34m\u001b[0m\u001b[0;34m\u001b[0m\u001b[0m\n\u001b[0;32m--> 783\u001b[0;31m                 \u001b[0;32mraise\u001b[0m \u001b[0mTypeError\u001b[0m\u001b[0;34m(\u001b[0m\u001b[0;34m\"%s fails to convert into the map's domain %s, but a `pushforward` method is not properly implemented\"\u001b[0m \u001b[0;34m%\u001b[0m \u001b[0;34m(\u001b[0m\u001b[0mx\u001b[0m\u001b[0;34m,\u001b[0m \u001b[0mD\u001b[0m\u001b[0;34m)\u001b[0m\u001b[0;34m)\u001b[0m\u001b[0;34m\u001b[0m\u001b[0;34m\u001b[0m\u001b[0m\n\u001b[0m\u001b[1;32m    784\u001b[0m         \u001b[0;32melse\u001b[0m\u001b[0;34m:\u001b[0m\u001b[0;34m\u001b[0m\u001b[0;34m\u001b[0m\u001b[0m\n\u001b[1;32m    785\u001b[0m             \u001b[0mx\u001b[0m \u001b[0;34m=\u001b[0m \u001b[0mconverter\u001b[0m\u001b[0;34m(\u001b[0m\u001b[0mx\u001b[0m\u001b[0;34m)\u001b[0m\u001b[0;34m\u001b[0m\u001b[0;34m\u001b[0m\u001b[0m\n",
      "\u001b[0;31mTypeError\u001b[0m: x^2 + t*y^2 fails to convert into the map's domain Valuation ring at Place (t + 1), but a `pushforward` method is not properly implemented"
     ]
    }
   ],
   "source": [
    "DS.defining_polynomials()[0].change_ring(to_k)"
   ]
  },
  {
   "cell_type": "code",
   "execution_count": 27,
   "metadata": {
    "scrolled": true
   },
   "outputs": [
    {
     "data": {
      "text/plain": [
       "[Place (t^2 + 3),\n",
       " Place (t^2 + 5),\n",
       " Place (t^2 + 6),\n",
       " Place (t^2 + 7),\n",
       " Place (t^2 + 10),\n",
       " Place (t^2 + 11),\n",
       " Place (t^2 + 12),\n",
       " Place (t^2 + 14),\n",
       " Place (t^2 + t + 1),\n",
       " Place (t^2 + t + 2),\n",
       " Place (t^2 + t + 3),\n",
       " Place (t^2 + t + 6),\n",
       " Place (t^2 + t + 7),\n",
       " Place (t^2 + t + 8),\n",
       " Place (t^2 + t + 10),\n",
       " Place (t^2 + t + 16),\n",
       " Place (t^2 + 2*t + 4),\n",
       " Place (t^2 + 2*t + 6),\n",
       " Place (t^2 + 2*t + 7),\n",
       " Place (t^2 + 2*t + 8),\n",
       " Place (t^2 + 2*t + 11),\n",
       " Place (t^2 + 2*t + 12),\n",
       " Place (t^2 + 2*t + 13),\n",
       " Place (t^2 + 2*t + 15),\n",
       " Place (t^2 + 3*t + 1),\n",
       " Place (t^2 + 3*t + 3),\n",
       " Place (t^2 + 3*t + 4),\n",
       " Place (t^2 + 3*t + 5),\n",
       " Place (t^2 + 3*t + 8),\n",
       " Place (t^2 + 3*t + 9),\n",
       " Place (t^2 + 3*t + 10),\n",
       " Place (t^2 + 3*t + 12),\n",
       " Place (t^2 + 4*t + 1),\n",
       " Place (t^2 + 4*t + 7),\n",
       " Place (t^2 + 4*t + 9),\n",
       " Place (t^2 + 4*t + 10),\n",
       " Place (t^2 + 4*t + 11),\n",
       " Place (t^2 + 4*t + 14),\n",
       " Place (t^2 + 4*t + 15),\n",
       " Place (t^2 + 4*t + 16),\n",
       " Place (t^2 + 5*t + 5),\n",
       " Place (t^2 + 5*t + 7),\n",
       " Place (t^2 + 5*t + 8),\n",
       " Place (t^2 + 5*t + 9),\n",
       " Place (t^2 + 5*t + 12),\n",
       " Place (t^2 + 5*t + 13),\n",
       " Place (t^2 + 5*t + 14),\n",
       " Place (t^2 + 5*t + 16),\n",
       " Place (t^2 + 6*t + 2),\n",
       " Place (t^2 + 6*t + 3),\n",
       " Place (t^2 + 6*t + 4),\n",
       " Place (t^2 + 6*t + 6),\n",
       " Place (t^2 + 6*t + 12),\n",
       " Place (t^2 + 6*t + 14),\n",
       " Place (t^2 + 6*t + 15),\n",
       " Place (t^2 + 6*t + 16),\n",
       " Place (t^2 + 7*t + 1),\n",
       " Place (t^2 + 7*t + 2),\n",
       " Place (t^2 + 7*t + 3),\n",
       " Place (t^2 + 7*t + 5),\n",
       " Place (t^2 + 7*t + 11),\n",
       " Place (t^2 + 7*t + 13),\n",
       " Place (t^2 + 7*t + 14),\n",
       " Place (t^2 + 7*t + 15),\n",
       " Place (t^2 + 8*t + 2),\n",
       " Place (t^2 + 8*t + 4),\n",
       " Place (t^2 + 8*t + 5),\n",
       " Place (t^2 + 8*t + 6),\n",
       " Place (t^2 + 8*t + 9),\n",
       " Place (t^2 + 8*t + 10),\n",
       " Place (t^2 + 8*t + 11),\n",
       " Place (t^2 + 8*t + 13),\n",
       " Place (t^2 + 9*t + 2),\n",
       " Place (t^2 + 9*t + 4),\n",
       " Place (t^2 + 9*t + 5),\n",
       " Place (t^2 + 9*t + 6),\n",
       " Place (t^2 + 9*t + 9),\n",
       " Place (t^2 + 9*t + 10),\n",
       " Place (t^2 + 9*t + 11),\n",
       " Place (t^2 + 9*t + 13),\n",
       " Place (t^2 + 10*t + 1),\n",
       " Place (t^2 + 10*t + 2),\n",
       " Place (t^2 + 10*t + 3),\n",
       " Place (t^2 + 10*t + 5),\n",
       " Place (t^2 + 10*t + 11),\n",
       " Place (t^2 + 10*t + 13),\n",
       " Place (t^2 + 10*t + 14),\n",
       " Place (t^2 + 10*t + 15),\n",
       " Place (t^2 + 11*t + 2),\n",
       " Place (t^2 + 11*t + 3),\n",
       " Place (t^2 + 11*t + 4),\n",
       " Place (t^2 + 11*t + 6),\n",
       " Place (t^2 + 11*t + 12),\n",
       " Place (t^2 + 11*t + 14),\n",
       " Place (t^2 + 11*t + 15),\n",
       " Place (t^2 + 11*t + 16),\n",
       " Place (t^2 + 12*t + 5),\n",
       " Place (t^2 + 12*t + 7),\n",
       " Place (t^2 + 12*t + 8),\n",
       " Place (t^2 + 12*t + 9),\n",
       " Place (t^2 + 12*t + 12),\n",
       " Place (t^2 + 12*t + 13),\n",
       " Place (t^2 + 12*t + 14),\n",
       " Place (t^2 + 12*t + 16),\n",
       " Place (t^2 + 13*t + 1),\n",
       " Place (t^2 + 13*t + 7),\n",
       " Place (t^2 + 13*t + 9),\n",
       " Place (t^2 + 13*t + 10),\n",
       " Place (t^2 + 13*t + 11),\n",
       " Place (t^2 + 13*t + 14),\n",
       " Place (t^2 + 13*t + 15),\n",
       " Place (t^2 + 13*t + 16),\n",
       " Place (t^2 + 14*t + 1),\n",
       " Place (t^2 + 14*t + 3),\n",
       " Place (t^2 + 14*t + 4),\n",
       " Place (t^2 + 14*t + 5),\n",
       " Place (t^2 + 14*t + 8),\n",
       " Place (t^2 + 14*t + 9),\n",
       " Place (t^2 + 14*t + 10),\n",
       " Place (t^2 + 14*t + 12),\n",
       " Place (t^2 + 15*t + 4),\n",
       " Place (t^2 + 15*t + 6),\n",
       " Place (t^2 + 15*t + 7),\n",
       " Place (t^2 + 15*t + 8),\n",
       " Place (t^2 + 15*t + 11),\n",
       " Place (t^2 + 15*t + 12),\n",
       " Place (t^2 + 15*t + 13),\n",
       " Place (t^2 + 15*t + 15),\n",
       " Place (t^2 + 16*t + 1),\n",
       " Place (t^2 + 16*t + 2),\n",
       " Place (t^2 + 16*t + 3),\n",
       " Place (t^2 + 16*t + 6),\n",
       " Place (t^2 + 16*t + 7),\n",
       " Place (t^2 + 16*t + 8),\n",
       " Place (t^2 + 16*t + 10),\n",
       " Place (t^2 + 16*t + 16)]"
      ]
     },
     "execution_count": 27,
     "metadata": {},
     "output_type": "execute_result"
    }
   ],
   "source": [
    "FF.places_finite(2)"
   ]
  },
  {
   "cell_type": "code",
   "execution_count": 31,
   "metadata": {},
   "outputs": [
    {
     "data": {
      "text/plain": [
       "(Finite Field of size 17,\n",
       " Ring morphism:\n",
       "   From: Finite Field of size 17\n",
       "   To:   Valuation ring at Place (t + 1),\n",
       " Ring morphism:\n",
       "   From: Valuation ring at Place (t + 1)\n",
       "   To:   Finite Field of size 17)"
      ]
     },
     "execution_count": 31,
     "metadata": {},
     "output_type": "execute_result"
    }
   ],
   "source": [
    "p.residue_field()"
   ]
  },
  {
   "cell_type": "code",
   "execution_count": 39,
   "metadata": {
    "scrolled": true
   },
   "outputs": [
    {
     "ename": "TypeError",
     "evalue": "R (=Valuation ring at Place (t + 1)) must be a commutative ring",
     "output_type": "error",
     "traceback": [
      "\u001b[0;31m---------------------------------------------------------------------------\u001b[0m",
      "\u001b[0;31mTypeError\u001b[0m                                 Traceback (most recent call last)",
      "\u001b[0;32m<ipython-input-39-b4277feea70d>\u001b[0m in \u001b[0;36m<module>\u001b[0;34m\u001b[0m\n\u001b[0;32m----> 1\u001b[0;31m \u001b[0mDS\u001b[0m\u001b[0;34m.\u001b[0m\u001b[0mchange_ring\u001b[0m\u001b[0;34m(\u001b[0m\u001b[0mp\u001b[0m\u001b[0;34m.\u001b[0m\u001b[0mvaluation_ring\u001b[0m\u001b[0;34m(\u001b[0m\u001b[0;34m)\u001b[0m\u001b[0;34m)\u001b[0m\u001b[0;34m\u001b[0m\u001b[0;34m\u001b[0m\u001b[0m\n\u001b[0m",
      "\u001b[0;32m~/Documents/Sage/local/lib/python3.9/site-packages/sage/dynamics/arithmetic_dynamics/generic_ds.py\u001b[0m in \u001b[0;36mchange_ring\u001b[0;34m(self, R, check)\u001b[0m\n\u001b[1;32m    300\u001b[0m         \"\"\"\n\u001b[1;32m    301\u001b[0m         \u001b[0mf\u001b[0m \u001b[0;34m=\u001b[0m \u001b[0mself\u001b[0m\u001b[0;34m.\u001b[0m\u001b[0mas_scheme_morphism\u001b[0m\u001b[0;34m(\u001b[0m\u001b[0;34m)\u001b[0m\u001b[0;34m\u001b[0m\u001b[0;34m\u001b[0m\u001b[0m\n\u001b[0;32m--> 302\u001b[0;31m         \u001b[0mF\u001b[0m \u001b[0;34m=\u001b[0m \u001b[0mf\u001b[0m\u001b[0;34m.\u001b[0m\u001b[0mchange_ring\u001b[0m\u001b[0;34m(\u001b[0m\u001b[0mR\u001b[0m\u001b[0;34m)\u001b[0m\u001b[0;34m\u001b[0m\u001b[0;34m\u001b[0m\u001b[0m\n\u001b[0m\u001b[1;32m    303\u001b[0m         \u001b[0;32mreturn\u001b[0m \u001b[0mF\u001b[0m\u001b[0;34m.\u001b[0m\u001b[0mas_dynamical_system\u001b[0m\u001b[0;34m(\u001b[0m\u001b[0;34m)\u001b[0m\u001b[0;34m\u001b[0m\u001b[0;34m\u001b[0m\u001b[0m\n\u001b[1;32m    304\u001b[0m \u001b[0;34m\u001b[0m\u001b[0m\n",
      "\u001b[0;32m~/Documents/Sage/local/lib/python3.9/site-packages/sage/schemes/generic/morphism.py\u001b[0m in \u001b[0;36mchange_ring\u001b[0;34m(self, R, check)\u001b[0m\n\u001b[1;32m   1483\u001b[0m                     \u001b[0;34m(\u001b[0m\u001b[0mx\u001b[0m\u001b[0;34m/\u001b[0m\u001b[0my\u001b[0m\u001b[0;34m,\u001b[0m \u001b[0my\u001b[0m\u001b[0;34m)\u001b[0m\u001b[0;34m\u001b[0m\u001b[0;34m\u001b[0m\u001b[0m\n\u001b[1;32m   1484\u001b[0m         \"\"\"\n\u001b[0;32m-> 1485\u001b[0;31m         \u001b[0mT\u001b[0m \u001b[0;34m=\u001b[0m \u001b[0mself\u001b[0m\u001b[0;34m.\u001b[0m\u001b[0mdomain\u001b[0m\u001b[0;34m(\u001b[0m\u001b[0;34m)\u001b[0m\u001b[0;34m.\u001b[0m\u001b[0mchange_ring\u001b[0m\u001b[0;34m(\u001b[0m\u001b[0mR\u001b[0m\u001b[0;34m)\u001b[0m\u001b[0;34m\u001b[0m\u001b[0;34m\u001b[0m\u001b[0m\n\u001b[0m\u001b[1;32m   1486\u001b[0m         \u001b[0;32mif\u001b[0m \u001b[0mself\u001b[0m\u001b[0;34m.\u001b[0m\u001b[0mis_endomorphism\u001b[0m\u001b[0;34m(\u001b[0m\u001b[0;34m)\u001b[0m\u001b[0;34m:\u001b[0m\u001b[0;34m\u001b[0m\u001b[0;34m\u001b[0m\u001b[0m\n\u001b[1;32m   1487\u001b[0m             \u001b[0mH\u001b[0m \u001b[0;34m=\u001b[0m \u001b[0mEnd\u001b[0m\u001b[0;34m(\u001b[0m\u001b[0mT\u001b[0m\u001b[0;34m)\u001b[0m\u001b[0;34m\u001b[0m\u001b[0;34m\u001b[0m\u001b[0m\n",
      "\u001b[0;32m~/Documents/Sage/local/lib/python3.9/site-packages/sage/schemes/projective/projective_space.py\u001b[0m in \u001b[0;36mchange_ring\u001b[0;34m(self, R)\u001b[0m\n\u001b[1;32m    912\u001b[0m                                self.variable_names())\n\u001b[1;32m    913\u001b[0m         \u001b[0;32melse\u001b[0m\u001b[0;34m:\u001b[0m\u001b[0;34m\u001b[0m\u001b[0;34m\u001b[0m\u001b[0m\n\u001b[0;32m--> 914\u001b[0;31m             return ProjectiveSpace(self.dimension_relative(), R,\n\u001b[0m\u001b[1;32m    915\u001b[0m                                self.variable_names())\n\u001b[1;32m    916\u001b[0m \u001b[0;34m\u001b[0m\u001b[0m\n",
      "\u001b[0;32m~/Documents/Sage/local/lib/python3.9/site-packages/sage/schemes/projective/projective_space.py\u001b[0m in \u001b[0;36mProjectiveSpace\u001b[0;34m(n, R, names)\u001b[0m\n\u001b[1;32m    262\u001b[0m         \u001b[0;32mreturn\u001b[0m \u001b[0mProjectiveSpace_ring\u001b[0m\u001b[0;34m(\u001b[0m\u001b[0mn\u001b[0m\u001b[0;34m,\u001b[0m \u001b[0mR\u001b[0m\u001b[0;34m,\u001b[0m \u001b[0mnames\u001b[0m\u001b[0;34m)\u001b[0m\u001b[0;34m\u001b[0m\u001b[0;34m\u001b[0m\u001b[0m\n\u001b[1;32m    263\u001b[0m     \u001b[0;32melse\u001b[0m\u001b[0;34m:\u001b[0m\u001b[0;34m\u001b[0m\u001b[0;34m\u001b[0m\u001b[0m\n\u001b[0;32m--> 264\u001b[0;31m         \u001b[0;32mraise\u001b[0m \u001b[0mTypeError\u001b[0m\u001b[0;34m(\u001b[0m\u001b[0;34m\"R (=%s) must be a commutative ring\"\u001b[0m \u001b[0;34m%\u001b[0m \u001b[0mR\u001b[0m\u001b[0;34m)\u001b[0m\u001b[0;34m\u001b[0m\u001b[0;34m\u001b[0m\u001b[0m\n\u001b[0m\u001b[1;32m    265\u001b[0m \u001b[0;34m\u001b[0m\u001b[0m\n\u001b[1;32m    266\u001b[0m \u001b[0;34m\u001b[0m\u001b[0m\n",
      "\u001b[0;31mTypeError\u001b[0m: R (=Valuation ring at Place (t + 1)) must be a commutative ring"
     ]
    }
   ],
   "source": [
    "DS.change_ring(p.valuation_ring())"
   ]
  },
  {
   "cell_type": "code",
   "execution_count": 5,
   "metadata": {},
   "outputs": [
    {
     "data": {
      "text/plain": [
       "Residue field of Principal ideal (t + 1) of Univariate Polynomial Ring in t over Finite Field of size 5"
      ]
     },
     "execution_count": 5,
     "metadata": {},
     "output_type": "execute_result"
    }
   ],
   "source": [
    "sage: R.<t> = GF(5)[] \n",
    "sage: I = R.ideal(t + 1)\n",
    "sage: k = ResidueField(I); k "
   ]
  },
  {
   "cell_type": "code",
   "execution_count": 7,
   "metadata": {},
   "outputs": [
    {
     "data": {
      "text/plain": [
       "Dynamical System of Projective Space of dimension 1 over Finite Field of size 5\n",
       "  Defn: Defined on coordinates by sending (x : y) to\n",
       "        (x^2 - y^2 : y^2)"
      ]
     },
     "execution_count": 7,
     "metadata": {},
     "output_type": "execute_result"
    }
   ],
   "source": [
    "F.<t> = FractionField(R)\n",
    "P.<x,y> = ProjectiveSpace(F, 1)\n",
    "f = DynamicalSystem([x^2 + t*y^2, y^2])\n",
    "f.change_ring(k).change_ring(GF(5))"
   ]
  },
  {
   "cell_type": "code",
   "execution_count": 60,
   "metadata": {},
   "outputs": [
    {
     "data": {
      "text/plain": [
       "0"
      ]
     },
     "execution_count": 60,
     "metadata": {},
     "output_type": "execute_result"
    }
   ],
   "source": [
    "P.<x,y> = ProjectiveSpace(R, 1)\n",
    "f = DynamicalSystem([(t+1)*x^2 + y^2, y^2])\n",
    "g = f.change_ring(k).change_ring(GF(5))\n",
    "g.normalize_coordinates()\n",
    "g.degree()"
   ]
  },
  {
   "cell_type": "code",
   "execution_count": 61,
   "metadata": {},
   "outputs": [
    {
     "ename": "TypeError",
     "evalue": "Unable to enumerate points over Univariate Polynomial Ring in t over Finite Field of size 5.",
     "output_type": "error",
     "traceback": [
      "\u001b[0;31m---------------------------------------------------------------------------\u001b[0m",
      "\u001b[0;31mTypeError\u001b[0m                                 Traceback (most recent call last)",
      "\u001b[0;32m~/Documents/Sage/local/lib/python3.9/site-packages/sage/schemes/generic/algebraic_scheme.py\u001b[0m in \u001b[0;36mrational_points\u001b[0;34m(self, **kwds)\u001b[0m\n\u001b[1;32m   1827\u001b[0m             \u001b[0mX\u001b[0m \u001b[0;34m=\u001b[0m \u001b[0mself\u001b[0m\u001b[0;34m.\u001b[0m\u001b[0mbase_extend\u001b[0m\u001b[0;34m(\u001b[0m\u001b[0mF\u001b[0m\u001b[0;34m)\u001b[0m\u001b[0;34m(\u001b[0m\u001b[0mF\u001b[0m\u001b[0;34m)\u001b[0m\u001b[0;34m\u001b[0m\u001b[0;34m\u001b[0m\u001b[0m\n\u001b[0;32m-> 1828\u001b[0;31m             \u001b[0;32mreturn\u001b[0m \u001b[0mX\u001b[0m\u001b[0;34m.\u001b[0m\u001b[0mpoints\u001b[0m\u001b[0;34m(\u001b[0m\u001b[0;34m)\u001b[0m\u001b[0;34m\u001b[0m\u001b[0;34m\u001b[0m\u001b[0m\n\u001b[0m\u001b[1;32m   1829\u001b[0m         \u001b[0;32mexcept\u001b[0m \u001b[0mTypeError\u001b[0m\u001b[0;34m:\u001b[0m\u001b[0;34m\u001b[0m\u001b[0;34m\u001b[0m\u001b[0m\n",
      "\u001b[0;32m~/Documents/Sage/local/lib/python3.9/site-packages/sage/schemes/projective/projective_homset.py\u001b[0m in \u001b[0;36mpoints\u001b[0;34m(self, B)\u001b[0m\n\u001b[1;32m    524\u001b[0m         \u001b[0;32melse\u001b[0m\u001b[0;34m:\u001b[0m\u001b[0;34m\u001b[0m\u001b[0;34m\u001b[0m\u001b[0m\n\u001b[0;32m--> 525\u001b[0;31m             \u001b[0;32mraise\u001b[0m \u001b[0mTypeError\u001b[0m\u001b[0;34m(\u001b[0m\u001b[0;34m\"unable to enumerate points over %s\"\u001b[0m\u001b[0;34m%\u001b[0m\u001b[0mR\u001b[0m\u001b[0;34m)\u001b[0m\u001b[0;34m\u001b[0m\u001b[0;34m\u001b[0m\u001b[0m\n\u001b[0m\u001b[1;32m    526\u001b[0m \u001b[0;34m\u001b[0m\u001b[0m\n",
      "\u001b[0;31mTypeError\u001b[0m: unable to enumerate points over Univariate Polynomial Ring in t over Finite Field of size 5",
      "\nDuring handling of the above exception, another exception occurred:\n",
      "\u001b[0;31mTypeError\u001b[0m                                 Traceback (most recent call last)",
      "\u001b[0;32m<ipython-input-61-5e05ecd240ab>\u001b[0m in \u001b[0;36m<module>\u001b[0;34m\u001b[0m\n\u001b[1;32m      1\u001b[0m \u001b[0mX\u001b[0m \u001b[0;34m=\u001b[0m \u001b[0mP\u001b[0m\u001b[0;34m.\u001b[0m\u001b[0msubscheme\u001b[0m\u001b[0;34m(\u001b[0m\u001b[0mx\u001b[0m\u001b[0;34m)\u001b[0m\u001b[0;34m\u001b[0m\u001b[0;34m\u001b[0m\u001b[0m\n\u001b[0;32m----> 2\u001b[0;31m \u001b[0mX\u001b[0m\u001b[0;34m.\u001b[0m\u001b[0mrational_points\u001b[0m\u001b[0;34m(\u001b[0m\u001b[0;34m)\u001b[0m\u001b[0;34m\u001b[0m\u001b[0;34m\u001b[0m\u001b[0m\n\u001b[0m",
      "\u001b[0;32m~/Documents/Sage/local/lib/python3.9/site-packages/sage/schemes/generic/algebraic_scheme.py\u001b[0m in \u001b[0;36mrational_points\u001b[0;34m(self, **kwds)\u001b[0m\n\u001b[1;32m   1828\u001b[0m             \u001b[0;32mreturn\u001b[0m \u001b[0mX\u001b[0m\u001b[0;34m.\u001b[0m\u001b[0mpoints\u001b[0m\u001b[0;34m(\u001b[0m\u001b[0;34m)\u001b[0m\u001b[0;34m\u001b[0m\u001b[0;34m\u001b[0m\u001b[0m\n\u001b[1;32m   1829\u001b[0m         \u001b[0;32mexcept\u001b[0m \u001b[0mTypeError\u001b[0m\u001b[0;34m:\u001b[0m\u001b[0;34m\u001b[0m\u001b[0;34m\u001b[0m\u001b[0m\n\u001b[0;32m-> 1830\u001b[0;31m             \u001b[0;32mraise\u001b[0m \u001b[0mTypeError\u001b[0m\u001b[0;34m(\u001b[0m\u001b[0;34m\"Unable to enumerate points over %s.\"\u001b[0m\u001b[0;34m%\u001b[0m\u001b[0mF\u001b[0m\u001b[0;34m)\u001b[0m\u001b[0;34m\u001b[0m\u001b[0;34m\u001b[0m\u001b[0m\n\u001b[0m\u001b[1;32m   1831\u001b[0m \u001b[0;34m\u001b[0m\u001b[0m\n\u001b[1;32m   1832\u001b[0m     \u001b[0;32mdef\u001b[0m \u001b[0mchange_ring\u001b[0m\u001b[0;34m(\u001b[0m\u001b[0mself\u001b[0m\u001b[0;34m,\u001b[0m \u001b[0mR\u001b[0m\u001b[0;34m)\u001b[0m\u001b[0;34m:\u001b[0m\u001b[0;34m\u001b[0m\u001b[0;34m\u001b[0m\u001b[0m\n",
      "\u001b[0;31mTypeError\u001b[0m: Unable to enumerate points over Univariate Polynomial Ring in t over Finite Field of size 5."
     ]
    }
   ],
   "source": [
    "X = P.subscheme(x)\n",
    "X.rational_points()"
   ]
  },
  {
   "cell_type": "code",
   "execution_count": 1,
   "metadata": {},
   "outputs": [
    {
     "name": "stdout",
     "output_type": "stream",
     "text": [
      "Closed subscheme of Projective Space of dimension 1 over Rational function field in t over Finite Field of size 3 defined by:\n",
      "  x^8*y + t*x^6*y^3 + 2*t*x^4*y^5 + (t^3 + t^2)*x^2*y^7 - x*y^8 + (t^4 + 2*t^3 + t^2 + t)*y^9\n"
     ]
    },
    {
     "data": {
      "text/plain": [
       "[(1 : 0)]"
      ]
     },
     "execution_count": 1,
     "metadata": {},
     "output_type": "execute_result"
    }
   ],
   "source": [
    "K = GF(3)\n",
    "FF.<t> = FunctionField(K)\n",
    "P.<x,y> = ProjectiveSpace(FF,1)\n",
    "DS1 = DynamicalSystem([x^2 + t*y^2, y^2])\n",
    "X = DS1.periodic_points(3, minimal=False, return_scheme=True)\n",
    "print(X)\n",
    "X.rational_points()"
   ]
  },
  {
   "cell_type": "code",
   "execution_count": 3,
   "metadata": {},
   "outputs": [
    {
     "data": {
      "text/plain": [
       "t"
      ]
     },
     "execution_count": 3,
     "metadata": {},
     "output_type": "execute_result"
    }
   ],
   "source": [
    "FF.places_finite(1)[0].local_uniformizer()"
   ]
  },
  {
   "cell_type": "code",
   "execution_count": null,
   "metadata": {},
   "outputs": [],
   "source": []
  }
 ],
 "metadata": {
  "kernelspec": {
   "display_name": "SageMath 9.4.rc1",
   "language": "sage",
   "name": "sagemath"
  },
  "language_info": {
   "codemirror_mode": {
    "name": "ipython",
    "version": 3
   },
   "file_extension": ".py",
   "mimetype": "text/x-python",
   "name": "python",
   "nbconvert_exporter": "python",
   "pygments_lexer": "ipython3",
   "version": "3.9.5"
  }
 },
 "nbformat": 4,
 "nbformat_minor": 4
}
