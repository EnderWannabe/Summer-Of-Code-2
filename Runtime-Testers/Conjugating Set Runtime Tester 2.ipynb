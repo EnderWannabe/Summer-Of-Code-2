{
 "cells": [
  {
   "cell_type": "code",
   "execution_count": 1,
   "metadata": {},
   "outputs": [],
   "source": [
    "from itertools import product\n",
    "from copy import deepcopy"
   ]
  },
  {
   "cell_type": "code",
   "execution_count": 2,
   "metadata": {},
   "outputs": [],
   "source": [
    "def isLinearlyIndependent(S):\n",
    "    M = matrix([list(t) for t in S])\n",
    "    if len(S) < n+1:\n",
    "        if M.rank() == len(S):\n",
    "            return True\n",
    "        return False\n",
    "    else:\n",
    "        if any(l == 0 for l in M.minors(n+1)):\n",
    "            return False\n",
    "        return True"
   ]
  },
  {
   "cell_type": "code",
   "execution_count": 3,
   "metadata": {},
   "outputs": [],
   "source": [
    "def calculate_periodic_points(f, g):\n",
    "    return Set(f.periodic_points(1)), Set(g.periodic_points(1))"
   ]
  },
  {
   "cell_type": "code",
   "execution_count": 4,
   "metadata": {},
   "outputs": [],
   "source": [
    "def initialize_dictionaries(f, g, L, K, mult_to_point_L, mult_to_point_K, point_to_mult_L, point_to_mult_K, repeated_mult_L):\n",
    "    for i in range(len(L)):\n",
    "        mult_L = f.multiplier(L[i], 1).charpoly()\n",
    "        mult_K = g.multiplier(K[i], 1).charpoly()\n",
    "        tup_L = (mult_L, level)\n",
    "        tup_K = (mult_K, level)\n",
    "        if tup_L not in mult_to_point_L:\n",
    "            mult_to_point_L[tup_L] = [L[i]]\n",
    "        else:\n",
    "            mult_to_point_L[tup_L] += [L[i]]\n",
    "        if tup_K not in mult_to_point_K:\n",
    "            mult_to_point_K[tup_K] = [K[i]]\n",
    "        else:\n",
    "            mult_to_point_K[tup_K] += [K[i]]\n",
    "        point_to_mult_L[L[i]] = (mult_L, 0)\n",
    "        point_to_mult_K[K[i]] = (mult_K, 0)\n",
    "    for mult_L in mult_to_point_L:\n",
    "        repeated = len(mult_to_point_L[mult_L])\n",
    "        if mult_L not in mult_to_point_K:\n",
    "            pass\n",
    "        elif len(mult_to_point_K[mult_L]) != repeated:\n",
    "            pass\n",
    "        if repeated not in repeated_mult_L:\n",
    "            repeated_mult_L[repeated] = [mult_to_point_L[mult_L]]\n",
    "        else:\n",
    "            repeated_mult_L[repeated] += [mult_to_point_L[mult_L]]"
   ]
  },
  {
   "cell_type": "code",
   "execution_count": 5,
   "metadata": {},
   "outputs": [],
   "source": [
    "def find_independent_set(repeated_mult_L, source, corresponding):\n",
    "    more = True\n",
    "    for r in repeated_mult_L:\n",
    "        for point_lst in repeated_mult_L[r]:\n",
    "            for point in point_lst:\n",
    "                if isLinearlyIndependent(source + [point]):\n",
    "                    source.append(point)\n",
    "                    mult = point_to_mult_L[point]\n",
    "                    # if another point with this multiplier and level pair is in S\n",
    "                    # then the multiplier level pair will be the last element of corresponding\n",
    "                    if len(corresponding) != 0:\n",
    "                        if corresponding[-1][0] == mult:\n",
    "                            corresponding[-1][1] += 1\n",
    "                        else:\n",
    "                            corresponding.append([mult, 1])\n",
    "                    else:\n",
    "                        corresponding.append([mult, 1])\n",
    "                if len(source) == n+2:\n",
    "                    more = False\n",
    "                    break\n",
    "            if len(source) == n+2:\n",
    "                break\n",
    "        if len(source) == n+2:\n",
    "            break\n",
    "    return more"
   ]
  },
  {
   "cell_type": "code",
   "execution_count": 6,
   "metadata": {},
   "outputs": [],
   "source": [
    "def find_preimages(i_repeated_mult, point_to_mult_L, mult_to_point_K, f, g, mult_to_point_L, point_to_mult_K, repeated_mult_L, a_repeated_mult):\n",
    "    for r in i_repeated_mult:\n",
    "            for point_lst_L in i_repeated_mult[r]:\n",
    "                old_tup_L = point_to_mult_L[point_lst_L[0]]\n",
    "                #print('current tup:', old_tup_L)\n",
    "                point_lst_K = mult_to_point_K[old_tup_L]\n",
    "                mult_L = old_tup_L[0]\n",
    "                Tl = []\n",
    "                Tk = []\n",
    "                for pnt in point_lst_L:\n",
    "                    for preimage in f.rational_preimages(pnt):\n",
    "                        if preimage != pnt:\n",
    "                            Tl.append(preimage)\n",
    "                for pnt in point_lst_K:\n",
    "                    for preimage in g.rational_preimages(pnt):\n",
    "                        if preimage != pnt:\n",
    "                            Tk.append(preimage)\n",
    "                #print('Tl:', Tl)\n",
    "                #print('Tk:', Tk)\n",
    "                if len(Tl) != len(Tk):\n",
    "                    return []\n",
    "                if len(Tl) != 0:\n",
    "                    found_no_more = False\n",
    "                    new_tup_L = (mult_L, level)\n",
    "                    new_tup_K = (mult_L, level)\n",
    "                    #print('new_tup_L:', new_tup_L)\n",
    "                    mult_to_point_L[new_tup_L] = Tl\n",
    "                    mult_to_point_K[new_tup_K] = Tk\n",
    "                    for i in range(len(Tl)):\n",
    "                        point_to_mult_L[Tl[i]] = new_tup_L\n",
    "                        point_to_mult_K[Tk[i]] = new_tup_K\n",
    "                    repeated = len(Tl)\n",
    "                    if repeated not in repeated_mult_L:\n",
    "                        repeated_mult_L[repeated] = [Tl]\n",
    "                    else:\n",
    "                        repeated_mult_L[repeated] += [Tl]\n",
    "                    if repeated not in a_repeated_mult:\n",
    "                        a_repeated_mult[repeated] = [Tl]\n",
    "                    else:\n",
    "                        a_repeated_mult[repeated] += [Tl]\n",
    "                    # right now rechecking independence\n",
    "                    source = []\n",
    "                    corresponding = []\n",
    "                    more = find_independent_set(repeated_mult_L, source, corresponding)\n",
    "                if not more:\n",
    "                    break\n",
    "            if not more:\n",
    "                break\n",
    "    return more, found_no_more, source, corresponding"
   ]
  },
  {
   "cell_type": "code",
   "execution_count": 7,
   "metadata": {},
   "outputs": [],
   "source": [
    "def initialize_interator(corresponding, possible_targets, mult_to_point_K, arrangements_iterators):\n",
    "    for tup in corresponding:\n",
    "        possible_targets.append([mult_to_point_K[tup[0]], tup[1]])\n",
    "    #print('possible_targets:', possible_targets)\n",
    "    for lst in possible_targets:\n",
    "        arrangements_iterators.append(Arrangements(range(len(lst[0])), lst[1]))"
   ]
  },
  {
   "cell_type": "code",
   "execution_count": 8,
   "metadata": {},
   "outputs": [],
   "source": [
    "def find_conjugations(arrangements_iterators, possible_targets, source, Conj, f, g):\n",
    "    for tup in product(*arrangements_iterators):\n",
    "        current_target = []\n",
    "        for i in range(len(tup)):\n",
    "            for j in tup[i]:\n",
    "                current_target.append(possible_targets[i][0][j])\n",
    "        #print('current_target:', current_target)\n",
    "        try:\n",
    "            phi = f.domain().point_transformation_matrix(current_target, source)\n",
    "            #print('phi:', phi)\n",
    "            #print('phi inverse', phi.inverse())\n",
    "            #print([phi*pnt for pnt in current_target])\n",
    "            %time f.conjugate(phi) == g\n",
    "            if f.conjugate(phi) == g:\n",
    "                Conj.append(phi)\n",
    "        except ValueError:\n",
    "            pass"
   ]
  },
  {
   "cell_type": "code",
   "execution_count": 9,
   "metadata": {},
   "outputs": [],
   "source": [
    "K.<v>=CyclotomicField(3)\n",
    "P.<x,y,z> = ProjectiveSpace(K, 2)\n",
    "f = DynamicalSystem([8*x^7 - 35*x^4*y^3 - 35*x^4*z^3 - 7*x*y^6 - 140*x*y^3*z^3 - 7*x*z^6, -7*x^6*y - 35*x^3*y^4 - 140*x^3*y*z^3 + 8*y^7 - 35*y^4*z^3 - 7*y*z^6,-7*x^6*z - 140*x^3*y^3*z - 35*x^3*z^4 - 7*y^6*z - 35*y^3*z^4 + 8*z^7])\n",
    "g = f"
   ]
  },
  {
   "cell_type": "code",
   "execution_count": 10,
   "metadata": {},
   "outputs": [],
   "source": [
    "L, K = calculate_periodic_points(f,g)"
   ]
  },
  {
   "cell_type": "code",
   "execution_count": 11,
   "metadata": {},
   "outputs": [
    {
     "name": "stdout",
     "output_type": "stream",
     "text": [
      "436 ms ± 5.72 ms per loop (mean ± std. dev. of 7 runs, 1 loop each)\n"
     ]
    }
   ],
   "source": [
    "%%timeit\n",
    "L, K = calculate_periodic_points(f,g)"
   ]
  },
  {
   "cell_type": "code",
   "execution_count": 12,
   "metadata": {},
   "outputs": [],
   "source": [
    "mult_to_point_L = {}\n",
    "mult_to_point_K = {}\n",
    "point_to_mult_L = {}\n",
    "point_to_mult_K = {}\n",
    "repeated_mult_L = {}\n",
    "level = 0\n",
    "initialize_dictionaries(f, g, L, K, mult_to_point_L, mult_to_point_K, point_to_mult_L, point_to_mult_K, repeated_mult_L)"
   ]
  },
  {
   "cell_type": "code",
   "execution_count": 13,
   "metadata": {},
   "outputs": [
    {
     "name": "stdout",
     "output_type": "stream",
     "text": [
      "667 ms ± 19.6 ms per loop (mean ± std. dev. of 7 runs, 1 loop each)\n"
     ]
    }
   ],
   "source": [
    "%%timeit\n",
    "mult_to_point_L = {}\n",
    "mult_to_point_K = {}\n",
    "point_to_mult_L = {}\n",
    "point_to_mult_K = {}\n",
    "repeated_mult_L = {}\n",
    "level = 0\n",
    "initialize_dictionaries(f, g, L, K, mult_to_point_L, mult_to_point_K, point_to_mult_L, point_to_mult_K, repeated_mult_L)"
   ]
  },
  {
   "cell_type": "code",
   "execution_count": 14,
   "metadata": {},
   "outputs": [
    {
     "data": {
      "text/plain": [
       "False"
      ]
     },
     "execution_count": 14,
     "metadata": {},
     "output_type": "execute_result"
    }
   ],
   "source": [
    "source = []\n",
    "corresponding = []\n",
    "n = f.domain().dimension_relative()\n",
    "more = find_independent_set(repeated_mult_L, source, corresponding)\n",
    "more"
   ]
  },
  {
   "cell_type": "code",
   "execution_count": 15,
   "metadata": {},
   "outputs": [
    {
     "name": "stdout",
     "output_type": "stream",
     "text": [
      "7.73 ms ± 220 µs per loop (mean ± std. dev. of 7 runs, 100 loops each)\n"
     ]
    }
   ],
   "source": [
    "%%timeit\n",
    "source = []\n",
    "corresponding = []\n",
    "n = f.domain().dimension_relative()\n",
    "more = find_independent_set(repeated_mult_L, source, corresponding)"
   ]
  },
  {
   "cell_type": "code",
   "execution_count": 16,
   "metadata": {},
   "outputs": [],
   "source": [
    "i_repeated_mult = deepcopy(repeated_mult_L)\n",
    "a_repeated_mult = {}\n",
    "found_no_more = True\n",
    "while more:\n",
    "    level += 1\n",
    "    more, found_no_more, source, corresponding = (i_repeated_mult, point_to_mult_L, mult_to_point_K, f, g, mult_to_point_L, point_to_mult_K, repeated_mult_L, a_repeated_mult)\n",
    "    if found_no_more:\n",
    "        raise ValueError('no more rational preimages')\n",
    "    i_repeated_mult = deepcopy(a_repeated_mult)\n",
    "    a_repeated_mult = {}\n",
    "    found_no_more = True"
   ]
  },
  {
   "cell_type": "code",
   "execution_count": 17,
   "metadata": {},
   "outputs": [],
   "source": [
    "possible_targets = []\n",
    "arrangements_iterators = []\n",
    "initialize_interator(corresponding, possible_targets, mult_to_point_K, arrangements_iterators)"
   ]
  },
  {
   "cell_type": "code",
   "execution_count": 18,
   "metadata": {
    "scrolled": true
   },
   "outputs": [
    {
     "name": "stdout",
     "output_type": "stream",
     "text": [
      "7.8 µs ± 52 ns per loop (mean ± std. dev. of 7 runs, 100000 loops each)\n"
     ]
    }
   ],
   "source": [
    "%%timeit\n",
    "possible_targets = []\n",
    "arrangements_iterators = []\n",
    "initialize_interator(corresponding, possible_targets, mult_to_point_K, arrangements_iterators)"
   ]
  },
  {
   "cell_type": "code",
   "execution_count": 54,
   "metadata": {
    "scrolled": true
   },
   "outputs": [],
   "source": [
    "Conj = []\n",
    "find_conjugations(arrangements_iterators, possible_targets, source, Conj, f, g)"
   ]
  },
  {
   "cell_type": "code",
   "execution_count": 29,
   "metadata": {
    "scrolled": false
   },
   "outputs": [
    {
     "name": "stdout",
     "output_type": "stream",
     "text": [
      "4.96 s ± 19.7 ms per loop (mean ± std. dev. of 7 runs, 1 loop each)\n"
     ]
    }
   ],
   "source": [
    "%%timeit\n",
    "for tup in product(*arrangements_iterators):\n",
    "    pass"
   ]
  },
  {
   "cell_type": "code",
   "execution_count": 31,
   "metadata": {},
   "outputs": [
    {
     "data": {
      "text/plain": [
       "1413720"
      ]
     },
     "execution_count": 31,
     "metadata": {},
     "output_type": "execute_result"
    }
   ],
   "source": [
    "arrangements_iterators[0].cardinality()"
   ]
  },
  {
   "cell_type": "code",
   "execution_count": 76,
   "metadata": {},
   "outputs": [
    {
     "name": "stdout",
     "output_type": "stream",
     "text": [
      "CPU times: user 4.91 ms, sys: 0 ns, total: 4.91 ms\n",
      "Wall time: 4.91 ms\n",
      "CPU times: user 16.3 ms, sys: 0 ns, total: 16.3 ms\n",
      "Wall time: 15.9 ms\n",
      "CPU times: user 500 µs, sys: 0 ns, total: 500 µs\n",
      "Wall time: 502 µs\n"
     ]
    }
   ],
   "source": [
    "#%%timeit\n",
    "tup = t[6]\n",
    "current_target = []\n",
    "for i in range(len(tup)):\n",
    "    for j in tup[i]:\n",
    "        current_target.append(possible_targets[i][0][j])\n",
    "#print('current_target:', current_target)\n",
    "try:\n",
    "    %time phi = f.domain().point_transformation_matrix(current_target, source)\n",
    "    #print('phi:', phi)\n",
    "    #print('phi inverse', phi.inverse())\n",
    "    #print([phi*pnt for pnt in current_target])\n",
    "    #k = f.conjugate(phi)\n",
    "    #bo = k == g\n",
    "    %time k = f.conjugate(phi)\n",
    "    %time bo = k == g\n",
    "    if bo:\n",
    "        Conj.append(phi)\n",
    "except ValueError:\n",
    "    pass"
   ]
  },
  {
   "cell_type": "code",
   "execution_count": 20,
   "metadata": {},
   "outputs": [],
   "source": [
    "t = list(product(*arrangements_iterators))"
   ]
  },
  {
   "cell_type": "code",
   "execution_count": 21,
   "metadata": {},
   "outputs": [
    {
     "data": {
      "text/plain": [
       "11746976"
      ]
     },
     "execution_count": 21,
     "metadata": {},
     "output_type": "execute_result"
    }
   ],
   "source": [
    "sys.getsizeof(t)"
   ]
  },
  {
   "cell_type": "code",
   "execution_count": 37,
   "metadata": {},
   "outputs": [
    {
     "data": {
      "text/plain": [
       "1413720"
      ]
     },
     "execution_count": 37,
     "metadata": {},
     "output_type": "execute_result"
    }
   ],
   "source": [
    "len(t)"
   ]
  },
  {
   "cell_type": "code",
   "execution_count": 43,
   "metadata": {},
   "outputs": [
    {
     "data": {
      "text/plain": [
       "48"
      ]
     },
     "execution_count": 43,
     "metadata": {},
     "output_type": "execute_result"
    }
   ],
   "source": [
    "sys.getsizeof(t[2])"
   ]
  },
  {
   "cell_type": "code",
   "execution_count": 46,
   "metadata": {},
   "outputs": [],
   "source": [
    "size = get_size(t)"
   ]
  },
  {
   "cell_type": "code",
   "execution_count": 44,
   "metadata": {},
   "outputs": [],
   "source": [
    "import sys\n",
    "\n",
    "def get_size(obj, seen=None):\n",
    "    \"\"\"Recursively finds size of objects\"\"\"\n",
    "    size = sys.getsizeof(obj)\n",
    "    if seen is None:\n",
    "        seen = set()\n",
    "    obj_id = id(obj)\n",
    "    if obj_id in seen:\n",
    "        return 0\n",
    "    # Important mark as seen *before* entering recursion to gracefully handle\n",
    "    # self-referential objects\n",
    "    seen.add(obj_id)\n",
    "    if isinstance(obj, dict):\n",
    "        size += sum([get_size(v, seen) for v in obj.values()])\n",
    "        size += sum([get_size(k, seen) for k in obj.keys()])\n",
    "    elif hasattr(obj, '__dict__'):\n",
    "        size += get_size(obj.__dict__, seen)\n",
    "    elif hasattr(obj, '__iter__') and not isinstance(obj, (str, bytes, bytearray)):\n",
    "        size += sum([get_size(i, seen) for i in obj])\n",
    "    return size"
   ]
  },
  {
   "cell_type": "code",
   "execution_count": 49,
   "metadata": {},
   "outputs": [
    {
     "data": {
      "text/plain": [
       "351.039776000000"
      ]
     },
     "execution_count": 49,
     "metadata": {},
     "output_type": "execute_result"
    }
   ],
   "source": [
    "RR(size*10**-6)"
   ]
  },
  {
   "cell_type": "code",
   "execution_count": 56,
   "metadata": {
    "scrolled": false
   },
   "outputs": [
    {
     "data": {
      "text/plain": [
       "[]"
      ]
     },
     "execution_count": 56,
     "metadata": {},
     "output_type": "execute_result"
    }
   ],
   "source": [
    "Conj"
   ]
  },
  {
   "cell_type": "code",
   "execution_count": 22,
   "metadata": {},
   "outputs": [],
   "source": [
    "def test_conj(tup):\n",
    "    current_target = []\n",
    "    for i in range(len(tup)):\n",
    "        for j in tup[i]:\n",
    "            current_target.append(possible_targets[i][0][j])\n",
    "    try:\n",
    "        phi = f.domain().point_transformation_matrix(current_target, source)\n",
    "        if f.conjugate(phi) == g:\n",
    "            return phi\n",
    "    except ValueError:\n",
    "        pass\n",
    "    return None"
   ]
  },
  {
   "cell_type": "code",
   "execution_count": 23,
   "metadata": {},
   "outputs": [
    {
     "data": {
      "text/plain": [
       "[1 0 0]\n",
       "[0 1 0]\n",
       "[0 0 1]"
      ]
     },
     "execution_count": 23,
     "metadata": {},
     "output_type": "execute_result"
    }
   ],
   "source": [
    "test_conj(t[0])"
   ]
  },
  {
   "cell_type": "code",
   "execution_count": 24,
   "metadata": {},
   "outputs": [],
   "source": [
    "from sage.parallel.use_fork import p_iter_fork"
   ]
  },
  {
   "cell_type": "code",
   "execution_count": 28,
   "metadata": {},
   "outputs": [
    {
     "name": "stdout",
     "output_type": "stream",
     "text": [
      "([([0, 1, 2, 3],)], {})\n",
      "([([0, 1, 2, 4],)], {})\n",
      "([([0, 1, 2, 5],)], {})\n",
      "([([0, 1, 2, 6],)], {})\n",
      "([([0, 1, 2, 7],)], {})\n",
      "([([0, 1, 2, 8],)], {})\n",
      "([([0, 1, 2, 9],)], {})\n",
      "([([0, 1, 2, 10],)], {})\n",
      "([([0, 1, 2, 11],)], {})\n",
      "([([0, 1, 2, 12],)], {})\n",
      "([([0, 1, 2, 13],)], {})\n",
      "([([0, 1, 2, 14],)], {})\n",
      "([([0, 1, 2, 15],)], {})\n",
      "([([0, 1, 2, 16],)], {})\n",
      "([([0, 1, 2, 17],)], {})\n",
      "([([0, 1, 2, 18],)], {})\n",
      "([([0, 1, 2, 19],)], {})\n",
      "([([0, 1, 2, 20],)], {})\n",
      "([([0, 1, 2, 21],)], {})\n",
      "([([0, 1, 2, 22],)], {})\n",
      "([([0, 1, 2, 23],)], {})\n",
      "([([0, 1, 2, 24],)], {})\n",
      "([([0, 1, 2, 25],)], {})\n",
      "([([0, 1, 2, 26],)], {})\n",
      "([([0, 1, 2, 27],)], {})\n",
      "([([0, 1, 2, 28],)], {})\n",
      "([([0, 1, 2, 29],)], {})\n",
      "([([0, 1, 2, 30],)], {})\n",
      "([([0, 1, 2, 31],)], {})\n",
      "([([0, 1, 2, 32],)], {})\n",
      "([([0, 1, 2, 33],)], {})\n",
      "([([0, 1, 2, 34],)], {})\n",
      "([([0, 1, 2, 35],)], {})\n",
      "([([0, 1, 3, 2],)], {})\n",
      "([([0, 1, 3, 4],)], {})\n",
      "([([0, 1, 3, 5],)], {})\n",
      "([([0, 1, 3, 6],)], {})\n",
      "([([0, 1, 3, 7],)], {})\n",
      "([([0, 1, 3, 8],)], {})\n",
      "([([0, 1, 3, 9],)], {})\n",
      "([([0, 1, 3, 10],)], {})\n",
      "([([0, 1, 3, 11],)], {})\n",
      "([([0, 1, 3, 12],)], {})\n",
      "([([0, 1, 3, 13],)], {})\n",
      "([([0, 1, 3, 14],)], {})\n",
      "([([0, 1, 3, 15],)], {})\n",
      "([([0, 1, 3, 16],)], {})\n",
      "([([0, 1, 3, 17],)], {})\n",
      "([([0, 1, 3, 18],)], {})\n",
      "([([0, 1, 3, 19],)], {})\n",
      "([([0, 1, 3, 20],)], {})\n",
      "([([0, 1, 3, 21],)], {})\n",
      "([([0, 1, 3, 22],)], {})\n",
      "([([0, 1, 3, 23],)], {})\n",
      "([([0, 1, 3, 24],)], {})\n",
      "([([0, 1, 3, 25],)], {})\n",
      "([([0, 1, 3, 27],)], {})\n",
      "([([0, 1, 3, 26],)], {})\n",
      "([([0, 1, 3, 28],)], {})\n",
      "([([0, 1, 3, 29],)], {})\n",
      "([([0, 1, 3, 30],)], {})\n",
      "([([0, 1, 3, 31],)], {})\n",
      "([([0, 1, 3, 32],)], {})\n",
      "([([0, 1, 3, 33],)], {})\n",
      "([([0, 1, 3, 34],)], {})\n",
      "([([0, 1, 3, 35],)], {})\n",
      "([([0, 1, 4, 2],)], {})\n",
      "([([0, 1, 4, 3],)], {})\n",
      "([([0, 1, 4, 5],)], {})\n",
      "([([0, 1, 4, 6],)], {})\n",
      "([([0, 1, 4, 7],)], {})\n",
      "([([0, 1, 4, 8],)], {})\n",
      "([([0, 1, 4, 9],)], {})\n",
      "([([0, 1, 4, 10],)], {})\n",
      "([([0, 1, 4, 11],)], {})\n",
      "([([0, 1, 4, 12],)], {})\n",
      "([([0, 1, 4, 13],)], {})\n",
      "([([0, 1, 4, 14],)], {})\n",
      "([([0, 1, 4, 15],)], {})\n",
      "([([0, 1, 4, 16],)], {})\n",
      "([([0, 1, 4, 17],)], {})\n",
      "([([0, 1, 4, 18],)], {})\n",
      "([([0, 1, 4, 19],)], {})\n",
      "([([0, 1, 4, 20],)], {})\n",
      "([([0, 1, 4, 21],)], {})\n",
      "([([0, 1, 4, 22],)], {})\n",
      "([([0, 1, 4, 23],)], {})\n",
      "([([0, 1, 4, 24],)], {})\n",
      "([([0, 1, 4, 25],)], {})\n",
      "([([0, 1, 4, 26],)], {})\n",
      "([([0, 1, 4, 27],)], {})\n",
      "([([0, 1, 4, 28],)], {})\n",
      "([([0, 1, 4, 29],)], {})\n",
      "([([0, 1, 4, 30],)], {})\n",
      "([([0, 1, 4, 31],)], {})\n",
      "([([0, 1, 4, 32],)], {})\n",
      "([([0, 1, 4, 33],)], {})\n",
      "([([0, 1, 4, 34],)], {})\n",
      "([([0, 1, 4, 35],)], {})\n",
      "([([0, 1, 5, 2],)], {})\n",
      "([([0, 1, 5, 3],)], {})\n",
      "([([0, 1, 5, 4],)], {})\n",
      "([([0, 1, 5, 6],)], {})\n",
      "([([0, 1, 5, 7],)], {})\n",
      "([([0, 1, 5, 8],)], {})\n",
      "([([0, 1, 5, 9],)], {})\n",
      "([([0, 1, 5, 10],)], {})\n",
      "([([0, 1, 5, 11],)], {})\n",
      "([([0, 1, 5, 12],)], {})\n",
      "([([0, 1, 5, 13],)], {})\n",
      "([([0, 1, 5, 14],)], {})\n",
      "([([0, 1, 5, 15],)], {})\n",
      "([([0, 1, 5, 16],)], {})\n",
      "([([0, 1, 5, 17],)], {})\n",
      "([([0, 1, 5, 18],)], {})\n",
      "([([0, 1, 5, 19],)], {})\n",
      "([([0, 1, 5, 20],)], {})\n",
      "([([0, 1, 5, 21],)], {})\n",
      "([([0, 1, 5, 22],)], {})\n",
      "([([0, 1, 5, 23],)], {})\n",
      "([([0, 1, 5, 24],)], {})\n",
      "([([0, 1, 5, 25],)], {})\n",
      "([([0, 1, 5, 26],)], {})\n",
      "([([0, 1, 5, 27],)], {})\n",
      "([([0, 1, 5, 28],)], {})\n",
      "([([0, 1, 5, 29],)], {})\n",
      "([([0, 1, 5, 30],)], {})\n",
      "([([0, 1, 5, 31],)], {})\n",
      "([([0, 1, 5, 32],)], {})\n",
      "([([0, 1, 5, 33],)], {})\n",
      "([([0, 1, 5, 34],)], {})\n",
      "([([0, 1, 5, 35],)], {})\n",
      "([([0, 1, 6, 2],)], {})\n",
      "([([0, 1, 6, 3],)], {})\n",
      "([([0, 1, 6, 4],)], {})\n",
      "([([0, 1, 6, 5],)], {})\n",
      "([([0, 1, 6, 7],)], {})\n",
      "([([0, 1, 6, 8],)], {})\n",
      "([([0, 1, 6, 9],)], {})\n",
      "([([0, 1, 6, 10],)], {})\n",
      "([([0, 1, 6, 11],)], {})\n",
      "([([0, 1, 6, 12],)], {})\n",
      "([([0, 1, 6, 13],)], {})\n",
      "([([0, 1, 6, 14],)], {})\n",
      "([([0, 1, 6, 15],)], {})\n",
      "([([0, 1, 6, 16],)], {})\n",
      "([([0, 1, 6, 17],)], {})\n",
      "([([0, 1, 6, 18],)], {})\n",
      "([([0, 1, 6, 19],)], {})\n",
      "([([0, 1, 6, 20],)], {})\n",
      "([([0, 1, 6, 21],)], {})\n",
      "([([0, 1, 6, 22],)], {})\n",
      "([([0, 1, 6, 23],)], {})\n",
      "([([0, 1, 6, 24],)], {})\n",
      "([([0, 1, 6, 26],)], {})\n",
      "([([0, 1, 6, 25],)], {})\n",
      "([([0, 1, 6, 27],)], {})\n",
      "([([0, 1, 6, 28],)], {})\n",
      "([([0, 1, 6, 29],)], {})\n",
      "([([0, 1, 6, 30],)], {})\n",
      "([([0, 1, 6, 31],)], {})\n",
      "([([0, 1, 6, 32],)], {})\n",
      "([([0, 1, 6, 33],)], {})\n",
      "([([0, 1, 6, 34],)], {})\n",
      "([([0, 1, 6, 35],)], {})\n",
      "([([0, 1, 7, 2],)], {})\n",
      "([([0, 1, 7, 3],)], {})\n",
      "([([0, 1, 7, 4],)], {})\n",
      "([([0, 1, 7, 5],)], {})\n",
      "([([0, 1, 7, 6],)], {})\n",
      "([([0, 1, 7, 8],)], {})\n",
      "([([0, 1, 7, 9],)], {})\n",
      "([([0, 1, 7, 10],)], {})\n",
      "([([0, 1, 7, 11],)], {})\n",
      "([([0, 1, 7, 12],)], {})\n",
      "([([0, 1, 7, 13],)], {})\n",
      "([([0, 1, 7, 14],)], {})\n",
      "([([0, 1, 7, 15],)], {})\n",
      "([([0, 1, 7, 16],)], {})\n",
      "([([0, 1, 7, 17],)], {})\n",
      "([([0, 1, 7, 18],)], {})\n",
      "([([0, 1, 7, 19],)], {})\n",
      "([([0, 1, 7, 20],)], {})\n",
      "([([0, 1, 7, 21],)], {})\n",
      "([([0, 1, 7, 22],)], {})\n",
      "([([0, 1, 7, 23],)], {})\n",
      "([([0, 1, 7, 24],)], {})\n",
      "([([0, 1, 7, 25],)], {})\n",
      "([([0, 1, 7, 26],)], {})\n",
      "([([0, 1, 7, 27],)], {})\n",
      "([([0, 1, 7, 28],)], {})\n",
      "([([0, 1, 7, 29],)], {})\n",
      "([([0, 1, 7, 30],)], {})\n",
      "([([0, 1, 7, 31],)], {})\n",
      "([([0, 1, 7, 32],)], {})\n",
      "([([0, 1, 7, 33],)], {})\n",
      "([([0, 1, 7, 34],)], {})\n",
      "([([0, 1, 7, 35],)], {})\n",
      "([([0, 1, 8, 2],)], {})\n",
      "([([0, 1, 8, 3],)], {})\n",
      "([([0, 1, 8, 4],)], {})\n",
      "([([0, 1, 8, 5],)], {})\n",
      "([([0, 1, 8, 6],)], {})\n",
      "([([0, 1, 8, 7],)], {})\n",
      "([([0, 1, 8, 9],)], {})\n",
      "([([0, 1, 8, 10],)], {})\n",
      "([([0, 1, 8, 11],)], {})\n",
      "([([0, 1, 8, 12],)], {})\n",
      "([([0, 1, 8, 13],)], {})\n",
      "([([0, 1, 8, 14],)], {})\n",
      "([([0, 1, 8, 15],)], {})\n",
      "([([0, 1, 8, 16],)], {})\n",
      "([([0, 1, 8, 17],)], {})\n",
      "([([0, 1, 8, 18],)], {})\n",
      "([([0, 1, 8, 19],)], {})\n",
      "([([0, 1, 8, 20],)], {})\n",
      "([([0, 1, 8, 21],)], {})\n",
      "([([0, 1, 8, 22],)], {})\n",
      "([([0, 1, 8, 23],)], {})\n",
      "([([0, 1, 8, 24],)], {})\n",
      "([([0, 1, 8, 25],)], {})\n",
      "([([0, 1, 8, 26],)], {})\n",
      "([([0, 1, 8, 27],)], {})\n",
      "([([0, 1, 8, 28],)], {})\n",
      "([([0, 1, 8, 29],)], {})\n",
      "([([0, 1, 8, 30],)], {})\n",
      "([([0, 1, 8, 31],)], {})\n",
      "([([0, 1, 8, 32],)], {})\n",
      "([([0, 1, 8, 33],)], {})\n",
      "([([0, 1, 8, 34],)], {})\n",
      "([([0, 1, 8, 35],)], {})\n",
      "([([0, 1, 9, 2],)], {})\n",
      "([([0, 1, 9, 3],)], {})\n",
      "([([0, 1, 9, 4],)], {})\n",
      "([([0, 1, 9, 5],)], {})\n",
      "([([0, 1, 9, 6],)], {})\n",
      "([([0, 1, 9, 7],)], {})\n",
      "([([0, 1, 9, 8],)], {})\n",
      "([([0, 1, 9, 10],)], {})\n",
      "([([0, 1, 9, 11],)], {})\n",
      "([([0, 1, 9, 12],)], {})\n",
      "([([0, 1, 9, 13],)], {})\n",
      "([([0, 1, 9, 14],)], {})\n",
      "([([0, 1, 9, 15],)], {})\n",
      "([([0, 1, 9, 16],)], {})\n",
      "([([0, 1, 9, 17],)], {})\n",
      "([([0, 1, 9, 18],)], {})\n",
      "([([0, 1, 9, 19],)], {})\n",
      "([([0, 1, 9, 20],)], {})\n",
      "([([0, 1, 9, 21],)], {})\n",
      "([([0, 1, 9, 22],)], {})\n",
      "([([0, 1, 9, 23],)], {})\n",
      "([([0, 1, 9, 24],)], {})\n",
      "([([0, 1, 9, 25],)], {})\n",
      "([([0, 1, 9, 26],)], {})\n",
      "([([0, 1, 9, 27],)], {})\n",
      "([([0, 1, 9, 28],)], {})\n",
      "([([0, 1, 9, 29],)], {})\n",
      "([([0, 1, 9, 30],)], {})\n",
      "([([0, 1, 9, 31],)], {})\n",
      "([([0, 1, 9, 32],)], {})\n",
      "([([0, 1, 9, 33],)], {})\n",
      "([([0, 1, 9, 34],)], {})\n",
      "([([0, 1, 9, 35],)], {})\n",
      "([([0, 1, 10, 2],)], {})\n",
      "([([0, 1, 10, 3],)], {})\n",
      "([([0, 1, 10, 4],)], {})\n",
      "([([0, 1, 10, 5],)], {})\n",
      "([([0, 1, 10, 6],)], {})\n",
      "([([0, 1, 10, 7],)], {})\n",
      "([([0, 1, 10, 8],)], {})\n",
      "([([0, 1, 10, 9],)], {})\n",
      "([([0, 1, 10, 11],)], {})\n",
      "([([0, 1, 10, 12],)], {})\n",
      "([([0, 1, 10, 13],)], {})\n",
      "([([0, 1, 10, 14],)], {})\n",
      "([([0, 1, 10, 15],)], {})\n",
      "([([0, 1, 10, 16],)], {})\n",
      "([([0, 1, 10, 17],)], {})\n",
      "([([0, 1, 10, 18],)], {})\n",
      "([([0, 1, 10, 19],)], {})\n",
      "([([0, 1, 10, 20],)], {})\n",
      "([([0, 1, 10, 21],)], {})\n",
      "([([0, 1, 10, 22],)], {})\n",
      "([([0, 1, 10, 23],)], {})\n",
      "([([0, 1, 10, 24],)], {})\n",
      "([([0, 1, 10, 25],)], {})\n",
      "([([0, 1, 10, 26],)], {})\n",
      "([([0, 1, 10, 27],)], {})\n",
      "([([0, 1, 10, 28],)], {})\n",
      "([([0, 1, 10, 29],)], {})\n",
      "([([0, 1, 10, 30],)], {})\n",
      "([([0, 1, 10, 31],)], {})\n",
      "([([0, 1, 10, 32],)], {})\n",
      "([([0, 1, 10, 33],)], {})\n",
      "([([0, 1, 10, 34],)], {})\n",
      "([([0, 1, 10, 35],)], {})\n",
      "([([0, 1, 11, 2],)], {})\n",
      "([([0, 1, 11, 3],)], {})\n",
      "([([0, 1, 11, 4],)], {})\n",
      "([([0, 1, 11, 5],)], {})\n",
      "([([0, 1, 11, 6],)], {})\n",
      "([([0, 1, 11, 7],)], {})\n",
      "([([0, 1, 11, 8],)], {})\n",
      "([([0, 1, 11, 9],)], {})\n",
      "([([0, 1, 11, 10],)], {})\n",
      "([([0, 1, 11, 12],)], {})\n",
      "([([0, 1, 11, 13],)], {})\n",
      "([([0, 1, 11, 14],)], {})\n",
      "([([0, 1, 11, 15],)], {})\n",
      "([([0, 1, 11, 16],)], {})\n",
      "([([0, 1, 11, 17],)], {})\n",
      "([([0, 1, 11, 18],)], {})\n",
      "([([0, 1, 11, 19],)], {})\n",
      "([([0, 1, 11, 20],)], {})\n",
      "([([0, 1, 11, 21],)], {})\n",
      "([([0, 1, 11, 22],)], {})\n",
      "([([0, 1, 11, 23],)], {})\n",
      "([([0, 1, 11, 24],)], {})\n",
      "([([0, 1, 11, 25],)], {})\n",
      "([([0, 1, 11, 26],)], {})\n",
      "([([0, 1, 11, 27],)], {})\n",
      "([([0, 1, 11, 28],)], {})\n",
      "([([0, 1, 11, 29],)], {})\n",
      "([([0, 1, 11, 30],)], {})\n",
      "([([0, 1, 11, 31],)], {})\n",
      "([([0, 1, 11, 32],)], {})\n",
      "([([0, 1, 11, 33],)], {})\n",
      "([([0, 1, 11, 34],)], {})\n"
     ]
    },
    {
     "name": "stdout",
     "output_type": "stream",
     "text": [
      "([([0, 1, 11, 35],)], {})\n",
      "([([0, 1, 12, 2],)], {})\n",
      "([([0, 1, 12, 3],)], {})\n",
      "([([0, 1, 12, 4],)], {})\n",
      "([([0, 1, 12, 5],)], {})\n",
      "([([0, 1, 12, 6],)], {})\n",
      "([([0, 1, 12, 7],)], {})\n",
      "([([0, 1, 12, 8],)], {})\n",
      "([([0, 1, 12, 9],)], {})\n",
      "([([0, 1, 12, 10],)], {})\n",
      "([([0, 1, 12, 11],)], {})\n",
      "([([0, 1, 12, 13],)], {})\n",
      "([([0, 1, 12, 14],)], {})\n",
      "([([0, 1, 12, 15],)], {})\n",
      "([([0, 1, 12, 16],)], {})\n",
      "([([0, 1, 12, 18],)], {})\n",
      "([([0, 1, 12, 17],)], {})\n",
      "([([0, 1, 12, 19],)], {})\n",
      "([([0, 1, 12, 20],)], {})\n",
      "([([0, 1, 12, 21],)], {})\n",
      "([([0, 1, 12, 22],)], {})\n",
      "([([0, 1, 12, 23],)], {})\n",
      "([([0, 1, 12, 24],)], {})\n",
      "([([0, 1, 12, 25],)], {})\n",
      "([([0, 1, 12, 26],)], {})\n",
      "([([0, 1, 12, 27],)], {})\n",
      "([([0, 1, 12, 28],)], {})\n",
      "([([0, 1, 12, 29],)], {})\n",
      "([([0, 1, 12, 30],)], {})\n",
      "([([0, 1, 12, 31],)], {})\n",
      "([([0, 1, 12, 32],)], {})\n",
      "([([0, 1, 12, 33],)], {})\n",
      "([([0, 1, 12, 34],)], {})\n",
      "([([0, 1, 12, 35],)], {})\n",
      "([([0, 1, 13, 2],)], {})\n",
      "([([0, 1, 13, 3],)], {})\n",
      "([([0, 1, 13, 4],)], {})\n",
      "([([0, 1, 13, 5],)], {})\n",
      "([([0, 1, 13, 6],)], {})\n",
      "([([0, 1, 13, 7],)], {})\n",
      "([([0, 1, 13, 8],)], {})\n",
      "([([0, 1, 13, 9],)], {})\n",
      "([([0, 1, 13, 10],)], {})\n",
      "([([0, 1, 13, 11],)], {})\n",
      "([([0, 1, 13, 12],)], {})\n",
      "([([0, 1, 13, 14],)], {})\n",
      "([([0, 1, 13, 15],)], {})\n",
      "([([0, 1, 13, 17],)], {})\n",
      "([([0, 1, 13, 16],)], {})\n",
      "([([0, 1, 13, 18],)], {})\n",
      "([([0, 1, 13, 19],)], {})\n",
      "([([0, 1, 13, 20],)], {})\n",
      "([([0, 1, 13, 21],)], {})\n",
      "([([0, 1, 13, 22],)], {})\n",
      "([([0, 1, 13, 23],)], {})\n",
      "([([0, 1, 13, 24],)], {})\n",
      "([([0, 1, 13, 25],)], {})\n",
      "([([0, 1, 13, 26],)], {})\n",
      "([([0, 1, 13, 27],)], {})\n",
      "([([0, 1, 13, 28],)], {})\n",
      "([([0, 1, 13, 29],)], {})\n",
      "([([0, 1, 13, 30],)], {})\n",
      "([([0, 1, 13, 31],)], {})\n",
      "([([0, 1, 13, 32],)], {})\n",
      "([([0, 1, 13, 33],)], {})\n",
      "([([0, 1, 13, 34],)], {})\n",
      "([([0, 1, 13, 35],)], {})\n",
      "([([0, 1, 14, 2],)], {})\n",
      "([([0, 1, 14, 3],)], {})\n",
      "([([0, 1, 14, 4],)], {})\n",
      "([([0, 1, 14, 5],)], {})\n",
      "([([0, 1, 14, 6],)], {})\n",
      "([([0, 1, 14, 7],)], {})\n",
      "([([0, 1, 14, 8],)], {})\n",
      "([([0, 1, 14, 9],)], {})\n",
      "([([0, 1, 14, 10],)], {})\n",
      "([([0, 1, 14, 12],)], {})\n",
      "([([0, 1, 14, 11],)], {})\n",
      "([([0, 1, 14, 13],)], {})\n",
      "([([0, 1, 14, 15],)], {})\n",
      "([([0, 1, 14, 16],)], {})\n",
      "([([0, 1, 14, 17],)], {})\n",
      "([([0, 1, 14, 18],)], {})\n",
      "([([0, 1, 14, 19],)], {})\n",
      "([([0, 1, 14, 20],)], {})\n",
      "([([0, 1, 14, 21],)], {})\n",
      "([([0, 1, 14, 22],)], {})\n",
      "([([0, 1, 14, 23],)], {})\n",
      "([([0, 1, 14, 24],)], {})\n",
      "([([0, 1, 14, 25],)], {})\n",
      "([([0, 1, 14, 26],)], {})\n",
      "([([0, 1, 14, 27],)], {})\n",
      "([([0, 1, 14, 29],)], {})\n",
      "([([0, 1, 14, 28],)], {})\n",
      "([([0, 1, 14, 30],)], {})\n",
      "([([0, 1, 14, 31],)], {})\n",
      "([([0, 1, 14, 32],)], {})\n",
      "([([0, 1, 14, 33],)], {})\n",
      "([([0, 1, 14, 34],)], {})\n",
      "([([0, 1, 14, 35],)], {})\n",
      "([([0, 1, 15, 2],)], {})\n",
      "([([0, 1, 15, 3],)], {})\n",
      "([([0, 1, 15, 4],)], {})\n",
      "([([0, 1, 15, 5],)], {})\n",
      "([([0, 1, 15, 6],)], {})\n",
      "([([0, 1, 15, 7],)], {})\n",
      "([([0, 1, 15, 8],)], {})\n",
      "([([0, 1, 15, 9],)], {})\n",
      "([([0, 1, 15, 10],)], {})\n",
      "([([0, 1, 15, 11],)], {})\n",
      "([([0, 1, 15, 12],)], {})\n",
      "([([0, 1, 15, 13],)], {})\n",
      "([([0, 1, 15, 14],)], {})\n",
      "([([0, 1, 15, 16],)], {})\n",
      "([([0, 1, 15, 17],)], {})\n",
      "([([0, 1, 15, 18],)], {})\n",
      "([([0, 1, 15, 19],)], {})\n",
      "([([0, 1, 15, 20],)], {})\n",
      "([([0, 1, 15, 21],)], {})\n",
      "([([0, 1, 15, 22],)], {})\n",
      "([([0, 1, 15, 23],)], {})\n",
      "([([0, 1, 15, 24],)], {})\n",
      "([([0, 1, 15, 25],)], {})\n",
      "([([0, 1, 15, 26],)], {})\n",
      "([([0, 1, 15, 27],)], {})\n",
      "([([0, 1, 15, 28],)], {})\n",
      "([([0, 1, 15, 29],)], {})\n",
      "([([0, 1, 15, 30],)], {})\n",
      "([([0, 1, 15, 31],)], {})\n",
      "([([0, 1, 15, 32],)], {})\n",
      "([([0, 1, 15, 33],)], {})\n",
      "([([0, 1, 15, 34],)], {})\n",
      "([([0, 1, 15, 35],)], {})\n",
      "([([0, 1, 16, 2],)], {})\n",
      "([([0, 1, 16, 3],)], {})\n",
      "([([0, 1, 16, 4],)], {})\n",
      "([([0, 1, 16, 5],)], {})\n",
      "([([0, 1, 16, 6],)], {})\n",
      "([([0, 1, 16, 7],)], {})\n",
      "([([0, 1, 16, 8],)], {})\n",
      "([([0, 1, 16, 9],)], {})\n",
      "([([0, 1, 16, 10],)], {})\n",
      "([([0, 1, 16, 11],)], {})\n",
      "([([0, 1, 16, 12],)], {})\n",
      "([([0, 1, 16, 13],)], {})\n",
      "([([0, 1, 16, 14],)], {})\n",
      "([([0, 1, 16, 15],)], {})\n",
      "([([0, 1, 16, 17],)], {})\n",
      "([([0, 1, 16, 18],)], {})\n",
      "([([0, 1, 16, 19],)], {})\n",
      "([([0, 1, 16, 20],)], {})\n",
      "([([0, 1, 16, 21],)], {})\n",
      "([([0, 1, 16, 22],)], {})\n",
      "([([0, 1, 16, 23],)], {})\n",
      "([([0, 1, 16, 24],)], {})\n",
      "([([0, 1, 16, 25],)], {})\n",
      "([([0, 1, 16, 26],)], {})\n",
      "([([0, 1, 16, 27],)], {})\n",
      "([([0, 1, 16, 28],)], {})\n",
      "([([0, 1, 16, 29],)], {})\n",
      "([([0, 1, 16, 30],)], {})\n",
      "([([0, 1, 16, 31],)], {})\n",
      "([([0, 1, 16, 32],)], {})\n",
      "([([0, 1, 16, 33],)], {})\n",
      "([([0, 1, 16, 34],)], {})\n",
      "([([0, 1, 16, 35],)], {})\n",
      "([([0, 1, 17, 2],)], {})\n",
      "([([0, 1, 17, 3],)], {})\n",
      "([([0, 1, 17, 4],)], {})\n",
      "([([0, 1, 17, 5],)], {})\n",
      "([([0, 1, 17, 6],)], {})\n",
      "([([0, 1, 17, 7],)], {})\n",
      "([([0, 1, 17, 8],)], {})\n",
      "([([0, 1, 17, 9],)], {})\n",
      "([([0, 1, 17, 10],)], {})\n",
      "([([0, 1, 17, 11],)], {})\n",
      "([([0, 1, 17, 12],)], {})\n",
      "([([0, 1, 17, 13],)], {})\n",
      "([([0, 1, 17, 14],)], {})\n",
      "([([0, 1, 17, 15],)], {})\n",
      "([([0, 1, 17, 16],)], {})\n",
      "([([0, 1, 17, 18],)], {})\n",
      "([([0, 1, 17, 19],)], {})\n",
      "([([0, 1, 17, 20],)], {})\n",
      "([([0, 1, 17, 21],)], {})\n",
      "([([0, 1, 17, 22],)], {})\n",
      "([([0, 1, 17, 23],)], {})\n",
      "([([0, 1, 17, 24],)], {})\n",
      "([([0, 1, 17, 25],)], {})\n",
      "([([0, 1, 17, 26],)], {})\n",
      "([([0, 1, 17, 27],)], {})\n",
      "([([0, 1, 17, 28],)], {})\n",
      "([([0, 1, 17, 29],)], {})\n",
      "([([0, 1, 17, 30],)], {})\n",
      "([([0, 1, 17, 31],)], {})\n",
      "([([0, 1, 17, 32],)], {})\n",
      "([([0, 1, 17, 33],)], {})\n",
      "([([0, 1, 17, 34],)], {})\n",
      "([([0, 1, 17, 35],)], {})\n",
      "([([0, 1, 18, 2],)], {})\n",
      "([([0, 1, 18, 3],)], {})\n",
      "([([0, 1, 18, 4],)], {})\n",
      "([([0, 1, 18, 5],)], {})\n",
      "([([0, 1, 18, 6],)], {})\n",
      "([([0, 1, 18, 7],)], {})\n",
      "([([0, 1, 18, 8],)], {})\n",
      "([([0, 1, 18, 9],)], {})\n",
      "([([0, 1, 18, 10],)], {})\n",
      "([([0, 1, 18, 11],)], {})\n",
      "([([0, 1, 18, 12],)], {})\n",
      "([([0, 1, 18, 13],)], {})\n",
      "([([0, 1, 18, 14],)], {})\n",
      "([([0, 1, 18, 15],)], {})\n",
      "([([0, 1, 18, 16],)], {})\n",
      "([([0, 1, 18, 17],)], {})\n",
      "([([0, 1, 18, 19],)], {})\n",
      "([([0, 1, 18, 20],)], {})\n",
      "([([0, 1, 18, 21],)], {})\n",
      "([([0, 1, 18, 22],)], {})\n",
      "([([0, 1, 18, 23],)], {})\n",
      "([([0, 1, 18, 24],)], {})\n",
      "([([0, 1, 18, 25],)], {})\n",
      "([([0, 1, 18, 26],)], {})\n",
      "([([0, 1, 18, 27],)], {})\n",
      "([([0, 1, 18, 28],)], {})\n",
      "([([0, 1, 18, 29],)], {})\n",
      "([([0, 1, 18, 30],)], {})\n",
      "([([0, 1, 18, 31],)], {})\n",
      "([([0, 1, 18, 32],)], {})\n",
      "([([0, 1, 18, 33],)], {})\n",
      "([([0, 1, 18, 34],)], {})\n",
      "([([0, 1, 18, 35],)], {})\n",
      "([([0, 1, 19, 2],)], {})\n",
      "([([0, 1, 19, 3],)], {})\n",
      "([([0, 1, 19, 4],)], {})\n",
      "([([0, 1, 19, 5],)], {})\n",
      "([([0, 1, 19, 6],)], {})\n",
      "([([0, 1, 19, 7],)], {})\n",
      "([([0, 1, 19, 8],)], {})\n",
      "([([0, 1, 19, 9],)], {})\n",
      "([([0, 1, 19, 10],)], {})\n",
      "([([0, 1, 19, 11],)], {})\n",
      "([([0, 1, 19, 12],)], {})\n"
     ]
    },
    {
     "name": "stderr",
     "output_type": "stream",
     "text": [
      "Exception raised by child process with pid=23882:\n"
     ]
    },
    {
     "ename": "KeyboardInterrupt",
     "evalue": "",
     "output_type": "error",
     "traceback": [
      "\u001b[0;31m---------------------------------------------------------------------------\u001b[0m",
      "\u001b[0;31mKeyboardInterrupt\u001b[0m                         Traceback (most recent call last)",
      "\u001b[0;32m<ipython-input-28-c3658c672e18>\u001b[0m in \u001b[0;36m<module>\u001b[0;34m\u001b[0m\n\u001b[1;32m      6\u001b[0m \u001b[0;34m\u001b[0m\u001b[0m\n\u001b[1;32m      7\u001b[0m \u001b[0mconj\u001b[0m \u001b[0;34m=\u001b[0m \u001b[0;34m[\u001b[0m\u001b[0;34m]\u001b[0m\u001b[0;34m\u001b[0m\u001b[0;34m\u001b[0m\u001b[0m\n\u001b[0;32m----> 8\u001b[0;31m \u001b[0;32mfor\u001b[0m \u001b[0mret\u001b[0m \u001b[0;32min\u001b[0m \u001b[0mX\u001b[0m\u001b[0;34m(\u001b[0m\u001b[0mtest_conj\u001b[0m\u001b[0;34m,\u001b[0m \u001b[0mparallel_data\u001b[0m\u001b[0;34m)\u001b[0m\u001b[0;34m:\u001b[0m\u001b[0;34m\u001b[0m\u001b[0;34m\u001b[0m\u001b[0m\n\u001b[0m\u001b[1;32m      9\u001b[0m     \u001b[0mprint\u001b[0m\u001b[0;34m(\u001b[0m\u001b[0mret\u001b[0m\u001b[0;34m[\u001b[0m\u001b[0mInteger\u001b[0m\u001b[0;34m(\u001b[0m\u001b[0;36m0\u001b[0m\u001b[0;34m)\u001b[0m\u001b[0;34m]\u001b[0m\u001b[0;34m)\u001b[0m\u001b[0;34m\u001b[0m\u001b[0;34m\u001b[0m\u001b[0m\n\u001b[1;32m     10\u001b[0m     \u001b[0;32mif\u001b[0m \u001b[0mret\u001b[0m\u001b[0;34m[\u001b[0m\u001b[0mInteger\u001b[0m\u001b[0;34m(\u001b[0m\u001b[0;36m1\u001b[0m\u001b[0;34m)\u001b[0m\u001b[0;34m]\u001b[0m\u001b[0;34m:\u001b[0m\u001b[0;34m\u001b[0m\u001b[0;34m\u001b[0m\u001b[0m\n",
      "\u001b[0;32m~/Documents/Sage/local/lib/python3.8/site-packages/sage/parallel/use_fork.py\u001b[0m in \u001b[0;36m__call__\u001b[0;34m(self, f, inputs)\u001b[0m\n\u001b[1;32m    189\u001b[0m \u001b[0;34m\u001b[0m\u001b[0m\n\u001b[1;32m    190\u001b[0m                     \u001b[0;32mtry\u001b[0m\u001b[0;34m:\u001b[0m\u001b[0;34m\u001b[0m\u001b[0;34m\u001b[0m\u001b[0m\n\u001b[0;32m--> 191\u001b[0;31m                         \u001b[0mpid\u001b[0m \u001b[0;34m=\u001b[0m \u001b[0mos\u001b[0m\u001b[0;34m.\u001b[0m\u001b[0mwait\u001b[0m\u001b[0;34m(\u001b[0m\u001b[0;34m)\u001b[0m\u001b[0;34m[\u001b[0m\u001b[0;36m0\u001b[0m\u001b[0;34m]\u001b[0m\u001b[0;34m\u001b[0m\u001b[0;34m\u001b[0m\u001b[0m\n\u001b[0m\u001b[1;32m    192\u001b[0m                         \u001b[0mcancel_alarm\u001b[0m\u001b[0;34m(\u001b[0m\u001b[0;34m)\u001b[0m\u001b[0;34m\u001b[0m\u001b[0;34m\u001b[0m\u001b[0m\n\u001b[1;32m    193\u001b[0m                         \u001b[0mW\u001b[0m \u001b[0;34m=\u001b[0m \u001b[0mworkers\u001b[0m\u001b[0;34m.\u001b[0m\u001b[0mpop\u001b[0m\u001b[0;34m(\u001b[0m\u001b[0mpid\u001b[0m\u001b[0;34m)\u001b[0m\u001b[0;34m\u001b[0m\u001b[0;34m\u001b[0m\u001b[0m\n",
      "\u001b[0;32msrc/cysignals/signals.pyx\u001b[0m in \u001b[0;36mcysignals.signals.python_check_interrupt\u001b[0;34m()\u001b[0m\n",
      "\u001b[0;31mKeyboardInterrupt\u001b[0m: "
     ]
    }
   ],
   "source": [
    "parallel_data = []\n",
    "for tup in t:\n",
    "    parallel_data.append(([tup], {}))\n",
    "\n",
    "X = p_iter_fork(2)\n",
    "\n",
    "conj = []\n",
    "for ret in X(test_conj, parallel_data):\n",
    "    print(ret[0])\n",
    "    if ret[1]:\n",
    "        conj.append(ret[1])"
   ]
  },
  {
   "cell_type": "code",
   "execution_count": 29,
   "metadata": {},
   "outputs": [
    {
     "data": {
      "text/plain": [
       "1413720"
      ]
     },
     "execution_count": 29,
     "metadata": {},
     "output_type": "execute_result"
    }
   ],
   "source": [
    "len(parallel_data)"
   ]
  },
  {
   "cell_type": "code",
   "execution_count": null,
   "metadata": {},
   "outputs": [],
   "source": []
  }
 ],
 "metadata": {
  "kernelspec": {
   "display_name": "SageMath 9.4.beta3",
   "language": "sage",
   "name": "sagemath"
  },
  "language_info": {
   "codemirror_mode": {
    "name": "ipython",
    "version": 3
   },
   "file_extension": ".py",
   "mimetype": "text/x-python",
   "name": "python",
   "nbconvert_exporter": "python",
   "pygments_lexer": "ipython3",
   "version": "3.8.10"
  }
 },
 "nbformat": 4,
 "nbformat_minor": 4
}
