{
 "cells": [
  {
   "cell_type": "code",
   "execution_count": null,
   "metadata": {},
   "outputs": [],
   "source": [
    "    L, K = calculate_periodic_points(f,g)\n",
    "    if len(L) != len(K):  # checks maps have the same number of fixed points\n",
    "        return []\n",
    "    mult_to_point_L = {}\n",
    "    mult_to_point_K = {}\n",
    "    point_to_mult_L = {}\n",
    "    point_to_mult_K = {}\n",
    "    level = 0\n",
    "    initialize_dictionaries(f, g, L, K, mult_to_point_L, mult_to_point_K, point_to_mult_L, point_to_mult_K)\n",
    "    #print('mult_to_point_L:', mult_to_point_L)\n",
    "    #print('mult_to_point_K:', mult_to_point_K)\n",
    "    #print('point_to_mult_L:', point_to_mult_L)\n",
    "    #print('point_to_mult_K:', point_to_mult_K)\n",
    "    repeated_mult_L = {}\n",
    "    for mult_L in mult_to_point_L:\n",
    "        repeated = len(mult_to_point_L[mult_L])\n",
    "        if mult_L not in mult_to_point_K:\n",
    "            pass\n",
    "        elif len(mult_to_point_K[mult_L]) != repeated:\n",
    "            pass\n",
    "        if repeated not in repeated_mult_L:\n",
    "            repeated_mult_L[repeated] = [mult_to_point_L[mult_L]]\n",
    "        else:\n",
    "            repeated_mult_L[repeated] += [mult_to_point_L[mult_L]]\n",
    "    #print('repeated_mult:', repeated_mult_L)\n",
    "    d = len(L)\n",
    "    r = f.domain().base_ring()\n",
    "    more = True\n",
    "    source = []\n",
    "    corresponding = []\n",
    "    more = find_independent_set(repeated_mult_L, source, corresponding)\n",
    "    #print('corresponding:', corresponding)\n",
    "    i_repeated_mult = deepcopy(repeated_mult_L)\n",
    "    a_repeated_mult = {}\n",
    "    found_no_more = True\n",
    "    while more:\n",
    "        level += 1\n",
    "        more, found_no_more, source, corresponding = (i_repeated_mult, point_to_mult_L, mult_to_point_K, f, g, mult_to_point_L, point_to_mult_K, repeated_mult_L, a_repeated_mult)\n",
    "        if found_no_more:\n",
    "            raise ValueError('no more rational preimages')\n",
    "        i_repeated_mult = deepcopy(a_repeated_mult)\n",
    "        a_repeated_mult = {}\n",
    "        found_no_more = True\n",
    "        #print('i_repeated_mult:', i_repeated_mult)\n",
    "    #print('source:', source)\n",
    "    #print('mult_to_point_L:', mult_to_point_L)\n",
    "    #print('mult_to_point_K:', mult_to_point_K)\n",
    "    #print('point_to_mult_L:', point_to_mult_L)\n",
    "    #print('point_to_mult_K:', point_to_mult_K)\n",
    "    possible_targets = []\n",
    "    arrangements_iterators = []\n",
    "    initialize_interator(corresponding, possible_targets, mult_to_point_K, arrangements_iterators)\n",
    "    Conj = []\n",
    "    find_conjugations(arrangements_iterators, possible_targets, source, Conj)\n",
    "    return Conj"
   ]
  },
  {
   "cell_type": "code",
   "execution_count": 1,
   "metadata": {},
   "outputs": [],
   "source": [
    "from itertools import product\n",
    "from copy import deepcopy"
   ]
  },
  {
   "cell_type": "code",
   "execution_count": 2,
   "metadata": {},
   "outputs": [],
   "source": [
    "def isLinearlyIndependent(S):\n",
    "    M = matrix([list(t) for t in S])\n",
    "    if len(S) < n+1:\n",
    "        if M.rank() == len(S):\n",
    "            return True\n",
    "        return False\n",
    "    else:\n",
    "        if any(l == 0 for l in M.minors(n+1)):\n",
    "            return False\n",
    "        return True"
   ]
  },
  {
   "cell_type": "code",
   "execution_count": 3,
   "metadata": {},
   "outputs": [],
   "source": [
    "def calculate_periodic_points(f, g):\n",
    "    return Set(f.periodic_points(1)), Set(g.periodic_points(1))"
   ]
  },
  {
   "cell_type": "code",
   "execution_count": 13,
   "metadata": {},
   "outputs": [],
   "source": [
    "def initialize_dictionaries(f, g, L, K, mult_to_point_L, mult_to_point_K, point_to_mult_L, point_to_mult_K, repeated_mult_L):\n",
    "    for i in range(len(L)):\n",
    "        mult_L = f.multiplier(L[i], 1).charpoly()\n",
    "        mult_K = g.multiplier(K[i], 1).charpoly()\n",
    "        tup_L = (mult_L, level)\n",
    "        tup_K = (mult_K, level)\n",
    "        if tup_L not in mult_to_point_L:\n",
    "            mult_to_point_L[tup_L] = [L[i]]\n",
    "        else:\n",
    "            mult_to_point_L[tup_L] += [L[i]]\n",
    "        if tup_K not in mult_to_point_K:\n",
    "            mult_to_point_K[tup_K] = [K[i]]\n",
    "        else:\n",
    "            mult_to_point_K[tup_K] += [K[i]]\n",
    "        point_to_mult_L[L[i]] = (mult_L, 0)\n",
    "        point_to_mult_K[K[i]] = (mult_K, 0)\n",
    "    for mult_L in mult_to_point_L:\n",
    "        repeated = len(mult_to_point_L[mult_L])\n",
    "        if mult_L not in mult_to_point_K:\n",
    "            pass\n",
    "        elif len(mult_to_point_K[mult_L]) != repeated:\n",
    "            pass\n",
    "        if repeated not in repeated_mult_L:\n",
    "            repeated_mult_L[repeated] = [mult_to_point_L[mult_L]]\n",
    "        else:\n",
    "            repeated_mult_L[repeated] += [mult_to_point_L[mult_L]]"
   ]
  },
  {
   "cell_type": "code",
   "execution_count": 5,
   "metadata": {},
   "outputs": [],
   "source": [
    "def find_independent_set(repeated_mult_L, source, corresponding):\n",
    "    more = True\n",
    "    for r in repeated_mult_L:\n",
    "        for point_lst in repeated_mult_L[r]:\n",
    "            for point in point_lst:\n",
    "                if isLinearlyIndependent(source + [point]):\n",
    "                    source.append(point)\n",
    "                    mult = point_to_mult_L[point]\n",
    "                    # if another point with this multiplier and level pair is in S\n",
    "                    # then the multiplier level pair will be the last element of corresponding\n",
    "                    if len(corresponding) != 0:\n",
    "                        if corresponding[-1][0] == mult:\n",
    "                            corresponding[-1][1] += 1\n",
    "                        else:\n",
    "                            corresponding.append([mult, 1])\n",
    "                    else:\n",
    "                        corresponding.append([mult, 1])\n",
    "                if len(source) == n+2:\n",
    "                    more = False\n",
    "                    break\n",
    "            if len(source) == n+2:\n",
    "                break\n",
    "        if len(source) == n+2:\n",
    "            break\n",
    "    return more"
   ]
  },
  {
   "cell_type": "code",
   "execution_count": 6,
   "metadata": {},
   "outputs": [],
   "source": [
    "def find_preimages(i_repeated_mult, point_to_mult_L, mult_to_point_K, f, g, mult_to_point_L, point_to_mult_K, repeated_mult_L, a_repeated_mult):\n",
    "    for r in i_repeated_mult:\n",
    "            for point_lst_L in i_repeated_mult[r]:\n",
    "                old_tup_L = point_to_mult_L[point_lst_L[0]]\n",
    "                #print('current tup:', old_tup_L)\n",
    "                point_lst_K = mult_to_point_K[old_tup_L]\n",
    "                mult_L = old_tup_L[0]\n",
    "                Tl = []\n",
    "                Tk = []\n",
    "                for pnt in point_lst_L:\n",
    "                    for preimage in f.rational_preimages(pnt):\n",
    "                        if preimage != pnt:\n",
    "                            Tl.append(preimage)\n",
    "                for pnt in point_lst_K:\n",
    "                    for preimage in g.rational_preimages(pnt):\n",
    "                        if preimage != pnt:\n",
    "                            Tk.append(preimage)\n",
    "                #print('Tl:', Tl)\n",
    "                #print('Tk:', Tk)\n",
    "                if len(Tl) != len(Tk):\n",
    "                    return []\n",
    "                if len(Tl) != 0:\n",
    "                    found_no_more = False\n",
    "                    new_tup_L = (mult_L, level)\n",
    "                    new_tup_K = (mult_L, level)\n",
    "                    #print('new_tup_L:', new_tup_L)\n",
    "                    mult_to_point_L[new_tup_L] = Tl\n",
    "                    mult_to_point_K[new_tup_K] = Tk\n",
    "                    for i in range(len(Tl)):\n",
    "                        point_to_mult_L[Tl[i]] = new_tup_L\n",
    "                        point_to_mult_K[Tk[i]] = new_tup_K\n",
    "                    repeated = len(Tl)\n",
    "                    if repeated not in repeated_mult_L:\n",
    "                        repeated_mult_L[repeated] = [Tl]\n",
    "                    else:\n",
    "                        repeated_mult_L[repeated] += [Tl]\n",
    "                    if repeated not in a_repeated_mult:\n",
    "                        a_repeated_mult[repeated] = [Tl]\n",
    "                    else:\n",
    "                        a_repeated_mult[repeated] += [Tl]\n",
    "                    # right now rechecking independence\n",
    "                    source = []\n",
    "                    corresponding = []\n",
    "                    more = find_independent_set(repeated_mult_L, source, corresponding)\n",
    "                if not more:\n",
    "                    break\n",
    "            if not more:\n",
    "                break\n",
    "    return more, found_no_more, source, corresponding"
   ]
  },
  {
   "cell_type": "code",
   "execution_count": 7,
   "metadata": {},
   "outputs": [],
   "source": [
    "def initialize_interator(corresponding, possible_targets, mult_to_point_K, arrangements_iterators):\n",
    "    for tup in corresponding:\n",
    "        possible_targets.append([mult_to_point_K[tup[0]], tup[1]])\n",
    "    #print('possible_targets:', possible_targets)\n",
    "    for lst in possible_targets:\n",
    "        arrangements_iterators.append(Arrangements(range(len(lst[0])), lst[1]))"
   ]
  },
  {
   "cell_type": "code",
   "execution_count": 8,
   "metadata": {},
   "outputs": [],
   "source": [
    "def find_conjugations(arrangements_iterators, possible_targets, source, Conj, f, g):\n",
    "    for tup in product(*arrangements_iterators):\n",
    "        current_target = []\n",
    "        for i in range(len(tup)):\n",
    "            for j in tup[i]:\n",
    "                current_target.append(possible_targets[i][0][j])\n",
    "        #print('current_target:', current_target)\n",
    "        try:\n",
    "            phi = f.domain().point_transformation_matrix(current_target, source)\n",
    "            #print('phi:', phi)\n",
    "            #print('phi inverse', phi.inverse())\n",
    "            #print([phi*pnt for pnt in current_target])\n",
    "            #%time f.conjugate(phi) == g\n",
    "            if f.conjugate(phi) == g:\n",
    "                Conj.append(phi)\n",
    "        except ValueError:\n",
    "            pass"
   ]
  },
  {
   "cell_type": "code",
   "execution_count": 9,
   "metadata": {},
   "outputs": [],
   "source": [
    "P.<x,y,z> = ProjectiveSpace(QQ, 2)\n",
    "f = DynamicalSystem([8*x^7 - 35*x^4*y^3 - 35*x^4*z^3 - 7*x*y^6 - 140*x*y^3*z^3 - 7*x*z^6, -7*x^6*y - 35*x^3*y^4 - 140*x^3*y*z^3 + 8*y^7 - 35*y^4*z^3 - 7*y*z^6,-7*x^6*z - 140*x^3*y^3*z - 35*x^3*z^4 - 7*y^6*z - 35*y^3*z^4 + 8*z^7])\n",
    "g = f"
   ]
  },
  {
   "cell_type": "code",
   "execution_count": 10,
   "metadata": {},
   "outputs": [],
   "source": [
    "L, K = calculate_periodic_points(f,g)"
   ]
  },
  {
   "cell_type": "code",
   "execution_count": 14,
   "metadata": {},
   "outputs": [],
   "source": [
    "mult_to_point_L = {}\n",
    "mult_to_point_K = {}\n",
    "point_to_mult_L = {}\n",
    "point_to_mult_K = {}\n",
    "repeated_mult_L = {}\n",
    "level = 0\n",
    "initialize_dictionaries(f, g, L, K, mult_to_point_L, mult_to_point_K, point_to_mult_L, point_to_mult_K, repeated_mult_L)"
   ]
  },
  {
   "cell_type": "code",
   "execution_count": 16,
   "metadata": {},
   "outputs": [],
   "source": [
    "source = []\n",
    "corresponding = []\n",
    "n = f.domain().dimension_relative()\n",
    "more = find_independent_set(repeated_mult_L, source, corresponding)"
   ]
  },
  {
   "cell_type": "code",
   "execution_count": 40,
   "metadata": {},
   "outputs": [],
   "source": [
    "i_repeated_mult = deepcopy(repeated_mult_L)\n",
    "a_repeated_mult = {}\n",
    "found_no_more = True\n",
    "while more:\n",
    "    level += 1\n",
    "    more, found_no_more, source, corresponding = (i_repeated_mult, point_to_mult_L, mult_to_point_K, f, g, mult_to_point_L, point_to_mult_K, repeated_mult_L, a_repeated_mult)\n",
    "    if found_no_more:\n",
    "        raise ValueError('no more rational preimages')\n",
    "    i_repeated_mult = deepcopy(a_repeated_mult)\n",
    "    a_repeated_mult = {}\n",
    "    found_no_more = True"
   ]
  },
  {
   "cell_type": "code",
   "execution_count": 19,
   "metadata": {
    "scrolled": true
   },
   "outputs": [],
   "source": [
    "possible_targets = []\n",
    "arrangements_iterators = []\n",
    "initialize_interator(corresponding, possible_targets, mult_to_point_K, arrangements_iterators)"
   ]
  },
  {
   "cell_type": "code",
   "execution_count": 56,
   "metadata": {
    "scrolled": true
   },
   "outputs": [
    {
     "name": "stdout",
     "output_type": "stream",
     "text": [
      "[[1 0 0]\n",
      "[0 1 0]\n",
      "[0 0 1], [0 0 1]\n",
      "[0 1 0]\n",
      "[1 0 0], [1 0 0]\n",
      "[0 0 1]\n",
      "[0 1 0], [0 1 0]\n",
      "[0 0 1]\n",
      "[1 0 0], [0 1 0]\n",
      "[1 0 0]\n",
      "[0 0 1], [0 0 1]\n",
      "[1 0 0]\n",
      "[0 1 0]]\n"
     ]
    }
   ],
   "source": [
    "%%time\n",
    "Conj = []\n",
    "find_conjugations(arrangements_iterators, possible_targets, source, Conj, f, g)\n",
    "print(Conj)"
   ]
  },
  {
   "cell_type": "code",
   "execution_count": 44,
   "metadata": {},
   "outputs": [],
   "source": [
    "X = p_iter_fork(13)"
   ]
  },
  {
   "cell_type": "code",
   "execution_count": 57,
   "metadata": {},
   "outputs": [
    {
     "name": "stdout",
     "output_type": "stream",
     "text": [
      "[[1 0 0]\n",
      "[0 1 0]\n",
      "[0 0 1], [0 0 1]\n",
      "[0 1 0]\n",
      "[1 0 0], [1 0 0]\n",
      "[0 0 1]\n",
      "[0 1 0], [0 1 0]\n",
      "[0 0 1]\n",
      "[1 0 0], [0 1 0]\n",
      "[1 0 0]\n",
      "[0 0 1], [0 0 1]\n",
      "[1 0 0]\n",
      "[0 1 0]]\n"
     ]
    }
   ],
   "source": [
    "%%time\n",
    "conj = []\n",
    "for ret in X(test_conj, parallel_data):\n",
    "    if ret[1]:\n",
    "        conj.append(ret[1])\n",
    "print(conj)"
   ]
  },
  {
   "cell_type": "code",
   "execution_count": 20,
   "metadata": {},
   "outputs": [],
   "source": [
    "t = list(product(*arrangements_iterators))"
   ]
  },
  {
   "cell_type": "code",
   "execution_count": 22,
   "metadata": {},
   "outputs": [],
   "source": [
    "from sage.parallel.use_fork import p_iter_fork"
   ]
  },
  {
   "cell_type": "code",
   "execution_count": 39,
   "metadata": {},
   "outputs": [],
   "source": [
    "def test_conj(tup, possible_targets, f, g, source):\n",
    "    current_target = []\n",
    "    for i in range(len(tup)):\n",
    "        for j in tup[i]:\n",
    "            current_target.append(possible_targets[i][0][j])\n",
    "    try:\n",
    "        phi = f.domain().point_transformation_matrix(current_target, source)\n",
    "        if f.conjugate(phi) == g:\n",
    "            return phi\n",
    "    except ValueError:\n",
    "        pass\n",
    "    return None"
   ]
  },
  {
   "cell_type": "code",
   "execution_count": 29,
   "metadata": {},
   "outputs": [
    {
     "data": {
      "text/plain": [
       "[\n",
       "[1 0 0]  [0 0 1]  [1 0 0]  [0 1 0]  [0 1 0]  [0 0 1]\n",
       "[0 1 0]  [0 1 0]  [0 0 1]  [0 0 1]  [1 0 0]  [1 0 0]\n",
       "[0 0 1], [1 0 0], [0 1 0], [1 0 0], [0 0 1], [0 1 0]\n",
       "]"
      ]
     },
     "execution_count": 29,
     "metadata": {},
     "output_type": "execute_result"
    }
   ],
   "source": [
    "conj"
   ]
  },
  {
   "cell_type": "code",
   "execution_count": 40,
   "metadata": {},
   "outputs": [],
   "source": [
    "parallel_data = []\n",
    "for tup in t:\n",
    "    parallel_data.append(([tup, possible_targets, f, g, source], {}))"
   ]
  },
  {
   "cell_type": "code",
   "execution_count": 52,
   "metadata": {},
   "outputs": [
    {
     "data": {
      "text/plain": [
       "360"
      ]
     },
     "execution_count": 52,
     "metadata": {},
     "output_type": "execute_result"
    }
   ],
   "source": [
    "arrangements_iterators[0].cardinality()"
   ]
  },
  {
   "cell_type": "code",
   "execution_count": 53,
   "metadata": {},
   "outputs": [
    {
     "data": {
      "text/plain": [
       "13"
      ]
     },
     "execution_count": 53,
     "metadata": {},
     "output_type": "execute_result"
    }
   ],
   "source": [
    "X.ncpus"
   ]
  },
  {
   "cell_type": "code",
   "execution_count": null,
   "metadata": {},
   "outputs": [],
   "source": []
  }
 ],
 "metadata": {
  "kernelspec": {
   "display_name": "SageMath 9.4.beta3",
   "language": "sage",
   "name": "sagemath"
  },
  "language_info": {
   "codemirror_mode": {
    "name": "ipython",
    "version": 3
   },
   "file_extension": ".py",
   "mimetype": "text/x-python",
   "name": "python",
   "nbconvert_exporter": "python",
   "pygments_lexer": "ipython3",
   "version": "3.8.10"
  }
 },
 "nbformat": 4,
 "nbformat_minor": 4
}
