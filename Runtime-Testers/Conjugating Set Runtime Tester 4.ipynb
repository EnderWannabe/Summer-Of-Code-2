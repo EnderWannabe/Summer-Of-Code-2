{
 "cells": [
  {
   "cell_type": "code",
   "execution_count": 2,
   "metadata": {},
   "outputs": [],
   "source": [
    "from itertools import product\n",
    "from copy import deepcopy"
   ]
  },
  {
   "cell_type": "code",
   "execution_count": 3,
   "metadata": {},
   "outputs": [],
   "source": [
    "def isLinearlyIndependent(S):\n",
    "    M = matrix([list(t) for t in S])\n",
    "    print(n)\n",
    "    if len(S) < n+1:\n",
    "        if M.rank() == len(S):\n",
    "            return True\n",
    "        return False\n",
    "    else:\n",
    "        if any(l == 0 for l in M.minors(n+1)):\n",
    "            return False\n",
    "        return True"
   ]
  },
  {
   "cell_type": "code",
   "execution_count": 4,
   "metadata": {},
   "outputs": [],
   "source": [
    "def calculate_periodic_points(f, g):\n",
    "    return Set(f.periodic_points(1)), Set(g.periodic_points(1))"
   ]
  },
  {
   "cell_type": "code",
   "execution_count": 5,
   "metadata": {},
   "outputs": [],
   "source": [
    "def initialize_dictionaries(f, g, L, K, mult_to_point_L, mult_to_point_K, point_to_mult_L, point_to_mult_K, repeated_mult_L):\n",
    "    for i in range(len(L)):\n",
    "        mult_L = f.multiplier(L[i], 1).charpoly()\n",
    "        mult_K = g.multiplier(K[i], 1).charpoly()\n",
    "        tup_L = (mult_L, level)\n",
    "        tup_K = (mult_K, level)\n",
    "        if tup_L not in mult_to_point_L:\n",
    "            mult_to_point_L[tup_L] = [L[i]]\n",
    "        else:\n",
    "            mult_to_point_L[tup_L] += [L[i]]\n",
    "        if tup_K not in mult_to_point_K:\n",
    "            mult_to_point_K[tup_K] = [K[i]]\n",
    "        else:\n",
    "            mult_to_point_K[tup_K] += [K[i]]\n",
    "        point_to_mult_L[L[i]] = (mult_L, 0)\n",
    "        point_to_mult_K[K[i]] = (mult_K, 0)\n",
    "    for mult_L in mult_to_point_L:\n",
    "        repeated = len(mult_to_point_L[mult_L])\n",
    "        if mult_L not in mult_to_point_K:\n",
    "            pass\n",
    "        elif len(mult_to_point_K[mult_L]) != repeated:\n",
    "            pass\n",
    "        if repeated not in repeated_mult_L:\n",
    "            repeated_mult_L[repeated] = [mult_to_point_L[mult_L]]\n",
    "        else:\n",
    "            repeated_mult_L[repeated] += [mult_to_point_L[mult_L]]"
   ]
  },
  {
   "cell_type": "code",
   "execution_count": 6,
   "metadata": {},
   "outputs": [],
   "source": [
    "def find_independent_set(repeated_mult_L, source, corresponding):\n",
    "    more = True\n",
    "    for r in sorted(repeated_mult_L.keys()):\n",
    "        for point_lst in repeated_mult_L[r]:\n",
    "            for point in point_lst:\n",
    "                if isLinearlyIndependent(source + [point]):\n",
    "                    source.append(point)\n",
    "                    mult = point_to_mult_L[point]\n",
    "                    # if another point with this multiplier and level pair is in S\n",
    "                    # then the multiplier level pair will be the last element of corresponding\n",
    "                    if len(corresponding) != 0:\n",
    "                        if corresponding[-1][0] == mult:\n",
    "                            corresponding[-1][1] += 1\n",
    "                        else:\n",
    "                            corresponding.append([mult, 1])\n",
    "                    else:\n",
    "                        corresponding.append([mult, 1])\n",
    "                if len(source) == n+2:\n",
    "                    more = False\n",
    "                    break\n",
    "            if len(source) == n+2:\n",
    "                break\n",
    "        if len(source) == n+2:\n",
    "            break\n",
    "    return more"
   ]
  },
  {
   "cell_type": "code",
   "execution_count": 7,
   "metadata": {},
   "outputs": [],
   "source": [
    "def find_preimages(i_repeated_mult, point_to_mult_L, mult_to_point_K, f, g, mult_to_point_L, point_to_mult_K, repeated_mult_L, a_repeated_mult):\n",
    "    more = True\n",
    "    found_no_more = True\n",
    "    source = []\n",
    "    corresponding = []\n",
    "    for r in i_repeated_mult:\n",
    "            for point_lst_L in i_repeated_mult[r]:\n",
    "                old_tup_L = point_to_mult_L[point_lst_L[0]]\n",
    "                #print('current tup:', old_tup_L)\n",
    "                point_lst_K = mult_to_point_K[old_tup_L]\n",
    "                mult_L = old_tup_L[0]\n",
    "                Tl = []\n",
    "                Tk = []\n",
    "                for pnt in point_lst_L:\n",
    "                    for preimage in f.rational_preimages(pnt):\n",
    "                        if preimage != pnt:\n",
    "                            Tl.append(preimage)\n",
    "                for pnt in point_lst_K:\n",
    "                    for preimage in g.rational_preimages(pnt):\n",
    "                        if preimage != pnt:\n",
    "                            Tk.append(preimage)\n",
    "                #print('Tl:', Tl)\n",
    "                #print('Tk:', Tk)\n",
    "                if len(Tl) != len(Tk):\n",
    "                    return []\n",
    "                if len(Tl) != 0:\n",
    "                    found_no_more = False\n",
    "                    new_tup_L = (mult_L, level)\n",
    "                    new_tup_K = (mult_L, level)\n",
    "                    #print('new_tup_L:', new_tup_L)\n",
    "                    mult_to_point_L[new_tup_L] = Tl\n",
    "                    mult_to_point_K[new_tup_K] = Tk\n",
    "                    for i in range(len(Tl)):\n",
    "                        point_to_mult_L[Tl[i]] = new_tup_L\n",
    "                        point_to_mult_K[Tk[i]] = new_tup_K\n",
    "                    repeated = len(Tl)\n",
    "                    if repeated not in repeated_mult_L:\n",
    "                        repeated_mult_L[repeated] = [Tl]\n",
    "                    else:\n",
    "                        repeated_mult_L[repeated] += [Tl]\n",
    "                    if repeated not in a_repeated_mult:\n",
    "                        a_repeated_mult[repeated] = [Tl]\n",
    "                    else:\n",
    "                        a_repeated_mult[repeated] += [Tl]\n",
    "                    # right now rechecking independence\n",
    "                    more = find_independent_set(repeated_mult_L, source, corresponding)\n",
    "                if not more:\n",
    "                    break\n",
    "            if not more:\n",
    "                break\n",
    "    return more, found_no_more, source, corresponding"
   ]
  },
  {
   "cell_type": "code",
   "execution_count": 8,
   "metadata": {},
   "outputs": [],
   "source": [
    "def initialize_interator(corresponding, possible_targets, mult_to_point_K, arrangements_iterators):\n",
    "    for tup in corresponding:\n",
    "        possible_targets.append([mult_to_point_K[tup[0]], tup[1]])\n",
    "    #print('possible_targets:', possible_targets)\n",
    "    for lst in possible_targets:\n",
    "        arrangements_iterators.append(Arrangements(range(len(lst[0])), lst[1]))"
   ]
  },
  {
   "cell_type": "code",
   "execution_count": 9,
   "metadata": {},
   "outputs": [],
   "source": [
    "def find_conjugations(arrangements_iterators, possible_targets, source, Conj, f, g):\n",
    "    for tup in product(*arrangements_iterators):\n",
    "        current_target = []\n",
    "        for i in range(len(tup)):\n",
    "            for j in tup[i]:\n",
    "                current_target.append(possible_targets[i][0][j])\n",
    "        #print('current_target:', current_target)\n",
    "        try:\n",
    "            phi = f.domain().point_transformation_matrix(current_target, source)\n",
    "            #print('phi:', phi)\n",
    "            #print('phi inverse', phi.inverse())\n",
    "            #print([phi*pnt for pnt in current_target])\n",
    "            #%time f.conjugate(phi) == g\n",
    "            if f.conjugate(phi) == g:\n",
    "                Conj.append(phi)\n",
    "        except ValueError:\n",
    "            pass"
   ]
  },
  {
   "cell_type": "code",
   "execution_count": 10,
   "metadata": {},
   "outputs": [],
   "source": [
    "P.<x,y,z> = ProjectiveSpace(GF(7),2)\n",
    "f = DynamicalSystem([8*x^7 - 35*x^4*y^3 - 35*x^4*z^3 - 7*x*y^6 - 140*x*y^3*z^3 - 7*x*z^6, -7*x^6*y - 35*x^3*y^4 - 140*x^3*y*z^3 + 8*y^7 - 35*y^4*z^3 - 7*y*z^6,-7*x^6*z - 140*x^3*y^3*z - 35*x^3*z^4 - 7*y^6*z - 35*y^3*z^4 + 8*z^7])\n",
    "g = f"
   ]
  },
  {
   "cell_type": "code",
   "execution_count": 11,
   "metadata": {},
   "outputs": [],
   "source": [
    "L, K = calculate_periodic_points(f,g)"
   ]
  },
  {
   "cell_type": "code",
   "execution_count": 39,
   "metadata": {},
   "outputs": [
    {
     "name": "stdout",
     "output_type": "stream",
     "text": [
      "119 ms ± 3.2 ms per loop (mean ± std. dev. of 7 runs, 10 loops each)\n"
     ]
    }
   ],
   "source": [
    "%%timeit\n",
    "L, K = calculate_periodic_points(f,g)"
   ]
  },
  {
   "cell_type": "code",
   "execution_count": 12,
   "metadata": {},
   "outputs": [],
   "source": [
    "mult_to_point_L = {}\n",
    "mult_to_point_K = {}\n",
    "point_to_mult_L = {}\n",
    "point_to_mult_K = {}\n",
    "repeated_mult_L = {}\n",
    "level = 0\n",
    "initialize_dictionaries(f, g, L, K, mult_to_point_L, mult_to_point_K, point_to_mult_L, point_to_mult_K, repeated_mult_L)"
   ]
  },
  {
   "cell_type": "code",
   "execution_count": 13,
   "metadata": {},
   "outputs": [
    {
     "name": "stdout",
     "output_type": "stream",
     "text": [
      "69.4 ms ± 955 µs per loop (mean ± std. dev. of 7 runs, 10 loops each)\n"
     ]
    }
   ],
   "source": [
    "%%timeit\n",
    "mult_to_point_L = {}\n",
    "mult_to_point_K = {}\n",
    "point_to_mult_L = {}\n",
    "point_to_mult_K = {}\n",
    "repeated_mult_L = {}\n",
    "level = 0\n",
    "initialize_dictionaries(f, g, L, K, mult_to_point_L, mult_to_point_K, point_to_mult_L, point_to_mult_K, repeated_mult_L)"
   ]
  },
  {
   "cell_type": "code",
   "execution_count": 13,
   "metadata": {},
   "outputs": [
    {
     "name": "stdout",
     "output_type": "stream",
     "text": [
      "2\n",
      "2\n",
      "2\n",
      "2\n",
      "2\n",
      "2\n",
      "2\n",
      "2\n",
      "2\n",
      "2\n",
      "2\n",
      "2\n",
      "2\n",
      "2\n",
      "2\n",
      "2\n",
      "2\n"
     ]
    },
    {
     "data": {
      "text/plain": [
       "False"
      ]
     },
     "execution_count": 13,
     "metadata": {},
     "output_type": "execute_result"
    }
   ],
   "source": [
    "source = []\n",
    "corresponding = []\n",
    "n = f.domain().dimension_relative()\n",
    "more = find_independent_set(repeated_mult_L, source, corresponding)\n",
    "more"
   ]
  },
  {
   "cell_type": "code",
   "execution_count": 15,
   "metadata": {},
   "outputs": [
    {
     "name": "stdout",
     "output_type": "stream",
     "text": [
      "1.85 ms ± 12.1 µs per loop (mean ± std. dev. of 7 runs, 1000 loops each)\n"
     ]
    }
   ],
   "source": [
    "%%timeit\n",
    "source = []\n",
    "corresponding = []\n",
    "n = f.domain().dimension_relative()\n",
    "more = find_independent_set(repeated_mult_L, source, corresponding)"
   ]
  },
  {
   "cell_type": "code",
   "execution_count": 25,
   "metadata": {},
   "outputs": [
    {
     "ename": "ValueError",
     "evalue": "no more rational preimages",
     "output_type": "error",
     "traceback": [
      "\u001b[0;31m---------------------------------------------------------------------------\u001b[0m",
      "\u001b[0;31mValueError\u001b[0m                                Traceback (most recent call last)",
      "\u001b[0;32m<ipython-input-25-999250bb61d8>\u001b[0m in \u001b[0;36m<module>\u001b[0;34m\u001b[0m\n\u001b[1;32m      7\u001b[0m     \u001b[0mmore\u001b[0m\u001b[0;34m,\u001b[0m \u001b[0mfound_no_more\u001b[0m\u001b[0;34m,\u001b[0m \u001b[0msource\u001b[0m\u001b[0;34m,\u001b[0m \u001b[0mcorresponding\u001b[0m \u001b[0;34m=\u001b[0m \u001b[0mfind_preimages\u001b[0m\u001b[0;34m(\u001b[0m\u001b[0mi_repeated_mult\u001b[0m\u001b[0;34m,\u001b[0m \u001b[0mpoint_to_mult_L\u001b[0m\u001b[0;34m,\u001b[0m \u001b[0mmult_to_point_K\u001b[0m\u001b[0;34m,\u001b[0m \u001b[0mf\u001b[0m\u001b[0;34m,\u001b[0m \u001b[0mg\u001b[0m\u001b[0;34m,\u001b[0m \u001b[0mmult_to_point_L\u001b[0m\u001b[0;34m,\u001b[0m \u001b[0mpoint_to_mult_K\u001b[0m\u001b[0;34m,\u001b[0m \u001b[0mrepeated_mult_L\u001b[0m\u001b[0;34m,\u001b[0m \u001b[0ma_repeated_mult\u001b[0m\u001b[0;34m)\u001b[0m\u001b[0;34m\u001b[0m\u001b[0;34m\u001b[0m\u001b[0m\n\u001b[1;32m      8\u001b[0m     \u001b[0;32mif\u001b[0m \u001b[0mfound_no_more\u001b[0m\u001b[0;34m:\u001b[0m\u001b[0;34m\u001b[0m\u001b[0;34m\u001b[0m\u001b[0m\n\u001b[0;32m----> 9\u001b[0;31m         \u001b[0;32mraise\u001b[0m \u001b[0mValueError\u001b[0m\u001b[0;34m(\u001b[0m\u001b[0;34m'no more rational preimages'\u001b[0m\u001b[0;34m)\u001b[0m\u001b[0;34m\u001b[0m\u001b[0;34m\u001b[0m\u001b[0m\n\u001b[0m\u001b[1;32m     10\u001b[0m     \u001b[0mi_repeated_mult\u001b[0m \u001b[0;34m=\u001b[0m \u001b[0mdeepcopy\u001b[0m\u001b[0;34m(\u001b[0m\u001b[0ma_repeated_mult\u001b[0m\u001b[0;34m)\u001b[0m\u001b[0;34m\u001b[0m\u001b[0;34m\u001b[0m\u001b[0m\n\u001b[1;32m     11\u001b[0m     \u001b[0ma_repeated_mult\u001b[0m \u001b[0;34m=\u001b[0m \u001b[0;34m{\u001b[0m\u001b[0;34m}\u001b[0m\u001b[0;34m\u001b[0m\u001b[0;34m\u001b[0m\u001b[0m\n",
      "\u001b[0;31mValueError\u001b[0m: no more rational preimages"
     ]
    }
   ],
   "source": [
    "i_repeated_mult = deepcopy(repeated_mult_L)\n",
    "a_repeated_mult = {}\n",
    "found_no_more = True\n",
    "more = True\n",
    "while more:\n",
    "    level += 1\n",
    "    more, found_no_more, source, corresponding = find_preimages(i_repeated_mult, point_to_mult_L, mult_to_point_K, f, g, mult_to_point_L, point_to_mult_K, repeated_mult_L, a_repeated_mult)\n",
    "    if found_no_more:\n",
    "        raise ValueError('no more rational preimages')\n",
    "    i_repeated_mult = deepcopy(a_repeated_mult)\n",
    "    a_repeated_mult = {}\n",
    "    found_no_more = True"
   ]
  },
  {
   "cell_type": "code",
   "execution_count": 14,
   "metadata": {},
   "outputs": [],
   "source": [
    "possible_targets = []\n",
    "arrangements_iterators = []\n",
    "initialize_interator(corresponding, possible_targets, mult_to_point_K, arrangements_iterators)"
   ]
  },
  {
   "cell_type": "code",
   "execution_count": 30,
   "metadata": {
    "scrolled": true
   },
   "outputs": [
    {
     "name": "stdout",
     "output_type": "stream",
     "text": [
      "4.8 µs ± 24.7 ns per loop (mean ± std. dev. of 7 runs, 100000 loops each)\n"
     ]
    }
   ],
   "source": [
    "%%timeit\n",
    "possible_targets = []\n",
    "arrangements_iterators = []\n",
    "initialize_interator(corresponding, possible_targets, mult_to_point_K, arrangements_iterators)"
   ]
  },
  {
   "cell_type": "code",
   "execution_count": 14,
   "metadata": {
    "scrolled": true
   },
   "outputs": [
    {
     "name": "stdout",
     "output_type": "stream",
     "text": [
      "CPU times: user 18.8 s, sys: 35.7 ms, total: 18.8 s\n",
      "Wall time: 18.8 s\n"
     ]
    }
   ],
   "source": [
    "%%time\n",
    "Conj = []\n",
    "find_conjugations(arrangements_iterators, possible_targets, source, Conj, f, g)"
   ]
  },
  {
   "cell_type": "code",
   "execution_count": 29,
   "metadata": {
    "scrolled": false
   },
   "outputs": [
    {
     "name": "stdout",
     "output_type": "stream",
     "text": [
      "4.96 s ± 19.7 ms per loop (mean ± std. dev. of 7 runs, 1 loop each)\n"
     ]
    }
   ],
   "source": [
    "%%timeit\n",
    "for tup in product(*arrangements_iterators):\n",
    "    pass"
   ]
  },
  {
   "cell_type": "code",
   "execution_count": 15,
   "metadata": {},
   "outputs": [
    {
     "data": {
      "text/plain": [
       "[Arrangements of the set [0, 1, 2, 3, 4, 5, 6, 7, 8, 9, 10, 11, 12, 13, 14, 15, 16, 17, 18, 19, 20, 21, 22, 23, 24, 25, 26, 27, 28, 29, 30, 31, 32, 33, 34, 35, 36, 37, 38, 39, 40, 41, 42, 43, 44, 45, 46, 47, 48, 49, 50, 51, 52, 53, 54, 55, 56] of length 4]"
      ]
     },
     "execution_count": 15,
     "metadata": {},
     "output_type": "execute_result"
    }
   ],
   "source": [
    "arrangements_iterators"
   ]
  },
  {
   "cell_type": "code",
   "execution_count": 76,
   "metadata": {},
   "outputs": [
    {
     "name": "stdout",
     "output_type": "stream",
     "text": [
      "CPU times: user 4.91 ms, sys: 0 ns, total: 4.91 ms\n",
      "Wall time: 4.91 ms\n",
      "CPU times: user 16.3 ms, sys: 0 ns, total: 16.3 ms\n",
      "Wall time: 15.9 ms\n",
      "CPU times: user 500 µs, sys: 0 ns, total: 500 µs\n",
      "Wall time: 502 µs\n"
     ]
    }
   ],
   "source": [
    "#%%timeit\n",
    "tup = t[6]\n",
    "current_target = []\n",
    "for i in range(len(tup)):\n",
    "    for j in tup[i]:\n",
    "        current_target.append(possible_targets[i][0][j])\n",
    "#print('current_target:', current_target)\n",
    "try:\n",
    "    %time phi = f.domain().point_transformation_matrix(current_target, source)\n",
    "    #print('phi:', phi)\n",
    "    #print('phi inverse', phi.inverse())\n",
    "    #print([phi*pnt for pnt in current_target])\n",
    "    #k = f.conjugate(phi)\n",
    "    #bo = k == g\n",
    "    %time k = f.conjugate(phi)\n",
    "    %time bo = k == g\n",
    "    if bo:\n",
    "        Conj.append(phi)\n",
    "except ValueError:\n",
    "    pass"
   ]
  },
  {
   "cell_type": "code",
   "execution_count": 22,
   "metadata": {},
   "outputs": [],
   "source": [
    "t = list(product(*arrangements_iterators))"
   ]
  },
  {
   "cell_type": "code",
   "execution_count": 43,
   "metadata": {},
   "outputs": [
    {
     "data": {
      "text/plain": [
       "48"
      ]
     },
     "execution_count": 43,
     "metadata": {},
     "output_type": "execute_result"
    }
   ],
   "source": [
    "sys.getsizeof(t[2])"
   ]
  },
  {
   "cell_type": "code",
   "execution_count": 46,
   "metadata": {},
   "outputs": [],
   "source": [
    "size = get_size(t)"
   ]
  },
  {
   "cell_type": "code",
   "execution_count": 44,
   "metadata": {},
   "outputs": [],
   "source": [
    "import sys\n",
    "\n",
    "def get_size(obj, seen=None):\n",
    "    \"\"\"Recursively finds size of objects\"\"\"\n",
    "    size = sys.getsizeof(obj)\n",
    "    if seen is None:\n",
    "        seen = set()\n",
    "    obj_id = id(obj)\n",
    "    if obj_id in seen:\n",
    "        return 0\n",
    "    # Important mark as seen *before* entering recursion to gracefully handle\n",
    "    # self-referential objects\n",
    "    seen.add(obj_id)\n",
    "    if isinstance(obj, dict):\n",
    "        size += sum([get_size(v, seen) for v in obj.values()])\n",
    "        size += sum([get_size(k, seen) for k in obj.keys()])\n",
    "    elif hasattr(obj, '__dict__'):\n",
    "        size += get_size(obj.__dict__, seen)\n",
    "    elif hasattr(obj, '__iter__') and not isinstance(obj, (str, bytes, bytearray)):\n",
    "        size += sum([get_size(i, seen) for i in obj])\n",
    "    return size"
   ]
  },
  {
   "cell_type": "code",
   "execution_count": 49,
   "metadata": {},
   "outputs": [
    {
     "data": {
      "text/plain": [
       "351.039776000000"
      ]
     },
     "execution_count": 49,
     "metadata": {},
     "output_type": "execute_result"
    }
   ],
   "source": [
    "RR(size*10**-6)"
   ]
  },
  {
   "cell_type": "code",
   "execution_count": 56,
   "metadata": {
    "scrolled": false
   },
   "outputs": [
    {
     "data": {
      "text/plain": [
       "[]"
      ]
     },
     "execution_count": 56,
     "metadata": {},
     "output_type": "execute_result"
    }
   ],
   "source": [
    "Conj"
   ]
  },
  {
   "cell_type": "code",
   "execution_count": 19,
   "metadata": {},
   "outputs": [],
   "source": [
    "def test_conj(tup):\n",
    "    current_target = []\n",
    "    for i in range(len(tup)):\n",
    "        for j in tup[i]:\n",
    "            current_target.append(possible_targets[i][0][j])\n",
    "    try:\n",
    "        phi = f.domain().point_transformation_matrix(current_target, source)\n",
    "        if f.conjugate(phi) == g:\n",
    "            return phi\n",
    "    except ValueError:\n",
    "        pass\n",
    "    return None"
   ]
  },
  {
   "cell_type": "code",
   "execution_count": 58,
   "metadata": {},
   "outputs": [
    {
     "data": {
      "text/plain": [
       "[1 0 0 0 0 0 0]\n",
       "[0 1 0 0 0 0 0]\n",
       "[0 0 1 0 0 0 0]\n",
       "[0 0 0 1 0 0 0]\n",
       "[0 0 0 0 1 0 0]\n",
       "[0 0 0 0 0 1 0]\n",
       "[0 0 0 0 0 0 1]"
      ]
     },
     "execution_count": 58,
     "metadata": {},
     "output_type": "execute_result"
    }
   ],
   "source": [
    "test_conj(t[0])"
   ]
  },
  {
   "cell_type": "code",
   "execution_count": 16,
   "metadata": {},
   "outputs": [],
   "source": [
    "from sage.parallel.use_fork import p_iter_fork"
   ]
  },
  {
   "cell_type": "code",
   "execution_count": 29,
   "metadata": {},
   "outputs": [],
   "source": [
    "X = p_iter_fork(14)"
   ]
  },
  {
   "cell_type": "code",
   "execution_count": 30,
   "metadata": {},
   "outputs": [
    {
     "name": "stdout",
     "output_type": "stream",
     "text": [
      "CPU times: user 2.88 s, sys: 27.3 s, total: 30.2 s\n",
      "Wall time: 26.4 s\n"
     ]
    }
   ],
   "source": [
    "%%time\n",
    "conj = []\n",
    "for ret in X(test_conj, parallel_data):\n",
    "    if ret[1]:\n",
    "        conj.append(ret[1])"
   ]
  },
  {
   "cell_type": "code",
   "execution_count": 23,
   "metadata": {},
   "outputs": [],
   "source": [
    "parallel_data = []\n",
    "for tup in t:\n",
    "    parallel_data.append(([tup], {}))"
   ]
  },
  {
   "cell_type": "code",
   "execution_count": 14,
   "metadata": {},
   "outputs": [
    {
     "name": "stdout",
     "output_type": "stream",
     "text": [
      "CPU times: user 18.8 s, sys: 21.5 ms, total: 18.9 s\n",
      "Wall time: 18.9 s\n"
     ]
    }
   ],
   "source": [
    "%%time\n",
    "Conj = []\n",
    "find_conjugations(arrangements_iterators, possible_targets, source, Conj, f, g)"
   ]
  },
  {
   "cell_type": "code",
   "execution_count": 16,
   "metadata": {},
   "outputs": [
    {
     "name": "stdout",
     "output_type": "stream",
     "text": [
      "CPU times: user 18.9 s, sys: 12.5 ms, total: 18.9 s\n",
      "Wall time: 18.9 s\n"
     ]
    }
   ],
   "source": [
    "%%time\n",
    "Conj = []\n",
    "for tup in product(*subset_iterators):\n",
    "    target_set = []\n",
    "    for i in range(len(tup)):\n",
    "        for j in tup[i]:\n",
    "            target_set.append(possible_targets[i][0][j])\n",
    "    if isLinearlyIndependent(target_set):\n",
    "        subset_arrangements = []\n",
    "        for subset in tup:\n",
    "            subset_arrangements.append(Arrangements(subset, len(subset)))\n",
    "        for tup in product(*subset_arrangements):\n",
    "            current_target = []\n",
    "            for i in range(len(tup)):\n",
    "                for j in tup[i]:\n",
    "                    current_target.append(possible_targets[i][0][j])\n",
    "            phi = f.domain().point_transformation_matrix(current_target, source)\n",
    "            if f.conjugate(phi) == g:\n",
    "                Conj.append(phi)"
   ]
  },
  {
   "cell_type": "code",
   "execution_count": 18,
   "metadata": {},
   "outputs": [
    {
     "name": "stdout",
     "output_type": "stream",
     "text": [
      "27 µs ± 2.15 µs per loop (mean ± std. dev. of 7 runs, 10000 loops each)\n"
     ]
    }
   ],
   "source": [
    "%%timeit\n",
    "possible_targets = []\n",
    "subset_iterators = []\n",
    "for tup in corresponding:\n",
    "    possible_targets.append([mult_to_point_K[tup[0]], tup[1]])\n",
    "#print('possible_targets:', possible_targets)\n",
    "for lst in possible_targets:\n",
    "    subset_iterators.append(Subsets(range(len(lst[0])), lst[1]))"
   ]
  },
  {
   "cell_type": "code",
   "execution_count": 23,
   "metadata": {},
   "outputs": [
    {
     "data": {
      "text/plain": [
       "[({0}, {0, 1, 2, 3, 4, 5, 6})]"
      ]
     },
     "execution_count": 23,
     "metadata": {},
     "output_type": "execute_result"
    }
   ],
   "source": [
    "list(product(*subset_iterators))"
   ]
  },
  {
   "cell_type": "code",
   "execution_count": null,
   "metadata": {},
   "outputs": [],
   "source": []
  }
 ],
 "metadata": {
  "kernelspec": {
   "display_name": "SageMath 9.4.beta4",
   "language": "sage",
   "name": "sagemath"
  },
  "language_info": {
   "codemirror_mode": {
    "name": "ipython",
    "version": 3
   },
   "file_extension": ".py",
   "mimetype": "text/x-python",
   "name": "python",
   "nbconvert_exporter": "python",
   "pygments_lexer": "ipython3",
   "version": "3.8.10"
  }
 },
 "nbformat": 4,
 "nbformat_minor": 4
}
