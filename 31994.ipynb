{
 "cells": [
  {
   "cell_type": "code",
   "execution_count": 2,
   "metadata": {},
   "outputs": [],
   "source": [
    "def sigma(self,n, chow=False):\n",
    "    print(self, n)\n",
    "    d = self.degree()\n",
    "    N = self.domain().dimension_relative()\n",
    "    F2 = self.nth_iterate_map(n)\n",
    "    P2 = F2.domain()\n",
    "    T = 1\n",
    "    f = F2\n",
    "    for j in range(N,-1,-1):\n",
    "        print(\"j:\",j)\n",
    "        X = f.periodic_points(1,return_scheme=True, minimal=False)\n",
    "        Xa = X.affine_patch(j)\n",
    "        fa = f.dehomogenize(j)\n",
    "        Pa = fa.domain()\n",
    "        if chow:\n",
    "            R = PolynomialRing(self.base_ring(),'v', N+N+3, order='lex')\n",
    "            im = [R.gen(i) for i in range(j)] + (N-j)*[0] + [R.gen(i) for i in range(N,R.ngens())]\n",
    "            R_zero = {R.gen(N):1}\n",
    "            for j in range(N+1,N+N+1):\n",
    "                R_zero.update({R.gen(j):0})\n",
    "            vars = list(R.gens())\n",
    "            t = vars.pop()\n",
    "            w = vars.pop()\n",
    "            vars = vars[:N]\n",
    "        else:\n",
    "            R = PolynomialRing(self.base_ring(),'v', N+2, order='lex')\n",
    "            im = list(R.gens())[:j] + (N-j)*[0] + [R.gen(i) for i in range(N,R.ngens())]\n",
    "            vars = list(R.gens())\n",
    "            t = vars.pop()\n",
    "            w = vars.pop()\n",
    "        print(\"im:\",im)\n",
    "        \n",
    "        Ra = Pa.coordinate_ring()\n",
    "        phi = Ra.hom(Ra.gens(),R)\n",
    "        MS = MatrixSpace(R,N,N)\n",
    "        M = t*MS.one()\n",
    "\n",
    "        g = (M-jacobian([phi(F.numerator())/phi(F.denominator()) for F in fa], vars)).det()\n",
    "        if chow:\n",
    "            I = R.ideal([phi(h)(im) for h in Xa.defining_polynomials()] \\\n",
    "                        + [w*R(g.denominator())(im)-R(g.numerator())(im) \\\n",
    "                           + sum(R.gen(j-1)*R.gen(N+j)*(R(g.denominator())(im)) for j in range(1,N+1))])\n",
    "        else:\n",
    "            I = R.ideal([phi(h)(im) for h in Xa.defining_polynomials()] \\\n",
    "                        + [w*R(g.denominator())(im)-R(g.numerator())(im)])\n",
    "        G = I.groebner_basis()\n",
    "        T = T*G[-1]\n",
    "\n",
    "        if chow:\n",
    "            T2 = T.specialization(R_zero)\n",
    "            newR = PolynomialRing(self.base_ring(), 'w,t',2, order='lex')\n",
    "            psi = T2.parent().hom(N*[0]+list(newR.gens()), newR)\n",
    "            print(psi(T2).degrees())\n",
    "            #print psi(T2)\n",
    "        else:\n",
    "            T2 = T\n",
    "            newR = PolynomialRing(self.base_ring(), 'w,t',2, order='lex')\n",
    "            print(T2.parent())\n",
    "            psi = T2.parent().hom(N*[0]+list(newR.gens()), newR)\n",
    "            print(psi)\n",
    "            print(psi(T2).degrees())\n",
    "            #print psi(T2)\n",
    "    if chow:\n",
    "        T = T.specialization(R_zero)\n",
    "    return psi(T)"
   ]
  },
  {
   "cell_type": "code",
   "execution_count": 8,
   "metadata": {
    "scrolled": false
   },
   "outputs": [
    {
     "name": "stdout",
     "output_type": "stream",
     "text": [
      "Dynamical System of Projective Space of dimension 2 over Rational Field\n",
      "  Defn: Defined on coordinates by sending (x : y : z) to\n",
      "        (x^2 + 3*y^2 : y^2 : z^2) 1\n",
      "j: 2\n",
      "im: [v0, v1, v2, v3, v4, v5, v6]\n",
      "(4, 8)\n",
      "j: 1\n",
      "im: [v0, 0, v2, v3, v4, v5, v6]\n",
      "(6, 12)\n",
      "j: 0\n",
      "im: [0, 0, v2, v3, v4, v5, v6]\n",
      "(7, 14)\n"
     ]
    },
    {
     "data": {
      "text/plain": [
       "1/3*w^7 - 7/3*w^6*t^2 + 10/3*w^6*t - 4/3*w^6 + 7*w^5*t^4 - 20*w^5*t^3 + 28*w^5*t^2 - 24*w^5*t + 16*w^5 - 35/3*w^4*t^6 + 50*w^4*t^5 - 120*w^4*t^4 + 560/3*w^4*t^3 - 176*w^4*t^2 + 64*w^4*t + 35/3*w^3*t^8 - 200/3*w^3*t^7 + 680/3*w^3*t^6 - 1520/3*w^3*t^5 + 2096/3*w^3*t^4 - 1760/3*w^3*t^3 + 256*w^3*t^2 - 7*w^2*t^10 + 50*w^2*t^9 - 220*w^2*t^8 + 640*w^2*t^7 - 1200*w^2*t^6 + 1536*w^2*t^5 - 1216*w^2*t^4 + 384*w^2*t^3 + 7/3*w*t^12 - 20*w*t^11 + 108*w*t^10 - 1160/3*w*t^9 + 928*w*t^8 - 1568*w*t^7 + 1664*w*t^6 - 768*w*t^5 - 1/3*t^14 + 10/3*t^13 - 64/3*t^12 + 272/3*t^11 - 800/3*t^10 + 1664/3*t^9 - 704*t^8 + 384*t^7"
      ]
     },
     "execution_count": 8,
     "metadata": {},
     "output_type": "execute_result"
    }
   ],
   "source": [
    "P.<x,y,z>=ProjectiveSpace(QQ,2)\n",
    "f = DynamicalSystem([x^2+3*y^2,y^2,z^2])\n",
    "sigma(f,1,chow=True)"
   ]
  },
  {
   "cell_type": "code",
   "execution_count": 96,
   "metadata": {},
   "outputs": [
    {
     "data": {
      "text/plain": [
       "v3 * (v2 + (-0.50000000000000000? - 0.866025403784439?*I)*v3) * (v2 + (-0.50000000000000000? + 0.866025403784439?*I)*v3) * (v2 + v3)"
      ]
     },
     "execution_count": 96,
     "metadata": {},
     "output_type": "execute_result"
    }
   ],
   "source": [
    "R.<v0,v1,v2,v3>=QQbar[]\n",
    "I=R.ideal([v0^2*v1 - v0, v0^2 - v0*v1^2, -v1^3 + 1,(v0*v2 + v1*v3)])\n",
    "I.elimination_ideal([v0,v1]).gen(0).factor()"
   ]
  },
  {
   "cell_type": "code",
   "execution_count": null,
   "metadata": {},
   "outputs": [],
   "source": [
    "P.<x,w,y,z>=ProjectiveSpace(QQ,3)\n",
    "f = DynamicalSystem([x^2,w^2,z^2,y^2])\n",
    "sigma(f,1,chow=True)"
   ]
  },
  {
   "cell_type": "code",
   "execution_count": 6,
   "metadata": {},
   "outputs": [
    {
     "name": "stdout",
     "output_type": "stream",
     "text": [
      "(1 : 0 : 0 : 0) [2 0 0 0]\n",
      "[0 0 0 0]\n",
      "[0 0 0 0]\n",
      "[0 0 0 0]\n",
      "-----\n"
     ]
    }
   ],
   "source": [
    "P.<x,w,y,z>=ProjectiveSpace(QQ,3)\n",
    "f = DynamicalSystem([x^2,z^2+z*w,w^2,y^2])\n",
    "J = jacobian(f.defining_polynomials(),P.gens())\n",
    "for Q in f.periodic_points(1):\n",
    "    print(Q,J(list(Q)))\n",
    "    print(\"-----\")"
   ]
  },
  {
   "cell_type": "code",
   "execution_count": 12,
   "metadata": {},
   "outputs": [
    {
     "name": "stdout",
     "output_type": "stream",
     "text": [
      "(0 : -0.6623589786223730? - 0.5622795120623013?*I : 1)\n",
      "-----\n",
      "(0 : -0.6623589786223730? + 0.5622795120623013?*I : 1)\n",
      "-----\n",
      "(0 : 1.324717957244746? : 1)\n",
      "-----\n",
      "(0.1225611668766537? - 0.744861766619745?*I : -0.6623589786223730? + 0.5622795120623013?*I : 1)\n",
      "-----\n",
      "(0.1225611668766537? + 0.744861766619745?*I : -0.6623589786223730? - 0.5622795120623013?*I : 1)\n",
      "-----\n",
      "(1 : 0 : 0)\n",
      "-----\n",
      "(1.754877666246693? : 1.324717957244746? : 1)\n",
      "-----\n"
     ]
    }
   ],
   "source": [
    "P.<x,y,z>=ProjectiveSpace(QQbar,2)\n",
    "f = DynamicalSystem([x^2,z^2 + z*y,y^2])\n",
    "J = jacobian(f.defining_polynomials(),P.gens())\n",
    "for Q in f.periodic_points(1):\n",
    "    print(Q,)\n",
    "    print(\"-----\")"
   ]
  },
  {
   "cell_type": "code",
   "execution_count": 67,
   "metadata": {},
   "outputs": [
    {
     "name": "stdout",
     "output_type": "stream",
     "text": [
      "(0 : 1 : 1) [0 0 0]\n",
      "[0 0 2]\n",
      "[0 2 0]\n",
      "-----\n",
      "(1 : 0 : 0) [2 0 0]\n",
      "[0 0 0]\n",
      "[0 0 0]\n",
      "-----\n",
      "(1 : 1 : 1) [2 0 0]\n",
      "[0 0 2]\n",
      "[0 2 0]\n",
      "-----\n"
     ]
    }
   ],
   "source": [
    "P.<x,y,z>=ProjectiveSpace(QQ,2)\n",
    "f = DynamicalSystem([x^2,z^2,y^2])\n",
    "J = jacobian(f.defining_polynomials(),P.gens())\n",
    "for Q in f.periodic_points(1):\n",
    "    print(Q,J(list(Q)))\n",
    "    print(\"-----\")"
   ]
  },
  {
   "cell_type": "code",
   "execution_count": 68,
   "metadata": {},
   "outputs": [
    {
     "name": "stdout",
     "output_type": "stream",
     "text": [
      "Dynamical System of Projective Space of dimension 2 over Rational Field\n",
      "  Defn: Defined on coordinates by sending (x : y : z) to\n",
      "        (x^2 : z^2 : y^2) 1\n",
      "j: 2\n",
      "[v0, v1, v2, v3]\n",
      "im: [v0, v1]\n",
      "[x^2/y^2, 1/y^2]\n",
      "(-2*v0*v1^3*v3 - 4*v0 + v1^5*v3^2 + 2*v1^2*v3)/v1^5\n",
      "2*v0*v1^3*v3 + 4*v0 + v1^5*v2 - v1^5*v3^2 - 2*v1^2*v3\n",
      "Ideal (v0^2*v1 - v0, v0^2 - v0*v1^2, -v1^3 + 1, 2*v0*v1^3*v3 + 4*v0 + v1^5*v2 - v1^5*v3^2 - 2*v1^2*v3) of Multivariate Polynomial Ring in v0, v1, v2, v3 over Rational Field\n",
      "(2, 4)\n",
      "j: 1\n",
      "[v0, v1, v2, v3]\n",
      "im: [v0, 0]\n",
      "[x^2/z^2, 1/z^2]\n",
      "(2, 4)\n",
      "j: 0\n",
      "[v0, v1, v2, v3]\n",
      "im: [0, 0]\n",
      "[z^2, y^2]\n",
      "v3^2\n",
      "v2 - v3^2\n",
      "Ideal (0, 0, 0, v2 - v3^2) of Multivariate Polynomial Ring in v0, v1, v2, v3 over Rational Field\n",
      "(3, 6)\n"
     ]
    },
    {
     "data": {
      "text/plain": [
       "w^3 - 3*w^2*t^2 - 2*w^2*t + 4*w^2 + 3*w*t^4 + 4*w*t^3 - 8*w*t^2 - 8*w*t - t^6 - 2*t^5 + 4*t^4 + 8*t^3"
      ]
     },
     "execution_count": 68,
     "metadata": {},
     "output_type": "execute_result"
    }
   ],
   "source": [
    "sigma(f,1)"
   ]
  },
  {
   "cell_type": "code",
   "execution_count": 13,
   "metadata": {},
   "outputs": [
    {
     "data": {
      "text/plain": [
       "(x - 1.754877666246693?) * (x - 0.1225611668766537? - 0.744861766619745?*I) * (x - 0.1225611668766537? + 0.744861766619745?*I) * x^2"
      ]
     },
     "execution_count": 13,
     "metadata": {},
     "output_type": "execute_result"
    }
   ],
   "source": [
    "(x^5-2*x^4+x^3-x^2).factor()"
   ]
  },
  {
   "cell_type": "code",
   "execution_count": 15,
   "metadata": {},
   "outputs": [],
   "source": [
    "F=f.dehomogenize(1)\n",
    "F.multiplier(Q.dehomogenize())"
   ]
  },
  {
   "cell_type": "code",
   "execution_count": null,
   "metadata": {},
   "outputs": [],
   "source": [
    "A.<x,z>=AffineSpace(QQ,2)\n",
    "t=3\n",
    "#(x^2- t*z^2)^2,4*x*z*(x-z)*(x-t*z)\n",
    "f=DynamicalSystem_affine([(x^2- t*z^2)^2/(4*x*z*(x-z)*(x-t*z)), (x^2+z^2)^2/(4*x*z*(x-z)*(x-t*z))])\n",
    "F=f.homogenize(1)\n",
    "F.is_morphism()"
   ]
  },
  {
   "cell_type": "code",
   "execution_count": 63,
   "metadata": {},
   "outputs": [],
   "source": []
  },
  {
   "cell_type": "code",
   "execution_count": 64,
   "metadata": {},
   "outputs": [
    {
     "name": "stdout",
     "output_type": "stream",
     "text": [
      "Dynamical System of Projective Space of dimension 2 over Rational Field\n",
      "  Defn: Defined on coordinates by sending (x : y : z) to\n",
      "        (x^2 : z^2 : y^2) 1\n",
      "j: 2\n",
      "[v0, v1, v2, v3]\n",
      "im: [v0, v1]\n",
      "[x^2/y^2, 1/y^2]\n",
      "(-2*v0*v1^3*v3 - 4*v0 + v1^5*v3^2 + 2*v1^2*v3)/v1^5\n",
      "2*v0*v1^3*v3 + 4*v0 + v1^5*v2 - v1^5*v3^2 - 2*v1^2*v3\n",
      "Ideal (v0^2*v1 - v0, v0^2 - v0*v1^2, -v1^3 + 1, 2*v0*v1^3*v3 + 4*v0 + v1^5*v2 - v1^5*v3^2 - 2*v1^2*v3) of Multivariate Polynomial Ring in v0, v1, v2, v3 over Rational Field\n",
      "(2, 4)\n",
      "j: 1\n",
      "[v0, v1, v2, v3]\n",
      "im: [v0, 0]\n",
      "[x^2/z^2, 1/z^2]\n",
      "(2, 4)\n",
      "j: 0\n",
      "[v0, v1, v2, v3]\n",
      "im: [0, 0]\n",
      "[z^2, y^2]\n",
      "v3^2\n",
      "v2 - v3^2\n",
      "Ideal (0, 0, 0, v2 - v3^2) of Multivariate Polynomial Ring in v0, v1, v2, v3 over Rational Field\n",
      "(3, 6)\n"
     ]
    },
    {
     "data": {
      "text/plain": [
       "w^3 - 3*w^2*t^2 - 2*w^2*t + 4*w^2 + 3*w*t^4 + 4*w*t^3 - 8*w*t^2 - 8*w*t - t^6 - 2*t^5 + 4*t^4 + 8*t^3"
      ]
     },
     "execution_count": 64,
     "metadata": {},
     "output_type": "execute_result"
    }
   ],
   "source": [
    "sigma(f,1)"
   ]
  },
  {
   "cell_type": "code",
   "execution_count": 39,
   "metadata": {},
   "outputs": [
    {
     "data": {
      "text/plain": [
       "Ideal (x^2*y - x*y - x, -x*y^2 + x^2, -y^3 + y + 1) of Multivariate Polynomial Ring in x, y over Algebraic Field"
      ]
     },
     "execution_count": 39,
     "metadata": {},
     "output_type": "execute_result"
    }
   ],
   "source": [
    "Y=f.periodic_points(1,return_scheme=True)\n",
    "Y.affine_patch(2).defining_ideal()"
   ]
  },
  {
   "cell_type": "code",
   "execution_count": 53,
   "metadata": {},
   "outputs": [
    {
     "data": {
      "text/plain": [
       "(-1) * (-v2^3 + 3*v2^2*v3 - 3*v2*v3^2 + v3^3 + v2 - v3 - 1)"
      ]
     },
     "execution_count": 53,
     "metadata": {},
     "output_type": "execute_result"
    }
   ],
   "source": [
    "R.<v0,v1,v2,v3>=QQ[]\n",
    "I=R.ideal([v0^2 - v0*v2^2 + 2*v0*v2*v3 - v0*v3^2, v1 + v2 - v3, v2^3 + (-3)*v2^2*v3 + 3*v2*v3^2 - v2 - v3^3 + v3 + 1])\n",
    "I=R.ideal([v0^2*v1 - v0*v1 - v0, v0^2 - v0*v1^2, -v1^3 + v1 + 1, v1 + v2 - v3])\n",
    "I=R.ideal([v0^2*v1 - v0*v1 - v0, v0^2 - v0*v1^2, -v1^3 + v1 + 1, v1 + v2 - v3])\n",
    "I.elimination_ideal([v0,v1]).gens()[0].factor()"
   ]
  },
  {
   "cell_type": "code",
   "execution_count": 54,
   "metadata": {},
   "outputs": [
    {
     "data": {
      "text/plain": [
       "(x - 1.324717957244746?) * (x + 0.6623589786223730? - 0.5622795120623013?*I) * (x + 0.6623589786223730? + 0.5622795120623013?*I)"
      ]
     },
     "execution_count": 54,
     "metadata": {},
     "output_type": "execute_result"
    }
   ],
   "source": [
    "(x^3-x-1).factor()"
   ]
  },
  {
   "cell_type": "code",
   "execution_count": 59,
   "metadata": {},
   "outputs": [],
   "source": [
    "def sigma(self,n, chow=False):\n",
    "    print(self, n)\n",
    "    d = self.degree()\n",
    "    N = self.domain().dimension_relative()\n",
    "    F2 = self.nth_iterate_map(n)\n",
    "    P2 = F2.domain()\n",
    "    T = 1\n",
    "    f = F2\n",
    "    for j in range(N,-1,-1):\n",
    "        print(\"j:\",j)\n",
    "        X = f.periodic_points(1,return_scheme=True, minimal=False)\n",
    "        Xa = X.affine_patch(j)\n",
    "        fa = f.dehomogenize(j)\n",
    "        Pa = fa.domain()\n",
    "        if chow:\n",
    "            R = PolynomialRing(self.base_ring(),'v', N+N+3, order='lex')\n",
    "            im = [R.gen(i) for i in range(j)] + (N-j)*[0]\n",
    "            R_zero = {R.gen(N):1}\n",
    "            for j in range(N+1,N+N+1):\n",
    "                R_zero.update({R.gen(j):0})\n",
    "            #print R_zero\n",
    "            vars = list(R.gens())\n",
    "            t = vars.pop()\n",
    "            w = vars.pop()\n",
    "            vars = vars[:N]\n",
    "        else:\n",
    "            R = PolynomialRing(self.base_ring(),'v', N+2, order='lex')\n",
    "            im = list(R.gens())[:j] + (N-j)*[0]\n",
    "            vars = list(R.gens())\n",
    "            t = vars.pop()\n",
    "            w = vars.pop()\n",
    "        print(\"im:\",im)\n",
    "        #print t,w\n",
    "\n",
    "        phi = Pa.coordinate_ring().hom(im,R)\n",
    "        #print phi\n",
    "        MS = MatrixSpace(R,N,N)\n",
    "        M = t*MS.one()\n",
    "        print(list(fa))\n",
    "        g = (M-jacobian([phi(F.numerator())/phi(F.denominator()) for F in fa], vars)).det()\n",
    "        #print \"g:\",g\n",
    "        if chow:\n",
    "            I = R.ideal([phi(h) for h in Xa.defining_polynomials()] + [w*g.denominator()-R.gen(N)*g.numerator() + sum(R.gen(j-1)*R.gen(N+j)*g.denominator() for j in range(1,N+1))])\n",
    "        else:\n",
    "            I = R.ideal([phi(h) for h in Xa.defining_polynomials()] + [w*g.denominator()-g.numerator()])\n",
    "        #print I\n",
    "        G = I.groebner_basis()\n",
    "        #print \"G:\",G[-1]\n",
    "        T = T*G[-1]\n",
    "        #print \"T:\",T\n",
    "        #print T.coefficient(R.gen(2*N+1)**8)\n",
    "        #print T.specialization(R_zero)\n",
    "        #print T\n",
    "        if chow:\n",
    "            T2 = T.specialization(R_zero)\n",
    "            newR = PolynomialRing(self.base_ring(), 'w,t',2, order='lex')\n",
    "            psi = T2.parent().hom(N*[0]+list(newR.gens()), newR)\n",
    "            print(psi(T2).degrees())\n",
    "            #print psi(T2)\n",
    "        else:\n",
    "            T2 = T\n",
    "            newR = PolynomialRing(self.base_ring(), 'w,t',2, order='lex')\n",
    "            psi = T2.parent().hom(N*[0]+list(newR.gens()), newR)\n",
    "            print(psi(T2).degrees())\n",
    "            #print psi(T2)\n",
    "    if chow:\n",
    "        T = T.specialization(R_zero)\n",
    "    return psi(T)\n",
    "\n",
    "def num_sigma(self, n):\n",
    "    fc = self.change_ring(CC)\n",
    "    per= self.periodic_points(n,minimal=False,return_scheme=True).rational_points(F=CC)\n",
    "    mul = []\n",
    "    t=1\n",
    "    for Q in per:\n",
    "        t=t*fc.multiplier(Q,n,check=False).characteristic_polynomial()\n",
    "        c=fc.multiplier(Q,n, check=False).characteristic_polynomial().coefficients(sparse=False)\n",
    "        c.pop(-1) #always monic\n",
    "        mul.append(c)\n",
    "    sig=[]\n",
    "    e = SymmetricFunctions(CC).e()\n",
    "\n",
    "    N = len(mul)\n",
    "    R = CC\n",
    "    for i in range(0,N):\n",
    "        T=[]\n",
    "        for k in range(len(mul[0])):\n",
    "            T.append((R(e([i+1]).expand(N)([m[k] for m in mul]))))\n",
    "        sig.append(T)\n",
    "    return sig,t"
   ]
  },
  {
   "cell_type": "code",
   "execution_count": 62,
   "metadata": {},
   "outputs": [
    {
     "name": "stdout",
     "output_type": "stream",
     "text": [
      "Dynamical System of Projective Space of dimension 2 over Rational Field\n",
      "  Defn: Defined on coordinates by sending (x : y : z) to\n",
      "        (x^2 : z^2 : y^2) 1\n",
      "j: 2\n",
      "im: [v0, v1]\n",
      "[x^2/y^2, 1/y^2]\n",
      "(2, 4)\n",
      "j: 1\n",
      "im: [v0, 0]\n",
      "[x^2/z^2, 1/z^2]\n"
     ]
    },
    {
     "ename": "ZeroDivisionError",
     "evalue": "",
     "output_type": "error",
     "traceback": [
      "\u001b[0;31m---------------------------------------------------------------------------\u001b[0m",
      "\u001b[0;31mZeroDivisionError\u001b[0m                         Traceback (most recent call last)",
      "\u001b[0;32m<ipython-input-62-1c119f48d761>\u001b[0m in \u001b[0;36m<module>\u001b[0;34m\u001b[0m\n\u001b[1;32m      1\u001b[0m \u001b[0mP\u001b[0m \u001b[0;34m=\u001b[0m \u001b[0mProjectiveSpace\u001b[0m\u001b[0;34m(\u001b[0m\u001b[0mQQ\u001b[0m\u001b[0;34m,\u001b[0m\u001b[0mInteger\u001b[0m\u001b[0;34m(\u001b[0m\u001b[0;36m2\u001b[0m\u001b[0;34m)\u001b[0m\u001b[0;34m,\u001b[0m \u001b[0mnames\u001b[0m\u001b[0;34m=\u001b[0m\u001b[0;34m(\u001b[0m\u001b[0;34m'x'\u001b[0m\u001b[0;34m,\u001b[0m \u001b[0;34m'y'\u001b[0m\u001b[0;34m,\u001b[0m \u001b[0;34m'z'\u001b[0m\u001b[0;34m,\u001b[0m\u001b[0;34m)\u001b[0m\u001b[0;34m)\u001b[0m\u001b[0;34m;\u001b[0m \u001b[0;34m(\u001b[0m\u001b[0mx\u001b[0m\u001b[0;34m,\u001b[0m \u001b[0my\u001b[0m\u001b[0;34m,\u001b[0m \u001b[0mz\u001b[0m\u001b[0;34m,\u001b[0m\u001b[0;34m)\u001b[0m \u001b[0;34m=\u001b[0m \u001b[0mP\u001b[0m\u001b[0;34m.\u001b[0m\u001b[0m_first_ngens\u001b[0m\u001b[0;34m(\u001b[0m\u001b[0;36m3\u001b[0m\u001b[0;34m)\u001b[0m\u001b[0;34m\u001b[0m\u001b[0;34m\u001b[0m\u001b[0m\n\u001b[1;32m      2\u001b[0m \u001b[0mf\u001b[0m\u001b[0;34m=\u001b[0m\u001b[0mDynamicalSystem\u001b[0m\u001b[0;34m(\u001b[0m\u001b[0;34m[\u001b[0m\u001b[0mx\u001b[0m\u001b[0;34m**\u001b[0m\u001b[0mInteger\u001b[0m\u001b[0;34m(\u001b[0m\u001b[0;36m2\u001b[0m\u001b[0;34m)\u001b[0m\u001b[0;34m,\u001b[0m\u001b[0mz\u001b[0m\u001b[0;34m**\u001b[0m\u001b[0mInteger\u001b[0m\u001b[0;34m(\u001b[0m\u001b[0;36m2\u001b[0m\u001b[0;34m)\u001b[0m\u001b[0;34m,\u001b[0m\u001b[0my\u001b[0m\u001b[0;34m**\u001b[0m\u001b[0mInteger\u001b[0m\u001b[0;34m(\u001b[0m\u001b[0;36m2\u001b[0m\u001b[0;34m)\u001b[0m\u001b[0;34m]\u001b[0m\u001b[0;34m)\u001b[0m\u001b[0;34m\u001b[0m\u001b[0;34m\u001b[0m\u001b[0m\n\u001b[0;32m----> 3\u001b[0;31m \u001b[0msigma\u001b[0m\u001b[0;34m(\u001b[0m\u001b[0mf\u001b[0m\u001b[0;34m,\u001b[0m\u001b[0mInteger\u001b[0m\u001b[0;34m(\u001b[0m\u001b[0;36m1\u001b[0m\u001b[0;34m)\u001b[0m\u001b[0;34m)\u001b[0m\u001b[0;34m\u001b[0m\u001b[0;34m\u001b[0m\u001b[0m\n\u001b[0m",
      "\u001b[0;32m<ipython-input-59-6952f8d2be3b>\u001b[0m in \u001b[0;36msigma\u001b[0;34m(self, n, chow)\u001b[0m\n\u001b[1;32m     38\u001b[0m         \u001b[0mM\u001b[0m \u001b[0;34m=\u001b[0m \u001b[0mt\u001b[0m\u001b[0;34m*\u001b[0m\u001b[0mMS\u001b[0m\u001b[0;34m.\u001b[0m\u001b[0mone\u001b[0m\u001b[0;34m(\u001b[0m\u001b[0;34m)\u001b[0m\u001b[0;34m\u001b[0m\u001b[0;34m\u001b[0m\u001b[0m\n\u001b[1;32m     39\u001b[0m         \u001b[0mprint\u001b[0m\u001b[0;34m(\u001b[0m\u001b[0mlist\u001b[0m\u001b[0;34m(\u001b[0m\u001b[0mfa\u001b[0m\u001b[0;34m)\u001b[0m\u001b[0;34m)\u001b[0m\u001b[0;34m\u001b[0m\u001b[0;34m\u001b[0m\u001b[0m\n\u001b[0;32m---> 40\u001b[0;31m         \u001b[0mg\u001b[0m \u001b[0;34m=\u001b[0m \u001b[0;34m(\u001b[0m\u001b[0mM\u001b[0m\u001b[0;34m-\u001b[0m\u001b[0mjacobian\u001b[0m\u001b[0;34m(\u001b[0m\u001b[0;34m[\u001b[0m\u001b[0mphi\u001b[0m\u001b[0;34m(\u001b[0m\u001b[0mF\u001b[0m\u001b[0;34m.\u001b[0m\u001b[0mnumerator\u001b[0m\u001b[0;34m(\u001b[0m\u001b[0;34m)\u001b[0m\u001b[0;34m)\u001b[0m\u001b[0;34m/\u001b[0m\u001b[0mphi\u001b[0m\u001b[0;34m(\u001b[0m\u001b[0mF\u001b[0m\u001b[0;34m.\u001b[0m\u001b[0mdenominator\u001b[0m\u001b[0;34m(\u001b[0m\u001b[0;34m)\u001b[0m\u001b[0;34m)\u001b[0m \u001b[0;32mfor\u001b[0m \u001b[0mF\u001b[0m \u001b[0;32min\u001b[0m \u001b[0mfa\u001b[0m\u001b[0;34m]\u001b[0m\u001b[0;34m,\u001b[0m \u001b[0mvars\u001b[0m\u001b[0;34m)\u001b[0m\u001b[0;34m)\u001b[0m\u001b[0;34m.\u001b[0m\u001b[0mdet\u001b[0m\u001b[0;34m(\u001b[0m\u001b[0;34m)\u001b[0m\u001b[0;34m\u001b[0m\u001b[0;34m\u001b[0m\u001b[0m\n\u001b[0m\u001b[1;32m     41\u001b[0m         \u001b[0;31m#print \"g:\",g\u001b[0m\u001b[0;34m\u001b[0m\u001b[0;34m\u001b[0m\u001b[0;34m\u001b[0m\u001b[0m\n\u001b[1;32m     42\u001b[0m         \u001b[0;32mif\u001b[0m \u001b[0mchow\u001b[0m\u001b[0;34m:\u001b[0m\u001b[0;34m\u001b[0m\u001b[0;34m\u001b[0m\u001b[0m\n",
      "\u001b[0;32m<ipython-input-59-6952f8d2be3b>\u001b[0m in \u001b[0;36m<listcomp>\u001b[0;34m(.0)\u001b[0m\n\u001b[1;32m     38\u001b[0m         \u001b[0mM\u001b[0m \u001b[0;34m=\u001b[0m \u001b[0mt\u001b[0m\u001b[0;34m*\u001b[0m\u001b[0mMS\u001b[0m\u001b[0;34m.\u001b[0m\u001b[0mone\u001b[0m\u001b[0;34m(\u001b[0m\u001b[0;34m)\u001b[0m\u001b[0;34m\u001b[0m\u001b[0;34m\u001b[0m\u001b[0m\n\u001b[1;32m     39\u001b[0m         \u001b[0mprint\u001b[0m\u001b[0;34m(\u001b[0m\u001b[0mlist\u001b[0m\u001b[0;34m(\u001b[0m\u001b[0mfa\u001b[0m\u001b[0;34m)\u001b[0m\u001b[0;34m)\u001b[0m\u001b[0;34m\u001b[0m\u001b[0;34m\u001b[0m\u001b[0m\n\u001b[0;32m---> 40\u001b[0;31m         \u001b[0mg\u001b[0m \u001b[0;34m=\u001b[0m \u001b[0;34m(\u001b[0m\u001b[0mM\u001b[0m\u001b[0;34m-\u001b[0m\u001b[0mjacobian\u001b[0m\u001b[0;34m(\u001b[0m\u001b[0;34m[\u001b[0m\u001b[0mphi\u001b[0m\u001b[0;34m(\u001b[0m\u001b[0mF\u001b[0m\u001b[0;34m.\u001b[0m\u001b[0mnumerator\u001b[0m\u001b[0;34m(\u001b[0m\u001b[0;34m)\u001b[0m\u001b[0;34m)\u001b[0m\u001b[0;34m/\u001b[0m\u001b[0mphi\u001b[0m\u001b[0;34m(\u001b[0m\u001b[0mF\u001b[0m\u001b[0;34m.\u001b[0m\u001b[0mdenominator\u001b[0m\u001b[0;34m(\u001b[0m\u001b[0;34m)\u001b[0m\u001b[0;34m)\u001b[0m \u001b[0;32mfor\u001b[0m \u001b[0mF\u001b[0m \u001b[0;32min\u001b[0m \u001b[0mfa\u001b[0m\u001b[0;34m]\u001b[0m\u001b[0;34m,\u001b[0m \u001b[0mvars\u001b[0m\u001b[0;34m)\u001b[0m\u001b[0;34m)\u001b[0m\u001b[0;34m.\u001b[0m\u001b[0mdet\u001b[0m\u001b[0;34m(\u001b[0m\u001b[0;34m)\u001b[0m\u001b[0;34m\u001b[0m\u001b[0;34m\u001b[0m\u001b[0m\n\u001b[0m\u001b[1;32m     41\u001b[0m         \u001b[0;31m#print \"g:\",g\u001b[0m\u001b[0;34m\u001b[0m\u001b[0;34m\u001b[0m\u001b[0;34m\u001b[0m\u001b[0m\n\u001b[1;32m     42\u001b[0m         \u001b[0;32mif\u001b[0m \u001b[0mchow\u001b[0m\u001b[0;34m:\u001b[0m\u001b[0;34m\u001b[0m\u001b[0;34m\u001b[0m\u001b[0m\n",
      "\u001b[0;32m~/sage-test/local/lib/python3.9/site-packages/sage/structure/element.pyx\u001b[0m in \u001b[0;36msage.structure.element.Element.__truediv__ (build/cythonized/sage/structure/element.c:13152)\u001b[0;34m()\u001b[0m\n\u001b[1;32m   1733\u001b[0m         \u001b[0mcdef\u001b[0m \u001b[0mint\u001b[0m \u001b[0mcl\u001b[0m \u001b[0;34m=\u001b[0m \u001b[0mclassify_elements\u001b[0m\u001b[0;34m(\u001b[0m\u001b[0mleft\u001b[0m\u001b[0;34m,\u001b[0m \u001b[0mright\u001b[0m\u001b[0;34m)\u001b[0m\u001b[0;34m\u001b[0m\u001b[0;34m\u001b[0m\u001b[0m\n\u001b[1;32m   1734\u001b[0m         \u001b[0;32mif\u001b[0m \u001b[0mHAVE_SAME_PARENT\u001b[0m\u001b[0;34m(\u001b[0m\u001b[0mcl\u001b[0m\u001b[0;34m)\u001b[0m\u001b[0;34m:\u001b[0m\u001b[0;34m\u001b[0m\u001b[0;34m\u001b[0m\u001b[0m\n\u001b[0;32m-> 1735\u001b[0;31m             \u001b[0;32mreturn\u001b[0m \u001b[0;34m(\u001b[0m\u001b[0;34m<\u001b[0m\u001b[0mElement\u001b[0m\u001b[0;34m>\u001b[0m\u001b[0mleft\u001b[0m\u001b[0;34m)\u001b[0m\u001b[0;34m.\u001b[0m\u001b[0m_div_\u001b[0m\u001b[0;34m(\u001b[0m\u001b[0mright\u001b[0m\u001b[0;34m)\u001b[0m\u001b[0;34m\u001b[0m\u001b[0;34m\u001b[0m\u001b[0m\n\u001b[0m\u001b[1;32m   1736\u001b[0m         \u001b[0;32mif\u001b[0m \u001b[0mBOTH_ARE_ELEMENT\u001b[0m\u001b[0;34m(\u001b[0m\u001b[0mcl\u001b[0m\u001b[0;34m)\u001b[0m\u001b[0;34m:\u001b[0m\u001b[0;34m\u001b[0m\u001b[0;34m\u001b[0m\u001b[0m\n\u001b[1;32m   1737\u001b[0m             \u001b[0;32mreturn\u001b[0m \u001b[0mcoercion_model\u001b[0m\u001b[0;34m.\u001b[0m\u001b[0mbin_op\u001b[0m\u001b[0;34m(\u001b[0m\u001b[0mleft\u001b[0m\u001b[0;34m,\u001b[0m \u001b[0mright\u001b[0m\u001b[0;34m,\u001b[0m \u001b[0mtruediv\u001b[0m\u001b[0;34m)\u001b[0m\u001b[0;34m\u001b[0m\u001b[0;34m\u001b[0m\u001b[0m\n",
      "\u001b[0;32m~/sage-test/local/lib/python3.9/site-packages/sage/rings/polynomial/multi_polynomial_libsingular.pyx\u001b[0m in \u001b[0;36msage.rings.polynomial.multi_polynomial_libsingular.MPolynomial_libsingular._div_ (build/cythonized/sage/rings/polynomial/multi_polynomial_libsingular.cpp:22156)\u001b[0;34m()\u001b[0m\n\u001b[1;32m   2360\u001b[0m         \u001b[0;32mif\u001b[0m \u001b[0mp_IsConstant\u001b[0m\u001b[0;34m(\u001b[0m\u001b[0mright\u001b[0m\u001b[0;34m.\u001b[0m\u001b[0m_poly\u001b[0m\u001b[0;34m,\u001b[0m \u001b[0mright\u001b[0m\u001b[0;34m.\u001b[0m\u001b[0m_parent_ring\u001b[0m\u001b[0;34m)\u001b[0m\u001b[0;34m:\u001b[0m\u001b[0;34m\u001b[0m\u001b[0;34m\u001b[0m\u001b[0m\n\u001b[1;32m   2361\u001b[0m             \u001b[0;32mif\u001b[0m \u001b[0mis_field\u001b[0m\u001b[0;34m:\u001b[0m\u001b[0;34m\u001b[0m\u001b[0;34m\u001b[0m\u001b[0m\n\u001b[0;32m-> 2362\u001b[0;31m                 \u001b[0msingular_polynomial_div_coeff\u001b[0m\u001b[0;34m(\u001b[0m\u001b[0;34m&\u001b[0m\u001b[0mp\u001b[0m\u001b[0;34m,\u001b[0m \u001b[0mleft\u001b[0m\u001b[0;34m.\u001b[0m\u001b[0m_poly\u001b[0m\u001b[0;34m,\u001b[0m \u001b[0mright\u001b[0m\u001b[0;34m.\u001b[0m\u001b[0m_poly\u001b[0m\u001b[0;34m,\u001b[0m \u001b[0mright\u001b[0m\u001b[0;34m.\u001b[0m\u001b[0m_parent_ring\u001b[0m\u001b[0;34m)\u001b[0m\u001b[0;34m\u001b[0m\u001b[0;34m\u001b[0m\u001b[0m\n\u001b[0m\u001b[1;32m   2363\u001b[0m                 \u001b[0;32mreturn\u001b[0m \u001b[0mnew_MP\u001b[0m\u001b[0;34m(\u001b[0m\u001b[0mleft\u001b[0m\u001b[0;34m.\u001b[0m\u001b[0m_parent\u001b[0m\u001b[0;34m,\u001b[0m \u001b[0mp\u001b[0m\u001b[0;34m)\u001b[0m\u001b[0;34m\u001b[0m\u001b[0;34m\u001b[0m\u001b[0m\n\u001b[1;32m   2364\u001b[0m             \u001b[0;32melse\u001b[0m\u001b[0;34m:\u001b[0m\u001b[0;34m\u001b[0m\u001b[0;34m\u001b[0m\u001b[0m\n",
      "\u001b[0;32m~/sage-test/local/lib/python3.9/site-packages/sage/libs/singular/polynomial.pyx\u001b[0m in \u001b[0;36msage.libs.singular.polynomial.singular_polynomial_div_coeff (build/cythonized/sage/libs/singular/polynomial.cpp:4961)\u001b[0;34m()\u001b[0m\n\u001b[1;32m    342\u001b[0m     \"\"\"\n\u001b[1;32m    343\u001b[0m     \u001b[0;32mif\u001b[0m \u001b[0mq\u001b[0m \u001b[0;34m==\u001b[0m \u001b[0mNULL\u001b[0m\u001b[0;34m:\u001b[0m\u001b[0;34m\u001b[0m\u001b[0;34m\u001b[0m\u001b[0m\n\u001b[0;32m--> 344\u001b[0;31m         \u001b[0;32mraise\u001b[0m \u001b[0mZeroDivisionError\u001b[0m\u001b[0;34m\u001b[0m\u001b[0;34m\u001b[0m\u001b[0m\n\u001b[0m\u001b[1;32m    345\u001b[0m     \u001b[0msig_on\u001b[0m\u001b[0;34m(\u001b[0m\u001b[0;34m)\u001b[0m\u001b[0;34m\u001b[0m\u001b[0;34m\u001b[0m\u001b[0m\n\u001b[1;32m    346\u001b[0m     \u001b[0mcdef\u001b[0m \u001b[0mnumber\u001b[0m \u001b[0;34m*\u001b[0m\u001b[0mn\u001b[0m \u001b[0;34m=\u001b[0m \u001b[0mp_GetCoeff\u001b[0m\u001b[0;34m(\u001b[0m\u001b[0mq\u001b[0m\u001b[0;34m,\u001b[0m \u001b[0mr\u001b[0m\u001b[0;34m)\u001b[0m\u001b[0;34m\u001b[0m\u001b[0;34m\u001b[0m\u001b[0m\n",
      "\u001b[0;31mZeroDivisionError\u001b[0m: "
     ]
    }
   ],
   "source": [
    "P.<x,y,z>=ProjectiveSpace(QQ,2)\n",
    "f=DynamicalSystem([x^2,z^2,y^2])\n",
    "sigma(f,1)"
   ]
  },
  {
   "cell_type": "code",
   "execution_count": 2,
   "metadata": {},
   "outputs": [
    {
     "name": "stdout",
     "output_type": "stream",
     "text": [
      "Dynamical System of Projective Space of dimension 1 over Rational Field\n",
      "  Defn: Defined on coordinates by sending (x : y) to\n",
      "        (x^2 - 2*x*y : y^2) 1\n",
      "j: 1\n",
      "im: [v0]\n",
      "[x^2 - 2*x]\n",
      "(2, 2)\n",
      "j: 0\n",
      "im: [0]\n",
      "[y^2/(-2*y + 1)]\n",
      "(3, 3)\n"
     ]
    },
    {
     "data": {
      "text/plain": [
       "w^3 - 3*w^2*t + 2*w^2 + 3*w*t^2 - 4*w*t - 8*w - t^3 + 2*t^2 + 8*t"
      ]
     },
     "execution_count": 2,
     "metadata": {},
     "output_type": "execute_result"
    }
   ],
   "source": [
    "P.<x,y>=ProjectiveSpace(QQ,1)\n",
    "f=DynamicalSystem([x^2-2*x*y,y^2])\n",
    "#f=DynamicalSystem([x^4-2*x^3*y-x^2*y^2+3*x*y^3,y^4])\n",
    "#for Q in f.periodic_points(1):\n",
    "#    print Q,f.multiplier(Q,1).charpoly().factor()\n",
    "sigma(f,1)"
   ]
  },
  {
   "cell_type": "code",
   "execution_count": 8,
   "metadata": {},
   "outputs": [
    {
     "data": {
      "text/plain": [
       "w^3 - 6*w^2 + 11*w - 6"
      ]
     },
     "execution_count": 8,
     "metadata": {},
     "output_type": "execute_result"
    }
   ],
   "source": [
    "R.<w>=QQ[]\n",
    "\n",
    "(w-1)*(w-2)*(w-3)"
   ]
  },
  {
   "cell_type": "code",
   "execution_count": 11,
   "metadata": {},
   "outputs": [
    {
     "data": {
      "text/plain": [
       "-t^3 + 6*t^2 - 11*t + 6"
      ]
     },
     "execution_count": 11,
     "metadata": {},
     "output_type": "execute_result"
    }
   ],
   "source": [
    "R.<w,t>=QQ[]\n",
    "\n",
    "((w-(t-1))*(w-(t-2))*(w-(t-3))).specialization({w:0})"
   ]
  },
  {
   "cell_type": "code",
   "execution_count": 4,
   "metadata": {},
   "outputs": [
    {
     "data": {
      "text/plain": [
       "[2, -8, 0]"
      ]
     },
     "execution_count": 4,
     "metadata": {},
     "output_type": "execute_result"
    }
   ],
   "source": [
    "f.sigma_invariants(1)"
   ]
  },
  {
   "cell_type": "code",
   "execution_count": 3,
   "metadata": {},
   "outputs": [
    {
     "name": "stdout",
     "output_type": "stream",
     "text": [
      "Dynamical System of Projective Space of dimension 1 over Rational Field\n",
      "  Defn: Defined on coordinates by sending (x : y) to\n",
      "        (x^2 - 2*x*y : y^2) 1\n",
      "j: 1\n",
      "im: [v0]\n",
      "[x^2 - 2*x]\n",
      "(2, 2)\n",
      "j: 0\n",
      "im: [0]\n",
      "[y^2/(-2*y + 1)]\n",
      "(3, 3)\n"
     ]
    },
    {
     "data": {
      "text/plain": [
       "w^3 - 3*w^2*t + 2*w^2 + 3*w*t^2 - 4*w*t - 8*w - t^3 + 2*t^2 + 8*t"
      ]
     },
     "execution_count": 3,
     "metadata": {},
     "output_type": "execute_result"
    }
   ],
   "source": [
    "sigma(f,1)"
   ]
  },
  {
   "cell_type": "code",
   "execution_count": null,
   "metadata": {},
   "outputs": [],
   "source": []
  },
  {
   "cell_type": "code",
   "execution_count": 11,
   "metadata": {},
   "outputs": [],
   "source": [
    "f.sigma_invariants?"
   ]
  },
  {
   "cell_type": "code",
   "execution_count": 34,
   "metadata": {},
   "outputs": [
    {
     "name": "stdout",
     "output_type": "stream",
     "text": [
      "(-1 : 1) x - 3\n",
      "(0 : 1) x\n",
      "(1 : 0) x\n",
      "(1 : 1) x - 3\n"
     ]
    }
   ],
   "source": [
    "P.<x,y>=ProjectiveSpace(QQ,1)\n",
    "f=DynamicalSystem([x^3,y^3])\n",
    "for Q in f.periodic_points(1):\n",
    "    print Q,f.multiplier(Q,1).charpoly().factor()"
   ]
  },
  {
   "cell_type": "code",
   "execution_count": 14,
   "metadata": {},
   "outputs": [
    {
     "data": {
      "text/plain": [
       "x^4 - 2*x^3 - x^2 + 3*x"
      ]
     },
     "execution_count": 14,
     "metadata": {},
     "output_type": "execute_result"
    }
   ],
   "source": [
    "(x-1)*x*(x+1)*(x-2) + x"
   ]
  }
 ],
 "metadata": {
  "kernelspec": {
   "display_name": "SageMath 9.4.beta3",
   "language": "sage",
   "name": "sagemath"
  },
  "language": "python",
  "language_info": {
   "codemirror_mode": {
    "name": "ipython",
    "version": 3
   },
   "file_extension": ".py",
   "mimetype": "text/x-python",
   "name": "python",
   "nbconvert_exporter": "python",
   "pygments_lexer": "ipython3",
   "version": "3.8.5"
  }
 },
 "nbformat": 4,
 "nbformat_minor": 2
}
