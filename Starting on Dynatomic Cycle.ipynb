{
 "cells": [
  {
   "cell_type": "code",
   "execution_count": 1,
   "metadata": {},
   "outputs": [
    {
     "data": {
      "text/plain": [
       "(1/4) * (2*x - 3) * (2*x + 1)"
      ]
     },
     "execution_count": 1,
     "metadata": {},
     "output_type": "execute_result"
    }
   ],
   "source": [
    "R.<x> = PolynomialRing(QQ,1)\n",
    "f = x^2 - 3/4\n",
    "F1 = (f-x).factor(); F1"
   ]
  },
  {
   "cell_type": "code",
   "execution_count": 2,
   "metadata": {},
   "outputs": [
    {
     "data": {
      "text/plain": [
       "x^4 - 3/2*x^2 - 3/16"
      ]
     },
     "execution_count": 2,
     "metadata": {},
     "output_type": "execute_result"
    }
   ],
   "source": [
    "F = f(f)\n",
    "F"
   ]
  },
  {
   "cell_type": "code",
   "execution_count": 3,
   "metadata": {},
   "outputs": [
    {
     "data": {
      "text/plain": [
       "(1/16) * (2*x - 3) * (2*x + 1)^3"
      ]
     },
     "execution_count": 3,
     "metadata": {},
     "output_type": "execute_result"
    }
   ],
   "source": [
    "F2 = (F-x).factor();F2"
   ]
  },
  {
   "cell_type": "code",
   "execution_count": 4,
   "metadata": {},
   "outputs": [
    {
     "name": "stdout",
     "output_type": "stream",
     "text": [
      "(1/4) * (2*x + 1)^2\n"
     ]
    }
   ],
   "source": [
    "print (((F-x ) /(f-x ) ) . factor () ) ;"
   ]
  },
  {
   "cell_type": "code",
   "execution_count": 5,
   "metadata": {},
   "outputs": [],
   "source": [
    "I2 = R.ideal(F-x)\n",
    "I1 = R.ideal(f-x)"
   ]
  },
  {
   "cell_type": "code",
   "execution_count": 6,
   "metadata": {},
   "outputs": [
    {
     "data": {
      "text/plain": [
       "Ideal (4*x^2 + 4*x + 1) of Multivariate Polynomial Ring in x over Rational Field"
      ]
     },
     "execution_count": 6,
     "metadata": {},
     "output_type": "execute_result"
    }
   ],
   "source": [
    "I3 = I2.quotient(I1)\n",
    "I3"
   ]
  },
  {
   "cell_type": "code",
   "execution_count": 11,
   "metadata": {},
   "outputs": [
    {
     "data": {
      "text/plain": [
       "Ideal (1) of Multivariate Polynomial Ring in x over Rational Field"
      ]
     },
     "execution_count": 11,
     "metadata": {},
     "output_type": "execute_result"
    }
   ],
   "source": [
    "I1_rad = I1.radical()\n",
    "I1_rad.quotient(I2)"
   ]
  },
  {
   "cell_type": "code",
   "execution_count": 30,
   "metadata": {},
   "outputs": [
    {
     "data": {
      "text/plain": [
       "True"
      ]
     },
     "execution_count": 30,
     "metadata": {},
     "output_type": "execute_result"
    }
   ],
   "source": [
    "f_4 = f(f(f(f)))\n",
    "I4 = R.ideal(f_4-x)\n",
    "I5 = I4.radical().quotient(I2)\n",
    "I6 = I4.quotient(I2)\n",
    "I5 == I6"
   ]
  },
  {
   "cell_type": "code",
   "execution_count": 36,
   "metadata": {},
   "outputs": [
    {
     "data": {
      "text/plain": [
       "(1/18014398509481984) * (18014398509481984*x^54 - 18014398509481984*x^53 - 364791569817010176*x^52 + 369295169444380672*x^51 + 3363063021738917888*x^50 - 3455386814100013056*x^49 - 18593955486529224704*x^48 + 19475816588563709952*x^47 + 68125810825745137664*x^46 - 73319024146056740864*x^45 - 171270169794667610112*x^44 + 192234531613193535488*x^43 + 290300774138999996416*x^42 - 351066313390924234752*x^41 - 291052340914119770112*x^40 + 418906726182470811648*x^39 + 44104849288077508608*x^38 - 234014162298152681472*x^37 + 353112310260254638080*x^36 - 176572572453637718016*x^35 - 548061978000202137600*x^34 + 504854842057412313088*x^33 + 304000218631975731200*x^32 - 446762397455886581760*x^31 + 148457616912255287296*x^30 + 80206078383572910080*x^29 - 352061340169248178176*x^28 + 211112983394800107520*x^27 + 189482309063119208448*x^26 - 205569342750330978304*x^25 + 41218630219139645440*x^24 + 46997250172231090176*x^23 - 93365262885685559296*x^22 + 40171661551565012992*x^21 + 27989038811071905792*x^20 - 25890164768841400320*x^19 + 9194971897923895296*x^18 - 53916399833972736*x^17 - 1612025070203240448*x^16 + 437329976973852672*x^15 - 3777426304931758080*x^14 + 3463544178886213632*x^13 - 843540726852804608*x^12 - 927657778315902976*x^11 + 2151868292695836672*x^10 - 1043640408373876736*x^9 - 248861767478325760*x^8 + 358770728607467520*x^7 - 285376546289359040*x^6 + 138256850669889216*x^5 - 50422416380754640*x^4 - 53628717879008*x^3 + 62876479152391068*x^2 - 46092694459185124*x + 27208205627267641)"
      ]
     },
     "execution_count": 36,
     "metadata": {},
     "output_type": "execute_result"
    }
   ],
   "source": [
    "f_6 = f(f(f(f(f(f)))))\n",
    "f_3 = f(f(f))\n",
    "F6 = (f_6-x)*(f-x)/((f_3-x)*(F-x))\n",
    "F6.factor()"
   ]
  },
  {
   "cell_type": "code",
   "execution_count": 48,
   "metadata": {},
   "outputs": [],
   "source": [
    "I7 = R.ideal(f_3-x)\n",
    "I8 = R.ideal(f - x)\n",
    "Ideal = I7.radical().quotient(I8)\n",
    "A.<a> = Ideal.gens()[0].univariate_polynomial().splitting_field()"
   ]
  },
  {
   "cell_type": "code",
   "execution_count": 56,
   "metadata": {
    "scrolled": true
   },
   "outputs": [
    {
     "data": {
      "text/plain": [
       "[(10436281796566580378582863/5125293440834215202437320933376*a^17 + 49901312212673723020978811/5125293440834215202437320933376*a^16 - 8383139564536254801121313/320330840052138450152332558336*a^15 + 320893020336742384071613/5005169375814663283630196224*a^14 + 1288518570075517905565634915/1281323360208553800609330233344*a^13 - 1130991962702489211614341629/1281323360208553800609330233344*a^12 + 47603523654466327191457949/80082710013034612538083139584*a^11 + 10858483248066979282285218757/320330840052138450152332558336*a^10 - 39320088765556368249392677999/2562646720417107601218660466688*a^9 - 641435891122847536135848634099/2562646720417107601218660466688*a^8 + 154579610849144859653108992815/320330840052138450152332558336*a^7 + 515189849503362569406938767461/160165420026069225076166279168*a^6 + 6727702673042604904902003405783/1281323360208553800609330233344*a^5 + 9000847598000353850545451906063/1281323360208553800609330233344*a^4 + 5913054441778973487931118165715/160165420026069225076166279168*a^3 + 24811689075914456883192508657465/320330840052138450152332558336*a^2 + 309342445552360806178025022489127/5125293440834215202437320933376*a + 84968569431479136601784157522595/5125293440834215202437320933376,\n",
       "  1),\n",
       " (7388544864525754568135187/5125293440834215202437320933376*a^17 + 36701217622545852685925365/5125293440834215202437320933376*a^16 - 5572493939248320514813341/320330840052138450152332558336*a^15 + 13276027047713668674820897/320330840052138450152332558336*a^14 + 926182285793929438009008567/1281323360208553800609330233344*a^13 - 642371894224437143312585647/1281323360208553800609330233344*a^12 + 19631178775452079696766829/80082710013034612538083139584*a^11 + 121179682386659128887858611/5005169375814663283630196224*a^10 - 17116350268089473972192598643/2562646720417107601218660466688*a^9 - 464331602796433804480105499669/2562646720417107601218660466688*a^8 + 99866394001271254627204686419/320330840052138450152332558336*a^7 + 754104896884570044115010650905/320330840052138450152332558336*a^6 + 5239360564081505631450245132955/1281323360208553800609330233344*a^5 + 7038793245912716733091740461517/1281323360208553800609330233344*a^4 + 4312552878593268030645493297167/160165420026069225076166279168*a^3 + 9507696557337904265431329930975/160165420026069225076166279168*a^2 + 257400358566873932923758761306379/5125293440834215202437320933376*a + 81979849769414548357140925315133/5125293440834215202437320933376,\n",
       "  1),\n",
       " (-635911818981650068040573/5125293440834215202437320933376*a^17 - 1033137767569690491333027/5125293440834215202437320933376*a^16 + 477114162485839517442385/160165420026069225076166279168*a^15 - 1719668767725080705111813/160165420026069225076166279168*a^14 - 52303438231889096660809597/1281323360208553800609330233344*a^13 + 285161183670592210790905485/1281323360208553800609330233344*a^12 - 133526402121566158154588721/320330840052138450152332558336*a^11 - 486179005151046602641543199/320330840052138450152332558336*a^10 + 17370663245178069570910567733/2562646720417107601218660466688*a^9 + 13170559322782802543616032907/2562646720417107601218660466688*a^8 - 1329021522411977960638245419/20020677503258653134520784896*a^7 - 2300677517564725238554386759/40041355006517306269041569792*a^6 + 178306274386410633022859053023/1281323360208553800609330233344*a^5 - 11098876779590089224247957935/1281323360208553800609330233344*a^4 - 502148392394228924351195505913/320330840052138450152332558336*a^3 + 421966366090424896747575649561/320330840052138450152332558336*a^2 + 18521415541090343483340704523019/5125293440834215202437320933376*a + 2728582521934049950454430394773/5125293440834215202437320933376,\n",
       "  1),\n",
       " (-296711940638529738670151/1281323360208553800609330233344*a^17 - 3791628913813468165035095/2562646720417107601218660466688*a^16 + 247690434899002949131013/160165420026069225076166279168*a^15 - 389544416688899125952879/320330840052138450152332558336*a^14 - 42260222887713105339330537/320330840052138450152332558336*a^13 - 41985835238552130114252733/640661680104276900304665116672*a^12 + 39291080778662870644932827/160165420026069225076166279168*a^11 - 1372090601062277276978110541/320330840052138450152332558336*a^10 - 2517871844192640209508639701/640661680104276900304665116672*a^9 + 46736682384013786131078183619/1281323360208553800609330233344*a^8 - 2856746970258865727011054685/160165420026069225076166279168*a^7 - 155295712262397719526944340689/320330840052138450152332558336*a^6 - 342548942003455507681796660137/320330840052138450152332558336*a^5 - 867251209832502589804050027189/640661680104276900304665116672*a^4 - 798306237914672568667642399955/160165420026069225076166279168*a^3 - 4710832567496897262723132985475/320330840052138450152332558336*a^2 - 20191804526917613674692567539527/1281323360208553800609330233344*a - 15600222531642703971188845063911/2562646720417107601218660466688,\n",
       "  1),\n",
       " (-1311158298950735411639489/1281323360208553800609330233344*a^17 - 12951006945913832166966863/2562646720417107601218660466688*a^16 + 1012457099968278396725435/80082710013034612538083139584*a^15 - 9367517940281577228224501/320330840052138450152332558336*a^14 - 164936908664873201609407645/320330840052138450152332558336*a^13 + 242281680893732185417721335/640661680104276900304665116672*a^12 - 2386368050965428159210907/20020677503258653134520784896*a^11 - 5551464612600959068368762979/320330840052138450152332558336*a^10 + 3477783042821206022377316001/640661680104276900304665116672*a^9 + 167571664710530359310693204115/1281323360208553800609330233344*a^8 - 18348300801724935301652819765/80082710013034612538083139584*a^7 - 537875203115069693646936115635/320330840052138450152332558336*a^6 - 896727507741759731042242498921/320330840052138450152332558336*a^5 - 2336385027470532618051351389929/640661680104276900304665116672*a^4 - 754358250817205235304157957209/40041355006517306269041569792*a^3 - 13225368541719776279606127201925/320330840052138450152332558336*a^2 - 40993038282033004041561494746857/1281323360208553800609330233344*a - 21755680991676364050719930643087/2562646720417107601218660466688,\n",
       "  1),\n",
       " (-10757433883753624277438917/5125293440834215202437320933376*a^17 - 52084120348195284551567233/5125293440834215202437320933376*a^16 + 4228097954570888397943059/160165420026069225076166279168*a^15 - 20616780456844543491003123/320330840052138450152332558336*a^14 - 1333608891427213019118881157/1281323360208553800609330233344*a^13 + 1087610981945974033529084587/1281323360208553800609330233344*a^12 - 175812680339986360140801533/320330840052138450152332558336*a^11 - 5602124350999440291559876571/160165420026069225076166279168*a^10 + 35226130993953509399200003709/2562646720417107601218660466688*a^9 + 663980240407410247188795325393/2562646720417107601218660466688*a^8 - 38518740836101748562367091025/80082710013034612538083139584*a^7 - 1072908260373309967846572635431/320330840052138450152332558336*a^6 - 7188263712529660214478950955529/1281323360208553800609330233344*a^5 - 9621269492527410078702141575409/1281323360208553800609330233344*a^4 - 12317587765983267093033478962269/320330840052138450152332558336*a^3 - 3289105930933002096059185497697/40041355006517306269041569792*a^2 - 340524848424522611720108239172989/5125293440834215202437320933376*a - 100090488117023814067999282751881/5125293440834215202437320933376,\n",
       "  1)]"
      ]
     },
     "execution_count": 56,
     "metadata": {},
     "output_type": "execute_result"
    }
   ],
   "source": [
    "poly = Ideal.gens()[0]\n",
    "poly.change_ring(A).univariate_polynomial().roots()"
   ]
  },
  {
   "cell_type": "code",
   "execution_count": 63,
   "metadata": {},
   "outputs": [],
   "source": [
    "R.<z> = QQ[]\n",
    "from sage.rings.polynomial.complex_roots import complex_roots\n",
    "h = z^6 - 10*z^4+ 24*z^2 - 8\n",
    "K.<v> = NumberField(h, embedding = complex_roots(h)[0][0])\n",
    "phi = K.embeddings(CC)[0]\n",
    "R.<x,y,z> = PolynomialRing(K,3)\n",
    "P = ProjectiveSpace(R)\n",
    "f = DynamicalSystem([x^2-7/4*z^2, y^2-7/4*z^2, z^2])\n",
    "f1 = f[0]\n",
    "f2 = f[1]\n",
    "f3 = f[2]\n",
    "X1 = P.subscheme([x*f2 - y*f1, x*f3 -z*f1, y*f3 - z*f2])"
   ]
  },
  {
   "cell_type": "code",
   "execution_count": 64,
   "metadata": {},
   "outputs": [
    {
     "data": {
      "text/plain": [
       "Closed subscheme of Projective Space of dimension 2 over Number Field in v with defining polynomial z^6 - 10*z^4 + 24*z^2 - 8 with v = -2.54832478452707? defined by:\n",
       "  -x^2*y + x*y^2 - 7/4*x*z^2 + 7/4*y*z^2,\n",
       "  -x^2*z + x*z^2 + 7/4*z^3,\n",
       "  -y^2*z + y*z^2 + 7/4*z^3"
      ]
     },
     "execution_count": 64,
     "metadata": {},
     "output_type": "execute_result"
    }
   ],
   "source": [
    "X1"
   ]
  },
  {
   "cell_type": "code",
   "execution_count": 65,
   "metadata": {},
   "outputs": [
    {
     "data": {
      "text/plain": [
       "True"
      ]
     },
     "execution_count": 65,
     "metadata": {},
     "output_type": "execute_result"
    }
   ],
   "source": [
    "X2 = f.periodic_points(1, minimal=False, return_scheme = True)\n",
    "X2 == X1"
   ]
  },
  {
   "cell_type": "code",
   "execution_count": 66,
   "metadata": {},
   "outputs": [
    {
     "data": {
      "text/plain": [
       "Closed subscheme of Projective Space of dimension 2 over Number Field in v with defining polynomial z^6 - 10*z^4 + 24*z^2 - 8 with v = -2.54832478452707? defined by:\n",
       "  x^2*y - x*y^2 + 7/4*x*z^2 - 7/4*y*z^2,\n",
       "  x^2*z - x*z^2 - 7/4*z^3,\n",
       "  y^2*z - y*z^2 - 7/4*z^3"
      ]
     },
     "execution_count": 66,
     "metadata": {},
     "output_type": "execute_result"
    }
   ],
   "source": [
    "X2"
   ]
  },
  {
   "cell_type": "code",
   "execution_count": 68,
   "metadata": {},
   "outputs": [
    {
     "data": {
      "text/plain": [
       "[(1 : 1 : 0),\n",
       " (0 : 1 : 0),\n",
       " (-1/4*v^5 + 2*v^3 - 3*v + 1/2 : -1/4*v^5 + 2*v^3 - 3*v + 1/2 : 1),\n",
       " (-1/4*v^5 + 2*v^3 - 3*v + 1/2 : 1/4*v^5 - 2*v^3 + 3*v + 1/2 : 1),\n",
       " (1/4*v^5 - 2*v^3 + 3*v + 1/2 : -1/4*v^5 + 2*v^3 - 3*v + 1/2 : 1),\n",
       " (1 : 0 : 0),\n",
       " (1/4*v^5 - 2*v^3 + 3*v + 1/2 : 1/4*v^5 - 2*v^3 + 3*v + 1/2 : 1)]"
      ]
     },
     "execution_count": 68,
     "metadata": {},
     "output_type": "execute_result"
    }
   ],
   "source": [
    "X1.rational_points()"
   ]
  },
  {
   "cell_type": "code",
   "execution_count": 89,
   "metadata": {},
   "outputs": [
    {
     "data": {
      "text/plain": [
       "0"
      ]
     },
     "execution_count": 89,
     "metadata": {},
     "output_type": "execute_result"
    }
   ],
   "source": [
    "res1 = (x*f2 - y*f1).macaulay_resultant([x*f3 -z*f1, y*f3 - z*f2])\n",
    "res1"
   ]
  },
  {
   "cell_type": "code",
   "execution_count": 76,
   "metadata": {},
   "outputs": [],
   "source": [
    "res2 = f1.resultant(f3)"
   ]
  },
  {
   "cell_type": "code",
   "execution_count": 81,
   "metadata": {},
   "outputs": [
    {
     "name": "stdout",
     "output_type": "stream",
     "text": [
      "y^4 - 7/2*y^2*z^2 + 49/16*z^4\n",
      "z^4\n"
     ]
    }
   ],
   "source": [
    "print(res1)\n",
    "print(res2)"
   ]
  },
  {
   "cell_type": "code",
   "execution_count": 82,
   "metadata": {},
   "outputs": [
    {
     "data": {
      "text/plain": [
       "1"
      ]
     },
     "execution_count": 82,
     "metadata": {},
     "output_type": "execute_result"
    }
   ],
   "source": [
    "res2.resultant(res1)"
   ]
  },
  {
   "cell_type": "code",
   "execution_count": 88,
   "metadata": {},
   "outputs": [
    {
     "data": {
      "text/plain": [
       "0"
      ]
     },
     "execution_count": 88,
     "metadata": {},
     "output_type": "execute_result"
    }
   ],
   "source": [
    "res1"
   ]
  },
  {
   "cell_type": "code",
   "execution_count": 94,
   "metadata": {},
   "outputs": [
    {
     "data": {
      "text/plain": [
       "0"
      ]
     },
     "execution_count": 94,
     "metadata": {},
     "output_type": "execute_result"
    }
   ],
   "source": [
    "R.macaulay_resultant(list(X1.defining_polynomials()))"
   ]
  },
  {
   "cell_type": "code",
   "execution_count": 107,
   "metadata": {},
   "outputs": [
    {
     "ename": "ValueError",
     "evalue": "no natural map from the base ring (=Number Field in v with defining polynomial z^6 - 10*z^4 + 24*z^2 - 8 with v = -2.54832478452707?) to R (=Algebraic Field)!",
     "output_type": "error",
     "traceback": [
      "\u001b[0;31m---------------------------------------------------------------------------\u001b[0m",
      "\u001b[0;31mValueError\u001b[0m                                Traceback (most recent call last)",
      "\u001b[0;32m<ipython-input-107-d9d4c4d6ce3c>\u001b[0m in \u001b[0;36m<module>\u001b[0;34m\u001b[0m\n\u001b[0;32m----> 1\u001b[0;31m \u001b[0mX1\u001b[0m\u001b[0;34m.\u001b[0m\u001b[0mrational_points\u001b[0m\u001b[0;34m(\u001b[0m\u001b[0mF\u001b[0m\u001b[0;34m=\u001b[0m\u001b[0mQQbar\u001b[0m\u001b[0;34m)\u001b[0m\u001b[0;34m\u001b[0m\u001b[0;34m\u001b[0m\u001b[0m\n\u001b[0m",
      "\u001b[0;32m~/Documents/SageDevelopment/local/lib/python3.9/site-packages/sage/schemes/generic/algebraic_scheme.py\u001b[0m in \u001b[0;36mrational_points\u001b[0;34m(self, **kwds)\u001b[0m\n\u001b[1;32m   1825\u001b[0m             \u001b[0;32mreturn\u001b[0m \u001b[0mself\u001b[0m\u001b[0;34m(\u001b[0m\u001b[0mself\u001b[0m\u001b[0;34m.\u001b[0m\u001b[0mbase_ring\u001b[0m\u001b[0;34m(\u001b[0m\u001b[0;34m)\u001b[0m\u001b[0;34m)\u001b[0m\u001b[0;34m.\u001b[0m\u001b[0mnumerical_points\u001b[0m\u001b[0;34m(\u001b[0m\u001b[0mF\u001b[0m\u001b[0;34m=\u001b[0m\u001b[0mF\u001b[0m\u001b[0;34m,\u001b[0m \u001b[0;34m**\u001b[0m\u001b[0mkwds\u001b[0m\u001b[0;34m)\u001b[0m\u001b[0;34m\u001b[0m\u001b[0;34m\u001b[0m\u001b[0m\n\u001b[1;32m   1826\u001b[0m         \u001b[0;32mtry\u001b[0m\u001b[0;34m:\u001b[0m\u001b[0;34m\u001b[0m\u001b[0;34m\u001b[0m\u001b[0m\n\u001b[0;32m-> 1827\u001b[0;31m             \u001b[0mX\u001b[0m \u001b[0;34m=\u001b[0m \u001b[0mself\u001b[0m\u001b[0;34m.\u001b[0m\u001b[0mbase_extend\u001b[0m\u001b[0;34m(\u001b[0m\u001b[0mF\u001b[0m\u001b[0;34m)\u001b[0m\u001b[0;34m(\u001b[0m\u001b[0mF\u001b[0m\u001b[0;34m)\u001b[0m\u001b[0;34m\u001b[0m\u001b[0;34m\u001b[0m\u001b[0m\n\u001b[0m\u001b[1;32m   1828\u001b[0m             \u001b[0;32mreturn\u001b[0m \u001b[0mX\u001b[0m\u001b[0;34m.\u001b[0m\u001b[0mpoints\u001b[0m\u001b[0;34m(\u001b[0m\u001b[0;34m)\u001b[0m\u001b[0;34m\u001b[0m\u001b[0;34m\u001b[0m\u001b[0m\n\u001b[1;32m   1829\u001b[0m         \u001b[0;32mexcept\u001b[0m \u001b[0mTypeError\u001b[0m\u001b[0;34m:\u001b[0m\u001b[0;34m\u001b[0m\u001b[0;34m\u001b[0m\u001b[0m\n",
      "\u001b[0;32m~/Documents/SageDevelopment/local/lib/python3.9/site-packages/sage/schemes/generic/algebraic_scheme.py\u001b[0m in \u001b[0;36mbase_extend\u001b[0;34m(self, R)\u001b[0m\n\u001b[1;32m   1004\u001b[0m             \u001b[0mValueError\u001b[0m\u001b[0;34m:\u001b[0m \u001b[0mno\u001b[0m \u001b[0mnatural\u001b[0m \u001b[0mmap\u001b[0m \u001b[0;32mfrom\u001b[0m \u001b[0mthe\u001b[0m \u001b[0mbase\u001b[0m \u001b[0mring\u001b[0m \u001b[0;34m(\u001b[0m\u001b[0;34m=\u001b[0m\u001b[0mFinite\u001b[0m \u001b[0mField\u001b[0m \u001b[0mof\u001b[0m \u001b[0msize\u001b[0m \u001b[0;36m11\u001b[0m\u001b[0;34m)\u001b[0m \u001b[0mto\u001b[0m \u001b[0mR\u001b[0m \u001b[0;34m(\u001b[0m\u001b[0;34m=\u001b[0m\u001b[0mInteger\u001b[0m \u001b[0mRing\u001b[0m\u001b[0;34m)\u001b[0m\u001b[0;31m!\u001b[0m\u001b[0;34m\u001b[0m\u001b[0;34m\u001b[0m\u001b[0m\n\u001b[1;32m   1005\u001b[0m         \"\"\"\n\u001b[0;32m-> 1006\u001b[0;31m         \u001b[0mA\u001b[0m \u001b[0;34m=\u001b[0m \u001b[0mself\u001b[0m\u001b[0;34m.\u001b[0m\u001b[0mambient_space\u001b[0m\u001b[0;34m(\u001b[0m\u001b[0;34m)\u001b[0m\u001b[0;34m.\u001b[0m\u001b[0mbase_extend\u001b[0m\u001b[0;34m(\u001b[0m\u001b[0mR\u001b[0m\u001b[0;34m)\u001b[0m\u001b[0;34m\u001b[0m\u001b[0;34m\u001b[0m\u001b[0m\n\u001b[0m\u001b[1;32m   1007\u001b[0m         \u001b[0;32mreturn\u001b[0m \u001b[0mA\u001b[0m\u001b[0;34m.\u001b[0m\u001b[0msubscheme\u001b[0m\u001b[0;34m(\u001b[0m\u001b[0mself\u001b[0m\u001b[0;34m.\u001b[0m\u001b[0m__polys\u001b[0m\u001b[0;34m)\u001b[0m\u001b[0;34m\u001b[0m\u001b[0;34m\u001b[0m\u001b[0m\n\u001b[1;32m   1008\u001b[0m \u001b[0;34m\u001b[0m\u001b[0m\n",
      "\u001b[0;32m~/Documents/SageDevelopment/local/lib/python3.9/site-packages/sage/schemes/generic/ambient_space.py\u001b[0m in \u001b[0;36mbase_extend\u001b[0;34m(self, R)\u001b[0m\n\u001b[1;32m    238\u001b[0m                 \u001b[0;32mreturn\u001b[0m \u001b[0mself\u001b[0m\u001b[0;34m\u001b[0m\u001b[0;34m\u001b[0m\u001b[0m\n\u001b[1;32m    239\u001b[0m             \u001b[0;32mif\u001b[0m \u001b[0;32mnot\u001b[0m \u001b[0mR\u001b[0m\u001b[0;34m.\u001b[0m\u001b[0mhas_coerce_map_from\u001b[0m\u001b[0;34m(\u001b[0m\u001b[0mself\u001b[0m\u001b[0;34m.\u001b[0m\u001b[0mbase_ring\u001b[0m\u001b[0;34m(\u001b[0m\u001b[0;34m)\u001b[0m\u001b[0;34m)\u001b[0m\u001b[0;34m:\u001b[0m\u001b[0;34m\u001b[0m\u001b[0;34m\u001b[0m\u001b[0m\n\u001b[0;32m--> 240\u001b[0;31m                 raise ValueError(\n\u001b[0m\u001b[1;32m    241\u001b[0m                     \u001b[0;34m\"no natural map from the base ring (=%s) to R (=%s)!\"\u001b[0m\u001b[0;34m\u001b[0m\u001b[0;34m\u001b[0m\u001b[0m\n\u001b[1;32m    242\u001b[0m                     % (self.base_ring(), R))\n",
      "\u001b[0;31mValueError\u001b[0m: no natural map from the base ring (=Number Field in v with defining polynomial z^6 - 10*z^4 + 24*z^2 - 8 with v = -2.54832478452707?) to R (=Algebraic Field)!"
     ]
    }
   ],
   "source": [
    "X1.rational_points(F=QQbar)"
   ]
  },
  {
   "cell_type": "code",
   "execution_count": 3,
   "metadata": {},
   "outputs": [],
   "source": [
    "#show this to ben\n",
    "R.<z> = QQ[]\n",
    "h = z^6 - 10*z^4+ 24*z^2 - 8\n",
    "K.<v> = NumberField(h)\n",
    "phi = K.embeddings(QQbar)[0]\n",
    "K.<v> = NumberField(h, embedding = phi(v))\n",
    "phi = K.embeddings(QQbar)[0]\n",
    "R.<x,y,z> = PolynomialRing(K,3)\n",
    "P = ProjectiveSpace(R)\n",
    "f = DynamicalSystem([x^2-7/4*z^2, y^2-7/4*z^2, z^2])\n",
    "f1 = f[0]\n",
    "f2 = f[1]\n",
    "f3 = f[2]\n",
    "X1 = P.subscheme([x*f2 - y*f1, x*f3 -z*f1, y*f3 - z*f2])"
   ]
  },
  {
   "cell_type": "code",
   "execution_count": 4,
   "metadata": {},
   "outputs": [
    {
     "data": {
      "text/plain": [
       "[(-0.9142135623730951? : -0.9142135623730951? : 1),\n",
       " (-0.9142135623730951? : 1.914213562373095? : 1),\n",
       " (0 : 1 : 0),\n",
       " (1 : 0 : 0),\n",
       " (1 : 1 : 0),\n",
       " (1.914213562373095? : -0.9142135623730951? : 1),\n",
       " (1.914213562373095? : 1.914213562373095? : 1)]"
      ]
     },
     "execution_count": 4,
     "metadata": {},
     "output_type": "execute_result"
    }
   ],
   "source": [
    "X1.rational_points(F=QQbar)"
   ]
  },
  {
   "cell_type": "code",
   "execution_count": 5,
   "metadata": {},
   "outputs": [
    {
     "data": {
      "text/plain": [
       "[(-3/2 : -3/2 : 1),\n",
       " (-3/2 : -0.9142135623730951? : 1),\n",
       " (-3/2 : 1/2 : 1),\n",
       " (-3/2 : 1.914213562373095? : 1),\n",
       " (-0.9142135623730951? : -3/2 : 1),\n",
       " (-0.9142135623730951? : -0.9142135623730951? : 1),\n",
       " (-0.9142135623730951? : 1/2 : 1),\n",
       " (-0.9142135623730951? : 1.914213562373095? : 1),\n",
       " (-0.50000000000000000? - 0.866025403784439?*I : 1 : 0),\n",
       " (-0.50000000000000000? + 0.866025403784439?*I : 1 : 0),\n",
       " (0 : 1 : 0),\n",
       " (1/2 : -3/2 : 1),\n",
       " (1/2 : -0.9142135623730951? : 1),\n",
       " (1/2 : 1/2 : 1),\n",
       " (1/2 : 1.914213562373095? : 1),\n",
       " (1 : 0 : 0),\n",
       " (1 : 1 : 0),\n",
       " (1.914213562373095? : -3/2 : 1),\n",
       " (1.914213562373095? : -0.9142135623730951? : 1),\n",
       " (1.914213562373095? : 1/2 : 1),\n",
       " (1.914213562373095? : 1.914213562373095? : 1)]"
      ]
     },
     "execution_count": 5,
     "metadata": {},
     "output_type": "execute_result"
    }
   ],
   "source": [
    "f_2 = f.nth_iterate_map(2)\n",
    "X2 = P.subscheme([x*f_2[1] - y*f_2[0], x*f_2[2] - z*f_2[0], y*f_2[2] - z*(f_2[1])])\n",
    "QQbar_points = (X2.rational_points(F=QQbar))\n",
    "QQbar_points"
   ]
  },
  {
   "cell_type": "code",
   "execution_count": 6,
   "metadata": {},
   "outputs": [
    {
     "data": {
      "text/plain": [
       "[(-1/4*v^5 + 2*v^3 - 3*v + 1/2 : 1/4*v^5 - 2*v^3 + 3*v + 1/2 : 1),\n",
       " (1/2 : 1/4*v^5 - 2*v^3 + 3*v + 1/2 : 1),\n",
       " (1 : 0 : 0),\n",
       " (1/4*v^5 - 2*v^3 + 3*v + 1/2 : -3/2 : 1),\n",
       " (1/4*v^5 - 2*v^3 + 3*v + 1/2 : -1/4*v^5 + 2*v^3 - 3*v + 1/2 : 1),\n",
       " (1/4*v^5 - 2*v^3 + 3*v + 1/2 : 1/4*v^5 - 2*v^3 + 3*v + 1/2 : 1),\n",
       " (1/2 : -3/2 : 1),\n",
       " (-1/4*v^5 + 2*v^3 - 3*v + 1/2 : 1/2 : 1),\n",
       " (-3/2 : -1/4*v^5 + 2*v^3 - 3*v + 1/2 : 1),\n",
       " (-3/2 : 1/2 : 1),\n",
       " (-1/4*v^5 + 2*v^3 - 3*v + 1/2 : -1/4*v^5 + 2*v^3 - 3*v + 1/2 : 1),\n",
       " (1/2 : 1/2 : 1),\n",
       " (-1/4*v^5 + 2*v^3 - 3*v + 1/2 : -3/2 : 1),\n",
       " (1 : 1 : 0),\n",
       " (-3/2 : -3/2 : 1),\n",
       " (1/4*v^5 - 2*v^3 + 3*v + 1/2 : 1/2 : 1),\n",
       " (1/2 : -1/4*v^5 + 2*v^3 - 3*v + 1/2 : 1),\n",
       " (-3/2 : 1/4*v^5 - 2*v^3 + 3*v + 1/2 : 1),\n",
       " (0 : 1 : 0)]"
      ]
     },
     "execution_count": 6,
     "metadata": {},
     "output_type": "execute_result"
    }
   ],
   "source": [
    "rational_points = X2.rational_points()\n",
    "rational_points"
   ]
  },
  {
   "cell_type": "code",
   "execution_count": 8,
   "metadata": {},
   "outputs": [
    {
     "name": "stdout",
     "output_type": "stream",
     "text": [
      "(-0.50000000000000000? - 0.866025403784439?*I : 1 : 0)\n",
      "(-0.50000000000000000? + 0.866025403784439?*I : 1 : 0)\n"
     ]
    }
   ],
   "source": [
    "for point in QQbar_points:\n",
    "    rational = False\n",
    "    for rat_point in rational_points:\n",
    "        if phi(rat_point[0]) == point[0] and phi(rat_point[1]) == point[1] and phi(rat_point[2]) == point[2]:\n",
    "            rational = True\n",
    "    if not rational:\n",
    "        print(point)\n",
    "        periodic_point = point"
   ]
  },
  {
   "cell_type": "code",
   "execution_count": 147,
   "metadata": {},
   "outputs": [
    {
     "data": {
      "text/plain": [
       "True"
      ]
     },
     "execution_count": 147,
     "metadata": {},
     "output_type": "execute_result"
    }
   ],
   "source": [
    "K.is_totally_real()"
   ]
  },
  {
   "cell_type": "code",
   "execution_count": 151,
   "metadata": {},
   "outputs": [
    {
     "data": {
      "text/plain": [
       "(-0.50000000000000000? + 0.866025403784439?*I : 1 : 0)"
      ]
     },
     "execution_count": 151,
     "metadata": {},
     "output_type": "execute_result"
    }
   ],
   "source": [
    "f = f.change_ring(QQbar)\n",
    "f(f(periodic_point))"
   ]
  },
  {
   "cell_type": "code",
   "execution_count": 52,
   "metadata": {},
   "outputs": [
    {
     "data": {
      "text/plain": [
       "[(-3/2 : -3/2 : 1),\n",
       " (-3/2 : -0.9142135623730951? : 1),\n",
       " (-3/2 : 1/2 : 1),\n",
       " (-3/2 : 1.914213562373095? : 1),\n",
       " (-0.9142135623730951? : -3/2 : 1),\n",
       " (-0.9142135623730951? : -0.9142135623730951? : 1),\n",
       " (-0.9142135623730951? : 1/2 : 1),\n",
       " (-0.9142135623730951? : 1.914213562373095? : 1),\n",
       " (-0.50000000000000000? - 0.866025403784439?*I : 1 : 0),\n",
       " (-0.50000000000000000? + 0.866025403784439?*I : 1 : 0),\n",
       " (0 : 1 : 0),\n",
       " (1/2 : -3/2 : 1),\n",
       " (1/2 : -0.9142135623730951? : 1),\n",
       " (1/2 : 1/2 : 1),\n",
       " (1/2 : 1.914213562373095? : 1),\n",
       " (1 : 0 : 0),\n",
       " (1 : 1 : 0),\n",
       " (1.914213562373095? : -3/2 : 1),\n",
       " (1.914213562373095? : -0.9142135623730951? : 1),\n",
       " (1.914213562373095? : 1/2 : 1),\n",
       " (1.914213562373095? : 1.914213562373095? : 1)]"
      ]
     },
     "execution_count": 52,
     "metadata": {},
     "output_type": "execute_result"
    }
   ],
   "source": [
    "# show this to ben\n",
    "R.<x,y,z> = PolynomialRing(QQ,3)\n",
    "P = ProjectiveSpace(R)\n",
    "f = DynamicalSystem([x^2-7/4*z^2, y^2-7/4*z^2, z^2])\n",
    "f1 = f[0]\n",
    "f2 = f[1]\n",
    "f3 = f[2]\n",
    "X1 = P.subscheme([x*f2 - y*f1, x*f3 -z*f1, y*f3 - z*f2])\n",
    "f_2 = f.nth_iterate_map(2)\n",
    "X2 = P.subscheme([x*f_2[1] - y*f_2[0], x*f_2[2] - z*f_2[0], y*f_2[2] - z*(f_2[1])])\n",
    "QQbar_points = (X2.rational_points(F=QQbar))\n",
    "QQbar_points"
   ]
  },
  {
   "cell_type": "code",
   "execution_count": 50,
   "metadata": {},
   "outputs": [
    {
     "data": {
      "text/plain": [
       "[(-1/4*v^5 + 2*v^3 - 3*v + 1/2 : 1/4*v^5 - 2*v^3 + 3*v + 1/2 : 1),\n",
       " (1/2 : 1/4*v^5 - 2*v^3 + 3*v + 1/2 : 1),\n",
       " (1 : 0 : 0),\n",
       " (1/4*v^5 - 2*v^3 + 3*v + 1/2 : -3/2 : 1),\n",
       " (1/4*v^5 - 2*v^3 + 3*v + 1/2 : -1/4*v^5 + 2*v^3 - 3*v + 1/2 : 1),\n",
       " (1/4*v^5 - 2*v^3 + 3*v + 1/2 : 1/4*v^5 - 2*v^3 + 3*v + 1/2 : 1),\n",
       " (1/2 : -3/2 : 1),\n",
       " (-1/4*v^5 + 2*v^3 - 3*v + 1/2 : 1/2 : 1),\n",
       " (-3/2 : -1/4*v^5 + 2*v^3 - 3*v + 1/2 : 1),\n",
       " (-3/2 : 1/2 : 1),\n",
       " (-1/4*v^5 + 2*v^3 - 3*v + 1/2 : -1/4*v^5 + 2*v^3 - 3*v + 1/2 : 1),\n",
       " (1/2 : 1/2 : 1),\n",
       " (-1/4*v^5 + 2*v^3 - 3*v + 1/2 : -3/2 : 1),\n",
       " (1 : 1 : 0),\n",
       " (-3/2 : -3/2 : 1),\n",
       " (1/4*v^5 - 2*v^3 + 3*v + 1/2 : 1/2 : 1),\n",
       " (1/2 : -1/4*v^5 + 2*v^3 - 3*v + 1/2 : 1),\n",
       " (-3/2 : 1/4*v^5 - 2*v^3 + 3*v + 1/2 : 1),\n",
       " (0 : 1 : 0)]"
      ]
     },
     "execution_count": 50,
     "metadata": {},
     "output_type": "execute_result"
    }
   ],
   "source": [
    "# show this to ben\n",
    "R.<z1> = QQ[]\n",
    "h = z1^6 - 10*z1^4+ 24*z1^2 - 8\n",
    "K.<v> = NumberField(h)\n",
    "phi = K.embeddings(QQbar)[0]\n",
    "K.<v> = NumberField(h, embedding = phi(v))\n",
    "phi = K.embeddings(QQbar)[0]\n",
    "rational_points = X2.rational_points(F=K)\n",
    "rational_points"
   ]
  },
  {
   "cell_type": "code",
   "execution_count": 16,
   "metadata": {},
   "outputs": [
    {
     "name": "stdout",
     "output_type": "stream",
     "text": [
      "(-0.50000000000000000? - 0.866025403784439?*I : 1 : 0)\n",
      "(-0.50000000000000000? + 0.866025403784439?*I : 1 : 0)\n"
     ]
    }
   ],
   "source": [
    "# show this to ben\n",
    "for point in QQbar_points:\n",
    "    rational = False\n",
    "    for rat_point in rational_points:\n",
    "        if phi(rat_point[0]) == point[0] and phi(rat_point[1]) == point[1] and phi(rat_point[2]) == point[2]:\n",
    "            rational = True\n",
    "    if not rational:\n",
    "        print(point)\n",
    "        periodic_point = point"
   ]
  },
  {
   "cell_type": "code",
   "execution_count": 21,
   "metadata": {},
   "outputs": [
    {
     "data": {
      "text/plain": [
       "[(-3/2 : -3/2 : 1),\n",
       " (-3/2 : -0.9142135623730951? : 1),\n",
       " (-3/2 : 1/2 : 1),\n",
       " (-3/2 : 1.914213562373095? : 1),\n",
       " (-0.9142135623730951? : -3/2 : 1),\n",
       " (-0.9142135623730951? : 1/2 : 1),\n",
       " (-0.50000000000000000? - 0.866025403784439?*I : 1 : 0),\n",
       " (-0.50000000000000000? + 0.866025403784439?*I : 1 : 0),\n",
       " (1/2 : -3/2 : 1),\n",
       " (1/2 : -0.9142135623730951? : 1),\n",
       " (1/2 : 1/2 : 1),\n",
       " (1/2 : 1.914213562373095? : 1),\n",
       " (1.914213562373095? : -3/2 : 1),\n",
       " (1.914213562373095? : 1/2 : 1)]"
      ]
     },
     "execution_count": 21,
     "metadata": {},
     "output_type": "execute_result"
    }
   ],
   "source": [
    "l1 = X1.defining_ideal()\n",
    "l2 = X2.defining_ideal()\n",
    "l = l2.saturation(l1)[0]\n",
    "X3 = P.subscheme(l.gens())\n",
    "X3.rational_points(F=QQbar)"
   ]
  },
  {
   "cell_type": "code",
   "execution_count": 30,
   "metadata": {},
   "outputs": [],
   "source": [
    "X3.rational_points??"
   ]
  },
  {
   "cell_type": "code",
   "execution_count": 47,
   "metadata": {},
   "outputs": [
    {
     "data": {
      "text/plain": [
       "14"
      ]
     },
     "execution_count": 47,
     "metadata": {},
     "output_type": "execute_result"
    }
   ],
   "source": [
    "len(X3.base_extend(QQbar)(QQbar).points())"
   ]
  },
  {
   "cell_type": "code",
   "execution_count": 39,
   "metadata": {
    "scrolled": true
   },
   "outputs": [
    {
     "ename": "ValueError",
     "evalue": "base field and extension cannot have the same name 'h'",
     "output_type": "error",
     "traceback": [
      "\u001b[0;31m---------------------------------------------------------------------------\u001b[0m",
      "\u001b[0;31mValueError\u001b[0m                                Traceback (most recent call last)",
      "\u001b[0;32m<ipython-input-39-d070940d93f7>\u001b[0m in \u001b[0;36m<module>\u001b[0;34m\u001b[0m\n\u001b[0;32m----> 1\u001b[0;31m \u001b[0mK\u001b[0m \u001b[0;34m=\u001b[0m \u001b[0mK\u001b[0m\u001b[0;34m.\u001b[0m\u001b[0mextension\u001b[0m\u001b[0;34m(\u001b[0m\u001b[0mz1\u001b[0m\u001b[0;34m**\u001b[0m\u001b[0mInteger\u001b[0m\u001b[0;34m(\u001b[0m\u001b[0;36m2\u001b[0m\u001b[0;34m)\u001b[0m \u001b[0;34m+\u001b[0m \u001b[0mz1\u001b[0m \u001b[0;34m+\u001b[0m \u001b[0mInteger\u001b[0m\u001b[0;34m(\u001b[0m\u001b[0;36m1\u001b[0m\u001b[0;34m)\u001b[0m\u001b[0;34m,\u001b[0m \u001b[0mnames\u001b[0m\u001b[0;34m=\u001b[0m\u001b[0;34m(\u001b[0m\u001b[0;34m'h'\u001b[0m\u001b[0;34m,\u001b[0m\u001b[0;34m)\u001b[0m\u001b[0;34m)\u001b[0m\u001b[0;34m;\u001b[0m \u001b[0;34m(\u001b[0m\u001b[0mh\u001b[0m\u001b[0;34m,\u001b[0m\u001b[0;34m)\u001b[0m \u001b[0;34m=\u001b[0m \u001b[0mK\u001b[0m\u001b[0;34m.\u001b[0m\u001b[0m_first_ngens\u001b[0m\u001b[0;34m(\u001b[0m\u001b[0;36m1\u001b[0m\u001b[0;34m)\u001b[0m\u001b[0;34m\u001b[0m\u001b[0;34m\u001b[0m\u001b[0m\n\u001b[0m\u001b[1;32m      2\u001b[0m \u001b[0mK\u001b[0m\u001b[0;34m\u001b[0m\u001b[0;34m\u001b[0m\u001b[0m\n",
      "\u001b[0;32m~/Documents/Sage/sage/local/lib/python3.7/site-packages/sage/rings/number_field/number_field.py\u001b[0m in \u001b[0;36mextension\u001b[0;34m(self, poly, name, names, latex_name, latex_names, *args, **kwds)\u001b[0m\n\u001b[1;32m   5775\u001b[0m         \u001b[0;32mif\u001b[0m \u001b[0misinstance\u001b[0m\u001b[0;34m(\u001b[0m\u001b[0mlatex_name\u001b[0m\u001b[0;34m,\u001b[0m \u001b[0;34m(\u001b[0m\u001b[0mtuple\u001b[0m\u001b[0;34m,\u001b[0m \u001b[0mlist\u001b[0m\u001b[0;34m)\u001b[0m\u001b[0;34m)\u001b[0m\u001b[0;34m:\u001b[0m\u001b[0;34m\u001b[0m\u001b[0;34m\u001b[0m\u001b[0m\n\u001b[1;32m   5776\u001b[0m             \u001b[0mlatex_name\u001b[0m \u001b[0;34m=\u001b[0m \u001b[0mlatex_name\u001b[0m\u001b[0;34m[\u001b[0m\u001b[0;36m0\u001b[0m\u001b[0;34m]\u001b[0m\u001b[0;34m\u001b[0m\u001b[0;34m\u001b[0m\u001b[0m\n\u001b[0;32m-> 5777\u001b[0;31m         \u001b[0;32mreturn\u001b[0m \u001b[0mNumberField\u001b[0m\u001b[0;34m(\u001b[0m\u001b[0mpoly\u001b[0m\u001b[0;34m,\u001b[0m \u001b[0mname\u001b[0m\u001b[0;34m,\u001b[0m \u001b[0mlatex_name\u001b[0m\u001b[0;34m=\u001b[0m\u001b[0mlatex_name\u001b[0m\u001b[0;34m,\u001b[0m \u001b[0;34m*\u001b[0m\u001b[0margs\u001b[0m\u001b[0;34m,\u001b[0m \u001b[0;34m**\u001b[0m\u001b[0mkwds\u001b[0m\u001b[0;34m)\u001b[0m\u001b[0;34m\u001b[0m\u001b[0;34m\u001b[0m\u001b[0m\n\u001b[0m\u001b[1;32m   5778\u001b[0m \u001b[0;34m\u001b[0m\u001b[0m\n\u001b[1;32m   5779\u001b[0m     \u001b[0;32mdef\u001b[0m \u001b[0mfactor\u001b[0m\u001b[0;34m(\u001b[0m\u001b[0mself\u001b[0m\u001b[0;34m,\u001b[0m \u001b[0mn\u001b[0m\u001b[0;34m)\u001b[0m\u001b[0;34m:\u001b[0m\u001b[0;34m\u001b[0m\u001b[0;34m\u001b[0m\u001b[0m\n",
      "\u001b[0;32m~/Documents/Sage/sage/local/lib/python3.7/site-packages/sage/rings/number_field/number_field.py\u001b[0m in \u001b[0;36mNumberField\u001b[0;34m(polynomial, name, check, names, embedding, latex_name, assume_disc_small, maximize_at_primes, structure, latex_names, **kwds)\u001b[0m\n\u001b[1;32m    568\u001b[0m         \u001b[0;32mreturn\u001b[0m \u001b[0mNumberFieldTower\u001b[0m\u001b[0;34m(\u001b[0m\u001b[0mpolynomial\u001b[0m\u001b[0;34m,\u001b[0m \u001b[0mnames\u001b[0m\u001b[0;34m=\u001b[0m\u001b[0mname\u001b[0m\u001b[0;34m,\u001b[0m \u001b[0mcheck\u001b[0m\u001b[0;34m=\u001b[0m\u001b[0mcheck\u001b[0m\u001b[0;34m,\u001b[0m \u001b[0membeddings\u001b[0m\u001b[0;34m=\u001b[0m\u001b[0membedding\u001b[0m\u001b[0;34m,\u001b[0m \u001b[0mlatex_names\u001b[0m\u001b[0;34m=\u001b[0m\u001b[0mlatex_name\u001b[0m\u001b[0;34m,\u001b[0m \u001b[0massume_disc_small\u001b[0m\u001b[0;34m=\u001b[0m\u001b[0massume_disc_small\u001b[0m\u001b[0;34m,\u001b[0m \u001b[0mmaximize_at_primes\u001b[0m\u001b[0;34m=\u001b[0m\u001b[0mmaximize_at_primes\u001b[0m\u001b[0;34m,\u001b[0m \u001b[0mstructures\u001b[0m\u001b[0;34m=\u001b[0m\u001b[0mstructure\u001b[0m\u001b[0;34m)\u001b[0m\u001b[0;34m\u001b[0m\u001b[0;34m\u001b[0m\u001b[0m\n\u001b[1;32m    569\u001b[0m \u001b[0;34m\u001b[0m\u001b[0m\n\u001b[0;32m--> 570\u001b[0;31m     \u001b[0;32mreturn\u001b[0m \u001b[0mNumberField_version2\u001b[0m\u001b[0;34m(\u001b[0m\u001b[0mpolynomial\u001b[0m\u001b[0;34m=\u001b[0m\u001b[0mpolynomial\u001b[0m\u001b[0;34m,\u001b[0m \u001b[0mname\u001b[0m\u001b[0;34m=\u001b[0m\u001b[0mname\u001b[0m\u001b[0;34m,\u001b[0m \u001b[0mcheck\u001b[0m\u001b[0;34m=\u001b[0m\u001b[0mcheck\u001b[0m\u001b[0;34m,\u001b[0m \u001b[0membedding\u001b[0m\u001b[0;34m=\u001b[0m\u001b[0membedding\u001b[0m\u001b[0;34m,\u001b[0m \u001b[0mlatex_name\u001b[0m\u001b[0;34m=\u001b[0m\u001b[0mlatex_name\u001b[0m\u001b[0;34m,\u001b[0m \u001b[0massume_disc_small\u001b[0m\u001b[0;34m=\u001b[0m\u001b[0massume_disc_small\u001b[0m\u001b[0;34m,\u001b[0m \u001b[0mmaximize_at_primes\u001b[0m\u001b[0;34m=\u001b[0m\u001b[0mmaximize_at_primes\u001b[0m\u001b[0;34m,\u001b[0m \u001b[0mstructure\u001b[0m\u001b[0;34m=\u001b[0m\u001b[0mstructure\u001b[0m\u001b[0;34m)\u001b[0m\u001b[0;34m\u001b[0m\u001b[0;34m\u001b[0m\u001b[0m\n\u001b[0m\u001b[1;32m    571\u001b[0m \u001b[0;34m\u001b[0m\u001b[0m\n\u001b[1;32m    572\u001b[0m \u001b[0;32mclass\u001b[0m \u001b[0mNumberFieldFactory\u001b[0m\u001b[0;34m(\u001b[0m\u001b[0mUniqueFactory\u001b[0m\u001b[0;34m)\u001b[0m\u001b[0;34m:\u001b[0m\u001b[0;34m\u001b[0m\u001b[0;34m\u001b[0m\u001b[0m\n",
      "\u001b[0;32m~/Documents/Sage/sage/local/lib/python3.7/site-packages/sage/structure/factory.pyx\u001b[0m in \u001b[0;36msage.structure.factory.UniqueFactory.__call__ (build/cythonized/sage/structure/factory.c:2258)\u001b[0;34m()\u001b[0m\n\u001b[1;32m    367\u001b[0m         \u001b[0mkey\u001b[0m\u001b[0;34m,\u001b[0m \u001b[0mkwds\u001b[0m \u001b[0;34m=\u001b[0m \u001b[0mself\u001b[0m\u001b[0;34m.\u001b[0m\u001b[0mcreate_key_and_extra_args\u001b[0m\u001b[0;34m(\u001b[0m\u001b[0;34m*\u001b[0m\u001b[0margs\u001b[0m\u001b[0;34m,\u001b[0m \u001b[0;34m**\u001b[0m\u001b[0mkwds\u001b[0m\u001b[0;34m)\u001b[0m\u001b[0;34m\u001b[0m\u001b[0;34m\u001b[0m\u001b[0m\n\u001b[1;32m    368\u001b[0m         \u001b[0mversion\u001b[0m \u001b[0;34m=\u001b[0m \u001b[0mself\u001b[0m\u001b[0;34m.\u001b[0m\u001b[0mget_version\u001b[0m\u001b[0;34m(\u001b[0m\u001b[0msage_version\u001b[0m\u001b[0;34m)\u001b[0m\u001b[0;34m\u001b[0m\u001b[0;34m\u001b[0m\u001b[0m\n\u001b[0;32m--> 369\u001b[0;31m         \u001b[0;32mreturn\u001b[0m \u001b[0mself\u001b[0m\u001b[0;34m.\u001b[0m\u001b[0mget_object\u001b[0m\u001b[0;34m(\u001b[0m\u001b[0mversion\u001b[0m\u001b[0;34m,\u001b[0m \u001b[0mkey\u001b[0m\u001b[0;34m,\u001b[0m \u001b[0mkwds\u001b[0m\u001b[0;34m)\u001b[0m\u001b[0;34m\u001b[0m\u001b[0;34m\u001b[0m\u001b[0m\n\u001b[0m\u001b[1;32m    370\u001b[0m \u001b[0;34m\u001b[0m\u001b[0m\n\u001b[1;32m    371\u001b[0m     \u001b[0mcpdef\u001b[0m \u001b[0mget_object\u001b[0m\u001b[0;34m(\u001b[0m\u001b[0mself\u001b[0m\u001b[0;34m,\u001b[0m \u001b[0mversion\u001b[0m\u001b[0;34m,\u001b[0m \u001b[0mkey\u001b[0m\u001b[0;34m,\u001b[0m \u001b[0mextra_args\u001b[0m\u001b[0;34m)\u001b[0m\u001b[0;34m:\u001b[0m\u001b[0;34m\u001b[0m\u001b[0;34m\u001b[0m\u001b[0m\n",
      "\u001b[0;32m~/Documents/Sage/sage/local/lib/python3.7/site-packages/sage/structure/factory.pyx\u001b[0m in \u001b[0;36msage.structure.factory.UniqueFactory.get_object (build/cythonized/sage/structure/factory.c:2652)\u001b[0;34m()\u001b[0m\n\u001b[1;32m    410\u001b[0m         \u001b[0;32mexcept\u001b[0m \u001b[0mKeyError\u001b[0m\u001b[0;34m:\u001b[0m\u001b[0;34m\u001b[0m\u001b[0;34m\u001b[0m\u001b[0m\n\u001b[1;32m    411\u001b[0m             \u001b[0;32mpass\u001b[0m\u001b[0;34m\u001b[0m\u001b[0;34m\u001b[0m\u001b[0m\n\u001b[0;32m--> 412\u001b[0;31m         \u001b[0mobj\u001b[0m \u001b[0;34m=\u001b[0m \u001b[0mself\u001b[0m\u001b[0;34m.\u001b[0m\u001b[0mcreate_object\u001b[0m\u001b[0;34m(\u001b[0m\u001b[0mversion\u001b[0m\u001b[0;34m,\u001b[0m \u001b[0mkey\u001b[0m\u001b[0;34m,\u001b[0m \u001b[0;34m**\u001b[0m\u001b[0mextra_args\u001b[0m\u001b[0;34m)\u001b[0m\u001b[0;34m\u001b[0m\u001b[0;34m\u001b[0m\u001b[0m\n\u001b[0m\u001b[1;32m    413\u001b[0m         \u001b[0mself\u001b[0m\u001b[0;34m.\u001b[0m\u001b[0m_cache\u001b[0m\u001b[0;34m[\u001b[0m\u001b[0mversion\u001b[0m\u001b[0;34m,\u001b[0m \u001b[0mcache_key\u001b[0m\u001b[0;34m]\u001b[0m \u001b[0;34m=\u001b[0m \u001b[0mobj\u001b[0m\u001b[0;34m\u001b[0m\u001b[0;34m\u001b[0m\u001b[0m\n\u001b[1;32m    414\u001b[0m         \u001b[0;32mtry\u001b[0m\u001b[0;34m:\u001b[0m\u001b[0;34m\u001b[0m\u001b[0;34m\u001b[0m\u001b[0m\n",
      "\u001b[0;32m~/Documents/Sage/sage/local/lib/python3.7/site-packages/sage/rings/number_field/number_field.py\u001b[0m in \u001b[0;36mcreate_object\u001b[0;34m(self, version, key, check)\u001b[0m\n\u001b[1;32m    699\u001b[0m             return NumberField_relative(base, polynomial, name[0], latex_name,\n\u001b[1;32m    700\u001b[0m                                         \u001b[0mcheck\u001b[0m\u001b[0;34m=\u001b[0m\u001b[0mcheck\u001b[0m\u001b[0;34m,\u001b[0m \u001b[0membedding\u001b[0m\u001b[0;34m=\u001b[0m\u001b[0;32mNone\u001b[0m\u001b[0;34m,\u001b[0m\u001b[0;34m\u001b[0m\u001b[0;34m\u001b[0m\u001b[0m\n\u001b[0;32m--> 701\u001b[0;31m                                         structure=structure)\n\u001b[0m\u001b[1;32m    702\u001b[0m         \u001b[0;32mif\u001b[0m \u001b[0mpolynomial\u001b[0m\u001b[0;34m.\u001b[0m\u001b[0mdegree\u001b[0m\u001b[0;34m(\u001b[0m\u001b[0;34m)\u001b[0m \u001b[0;34m==\u001b[0m \u001b[0;36m2\u001b[0m\u001b[0;34m:\u001b[0m\u001b[0;34m\u001b[0m\u001b[0;34m\u001b[0m\u001b[0m\n\u001b[1;32m    703\u001b[0m             \u001b[0;32mreturn\u001b[0m \u001b[0mNumberField_quadratic\u001b[0m\u001b[0;34m(\u001b[0m\u001b[0mpolynomial\u001b[0m\u001b[0;34m,\u001b[0m \u001b[0mname\u001b[0m\u001b[0;34m,\u001b[0m \u001b[0mlatex_name\u001b[0m\u001b[0;34m,\u001b[0m \u001b[0mcheck\u001b[0m\u001b[0;34m,\u001b[0m \u001b[0membedding\u001b[0m\u001b[0;34m,\u001b[0m \u001b[0massume_disc_small\u001b[0m\u001b[0;34m=\u001b[0m\u001b[0massume_disc_small\u001b[0m\u001b[0;34m,\u001b[0m \u001b[0mmaximize_at_primes\u001b[0m\u001b[0;34m=\u001b[0m\u001b[0mmaximize_at_primes\u001b[0m\u001b[0;34m,\u001b[0m \u001b[0mstructure\u001b[0m\u001b[0;34m=\u001b[0m\u001b[0mstructure\u001b[0m\u001b[0;34m)\u001b[0m\u001b[0;34m\u001b[0m\u001b[0;34m\u001b[0m\u001b[0m\n",
      "\u001b[0;32m~/Documents/Sage/sage/local/lib/python3.7/site-packages/sage/rings/number_field/number_field_rel.py\u001b[0m in \u001b[0;36m__init__\u001b[0;34m(self, base, polynomial, name, latex_name, names, check, embedding, structure)\u001b[0m\n\u001b[1;32m    282\u001b[0m                 \u001b[0;32mraise\u001b[0m \u001b[0mTypeError\u001b[0m\u001b[0;34m(\u001b[0m\u001b[0;34m\"polynomial (=%r) must be a polynomial\"\u001b[0m \u001b[0;34m%\u001b[0m \u001b[0mpolynomial\u001b[0m\u001b[0;34m)\u001b[0m\u001b[0;34m\u001b[0m\u001b[0;34m\u001b[0m\u001b[0m\n\u001b[1;32m    283\u001b[0m         \u001b[0;32mif\u001b[0m \u001b[0mname\u001b[0m \u001b[0;34m==\u001b[0m \u001b[0mbase\u001b[0m\u001b[0;34m.\u001b[0m\u001b[0mvariable_name\u001b[0m\u001b[0;34m(\u001b[0m\u001b[0;34m)\u001b[0m\u001b[0;34m:\u001b[0m\u001b[0;34m\u001b[0m\u001b[0;34m\u001b[0m\u001b[0m\n\u001b[0;32m--> 284\u001b[0;31m             \u001b[0;32mraise\u001b[0m \u001b[0mValueError\u001b[0m\u001b[0;34m(\u001b[0m\u001b[0;34m\"base field and extension cannot have the same name %r\"\u001b[0m \u001b[0;34m%\u001b[0m \u001b[0mname\u001b[0m\u001b[0;34m)\u001b[0m\u001b[0;34m\u001b[0m\u001b[0;34m\u001b[0m\u001b[0m\n\u001b[0m\u001b[1;32m    285\u001b[0m         \u001b[0;32mif\u001b[0m \u001b[0mpolynomial\u001b[0m\u001b[0;34m.\u001b[0m\u001b[0mparent\u001b[0m\u001b[0;34m(\u001b[0m\u001b[0;34m)\u001b[0m\u001b[0;34m.\u001b[0m\u001b[0mbase_ring\u001b[0m\u001b[0;34m(\u001b[0m\u001b[0;34m)\u001b[0m \u001b[0;34m!=\u001b[0m \u001b[0mbase\u001b[0m\u001b[0;34m:\u001b[0m\u001b[0;34m\u001b[0m\u001b[0;34m\u001b[0m\u001b[0m\n\u001b[1;32m    286\u001b[0m             \u001b[0mpolynomial\u001b[0m \u001b[0;34m=\u001b[0m \u001b[0mpolynomial\u001b[0m\u001b[0;34m.\u001b[0m\u001b[0mchange_ring\u001b[0m\u001b[0;34m(\u001b[0m\u001b[0mbase\u001b[0m\u001b[0;34m)\u001b[0m\u001b[0;34m\u001b[0m\u001b[0;34m\u001b[0m\u001b[0m\n",
      "\u001b[0;31mValueError\u001b[0m: base field and extension cannot have the same name 'h'"
     ]
    }
   ],
   "source": [
    "K.<h> = K.extension(z1^2 + z1 + 1)"
   ]
  },
  {
   "cell_type": "code",
   "execution_count": 43,
   "metadata": {},
   "outputs": [
    {
     "data": {
      "text/plain": [
       "x^12 + 6*x^11 + x^10 - 50*x^9 - 32*x^8 + 238*x^7 + 237*x^6 - 398*x^5 - 244*x^4 + 586*x^3 + 685*x^2 + 266*x + 1063"
      ]
     },
     "execution_count": 43,
     "metadata": {},
     "output_type": "execute_result"
    }
   ],
   "source": [
    "K.absolute_polynomial()"
   ]
  },
  {
   "cell_type": "code",
   "execution_count": 133,
   "metadata": {},
   "outputs": [
    {
     "data": {
      "text/plain": [
       "'A.<a> = f.field_of_definition_periodic(n)\\nR = R.change_ring(A)\\nP = P.change_ring(A)\\nf = f.change_ring(A)'"
      ]
     },
     "execution_count": 133,
     "metadata": {},
     "output_type": "execute_result"
    }
   ],
   "source": [
    "\n",
    "m=1\n",
    "n=7\n",
    "R.<x,y>=PolynomialRing(QQ,2)\n",
    "P=ProjectiveSpace(R)\n",
    "f=DynamicalSystem_projective([x^3+6*x^2*y+x*y^2+5*y^3,y^3])\n",
    "\"\"\"A.<a> = f.field_of_definition_periodic(n)\n",
    "R = R.change_ring(A)\n",
    "P = P.change_ring(A)\n",
    "f = f.change_ring(A)\"\"\""
   ]
  },
  {
   "cell_type": "code",
   "execution_count": 134,
   "metadata": {},
   "outputs": [
    {
     "name": "stdout",
     "output_type": "stream",
     "text": [
      "3.79 s ± 40.8 ms per loop (mean ± std. dev. of 7 runs, 1 loop each)\n"
     ]
    }
   ],
   "source": [
    "%%timeit\n",
    "\n",
    "f.periodic_points(n, minimal=True)"
   ]
  },
  {
   "cell_type": "code",
   "execution_count": 135,
   "metadata": {
    "scrolled": true
   },
   "outputs": [
    {
     "name": "stdout",
     "output_type": "stream",
     "text": [
      "3.67 s ± 44.8 ms per loop (mean ± std. dev. of 7 runs, 1 loop each)\n"
     ]
    }
   ],
   "source": [
    "%%timeit\n",
    "\n",
    "\n",
    "\n",
    "Sn=[]\n",
    "for k in ZZ(n).divisors():\n",
    "    if ZZ(n/k).is_prime():\n",
    "        Sn.append(k)\n",
    "\n",
    "Ik = R.ideal(1)\n",
    "for k in Sn:\n",
    "    Ik *= f.periodic_points(k, return_scheme=True, minimal=False).defining_ideal()\n",
    "In = f.periodic_points(n, return_scheme=True, minimal=False).defining_ideal()\n",
    "I = In.saturation(Ik)[0]\n",
    "X = P.subscheme(I)\n",
    "X.rational_points()"
   ]
  },
  {
   "cell_type": "code",
   "execution_count": 62,
   "metadata": {},
   "outputs": [
    {
     "data": {
      "text/plain": [
       "x^2 - x*y + 2*y^2"
      ]
     },
     "execution_count": 62,
     "metadata": {},
     "output_type": "execute_result"
    }
   ],
   "source": [
    "m=1\n",
    "n=2\n",
    "\n",
    "Sn=[]\n",
    "for k in ZZ(n).divisors():\n",
    "    if ZZ(n/k).is_prime():\n",
    "        Sn.append(k)\n",
    "\n",
    "Ik = R.ideal(1)\n",
    "for k in Sn:\n",
    "    Ik *= f.preperiodic_points(m,k, return_scheme=True, minimal=False).defining_ideal()\n",
    "In = f.preperiodic_points(m,n, return_scheme=True, minimal=False).defining_ideal()\n",
    "Ik *= f.preperiodic_points(m-1,n, return_scheme=True, minimal=False).defining_ideal()\n",
    "\n",
    "I = In.saturation(Ik)[0]\n",
    "I.gen(0).factor()\n"
   ]
  },
  {
   "cell_type": "code",
   "execution_count": 2,
   "metadata": {},
   "outputs": [
    {
     "data": {
      "text/plain": [
       "x^2 - x*y + (c + 1)*y^2"
      ]
     },
     "execution_count": 2,
     "metadata": {},
     "output_type": "execute_result"
    }
   ],
   "source": [
    "S.<c,k>=QQ[]\n",
    "R.<x,y>=PolynomialRing(S,2)\n",
    "P=ProjectiveSpace(R)\n",
    "f=DynamicalSystem_projective([x^2+c*y^2,y^2])\n",
    "\n",
    "from sage.rings.polynomial.flatten import FlatteningMorphism\n",
    "phi = FlatteningMorphism(R)\n",
    "flatR = phi.codomain()\n",
    "\n",
    "m=1\n",
    "n=2\n",
    "\n",
    "Sn=[]\n",
    "for k in ZZ(n).divisors():\n",
    "    if ZZ(n/k).is_prime():\n",
    "        Sn.append(k)\n",
    "\n",
    "Ik = flatR.ideal(1)\n",
    "for k in Sn:\n",
    "    Ik *= flatR.ideal([phi(G) for G in f.preperiodic_points(m,k, return_scheme=True, minimal=False).defining_polynomials()])\n",
    "\n",
    "Ik *= flatR.ideal([phi(G) for G in f.preperiodic_points(m-1,n, return_scheme=True, minimal=False).defining_polynomials()])\n",
    "\n",
    "In = flatR.ideal([phi(G) for G in f.preperiodic_points(m,n, return_scheme=True, minimal=False).defining_polynomials()])\n",
    "Imn = In.saturation(Ik)[0]\n",
    "Imn.gen(0)\n",
    "from sage.rings.polynomial.flatten import UnflatteningMorphism\n",
    "psi = UnflatteningMorphism(flatR, R)\n",
    "psi(Imn.gen(0))\n"
   ]
  },
  {
   "cell_type": "code",
   "execution_count": 5,
   "metadata": {},
   "outputs": [],
   "source": [
    "X = P.subscheme(Imn.gen(0))"
   ]
  },
  {
   "cell_type": "code",
   "execution_count": 11,
   "metadata": {},
   "outputs": [
    {
     "data": {
      "text/plain": [
       "[c*y^2 + x^2 - x*y + y^2]"
      ]
     },
     "execution_count": 11,
     "metadata": {},
     "output_type": "execute_result"
    }
   ],
   "source": [
    "Imn.gens()"
   ]
  },
  {
   "cell_type": "code",
   "execution_count": null,
   "metadata": {},
   "outputs": [],
   "source": []
  }
 ],
 "metadata": {
  "kernelspec": {
   "display_name": "SageMath 9.4.beta3",
   "language": "sage",
   "name": "sagemath"
  },
  "language_info": {
   "codemirror_mode": {
    "name": "ipython",
    "version": 3
   },
   "file_extension": ".py",
   "mimetype": "text/x-python",
   "name": "python",
   "nbconvert_exporter": "python",
   "pygments_lexer": "ipython3",
   "version": "3.8.10"
  }
 },
 "nbformat": 4,
 "nbformat_minor": 4
}
