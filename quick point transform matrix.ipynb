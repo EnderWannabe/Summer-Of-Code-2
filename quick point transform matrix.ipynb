{
 "cells": [
  {
   "cell_type": "code",
   "execution_count": 17,
   "metadata": {},
   "outputs": [],
   "source": [
    "def fast_point_matrix(self, source, target):\n",
    "    N = self.dimension_relative()\n",
    "    def get_matrix(S):    \n",
    "        a = matrix(N+1, N+1, [S[j][i] for i in range(N+1) for j in range(N+1)])\n",
    "        b = matrix(N+1, 1, list(S[N+1]))\n",
    "        X = a.solve_right(b)\n",
    "        m = matrix(N+1, N+1, [X[i,0]*S[i][j] for i in range(N+1) for j in range(N+1)])\n",
    "        m = m.transpose()\n",
    "        return m\n",
    "    \n",
    "    m_source = get_matrix(source)\n",
    "    m_target = get_matrix(target)\n",
    "    return m_target*m_source.inverse()"
   ]
  },
  {
   "cell_type": "code",
   "execution_count": 15,
   "metadata": {},
   "outputs": [
    {
     "data": {
      "text/plain": [
       "[1 0 0 0]\n",
       "[0 1 0 0]\n",
       "[0 0 1 0]\n",
       "[1 1 1 1]"
      ]
     },
     "execution_count": 15,
     "metadata": {},
     "output_type": "execute_result"
    }
   ],
   "source": [
    "T = matrix.identity(4)\n",
    "T.set_row(3, ([1,1,1,1]))\n",
    "T"
   ]
  },
  {
   "cell_type": "code",
   "execution_count": 27,
   "metadata": {},
   "outputs": [
    {
     "data": {
      "text/plain": [
       "[ -13/59 -128/59  -25/59]\n",
       "[538/177    8/59  26/177]\n",
       "[ -45/59 -196/59       1]"
      ]
     },
     "execution_count": 27,
     "metadata": {},
     "output_type": "execute_result"
    }
   ],
   "source": [
    "P1.<a,b,c>=ProjectiveSpace(QQbar, 2)\n",
    "points_source=[P1([1,4,1]),P1([1,2,2]),P1([3,5,1]),P1([1,-1,1])]\n",
    "points_target=[P1([5,-2,7]),P1([3,-2,3]),P1([6,-5,9]), P1([3,6,7])]\n",
    "m = fast_point_matrix(P1, points_source, points_target)\n",
    "m*210/59"
   ]
  },
  {
   "cell_type": "code",
   "execution_count": 28,
   "metadata": {},
   "outputs": [
    {
     "data": {
      "text/plain": [
       "[ -13/59 -128/59  -25/59]\n",
       "[538/177    8/59  26/177]\n",
       "[ -45/59 -196/59       1]"
      ]
     },
     "execution_count": 28,
     "metadata": {},
     "output_type": "execute_result"
    }
   ],
   "source": [
    "P1.point_transformation_matrix(points_source, points_target)"
   ]
  },
  {
   "cell_type": "code",
   "execution_count": null,
   "metadata": {},
   "outputs": [],
   "source": []
  }
 ],
 "metadata": {
  "kernelspec": {
   "display_name": "SageMath 9.4.beta0",
   "language": "sage",
   "name": "sagemath"
  },
  "language_info": {
   "codemirror_mode": {
    "name": "ipython",
    "version": 3
   },
   "file_extension": ".py",
   "mimetype": "text/x-python",
   "name": "python",
   "nbconvert_exporter": "python",
   "pygments_lexer": "ipython3",
   "version": "3.9.2"
  }
 },
 "nbformat": 4,
 "nbformat_minor": 4
}
