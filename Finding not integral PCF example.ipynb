{
 "cells": [
  {
   "cell_type": "code",
   "execution_count": 327,
   "metadata": {
    "scrolled": false
   },
   "outputs": [
    {
     "name": "stdout",
     "output_type": "stream",
     "text": [
      "(-3)*z^4 + 4*z^3\n",
      "(847288609443) * c^5 * (c^20 - 31/3*c^19 + 142/3*c^18 - 3406/27*c^17 + 17569/81*c^16 - 20741/81*c^15 + 18232/81*c^14 - 13832/81*c^13 + 30838/243*c^12 - 20926/243*c^11 + 1306/27*c^10 - 6070/243*c^9 + 3136/243*c^8 - 436/81*c^7 + 148/81*c^6 - 20/27*c^5 + 17/81*c^4 - 7/243*c^3 + 4/243*c^2 + 1/243) * (c^60 - 53/3*c^59 + 1291/9*c^58 - 19115/27*c^57 + 192541/81*c^56 - 1416170/243*c^55 + 8224108/729*c^54 - 42425666/2187*c^53 + 218375320/6561*c^52 - 1116971815/19683*c^51 + 5187280301/59049*c^50 - 21201128329/177147*c^49 + 81540808703/531441*c^48 - 316911710686/1594323*c^47 + 1189566704072/4782969*c^46 - 3939415363852/14348907*c^45 + 11571799856174/43046721*c^44 - 34191070897873/129140163*c^43 + 36422121262069/129140163*c^42 - 12486917763565/43046721*c^41 + 33668453232091/129140163*c^40 - 83003064903764/387420489*c^39 + 23141195172397/129140163*c^38 - 720445769116/4782969*c^37 + 44952360205379/387420489*c^36 - 95881216532947/1162261467*c^35 + 68850979142468/1162261467*c^34 - 49714579162267/1162261467*c^33 + 11034547699124/387420489*c^32 - 20536928597608/1162261467*c^31 + 12956589489830/1162261467*c^30 - 8119411349488/1162261467*c^29 + 4624615135610/1162261467*c^28 - 2489377032631/1162261467*c^27 + 1389841695353/1162261467*c^26 - 747353254213/1162261467*c^25 + 352693370525/1162261467*c^24 - 162457900546/1162261467*c^23 + 79012139852/1162261467*c^22 - 3675947542/129140163*c^21 + 10829244034/1162261467*c^20 - 3791436829/1162261467*c^19 + 1291211245/1162261467*c^18 + 412706/387420489*c^17 - 227134516/1162261467*c^16 + 102329060/1162261467*c^15 - 56328736/1162261467*c^14 + 38807816/1162261467*c^13 - 14411870/1162261467*c^12 + 857975/387420489*c^11 - 724879/1162261467*c^10 + 97627/387420489*c^9 + 76759/1162261467*c^8 - 3382/43046721*c^7 + 3241/129140163*c^6 - 100/14348907*c^5 + 41/14348907*c^4 - 13/14348907*c^3 + 4/43046721*c^2 + 1/14348907)\n"
     ]
    }
   ],
   "source": [
    "R.<a,c> = QQ[]\n",
    "A.<z> = AffineSpace(R,1)\n",
    "d=4 #specify d and k\n",
    "k=1\n",
    "B=0\n",
    "for i in range(0,k+1):\n",
    "     b = ((-1)**(k-i))\n",
    "     J=1\n",
    "     for j in range(0,k+1):\n",
    "         if j!=i:\n",
    "             J *= (d-j)*(1/(factorial(k-i)*factorial(i)))\n",
    "     B += b*J*z**(d-i)\n",
    "print(B)\n",
    "f = DynamicalSystem_affine(a*B+c)\n",
    "zero_iterate = 0\n",
    "one_iterate = 1\n",
    "for i in range(3): # force 0 to be periodic. change number in loop for different period\n",
    "    zero_iterate = f(zero_iterate)[0]\n",
    "for i in range(2): # force 1 to be periodic. change number in loop for different period\n",
    "    one_iterate = f(one_iterate)[0]\n",
    "one_equation = one_iterate - 1\n",
    "zero_equation = zero_iterate\n",
    "res = zero_equation.resultant(one_equation).univariate_polynomial()\n",
    "factors = res.factor()\n",
    "print(factors)"
   ]
  },
  {
   "cell_type": "code",
   "execution_count": 325,
   "metadata": {},
   "outputs": [
    {
     "data": {
      "text/plain": [
       "c^20 - 31/3*c^19 + 142/3*c^18 - 3406/27*c^17 + 17569/81*c^16 - 20741/81*c^15 + 18232/81*c^14 - 13832/81*c^13 + 30838/243*c^12 - 20926/243*c^11 + 1306/27*c^10 - 6070/243*c^9 + 3136/243*c^8 - 436/81*c^7 + 148/81*c^6 - 20/27*c^5 + 17/81*c^4 - 7/243*c^3 + 4/243*c^2 + 1/243"
      ]
     },
     "execution_count": 325,
     "metadata": {},
     "output_type": "execute_result"
    }
   ],
   "source": [
    "#specify the prime(s) which we can reduce by \n",
    "#all primes must be greater than k+1, must reduce B to a monomial\n",
    "primes_list = [3]\n",
    "#choose an irreducible factor by changing first index\n",
    "irr = factors[1][0]\n",
    "irr"
   ]
  },
  {
   "cell_type": "code",
   "execution_count": 326,
   "metadata": {
    "scrolled": false
   },
   "outputs": [
    {
     "data": {
      "text/plain": [
       "True"
      ]
     },
     "execution_count": 326,
     "metadata": {},
     "output_type": "execute_result"
    }
   ],
   "source": [
    "D.<a1> = irr.root_field()\n",
    "check = zero_equation(a,a1).univariate_polynomial()\n",
    "other_root = check.roots()[0][0]\n",
    "C.<z1> = AffineSpace(D,1)\n",
    "B=0 # need to find B again\n",
    "for i in range(0,k+1):\n",
    "     b = ((-1)**(k-i))\n",
    "     J=1\n",
    "     for j in range(0,k+1):\n",
    "         if j!=i:\n",
    "             J *= (d-j)*(1/(factorial(k-i)*factorial(i)))\n",
    "     B += b*J*z1**(d-i)\n",
    "g = DynamicalSystem_affine(other_root*B + a1)\n",
    "good_reduction = False\n",
    "for QQ_prime in primes_list:\n",
    "    primes_above = D.primes_above(QQ_prime)\n",
    "    #print('primes_above =', primes_above)\n",
    "    for prime in primes_above:\n",
    "        #print('a val p =', other_root.valuation(prime))\n",
    "        #print('c val p =', a1.valuation(prime))\n",
    "        good_prime = True\n",
    "        if other_root.valuation(prime) < 0 or a1.valuation(prime) < 0:\n",
    "            good_prime = False\n",
    "        good_reduction = good_reduction or good_prime\n",
    "good_reduction # if False, found a counterexample"
   ]
  },
  {
   "cell_type": "code",
   "execution_count": null,
   "metadata": {},
   "outputs": [],
   "source": []
  }
 ],
 "metadata": {
  "kernelspec": {
   "display_name": "SageMath 9.4.beta0",
   "language": "sage",
   "name": "sagemath"
  },
  "language_info": {
   "codemirror_mode": {
    "name": "ipython",
    "version": 3
   },
   "file_extension": ".py",
   "mimetype": "text/x-python",
   "name": "python",
   "nbconvert_exporter": "python",
   "pygments_lexer": "ipython3",
   "version": "3.7.3"
  }
 },
 "nbformat": 4,
 "nbformat_minor": 4
}
